{
 "cells": [
  {
   "cell_type": "markdown",
   "metadata": {},
   "source": [
    "# ECE 447: Multi-input / Multi-output\n",
    "\n",
    "Eric Klavins|\n",
    "\n",
    "Copyright &copy; University of Washington, 2019"
   ]
  },
  {
   "cell_type": "markdown",
   "metadata": {
    "heading_collapsed": true
   },
   "source": [
    "# Code"
   ]
  },
  {
   "cell_type": "code",
   "execution_count": 117,
   "metadata": {
    "collapsed": true,
    "hidden": true
   },
   "outputs": [],
   "source": [
    "import numpy as np\n",
    "import scipy.integrate as spi\n",
    "import matplotlib.pyplot as plt\n",
    "import matplotlib.patches as patches\n",
    "from sympy import *\n",
    "from matplotlib import animation\n",
    "\n",
    "# Uncomment on Google colab\n",
    "# !pip install JSAnimation\n",
    "# !pip install control\n",
    "\n",
    "from JSAnimation.IPython_display import display_animation\n",
    "from control import * \n",
    "\n",
    "%matplotlib inline\n",
    "\n",
    "# Comment out in Google colab \n",
    "init_printing(use_latex='mathjax')\n",
    "\n",
    "# Uncomment in below Google colab to render sympy equations nicely\n",
    "# def custom_latex_printer(exp,**options):\n",
    "#     from google.colab.output._publish import javascript\n",
    "#     url = \"https://cdnjs.cloudflare.com/ajax/libs/mathjax/2.7.3/latest.js?config=default\"\n",
    "#     javascript(url=url)\n",
    "#     return printing.latex(exp,**options)"
   ]
  },
  {
   "cell_type": "markdown",
   "metadata": {
    "heading_collapsed": true
   },
   "source": [
    "# MIMO for Transfer Functions"
   ]
  },
  {
   "cell_type": "markdown",
   "metadata": {
    "hidden": true
   },
   "source": [
    "In MIMO systems, transfer functions are arranged into matrices. You can't avoid linear algebra!\n",
    "\n",
    "Example\n",
    "---\n",
    "\n",
    "As an example, suppose we have the following system\n",
    "\n",
    "<img width=75% src=\"https://raw.githubusercontent.com/klavins/ECE447/master/images/mimo-tf.png\" style=\"transform: rotate(2deg)\">\n",
    "\n",
    "By following the wires, we can write down relationships betweens the inputs, outputs, and blocks. For the first output:\n",
    "\n",
    "\\begin{align}\n",
    "Y_1 & = G_1 G_2 U_1 + G_4 ( G_1 U_1 + G_3 U_2 ) \\\\\n",
    "    & = ( G_1 G_2 + G_1 G_4 ) U_1 + G_3 G_4 U_2\n",
    "\\end{align}\n",
    "\n",
    "And for the second output:\n",
    "\n",
    "\\begin{align}\n",
    "Y_2 & = G_4 ( G_1 U_1 + G_3 U_2 ) \\\\\n",
    "    & = G_1 G_4 U_1 + G_3 G_4 U_2 \n",
    "\\end{align}\n",
    "\n",
    "Systems of linear equations are always more convenient in matrix form:\n",
    "\n",
    "\\begin{align}\n",
    "{\\bf Y}(s) & = \\begin{pmatrix}\n",
    "G_1(s) G_2(s) + G_1(s) G_4(s) & G_3(s) G_4(s) \\\\\n",
    "G_1(s) G_4(s) & G_3(s) G_4(s) \n",
    "\\end{pmatrix} {\\bf U}(s) \\\\\n",
    " & = {\\bf T}(s) {\\bf U}(s)\n",
    "\\end{align}\n",
    "\n",
    "The only thing you can't do is write $Y(s) / U(s)$ for vectors of transfer functions. \n",
    "\n",
    "Composition\n",
    "---\n",
    "\n",
    "Compositions go through as usual, as long as the size of the matrices are compatible.\n",
    "\n",
    "**Series:**\n",
    "\n",
    "<img width=65% src=\"https://raw.githubusercontent.com/klavins/ECE447/master/images/mimo-series.png\">\n",
    "\n",
    "- $G_1$ is $m \\times n$\n",
    "- $G_2$ is $p \\times m$\n",
    "- $G_1 G_2$ is $p \\times n$\n",
    "\n",
    "Note that the composition $G_1 G_2$ is just matrix multiplication.\n",
    "\n",
    "**Feedback:**\n",
    "\n",
    "<img width=55% src=\"https://raw.githubusercontent.com/klavins/ECE447/master/images/mimo-fb.png\">\n",
    "\n",
    "In the feedback case, we have\n",
    "\n",
    "$$\n",
    "Y = GE = G(U-Y) = GU-GY\n",
    "$$\n",
    "\n",
    "Therefore, \n",
    "\n",
    "\\begin{align}\n",
    "Y+GY & = GU \\\\\n",
    "(I+G)Y & = GU \\\\ \n",
    "Y & = (I+G)^{-1}GU\n",
    "\\end{align}\n",
    "\n",
    "Assuming $I+G$ is invertible."
   ]
  },
  {
   "cell_type": "markdown",
   "metadata": {},
   "source": [
    "# MIMO in State Space"
   ]
  },
  {
   "cell_type": "markdown",
   "metadata": {},
   "source": [
    "In state space, MIMO is very natural and requires essentially no new notation. You just have to make sure the dimensions line up.\n",
    "\n",
    "<img width=70% src=\"https://raw.githubusercontent.com/klavins/ECE447/master/images/mino-ss1.png\">\n",
    "\n",
    "The transfer function is a matrix (as we showed above):\n",
    "\n",
    "<img width=65% src=\"https://raw.githubusercontent.com/klavins/ECE447/master/images/mimo-ss2.png\">"
   ]
  },
  {
   "cell_type": "markdown",
   "metadata": {
    "heading_collapsed": true
   },
   "source": [
    "# The Observer as MIMO"
   ]
  },
  {
   "cell_type": "markdown",
   "metadata": {
    "hidden": true
   },
   "source": [
    "The observer we designed in the previous notebook takes $y$ and $u$ as inputs and outputs $\\hat{\\x}$. Thus it is a two input, $n$ output system. \n",
    "\n",
    "Before we talked about MIMO, we denoted the observer by:\n",
    "\n",
    "\\begin{align}\n",
    "\\dot{\\hat{\\x}} & = A \\hat{\\x} + B u + L(y - \\hat{y}) \\\\\n",
    "\\hat{y} & = C \\hat{\\x}\n",
    "\\end{align}\n",
    "\n",
    "Now we can write\n",
    "\n",
    "\\begin{align}\n",
    "\\dot{\\hat{\\x}} & = (A-LC) \\hat{\\x} + \\begin{pmatrix}\n",
    "B & L \n",
    "\\end{pmatrix} \\begin{pmatrix}\n",
    "u \\\\\n",
    "y\n",
    "\\end{pmatrix}\\\\\n",
    "\\hat{y} & = C \\hat{\\x}\n",
    "\\end{align}"
   ]
  },
  {
   "cell_type": "markdown",
   "metadata": {},
   "source": [
    "# Full State Feedback with an Observer"
   ]
  },
  {
   "cell_type": "markdown",
   "metadata": {},
   "source": [
    "As a reminder, full state feedback requires the state of a linear system, which is not always available. But with an observer, you can supply the estimate of the full state to the control. Thus, we have the equations:\n",
    "\n",
    "\\begin{align}\n",
    "\\dot{\\x} & = A \\x + B u \\\\\n",
    "y & = C \\x \\\\\n",
    " \\\\\n",
    "\\dot{\\hat{\\x}} & = A \\hat{\\x} + B u + L(y - \\hat{y}) \\\\\n",
    "\\hat{y} & = C \\hat{\\x} \\\\\n",
    " \\\\\n",
    "u & = -K \\hat{\\x} + r\n",
    "\\end{align}\n",
    "\n",
    "Remembering that $y = C\\x$ and $\\hat{y} = C \\hat{\\x}$ we get\n",
    "\n",
    "\\begin{align}\n",
    "\\begin{pmatrix}\n",
    "\\dot{\\x} \\\\\n",
    "\\dot{\\hat{\\x}}\n",
    "\\end{pmatrix} & = \n",
    "\\begin{pmatrix}\n",
    "A & -BK \\\\\n",
    "LC & A - BK - LC\n",
    "\\end{pmatrix} \\begin{pmatrix}\n",
    "\\x \\\\\n",
    "\\hat{\\x}\n",
    "\\end{pmatrix} + \\begin{pmatrix}\n",
    "B \\\\\n",
    "B\n",
    "\\end{pmatrix} r \\\\\n",
    "y & = ( \\; C \\;  0 \\; ) \\; \\begin{pmatrix}\n",
    "\\x \\\\\n",
    "\\hat{\\x}\n",
    "\\end{pmatrix}\n",
    "\\end{align}\n",
    "\n",
    "So a system combing an observer and full state feedback is just another linear system. However, it is not clear that this new system is stable or what its eigenvalues are, and so on.\n",
    "\n",
    "Let's define\n",
    "\n",
    "$$\n",
    "\\tilde A \\triangleq \\begin{pmatrix}\n",
    "A & -BK \\\\\n",
    "LC & A - BK - LC\n",
    "\\end{pmatrix} \n",
    "$$.\n",
    "\n",
    "**Property 1: Eigenvalues of $A-BK$ are also eigenvalues of $\\tilde A$**:\n",
    "\n",
    "Suppose $(A-BK) {\\bf v} = \\lambda {\\bf v}$. Then\n",
    "\n",
    "\\begin{align}\n",
    "\\begin{pmatrix}\n",
    "A & -BK \\\\\n",
    "LC & A - BK - LC\n",
    "\\end{pmatrix} \\begin{pmatrix}\n",
    "{\\bf v} \\\\\n",
    "{\\bf v}\n",
    "\\end{pmatrix} & = \\begin{pmatrix}\n",
    "A{\\bf v} - BK{\\bf v} \\\\\n",
    "LC{\\bf v} - (A - BK - LC) {\\bf v} \\\\\n",
    "\\end{pmatrix} \\\\\n",
    "& = \\begin{pmatrix}\n",
    "(A - BK){\\bf v} \\\\\n",
    "(A - BK){\\bf v}\n",
    "\\end{pmatrix}  \\\\\n",
    "& = \\lambda \\begin{pmatrix}\n",
    "{\\bf v} \\\\\n",
    "{\\bf v}\n",
    "\\end{pmatrix} .\n",
    "\\end{align}\n",
    "\n",
    "**Property 2: Eigenvalues of $A-LC$ are also eigenvalues of $\\tilde A$**:\n",
    "\n",
    "Suppose $w^T(A-LC) = \\rho w^T$. In this case, $w$ is a *left eigenvector* and $\\rho$ is an plain eigenvalue. Then\n",
    "\n",
    "\\begin{align}\n",
    "\\begin{pmatrix}\n",
    "w^T & - w^T\n",
    "\\end{pmatrix} \\begin{pmatrix}\n",
    "A & -BK \\\\\n",
    "LC & A - BK - LC\n",
    "\\end{pmatrix} & = \\begin{pmatrix}\n",
    "w^T(A-LC) &  w^T(A-LC) \n",
    "\\end{pmatrix}  \\\\\n",
    " & = \\rho \\begin{pmatrix}\n",
    "w^T & - w^T\n",
    "\\end{pmatrix} . \n",
    "\\end{align}\n",
    "\n",
    "**The Point:** You can design $K$ and $L$ completely separately, using $K$ to set $n$ of the poles of the entire system, and $L$ to design the other $n$ poles.\n",
    "\n",
    "Example\n",
    "---"
   ]
  },
  {
   "cell_type": "code",
   "execution_count": 147,
   "metadata": {},
   "outputs": [
    {
     "data": {
      "text/latex": [
       "$$\\left ( \\left[\\begin{matrix}-0.097 & 0.49 & -27.0\\end{matrix}\\right], \\quad \\left[\\begin{matrix}90.0\\\\-2.0 \\cdot 10^{3}\\\\-30.0\\end{matrix}\\right]\\right )$$"
      ],
      "text/plain": [
       "⎛[-0.097  0.49  -27.0], ⎡ 90.0  ⎤⎞\n",
       "⎜                       ⎢       ⎥⎟\n",
       "⎜                       ⎢-2.0e+3⎥⎟\n",
       "⎜                       ⎢       ⎥⎟\n",
       "⎝                       ⎣ -30.0 ⎦⎠"
      ]
     },
     "execution_count": 147,
     "metadata": {},
     "output_type": "execute_result"
    }
   ],
   "source": [
    "A = Matrix([\n",
    "    [0,-1,0],\n",
    "    [3,0,-72],\n",
    "    [0,0.5,-30]])\n",
    "\n",
    "B = Matrix([\n",
    "    [0],\n",
    "    [0],\n",
    "    [1]\n",
    "])\n",
    "\n",
    "C = Matrix([[1,0,0]])\n",
    "\n",
    "An = np.array(A).astype(np.float64)\n",
    "Bn = np.array(B).astype(np.float64)\n",
    "Cn = np.array(C).astype(np.float64)\n",
    "\n",
    "K = Matrix(place(An,Bn,[-1,-1+1*1j,-1-1*1j]))\n",
    "\n",
    "L = Matrix(np.transpose(\n",
    "        place(np.transpose(An),np.transpose(Cn), [-30,-40,-50]))\n",
    "    )\n",
    "N(K,2),N(L,2)"
   ]
  },
  {
   "cell_type": "code",
   "execution_count": 148,
   "metadata": {},
   "outputs": [
    {
     "data": {
      "image/png": "[encoded data removed]",
      "text/plain": [
       "<Figure size 1080x360 with 3 Axes>"
      ]
     },
     "metadata": {},
     "output_type": "display_data"
    }
   ],
   "source": [
    "def input(t):\n",
    "    if t < 10:\n",
    "        return 1\n",
    "    elif t < 20:\n",
    "        return 0\n",
    "    else:\n",
    "        return 1\n",
    "    \n",
    "def f(X,t):\n",
    "    x = X[:3]\n",
    "    xhat = X[3:6]\n",
    "    u = -(K*Matrix(xhat))[0] + input(t)\n",
    "    fb = L * ( C*x - C*xhat )\n",
    "    return flatten(\n",
    "        (A*Matrix(x) + B*u).tolist() + \n",
    "        (A*Matrix(xhat) + B*u + fb).tolist())\n",
    "\n",
    "t=np.linspace(0,30,100)\n",
    "X = spi.odeint(f,[1,1,1,0,0,0],t)\n",
    "fig,ax = plt.subplots(1,3,figsize=(15,5))\n",
    "\n",
    "for i in range(3):\n",
    "    ax[i].plot(t,X[:,i],label=\"$x_%d$\" % (i+1))\n",
    "    ax[i].plot(t,X[:,3+i],label=\"$\\hat{x}_%d$\" % (i+1));\n",
    "    ax[i].set_xlabel(\"$t$\")\n",
    "    ax[i].legend()\n",
    "    \n",
    "ax[0].set_ylabel(\"state\");"
   ]
  },
  {
   "cell_type": "code",
   "execution_count": 141,
   "metadata": {},
   "outputs": [
    {
     "data": {
      "text/latex": [
       "$$\\left[\\begin{matrix}0 & -1.0 & 0 & 0 & 0 & 0\\\\3.0 & 0 & -72.0 & 0 & 0 & 0\\\\0 & 0.5 & -30.0 & 0.097 & -0.49 & 27.0\\\\3.0 & 0 & 0 & -3.0 & -1.0 & 0\\\\-2.3 \\cdot 10^{2} & 0 & 0 & 2.4 \\cdot 10^{2} & 0 & -72.0\\\\-82.0 & 0 & 0 & 82.0 & 0.014 & -3.0\\end{matrix}\\right]$$"
      ],
      "text/plain": [
       "⎡   0     -1.0    0      0       0      0  ⎤\n",
       "⎢                                          ⎥\n",
       "⎢  3.0     0    -72.0    0       0      0  ⎥\n",
       "⎢                                          ⎥\n",
       "⎢   0     0.5   -30.0  0.097   -0.49  27.0 ⎥\n",
       "⎢                                          ⎥\n",
       "⎢  3.0     0      0     -3.0   -1.0     0  ⎥\n",
       "⎢                                          ⎥\n",
       "⎢-2.3e+2   0      0    2.4e+2    0    -72.0⎥\n",
       "⎢                                          ⎥\n",
       "⎣ -82.0    0      0     82.0   0.014  -3.0 ⎦"
      ]
     },
     "execution_count": 141,
     "metadata": {},
     "output_type": "execute_result"
    }
   ],
   "source": [
    "# Check the eigenvalues\n",
    "top = Matrix([A.transpose(), -(B*K).transpose()]).transpose()\n",
    "bot = Matrix([(L*C).transpose(), (A-B*K-L*C).transpose()]).transpose()\n",
    "Atilde = Matrix([top,bot])\n",
    "N(Atilde,2)"
   ]
  },
  {
   "cell_type": "code",
   "execution_count": 142,
   "metadata": {},
   "outputs": [
    {
     "data": {
      "text/plain": [
       "array([-12.+0.j, -11.+0.j, -10.+0.j,  -1.+1.j,  -1.-1.j,  -1.+0.j])"
      ]
     },
     "execution_count": 142,
     "metadata": {},
     "output_type": "execute_result"
    }
   ],
   "source": [
    "e,v = np.linalg.eig(np.array(Atilde.tolist()).astype(np.float64));\n",
    "e"
   ]
  },
  {
   "cell_type": "code",
   "execution_count": null,
   "metadata": {
    "collapsed": true
   },
   "outputs": [],
   "source": []
  }
 ],
 "metadata": {
  "kernelspec": {
   "display_name": "Python 3",
   "language": "python",
   "name": "python3"
  },
  "language_info": {
   "codemirror_mode": {
    "name": "ipython",
    "version": 3
   },
   "file_extension": ".py",
   "mimetype": "text/x-python",
   "name": "python",
   "nbconvert_exporter": "python",
   "pygments_lexer": "ipython3",
   "version": "3.6.1"
  }
 },
 "nbformat": 4,
 "nbformat_minor": 2
}
