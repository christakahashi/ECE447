{
  "nbformat": 4,
  "nbformat_minor": 0,
  "metadata": {
    "kernelspec": {
      "display_name": "Python 3",
      "language": "python",
      "name": "python3"
    },
    "language_info": {
      "codemirror_mode": {
        "name": "ipython",
        "version": 3
      },
      "file_extension": ".py",
      "mimetype": "text/x-python",
      "name": "python",
      "nbconvert_exporter": "python",
      "pygments_lexer": "ipython3",
      "version": "3.6.1"
    },
    "colab": {
      "name": "mimo.ipynb",
      "provenance": [],
      "include_colab_link": true
    }
  },
  "cells": [
    {
      "cell_type": "markdown",
      "metadata": {
        "id": "view-in-github",
        "colab_type": "text"
      },
      "source": [
        "<a href=\"https://colab.research.google.com/github/christakahashi/ECE447/blob/master/lectures/mimo.ipynb\" target=\"_parent\"><img src=\"https://colab.research.google.com/assets/colab-badge.svg\" alt=\"Open In Colab\"/></a>"
      ]
    },
    {
      "cell_type": "markdown",
      "metadata": {
        "id": "TOkubKv2q1Zy",
        "colab_type": "text"
      },
      "source": [
        "# ECE 447: Multi-input / Multi-output\n",
        "\n",
        "Updated by Chris Takahashi  \n",
        "\n",
        "Created by Eric Klavins Copyright &copy; University of Washington, 2019"
      ]
    },
    {
      "cell_type": "markdown",
      "metadata": {
        "heading_collapsed": true,
        "id": "_130sF8Sq1Z1",
        "colab_type": "text"
      },
      "source": [
        "# Code"
      ]
    },
    {
      "cell_type": "code",
      "metadata": {
        "hidden": true,
        "id": "Gmg4Ilcpq1Z4",
        "colab_type": "code",
        "colab": {
          "base_uri": "https://localhost:8080/",
          "height": 371
        },
        "outputId": "20b9f59e-8c86-4bb3-bea4-440e4af2931a"
      },
      "source": [
        "import numpy as np\n",
        "import scipy.integrate as spi\n",
        "import matplotlib.pyplot as plt\n",
        "import matplotlib.patches as patches\n",
        "from sympy import *\n",
        "from matplotlib import animation\n",
        "\n",
        "# Uncomment on Google colab\n",
        "# !pip install JSAnimation\n",
        "!pip install control\n",
        "\n",
        "#from JSAnimation.IPython_display import display_animation\n",
        "from control import * \n",
        "\n",
        "%matplotlib inline\n",
        "#comment out for light mode\n",
        "plt.style.use('dark_background')\n",
        "\n",
        "try: \n",
        "  import google.colab #test for colab\n",
        "  import IPython\n",
        "  def setup_typeset():\n",
        "    \"\"\"MathJax initialization for the current cell.\n",
        "    \n",
        "    This installs and configures MathJax for the current output.\n",
        "    \"\"\"\n",
        "    IPython.display.display(IPython.display.HTML('''\n",
        "        <script src=\"https://www.gstatic.com/external_hosted/mathjax/latest/MathJax.js?config=TeX-AMS_HTML-full,Safe&delayStartupUntil=configured\"></script>\n",
        "        <script>\n",
        "          (() => {\n",
        "            const mathjax = window.MathJax;\n",
        "            mathjax.Hub.Config({\n",
        "            'tex2jax': {\n",
        "              'inlineMath': [['$', '$'], ['\\\\(', '\\\\)']],\n",
        "              'displayMath': [['$$', '$$'], ['\\\\[', '\\\\]']],\n",
        "              'processEscapes': true,\n",
        "              'processEnvironments': true,\n",
        "              'skipTags': ['script', 'noscript', 'style', 'textarea', 'code'],\n",
        "              'displayAlign': 'center',\n",
        "            },\n",
        "            'HTML-CSS': {\n",
        "              'styles': {'.MathJax_Display': {'margin': 0}},\n",
        "              'linebreaks': {'automatic': true},\n",
        "              // Disable to prevent OTF font loading, which aren't part of our\n",
        "              // distribution.\n",
        "              'imageFont': null,\n",
        "            },\n",
        "            'messageStyle': 'none'\n",
        "          });\n",
        "          mathjax.Hub.Configured();\n",
        "        })();\n",
        "        </script>\n",
        "        '''))\n",
        "  def custom_latex_printer(exp,**options):\n",
        "      setup_typeset()\n",
        "      return printing.latex(exp,**options)\n",
        "  init_printing(use_latex=\"mathjax\",latex_printer=custom_latex_printer)\n",
        "except:\n",
        "  init_printing(use_latex='mathjax')"
      ],
      "execution_count": 3,
      "outputs": [
        {
          "output_type": "stream",
          "text": [
            "Collecting control\n",
            "\u001b[?25l  Downloading https://files.pythonhosted.org/packages/e8/b0/32a903138505dd4ea523f8a3fc156c4272aa58b10100ef24ff74ced2fae8/control-0.8.3.tar.gz (249kB)\n",
            "\u001b[K     |████████████████████████████████| 256kB 2.8MB/s \n",
            "\u001b[?25hRequirement already satisfied: numpy in /usr/local/lib/python3.6/dist-packages (from control) (1.18.4)\n",
            "Requirement already satisfied: scipy in /usr/local/lib/python3.6/dist-packages (from control) (1.4.1)\n",
            "Requirement already satisfied: matplotlib in /usr/local/lib/python3.6/dist-packages (from control) (3.2.1)\n",
            "Requirement already satisfied: pyparsing!=2.0.4,!=2.1.2,!=2.1.6,>=2.0.1 in /usr/local/lib/python3.6/dist-packages (from matplotlib->control) (2.4.7)\n",
            "Requirement already satisfied: python-dateutil>=2.1 in /usr/local/lib/python3.6/dist-packages (from matplotlib->control) (2.8.1)\n",
            "Requirement already satisfied: cycler>=0.10 in /usr/local/lib/python3.6/dist-packages (from matplotlib->control) (0.10.0)\n",
            "Requirement already satisfied: kiwisolver>=1.0.1 in /usr/local/lib/python3.6/dist-packages (from matplotlib->control) (1.2.0)\n",
            "Requirement already satisfied: six>=1.5 in /usr/local/lib/python3.6/dist-packages (from python-dateutil>=2.1->matplotlib->control) (1.12.0)\n",
            "Building wheels for collected packages: control\n",
            "  Building wheel for control (setup.py) ... \u001b[?25l\u001b[?25hdone\n",
            "  Created wheel for control: filename=control-0.8.3-py2.py3-none-any.whl size=260982 sha256=c59642a10699d91f69579fa436f7ff97504f73f87444b412d8d5fc06a2dec86c\n",
            "  Stored in directory: /root/.cache/pip/wheels/c2/d9/cc/90b28cb139a6320a3af2285428b6da87eee8d8920c78bb0223\n",
            "Successfully built control\n",
            "Installing collected packages: control\n",
            "Successfully installed control-0.8.3\n"
          ],
          "name": "stdout"
        }
      ]
    },
    {
      "cell_type": "markdown",
      "metadata": {
        "heading_collapsed": true,
        "id": "UUCkSHz4q1aI",
        "colab_type": "text"
      },
      "source": [
        "# MIMO for Transfer Functions"
      ]
    },
    {
      "cell_type": "markdown",
      "metadata": {
        "hidden": true,
        "id": "cZH44j8tq1aK",
        "colab_type": "text"
      },
      "source": [
        "In MIMO systems, transfer functions are arranged into matrices. You can't avoid linear algebra!\n",
        "\n",
        "Example\n",
        "---\n",
        "\n",
        "As an example, suppose we have the following system\n",
        "\n",
        "<img width=75% src=\"https://raw.githubusercontent.com/klavins/ECE447/master/images/mimo-tf.png\" style=\"transform: rotate(2deg)\">\n",
        "\n",
        "By following the wires, we can write down relationships betweens the inputs, outputs, and blocks. For the first output:\n",
        "\n",
        "\\begin{align}\n",
        "Y_1 & = G_1 G_2 U_1 + G_4 ( G_1 U_1 + G_3 U_2 ) \\\\\n",
        "    & = ( G_1 G_2 + G_1 G_4 ) U_1 + G_3 G_4 U_2\n",
        "\\end{align}\n",
        "\n",
        "And for the second output:\n",
        "\n",
        "\\begin{align}\n",
        "Y_2 & = G_4 ( G_1 U_1 + G_3 U_2 ) \\\\\n",
        "    & = G_1 G_4 U_1 + G_3 G_4 U_2 \n",
        "\\end{align}\n",
        "\n",
        "Systems of linear equations are always more convenient in matrix form:\n",
        "\n",
        "\\begin{align}\n",
        "{\\bf Y}(s) & = \\begin{pmatrix}\n",
        "G_1(s) G_2(s) + G_1(s) G_4(s) & G_3(s) G_4(s) \\\\\n",
        "G_1(s) G_4(s) & G_3(s) G_4(s) \n",
        "\\end{pmatrix} {\\bf U}(s) \\\\\n",
        " & = {\\bf T}(s) {\\bf U}(s)\n",
        "\\end{align}\n",
        "\n",
        "The only thing you can't do is write $Y(s) / U(s)$ for vectors of transfer functions. \n",
        "\n",
        "Composition\n",
        "---\n",
        "\n",
        "Compositions go through as usual, as long as the size of the matrices are compatible.\n",
        "\n",
        "**Series:**\n",
        "\n",
        "<img width=65% src=\"https://raw.githubusercontent.com/klavins/ECE447/master/images/mimo-series.png\">\n",
        "\n",
        "- $G_1$ is $m \\times n$\n",
        "- $G_2$ is $p \\times m$\n",
        "- $G_1 G_2$ is $p \\times n$\n",
        "\n",
        "Note that the composition $G_1 G_2$ is just matrix multiplication.\n",
        "\n",
        "**Feedback:**\n",
        "\n",
        "<img width=55% src=\"https://raw.githubusercontent.com/klavins/ECE447/master/images/mimo-fb.png\">\n",
        "\n",
        "In the feedback case, we have\n",
        "\n",
        "$$\n",
        "Y = GE = G(U-Y) = GU-GY\n",
        "$$\n",
        "\n",
        "Therefore, \n",
        "\n",
        "\\begin{align}\n",
        "Y+GY & = GU \\\\\n",
        "(I+G)Y & = GU \\\\ \n",
        "Y & = (I+G)^{-1}GU\n",
        "\\end{align}\n",
        "\n",
        "Assuming $I+G$ is invertible."
      ]
    },
    {
      "cell_type": "markdown",
      "metadata": {
        "id": "g-weJzF7q1aM",
        "colab_type": "text"
      },
      "source": [
        "# MIMO in State Space"
      ]
    },
    {
      "cell_type": "markdown",
      "metadata": {
        "id": "eKTYinp2q1aP",
        "colab_type": "text"
      },
      "source": [
        "In state space, MIMO is very natural and requires essentially no new notation. You just have to make sure the dimensions line up.\n",
        "\n",
        "<img width=70% src=\"https://raw.githubusercontent.com/klavins/ECE447/master/images/mino-ss1.png\">\n",
        "\n",
        "The transfer function is a matrix (as we showed above):\n",
        "\n",
        "<img width=65% src=\"https://raw.githubusercontent.com/klavins/ECE447/master/images/mimo-ss2.png\">"
      ]
    },
    {
      "cell_type": "markdown",
      "metadata": {
        "heading_collapsed": true,
        "id": "ZXsZjjKBq1aQ",
        "colab_type": "text"
      },
      "source": [
        "# The Observer as MIMO"
      ]
    },
    {
      "cell_type": "markdown",
      "metadata": {
        "hidden": true,
        "id": "w-XFmLa9q1aS",
        "colab_type": "text"
      },
      "source": [
        "$\\newcommand{\\x}{x}$\n",
        "\n",
        "The observer we designed in the previous notebook takes $y$ and $u$ as inputs and outputs $\\hat{\\x}$. Thus it is a two input, $n$ output system. \n",
        "\n",
        "Before we talked about MIMO, we denoted the observer by:\n",
        "\n",
        "\\begin{align}\n",
        "\\dot{\\hat{\\x}} & = A \\hat{\\x} + B u + L(y - \\hat{y}) \\\\\n",
        "\\hat{y} & = C \\hat{\\x}\n",
        "\\end{align}\n",
        "\n",
        "Now we can write\n",
        "\n",
        "\\begin{align}\n",
        "\\dot{\\hat{\\x}} & = (A-LC) \\hat{\\x} + \\begin{pmatrix}\n",
        "B & L \n",
        "\\end{pmatrix} \\begin{pmatrix}\n",
        "u \\\\\n",
        "y\n",
        "\\end{pmatrix}\\\\\n",
        "\\hat{y} & = C \\hat{\\x}\n",
        "\\end{align}"
      ]
    },
    {
      "cell_type": "markdown",
      "metadata": {
        "id": "wSIHdik4q1aU",
        "colab_type": "text"
      },
      "source": [
        "# Full State Feedback with an Observer"
      ]
    },
    {
      "cell_type": "markdown",
      "metadata": {
        "id": "I_17_TS3q1aW",
        "colab_type": "text"
      },
      "source": [
        "$\\newcommand{\\x}{x}$\n",
        "\n",
        "As a reminder, full state feedback requires the state of a linear system, which is not always available. But with an observer, you can supply the estimate of the full state to the control. Thus, we have the equations:\n",
        "\n",
        "\\begin{align}\n",
        "\\dot{\\x} & = A \\x + B u \\\\\n",
        "y & = C \\x \\\\\n",
        " \\\\\n",
        "\\dot{\\hat{\\x}} & = A \\hat{\\x} + B u + L(y - \\hat{y}) \\\\\n",
        "\\hat{y} & = C \\hat{\\x} \\\\\n",
        " \\\\\n",
        "u & = -K \\hat{\\x} + r\n",
        "\\end{align}\n",
        "\n",
        "Remembering that $y = C\\x$ and $\\hat{y} = C \\hat{\\x}$ we get\n",
        "\n",
        "\\begin{align}\n",
        "\\begin{pmatrix}\n",
        "\\dot{\\x} \\\\\n",
        "\\dot{\\hat{\\x}}\n",
        "\\end{pmatrix} & = \n",
        "\\begin{pmatrix}\n",
        "A & -BK \\\\\n",
        "LC & A - BK - LC\n",
        "\\end{pmatrix} \\begin{pmatrix}\n",
        "\\x \\\\\n",
        "\\hat{\\x}\n",
        "\\end{pmatrix} + \\begin{pmatrix}\n",
        "B \\\\\n",
        "B\n",
        "\\end{pmatrix} r \\\\\n",
        "y & = ( \\; C \\;  0 \\; ) \\; \\begin{pmatrix}\n",
        "\\x \\\\\n",
        "\\hat{\\x}\n",
        "\\end{pmatrix}\n",
        "\\end{align}\n",
        "\n",
        "So a system combing an observer and full state feedback is just another linear system. However, it is not clear that this new system is stable or what its eigenvalues are, and so on.\n",
        "\n",
        "Let's define\n",
        "\n",
        "$$\n",
        "\\tilde A \\triangleq \\begin{pmatrix}\n",
        "A & -BK \\\\\n",
        "LC & A - BK - LC\n",
        "\\end{pmatrix} \n",
        "$$.\n",
        "\n",
        "**Property 1: Eigenvalues of $A-BK$ are also eigenvalues of $\\tilde A$**:\n",
        "\n",
        "Suppose $(A-BK) {\\bf v} = \\lambda {\\bf v}$. Then\n",
        "\n",
        "\\begin{align}\n",
        "\\begin{pmatrix}\n",
        "A & -BK \\\\\n",
        "LC & A - BK - LC\n",
        "\\end{pmatrix} \\begin{pmatrix}\n",
        "{\\bf v} \\\\\n",
        "{\\bf v}\n",
        "\\end{pmatrix} & = \\begin{pmatrix}\n",
        "A{\\bf v} - BK{\\bf v} \\\\\n",
        "LC{\\bf v} - (A - BK - LC) {\\bf v} \\\\\n",
        "\\end{pmatrix} \\\\\n",
        "& = \\begin{pmatrix}\n",
        "(A - BK){\\bf v} \\\\\n",
        "(A - BK){\\bf v}\n",
        "\\end{pmatrix}  \\\\\n",
        "& = \\lambda \\begin{pmatrix}\n",
        "{\\bf v} \\\\\n",
        "{\\bf v}\n",
        "\\end{pmatrix} .\n",
        "\\end{align}\n",
        "\n",
        "**Property 2: Eigenvalues of $A-LC$ are also eigenvalues of $\\tilde A$**:\n",
        "\n",
        "Suppose $w^T(A-LC) = \\rho w^T$. In this case, $w$ is a *left eigenvector* and $\\rho$ is an plain eigenvalue. Then\n",
        "\n",
        "\\begin{align}\n",
        "\\begin{pmatrix}\n",
        "w^T & - w^T\n",
        "\\end{pmatrix} \\begin{pmatrix}\n",
        "A & -BK \\\\\n",
        "LC & A - BK - LC\n",
        "\\end{pmatrix} & = \\begin{pmatrix}\n",
        "w^T(A-LC) &  w^T(A-LC) \n",
        "\\end{pmatrix}  \\\\\n",
        " & = \\rho \\begin{pmatrix}\n",
        "w^T & - w^T\n",
        "\\end{pmatrix} . \n",
        "\\end{align}\n",
        "\n",
        "**The Point:** You can design $K$ and $L$ completely separately, using $K$ to set $n$ of the poles of the entire system, and $L$ to design the other $n$ poles.\n",
        "\n",
        "Example\n",
        "---"
      ]
    },
    {
      "cell_type": "code",
      "metadata": {
        "id": "XbPn2h0nq1aX",
        "colab_type": "code",
        "colab": {
          "base_uri": "https://localhost:8080/",
          "height": 84
        },
        "outputId": "ffebd843-b49c-4398-d08e-8f83128ebbc4"
      },
      "source": [
        "A = Matrix([\n",
        "    [0,-1,0],\n",
        "    [3,0,-72],\n",
        "    [0,0.5,-30]])\n",
        "\n",
        "B = Matrix([\n",
        "    [0],\n",
        "    [0],\n",
        "    [1]\n",
        "])\n",
        "\n",
        "C = Matrix([[1,0,0]])\n",
        "\n",
        "An = np.array(A).astype(np.float64)\n",
        "Bn = np.array(B).astype(np.float64)\n",
        "Cn = np.array(C).astype(np.float64)\n",
        "\n",
        "K = Matrix(place(An,Bn,[-1,-1+1*1j,-1-1*1j]))\n",
        "\n",
        "L = Matrix(np.transpose(\n",
        "        place(np.transpose(An),np.transpose(Cn), [-30,-40,-50]))\n",
        "    )\n",
        "N(K,2),N(L,2)"
      ],
      "execution_count": 4,
      "outputs": [
        {
          "output_type": "display_data",
          "data": {
            "text/html": [
              "\n",
              "        <script src=\"https://www.gstatic.com/external_hosted/mathjax/latest/MathJax.js?config=TeX-AMS_HTML-full,Safe&delayStartupUntil=configured\"></script>\n",
              "        <script>\n",
              "          (() => {\n",
              "            const mathjax = window.MathJax;\n",
              "            mathjax.Hub.Config({\n",
              "            'tex2jax': {\n",
              "              'inlineMath': [['$', '$'], ['\\(', '\\)']],\n",
              "              'displayMath': [['$$', '$$'], ['\\[', '\\]']],\n",
              "              'processEscapes': true,\n",
              "              'processEnvironments': true,\n",
              "              'skipTags': ['script', 'noscript', 'style', 'textarea', 'code'],\n",
              "              'displayAlign': 'center',\n",
              "            },\n",
              "            'HTML-CSS': {\n",
              "              'styles': {'.MathJax_Display': {'margin': 0}},\n",
              "              'linebreaks': {'automatic': true},\n",
              "              // Disable to prevent OTF font loading, which aren't part of our\n",
              "              // distribution.\n",
              "              'imageFont': null,\n",
              "            },\n",
              "            'messageStyle': 'none'\n",
              "          });\n",
              "          mathjax.Hub.Configured();\n",
              "        })();\n",
              "        </script>\n",
              "        "
            ],
            "text/plain": [
              "<IPython.core.display.HTML object>"
            ]
          },
          "metadata": {
            "tags": []
          }
        },
        {
          "output_type": "execute_result",
          "data": {
            "text/latex": "$$\\left ( \\left[\\begin{matrix}-0.097 & 0.49 & -27.0\\end{matrix}\\right], \\quad \\left[\\begin{matrix}90.0\\\\-2.0 \\cdot 10^{3}\\\\-30.0\\end{matrix}\\right]\\right )$$",
            "text/plain": [
              "⎛                       ⎡ 90.0  ⎤⎞\n",
              "⎜                       ⎢       ⎥⎟\n",
              "⎜[-0.097  0.49  -27.0], ⎢-2.0e+3⎥⎟\n",
              "⎜                       ⎢       ⎥⎟\n",
              "⎝                       ⎣ -30.0 ⎦⎠"
            ]
          },
          "metadata": {
            "tags": []
          },
          "execution_count": 4
        }
      ]
    },
    {
      "cell_type": "code",
      "metadata": {
        "id": "kEOH-Rx6q1ae",
        "colab_type": "code",
        "colab": {
          "base_uri": "https://localhost:8080/",
          "height": 336
        },
        "outputId": "5b385d4f-d0a4-42b7-c661-96f4d28b0442"
      },
      "source": [
        "def input(t):\n",
        "    if t < 10:\n",
        "        return 1\n",
        "    elif t < 20:\n",
        "        return 0\n",
        "    else:\n",
        "        return 1\n",
        "    \n",
        "def f(X,t):\n",
        "    x = Matrix(X[:3]) #can either make x a Matrix or use np.dot instead of *\n",
        "    xhat = Matrix(X[3:6])\n",
        "    u = -(K*xhat)[0] + input(t)\n",
        "    fb = L * ( C*x - C*xhat )\n",
        "    return flatten(\n",
        "        (A*x + B*u).tolist() + \n",
        "        (A*xhat + B*u + fb).tolist())\n",
        "\n",
        "t=np.linspace(0,30,100)\n",
        "X = spi.odeint(f,[20,10,1,0,0,0],t)\n",
        "fig,ax = plt.subplots(1,3,figsize=(15,5))\n",
        "\n",
        "for i in range(3):\n",
        "    ax[i].plot(t,X[:,i],label=\"$x_%d$\" % (i+1))\n",
        "    ax[i].plot(t,X[:,3+i],label=\"$\\hat{x}_%d$\" % (i+1));\n",
        "    ax[i].set_xlabel(\"$t$\")\n",
        "    ax[i].legend()\n",
        "    \n",
        "ax[0].set_ylabel(\"state\");"
      ],
      "execution_count": 10,
      "outputs": [
        {
          "output_type": "display_data",
          "data": {
            "image/png": "[encoded data removed]",
            "text/plain": [
              "<Figure size 1080x360 with 3 Axes>"
            ]
          },
          "metadata": {
            "tags": []
          }
        }
      ]
    },
    {
      "cell_type": "code",
      "metadata": {
        "id": "1ozCyAtyq1al",
        "colab_type": "code",
        "colab": {
          "base_uri": "https://localhost:8080/",
          "height": 154
        },
        "outputId": "4a7b5ab0-60e9-4930-ef0e-3319b5a653f6"
      },
      "source": [
        "# Check the eigenvalues\n",
        "top = Matrix([A.transpose(), -(B*K).transpose()]).transpose()\n",
        "bot = Matrix([(L*C).transpose(), (A-B*K-L*C).transpose()]).transpose()\n",
        "Atilde = Matrix([top,bot])\n",
        "N(Atilde,2)"
      ],
      "execution_count": 11,
      "outputs": [
        {
          "output_type": "display_data",
          "data": {
            "text/html": [
              "\n",
              "        <script src=\"https://www.gstatic.com/external_hosted/mathjax/latest/MathJax.js?config=TeX-AMS_HTML-full,Safe&delayStartupUntil=configured\"></script>\n",
              "        <script>\n",
              "          (() => {\n",
              "            const mathjax = window.MathJax;\n",
              "            mathjax.Hub.Config({\n",
              "            'tex2jax': {\n",
              "              'inlineMath': [['$', '$'], ['\\(', '\\)']],\n",
              "              'displayMath': [['$$', '$$'], ['\\[', '\\]']],\n",
              "              'processEscapes': true,\n",
              "              'processEnvironments': true,\n",
              "              'skipTags': ['script', 'noscript', 'style', 'textarea', 'code'],\n",
              "              'displayAlign': 'center',\n",
              "            },\n",
              "            'HTML-CSS': {\n",
              "              'styles': {'.MathJax_Display': {'margin': 0}},\n",
              "              'linebreaks': {'automatic': true},\n",
              "              // Disable to prevent OTF font loading, which aren't part of our\n",
              "              // distribution.\n",
              "              'imageFont': null,\n",
              "            },\n",
              "            'messageStyle': 'none'\n",
              "          });\n",
              "          mathjax.Hub.Configured();\n",
              "        })();\n",
              "        </script>\n",
              "        "
            ],
            "text/plain": [
              "<IPython.core.display.HTML object>"
            ]
          },
          "metadata": {
            "tags": []
          }
        },
        {
          "output_type": "execute_result",
          "data": {
            "text/latex": "$$\\left[\\begin{matrix}0 & -1.0 & 0 & 0 & 0 & 0\\\\3.0 & 0 & -72.0 & 0 & 0 & 0\\\\0 & 0.5 & -30.0 & 0.097 & -0.49 & 27.0\\\\90.0 & 0 & 0 & -90.0 & -1.0 & 0\\\\-2.0 \\cdot 10^{3} & 0 & 0 & 2.0 \\cdot 10^{3} & 0 & -72.0\\\\-30.0 & 0 & 0 & 30.0 & 0.014 & -3.0\\end{matrix}\\right]$$",
            "text/plain": [
              "⎡   0     -1.0    0      0       0      0  ⎤\n",
              "⎢                                          ⎥\n",
              "⎢  3.0     0    -72.0    0       0      0  ⎥\n",
              "⎢                                          ⎥\n",
              "⎢   0     0.5   -30.0  0.097   -0.49  27.0 ⎥\n",
              "⎢                                          ⎥\n",
              "⎢ 90.0     0      0    -90.0   -1.0     0  ⎥\n",
              "⎢                                          ⎥\n",
              "⎢-2.0e+3   0      0    2.0e+3    0    -72.0⎥\n",
              "⎢                                          ⎥\n",
              "⎣ -30.0    0      0     30.0   0.014  -3.0 ⎦"
            ]
          },
          "metadata": {
            "tags": []
          },
          "execution_count": 11
        }
      ]
    },
    {
      "cell_type": "code",
      "metadata": {
        "id": "nJtEhix-q1ar",
        "colab_type": "code",
        "colab": {
          "base_uri": "https://localhost:8080/",
          "height": 36
        },
        "outputId": "af8516e4-65ce-4cf0-b6a0-43368d4e62f5"
      },
      "source": [
        "e,v = np.linalg.eig(np.array(Atilde.tolist()).astype(np.float64));\n",
        "e"
      ],
      "execution_count": 12,
      "outputs": [
        {
          "output_type": "execute_result",
          "data": {
            "text/plain": [
              "array([-50.+0.j, -40.+0.j, -30.+0.j,  -1.+1.j,  -1.-1.j,  -1.+0.j])"
            ]
          },
          "metadata": {
            "tags": []
          },
          "execution_count": 12
        }
      ]
    }
  ]
}