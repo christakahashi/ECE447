{
 "cells": [
  {
   "cell_type": "markdown",
   "metadata": {},
   "source": [
    "# ECE 447: Multi-input / Multi-output\n",
    "\n",
    "Eric Klavins|\n",
    "\n",
    "Copyright &copy; University of Washington, 2019"
   ]
  },
  {
   "cell_type": "markdown",
   "metadata": {
    "heading_collapsed": true
   },
   "source": [
    "# Code"
   ]
  },
  {
   "cell_type": "code",
   "execution_count": 228,
   "metadata": {
    "collapsed": true,
    "hidden": true
   },
   "outputs": [],
   "source": [
    "import numpy as np\n",
    "import scipy.integrate as spi\n",
    "import matplotlib.pyplot as plt\n",
    "import matplotlib.patches as patches\n",
    "from sympy import *\n",
    "from matplotlib import animation\n",
    "\n",
    "# Uncomment on Google colab\n",
    "# !pip install JSAnimation\n",
    "# !pip install control\n",
    "\n",
    "from JSAnimation.IPython_display import display_animation\n",
    "from control import * \n",
    "\n",
    "%matplotlib inline\n",
    "\n",
    "# Comment out in Google colab \n",
    "init_printing(use_latex='mathjax')\n",
    "\n",
    "# Uncomment in below Google colab to render sympy equations nicely\n",
    "# def custom_latex_printer(exp,**options):\n",
    "#     from google.colab.output._publish import javascript\n",
    "#     url = \"https://cdnjs.cloudflare.com/ajax/libs/mathjax/2.7.3/latest.js?config=default\"\n",
    "#     javascript(url=url)\n",
    "#     return printing.latex(exp,**options)"
   ]
  },
  {
   "cell_type": "markdown",
   "metadata": {},
   "source": [
    "# MIMO for Transfer Functions"
   ]
  },
  {
   "cell_type": "markdown",
   "metadata": {},
   "source": [
    "In MIMO systems, transfer functions are arranged into matrices. You can't avoid linear algebra!\n",
    "\n",
    "Example\n",
    "---\n",
    "\n",
    "As an example, suppose we have the following system\n",
    "\n",
    "<img width=75% src=\"https://raw.githubusercontent.com/klavins/ECE447/master/images/mimo-tf.png\" style=\"transform: rotate(2deg)\">\n",
    "\n",
    "By following the wires, we can write down relationships betweens the inputs, outputs, and blocks. For the first output:\n",
    "\n",
    "\\begin{align}\n",
    "Y_1 & = G_1 G_2 U_1 + G_4 ( G_1 U_1 + G_3 U_2 ) \\\\\n",
    "    & = ( G_1 G_2 + G_1 G_4 ) U_1 + G_3 G_4 U_2\n",
    "\\end{align}\n",
    "\n",
    "And for the second output:\n",
    "\n",
    "\\begin{align}\n",
    "Y_2 & = G_4 ( G_1 U_1 + G_3 U_2 ) \\\\\n",
    "    & = G_1 G_4 U_1 + G_3 G_4 U_2 \n",
    "\\end{align}\n",
    "\n",
    "Systems of linear equations are always more convenient in matrix form:\n",
    "\n",
    "\\begin{align}\n",
    "{\\bf Y}(s) & = \\begin{pmatrix}\n",
    "G_1(s) G_2(s) + G_1(s) G_4(s) & G_3(s) G_4(s) \\\\\n",
    "G_1(s) G_4(s) & G_3(s) G_4(s) \n",
    "\\end{pmatrix} {\\bf U}(s) \\\\\n",
    " & = {\\bf T}(s) {\\bf U}(s)\n",
    "\\end{align}\n",
    "\n",
    "The only thing you can't do is write $Y(s) / U(s)$ for vectors of transfer functions. \n",
    "\n",
    "Composition\n",
    "---\n",
    "\n",
    "Compositions go through as usual, as long as the size of the matrices are compatible.\n",
    "\n",
    "**Series:**\n",
    "\n",
    "\n",
    "\n",
    "**Feedback:**"
   ]
  },
  {
   "cell_type": "markdown",
   "metadata": {},
   "source": [
    "# MIMO in State Space"
   ]
  },
  {
   "cell_type": "markdown",
   "metadata": {},
   "source": [
    "The observer we designed in the previous notebook takes $y$ and $u$ as inputs and outputs $\\hat{\\x}$. Thus it is a two input, $n$ output system. "
   ]
  }
 ],
 "metadata": {
  "kernelspec": {
   "display_name": "Python 3",
   "language": "python",
   "name": "python3"
  },
  "language_info": {
   "codemirror_mode": {
    "name": "ipython",
    "version": 3
   },
   "file_extension": ".py",
   "mimetype": "text/x-python",
   "name": "python",
   "nbconvert_exporter": "python",
   "pygments_lexer": "ipython3",
   "version": "3.6.1"
  }
 },
 "nbformat": 4,
 "nbformat_minor": 2
}
