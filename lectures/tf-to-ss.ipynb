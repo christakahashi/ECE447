{
  "nbformat": 4,
  "nbformat_minor": 0,
  "metadata": {
    "kernelspec": {
      "display_name": "Python 3",
      "language": "python",
      "name": "python3"
    },
    "language_info": {
      "codemirror_mode": {
        "name": "ipython",
        "version": 3
      },
      "file_extension": ".py",
      "mimetype": "text/x-python",
      "name": "python",
      "nbconvert_exporter": "python",
      "pygments_lexer": "ipython3",
      "version": "3.6.1"
    },
    "latex_envs": {
      "LaTeX_envs_menu_present": true,
      "autoclose": false,
      "autocomplete": true,
      "bibliofile": "biblio.bib",
      "cite_by": "apalike",
      "current_citInitial": 1,
      "eqLabelWithNumbers": true,
      "eqNumInitial": 1,
      "hotkeys": {
        "equation": "Ctrl-E",
        "itemize": "Ctrl-I"
      },
      "labels_anchors": false,
      "latex_user_defs": false,
      "report_style_numbering": false,
      "user_envs_cfg": false
    },
    "colab": {
      "name": "tf-to-ss.ipynb",
      "provenance": [],
      "include_colab_link": true
    }
  },
  "cells": [
    {
      "cell_type": "markdown",
      "metadata": {
        "id": "view-in-github",
        "colab_type": "text"
      },
      "source": [
        "<a href=\"https://colab.research.google.com/github/christakahashi/ECE447/blob/master/lectures/tf-to-ss.ipynb\" target=\"_parent\"><img src=\"https://colab.research.google.com/assets/colab-badge.svg\" alt=\"Open In Colab\"/></a>"
      ]
    },
    {
      "cell_type": "markdown",
      "metadata": {
        "id": "301kYIsymEFA",
        "colab_type": "text"
      },
      "source": [
        "ECE 447: From Transfer Functions to State Space\n",
        "===\n",
        "\n",
        "Updated by \n",
        " Dr. Chris Takahashi\n",
        "\n",
        "Authored by Prof. Eric Klavins &copy; 2019, University of Washington\n"
      ]
    },
    {
      "cell_type": "code",
      "metadata": {
        "id": "AieOt0yZmEFD",
        "colab_type": "code",
        "colab": {}
      },
      "source": [
        "import numpy as np\n",
        "import scipy.integrate as spi\n",
        "import matplotlib.pyplot as plt\n",
        "from sympy import *\n",
        "\n",
        "\n",
        "%matplotlib inline\n",
        "#comment out for light mode\n",
        "plt.style.use('dark_background')\n",
        "\n",
        "try: \n",
        "  import google.colab #test for colab\n",
        "  import IPython\n",
        "  def setup_typeset():\n",
        "    \"\"\"MathJax initialization for the current cell.\n",
        "    \n",
        "    This installs and configures MathJax for the current output.\n",
        "    \"\"\"\n",
        "    IPython.display.display(IPython.display.HTML('''\n",
        "        <script src=\"https://www.gstatic.com/external_hosted/mathjax/latest/MathJax.js?config=TeX-AMS_HTML-full,Safe&delayStartupUntil=configured\"></script>\n",
        "        <script>\n",
        "          (() => {\n",
        "            const mathjax = window.MathJax;\n",
        "            mathjax.Hub.Config({\n",
        "            'tex2jax': {\n",
        "              'inlineMath': [['$', '$'], ['\\\\(', '\\\\)']],\n",
        "              'displayMath': [['$$', '$$'], ['\\\\[', '\\\\]']],\n",
        "              'processEscapes': true,\n",
        "              'processEnvironments': true,\n",
        "              'skipTags': ['script', 'noscript', 'style', 'textarea', 'code'],\n",
        "              'displayAlign': 'center',\n",
        "            },\n",
        "            'HTML-CSS': {\n",
        "              'styles': {'.MathJax_Display': {'margin': 0}},\n",
        "              'linebreaks': {'automatic': true},\n",
        "              // Disable to prevent OTF font loading, which aren't part of our\n",
        "              // distribution.\n",
        "              'imageFont': null,\n",
        "            },\n",
        "            'messageStyle': 'none'\n",
        "          });\n",
        "          mathjax.Hub.Configured();\n",
        "        })();\n",
        "        </script>\n",
        "        '''))\n",
        "  def custom_latex_printer(exp,**options):\n",
        "      setup_typeset()\n",
        "      return printing.latex(exp,**options)\n",
        "  init_printing(use_latex=\"mathjax\",latex_printer=custom_latex_printer)\n",
        "except:\n",
        "  init_printing(use_latex='mathjax')"
      ],
      "execution_count": 0,
      "outputs": []
    },
    {
      "cell_type": "markdown",
      "metadata": {
        "id": "pDjYBc0nmEFS",
        "colab_type": "text"
      },
      "source": [
        "Similar systems give the same transfer function\n",
        "---\n",
        "\n",
        "$\\newcommand{\\x}{x}$\n",
        "Suppose \n",
        "\n",
        "\\begin{align}\n",
        "\\dot \\x & = A \\x + B u \\\\\n",
        "y & = C x\n",
        "\\end{align}\n",
        "\n",
        "and that\n",
        "\n",
        "$$\n",
        "{\\bf z} = P^{-1} \\x\n",
        "$$\n",
        "\n",
        "is a change of coordinates from $\\x$ to ${\\bf z}$.\n",
        "\n",
        "Then\n",
        "\n",
        "\\begin{align}\n",
        "\\dot {\\bf z} & = P^{-1} \\dot \\x \\\\\n",
        " & = P^{-1} ( A \\x + B u ) \\\\\n",
        " & = P^{-1} ( A P{\\bf z}  + B u ) \\\\\n",
        " & = P^{-1}A P {\\bf z} + P^{-1} B u\n",
        "\\end{align}\n",
        "\n",
        "and\n",
        "\n",
        "$$\n",
        "y = C \\x = C P {\\bf z} \n",
        "$$\n",
        "\n",
        "so that the input/output dynamics of ${\\bf z}$ are governed by the matrices \n",
        "\n",
        "$$\n",
        "\\tilde{A}=P^{-1}A P, \\;\\; \\tilde{B}=P^{-1} B, \\;\\; \\mathrm{and} \\;\\; \\tilde{C}=C P \n",
        "$$\n",
        "\n",
        "Now let's look at the transfer function in z-coordinates:\n",
        "\n",
        "\\begin{align}\n",
        "sZ(s) & = P^{-1}AP Z(s) + P^{-1}BU(s) \\\\\n",
        "s P Z(s) & = A P Z(s) + BU(s) \\\\\n",
        "(sI-A)PZ(s) & = BU(s) \\\\\n",
        "Z(s) & = P^{-1}(sI-A)^{-1}BU(s) \\\\\n",
        "Y(s) & = CPZ(s) \\\\\n",
        "     & = CPP^{-1}(sI-A)^{-1}BU(s) \n",
        "     & = C(sI-A)^{-1}BU(s)\n",
        "\\end{align}\n",
        "\n",
        "so \n",
        "\n",
        "$$\n",
        "\\frac{Y(s)}{U(s)} = C(sI-A)^{-1}B\n",
        "$$\n",
        "\n",
        "which is the same as the transfer function derived from the original $\\dot x$ system.\n",
        "\n",
        "Since $P$ can be any invertible matrix, the above means that: \n",
        "\n",
        "> **A given transfer function has an infinite number of state space realizations.**\n",
        "\n",
        "Which one you use depends on what you are trying to do. For now, we'll go over several ways to convert transfer functions into state space."
      ]
    },
    {
      "cell_type": "markdown",
      "metadata": {
        "id": "jg-c2NOWmEFU",
        "colab_type": "text"
      },
      "source": [
        "In this notebook, we'll come up with four different ways to turn a transfer function into state space. We'll use the following example throughout. \n",
        "\n",
        "$\\newcommand{\\x}{x}$\n",
        "\n",
        "Running Example\n",
        "---\n",
        "\n",
        "Consider a rocket with equations\n",
        "\n",
        "$$\n",
        "\\begin{pmatrix}\n",
        "\\dot x \\\\\n",
        "\\dot v\n",
        "\\end{pmatrix} = \\begin{pmatrix}\n",
        "v \\\\\n",
        "- g + f/m\n",
        "\\end{pmatrix}\n",
        "$$\n",
        "\n",
        "where $f$ is the thruster force. We are supposing the mass is not changing much during the time we will control it. You might assume we are trying to get the rocket to land on a landing pad at $x=0$ with $v=0$ so it doesn't hit too hard. Defining $f/m = u$ (ie we normalize our thrust force by the mass of the rocket to ge $u$ in terms of acceleration). We get the simple system\n",
        "\n",
        "$$\n",
        "\\dot \\x = \\begin{pmatrix}\n",
        "0 & 1 \\\\\n",
        "0 & 0\n",
        "\\end{pmatrix} \\x + \\begin{pmatrix}\n",
        "0 \\\\\n",
        "1\n",
        "\\end{pmatrix} u\n",
        "$$\n",
        "\n",
        "If we suppose we have an altimeter, then $y = x$ and \n",
        "\n",
        "$$\n",
        "y = ( 1 \\;\\; 0 ) \\; \\x\n",
        "$$\n",
        "\n",
        "The transfer function is \n",
        "\n",
        "\\begin{align}\n",
        "\\frac{Y(s)}{U(s)} & = C ( sI - A ) ^{-1} B \\\\\n",
        "                  & = ( 1 \\;\\; 0 ) \\frac{1}{s^2} \\begin{pmatrix} \n",
        "s & 1 \\\\\n",
        "0 & s\n",
        "\\end{pmatrix} \\begin{pmatrix}\n",
        "0 \\\\\n",
        "1\n",
        "\\end{pmatrix} \\\\\n",
        " & = \\frac{1}{s^2}\n",
        "\\end{align}\n",
        "\n",
        "Thus, the system is basically a double integrator. We can visualize it as a block diagram as follows:\n",
        "\n",
        "<img width=30% src=\"https://raw.githubusercontent.com/klavins/ECE447/master/images/rocket.png\">\n",
        "\n",
        "If we suppose that we also have a sensor for the velocity, we can make a PI controller to control the velocity by using feedback. The controller has the transfer function $K_P + K_I/s$ which is the series composition of the proportional gain with the integrator, both taking the error $v_{des} - v$ as input.\n",
        "\n",
        "<img width=40% src=\"https://raw.githubusercontent.com/klavins/ECE447/master/images/rocket-velocity.png\">\n",
        "\n",
        "Then we can control the whole system by supposing that the input to the above system, the desired velocity, is the output a PD controller that takes as input the desired position minus the actual position, to get:\n",
        "\n",
        "<img width=55% src=\"https://raw.githubusercontent.com/klavins/ECE447/master/images/rocket-position.png\">\n",
        "\n",
        "The transfer function of this system can be found using the formula for a feedback interconnection we found last time. In particular, we show that the inner loop has transfer function\n",
        "\n",
        "$$\n",
        "L(s) = \\frac{G(s)}{1+G(s)}\n",
        "$$\n",
        "\n",
        "where \n",
        "\n",
        "$$\n",
        "G(s) = \\frac{1}{s}\\left(K_P + \\frac{K_I}{s}\\right)\n",
        "$$\n",
        "\n",
        "so that\n",
        "\n",
        "$$\n",
        "L(s) = \\frac{K_Ps + K_I}{s^2 + K_Ps + K_I}.\n",
        "$$\n",
        "\n",
        "Then we can find the transfer function of the whole system using the same formula to get\n",
        "\n",
        "$$\n",
        "T(s) = \\frac{H(s)}{1+H(s)}\n",
        "$$\n",
        "\n",
        "where \n",
        "\n",
        "$$\n",
        "H(s) = \\frac{1}{s}(K_{P_1} + K_Ds) L(s)\n",
        "$$\n",
        "\n",
        "Substituting in the above and simplifying we get\n",
        "\n",
        "$$\n",
        "T(s) = \\frac{K_PK_Ds^2 + (K_DK_I + K_{P_1}K_P) s + K_{P_1}K_I}\n",
        "            {s^3 + (K_P + K_PK_D)s^2 + (K_I+K_DK_I+K_PK_{P_1})s + K_IP_{P_1}}\n",
        "$$"
      ]
    },
    {
      "cell_type": "code",
      "metadata": {
        "id": "49czqKbDmEFX",
        "colab_type": "code",
        "outputId": "3988b211-abae-4763-e599-01fd2530f3c2",
        "colab": {
          "base_uri": "https://localhost:8080/",
          "height": 63
        }
      },
      "source": [
        "# In sympy\n",
        "var(\"s G H L K_p K_p_1 K_d K_i\")\n",
        "G = (K_p+K_i/s)/s\n",
        "L = G / ( 1 + G )\n",
        "H = (K_p_1+K_d*s)*L/s\n",
        "T = H / (1+H)\n",
        "T = cancel(T) # Puts rational polynomials in a standard form\n",
        "T = collect(T,s) # collects coefficients around s\n",
        "display(T)"
      ],
      "execution_count": 18,
      "outputs": [
        {
          "output_type": "display_data",
          "data": {
            "text/html": [
              "\n",
              "        <script src=\"https://www.gstatic.com/external_hosted/mathjax/latest/MathJax.js?config=TeX-AMS_HTML-full,Safe&delayStartupUntil=configured\"></script>\n",
              "        <script>\n",
              "          (() => {\n",
              "            const mathjax = window.MathJax;\n",
              "            mathjax.Hub.Config({\n",
              "            'tex2jax': {\n",
              "              'inlineMath': [['$', '$'], ['\\(', '\\)']],\n",
              "              'displayMath': [['$$', '$$'], ['\\[', '\\]']],\n",
              "              'processEscapes': true,\n",
              "              'processEnvironments': true,\n",
              "              'skipTags': ['script', 'noscript', 'style', 'textarea', 'code'],\n",
              "              'displayAlign': 'center',\n",
              "            },\n",
              "            'HTML-CSS': {\n",
              "              'styles': {'.MathJax_Display': {'margin': 0}},\n",
              "              'linebreaks': {'automatic': true},\n",
              "              // Disable to prevent OTF font loading, which aren't part of our\n",
              "              // distribution.\n",
              "              'imageFont': null,\n",
              "            },\n",
              "            'messageStyle': 'none'\n",
              "          });\n",
              "          mathjax.Hub.Configured();\n",
              "        })();\n",
              "        </script>\n",
              "        "
            ],
            "text/plain": [
              "<IPython.core.display.HTML object>"
            ]
          },
          "metadata": {
            "tags": []
          }
        },
        {
          "output_type": "display_data",
          "data": {
            "text/latex": "$$\\frac{K_{d} K_{p} s^{2} + K_{i} K_{p 1} + s \\left(K_{d} K_{i} + K_{p} K_{p 1}\\right)}{K_{i} K_{p 1} + s^{3} + s^{2} \\left(K_{d} K_{p} + K_{p}\\right) + s \\left(K_{d} K_{i} + K_{i} + K_{p} K_{p 1}\\right)}$$",
            "text/plain": [
              "                 2                                         \n",
              "         K_d⋅Kₚ⋅s  + Kᵢ⋅Kₚ ₁ + s⋅(K_d⋅Kᵢ + Kₚ⋅Kₚ ₁)        \n",
              "───────────────────────────────────────────────────────────\n",
              "           3    2                                          \n",
              "Kᵢ⋅Kₚ ₁ + s  + s ⋅(K_d⋅Kₚ + Kₚ) + s⋅(K_d⋅Kᵢ + Kᵢ + Kₚ⋅Kₚ ₁)"
            ]
          },
          "metadata": {
            "tags": []
          }
        }
      ]
    },
    {
      "cell_type": "code",
      "metadata": {
        "id": "A9uU7Gm-mEFf",
        "colab_type": "code",
        "outputId": "657f7a82-74fe-4c78-e8a9-08d6f10134f8",
        "colab": {
          "base_uri": "https://localhost:8080/",
          "height": 40
        }
      },
      "source": [
        "num,den = fraction(T) # gets numerator and denominator in an array\n",
        "num,den"
      ],
      "execution_count": 5,
      "outputs": [
        {
          "output_type": "display_data",
          "data": {
            "text/html": [
              "\n",
              "        <script src=\"https://www.gstatic.com/external_hosted/mathjax/latest/MathJax.js?config=TeX-AMS_HTML-full,Safe&delayStartupUntil=configured\"></script>\n",
              "        <script>\n",
              "          (() => {\n",
              "            const mathjax = window.MathJax;\n",
              "            mathjax.Hub.Config({\n",
              "            'tex2jax': {\n",
              "              'inlineMath': [['$', '$'], ['\\(', '\\)']],\n",
              "              'displayMath': [['$$', '$$'], ['\\[', '\\]']],\n",
              "              'processEscapes': true,\n",
              "              'processEnvironments': true,\n",
              "              'skipTags': ['script', 'noscript', 'style', 'textarea', 'code'],\n",
              "              'displayAlign': 'center',\n",
              "            },\n",
              "            'HTML-CSS': {\n",
              "              'styles': {'.MathJax_Display': {'margin': 0}},\n",
              "              'linebreaks': {'automatic': true},\n",
              "              // Disable to prevent OTF font loading, which aren't part of our\n",
              "              // distribution.\n",
              "              'imageFont': null,\n",
              "            },\n",
              "            'messageStyle': 'none'\n",
              "          });\n",
              "          mathjax.Hub.Configured();\n",
              "        })();\n",
              "        </script>\n",
              "        "
            ],
            "text/plain": [
              "<IPython.core.display.HTML object>"
            ]
          },
          "metadata": {
            "tags": []
          }
        },
        {
          "output_type": "execute_result",
          "data": {
            "text/latex": "$$\\left ( K_{d} K_{i} s + K_{d} K_{p} s^{2} + K_{i} K_{p 1} + K_{p} K_{p 1} s, \\quad K_{d} K_{i} s + K_{d} K_{p} s^{2} + K_{i} K_{p 1} + K_{i} s + K_{p} K_{p 1} s + K_{p} s^{2} + s^{3}\\right )$$",
            "text/plain": [
              "⎛                   2                                           2             \n",
              "⎝K_d⋅Kᵢ⋅s + K_d⋅Kₚ⋅s  + Kᵢ⋅Kₚ ₁ + Kₚ⋅Kₚ ₁⋅s, K_d⋅Kᵢ⋅s + K_d⋅Kₚ⋅s  + Kᵢ⋅Kₚ ₁ + \n",
              "\n",
              "                       2    3⎞\n",
              "Kᵢ⋅s + Kₚ⋅Kₚ ₁⋅s + Kₚ⋅s  + s ⎠"
            ]
          },
          "metadata": {
            "tags": []
          },
          "execution_count": 5
        }
      ]
    },
    {
      "cell_type": "markdown",
      "metadata": {
        "id": "DZDr5Nv9mEFm",
        "colab_type": "text"
      },
      "source": [
        "Phase Canonical Form\n",
        "---\n",
        "\n",
        "$\\newcommand{\\x}{x}$\n",
        "\n",
        "In *phase canonical form*, we convert a transfer function directly into a state space representation directly by using the coefficients of the numerator and denominator. Suppose that\n",
        "\n",
        "$$\n",
        "\\frac{Y(s)}{U(s)} = \\frac{b_3 s^3 + b_2 s^2 + b_1 s + b_0}\n",
        "                         {s^4 + a_3 s^3 + a_2 s^2 + a_1 s + a_0}\n",
        "$$\n",
        "\n",
        "Make up a new signal called $Z(s)$ and multiply by $Z(s)/Z(s)$ to get \n",
        "\n",
        "\\begin{align}\n",
        "Y(s) & = (b_3 s^3 + b_2 s^2 + b_1 s + b_0) Z(s) \\\\\n",
        "U(s) & = (s^4 + a_3 s^3 + a_2 s^2 + a_1 s + a_0) Z(s)\n",
        "\\end{align}\n",
        "\n",
        "Then taking the inverse Laplace transform we get\n",
        "\n",
        "\\begin{align}\n",
        "y & = b_3 \\dddot z + b_2 \\ddot z + b_1 \\dot z + b_0 z \\\\\n",
        "u & = \\ddddot z + a_3 \\dddot z + a_2 \\ddot z + a_1 \\dot z + a_0 z\n",
        "\\end{align}\n",
        "\n",
        "If then define $x$ in terms of $z$ as follows:\n",
        "\n",
        "\\begin{align}\n",
        "x_1 & = z \\\\\n",
        "x_2 & = \\dot z  = \\dot x_1 \\\\\n",
        "x_3 & = \\ddot z = \\dot x_2 \\\\\n",
        "x_4 & = \\dddot z = \\dot x_3\n",
        "\\end{align}\n",
        "\n",
        "then\n",
        "\n",
        "\\begin{align}\n",
        "\\dot x_4 & = \\ddddot z = - a_3 \\dddot z - a_2 \\ddot z - a_1 \\dot z - a_0 z + u \\\\\n",
        "         & = -a_3 x_4 - a_2 x_3 - a_1 x_2 - a_0 x_1 + u\n",
        "\\end{align}\n",
        "\n",
        "and \n",
        "\n",
        "$$\n",
        "y = b_3 x_4 + b_2 x_3 + b_1 x_2 + b_0 x_1\n",
        "$$\n",
        "\n",
        "In matrix form then, we get \n",
        "\n",
        "\\begin{align}\n",
        "\\dot x & = \\begin{pmatrix}\n",
        "0 & 1 & 0 & 0 \\\\\n",
        "0 & 0 & 1 & 0 \\\\\n",
        "0 & 0 & 0 & 1 \\\\\n",
        "-a_0 & -a_1 & -a_2 & -a_3 \n",
        "\\end{pmatrix} \\x + \\begin{pmatrix}\n",
        "0 \\\\\n",
        "0 \\\\\n",
        "0 \\\\\n",
        "1\n",
        "\\end{pmatrix} u \\\\\n",
        "y & = ( b_0 \\; b_1 \\; b_2 \\; b_3 ) \\; \\x .\n",
        "\\end{align}\n",
        "\n",
        "We can use sympy to get our running example into this form as follows. Note that the example system only has three states since the polynomial in the denominator has degree 3. What we get are $A$, $B$, and $C$ matrices that are equivalent to our original system, but which are not particularly intuitive. In particular, the output of the system is some combination of the state variables involving the controller gains."
      ]
    },
    {
      "cell_type": "code",
      "metadata": {
        "id": "VjO_hv85mEFn",
        "colab_type": "code",
        "outputId": "41ed9987-1e5f-4290-f86f-5fb883ded75d",
        "colab": {
          "base_uri": "https://localhost:8080/",
          "height": 37
        }
      },
      "source": [
        "# First we get the coefficients of the numerator of T\n",
        "b = Matrix(np.flip(Poly(num,s).coeffs())).transpose()\n",
        "b"
      ],
      "execution_count": 6,
      "outputs": [
        {
          "output_type": "display_data",
          "data": {
            "text/html": [
              "\n",
              "        <script src=\"https://www.gstatic.com/external_hosted/mathjax/latest/MathJax.js?config=TeX-AMS_HTML-full,Safe&delayStartupUntil=configured\"></script>\n",
              "        <script>\n",
              "          (() => {\n",
              "            const mathjax = window.MathJax;\n",
              "            mathjax.Hub.Config({\n",
              "            'tex2jax': {\n",
              "              'inlineMath': [['$', '$'], ['\\(', '\\)']],\n",
              "              'displayMath': [['$$', '$$'], ['\\[', '\\]']],\n",
              "              'processEscapes': true,\n",
              "              'processEnvironments': true,\n",
              "              'skipTags': ['script', 'noscript', 'style', 'textarea', 'code'],\n",
              "              'displayAlign': 'center',\n",
              "            },\n",
              "            'HTML-CSS': {\n",
              "              'styles': {'.MathJax_Display': {'margin': 0}},\n",
              "              'linebreaks': {'automatic': true},\n",
              "              // Disable to prevent OTF font loading, which aren't part of our\n",
              "              // distribution.\n",
              "              'imageFont': null,\n",
              "            },\n",
              "            'messageStyle': 'none'\n",
              "          });\n",
              "          mathjax.Hub.Configured();\n",
              "        })();\n",
              "        </script>\n",
              "        "
            ],
            "text/plain": [
              "<IPython.core.display.HTML object>"
            ]
          },
          "metadata": {
            "tags": []
          }
        },
        {
          "output_type": "execute_result",
          "data": {
            "text/latex": "$$\\left[\\begin{matrix}K_{i} K_{p 1} & K_{d} K_{i} + K_{p} K_{p 1} & K_{d} K_{p}\\end{matrix}\\right]$$",
            "text/plain": [
              "[Kᵢ⋅Kₚ ₁  K_d⋅Kᵢ + Kₚ⋅Kₚ ₁  K_d⋅Kₚ]"
            ]
          },
          "metadata": {
            "tags": []
          },
          "execution_count": 6
        }
      ]
    },
    {
      "cell_type": "code",
      "metadata": {
        "id": "xzGFBhkpmEFv",
        "colab_type": "code",
        "outputId": "7899bb4e-5882-41ff-859d-b16d03f680e2",
        "colab": {
          "base_uri": "https://localhost:8080/",
          "height": 37
        }
      },
      "source": [
        "# Next we get the coefficients of the denominator\n",
        "a = Matrix(np.flip(Poly(den,s).coeffs()[1:4])).transpose()\n",
        "a"
      ],
      "execution_count": 7,
      "outputs": [
        {
          "output_type": "display_data",
          "data": {
            "text/html": [
              "\n",
              "        <script src=\"https://www.gstatic.com/external_hosted/mathjax/latest/MathJax.js?config=TeX-AMS_HTML-full,Safe&delayStartupUntil=configured\"></script>\n",
              "        <script>\n",
              "          (() => {\n",
              "            const mathjax = window.MathJax;\n",
              "            mathjax.Hub.Config({\n",
              "            'tex2jax': {\n",
              "              'inlineMath': [['$', '$'], ['\\(', '\\)']],\n",
              "              'displayMath': [['$$', '$$'], ['\\[', '\\]']],\n",
              "              'processEscapes': true,\n",
              "              'processEnvironments': true,\n",
              "              'skipTags': ['script', 'noscript', 'style', 'textarea', 'code'],\n",
              "              'displayAlign': 'center',\n",
              "            },\n",
              "            'HTML-CSS': {\n",
              "              'styles': {'.MathJax_Display': {'margin': 0}},\n",
              "              'linebreaks': {'automatic': true},\n",
              "              // Disable to prevent OTF font loading, which aren't part of our\n",
              "              // distribution.\n",
              "              'imageFont': null,\n",
              "            },\n",
              "            'messageStyle': 'none'\n",
              "          });\n",
              "          mathjax.Hub.Configured();\n",
              "        })();\n",
              "        </script>\n",
              "        "
            ],
            "text/plain": [
              "<IPython.core.display.HTML object>"
            ]
          },
          "metadata": {
            "tags": []
          }
        },
        {
          "output_type": "execute_result",
          "data": {
            "text/latex": "$$\\left[\\begin{matrix}K_{i} K_{p 1} & K_{d} K_{i} + K_{i} + K_{p} K_{p 1} & K_{d} K_{p} + K_{p}\\end{matrix}\\right]$$",
            "text/plain": [
              "[Kᵢ⋅Kₚ ₁  K_d⋅Kᵢ + Kᵢ + Kₚ⋅Kₚ ₁  K_d⋅Kₚ + Kₚ]"
            ]
          },
          "metadata": {
            "tags": []
          },
          "execution_count": 7
        }
      ]
    },
    {
      "cell_type": "code",
      "metadata": {
        "id": "KaiHghAImEF4",
        "colab_type": "code",
        "outputId": "d14071a9-4a3e-4b56-eea3-db26d27ad4c9",
        "colab": {
          "base_uri": "https://localhost:8080/",
          "height": 84
        }
      },
      "source": [
        "# From these we can build the phase canonical form\n",
        "A = Matrix([\n",
        "    [0,1,0],\n",
        "    [0,0,1],\n",
        "]).row_insert(3,-Matrix([a]))\n",
        "A\n",
        "B = Matrix([[0],[0],[1]])\n",
        "C = Matrix([b])\n",
        "A,B,C"
      ],
      "execution_count": 8,
      "outputs": [
        {
          "output_type": "display_data",
          "data": {
            "text/html": [
              "\n",
              "        <script src=\"https://www.gstatic.com/external_hosted/mathjax/latest/MathJax.js?config=TeX-AMS_HTML-full,Safe&delayStartupUntil=configured\"></script>\n",
              "        <script>\n",
              "          (() => {\n",
              "            const mathjax = window.MathJax;\n",
              "            mathjax.Hub.Config({\n",
              "            'tex2jax': {\n",
              "              'inlineMath': [['$', '$'], ['\\(', '\\)']],\n",
              "              'displayMath': [['$$', '$$'], ['\\[', '\\]']],\n",
              "              'processEscapes': true,\n",
              "              'processEnvironments': true,\n",
              "              'skipTags': ['script', 'noscript', 'style', 'textarea', 'code'],\n",
              "              'displayAlign': 'center',\n",
              "            },\n",
              "            'HTML-CSS': {\n",
              "              'styles': {'.MathJax_Display': {'margin': 0}},\n",
              "              'linebreaks': {'automatic': true},\n",
              "              // Disable to prevent OTF font loading, which aren't part of our\n",
              "              // distribution.\n",
              "              'imageFont': null,\n",
              "            },\n",
              "            'messageStyle': 'none'\n",
              "          });\n",
              "          mathjax.Hub.Configured();\n",
              "        })();\n",
              "        </script>\n",
              "        "
            ],
            "text/plain": [
              "<IPython.core.display.HTML object>"
            ]
          },
          "metadata": {
            "tags": []
          }
        },
        {
          "output_type": "execute_result",
          "data": {
            "text/latex": "$$\\left ( \\left[\\begin{matrix}0 & 1 & 0\\\\0 & 0 & 1\\\\- K_{i} K_{p 1} & - K_{d} K_{i} - K_{i} - K_{p} K_{p 1} & - K_{d} K_{p} - K_{p}\\end{matrix}\\right], \\quad \\left[\\begin{matrix}0\\\\0\\\\1\\end{matrix}\\right], \\quad \\left[\\begin{matrix}K_{i} K_{p 1} & K_{d} K_{i} + K_{p} K_{p 1} & K_{d} K_{p}\\end{matrix}\\right]\\right )$$",
            "text/plain": [
              "⎛⎡   0                1                  0      ⎤  ⎡0⎤                        \n",
              "⎜⎢                                              ⎥  ⎢ ⎥                        \n",
              "⎜⎢   0                0                  1      ⎥, ⎢0⎥, [Kᵢ⋅Kₚ ₁  K_d⋅Kᵢ + Kₚ⋅\n",
              "⎜⎢                                              ⎥  ⎢ ⎥                        \n",
              "⎝⎣-Kᵢ⋅Kₚ ₁  -K_d⋅Kᵢ - Kᵢ - Kₚ⋅Kₚ ₁  -K_d⋅Kₚ - Kₚ⎦  ⎣1⎦                        \n",
              "\n",
              "             ⎞\n",
              "             ⎟\n",
              "Kₚ ₁  K_d⋅Kₚ]⎟\n",
              "             ⎟\n",
              "             ⎠"
            ]
          },
          "metadata": {
            "tags": []
          },
          "execution_count": 8
        }
      ]
    },
    {
      "cell_type": "code",
      "metadata": {
        "id": "5COND5c-mEF-",
        "colab_type": "code",
        "outputId": "34973192-b175-4d98-c7a9-ee76d8e4fffa",
        "colab": {
          "base_uri": "https://localhost:8080/",
          "height": 40
        }
      },
      "source": [
        "# Check to see if we get the same transfer function back\n",
        "T1 = (C*(s*eye(3)-A).inv()*B)[0]\n",
        "T1 = cancel(T1)\n",
        "T1\n",
        "num1,den1 = fraction(T1)\n",
        "num1,den1"
      ],
      "execution_count": 9,
      "outputs": [
        {
          "output_type": "display_data",
          "data": {
            "text/html": [
              "\n",
              "        <script src=\"https://www.gstatic.com/external_hosted/mathjax/latest/MathJax.js?config=TeX-AMS_HTML-full,Safe&delayStartupUntil=configured\"></script>\n",
              "        <script>\n",
              "          (() => {\n",
              "            const mathjax = window.MathJax;\n",
              "            mathjax.Hub.Config({\n",
              "            'tex2jax': {\n",
              "              'inlineMath': [['$', '$'], ['\\(', '\\)']],\n",
              "              'displayMath': [['$$', '$$'], ['\\[', '\\]']],\n",
              "              'processEscapes': true,\n",
              "              'processEnvironments': true,\n",
              "              'skipTags': ['script', 'noscript', 'style', 'textarea', 'code'],\n",
              "              'displayAlign': 'center',\n",
              "            },\n",
              "            'HTML-CSS': {\n",
              "              'styles': {'.MathJax_Display': {'margin': 0}},\n",
              "              'linebreaks': {'automatic': true},\n",
              "              // Disable to prevent OTF font loading, which aren't part of our\n",
              "              // distribution.\n",
              "              'imageFont': null,\n",
              "            },\n",
              "            'messageStyle': 'none'\n",
              "          });\n",
              "          mathjax.Hub.Configured();\n",
              "        })();\n",
              "        </script>\n",
              "        "
            ],
            "text/plain": [
              "<IPython.core.display.HTML object>"
            ]
          },
          "metadata": {
            "tags": []
          }
        },
        {
          "output_type": "execute_result",
          "data": {
            "text/latex": "$$\\left ( K_{d} K_{i} s + K_{d} K_{p} s^{2} + K_{i} K_{p 1} + K_{p} K_{p 1} s, \\quad K_{d} K_{i} s + K_{d} K_{p} s^{2} + K_{i} K_{p 1} + K_{i} s + K_{p} K_{p 1} s + K_{p} s^{2} + s^{3}\\right )$$",
            "text/plain": [
              "⎛                   2                                           2             \n",
              "⎝K_d⋅Kᵢ⋅s + K_d⋅Kₚ⋅s  + Kᵢ⋅Kₚ ₁ + Kₚ⋅Kₚ ₁⋅s, K_d⋅Kᵢ⋅s + K_d⋅Kₚ⋅s  + Kᵢ⋅Kₚ ₁ + \n",
              "\n",
              "                       2    3⎞\n",
              "Kᵢ⋅s + Kₚ⋅Kₚ ₁⋅s + Kₚ⋅s  + s ⎠"
            ]
          },
          "metadata": {
            "tags": []
          },
          "execution_count": 9
        }
      ]
    },
    {
      "cell_type": "code",
      "metadata": {
        "id": "ZiGMH45bmEGD",
        "colab_type": "code",
        "outputId": "8e97878c-1b4f-4193-a7eb-16c9b4cafac3",
        "colab": {
          "base_uri": "https://localhost:8080/",
          "height": 40
        }
      },
      "source": [
        "# They match the original \n",
        "num,den"
      ],
      "execution_count": 10,
      "outputs": [
        {
          "output_type": "display_data",
          "data": {
            "text/html": [
              "\n",
              "        <script src=\"https://www.gstatic.com/external_hosted/mathjax/latest/MathJax.js?config=TeX-AMS_HTML-full,Safe&delayStartupUntil=configured\"></script>\n",
              "        <script>\n",
              "          (() => {\n",
              "            const mathjax = window.MathJax;\n",
              "            mathjax.Hub.Config({\n",
              "            'tex2jax': {\n",
              "              'inlineMath': [['$', '$'], ['\\(', '\\)']],\n",
              "              'displayMath': [['$$', '$$'], ['\\[', '\\]']],\n",
              "              'processEscapes': true,\n",
              "              'processEnvironments': true,\n",
              "              'skipTags': ['script', 'noscript', 'style', 'textarea', 'code'],\n",
              "              'displayAlign': 'center',\n",
              "            },\n",
              "            'HTML-CSS': {\n",
              "              'styles': {'.MathJax_Display': {'margin': 0}},\n",
              "              'linebreaks': {'automatic': true},\n",
              "              // Disable to prevent OTF font loading, which aren't part of our\n",
              "              // distribution.\n",
              "              'imageFont': null,\n",
              "            },\n",
              "            'messageStyle': 'none'\n",
              "          });\n",
              "          mathjax.Hub.Configured();\n",
              "        })();\n",
              "        </script>\n",
              "        "
            ],
            "text/plain": [
              "<IPython.core.display.HTML object>"
            ]
          },
          "metadata": {
            "tags": []
          }
        },
        {
          "output_type": "execute_result",
          "data": {
            "text/latex": "$$\\left ( K_{d} K_{i} s + K_{d} K_{p} s^{2} + K_{i} K_{p 1} + K_{p} K_{p 1} s, \\quad K_{d} K_{i} s + K_{d} K_{p} s^{2} + K_{i} K_{p 1} + K_{i} s + K_{p} K_{p 1} s + K_{p} s^{2} + s^{3}\\right )$$",
            "text/plain": [
              "⎛                   2                                           2             \n",
              "⎝K_d⋅Kᵢ⋅s + K_d⋅Kₚ⋅s  + Kᵢ⋅Kₚ ₁ + Kₚ⋅Kₚ ₁⋅s, K_d⋅Kᵢ⋅s + K_d⋅Kₚ⋅s  + Kᵢ⋅Kₚ ₁ + \n",
              "\n",
              "                       2    3⎞\n",
              "Kᵢ⋅s + Kₚ⋅Kₚ ₁⋅s + Kₚ⋅s  + s ⎠"
            ]
          },
          "metadata": {
            "tags": []
          },
          "execution_count": 10
        }
      ]
    },
    {
      "cell_type": "markdown",
      "metadata": {
        "id": "5-zJnfghmEGJ",
        "colab_type": "text"
      },
      "source": [
        "Controller Canonical Form\n",
        "---\n",
        "\n",
        "$\\newcommand{\\x}{x}$\n",
        "\n",
        "Phase canonical form is just one way of arranging the variables into matrices to get the same block diagram. Another way to do it is to notice the relationship between block diagrams and state space.\n",
        "\n",
        "First, notice that an integrator block takes the derivative of a function $\\dot x$ and integrates it to get $x$.\n",
        "\n",
        "<img width=20% src=\"https://raw.githubusercontent.com/klavins/ECE447/master/images/integrator-alt.jpg\">\n",
        "\n",
        "A more complicated diagram can easily be turned into equations by following arrows and summations.\n",
        "\n",
        "<img width=40% src=\"https://raw.githubusercontent.com/klavins/ECE447/master/images/controller-canonical-1d.jpg\">\n",
        "\n",
        "Here, we have \n",
        "\n",
        "\\begin{align}\n",
        "\\dot x & = -a x + b u \\\\\n",
        "y & = x\n",
        "\\end{align}\n",
        "\n",
        "We can determine the transfer function of this system:\n",
        "\n",
        "$$\n",
        "T(s) = C(sI-A)^{-1}B = 1(s+a)^{-1}b = \\frac{b}{s+a}\n",
        "$$\n",
        "\n",
        "Thus, this is in the form of equation (13) above.\n",
        "\n",
        "In 2D, we get \n",
        "\n",
        "<img width=60% src=\"https://raw.githubusercontent.com/klavins/ECE447/master/images/controller-canonical-2d.jpg\">\n",
        "\n",
        "from which we can glean the equations\n",
        "\n",
        "\\begin{align}\n",
        "\\dot x_1 & = -a_1 x_1 + x_2 + b_1 u \\\\\n",
        "\\dot x_2 & = -a_0 x_1 + b_0 u \\\\\n",
        "y & = x_1\n",
        "\\end{align}\n",
        "\n",
        "which in matrix for is\n",
        "\n",
        "\\begin{align}\n",
        "\\dot \\x & = \\begin{pmatrix}\n",
        "-a_1 & 1 \\\\\n",
        "-a_0 & 0\n",
        "\\end{pmatrix} \\x + \\begin{pmatrix}\n",
        "b_1 \\\\\n",
        "b_0\n",
        "\\end{pmatrix} u \\\\\n",
        "y & = (1\\;0)\\; \\x\n",
        "\\end{align}\n",
        "\n",
        "We can find the transfer function of this state space system as well, and see that it is still a variant of equation (13)."
      ]
    },
    {
      "cell_type": "code",
      "metadata": {
        "id": "uliZahpYmEGK",
        "colab_type": "code",
        "outputId": "1bb6ffd0-e768-4d05-dfab-dda14db38931",
        "colab": {
          "base_uri": "https://localhost:8080/",
          "height": 57
        }
      },
      "source": [
        "var(\"a0 a1 b0 b1 s\")\n",
        "A = Matrix([\n",
        "    [-a1,1],\n",
        "    [-a0,0]\n",
        "])\n",
        "B = Matrix([[b1],[b0]])\n",
        "C = Matrix([[1, 0]])\n",
        "T = (C*(s*eye(2)-A).inv()*B)[0]\n",
        "T = cancel(T)\n",
        "T"
      ],
      "execution_count": 11,
      "outputs": [
        {
          "output_type": "display_data",
          "data": {
            "text/html": [
              "\n",
              "        <script src=\"https://www.gstatic.com/external_hosted/mathjax/latest/MathJax.js?config=TeX-AMS_HTML-full,Safe&delayStartupUntil=configured\"></script>\n",
              "        <script>\n",
              "          (() => {\n",
              "            const mathjax = window.MathJax;\n",
              "            mathjax.Hub.Config({\n",
              "            'tex2jax': {\n",
              "              'inlineMath': [['$', '$'], ['\\(', '\\)']],\n",
              "              'displayMath': [['$$', '$$'], ['\\[', '\\]']],\n",
              "              'processEscapes': true,\n",
              "              'processEnvironments': true,\n",
              "              'skipTags': ['script', 'noscript', 'style', 'textarea', 'code'],\n",
              "              'displayAlign': 'center',\n",
              "            },\n",
              "            'HTML-CSS': {\n",
              "              'styles': {'.MathJax_Display': {'margin': 0}},\n",
              "              'linebreaks': {'automatic': true},\n",
              "              // Disable to prevent OTF font loading, which aren't part of our\n",
              "              // distribution.\n",
              "              'imageFont': null,\n",
              "            },\n",
              "            'messageStyle': 'none'\n",
              "          });\n",
              "          mathjax.Hub.Configured();\n",
              "        })();\n",
              "        </script>\n",
              "        "
            ],
            "text/plain": [
              "<IPython.core.display.HTML object>"
            ]
          },
          "metadata": {
            "tags": []
          }
        },
        {
          "output_type": "execute_result",
          "data": {
            "text/latex": "$$\\frac{b_{0} + b_{1} s}{a_{0} + a_{1} s + s^{2}}$$",
            "text/plain": [
              "  b₀ + b₁⋅s   \n",
              "──────────────\n",
              "             2\n",
              "a₀ + a₁⋅s + s "
            ]
          },
          "metadata": {
            "tags": []
          },
          "execution_count": 11
        }
      ]
    },
    {
      "cell_type": "markdown",
      "metadata": {
        "id": "2zUQEl-6mEGQ",
        "colab_type": "text"
      },
      "source": [
        "Adding one more dimension should let you see the general structure of so-called controller canonical form.\n",
        "\n",
        "$\\newcommand{\\x}{x}$\n",
        "\n",
        "<img width=80% src=\"https://raw.githubusercontent.com/klavins/ECE447/master/images/controller-canonical-3d.jpg\">\n",
        "\n",
        "Here, we get\n",
        "\n",
        "\\begin{align}\n",
        "\\dot \\x & = \\begin{pmatrix}\n",
        "-a_2 & 1 & 0 \\\\\n",
        "-a_1 & 0 & 1 \\\\\n",
        "-a_0 & 0 & 0 \n",
        "\\end{pmatrix} \\x + \\begin{pmatrix}\n",
        "b_2 \\\\\n",
        "b_1 \\\\\n",
        "b_0\n",
        "\\end{pmatrix} u \\\\\n",
        "y & = (1\\;0\\;0)\\; \\x\n",
        "\\end{align}\n",
        "\n",
        "and the transfer function is still a variant of equation (13):"
      ]
    },
    {
      "cell_type": "code",
      "metadata": {
        "id": "753Ls-oYmEGR",
        "colab_type": "code",
        "outputId": "8bdccb9c-24ae-41d2-90e8-4f5f66e9dd20",
        "colab": {
          "base_uri": "https://localhost:8080/",
          "height": 60
        }
      },
      "source": [
        "var(\"a0 a1 a2 b0 b1 b2 s\")\n",
        "A = Matrix([\n",
        "    [-a2,1,0],\n",
        "    [-a1,0,1],\n",
        "    [-a0,0,0]\n",
        "])\n",
        "B = Matrix([[b2],[b1],[b0]])\n",
        "C = Matrix([[1,0,0]])\n",
        "T = (C*(s*eye(3)-A).inv()*B)[0]\n",
        "T = cancel(T)\n",
        "T"
      ],
      "execution_count": 12,
      "outputs": [
        {
          "output_type": "display_data",
          "data": {
            "text/html": [
              "\n",
              "        <script src=\"https://www.gstatic.com/external_hosted/mathjax/latest/MathJax.js?config=TeX-AMS_HTML-full,Safe&delayStartupUntil=configured\"></script>\n",
              "        <script>\n",
              "          (() => {\n",
              "            const mathjax = window.MathJax;\n",
              "            mathjax.Hub.Config({\n",
              "            'tex2jax': {\n",
              "              'inlineMath': [['$', '$'], ['\\(', '\\)']],\n",
              "              'displayMath': [['$$', '$$'], ['\\[', '\\]']],\n",
              "              'processEscapes': true,\n",
              "              'processEnvironments': true,\n",
              "              'skipTags': ['script', 'noscript', 'style', 'textarea', 'code'],\n",
              "              'displayAlign': 'center',\n",
              "            },\n",
              "            'HTML-CSS': {\n",
              "              'styles': {'.MathJax_Display': {'margin': 0}},\n",
              "              'linebreaks': {'automatic': true},\n",
              "              // Disable to prevent OTF font loading, which aren't part of our\n",
              "              // distribution.\n",
              "              'imageFont': null,\n",
              "            },\n",
              "            'messageStyle': 'none'\n",
              "          });\n",
              "          mathjax.Hub.Configured();\n",
              "        })();\n",
              "        </script>\n",
              "        "
            ],
            "text/plain": [
              "<IPython.core.display.HTML object>"
            ]
          },
          "metadata": {
            "tags": []
          }
        },
        {
          "output_type": "execute_result",
          "data": {
            "text/latex": "$$\\frac{b_{0} + b_{1} s + b_{2} s^{2}}{a_{0} + a_{1} s + a_{2} s^{2} + s^{3}}$$",
            "text/plain": [
              "                  2   \n",
              "  b₀ + b₁⋅s + b₂⋅s    \n",
              "──────────────────────\n",
              "                2    3\n",
              "a₀ + a₁⋅s + a₂⋅s  + s "
            ]
          },
          "metadata": {
            "tags": []
          },
          "execution_count": 12
        }
      ]
    },
    {
      "cell_type": "markdown",
      "metadata": {
        "id": "MV9G5YVWmEGW",
        "colab_type": "text"
      },
      "source": [
        "Physical Variable Form\n",
        "---\n",
        "\n",
        "$\\newcommand{\\x}{x}$\n",
        "\n",
        "The above suggests that we can read off a state space representation directly from the original block diagram, which is expanded a below to separate out the integrators in the two control blocks.\n",
        "\n",
        "\n",
        "From the above we can see that \n",
        "\n",
        "\\begin{align}\n",
        "\\dot x_1 & = x_2 \\\\\n",
        "\\dot x_2 & = K_p \\dot x_3 + K_I x_3 \\\\\n",
        "\\dot x_3 & = K_{p_1}(u-x_1) - K_d x_2 - x_2\n",
        "\\end{align}\n",
        "\n",
        "Substituting $\\dot x_3$ into the right hand side of the equation for $\\dot x_2$ gives\n",
        "\n",
        "$$\n",
        "\\dot x_2 = K_p K_{p_1} u - K_p K_{p_1} x_1 - K_p K_d x_2 - K_p x_2 + K_I x_3\n",
        "$$\n",
        "\n",
        "Putting all of the above in matrix form yields:\n",
        "\n",
        "\\begin{align}\n",
        "\\dot \\x & = \\begin{pmatrix}\n",
        "0 & 1 & 0 \\\\\n",
        "-K_p K_{p_1} & -K_p K_d - K_p & K_I \\\\\n",
        "-K_{p_1} & -K_d-1 & 0 \n",
        "\\end{pmatrix} \\x + \\begin{pmatrix}\n",
        "0 \\\\\n",
        "K_p K_{p_1} \\\\\n",
        "0\n",
        "\\end{pmatrix} u \\\\\n",
        "y & = (1\\;0\\;0)\\; \\x\n",
        "\\end{align}\n",
        "\n",
        "We can once again check that this gives us our original transfer function."
      ]
    },
    {
      "cell_type": "code",
      "metadata": {
        "id": "ZlcNmskhmEGY",
        "colab_type": "code",
        "outputId": "1b718611-68a1-4a5e-8f47-235890accc5a",
        "colab": {
          "base_uri": "https://localhost:8080/",
          "height": 62
        }
      },
      "source": [
        "var(\"a0 a1 a2 b0 b1 b2 s\")\n",
        "A = Matrix([\n",
        "    [0,1,0],\n",
        "    [-K_p*K_p_1,-K_p*K_d-K_p,K_i],\n",
        "    [-K_p_1,-K_d-1,0]\n",
        "])\n",
        "B = Matrix([[0],[K_p*K_p_1],[0]])\n",
        "C = Matrix([[1,0,0]])\n",
        "Tp = (C*(s*eye(3)-A).inv()*B)[0]\n",
        "Tp = cancel(Tp)\n",
        "Tp,T"
      ],
      "execution_count": 14,
      "outputs": [
        {
          "output_type": "display_data",
          "data": {
            "text/html": [
              "\n",
              "        <script src=\"https://www.gstatic.com/external_hosted/mathjax/latest/MathJax.js?config=TeX-AMS_HTML-full,Safe&delayStartupUntil=configured\"></script>\n",
              "        <script>\n",
              "          (() => {\n",
              "            const mathjax = window.MathJax;\n",
              "            mathjax.Hub.Config({\n",
              "            'tex2jax': {\n",
              "              'inlineMath': [['$', '$'], ['\\(', '\\)']],\n",
              "              'displayMath': [['$$', '$$'], ['\\[', '\\]']],\n",
              "              'processEscapes': true,\n",
              "              'processEnvironments': true,\n",
              "              'skipTags': ['script', 'noscript', 'style', 'textarea', 'code'],\n",
              "              'displayAlign': 'center',\n",
              "            },\n",
              "            'HTML-CSS': {\n",
              "              'styles': {'.MathJax_Display': {'margin': 0}},\n",
              "              'linebreaks': {'automatic': true},\n",
              "              // Disable to prevent OTF font loading, which aren't part of our\n",
              "              // distribution.\n",
              "              'imageFont': null,\n",
              "            },\n",
              "            'messageStyle': 'none'\n",
              "          });\n",
              "          mathjax.Hub.Configured();\n",
              "        })();\n",
              "        </script>\n",
              "        "
            ],
            "text/plain": [
              "<IPython.core.display.HTML object>"
            ]
          },
          "metadata": {
            "tags": []
          }
        },
        {
          "output_type": "execute_result",
          "data": {
            "text/latex": "$$\\left ( \\frac{K_{p} K_{p 1} s}{K_{d} K_{i} s + K_{d} K_{p} s^{2} + K_{i} K_{p 1} + K_{i} s + K_{p} K_{p 1} s + K_{p} s^{2} + s^{3}}, \\quad \\frac{b_{0} + b_{1} s + b_{2} s^{2}}{a_{0} + a_{1} s + a_{2} s^{2} + s^{3}}\\right )$$",
            "text/plain": [
              "⎛                                                                             \n",
              "⎜                          Kₚ⋅Kₚ ₁⋅s                               b₀ + b₁⋅s +\n",
              "⎜──────────────────────────────────────────────────────────────, ─────────────\n",
              "⎜                   2                                    2    3               \n",
              "⎝K_d⋅Kᵢ⋅s + K_d⋅Kₚ⋅s  + Kᵢ⋅Kₚ ₁ + Kᵢ⋅s + Kₚ⋅Kₚ ₁⋅s + Kₚ⋅s  + s   a₀ + a₁⋅s + a\n",
              "\n",
              "     2   ⎞\n",
              " b₂⋅s    ⎟\n",
              "─────────⎟\n",
              "   2    3⎟\n",
              "₂⋅s  + s ⎠"
            ]
          },
          "metadata": {
            "tags": []
          },
          "execution_count": 14
        }
      ]
    },
    {
      "cell_type": "markdown",
      "metadata": {
        "id": "tlyW7ODtmEGf",
        "colab_type": "text"
      },
      "source": [
        "Diagonal Form\n",
        "---"
      ]
    },
    {
      "cell_type": "code",
      "metadata": {
        "id": "EVEq8fp1mEGh",
        "colab_type": "code",
        "colab": {}
      },
      "source": [
        "T"
      ],
      "execution_count": 0,
      "outputs": []
    },
    {
      "cell_type": "code",
      "metadata": {
        "id": "htxIvuXLmEGm",
        "colab_type": "code",
        "colab": {}
      },
      "source": [
        ""
      ],
      "execution_count": 0,
      "outputs": []
    }
  ]
}