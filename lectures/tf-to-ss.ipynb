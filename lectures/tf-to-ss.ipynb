{
 "cells": [
  {
   "cell_type": "markdown",
   "metadata": {},
   "source": [
    "ECE 447: From Transfer Functions to State Space\n",
    "===\n",
    "\n",
    "Prof. Eric Klavins\n",
    "\n",
    "&copy; 2019, University of Washington"
   ]
  },
  {
   "cell_type": "code",
   "execution_count": 2,
   "metadata": {
    "collapsed": true
   },
   "outputs": [],
   "source": [
    "import numpy as np\n",
    "import scipy.integrate as spi\n",
    "import matplotlib.pyplot as plt\n",
    "from sympy import *\n",
    "\n",
    "%matplotlib inline\n",
    "\n",
    "# Comment out in Google colab \n",
    "init_printing(use_latex='mathjax')\n",
    "\n",
    "# Uncomment in below Google colab to render sympy equations nicely\n",
    "# def custom_latex_printer(exp,**options):\n",
    "#     from google.colab.output._publish import javascript\n",
    "#     url = \"https://cdnjs.cloudflare.com/ajax/libs/mathjax/2.7.3/latest.js?config=default\"\n",
    "#     javascript(url=url)\n",
    "#     return printing.latex(exp,**options)\n",
    "\n",
    "\n",
    "# init_printing(use_latex=\"mathjax\",latex_printer=custom_latex_printer)"
   ]
  },
  {
   "cell_type": "markdown",
   "metadata": {},
   "source": [
    "Similar systems give the same transfer function\n",
    "---\n",
    "\n",
    "Suppose \n",
    "\n",
    "\\begin{align}\n",
    "\\dot \\x & = A \\x + B u \\\\\n",
    "y & = C x\n",
    "\\end{align}\n",
    "\n",
    "and that\n",
    "\n",
    "$$\n",
    "{\\bf z} = P^{-1} \\x\n",
    "$$\n",
    "\n",
    "is a change of coordinates from $\\x$ to ${\\bf z}$.\n",
    "\n",
    "Then\n",
    "\n",
    "\\begin{align}\n",
    "\\dot {\\bf z} & = P^{-1} \\dot \\x \\\\\n",
    " & = P^{-1} ( A \\x + B u ) \\\\\n",
    " & = P^{-1} ( A P{\\bf z}  + B u ) \\\\\n",
    " & = P^{-1}A P {\\bf z} + P^{-1} B u\n",
    "\\end{align}\n",
    "\n",
    "and\n",
    "\n",
    "$$\n",
    "y = C \\x = C P {\\bf z} \n",
    "$$\n",
    "\n",
    "so that the input/output dynamics of ${\\bf z}$ are governed by the matrices \n",
    "\n",
    "$$\n",
    "\\tilde{A}=P^{-1}A P, \\;\\; \\tilde{B}=P^{-1} B, \\;\\; \\mathrm{and} \\;\\; \\tilde{C}=C P \n",
    "$$\n",
    "\n",
    "Now let's look at the transfer function in z-coordinates:\n",
    "\n",
    "\\begin{align}\n",
    "sZ(s) & = P^{-1}AP Z(s) + P^{-1}BU(s) \\\\\n",
    "s P Z(s) & = A P Z(s) + BU(s) \\\\\n",
    "(sI-A)PZ(s) & = BU(s) \\\\\n",
    "Z(s) & = P^{-1}(sI-A)^{-1}BU(s) \\\\\n",
    "Y(s) & = CPZ(s) \\\\\n",
    "     & = CPP^{-1}(sI-A)^{-1}BU(s) \n",
    "     & = C(sI-A)^{-1}BU(s)\n",
    "\\end{align}\n",
    "\n",
    "so \n",
    "\n",
    "$$\n",
    "\\frac{Y(s)}{U(s)} = C(sI-A)^{-1}B\n",
    "$$\n",
    "\n",
    "which is the same as the transfer function derived from the original $\\dot x$ system.\n",
    "\n",
    "Since $P$ can be any invertible matrix, the above means that: \n",
    "\n",
    "> **A given transfer function has an infinite number of state space realizations.**\n",
    "\n",
    "Which one you use depends on what you are trying to do. For now, we'll go over several ways to convert transfer functions into state space."
   ]
  },
  {
   "cell_type": "markdown",
   "metadata": {},
   "source": [
    "In this notebook, we'll come up with four different ways to turn a transfer function into state space. We'll use the following example throughout. \n",
    "\n",
    "Running Example\n",
    "---\n",
    "\n",
    "Consider a rocket with equations\n",
    "\n",
    "$$\n",
    "\\begin{pmatrix}\n",
    "\\dot x \\\\\n",
    "\\dot v\n",
    "\\end{pmatrix} = \\begin{pmatrix}\n",
    "v \\\\\n",
    "- \\frac{g}{m} + f\n",
    "\\end{pmatrix}\n",
    "$$\n",
    "\n",
    "where $f$ is the thruster force. We are supposing the mass is not changing much during the time we will control it. You might assume we are trying to get the rocket to land on a landing pad at $x=0$ with $v=0$ so it doesn't hit too hard. Defining $u = -g/m + f$ we get the simple system\n",
    "\n",
    "$$\n",
    "\\dot \\x = \\begin{pmatrix}\n",
    "0 & 1 \\\\\n",
    "0 & 0\n",
    "\\end{pmatrix} \\x + \\begin{pmatrix}\n",
    "0 \\\\\n",
    "1\n",
    "\\end{pmatrix} u\n",
    "$$\n",
    "\n",
    "If we suppose we have an altimeter, then $y = x$ and \n",
    "\n",
    "$$\n",
    "y = ( 1 \\;\\; 0 ) \\; \\x\n",
    "$$\n",
    "\n",
    "The transfer function is \n",
    "\n",
    "\\begin{align}\n",
    "\\frac{Y(s)}{U(s)} & = C ( sI - A ) ^{-1} B \\\\\n",
    "                  & = ( 1 \\;\\; 0 ) \\frac{1}{s^2} \\begin{pmatrix} \n",
    "s & 1 \\\\\n",
    "0 & s\n",
    "\\end{pmatrix} \\begin{pmatrix}\n",
    "0 \\\\\n",
    "1\n",
    "\\end{pmatrix} \\\\\n",
    " & = \\frac{1}{s^2}\n",
    "\\end{align}\n",
    "\n",
    "Thus, the system is basically a double integrator. We can visualize it as a block diagram as follows:\n",
    "\n",
    "<img width=30% src=\"https://raw.githubusercontent.com/klavins/ECE447/master/images/rocket.png\">\n",
    "\n",
    "If we suppose that we also have a sensor for the velocity, we can make a PI controller to control the velocity by using feedback. The controller has the transfer function $K_P + K_I/s$ which is the series composition of the proportional gain with the integrator, both taking the error $v_des - v$ as input.\n",
    "\n",
    "<img width=40% src=\"https://raw.githubusercontent.com/klavins/ECE447/master/images/rocket-velocity.png\">\n",
    "\n",
    "Then we can control the whole system by supposing that the input to the above system, the desired velocity, is the output a PD controller that takes as input the desired position minus the actual position, to get:\n",
    "\n",
    "<img width=55% src=\"https://raw.githubusercontent.com/klavins/ECE447/master/images/rocket-position.png\">\n",
    "\n",
    "The transfer function of this system can be found using the formula for a feedback interconnection we found last time. In particular, we show that the inner loop has transfer function\n",
    "\n",
    "$$\n",
    "L(s) = \\frac{G(s)}{1+G(s)}\n",
    "$$\n",
    "\n",
    "where \n",
    "\n",
    "$$\n",
    "G(s) = \\frac{1}{s}\\left(K_P + \\frac{K_I}{s}\\right)\n",
    "$$\n",
    "\n",
    "so that\n",
    "\n",
    "$$\n",
    "L(s) = \\frac{K_Ps + K_I}{s^2 + K_Ps + K_I}.\n",
    "$$\n",
    "\n",
    "Then we can find the transfer function of the whole system using the same formula to get\n",
    "\n",
    "$$\n",
    "T(s) = \\frac{H(s)}{1+H(s)}\n",
    "$$\n",
    "\n",
    "where \n",
    "\n",
    "$$\n",
    "H(s) = \\frac{1}{s}(K_{P_1} + K_Ds) L(s)\n",
    "$$\n",
    "\n",
    "Substituting in the above and simplifying we get\n",
    "\n",
    "$$\n",
    "T(s) = \\frac{K_PK_Ds^2 + (K_DK_I + K_{P_1}K_P) s + K_{P_1}K_I}\n",
    "            {s^3 + (K_P + K_PK_D)s^2 + (K_I+K_DK_I+K_PK_{P_1})s + K_IP_{P_1}}\n",
    "$$"
   ]
  },
  {
   "cell_type": "code",
   "execution_count": 125,
   "metadata": {},
   "outputs": [
    {
     "data": {
      "text/latex": [
       "$$\\frac{Kd Ki s + Kd Kp s^{2} + Ki Kp_{1} + Kp Kp_{1} s}{Kd Ki s + Kd Kp s^{2} + Ki Kp_{1} + Ki s + Kp Kp_{1} s + Kp s^{2} + s^{3}}$$"
      ],
      "text/plain": [
       "                           2                              \n",
       "          Kd⋅Ki⋅s + Kd⋅Kp⋅s  + Ki⋅Kp₁ + Kp⋅Kp₁⋅s          \n",
       "──────────────────────────────────────────────────────────\n",
       "                 2                                  2    3\n",
       "Kd⋅Ki⋅s + Kd⋅Kp⋅s  + Ki⋅Kp₁ + Ki⋅s + Kp⋅Kp₁⋅s + Kp⋅s  + s "
      ]
     },
     "execution_count": 125,
     "metadata": {},
     "output_type": "execute_result"
    }
   ],
   "source": [
    "# In sympy\n",
    "var(\"s G H L Kp Kp1 Kd Ki\")\n",
    "G = (Kp+Ki/s)/s\n",
    "L = G / ( 1 + G )\n",
    "H = (Kp1+Kd*s)*L/s\n",
    "T = H / (1+H)\n",
    "T = cancel(T) # Puts rational polynomials in a standard form\n",
    "T"
   ]
  },
  {
   "cell_type": "code",
   "execution_count": 120,
   "metadata": {},
   "outputs": [
    {
     "data": {
      "text/latex": [
       "$$\\left ( Kd Ki s + Kd Kp s^{2} + Ki Kp_{1} + Kp Kp_{1} s, \\quad Kd Ki s + Kd Kp s^{2} + Ki Kp_{1} + Ki s + Kp Kp_{1} s + Kp s^{2} + s^{3}\\right )$$"
      ],
      "text/plain": [
       "⎛                 2                                       2                   \n",
       "⎝Kd⋅Ki⋅s + Kd⋅Kp⋅s  + Ki⋅Kp₁ + Kp⋅Kp₁⋅s, Kd⋅Ki⋅s + Kd⋅Kp⋅s  + Ki⋅Kp₁ + Ki⋅s + \n",
       "\n",
       "               2    3⎞\n",
       "Kp⋅Kp₁⋅s + Kp⋅s  + s ⎠"
      ]
     },
     "execution_count": 120,
     "metadata": {},
     "output_type": "execute_result"
    }
   ],
   "source": [
    "num,den = fraction(T)\n",
    "num,den"
   ]
  },
  {
   "cell_type": "markdown",
   "metadata": {},
   "source": [
    "Phase Canonical Form\n",
    "---\n",
    "\n",
    "In *phase canonical form*, we convert a transfer function directly into a state space representation directly by using the coefficients of the numerator and denominator. Suppose that\n",
    "\n",
    "$$\n",
    "\\frac{Y(s)}{U(s)} = \\frac{b_3 s^3 + b_2 s^2 + b_1 s + b_0}\n",
    "                         {s^4 + a_3 s^3 + a_2 s^2 + a_1 s + a_0}\n",
    "$$\n",
    "\n",
    "Make up a new signal called $Z(s)$ and multiply by $Z(s)/Z(s)$ to get \n",
    "\n",
    "\\begin{align}\n",
    "Y(s) & = (b_3 s^3 + b_2 s^2 + b_1 s + b_0) Z(s) \\\\\n",
    "U(s) & = (s^4 + a_3 s^3 + a_2 s^2 + a_1 s + a_0) Z(s)\n",
    "\\end{align}\n",
    "\n",
    "Then taking the inverse Laplace transform we get\n",
    "\n",
    "\\begin{align}\n",
    "y & = b_3 \\dddot z + b_2 \\ddot z + b_1 \\dot z + b_0 z \\\\\n",
    "u & = \\ddddot z + a_3 \\dddot z + a_2 \\ddot z + a_1 \\dot z + a_0 z\n",
    "\\end{align}\n",
    "\n",
    "If then define $x$ in terms of $z$ as follows:\n",
    "\n",
    "\\begin{align}\n",
    "x_1 & = z \\\\\n",
    "x_2 & = \\dot z  = \\dot x_1 \\\\\n",
    "x_3 & = \\ddot z = \\dot x_2 \\\\\n",
    "x_4 & = \\dddot z = \\dot x_3\n",
    "\\end{align}\n",
    "\n",
    "then\n",
    "\n",
    "\\begin{align}\n",
    "\\dot x_4 & = \\ddddot z = - a_3 \\dddot z - a_2 \\ddot z - a_1 \\dot z - a_0 z + u \\\\\n",
    "         & = -a_3 x_4 - a_2 x_3 - a_1 x_2 - a_0 x_1 + u\n",
    "\\end{align}\n",
    "\n",
    "and \n",
    "\n",
    "$$\n",
    "y = b_3 x_4 + b_2 x_3 + b_1 x_2 + b_0 x_1\n",
    "$$\n",
    "\n",
    "In matrix form then, we get \n",
    "\n",
    "\\begin{align}\n",
    "\\dot x & = \\begin{pmatrix}\n",
    "0 & 1 & 0 & 0 \\\\\n",
    "0 & 0 & 1 & 0 \\\\\n",
    "0 & 0 & 0 & 1 \\\\\n",
    "-a_0 & -a_1 & -a_2 & -a_3 \n",
    "\\end{pmatrix} \\x + \\begin{pmatrix}\n",
    "0 \\\\\n",
    "0 \\\\\n",
    "0 \\\\\n",
    "1\n",
    "\\end{pmatrix} u \\\\\n",
    "y & = ( b_0 \\; b_1 \\; b_2 \\; b_3 ) \\; \\x .\n",
    "\\end{align}\n",
    "\n",
    "We can use sympy to get our running example into this form as follows. Note that the example system only has three states since the polynomial in the denominator has degree 3. What we get are $A$, $B$, and $C$ matrices that are equivalent to our original system, but which are not particularly intuitive. In particular, the output of the system is some combination of the state variables involving the controller gains."
   ]
  },
  {
   "cell_type": "code",
   "execution_count": 99,
   "metadata": {},
   "outputs": [
    {
     "data": {
      "text/latex": [
       "$$\\left [ Kd Kp, \\quad Kd Ki + Kp Kp_{1}, \\quad Ki Kp_{1}\\right ]$$"
      ],
      "text/plain": [
       "[Kd⋅Kp, Kd⋅Ki + Kp⋅Kp₁, Ki⋅Kp₁]"
      ]
     },
     "execution_count": 99,
     "metadata": {},
     "output_type": "execute_result"
    }
   ],
   "source": [
    "# First we get the coefficients of the numerator of T\n",
    "b = Poly(num,s).coeffs()\n",
    "b"
   ]
  },
  {
   "cell_type": "code",
   "execution_count": 100,
   "metadata": {},
   "outputs": [
    {
     "data": {
      "text/latex": [
       "$$\\left [ Kd Kp + Kp, \\quad Kd Ki + Ki + Kp Kp_{1}, \\quad Ki Kp_{1}\\right ]$$"
      ],
      "text/plain": [
       "[Kd⋅Kp + Kp, Kd⋅Ki + Ki + Kp⋅Kp₁, Ki⋅Kp₁]"
      ]
     },
     "execution_count": 100,
     "metadata": {},
     "output_type": "execute_result"
    }
   ],
   "source": [
    "# Next we get the coefficients of the denominator\n",
    "a = Poly(den,s).coeffs()[1:4]\n",
    "a"
   ]
  },
  {
   "cell_type": "code",
   "execution_count": 101,
   "metadata": {},
   "outputs": [
    {
     "data": {
      "text/latex": [
       "$$\\left ( \\left[\\begin{matrix}0 & 1 & 0\\\\0 & 0 & 1\\\\- Kd Kp - Kp & - Kd Ki - Ki - Kp Kp_{1} & - Ki Kp_{1}\\end{matrix}\\right], \\quad \\left[\\begin{matrix}0\\\\0\\\\1\\end{matrix}\\right], \\quad \\left[\\begin{matrix}Kd Kp & Kd Ki + Kp Kp_{1} & Ki Kp_{1}\\end{matrix}\\right]\\right )$$"
      ],
      "text/plain": [
       "⎛⎡     0                1               0   ⎤, ⎡0⎤, [Kd⋅Kp  Kd⋅Ki + Kp⋅Kp₁  Ki\n",
       "⎜⎢                                          ⎥  ⎢ ⎥                            \n",
       "⎜⎢     0                0               1   ⎥  ⎢0⎥                            \n",
       "⎜⎢                                          ⎥  ⎢ ⎥                            \n",
       "⎝⎣-Kd⋅Kp - Kp  -Kd⋅Ki - Ki - Kp⋅Kp₁  -Ki⋅Kp₁⎦  ⎣1⎦                            \n",
       "\n",
       "⋅Kp₁]⎞\n",
       "     ⎟\n",
       "     ⎟\n",
       "     ⎟\n",
       "     ⎠"
      ]
     },
     "execution_count": 101,
     "metadata": {},
     "output_type": "execute_result"
    }
   ],
   "source": [
    "# From these we can build the phase canonical form\n",
    "A = Matrix([\n",
    "    [0,1,0],\n",
    "    [0,0,1],\n",
    "]).row_insert(3,-Matrix([a]))\n",
    "A\n",
    "B = Matrix([[0],[0],[1]])\n",
    "C = Matrix([b])\n",
    "A,B,C"
   ]
  },
  {
   "cell_type": "code",
   "execution_count": 102,
   "metadata": {},
   "outputs": [
    {
     "data": {
      "text/latex": [
       "$$\\left ( Kd Ki s + Kd Kp + Ki Kp_{1} s^{2} + Kp Kp_{1} s, \\quad Kd Ki s + Kd Kp + Ki Kp_{1} s^{2} + Ki s + Kp Kp_{1} s + Kp + s^{3}\\right )$$"
      ],
      "text/plain": [
       "⎛                          2                                       2          \n",
       "⎝Kd⋅Ki⋅s + Kd⋅Kp + Ki⋅Kp₁⋅s  + Kp⋅Kp₁⋅s, Kd⋅Ki⋅s + Kd⋅Kp + Ki⋅Kp₁⋅s  + Ki⋅s + \n",
       "\n",
       "                 3⎞\n",
       "Kp⋅Kp₁⋅s + Kp + s ⎠"
      ]
     },
     "execution_count": 102,
     "metadata": {},
     "output_type": "execute_result"
    }
   ],
   "source": [
    "# Check to see if we get the same transfer function back\n",
    "T1 = (C*(s*eye(3)-A).inv()*B)[0]\n",
    "T1 = cancel(T1)\n",
    "num1,den1 = fraction(T1)\n",
    "num1,den1"
   ]
  },
  {
   "cell_type": "code",
   "execution_count": 104,
   "metadata": {},
   "outputs": [
    {
     "data": {
      "text/latex": [
       "$$\\left ( Kd Ki s + Kd Kp s^{2} + Ki Kp_{1} + Kp Kp_{1} s, \\quad Kd Ki s + Kd Kp s^{2} + Ki Kp_{1} + Ki s + Kp Kp_{1} s + Kp s^{2} + s^{3}\\right )$$"
      ],
      "text/plain": [
       "⎛                 2                                       2                   \n",
       "⎝Kd⋅Ki⋅s + Kd⋅Kp⋅s  + Ki⋅Kp₁ + Kp⋅Kp₁⋅s, Kd⋅Ki⋅s + Kd⋅Kp⋅s  + Ki⋅Kp₁ + Ki⋅s + \n",
       "\n",
       "               2    3⎞\n",
       "Kp⋅Kp₁⋅s + Kp⋅s  + s ⎠"
      ]
     },
     "execution_count": 104,
     "metadata": {},
     "output_type": "execute_result"
    }
   ],
   "source": [
    "# They match the original \n",
    "num,den"
   ]
  },
  {
   "cell_type": "markdown",
   "metadata": {},
   "source": [
    "Controller Canonical Form\n",
    "---\n",
    "\n",
    "Phase canonical form is just one way of arranging the variables into matrices to get the same block diagram. Another way to do it is to notice the relationship between block diagrams and state space.\n",
    "\n",
    "First, notice that an integrator block takes the derivative of a function $\\dot x$ and integrates it to get $x$.\n",
    "\n",
    "<img width=20% src=\"https://raw.githubusercontent.com/klavins/ECE447/master/images/integrator-alt.jpg\">\n",
    "\n",
    "A more complicated diagram can easily be turned into equations by following arrows and summations.\n",
    "\n",
    "<img width=40% src=\"https://raw.githubusercontent.com/klavins/ECE447/master/images/controller-canonical-1d.jpg\">\n",
    "\n",
    "Here, we have \n",
    "\n",
    "\\begin{align}\n",
    "\\dot x & = -a x + b u \\\\\n",
    "y & = x\n",
    "\\end{align}\n",
    "\n",
    "We can determine the transfer function of this system:\n",
    "\n",
    "$$\n",
    "T(s) = C(sI-A)^{-1}B = 1(s+a)^{-1}b = \\frac{b}{s+a}\n",
    "$$\n",
    "\n",
    "Thus, this is in the form of equation (13) above.\n",
    "\n",
    "In 2D, we get \n",
    "\n",
    "<img width=60% src=\"https://raw.githubusercontent.com/klavins/ECE447/master/images/controller-canonical-2d.jpg\">\n",
    "\n",
    "from which we can glean the equations\n",
    "\n",
    "\\begin{align}\n",
    "\\dot x_1 & = -a_1 x_1 + x_2 + b_1 u \\\\\n",
    "\\dot x_2 & = -a_0 x_1 + b_0 u \\\\\n",
    "y & = x_1\n",
    "\\end{align}\n",
    "\n",
    "which in matrix for is\n",
    "\n",
    "\\begin{align}\n",
    "\\dot \\x & = \\begin{pmatrix}\n",
    "-a_1 & 1 \\\\\n",
    "-a_0 & 0\n",
    "\\end{pmatrix} \\x + \\begin{pmatrix}\n",
    "b_1 \\\\\n",
    "b_0\n",
    "\\end{pmatrix} u \\\\\n",
    "y & = (1\\;0)\\; \\x\n",
    "\\end{align}\n",
    "\n",
    "We can find the transfer function of this state space system as well, and see that it is still a variant of equation (13)."
   ]
  },
  {
   "cell_type": "code",
   "execution_count": 114,
   "metadata": {},
   "outputs": [
    {
     "data": {
      "text/latex": [
       "$$\\frac{b_{0} + b_{1} s}{a_{0} + a_{1} s + s^{2}}$$"
      ],
      "text/plain": [
       "  b₀ + b₁⋅s   \n",
       "──────────────\n",
       "             2\n",
       "a₀ + a₁⋅s + s "
      ]
     },
     "execution_count": 114,
     "metadata": {},
     "output_type": "execute_result"
    }
   ],
   "source": [
    "var(\"a0 a1 b0 b1 s\")\n",
    "A = Matrix([\n",
    "    [-a1,1],\n",
    "    [-a0,0]\n",
    "])\n",
    "B = Matrix([[b1],[b0]])\n",
    "C = Matrix([[1, 0]])\n",
    "T = (C*(s*eye(2)-A).inv()*B)[0]\n",
    "T = cancel(T)\n",
    "T"
   ]
  },
  {
   "cell_type": "markdown",
   "metadata": {},
   "source": [
    "Adding one more dimension should let you see the general structure of so-called controller canonical form.\n",
    "\n",
    "<img width=80% src=\"https://raw.githubusercontent.com/klavins/ECE447/master/images/controller-canonical-3d.jpg\">\n",
    "\n",
    "Here, we get\n",
    "\n",
    "\\begin{align}\n",
    "\\dot \\x & = \\begin{pmatrix}\n",
    "-a_2 & 1 & 0 \\\\\n",
    "-a_1 & 0 & 1 \\\\\n",
    "-a_0 & 0 & 0 \n",
    "\\end{pmatrix} \\x + \\begin{pmatrix}\n",
    "b_2 \\\\\n",
    "b_1 \\\\\n",
    "b_0\n",
    "\\end{pmatrix} u \\\\\n",
    "y & = (1\\;0\\;0)\\; \\x\n",
    "\\end{align}\n",
    "\n",
    "and the transfer function is still a variant of equation (13):"
   ]
  },
  {
   "cell_type": "code",
   "execution_count": 117,
   "metadata": {},
   "outputs": [
    {
     "data": {
      "text/latex": [
       "$$\\frac{b_{0} + b_{1} s + b_{2} s^{2}}{a_{0} + a_{1} s + a_{2} s^{2} + s^{3}}$$"
      ],
      "text/plain": [
       "                  2   \n",
       "  b₀ + b₁⋅s + b₂⋅s    \n",
       "──────────────────────\n",
       "                2    3\n",
       "a₀ + a₁⋅s + a₂⋅s  + s "
      ]
     },
     "execution_count": 117,
     "metadata": {},
     "output_type": "execute_result"
    }
   ],
   "source": [
    "var(\"a0 a1 a2 b0 b1 b2 s\")\n",
    "A = Matrix([\n",
    "    [-a2,1,0],\n",
    "    [-a1,0,1],\n",
    "    [-a0,0,0]\n",
    "])\n",
    "B = Matrix([[b2],[b1],[b0]])\n",
    "C = Matrix([[1,0,0]])\n",
    "T = (C*(s*eye(3)-A).inv()*B)[0]\n",
    "T = cancel(T)\n",
    "T"
   ]
  },
  {
   "cell_type": "markdown",
   "metadata": {},
   "source": [
    "Physical Variable Form\n",
    "---\n",
    "\n",
    "The above suggests that we can read off a state space representation directly from the original block diagram, which is expanded a below to separate out the integrators in the two control blocks.\n",
    "\n",
    "\n",
    "From the above we can see that \n",
    "\n",
    "\\begin{align}\n",
    "\\dot x_1 & = x_2 \\\\\n",
    "\\dot x_2 & = K_p \\dot x_3 + K_I x_3 \\\\\n",
    "\\dot x_3 & = K_{p_1}(u-x_1) - K_d x_2 - x_2\n",
    "\\end{align}\n",
    "\n",
    "Substituting $\\dot x_3$ into the right hand side of the equation for $\\dot x_2$ gives\n",
    "\n",
    "$$\n",
    "\\dot x_2 = K_p K_{p_1} u - K_p K_{p_1} x_1 - K_p K_d x_2 - K_p x_2 + K_I x_3\n",
    "$$\n",
    "\n",
    "Putting all of the above in matrix form yields:\n",
    "\n",
    "\\begin{align}\n",
    "\\dot \\x & = \\begin{pmatrix}\n",
    "0 & 1 & 0 \\\\\n",
    "-K_p K_{p_1} & -K_p K_d - K_p & K_I \\\\\n",
    "-K_{p_1} & -K_d-1 & 0 \n",
    "\\end{pmatrix} \\x + \\begin{pmatrix}\n",
    "0 \\\\\n",
    "K_p K_{p_1} \\\\\n",
    "0\n",
    "\\end{pmatrix} u \\\\\n",
    "y & = (1\\;0\\;0)\\; \\x\n",
    "\\end{align}\n",
    "\n",
    "We can once again check that this gives us our original transfer function."
   ]
  },
  {
   "cell_type": "code",
   "execution_count": 128,
   "metadata": {},
   "outputs": [
    {
     "data": {
      "text/latex": [
       "$$\\left ( \\frac{Kd Ki s + Kd Kp s^{2} + Ki Kp_{1} + Kp Kp_{1} s}{Kd Ki s + Kd Kp s^{2} + Ki Kp_{1} + Ki s + Kp Kp_{1} s + Kp s^{2} + s^{3}}, \\quad \\frac{Kd Ki s + Kd Kp s^{2} + Ki Kp_{1} + Kp Kp_{1} s}{Kd Ki s + Kd Kp s^{2} + Ki Kp_{1} + Ki s + Kp Kp_{1} s + Kp s^{2} + s^{3}}\\right )$$"
      ],
      "text/plain": [
       "⎛                           2                                                 \n",
       "⎜          Kd⋅Ki⋅s + Kd⋅Kp⋅s  + Ki⋅Kp₁ + Kp⋅Kp₁⋅s                      Kd⋅Ki⋅s\n",
       "⎜──────────────────────────────────────────────────────────, ─────────────────\n",
       "⎜                 2                                  2    3                   \n",
       "⎝Kd⋅Ki⋅s + Kd⋅Kp⋅s  + Ki⋅Kp₁ + Ki⋅s + Kp⋅Kp₁⋅s + Kp⋅s  + s   Kd⋅Ki⋅s + Kd⋅Kp⋅s\n",
       "\n",
       "          2                              ⎞\n",
       " + Kd⋅Kp⋅s  + Ki⋅Kp₁ + Kp⋅Kp₁⋅s          ⎟\n",
       "─────────────────────────────────────────⎟\n",
       "2                                  2    3⎟\n",
       "  + Ki⋅Kp₁ + Ki⋅s + Kp⋅Kp₁⋅s + Kp⋅s  + s ⎠"
      ]
     },
     "execution_count": 128,
     "metadata": {},
     "output_type": "execute_result"
    }
   ],
   "source": [
    "var(\"a0 a1 a2 b0 b1 b2 s\")\n",
    "A = Matrix([\n",
    "    [0,1,0],\n",
    "    [-Kp*Kp1,-Kp*Kd-Kp,Ki],\n",
    "    [-Kp1,-Kd-1,0]\n",
    "])\n",
    "B = Matrix([[0],[Kp*Kp1],[0]])\n",
    "C = Matrix([[1,0,0]])\n",
    "Tp = (C*(s*eye(3)-A).inv()*B)[0]\n",
    "Tp = cancel(T)\n",
    "Tp,T"
   ]
  },
  {
   "cell_type": "markdown",
   "metadata": {},
   "source": [
    "Diagonal Form\n",
    "---"
   ]
  },
  {
   "cell_type": "code",
   "execution_count": 126,
   "metadata": {},
   "outputs": [
    {
     "data": {
      "text/latex": [
       "$$\\frac{Kd Ki s + Kd Kp s^{2} + Ki Kp_{1} + Kp Kp_{1} s}{Kd Ki s + Kd Kp s^{2} + Ki Kp_{1} + Ki s + Kp Kp_{1} s + Kp s^{2} + s^{3}}$$"
      ],
      "text/plain": [
       "                           2                              \n",
       "          Kd⋅Ki⋅s + Kd⋅Kp⋅s  + Ki⋅Kp₁ + Kp⋅Kp₁⋅s          \n",
       "──────────────────────────────────────────────────────────\n",
       "                 2                                  2    3\n",
       "Kd⋅Ki⋅s + Kd⋅Kp⋅s  + Ki⋅Kp₁ + Ki⋅s + Kp⋅Kp₁⋅s + Kp⋅s  + s "
      ]
     },
     "execution_count": 126,
     "metadata": {},
     "output_type": "execute_result"
    }
   ],
   "source": [
    "T"
   ]
  },
  {
   "cell_type": "code",
   "execution_count": null,
   "metadata": {
    "collapsed": true
   },
   "outputs": [],
   "source": []
  }
 ],
 "metadata": {
  "kernelspec": {
   "display_name": "Python 3",
   "language": "python",
   "name": "python3"
  },
  "language_info": {
   "codemirror_mode": {
    "name": "ipython",
    "version": 3
   },
   "file_extension": ".py",
   "mimetype": "text/x-python",
   "name": "python",
   "nbconvert_exporter": "python",
   "pygments_lexer": "ipython3",
   "version": "3.6.1"
  },
  "latex_envs": {
   "LaTeX_envs_menu_present": true,
   "autoclose": false,
   "autocomplete": true,
   "bibliofile": "biblio.bib",
   "cite_by": "apalike",
   "current_citInitial": 1,
   "eqLabelWithNumbers": true,
   "eqNumInitial": 1,
   "hotkeys": {
    "equation": "Ctrl-E",
    "itemize": "Ctrl-I"
   },
   "labels_anchors": false,
   "latex_user_defs": false,
   "report_style_numbering": false,
   "user_envs_cfg": false
  }
 },
 "nbformat": 4,
 "nbformat_minor": 2
}
