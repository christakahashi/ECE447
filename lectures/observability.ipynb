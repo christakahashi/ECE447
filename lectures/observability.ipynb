{
  "nbformat": 4,
  "nbformat_minor": 0,
  "metadata": {
    "kernelspec": {
      "display_name": "Python 3",
      "language": "python",
      "name": "python3"
    },
    "language_info": {
      "codemirror_mode": {
        "name": "ipython",
        "version": 3
      },
      "file_extension": ".py",
      "mimetype": "text/x-python",
      "name": "python",
      "nbconvert_exporter": "python",
      "pygments_lexer": "ipython3",
      "version": "3.6.1"
    },
    "colab": {
      "name": "observability.ipynb",
      "provenance": [],
      "include_colab_link": true
    }
  },
  "cells": [
    {
      "cell_type": "markdown",
      "metadata": {
        "id": "view-in-github",
        "colab_type": "text"
      },
      "source": [
        "<a href=\"https://colab.research.google.com/github/christakahashi/ECE447/blob/master/lectures/observability.ipynb\" target=\"_parent\"><img src=\"https://colab.research.google.com/assets/colab-badge.svg\" alt=\"Open In Colab\"/></a>"
      ]
    },
    {
      "cell_type": "markdown",
      "metadata": {
        "id": "pgQokpUMsALf",
        "colab_type": "text"
      },
      "source": [
        "# ECE 447: Observability\n",
        "\n",
        "\n",
        "Updated by \n",
        " Dr. Chris Takahashi\n",
        "\n",
        "Authored by Prof. Eric Klavins &copy; 2019, University of Washington\n"
      ]
    },
    {
      "cell_type": "markdown",
      "metadata": {
        "heading_collapsed": true,
        "id": "Ka5b177CsALi",
        "colab_type": "text"
      },
      "source": [
        "# Code"
      ]
    },
    {
      "cell_type": "code",
      "metadata": {
        "hidden": true,
        "id": "kdEaVg3HsALj",
        "colab_type": "code",
        "colab": {
          "base_uri": "https://localhost:8080/",
          "height": 371
        },
        "outputId": "75fff9da-e742-429e-8953-e2b7411a7ca6"
      },
      "source": [
        "import numpy as np\n",
        "import scipy.integrate as spi\n",
        "import matplotlib.pyplot as plt\n",
        "import matplotlib.patches as patches\n",
        "from sympy import *\n",
        "from matplotlib import animation\n",
        "\n",
        "# Uncomment on Google colab\n",
        "# !pip install JSAnimation\n",
        "!pip install control\n",
        "\n",
        "#from JSAnimation.IPython_display import display_animation\n",
        "from control import * \n",
        "\n",
        "%matplotlib inline\n",
        "#comment out for light mode\n",
        "plt.style.use('dark_background')\n",
        "\n",
        "try: \n",
        "  import google.colab #test for colab\n",
        "  import IPython\n",
        "  def setup_typeset():\n",
        "    \"\"\"MathJax initialization for the current cell.\n",
        "    \n",
        "    This installs and configures MathJax for the current output.\n",
        "    \"\"\"\n",
        "    IPython.display.display(IPython.display.HTML('''\n",
        "        <script src=\"https://www.gstatic.com/external_hosted/mathjax/latest/MathJax.js?config=TeX-AMS_HTML-full,Safe&delayStartupUntil=configured\"></script>\n",
        "        <script>\n",
        "          (() => {\n",
        "            const mathjax = window.MathJax;\n",
        "            mathjax.Hub.Config({\n",
        "            'tex2jax': {\n",
        "              'inlineMath': [['$', '$'], ['\\\\(', '\\\\)']],\n",
        "              'displayMath': [['$$', '$$'], ['\\\\[', '\\\\]']],\n",
        "              'processEscapes': true,\n",
        "              'processEnvironments': true,\n",
        "              'skipTags': ['script', 'noscript', 'style', 'textarea', 'code'],\n",
        "              'displayAlign': 'center',\n",
        "            },\n",
        "            'HTML-CSS': {\n",
        "              'styles': {'.MathJax_Display': {'margin': 0}},\n",
        "              'linebreaks': {'automatic': true},\n",
        "              // Disable to prevent OTF font loading, which aren't part of our\n",
        "              // distribution.\n",
        "              'imageFont': null,\n",
        "            },\n",
        "            'messageStyle': 'none'\n",
        "          });\n",
        "          mathjax.Hub.Configured();\n",
        "        })();\n",
        "        </script>\n",
        "        '''))\n",
        "  def custom_latex_printer(exp,**options):\n",
        "      setup_typeset()\n",
        "      return printing.latex(exp,**options)\n",
        "  init_printing(use_latex=\"mathjax\",latex_printer=custom_latex_printer)\n",
        "except:\n",
        "  init_printing(use_latex='mathjax')"
      ],
      "execution_count": 6,
      "outputs": [
        {
          "output_type": "stream",
          "text": [
            "Collecting control\n",
            "\u001b[?25l  Downloading https://files.pythonhosted.org/packages/e8/b0/32a903138505dd4ea523f8a3fc156c4272aa58b10100ef24ff74ced2fae8/control-0.8.3.tar.gz (249kB)\n",
            "\r\u001b[K     |█▎                              | 10kB 14.0MB/s eta 0:00:01\r\u001b[K     |██▋                             | 20kB 1.8MB/s eta 0:00:01\r\u001b[K     |████                            | 30kB 2.3MB/s eta 0:00:01\r\u001b[K     |█████▎                          | 40kB 1.7MB/s eta 0:00:01\r\u001b[K     |██████▋                         | 51kB 1.9MB/s eta 0:00:01\r\u001b[K     |███████▉                        | 61kB 2.2MB/s eta 0:00:01\r\u001b[K     |█████████▏                      | 71kB 2.4MB/s eta 0:00:01\r\u001b[K     |██████████▌                     | 81kB 2.5MB/s eta 0:00:01\r\u001b[K     |███████████▉                    | 92kB 2.8MB/s eta 0:00:01\r\u001b[K     |█████████████▏                  | 102kB 2.7MB/s eta 0:00:01\r\u001b[K     |██████████████▍                 | 112kB 2.7MB/s eta 0:00:01\r\u001b[K     |███████████████▊                | 122kB 2.7MB/s eta 0:00:01\r\u001b[K     |█████████████████               | 133kB 2.7MB/s eta 0:00:01\r\u001b[K     |██████████████████▍             | 143kB 2.7MB/s eta 0:00:01\r\u001b[K     |███████████████████▊            | 153kB 2.7MB/s eta 0:00:01\r\u001b[K     |█████████████████████           | 163kB 2.7MB/s eta 0:00:01\r\u001b[K     |██████████████████████▎         | 174kB 2.7MB/s eta 0:00:01\r\u001b[K     |███████████████████████▋        | 184kB 2.7MB/s eta 0:00:01\r\u001b[K     |█████████████████████████       | 194kB 2.7MB/s eta 0:00:01\r\u001b[K     |██████████████████████████▎     | 204kB 2.7MB/s eta 0:00:01\r\u001b[K     |███████████████████████████▋    | 215kB 2.7MB/s eta 0:00:01\r\u001b[K     |████████████████████████████▉   | 225kB 2.7MB/s eta 0:00:01\r\u001b[K     |██████████████████████████████▏ | 235kB 2.7MB/s eta 0:00:01\r\u001b[K     |███████████████████████████████▌| 245kB 2.7MB/s eta 0:00:01\r\u001b[K     |████████████████████████████████| 256kB 2.7MB/s \n",
            "\u001b[?25hRequirement already satisfied: numpy in /usr/local/lib/python3.6/dist-packages (from control) (1.18.4)\n",
            "Requirement already satisfied: scipy in /usr/local/lib/python3.6/dist-packages (from control) (1.4.1)\n",
            "Requirement already satisfied: matplotlib in /usr/local/lib/python3.6/dist-packages (from control) (3.2.1)\n",
            "Requirement already satisfied: kiwisolver>=1.0.1 in /usr/local/lib/python3.6/dist-packages (from matplotlib->control) (1.2.0)\n",
            "Requirement already satisfied: python-dateutil>=2.1 in /usr/local/lib/python3.6/dist-packages (from matplotlib->control) (2.8.1)\n",
            "Requirement already satisfied: pyparsing!=2.0.4,!=2.1.2,!=2.1.6,>=2.0.1 in /usr/local/lib/python3.6/dist-packages (from matplotlib->control) (2.4.7)\n",
            "Requirement already satisfied: cycler>=0.10 in /usr/local/lib/python3.6/dist-packages (from matplotlib->control) (0.10.0)\n",
            "Requirement already satisfied: six>=1.5 in /usr/local/lib/python3.6/dist-packages (from python-dateutil>=2.1->matplotlib->control) (1.12.0)\n",
            "Building wheels for collected packages: control\n",
            "  Building wheel for control (setup.py) ... \u001b[?25l\u001b[?25hdone\n",
            "  Created wheel for control: filename=control-0.8.3-py2.py3-none-any.whl size=260982 sha256=f3315755efaa5d523284e5efa3524c4bf6ef96cf50117658eb537a3fcec82c2d\n",
            "  Stored in directory: /root/.cache/pip/wheels/c2/d9/cc/90b28cb139a6320a3af2285428b6da87eee8d8920c78bb0223\n",
            "Successfully built control\n",
            "Installing collected packages: control\n",
            "Successfully installed control-0.8.3\n"
          ],
          "name": "stdout"
        }
      ]
    },
    {
      "cell_type": "markdown",
      "metadata": {
        "id": "4KqcII6ysAL0",
        "colab_type": "text"
      },
      "source": [
        "# Definitions"
      ]
    },
    {
      "cell_type": "markdown",
      "metadata": {
        "id": "oT_q8fIHsAL2",
        "colab_type": "text"
      },
      "source": [
        "$\\newcommand{\\x}{x}$\n",
        "\n",
        "One of the problems with full state feedback is that it assumes we have access to the state of the system, but really we only have access to the outputs. What an **observer** does is take the input and output to the plant and try to estimate what $\\x$ is.\n",
        "\n",
        "<img width=75% src=\"https://raw.githubusercontent.com/klavins/ECE447/master/images/observer-problem.png\">\n",
        "\n",
        "The idea with an observer is that it **simulates** the system, not knowing the exact parameters or the initial condition. For example, a *poor* observer could be:\n",
        "\n",
        "\\begin{align}\n",
        "\\dot{\\hat{\\x}} & = A \\hat{\\x} + B u \\\\\n",
        "\\hat{y} & = C \\hat{\\x}\n",
        "\\end{align}\n",
        "\n",
        "where $\\hat{\\x}$ is a new vector, called the estimate, with the same dimension as $\\x$. Also, $\\hat{y}$ is the estimated output given the estimated state.\n",
        "\n",
        "To evaluate the above observer, we can look at the error between the state and its estimate, and the output and its estimate:\n",
        "\n",
        "$$\n",
        "{\\bf e} = \\x - \\hat{\\x} \n",
        "$$\n",
        "\n",
        "and\n",
        "\n",
        "$$\n",
        "y - \\hat y.\n",
        "$$\n",
        "\n",
        "Since both the state and the estimate evolve according to the same matrices, we have\n",
        "\n",
        "\\begin{align}\n",
        "\\dot x - \\dot {\\hat x} & = A (x - \\hat x) \\\\\n",
        "{y} - \\hat y & = C({\\x} - \\hat\\x)\n",
        "\\end{align}\n",
        "\n",
        "If $A$ is stable, then the estimate $\\hat{\\x}$ converges to $\\x$. That seems good, but there are issues:\n",
        "\n",
        "- $\\hat{\\x}$ converges to $\\x$ at the same rate that $\\x$ converges to its equilibrium (since the $A$ matrix is the same). You might want the estimate a lot earlier.\n",
        "- If $A$ is only an approximation, then $\\hat{\\x}$ and $\\x$ may actually evolve quite differently.\n",
        "- It requires $A$ to be stable. But you might be controlling an unstable plant."
      ]
    },
    {
      "cell_type": "markdown",
      "metadata": {
        "id": "U8qshZwnsAL3",
        "colab_type": "text"
      },
      "source": [
        "Example System\n",
        "---\n",
        "As a running example, we define a system below. We suppose there is a true $A$ matrix and an approximate $A$ matrix that comes from the modeling department. Alternatively, we could also imagine an exact $A$ matrix, but that it comes from linearizing a nonlinear system that provides the actual dynamics (we'll do that later with the levitation example)."
      ]
    },
    {
      "cell_type": "code",
      "metadata": {
        "id": "XTG9nXuKsAL4",
        "colab_type": "code",
        "colab": {}
      },
      "source": [
        "# Example: A bad observer\n",
        "\n",
        "# Actual A Matrix\n",
        "A = Matrix([\n",
        "    [0,-1.0,0],\n",
        "    [3,0,-72.33],\n",
        "    [0,0.5,-30.0]])\n",
        "\n",
        "# Appoximated A matrix\n",
        "Approx = Matrix([\n",
        "    [0,-1.5,0],\n",
        "    [3.1,0,-72.33],\n",
        "    [0,0.5,-32.0]])\n",
        "\n",
        "B = Matrix([\n",
        "    [0],\n",
        "    [0],\n",
        "    [1]\n",
        "])\n",
        "\n",
        "C = Matrix([[1,0,0]])"
      ],
      "execution_count": 0,
      "outputs": []
    },
    {
      "cell_type": "markdown",
      "metadata": {
        "id": "uONCbqCWsAL_",
        "colab_type": "text"
      },
      "source": [
        "Simulation of a poor observer\n",
        "---\n",
        "\n",
        "To evaluate the example observer above, we apply it to the above system in simulation and plot the states and the state estimates. You can see that the estimates approximately track the actual states, but that they (a) do not always settle in the right places and (b) they they don't settle very quickly."
      ]
    },
    {
      "cell_type": "code",
      "metadata": {
        "id": "_yo5sECRsAMA",
        "colab_type": "code",
        "colab": {
          "base_uri": "https://localhost:8080/",
          "height": 280
        },
        "outputId": "76f8e6ad-2335-49ed-fe22-368bd896aa70"
      },
      "source": [
        "def input(t):\n",
        "    if t < 10:\n",
        "        return 1\n",
        "    elif t < 20:\n",
        "        return 0\n",
        "    else:\n",
        "        return 1\n",
        "    \n",
        "def f(X,t):\n",
        "    x = X[:3]\n",
        "    xhat = X[3:6]\n",
        "    u = input(t)\n",
        "    return flatten(\n",
        "        (A*Matrix(x) + B*u).tolist() + \n",
        "        (Approx*Matrix(xhat) + B*u).tolist())\n",
        "\n",
        "t=np.linspace(0,30,100)\n",
        "X = spi.odeint(f,[1,1,1,0,0,0],t)\n",
        "fig,ax = plt.subplots(1,3,figsize=(15,5))\n",
        "\n",
        "for i in range(3):\n",
        "    ax[i].plot(t,X[:,i],label=\"$x_%d$\" % (i+1))\n",
        "    ax[i].plot(t,X[:,3+i],label=\"$\\hat{x}_%d$\" % (i+1));\n",
        "    ax[i].set_xlabel(\"$t$\")\n",
        "    ax[i].legend()\n",
        "    \n",
        "ax[0].set_ylabel(\"state\");\n",
        "    "
      ],
      "execution_count": 24,
      "outputs": [
        {
          "output_type": "display_data",
          "data": {
            "image/png": "[encoded data removed]",
            "text/plain": [
              "<Figure size 1080x360 with 3 Axes>"
            ]
          },
          "metadata": {
            "tags": []
          }
        }
      ]
    },
    {
      "cell_type": "markdown",
      "metadata": {
        "id": "L3bunhkAsAMI",
        "colab_type": "text"
      },
      "source": [
        "# Luenberger Observer Design"
      ]
    },
    {
      "cell_type": "markdown",
      "metadata": {
        "id": "jchib5pmsAMK",
        "colab_type": "text"
      },
      "source": [
        "$\\newcommand{\\x}{x}$\n",
        "\n",
        "A much better design for an observer does the following:\n",
        "\n",
        "\\begin{align}\n",
        "\\dot{\\hat{\\x}} & = A \\hat{\\x} + B u + L(y - \\hat{y}) \\\\\n",
        "\\hat{y} & = C \\hat{\\x}\n",
        "\\end{align}\n",
        "\n",
        "where $L$ is a matrix of gains. To see how to design $L$, we look at the error dynamics for ${\\bf e} = \\x - \\hat{\\x}$:\n",
        "\n",
        "\\begin{align}\n",
        "\\dot{\\bf e} & = A \\x - A \\hat{\\x} - L({y}-\\hat y) \\\\\n",
        " & = A {\\bf e} - L C \\x  + L C \\hat{\\x} \\\\\n",
        " & = (A-LC) {\\bf e} .\n",
        "\\end{align}\n",
        "\n",
        "This looks a lot like full state feedback. In fact, we may be able to place the poles of $A-LC$ anywhere via a suitably designed $L$. \n",
        "\n",
        "| OBSERVER DESIGN | CONTROLLER DESIGN |\n",
        "|:---|:---|\n",
        "|$A-LC$|$A-BK$|\n",
        "|$L$ is $n \\times 1$|$K$ is $1 \\times n$|\n",
        "|The system may not be *observable*|The system may not be *controllable*|\n",
        "|Want to place the poles to be faster than poles of $A$|Want to place the poles for performance|"
      ]
    },
    {
      "cell_type": "markdown",
      "metadata": {
        "id": "rerePvuXsAML",
        "colab_type": "text"
      },
      "source": [
        "$\\newcommand{\\x}{x}$\n",
        "\n",
        "Example\n",
        "---\n",
        "\n",
        "Let's design a matrix of gains $L$ to track the $\\x$ for the above example. Let's decide we want the poles to be about 4 times the poles of $A$, and also to have no imaginary component (so there is no overshoot in the observer error). \n",
        "\n",
        "We can use the `place` command from the control toolbox, but we have to figure out how to transform $A$ and $C$ into the appropriate form. `place` takes matrices of the form $A$ and $B$ and places the poles of $A-BK$. If we transpose $A-LC$ to get\n",
        "\n",
        "$$\n",
        "(A-LC)^T = A^T - C^T L^T\n",
        "$$\n",
        "\n",
        "then we matrices of the right dimension for `place`."
      ]
    },
    {
      "cell_type": "code",
      "metadata": {
        "id": "TTW-nYzusAMM",
        "colab_type": "code",
        "colab": {
          "base_uri": "https://localhost:8080/",
          "height": 36
        },
        "outputId": "9bab3a38-5532-47b0-937c-869f9b12df8a"
      },
      "source": [
        "An = np.array(Approx.transpose()).astype(np.float64)\n",
        "Cn = np.array(C.transpose()).astype(np.float64)\n",
        "\n",
        "desired_poles = 4*np.linalg.eig(An)[0]\n",
        "desired_poles = np.array([ -10, -12, -14 ])\n",
        "desired_poles"
      ],
      "execution_count": 25,
      "outputs": [
        {
          "output_type": "execute_result",
          "data": {
            "text/plain": [
              "array([-10, -12, -14])"
            ]
          },
          "metadata": {
            "tags": []
          },
          "execution_count": 25
        }
      ]
    },
    {
      "cell_type": "code",
      "metadata": {
        "id": "7OJkFMYTsAMT",
        "colab_type": "code",
        "colab": {
          "base_uri": "https://localhost:8080/",
          "height": 83
        },
        "outputId": "2b0abfd7-e9e7-43f9-a827-3f650fa015a1"
      },
      "source": [
        "L = Matrix(place(An,Cn,desired_poles)).transpose()\n",
        "L"
      ],
      "execution_count": 26,
      "outputs": [
        {
          "output_type": "display_data",
          "data": {
            "text/html": [
              "\n",
              "        <script src=\"https://www.gstatic.com/external_hosted/mathjax/latest/MathJax.js?config=TeX-AMS_HTML-full,Safe&delayStartupUntil=configured\"></script>\n",
              "        <script>\n",
              "          (() => {\n",
              "            const mathjax = window.MathJax;\n",
              "            mathjax.Hub.Config({\n",
              "            'tex2jax': {\n",
              "              'inlineMath': [['$', '$'], ['\\(', '\\)']],\n",
              "              'displayMath': [['$$', '$$'], ['\\[', '\\]']],\n",
              "              'processEscapes': true,\n",
              "              'processEnvironments': true,\n",
              "              'skipTags': ['script', 'noscript', 'style', 'textarea', 'code'],\n",
              "              'displayAlign': 'center',\n",
              "            },\n",
              "            'HTML-CSS': {\n",
              "              'styles': {'.MathJax_Display': {'margin': 0}},\n",
              "              'linebreaks': {'automatic': true},\n",
              "              // Disable to prevent OTF font loading, which aren't part of our\n",
              "              // distribution.\n",
              "              'imageFont': null,\n",
              "            },\n",
              "            'messageStyle': 'none'\n",
              "          });\n",
              "          mathjax.Hub.Configured();\n",
              "        })();\n",
              "        </script>\n",
              "        "
            ],
            "text/plain": [
              "<IPython.core.display.HTML object>"
            ]
          },
          "metadata": {
            "tags": []
          }
        },
        {
          "output_type": "execute_result",
          "data": {
            "text/latex": "$$\\left[\\begin{matrix}3.99999999999961\\\\-172.790000000002\\\\-63.6654223696955\\end{matrix}\\right]$$",
            "text/plain": [
              "⎡3.99999999999961 ⎤\n",
              "⎢                 ⎥\n",
              "⎢-172.790000000002⎥\n",
              "⎢                 ⎥\n",
              "⎣-63.6654223696955⎦"
            ]
          },
          "metadata": {
            "tags": []
          },
          "execution_count": 26
        }
      ]
    },
    {
      "cell_type": "code",
      "metadata": {
        "id": "cDk1XLGLsAMY",
        "colab_type": "code",
        "colab": {
          "base_uri": "https://localhost:8080/",
          "height": 285
        },
        "outputId": "eff48773-003b-46b0-bdf6-d3f7ff013efb"
      },
      "source": [
        "def f(X,t):\n",
        "    x = Matrix([X[:3]]).transpose()\n",
        "    xhat = Matrix([X[3:6]]).transpose()\n",
        "    u = input(t)\n",
        "    fb = L * ( C*x - C*xhat )\n",
        "    return flatten(\n",
        "        (A*x + B*u).tolist() + \n",
        "        (A*xhat + B*u + fb).tolist())\n",
        "\n",
        "t=np.linspace(0,40,400)\n",
        "X = spi.odeint(f,[3,2,1,0,0,0],t)\n",
        "fig,ax = plt.subplots(1,3,figsize=(15,5))\n",
        "\n",
        "for i in range(3):\n",
        "    ax[i].plot(t,X[:,i],label=\"$x_%d$\" % (i+1))\n",
        "    ax[i].plot(t,X[:,3+i],label=\"$\\hat{x}_%d$\" % (i+1));\n",
        "    ax[i].set_xlabel(\"$t$\")\n",
        "    ax[i].legend()\n",
        "    \n",
        "ax[0].set_ylabel(\"state\");\n",
        "# ax[0].set_ylim(-0.5,1.5)\n",
        "# ax[1].set_ylim(-2,2)\n",
        "# ax[2].set_ylim(-0.2,0.2)"
      ],
      "execution_count": 27,
      "outputs": [
        {
          "output_type": "display_data",
          "data": {
            "image/png": "[encoded data removed]",
            "text/plain": [
              "<Figure size 1080x360 with 3 Axes>"
            ]
          },
          "metadata": {
            "tags": []
          }
        }
      ]
    },
    {
      "cell_type": "markdown",
      "metadata": {
        "collapsed": true,
        "id": "X0U_-t5EsAMd",
        "colab_type": "text"
      },
      "source": [
        "# Observability"
      ]
    },
    {
      "cell_type": "markdown",
      "metadata": {
        "id": "BjYaGZLysAMe",
        "colab_type": "text"
      },
      "source": [
        "$\\newcommand{\\x}{x}$\n",
        "\n",
        "**Def:** A system is **observable** if the initial state $\\x(0)$ can be determined by watching $u(t)$ and $y(t)$ for a finite time. \n",
        "\n",
        "**Theorem:** A linear system is *observable* if and only if the poles of $A-LC$ can be place arbitrarily by choosing $L$.\n",
        "\n",
        "**Theorem:** The system \n",
        "\n",
        "\\begin{align}\n",
        "\\dot{\\x} & = A \\x + B u \\\\\n",
        "y & = C \\x\n",
        "\\end{align}\n",
        "\n",
        "is observable if and only if \n",
        "\n",
        "$$\n",
        "\\mathcal{O} = \\begin{pmatrix}\n",
        "C \\\\\n",
        "CA \\\\\n",
        "C A^2 \\\\\n",
        "\\vdots \\\\\n",
        "C A^{n-1}\n",
        "\\end{pmatrix}\n",
        "$$\n",
        "\n",
        "has full rank.\n",
        "\n",
        "Note the similarity with the controllability matrix. In fact, we also have the following result:\n",
        "\n",
        "**Theorem:** $A, C$ is observable if and only if $A^T, C^T$ is controllable. \n",
        "\n",
        "We used this above when we called `place` to design the $L$ matrix in the previous example. "
      ]
    },
    {
      "cell_type": "markdown",
      "metadata": {
        "id": "VXasN2DbsAMf",
        "colab_type": "text"
      },
      "source": [
        "Example\n",
        "---\n",
        "\n",
        "Using the definition of $A$ from the above example we have:"
      ]
    },
    {
      "cell_type": "code",
      "metadata": {
        "id": "xLw9vTfmsAMh",
        "colab_type": "code",
        "colab": {
          "base_uri": "https://localhost:8080/",
          "height": 83
        },
        "outputId": "f1123da9-b4a8-4744-f709-2190ed661d33"
      },
      "source": [
        "O = Matrix([C,C*A,C*A**2])\n",
        "O, O.rank()"
      ],
      "execution_count": 28,
      "outputs": [
        {
          "output_type": "display_data",
          "data": {
            "text/html": [
              "\n",
              "        <script src=\"https://www.gstatic.com/external_hosted/mathjax/latest/MathJax.js?config=TeX-AMS_HTML-full,Safe&delayStartupUntil=configured\"></script>\n",
              "        <script>\n",
              "          (() => {\n",
              "            const mathjax = window.MathJax;\n",
              "            mathjax.Hub.Config({\n",
              "            'tex2jax': {\n",
              "              'inlineMath': [['$', '$'], ['\\(', '\\)']],\n",
              "              'displayMath': [['$$', '$$'], ['\\[', '\\]']],\n",
              "              'processEscapes': true,\n",
              "              'processEnvironments': true,\n",
              "              'skipTags': ['script', 'noscript', 'style', 'textarea', 'code'],\n",
              "              'displayAlign': 'center',\n",
              "            },\n",
              "            'HTML-CSS': {\n",
              "              'styles': {'.MathJax_Display': {'margin': 0}},\n",
              "              'linebreaks': {'automatic': true},\n",
              "              // Disable to prevent OTF font loading, which aren't part of our\n",
              "              // distribution.\n",
              "              'imageFont': null,\n",
              "            },\n",
              "            'messageStyle': 'none'\n",
              "          });\n",
              "          mathjax.Hub.Configured();\n",
              "        })();\n",
              "        </script>\n",
              "        "
            ],
            "text/plain": [
              "<IPython.core.display.HTML object>"
            ]
          },
          "metadata": {
            "tags": []
          }
        },
        {
          "output_type": "execute_result",
          "data": {
            "text/latex": "$$\\left ( \\left[\\begin{matrix}1 & 0 & 0\\\\0 & -1.0 & 0\\\\-3.0 & 0 & 72.33\\end{matrix}\\right], \\quad 3\\right )$$",
            "text/plain": [
              "⎛⎡ 1     0      0  ⎤   ⎞\n",
              "⎜⎢                 ⎥   ⎟\n",
              "⎜⎢ 0    -1.0    0  ⎥, 3⎟\n",
              "⎜⎢                 ⎥   ⎟\n",
              "⎝⎣-3.0   0    72.33⎦   ⎠"
            ]
          },
          "metadata": {
            "tags": []
          },
          "execution_count": 28
        }
      ]
    },
    {
      "cell_type": "code",
      "metadata": {
        "id": "mJMWOB8FGk6J",
        "colab_type": "code",
        "colab": {
          "base_uri": "https://localhost:8080/",
          "height": 36
        },
        "outputId": "45425cf3-8037-47cd-a80a-1c7105158c5f"
      },
      "source": [
        "[C,C*A,C*A**2]"
      ],
      "execution_count": 29,
      "outputs": [
        {
          "output_type": "display_data",
          "data": {
            "text/html": [
              "\n",
              "        <script src=\"https://www.gstatic.com/external_hosted/mathjax/latest/MathJax.js?config=TeX-AMS_HTML-full,Safe&delayStartupUntil=configured\"></script>\n",
              "        <script>\n",
              "          (() => {\n",
              "            const mathjax = window.MathJax;\n",
              "            mathjax.Hub.Config({\n",
              "            'tex2jax': {\n",
              "              'inlineMath': [['$', '$'], ['\\(', '\\)']],\n",
              "              'displayMath': [['$$', '$$'], ['\\[', '\\]']],\n",
              "              'processEscapes': true,\n",
              "              'processEnvironments': true,\n",
              "              'skipTags': ['script', 'noscript', 'style', 'textarea', 'code'],\n",
              "              'displayAlign': 'center',\n",
              "            },\n",
              "            'HTML-CSS': {\n",
              "              'styles': {'.MathJax_Display': {'margin': 0}},\n",
              "              'linebreaks': {'automatic': true},\n",
              "              // Disable to prevent OTF font loading, which aren't part of our\n",
              "              // distribution.\n",
              "              'imageFont': null,\n",
              "            },\n",
              "            'messageStyle': 'none'\n",
              "          });\n",
              "          mathjax.Hub.Configured();\n",
              "        })();\n",
              "        </script>\n",
              "        "
            ],
            "text/plain": [
              "<IPython.core.display.HTML object>"
            ]
          },
          "metadata": {
            "tags": []
          }
        },
        {
          "output_type": "execute_result",
          "data": {
            "text/latex": "$$\\left [ \\left[\\begin{matrix}1 & 0 & 0\\end{matrix}\\right], \\quad \\left[\\begin{matrix}0 & -1.0 & 0\\end{matrix}\\right], \\quad \\left[\\begin{matrix}-3.0 & 0 & 72.33\\end{matrix}\\right]\\right ]$$",
            "text/plain": [
              "[[1  0  0], [0  -1.0  0], [-3.0  0  72.33]]"
            ]
          },
          "metadata": {
            "tags": []
          },
          "execution_count": 29
        }
      ]
    },
    {
      "cell_type": "markdown",
      "metadata": {
        "id": "o3UZj68WsAMm",
        "colab_type": "text"
      },
      "source": [
        "$\\newcommand{\\x}{x}$\n",
        "\n",
        "Example\n",
        "---\n",
        "The following system is controllable, but not observable. You can see that there is on way to get any information about the second state from $y$.\n",
        "\n",
        "\\begin{align}\n",
        "\\dot{\\x} & = \\begin{pmatrix}\n",
        "0 & 1 \\\\\n",
        "0 & 0 \n",
        "\\end{pmatrix}\\x + \\begin{pmatrix}\n",
        "0 \\\\\n",
        "1\n",
        "\\end{pmatrix} u \\\\\n",
        "y & = ( 0 \\;\\; 1 ) \\; \\x\n",
        "\\end{align}\n"
      ]
    },
    {
      "cell_type": "code",
      "metadata": {
        "id": "PJ9je8qwsAMn",
        "colab_type": "code",
        "colab": {
          "base_uri": "https://localhost:8080/",
          "height": 59
        },
        "outputId": "0f01762c-a53a-46fc-9517-0e2a2dd8fef7"
      },
      "source": [
        "A = Matrix([\n",
        "    [0,1],\n",
        "    [0,0]\n",
        "]);\n",
        "B = Matrix([\n",
        "    [0],\n",
        "    [1]\n",
        "])\n",
        "C = Matrix([[0,1]])\n",
        "O = Matrix([C,C*A])\n",
        "O, O.rank()"
      ],
      "execution_count": 30,
      "outputs": [
        {
          "output_type": "display_data",
          "data": {
            "text/html": [
              "\n",
              "        <script src=\"https://www.gstatic.com/external_hosted/mathjax/latest/MathJax.js?config=TeX-AMS_HTML-full,Safe&delayStartupUntil=configured\"></script>\n",
              "        <script>\n",
              "          (() => {\n",
              "            const mathjax = window.MathJax;\n",
              "            mathjax.Hub.Config({\n",
              "            'tex2jax': {\n",
              "              'inlineMath': [['$', '$'], ['\\(', '\\)']],\n",
              "              'displayMath': [['$$', '$$'], ['\\[', '\\]']],\n",
              "              'processEscapes': true,\n",
              "              'processEnvironments': true,\n",
              "              'skipTags': ['script', 'noscript', 'style', 'textarea', 'code'],\n",
              "              'displayAlign': 'center',\n",
              "            },\n",
              "            'HTML-CSS': {\n",
              "              'styles': {'.MathJax_Display': {'margin': 0}},\n",
              "              'linebreaks': {'automatic': true},\n",
              "              // Disable to prevent OTF font loading, which aren't part of our\n",
              "              // distribution.\n",
              "              'imageFont': null,\n",
              "            },\n",
              "            'messageStyle': 'none'\n",
              "          });\n",
              "          mathjax.Hub.Configured();\n",
              "        })();\n",
              "        </script>\n",
              "        "
            ],
            "text/plain": [
              "<IPython.core.display.HTML object>"
            ]
          },
          "metadata": {
            "tags": []
          }
        },
        {
          "output_type": "execute_result",
          "data": {
            "text/latex": "$$\\left ( \\left[\\begin{matrix}0 & 1\\\\0 & 0\\end{matrix}\\right], \\quad 1\\right )$$",
            "text/plain": [
              "⎛⎡0  1⎤   ⎞\n",
              "⎜⎢    ⎥, 1⎟\n",
              "⎝⎣0  0⎦   ⎠"
            ]
          },
          "metadata": {
            "tags": []
          },
          "execution_count": 30
        }
      ]
    }
  ]
}