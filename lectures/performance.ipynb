{
  "nbformat": 4,
  "nbformat_minor": 0,
  "metadata": {
    "kernelspec": {
      "display_name": "Python 3",
      "language": "python",
      "name": "python3"
    },
    "language_info": {
      "codemirror_mode": {
        "name": "ipython",
        "version": 3
      },
      "file_extension": ".py",
      "mimetype": "text/x-python",
      "name": "python",
      "nbconvert_exporter": "python",
      "pygments_lexer": "ipython3",
      "version": "3.6.1"
    },
    "colab": {
      "name": "performance.ipynb",
      "provenance": [],
      "include_colab_link": true
    }
  },
  "cells": [
    {
      "cell_type": "markdown",
      "metadata": {
        "id": "view-in-github",
        "colab_type": "text"
      },
      "source": [
        "<a href=\"https://colab.research.google.com/github/christakahashi/ECE447/blob/master/lectures/performance.ipynb\" target=\"_parent\"><img src=\"https://colab.research.google.com/assets/colab-badge.svg\" alt=\"Open In Colab\"/></a>"
      ]
    },
    {
      "cell_type": "markdown",
      "metadata": {
        "id": "KCHRcWA1_hmy",
        "colab_type": "text"
      },
      "source": [
        "ECE 447: Performance\n",
        "===\n",
        "\n",
        "Prof. Eric Klavins\n",
        "\n",
        "&copy; 2019, University of Washington"
      ]
    },
    {
      "cell_type": "markdown",
      "metadata": {
        "heading_collapsed": true,
        "id": "3v6TIfrw_hm8",
        "colab_type": "text"
      },
      "source": [
        "# Code"
      ]
    },
    {
      "cell_type": "code",
      "metadata": {
        "hidden": true,
        "id": "PnpmkCbw_hm_",
        "colab_type": "code",
        "colab": {}
      },
      "source": [
        "import numpy as np\n",
        "import scipy.integrate as spi\n",
        "import matplotlib.pyplot as plt\n",
        "from sympy import *\n",
        "\n",
        "%matplotlib inline\n",
        "\n",
        "# Comment out in Google colab \n",
        "init_printing(use_latex='mathjax')\n",
        "\n",
        "# Uncomment in below Google colab to render sympy equations nicely\n",
        "# def custom_latex_printer(exp,**options):\n",
        "#     from google.colab.output._publish import javascript\n",
        "#     url = \"https://cdnjs.cloudflare.com/ajax/libs/mathjax/2.7.3/latest.js?config=default\"\n",
        "#     javascript(url=url)\n",
        "#     return printing.latex(exp,**options)\n",
        "# init_printing(use_latex=\"mathjax\",latex_printer=custom_latex_printer)"
      ],
      "execution_count": 0,
      "outputs": []
    },
    {
      "cell_type": "markdown",
      "metadata": {
        "id": "Sb5Ecid0_hnM",
        "colab_type": "text"
      },
      "source": [
        "# Performance Metrics"
      ]
    },
    {
      "cell_type": "markdown",
      "metadata": {
        "id": "sWPXrrey_hnN",
        "colab_type": "text"
      },
      "source": [
        "So far we have been looking at safety issues like sensitivity, disturbance rejection, and noise. Here, we look at how well the system achieves its goal of tracking its input.\n",
        "\n",
        "<img src=\"https://raw.githubusercontent.com/klavins/ECE447/master/images/performance.png\" width=70%>\n",
        "\n",
        "In the above figure, we define\n",
        "\n",
        "- $T_s$: Settling time ($\\delta \\approx 0.02$)\n",
        "- $T_p$: Peak time\n",
        "- $T_r$: Rise time\n",
        "- $M_p$: Peak response\n",
        "- P.0.: $M_p - 1$ -- the percent overshoot\n",
        "\n",
        "The alternative definition of rise time is $T_{r_1}$, which is used when the system does not actually get to an output of 1.\n",
        "\n",
        "Using the response of the archetypal 2nd order system, we can find these metrics in terms of the parameters $\\zeta$ and $\\omega$. "
      ]
    },
    {
      "cell_type": "markdown",
      "metadata": {
        "id": "yJjO7Rmn_hnO",
        "colab_type": "text"
      },
      "source": [
        "# First peak"
      ]
    },
    {
      "cell_type": "markdown",
      "metadata": {
        "id": "W5fhjik9_hnP",
        "colab_type": "text"
      },
      "source": [
        "Peak time\n",
        "---\n",
        "\n",
        "Recall that \n",
        "\n",
        "$$\n",
        "y(t) = 1 - \\frac{1}{\\beta} e^{-\\zeta \\omega t} \\sin(\\omega \\beta t + \\theta).\n",
        "$$\n",
        "\n",
        "The overshoot can be found by looking at the first critical point of $y(t)$, which is obtained by taking the derivative $\\dot y(t)$, which we have already found to be \n",
        "\n",
        "$$\n",
        "\\dot y = \\frac{\\omega}{\\beta} e^{-\\zeta \\omega t} \\sin(\\omega \\beta t).\n",
        "$$\n",
        "\n",
        "This is zero when $\\sin( \\omega\\beta  t) = 0$ or when\n",
        "\n",
        "$$\n",
        "\\omega\\beta  t = 0, \\pi, 2\\pi, \\dots\n",
        "$$\n",
        "\n",
        "the first peak occurs at $\\pi$ or at time\n",
        "\n",
        "$$\n",
        "T_p = \\frac{\\pi}{\\omega\\beta} = \\frac{\\pi}{\\omega\\sqrt{1-\\zeta^2}} .\n",
        "$$\n",
        "\n",
        "Max response\n",
        "---\n",
        "\n",
        "The maximum response is $y(T_p)$ or\n",
        "\n",
        "$$\n",
        "M_p = 1 - \\frac{1}{\\beta} e^{-\\zeta \\omega T_p} \\sin(\\pi + \\theta).\n",
        "$$\n",
        "\n",
        "Since\n",
        "$$\n",
        "\\sin(\\pi + \\theta) = -\\sin(\\theta) = -\\beta\n",
        "$$\n",
        "\n",
        "we get\n",
        "\n",
        "$$\n",
        "M_p = 1 + \\frac{1}{\\beta} e^{-\\zeta \\omega \\frac{\\pi}{\\omega\\beta}} \\beta.\n",
        "$$\n",
        "\n",
        "or\n",
        "\n",
        "$$\n",
        "1 + e^{-\\frac{\\zeta \\pi}{\\beta}}\n",
        "$$\n",
        "\n",
        "Percent Overshoot\n",
        "---\n",
        "\n",
        "The percent overshoot is just $M_p-1$ or \n",
        "\n",
        "$$\n",
        "\\mathrm{P.O.} = e^{-\\zeta \\frac{\\pi}{\\beta}}\n",
        "$$\n",
        "\n",
        "Analysis\n",
        "---\n",
        "\n",
        "- $M_p$ does not depend on $\\omega$, although $T_p$ does."
      ]
    },
    {
      "cell_type": "code",
      "metadata": {
        "id": "CGreFm1l_hnQ",
        "colab_type": "code",
        "outputId": "ae737a14-4781-4125-eb9b-2648a2d35aab",
        "colab": {}
      },
      "source": [
        "#\n",
        "# Fixed zeta, varying omega\n",
        "#\n",
        "var(\"w z t b tau theta\", real=True, positive=True)\n",
        "y = 1 - (1/b) * exp(-z*w*t) * sin(w * b * t + theta)\n",
        "y = y.subs(b,sqrt(1-z**2)).subs(theta,acos(z))\n",
        "tvals = np.linspace(0,10,100)\n",
        "for omega in [1,2,3,4,5]:\n",
        "    f = lambdify(t,y.subs(z,0.5).subs(w,omega),'numpy')\n",
        "    plt.plot(tvals,f(tvals),label=\"$\\omega$ = %d\" % omega)\n",
        "plt.xlabel(\"t\")\n",
        "plt.ylabel(\"Step response\")\n",
        "plt.title(\"Step response, varying $\\omega$\")\n",
        "plt.legend();"
      ],
      "execution_count": 0,
      "outputs": [
        {
          "output_type": "display_data",
          "data": {
            "image/png": "[encoded data removed]",
            "text/plain": [
              "<matplotlib.figure.Figure at 0x128588b70>"
            ]
          },
          "metadata": {
            "tags": []
          }
        }
      ]
    },
    {
      "cell_type": "code",
      "metadata": {
        "id": "_WSuU_8t_hnY",
        "colab_type": "code",
        "outputId": "13cb4cda-1b00-4d6f-9086-16818b9af31f",
        "colab": {}
      },
      "source": [
        "ovals = np.linspace(1,5,100);\n",
        "plt.plot(ovals,np.pi/(ovals*(1-0.5**2)));\n",
        "plt.xlabel(\"$\\omega$\")\n",
        "plt.ylabel(\"Peak time\")\n",
        "plt.title(\"Peak time versus frequency\");"
      ],
      "execution_count": 0,
      "outputs": [
        {
          "output_type": "display_data",
          "data": {
            "image/png": "[encoded data removed]",
            "text/plain": [
              "<matplotlib.figure.Figure at 0x128c190f0>"
            ]
          },
          "metadata": {
            "tags": []
          }
        }
      ]
    },
    {
      "cell_type": "code",
      "metadata": {
        "id": "MUEA2zSn_hne",
        "colab_type": "code",
        "outputId": "00c68aa7-f958-4e2b-812d-781b45d4bb72",
        "colab": {}
      },
      "source": [
        "tvals = np.linspace(0,10,100)\n",
        "for zeta in [0.1,0.4,0.6,0.9]:\n",
        "    f = lambdify(t,y.subs(z,zeta).subs(w,3),'numpy')\n",
        "    plt.plot(tvals,f(tvals),label=\"$\\zeta$ = %.2f\" % zeta)\n",
        "plt.xlabel(\"t\")\n",
        "plt.ylabel(\"Step response\")\n",
        "plt.title(\"Step response, varying $\\zeta$\")\n",
        "plt.legend();"
      ],
      "execution_count": 0,
      "outputs": [
        {
          "output_type": "display_data",
          "data": {
            "image/png": "[encoded data removed]",
            "text/plain": [
              "<matplotlib.figure.Figure at 0x128bd1208>"
            ]
          },
          "metadata": {
            "tags": []
          }
        }
      ]
    },
    {
      "cell_type": "code",
      "metadata": {
        "id": "Gq00Pdu__hnl",
        "colab_type": "code",
        "outputId": "fccc3846-d4e0-424a-90d5-2fb828d01f51",
        "colab": {}
      },
      "source": [
        "zvals = np.linspace(0.01,0.99,100);\n",
        "plt.plot(zvals,100*np.exp(-zvals*np.pi/np.sqrt(1-zvals**2)));\n",
        "plt.xlabel(\"$\\zeta$\")\n",
        "plt.ylabel(\"Percent Overshoot\")\n",
        "plt.title(\"Percent Overshoot vs Damping Ratio\");"
      ],
      "execution_count": 0,
      "outputs": [
        {
          "output_type": "display_data",
          "data": {
            "image/png": "[encoded data removed]",
            "text/plain": [
              "<matplotlib.figure.Figure at 0x128ad7e10>"
            ]
          },
          "metadata": {
            "tags": []
          }
        }
      ]
    },
    {
      "cell_type": "markdown",
      "metadata": {
        "id": "aSuWkcJw_hns",
        "colab_type": "text"
      },
      "source": [
        "# Settling time"
      ]
    },
    {
      "cell_type": "markdown",
      "metadata": {
        "id": "6l05_Ia3_hnt",
        "colab_type": "text"
      },
      "source": [
        "For settling time, we want the time $T_s$ at which \n",
        "\n",
        "$$\n",
        "1 - \\delta < y(T_s) < 1 + \\delta\n",
        "$$\n",
        "\n",
        "for all $t > T_s$. This occurs when \n",
        "\n",
        "$$\n",
        "e^{-\\zeta \\omega T_s} \\leq \\delta\n",
        "$$\n",
        "\n",
        "or when\n",
        "\n",
        "$$\n",
        "-\\zeta \\omega T_s = \\ln \\delta\n",
        "$$\n",
        "\n",
        "or\n",
        "\n",
        "$$\n",
        "T_s = - \\frac{\\ln \\delta}{\\zeta \\omega}\n",
        "$$\n",
        "\n",
        "we usually take $\\delta = 0.02$ so that $-\\ln \\delta \\approx 4$ and\n",
        "\n",
        "$$\n",
        "T_s = \\frac{4}{\\zeta\\omega}\n",
        "$$\n",
        "\n",
        "We call $\\tau \\triangleq \\frac{1}{\\zeta\\omega}$ the **time constant** of the system so that \n",
        "\n",
        "$$\n",
        "T_s = 4 \\tau .\n",
        "$$\n",
        "\n",
        "You can see that we\n",
        "\n",
        "> Settle in faster and overshoot less when you increase damping"
      ]
    },
    {
      "cell_type": "markdown",
      "metadata": {
        "id": "1aqYVE3P_hnv",
        "colab_type": "text"
      },
      "source": [
        "# Summary"
      ]
    },
    {
      "cell_type": "markdown",
      "metadata": {
        "id": "cBjmon23_hnw",
        "colab_type": "text"
      },
      "source": [
        "<img src=\"https://raw.githubusercontent.com/klavins/ECE447/master/images/performance-summary.png\" width=70%>\n",
        "\n",
        "| Name | Symbol | Formula &nbsp;&nbsp;&nbsp;&nbsp;&nbsp;&nbsp;&nbsp;&nbsp; |\n",
        "|------|--------|---------|\n",
        "| Peak time | $T_p$ | $\\frac{\\pi}{\\omega\\sqrt{1-\\zeta^2}}$ |\n",
        "| Peak response | $M_p$ | $1 + e^{-\\frac{\\zeta \\pi}{\\beta}}$ |\n",
        "| Percent overshoot | P.O. | $e^{-\\frac{\\zeta \\pi}{\\beta}}$ |\n",
        "| Settling time | $T_s$ | $\\frac{4}{\\zeta\\omega}$ |\n"
      ]
    },
    {
      "cell_type": "markdown",
      "metadata": {
        "collapsed": true,
        "id": "7NBe5WfU_hnw",
        "colab_type": "text"
      },
      "source": [
        "# Design Example"
      ]
    },
    {
      "cell_type": "markdown",
      "metadata": {
        "id": "yJwqhAyo_hny",
        "colab_type": "text"
      },
      "source": [
        "Suppose we would like to design the following system \n",
        "\n",
        "<img src=\"https://raw.githubusercontent.com/klavins/ECE447/master/images/performance-control-example.png\" width=70%>\n",
        "\n",
        "where $a$ and $K$ are tunable.\n",
        "\n",
        "The transfer function for the whole system is\n",
        "\n",
        "$$\n",
        "T(s) = \\frac{K}{s^2 + as + K}\n",
        "$$\n",
        "\n",
        "Mapping this onto the archetypal system, we get that\n",
        "\n",
        "$$\n",
        "\\omega = \\sqrt{K}\n",
        "$$\n",
        "\n",
        "and\n",
        "\n",
        "$$\n",
        "2 \\zeta \\omega = a \\;\\; \\Rightarrow \\;\\; \\zeta = \\frac{a}{2\\sqrt{K}}.\n",
        "$$\n",
        "\n",
        "**Example Goal**: Say we want $T_s = 5s$ and P.O. = 25%. \n",
        "\n",
        "For the settling time we need:\n",
        "\n",
        "$$\n",
        "T_s=\\frac{4}{\\zeta\\omega} = 5 \\;\\; \\Rightarrow \\;\\; \\frac{4}{\\frac{a}{2\\sqrt{K}} \\sqrt{K}} = 5 \\;\\; \\Rightarrow \\;\\; a = \\frac{8}{5}\n",
        "$$\n",
        "\n",
        "For the percent overshoot, we need\n",
        "\n",
        "$$\n",
        "\\text{P.O.}=e^{-\\frac{\\zeta \\pi}{\\beta}} = 0.25$$ \n",
        "$$ \\Rightarrow \\frac{-\\zeta\\pi}{\\beta} = \\ln\\left(\\frac{1}{4}\\right)\n",
        "$$\n",
        "\n",
        "or\n",
        "\n",
        "$$\n",
        "\\frac{\n",
        "  \\frac{a}{2\\sqrt{K}}\\pi\n",
        "}{\n",
        "  \\sqrt{1 - \\frac{a^2 }{4K}}\n",
        "} = \\ln\\left(\\frac{1}{4}\\right)\n",
        "$$\n",
        "\n",
        "$$\n",
        "\\Rightarrow \\frac{\n",
        "  \\frac{a^2}{4K}\\pi^2\n",
        "}{\n",
        "  {1 - \\frac{a^2 }{4K}}\n",
        "} = \\ln\\left(\\frac{1}{4}\\right)^2\n",
        "$$\n",
        "\n",
        "\n",
        "$$\n",
        "\\Rightarrow \\frac{\n",
        "  a^2 \\pi^2\n",
        "}{\n",
        "  {4K - a^2 }\n",
        "} = \\ln\\left(\\frac{1}{4}\\right)^2\n",
        "$$\n",
        "\n",
        "$$\n",
        "\\Rightarrow K =\\frac{\n",
        "  a^2 \\pi^2\n",
        "}{\n",
        "  4\\ln\\left(\\frac{1}{4}\\right)^2\n",
        "} +a^2/4 \\approx 3.93\n",
        "$$\n"
      ]
    },
    {
      "cell_type": "code",
      "metadata": {
        "id": "vbAeTExb_hn0",
        "colab_type": "code",
        "colab": {}
      },
      "source": [
        "var(\"a K w z b s\")\n",
        "var(\"t\", positive=True, real=True)\n",
        "w = sqrt(K)\n",
        "z = a / ( 2*sqrt(K))\n",
        "b = sqrt(1-z**2)"
      ],
      "execution_count": 0,
      "outputs": []
    },
    {
      "cell_type": "code",
      "metadata": {
        "id": "2a_RH3Y9_hn7",
        "colab_type": "code",
        "outputId": "3e225881-7384-48a7-9e15-c2dd21cc1386",
        "colab": {}
      },
      "source": [
        "# Settling time\n",
        "aval = solve(4/(z*w)-5,a)[0]\n",
        "aval"
      ],
      "execution_count": 0,
      "outputs": [
        {
          "output_type": "execute_result",
          "data": {
            "text/latex": "$$\\frac{8}{5}$$",
            "text/plain": [
              "8/5"
            ]
          },
          "metadata": {
            "tags": []
          },
          "execution_count": 99
        }
      ]
    },
    {
      "cell_type": "code",
      "metadata": {
        "id": "_9SYtuoR_hoC",
        "colab_type": "code",
        "outputId": "73ff6d64-a39e-4722-ea3c-583216e5aaa4",
        "colab": {}
      },
      "source": [
        "# Percent overshoot\n",
        "Kval = solve(exp(-z*pi/b)-0.25,K)[0].subs(a,aval)\n",
        "Kval"
      ],
      "execution_count": 0,
      "outputs": [
        {
          "output_type": "execute_result",
          "data": {
            "text/latex": "$$3.92676615283581$$",
            "text/plain": [
              "3.92676615283581"
            ]
          },
          "metadata": {
            "tags": []
          },
          "execution_count": 100
        }
      ]
    },
    {
      "cell_type": "code",
      "metadata": {
        "id": "st-AF2mx_hoI",
        "colab_type": "code",
        "outputId": "d75f4da1-080b-4ebb-a182-c7be3b998e45",
        "colab": {}
      },
      "source": [
        "# Compute step response\n",
        "T = (1/s) * K / ( s**2 + a*s + K )\n",
        "T = T.subs(a,aval).subs(K,Kval)\n",
        "y = inverse_laplace_transform(T,s,t)\n",
        "y"
      ],
      "execution_count": 0,
      "outputs": [
        {
          "output_type": "execute_result",
          "data": {
            "text/latex": "$$\\frac{1}{\\left(-4.50650717843118 \\cdot 10^{-7} + 2.64697796016969 \\cdot 10^{-23} i\\right) e^{0.8 t}} \\left(- 4.50650717843118 \\cdot 10^{-7} e^{0.8 t} + 1.29925793266209 \\cdot 10^{-23} i e^{0.8 t} + 1.98859183181079 \\cdot 10^{-7} \\sin{\\left (1.81294405673088 t \\right )} - 2.64697796016969 \\cdot 10^{-23} i \\sin{\\left (1.81294405673088 t \\right )} + 4.50650717843118 \\cdot 10^{-7} \\cos{\\left (1.81294405673088 t \\right )} - 6.61744490042422 \\cdot 10^{-24} i \\cos{\\left (1.81294405673088 t \\right )}\\right)$$",
            "text/plain": [
              "⎛                       0.8⋅t                           0.8⋅t                 \n",
              "⎝- 4.50650717843118e-7⋅ℯ      + 1.29925793266209e-23⋅ⅈ⋅ℯ      + 1.988591831810\n",
              "──────────────────────────────────────────────────────────────────────────────\n",
              "                                                                              \n",
              "\n",
              "                                                                              \n",
              "79e-7⋅sin(1.81294405673088⋅t) - 2.64697796016969e-23⋅ⅈ⋅sin(1.81294405673088⋅t)\n",
              "──────────────────────────────────────────────────────────────────────────────\n",
              "                             -4.50650717843118e-7 + 2.64697796016969e-23⋅ⅈ    \n",
              "\n",
              "                                                                              \n",
              " + 4.50650717843118e-7⋅cos(1.81294405673088⋅t) - 6.61744490042422e-24⋅ⅈ⋅cos(1.\n",
              "──────────────────────────────────────────────────────────────────────────────\n",
              "                                                                              \n",
              "\n",
              "                 ⎞  -0.8⋅t\n",
              "81294405673088⋅t)⎠⋅ℯ      \n",
              "──────────────────────────\n",
              "                          "
            ]
          },
          "metadata": {
            "tags": []
          },
          "execution_count": 101
        }
      ]
    },
    {
      "cell_type": "code",
      "metadata": {
        "id": "pM-nZqC0_hoN",
        "colab_type": "code",
        "outputId": "e788bf49-d160-4d7c-fb01-ddaedb9dd26d",
        "colab": {}
      },
      "source": [
        "plots = plotting.plot(y,1.25,0.98, 1.02, (t,0,10),show=False);\n",
        "plots.extend(plotting.plot_parametric(5,t,(t,0,1.25),show=False))\n",
        "plots[0].line_color = 'orange'\n",
        "plots[1].line_color = 'gray'\n",
        "plots[2].line_color = 'gray'\n",
        "plots[3].line_color = 'gray'\n",
        "plots[4].line_color = 'gray'\n",
        "plots.show()"
      ],
      "execution_count": 0,
      "outputs": [
        {
          "output_type": "display_data",
          "data": {
            "image/png": "[encoded data removed]",
            "text/plain": [
              "<matplotlib.figure.Figure at 0x128c63cc0>"
            ]
          },
          "metadata": {
            "tags": []
          }
        }
      ]
    },
    {
      "cell_type": "code",
      "metadata": {
        "id": "JaocaYJg_hoS",
        "colab_type": "code",
        "colab": {}
      },
      "source": [
        ""
      ],
      "execution_count": 0,
      "outputs": []
    }
  ]
}