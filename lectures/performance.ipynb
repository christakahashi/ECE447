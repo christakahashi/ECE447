{
  "nbformat": 4,
  "nbformat_minor": 0,
  "metadata": {
    "kernelspec": {
      "display_name": "Python 3",
      "language": "python",
      "name": "python3"
    },
    "language_info": {
      "codemirror_mode": {
        "name": "ipython",
        "version": 3
      },
      "file_extension": ".py",
      "mimetype": "text/x-python",
      "name": "python",
      "nbconvert_exporter": "python",
      "pygments_lexer": "ipython3",
      "version": "3.6.1"
    },
    "colab": {
      "name": "performance.ipynb",
      "provenance": []
    }
  },
  "cells": [
    {
      "cell_type": "markdown",
      "metadata": {
        "id": "0rQ1txXDYcjS",
        "colab_type": "text"
      },
      "source": [
        "ECE 447: Performance\n",
        "===\n",
        "\n",
        "Updated by \n",
        " Dr. Chris Takahashi\n",
        "\n",
        "Authored by Prof. Eric Klavins &copy; 2019, University of Washington\n"
      ]
    },
    {
      "cell_type": "markdown",
      "metadata": {
        "heading_collapsed": true,
        "id": "nHVHzZbdYcjg",
        "colab_type": "text"
      },
      "source": [
        "# Code"
      ]
    },
    {
      "cell_type": "code",
      "metadata": {
        "hidden": true,
        "id": "NzLpdRVKYcji",
        "colab_type": "code",
        "colab": {}
      },
      "source": [
        "import numpy as np\n",
        "import scipy.integrate as spi\n",
        "import matplotlib.pyplot as plt\n",
        "from sympy import *\n",
        "\n",
        "%matplotlib inline\n",
        "#comment out for light mode\n",
        "plt.style.use('dark_background')\n",
        "\n",
        "try: \n",
        "  import google.colab #test for colab\n",
        "  import IPython\n",
        "  def setup_typeset():\n",
        "    \"\"\"MathJax initialization for the current cell.\n",
        "    \n",
        "    This installs and configures MathJax for the current output.\n",
        "    \"\"\"\n",
        "    IPython.display.display(IPython.display.HTML('''\n",
        "        <script src=\"https://www.gstatic.com/external_hosted/mathjax/latest/MathJax.js?config=TeX-AMS_HTML-full,Safe&delayStartupUntil=configured\"></script>\n",
        "        <script>\n",
        "          (() => {\n",
        "            const mathjax = window.MathJax;\n",
        "            mathjax.Hub.Config({\n",
        "            'tex2jax': {\n",
        "              'inlineMath': [['$', '$'], ['\\\\(', '\\\\)']],\n",
        "              'displayMath': [['$$', '$$'], ['\\\\[', '\\\\]']],\n",
        "              'processEscapes': true,\n",
        "              'processEnvironments': true,\n",
        "              'skipTags': ['script', 'noscript', 'style', 'textarea', 'code'],\n",
        "              'displayAlign': 'center',\n",
        "            },\n",
        "            'HTML-CSS': {\n",
        "              'styles': {'.MathJax_Display': {'margin': 0}},\n",
        "              'linebreaks': {'automatic': true},\n",
        "              // Disable to prevent OTF font loading, which aren't part of our\n",
        "              // distribution.\n",
        "              'imageFont': null,\n",
        "            },\n",
        "            'messageStyle': 'none'\n",
        "          });\n",
        "          mathjax.Hub.Configured();\n",
        "        })();\n",
        "        </script>\n",
        "        '''))\n",
        "  def custom_latex_printer(exp,**options):\n",
        "      setup_typeset()\n",
        "      return printing.latex(exp,**options)\n",
        "  init_printing(use_latex=\"mathjax\",latex_printer=custom_latex_printer)\n",
        "except:\n",
        "  init_printing(use_latex='mathjax')"
      ],
      "execution_count": 0,
      "outputs": []
    },
    {
      "cell_type": "markdown",
      "metadata": {
        "id": "cV5Zw9E3Ycjz",
        "colab_type": "text"
      },
      "source": [
        "# Performance Metrics"
      ]
    },
    {
      "cell_type": "markdown",
      "metadata": {
        "id": "wCrOjWSXYcj2",
        "colab_type": "text"
      },
      "source": [
        "So far we have been looking at safety issues like sensitivity, disturbance rejection, and noise. Here, we look at how well the system achieves its goal of tracking its input.\n",
        "\n",
        "<img src=\"https://raw.githubusercontent.com/klavins/ECE447/master/images/performance.png\" width=70%>\n",
        "\n",
        "In the above figure, we define\n",
        "\n",
        "- $T_s$: Settling time ($\\delta \\approx 0.02$)\n",
        "- $T_p$: Peak time\n",
        "- $T_r$: Rise time\n",
        "- $M_p$: Peak response\n",
        "- P.0.: $M_p - 1$ -- the percent overshoot\n",
        "\n",
        "The alternative definition of rise time is $T_{r_1}$, which is used when the system does not actually get to an output of 1.\n",
        "\n",
        "Using the response of the archetypal 2nd order system, we can find these metrics in terms of the parameters $\\zeta$ and $\\omega$. "
      ]
    },
    {
      "cell_type": "markdown",
      "metadata": {
        "id": "EEmounaTYcj3",
        "colab_type": "text"
      },
      "source": [
        "# First peak"
      ]
    },
    {
      "cell_type": "markdown",
      "metadata": {
        "id": "wvzaiZPrYcj5",
        "colab_type": "text"
      },
      "source": [
        "Peak time\n",
        "---\n",
        "\n",
        "Recall that for system\n",
        "$$\n",
        "T(s) = \\frac{\\omega^2}{s^2 + 2 \\zeta \\omega s + \\omega^2},\n",
        "$$\n",
        "the step response is\n",
        "\n",
        "$$\n",
        "y(t) = 1 - \\frac{1}{\\beta} e^{-\\zeta \\omega t} \\sin(\\omega \\beta t + \\theta),\n",
        "$$\n",
        "where  $\\beta = \\sqrt{1- \\zeta^2}$ and $\\theta = \\cos^{-1} \\zeta .$\n",
        "\n",
        "The overshoot can be found by looking at the first critical point of $y(t)$, which is obtained by taking the derivative $\\dot y(t)$, which we have already found to be \n",
        "\n",
        "$$\n",
        "\\dot y = \\frac{\\omega}{\\beta} e^{-\\zeta \\omega t} \\sin(\\omega \\beta t).\n",
        "$$\n",
        "\n",
        "This is zero when $\\sin( \\omega\\beta  t) = 0$ or when\n",
        "\n",
        "$$\n",
        "\\omega\\beta  t = 0, \\pi, 2\\pi, \\dots\n",
        "$$\n",
        "\n",
        "the first peak occurs at $\\pi$ or at time\n",
        "\n",
        "$$\n",
        "T_p = \\frac{\\pi}{\\omega\\beta} = \\frac{\\pi}{\\omega\\sqrt{1-\\zeta^2}} .\n",
        "$$\n",
        "\n",
        "Max response\n",
        "---\n",
        "\n",
        "The maximum response is $y(T_p)$ or\n",
        "\n",
        "$$\n",
        "M_p = 1 - \\frac{1}{\\beta} e^{-\\zeta \\omega T_p} \\sin(\\pi + \\theta).\n",
        "$$\n",
        "\n",
        "Since\n",
        "$$\n",
        "\\sin(\\pi + \\theta) = -\\sin(\\theta) = -\\beta\n",
        "$$\n",
        "\n",
        "we get\n",
        "\n",
        "$$\n",
        "M_p = 1 + \\frac{1}{\\beta} e^{-\\zeta \\omega \\frac{\\pi}{\\omega\\beta}} \\beta.\n",
        "$$\n",
        "\n",
        "or\n",
        "\n",
        "$$\n",
        "1 + e^{-\\frac{\\zeta \\pi}{\\beta}}\n",
        "$$\n",
        "\n",
        "Percent Overshoot\n",
        "---\n",
        "\n",
        "The percent overshoot is just $M_p-1$ or \n",
        "\n",
        "$$\n",
        "\\mathrm{P.O.} = e^{-\\zeta \\frac{\\pi}{\\beta}}\n",
        "$$\n",
        "\n",
        "Analysis\n",
        "---\n",
        "\n",
        "- $M_p$ does not depend on $\\omega$, although $T_p$ does."
      ]
    },
    {
      "cell_type": "code",
      "metadata": {
        "id": "AlXC8rXUYcj7",
        "colab_type": "code",
        "colab": {
          "base_uri": "https://localhost:8080/",
          "height": 297
        },
        "outputId": "29458bf8-37fe-4d77-88bc-05a7c90f0c41"
      },
      "source": [
        "#\n",
        "# Fixed zeta, varying omega\n",
        "#\n",
        "var(\"w z t b tau theta\", real=True, positive=True)\n",
        "y = 1 - (1/b) * exp(-z*w*t) * sin(w * b * t + theta)\n",
        "y = y.subs(b,sqrt(1-z**2)).subs(theta,acos(z))\n",
        "tvals = np.linspace(0,10,100)\n",
        "for omega in [1,2,3,4,5]:\n",
        "    f = lambdify(t,y.subs(z,0.5).subs(w,omega),'numpy')\n",
        "    plt.plot(tvals,f(tvals),label=\"$\\omega$ = %d\" % omega)\n",
        "plt.xlabel(\"t\")\n",
        "plt.ylabel(\"Step response\")\n",
        "plt.title(\"Step response, varying $\\omega$\")\n",
        "plt.legend();"
      ],
      "execution_count": 19,
      "outputs": [
        {
          "output_type": "display_data",
          "data": {
            "image/png": "[encoded data removed]",
            "text/plain": [
              "<Figure size 432x288 with 1 Axes>"
            ]
          },
          "metadata": {
            "tags": []
          }
        }
      ]
    },
    {
      "cell_type": "code",
      "metadata": {
        "id": "mJIwPdZPYckE",
        "colab_type": "code",
        "colab": {
          "base_uri": "https://localhost:8080/",
          "height": 295
        },
        "outputId": "39f8f23e-3da7-4ea3-940d-8d9211113585"
      },
      "source": [
        "ovals = np.linspace(1,5,100);\n",
        "plt.plot(ovals,np.pi/(ovals*(1-0.5**2)));\n",
        "plt.xlabel(\"$\\omega$\")\n",
        "plt.ylabel(\"Peak time\")\n",
        "plt.title(\"Peak time versus frequency\");"
      ],
      "execution_count": 20,
      "outputs": [
        {
          "output_type": "display_data",
          "data": {
            "image/png": "[encoded data removed]",
            "text/plain": [
              "<Figure size 432x288 with 1 Axes>"
            ]
          },
          "metadata": {
            "tags": []
          }
        }
      ]
    },
    {
      "cell_type": "code",
      "metadata": {
        "id": "pl5RlD5CYckN",
        "colab_type": "code",
        "colab": {
          "base_uri": "https://localhost:8080/",
          "height": 297
        },
        "outputId": "a6caca50-4448-4c94-84b2-40dd534af108"
      },
      "source": [
        "tvals = np.linspace(0,10,100)\n",
        "for zeta in [0.1,0.4,0.6,0.9]:\n",
        "    f = lambdify(t,y.subs(z,zeta).subs(w,3),'numpy')\n",
        "    plt.plot(tvals,f(tvals),label=\"$\\zeta$ = %.2f\" % zeta)\n",
        "plt.xlabel(\"t\")\n",
        "plt.ylabel(\"Step response\")\n",
        "plt.title(\"Step response, varying $\\zeta$\")\n",
        "plt.legend();"
      ],
      "execution_count": 21,
      "outputs": [
        {
          "output_type": "display_data",
          "data": {
            "image/png": "[encoded data removed]",
            "text/plain": [
              "<Figure size 432x288 with 1 Axes>"
            ]
          },
          "metadata": {
            "tags": []
          }
        }
      ]
    },
    {
      "cell_type": "code",
      "metadata": {
        "id": "xuULEdvnYckV",
        "colab_type": "code",
        "colab": {
          "base_uri": "https://localhost:8080/",
          "height": 299
        },
        "outputId": "958ffa4e-fafb-4cf3-a70b-31eb26dc5b18"
      },
      "source": [
        "zvals = np.linspace(0.01,0.99,100);\n",
        "plt.plot(zvals,100*np.exp(-zvals*np.pi/np.sqrt(1-zvals**2)));\n",
        "plt.xlabel(\"$\\zeta$\")\n",
        "plt.ylabel(\"Percent Overshoot\")\n",
        "plt.title(\"Percent Overshoot vs Damping Ratio\");"
      ],
      "execution_count": 22,
      "outputs": [
        {
          "output_type": "display_data",
          "data": {
            "image/png": "[encoded data removed]",
            "text/plain": [
              "<Figure size 432x288 with 1 Axes>"
            ]
          },
          "metadata": {
            "tags": []
          }
        }
      ]
    },
    {
      "cell_type": "markdown",
      "metadata": {
        "id": "9_aJez3CYckf",
        "colab_type": "text"
      },
      "source": [
        "# Settling time"
      ]
    },
    {
      "cell_type": "markdown",
      "metadata": {
        "id": "ll8cbLBIYckg",
        "colab_type": "text"
      },
      "source": [
        "For settling time, we want the time $T_s$ at which \n",
        "\n",
        "$$\n",
        "1 - \\delta < y(T_s) < 1 + \\delta\n",
        "$$\n",
        "\n",
        "for all $t > T_s$. This occurs when \n",
        "\n",
        "$$\n",
        "e^{-\\zeta \\omega T_s} \\leq \\delta\n",
        "$$\n",
        "\n",
        "or when\n",
        "\n",
        "$$\n",
        "-\\zeta \\omega T_s = \\ln \\delta\n",
        "$$\n",
        "\n",
        "or\n",
        "\n",
        "$$\n",
        "T_s = - \\frac{\\ln \\delta}{\\zeta \\omega}\n",
        "$$\n",
        "\n",
        "we usually take $\\delta = 0.02$ so that $-\\ln \\delta \\approx 4$ and\n",
        "\n",
        "$$\n",
        "T_s = \\frac{4}{\\zeta\\omega}\n",
        "$$\n",
        "\n",
        "We call $\\tau \\triangleq \\frac{1}{\\zeta\\omega}$ the **time constant** of the system so that \n",
        "\n",
        "$$\n",
        "T_s = 4 \\tau .\n",
        "$$\n",
        "\n",
        "You can see that we\n",
        "\n",
        "> Settle in faster and overshoot less when you increase damping"
      ]
    },
    {
      "cell_type": "markdown",
      "metadata": {
        "id": "xcAojJ-2Yckh",
        "colab_type": "text"
      },
      "source": [
        "# Summary"
      ]
    },
    {
      "cell_type": "markdown",
      "metadata": {
        "id": "NaFif2j4Yckj",
        "colab_type": "text"
      },
      "source": [
        "<img src=\"https://raw.githubusercontent.com/klavins/ECE447/master/images/performance-summary.png\" width=70%>\n",
        "\n",
        "| Name | Symbol | Formula &nbsp;&nbsp;&nbsp;&nbsp;&nbsp;&nbsp;&nbsp;&nbsp; |\n",
        "|------|--------|---------|\n",
        "| Peak time | $T_p$ | $\\frac{\\pi}{\\omega\\sqrt{1-\\zeta^2}}$ |\n",
        "| Peak response | $M_p$ | $1 + e^{-\\frac{\\zeta \\pi}{\\beta}}$ |\n",
        "| Percent overshoot | P.O. | $e^{-\\frac{\\zeta \\pi}{\\beta}}$ |\n",
        "| Settling time | $T_s$ | $\\frac{4}{\\zeta\\omega}$ |\n"
      ]
    },
    {
      "cell_type": "markdown",
      "metadata": {
        "collapsed": true,
        "id": "0HbAipnwYckk",
        "colab_type": "text"
      },
      "source": [
        "# Design Example"
      ]
    },
    {
      "cell_type": "markdown",
      "metadata": {
        "id": "bYZOEfFVYckk",
        "colab_type": "text"
      },
      "source": [
        "Suppose we would like to design the following system \n",
        "\n",
        "<img src=\"https://raw.githubusercontent.com/klavins/ECE447/master/images/performance-control-example.png\" width=70%>\n",
        "\n",
        "where $a$ and $K$ are tunable.\n",
        "\n",
        "The transfer function for the whole system is\n",
        "\n",
        "$$\n",
        "T(s) = \\frac{K}{s^2 + as + K}\n",
        "$$\n",
        "\n",
        "Mapping this onto the archetypal system, we get that\n",
        "\n",
        "$$\n",
        "\\omega = \\sqrt{K}\n",
        "$$\n",
        "\n",
        "and\n",
        "\n",
        "$$\n",
        "2 \\zeta \\omega = a \\;\\; \\Rightarrow \\;\\; \\zeta = \\frac{a}{2\\sqrt{K}}.\n",
        "$$\n",
        "\n",
        "**Example Goal**: Say we want $T_s = 5s$ and P.O. = 25%. \n",
        "\n",
        "For the settling time we need:\n",
        "\n",
        "$$\n",
        "\\frac{4}{\\zeta\\omega} = 5 \\;\\; \\Rightarrow \\;\\; \\frac{4}{\\frac{a}{2\\sqrt{K}} \\sqrt{K}} = 5 \\;\\; \\Rightarrow \\;\\; a = \\frac{8}{5}\n",
        "$$\n",
        "\n",
        "For the percent overshoot, we need\n",
        "\n",
        "$$\n",
        "e^{-\\frac{\\zeta \\pi}{\\beta}} = 0.25 \\;\\; \\Rightarrow \\frac{\\zeta\\pi}{\\omega} = -\\ln(1.4)\n",
        "$$\n",
        "\n",
        "or\n",
        "\n",
        "$$\n",
        "\\frac{\n",
        "  \\frac{a}{s\\sqrt{K}}\\pi\n",
        "}{\n",
        "  \\sqrt{1 - \\frac{a^2 \\pi^2}{4K}}\n",
        "} = \\ln(1.4) \\;\\; \\Rightarrow \\;\\; K \\approx \n",
        "$$"
      ]
    },
    {
      "cell_type": "code",
      "metadata": {
        "id": "SVBDLnRPYckm",
        "colab_type": "code",
        "colab": {}
      },
      "source": [
        "var(\"a K w z b s\")\n",
        "var(\"t\", positive=True, real=True)\n",
        "w = sqrt(K)\n",
        "z = a / ( 2*sqrt(K))\n",
        "b = sqrt(1-z**2)"
      ],
      "execution_count": 0,
      "outputs": []
    },
    {
      "cell_type": "code",
      "metadata": {
        "id": "toRnzT1iYckt",
        "colab_type": "code",
        "colab": {
          "base_uri": "https://localhost:8080/",
          "height": 53
        },
        "outputId": "4b08e8e7-7ce2-47fe-b2c8-299cff7297fd"
      },
      "source": [
        "# Settling time\n",
        "aval = solve(4/(z*w)-5,a)[0]\n",
        "aval"
      ],
      "execution_count": 24,
      "outputs": [
        {
          "output_type": "display_data",
          "data": {
            "text/html": [
              "\n",
              "        <script src=\"https://www.gstatic.com/external_hosted/mathjax/latest/MathJax.js?config=TeX-AMS_HTML-full,Safe&delayStartupUntil=configured\"></script>\n",
              "        <script>\n",
              "          (() => {\n",
              "            const mathjax = window.MathJax;\n",
              "            mathjax.Hub.Config({\n",
              "            'tex2jax': {\n",
              "              'inlineMath': [['$', '$'], ['\\(', '\\)']],\n",
              "              'displayMath': [['$$', '$$'], ['\\[', '\\]']],\n",
              "              'processEscapes': true,\n",
              "              'processEnvironments': true,\n",
              "              'skipTags': ['script', 'noscript', 'style', 'textarea', 'code'],\n",
              "              'displayAlign': 'center',\n",
              "            },\n",
              "            'HTML-CSS': {\n",
              "              'styles': {'.MathJax_Display': {'margin': 0}},\n",
              "              'linebreaks': {'automatic': true},\n",
              "              // Disable to prevent OTF font loading, which aren't part of our\n",
              "              // distribution.\n",
              "              'imageFont': null,\n",
              "            },\n",
              "            'messageStyle': 'none'\n",
              "          });\n",
              "          mathjax.Hub.Configured();\n",
              "        })();\n",
              "        </script>\n",
              "        "
            ],
            "text/plain": [
              "<IPython.core.display.HTML object>"
            ]
          },
          "metadata": {
            "tags": []
          }
        },
        {
          "output_type": "execute_result",
          "data": {
            "text/latex": "$$\\frac{8}{5}$$",
            "text/plain": [
              "8/5"
            ]
          },
          "metadata": {
            "tags": []
          },
          "execution_count": 24
        }
      ]
    },
    {
      "cell_type": "code",
      "metadata": {
        "id": "pwxya5liYckz",
        "colab_type": "code",
        "colab": {
          "base_uri": "https://localhost:8080/",
          "height": 34
        },
        "outputId": "f0fda8df-bea9-4df8-b4dd-b918eee98d71"
      },
      "source": [
        "# Percent overshoot\n",
        "Kval = solve(exp(-z*pi/b)-0.25,K)[0].subs(a,aval)\n",
        "Kval"
      ],
      "execution_count": 25,
      "outputs": [
        {
          "output_type": "display_data",
          "data": {
            "text/html": [
              "\n",
              "        <script src=\"https://www.gstatic.com/external_hosted/mathjax/latest/MathJax.js?config=TeX-AMS_HTML-full,Safe&delayStartupUntil=configured\"></script>\n",
              "        <script>\n",
              "          (() => {\n",
              "            const mathjax = window.MathJax;\n",
              "            mathjax.Hub.Config({\n",
              "            'tex2jax': {\n",
              "              'inlineMath': [['$', '$'], ['\\(', '\\)']],\n",
              "              'displayMath': [['$$', '$$'], ['\\[', '\\]']],\n",
              "              'processEscapes': true,\n",
              "              'processEnvironments': true,\n",
              "              'skipTags': ['script', 'noscript', 'style', 'textarea', 'code'],\n",
              "              'displayAlign': 'center',\n",
              "            },\n",
              "            'HTML-CSS': {\n",
              "              'styles': {'.MathJax_Display': {'margin': 0}},\n",
              "              'linebreaks': {'automatic': true},\n",
              "              // Disable to prevent OTF font loading, which aren't part of our\n",
              "              // distribution.\n",
              "              'imageFont': null,\n",
              "            },\n",
              "            'messageStyle': 'none'\n",
              "          });\n",
              "          mathjax.Hub.Configured();\n",
              "        })();\n",
              "        </script>\n",
              "        "
            ],
            "text/plain": [
              "<IPython.core.display.HTML object>"
            ]
          },
          "metadata": {
            "tags": []
          }
        },
        {
          "output_type": "execute_result",
          "data": {
            "text/latex": "$$3.92676615283581$$",
            "text/plain": [
              "3.92676615283581"
            ]
          },
          "metadata": {
            "tags": []
          },
          "execution_count": 25
        }
      ]
    },
    {
      "cell_type": "code",
      "metadata": {
        "id": "p4mNsbitYck6",
        "colab_type": "code",
        "colab": {
          "base_uri": "https://localhost:8080/",
          "height": 40
        },
        "outputId": "ef735ae6-956a-458c-94e2-58edb006cc77"
      },
      "source": [
        "# Compute step response\n",
        "T = (1/s) * K / ( s**2 + a*s + K )\n",
        "T = T.subs(a,aval).subs(K,Kval)\n",
        "y = inverse_laplace_transform(T,s,t)\n",
        "y"
      ],
      "execution_count": 26,
      "outputs": [
        {
          "output_type": "display_data",
          "data": {
            "text/html": [
              "\n",
              "        <script src=\"https://www.gstatic.com/external_hosted/mathjax/latest/MathJax.js?config=TeX-AMS_HTML-full,Safe&delayStartupUntil=configured\"></script>\n",
              "        <script>\n",
              "          (() => {\n",
              "            const mathjax = window.MathJax;\n",
              "            mathjax.Hub.Config({\n",
              "            'tex2jax': {\n",
              "              'inlineMath': [['$', '$'], ['\\(', '\\)']],\n",
              "              'displayMath': [['$$', '$$'], ['\\[', '\\]']],\n",
              "              'processEscapes': true,\n",
              "              'processEnvironments': true,\n",
              "              'skipTags': ['script', 'noscript', 'style', 'textarea', 'code'],\n",
              "              'displayAlign': 'center',\n",
              "            },\n",
              "            'HTML-CSS': {\n",
              "              'styles': {'.MathJax_Display': {'margin': 0}},\n",
              "              'linebreaks': {'automatic': true},\n",
              "              // Disable to prevent OTF font loading, which aren't part of our\n",
              "              // distribution.\n",
              "              'imageFont': null,\n",
              "            },\n",
              "            'messageStyle': 'none'\n",
              "          });\n",
              "          mathjax.Hub.Configured();\n",
              "        })();\n",
              "        </script>\n",
              "        "
            ],
            "text/plain": [
              "<IPython.core.display.HTML object>"
            ]
          },
          "metadata": {
            "tags": []
          }
        },
        {
          "output_type": "execute_result",
          "data": {
            "text/latex": "$$\\left(1.0 e^{0.8 t} - 0.441271200305303 \\sin{\\left (1.81294405673088 t \\right )} - 1.0 \\cos{\\left (1.81294405673088 t \\right )}\\right) e^{- 0.8 t}$$",
            "text/plain": [
              "⎛     0.8⋅t                                                                   \n",
              "⎝1.0⋅ℯ      - 0.441271200305303⋅sin(1.81294405673088⋅t) - 1.0⋅cos(1.8129440567\n",
              "\n",
              "       ⎞  -0.8⋅t\n",
              "3088⋅t)⎠⋅ℯ      "
            ]
          },
          "metadata": {
            "tags": []
          },
          "execution_count": 26
        }
      ]
    },
    {
      "cell_type": "markdown",
      "metadata": {
        "id": "0eau66Kofadz",
        "colab_type": "text"
      },
      "source": [
        ""
      ]
    },
    {
      "cell_type": "code",
      "metadata": {
        "id": "0umtx-tkYclB",
        "colab_type": "code",
        "colab": {
          "base_uri": "https://localhost:8080/",
          "height": 399
        },
        "outputId": "699310e7-0183-4971-a7af-0266af83c4ab"
      },
      "source": [
        "plots = plotting.plot(y,1.25,0.98, 1.02, (t,0,10),show=False);\n",
        "plots.extend(plotting.plot_parametric(5,t,(t,0,1.25),show=False))\n",
        "plots[0].line_color = 'orange'\n",
        "plots[1].line_color = 'gray'\n",
        "plots[2].line_color = 'gray'\n",
        "plots[3].line_color = 'gray'\n",
        "plots[4].line_color = 'gray'\n",
        "plots.show()"
      ],
      "execution_count": 27,
      "outputs": [
        {
          "output_type": "stream",
          "text": [
            "/usr/local/lib/python3.6/dist-packages/sympy/plotting/plot.py:890: MatplotlibDeprecationWarning: \n",
            "The set_smart_bounds function was deprecated in Matplotlib 3.2 and will be removed two minor releases later.\n",
            "  self.ax.spines['left'].set_smart_bounds(True)\n",
            "/usr/local/lib/python3.6/dist-packages/sympy/plotting/plot.py:891: MatplotlibDeprecationWarning: \n",
            "The set_smart_bounds function was deprecated in Matplotlib 3.2 and will be removed two minor releases later.\n",
            "  self.ax.spines['bottom'].set_smart_bounds(False)\n"
          ],
          "name": "stderr"
        },
        {
          "output_type": "display_data",
          "data": {
            "image/png": "[encoded data removed]",
            "text/plain": [
              "<Figure size 432x288 with 1 Axes>"
            ]
          },
          "metadata": {
            "tags": []
          }
        }
      ]
    },
    {
      "cell_type": "code",
      "metadata": {
        "id": "hPTxz0GOYclI",
        "colab_type": "code",
        "colab": {}
      },
      "source": [
        "aaa =  lambdify(t,y)"
      ],
      "execution_count": 0,
      "outputs": []
    },
    {
      "cell_type": "code",
      "metadata": {
        "id": "U-JoBCNfe1Cf",
        "colab_type": "code",
        "colab": {
          "base_uri": "https://localhost:8080/",
          "height": 34
        },
        "outputId": "b9f45c3c-0faf-4e31-cbb2-794484bdda4b"
      },
      "source": [
        "aaa(3)"
      ],
      "execution_count": 29,
      "outputs": [
        {
          "output_type": "display_data",
          "data": {
            "text/html": [
              "\n",
              "        <script src=\"https://www.gstatic.com/external_hosted/mathjax/latest/MathJax.js?config=TeX-AMS_HTML-full,Safe&delayStartupUntil=configured\"></script>\n",
              "        <script>\n",
              "          (() => {\n",
              "            const mathjax = window.MathJax;\n",
              "            mathjax.Hub.Config({\n",
              "            'tex2jax': {\n",
              "              'inlineMath': [['$', '$'], ['\\(', '\\)']],\n",
              "              'displayMath': [['$$', '$$'], ['\\[', '\\]']],\n",
              "              'processEscapes': true,\n",
              "              'processEnvironments': true,\n",
              "              'skipTags': ['script', 'noscript', 'style', 'textarea', 'code'],\n",
              "              'displayAlign': 'center',\n",
              "            },\n",
              "            'HTML-CSS': {\n",
              "              'styles': {'.MathJax_Display': {'margin': 0}},\n",
              "              'linebreaks': {'automatic': true},\n",
              "              // Disable to prevent OTF font loading, which aren't part of our\n",
              "              // distribution.\n",
              "              'imageFont': null,\n",
              "            },\n",
              "            'messageStyle': 'none'\n",
              "          });\n",
              "          mathjax.Hub.Configured();\n",
              "        })();\n",
              "        </script>\n",
              "        "
            ],
            "text/plain": [
              "<IPython.core.display.HTML object>"
            ]
          },
          "metadata": {
            "tags": []
          }
        },
        {
          "output_type": "execute_result",
          "data": {
            "text/latex": "$$0.9696687794637543$$",
            "text/plain": [
              "0.9696687794637543"
            ]
          },
          "metadata": {
            "tags": []
          },
          "execution_count": 29
        }
      ]
    },
    {
      "cell_type": "code",
      "metadata": {
        "id": "yreRBYj_fMu6",
        "colab_type": "code",
        "colab": {}
      },
      "source": [
        ""
      ],
      "execution_count": 0,
      "outputs": []
    }
  ]
}