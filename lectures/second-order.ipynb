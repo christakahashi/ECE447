{
  "nbformat": 4,
  "nbformat_minor": 0,
  "metadata": {
    "kernelspec": {
      "display_name": "Python 3",
      "language": "python",
      "name": "python3"
    },
    "language_info": {
      "codemirror_mode": {
        "name": "ipython",
        "version": 3
      },
      "file_extension": ".py",
      "mimetype": "text/x-python",
      "name": "python",
      "nbconvert_exporter": "python",
      "pygments_lexer": "ipython3",
      "version": "3.6.1"
    },
    "colab": {
      "name": "second-order.ipynb",
      "provenance": [],
      "include_colab_link": true
    }
  },
  "cells": [
    {
      "cell_type": "markdown",
      "metadata": {
        "id": "view-in-github",
        "colab_type": "text"
      },
      "source": [
        "<a href=\"https://colab.research.google.com/github/christakahashi/ECE447/blob/master/lectures/second-order.ipynb\" target=\"_parent\"><img src=\"https://colab.research.google.com/assets/colab-badge.svg\" alt=\"Open In Colab\"/></a>"
      ]
    },
    {
      "cell_type": "markdown",
      "metadata": {
        "id": "62Z8uSZKRYqQ",
        "colab_type": "text"
      },
      "source": [
        "ECE 447: Second Order Systems\n",
        "===\n",
        "\n",
        "Updated by \n",
        " Dr. Chris Takahashi\n",
        "\n",
        "Authored by Prof. Eric Klavins &copy; 2019, University of Washington\n"
      ]
    },
    {
      "cell_type": "markdown",
      "metadata": {
        "id": "Bn5Nb_qXRYqR",
        "colab_type": "text"
      },
      "source": [
        "# Code"
      ]
    },
    {
      "cell_type": "code",
      "metadata": {
        "id": "xhHPMTmiRYqV",
        "colab_type": "code",
        "colab": {}
      },
      "source": [
        "import numpy as np\n",
        "import scipy.integrate as spi\n",
        "import matplotlib.pyplot as plt\n",
        "from sympy import *\n",
        " \n",
        "%matplotlib inline\n",
        "\n",
        "#comment out for light mode\n",
        "plt.style.use('dark_background')\n",
        "\n",
        "try: \n",
        "  import google.colab #test for colab\n",
        "  import IPython\n",
        "  def setup_typeset():\n",
        "    \"\"\"MathJax initialization for the current cell.\n",
        "    \n",
        "    This installs and configures MathJax for the current output.\n",
        "    \"\"\"\n",
        "    IPython.display.display(IPython.display.HTML('''\n",
        "        <script src=\"https://www.gstatic.com/external_hosted/mathjax/latest/MathJax.js?config=TeX-AMS_HTML-full,Safe&delayStartupUntil=configured\"></script>\n",
        "        <script>\n",
        "          (() => {\n",
        "            const mathjax = window.MathJax;\n",
        "            mathjax.Hub.Config({\n",
        "            'tex2jax': {\n",
        "              'inlineMath': [['$', '$'], ['\\\\(', '\\\\)']],\n",
        "              'displayMath': [['$$', '$$'], ['\\\\[', '\\\\]']],\n",
        "              'processEscapes': true,\n",
        "              'processEnvironments': true,\n",
        "              'skipTags': ['script', 'noscript', 'style', 'textarea', 'code'],\n",
        "              'displayAlign': 'center',\n",
        "            },\n",
        "            'HTML-CSS': {\n",
        "              'styles': {'.MathJax_Display': {'margin': 0}},\n",
        "              'linebreaks': {'automatic': true},\n",
        "              // Disable to prevent OTF font loading, which aren't part of our\n",
        "              // distribution.\n",
        "              'imageFont': null,\n",
        "            },\n",
        "            'messageStyle': 'none'\n",
        "          });\n",
        "          mathjax.Hub.Configured();\n",
        "        })();\n",
        "        </script>\n",
        "        '''))\n",
        "  def custom_latex_printer(exp,**options):\n",
        "      setup_typeset()\n",
        "      return printing.latex(exp,**options)\n",
        "  init_printing(use_latex=\"mathjax\",latex_printer=custom_latex_printer)\n",
        "except:\n",
        "  init_printing(use_latex='mathjax')\n",
        "\n",
        "\n",
        "def center(plt):\n",
        "    plt.gca().spines['left'].set_position('center')\n",
        "    plt.gca().spines['bottom'].set_position('center')\n",
        "    plt.gca().spines['right'].set_color('none')\n",
        "    plt.gca().spines['top'].set_color('none')\n",
        "    plt.gca().set_aspect('equal') \n",
        "    \n",
        "def poles(plt,poles):\n",
        "    center(plt)\n",
        "    for p in poles:\n",
        "        plt.plot([p[0]-0.1,p[0]+0.1],[p[1]-0.1,p[1]+0.1],'red')\n",
        "        plt.plot([p[0]-0.1,p[0]+0.1],[p[1]+0.1,p[1]-0.1],'red')   \n",
        "        plt.xlabel(\"Im\", labelpad=100)\n",
        "        plt.ylabel(\"Re\", labelpad=140)        "
      ],
      "execution_count": 0,
      "outputs": []
    },
    {
      "cell_type": "markdown",
      "metadata": {
        "heading_collapsed": true,
        "id": "YiZspxK6RYqi",
        "colab_type": "text"
      },
      "source": [
        "# Goal"
      ]
    },
    {
      "cell_type": "markdown",
      "metadata": {
        "hidden": true,
        "id": "e1L1mUhVRYqk",
        "colab_type": "text"
      },
      "source": [
        "Here, our goal is to find the exact solution of a typical second order system with two poles and no zeros. With the exact solution, we will be able to look precisely at metrics like rise time, overshoot, and settling time. Although not every system is a second order system with one zero, we will (later) see that by placing the two dominant poles of a system carefully, that we can make even higher order systems behave approximately like the system we will study here."
      ]
    },
    {
      "cell_type": "markdown",
      "metadata": {
        "id": "bvpk2pUxRYql",
        "colab_type": "text"
      },
      "source": [
        "# The Archetypal System"
      ]
    },
    {
      "cell_type": "markdown",
      "metadata": {
        "id": "g-2n0je_RYqm",
        "colab_type": "text"
      },
      "source": [
        "Consider the system\n",
        "\n",
        "$$\n",
        "T(s) = \\frac{\\omega^2}{s^2 + 2 \\zeta \\omega s + \\omega^2}\n",
        "$$\n",
        "\n",
        "where $\\zeta \\geq 0$ and $\\omega \\geq 0$ are constants that depend on whatever physical parameters of the system are present. This is the general form a system with two poles and no zeros.\n",
        "\n",
        "The poles are the roots of the denominator of $T(s)$ and are found using the quadratic formula:\n",
        "\n",
        "$$\n",
        "\\frac{-2 \\zeta \\omega \\pm \\sqrt{4 \\zeta^2 \\omega^2 - 4 \\omega^2}}{2}\n",
        "$$\n",
        "\n",
        "which simplifies to \n",
        "\n",
        "\\begin{align}\n",
        " & \\; -\\omega\\zeta \\pm \\omega \\sqrt{\\zeta^2 - 1} \\\\\n",
        " & = - \\omega\\zeta \\pm \\omega \\beta i\n",
        "\\end{align}\n",
        "\n",
        "where $\\beta = \\sqrt{1- \\zeta^2}$.\n",
        "\n",
        "In the s-plane this looks like:"
      ]
    },
    {
      "cell_type": "code",
      "metadata": {
        "id": "E5Q0QR9yRYqo",
        "colab_type": "code",
        "colab": {
          "base_uri": "https://localhost:8080/",
          "height": 271
        },
        "outputId": "66ca808b-3d17-4cfb-b5f0-ac60eac37a0b"
      },
      "source": [
        "plt.xlim(-3,3)\n",
        "plt.ylim(-2,2)\n",
        "plt.plot([-2,0],[1,0],'blue')\n",
        "plt.plot([-2,0],[-1,0],'blue')\n",
        "poles(plt,[[-2,1],[-2,-1]])\n",
        "x1 = plt.Text(0.1,0.95, \"$\\omega\\;\\\\beta\\;i$\")\n",
        "x2 = plt.Text(-2.15,0.1, \"$\\omega\\;\\\\zeta$\")\n",
        "plt.gca().add_artist(x1)\n",
        "plt.gca().add_artist(x2);"
      ],
      "execution_count": 13,
      "outputs": [
        {
          "output_type": "display_data",
          "data": {
            "image/png": "[encoded data removed]",
            "text/plain": [
              "<Figure size 432x288 with 1 Axes>"
            ]
          },
          "metadata": {
            "tags": []
          }
        }
      ]
    },
    {
      "cell_type": "markdown",
      "metadata": {
        "id": "tSAJYRlWRYqv",
        "colab_type": "text"
      },
      "source": [
        "The parameter $\\zeta$ is called the **damping ratio**:\n",
        "\n",
        "- $\\zeta = 0 \\; \\Rightarrow$ pure oscillations\n",
        "- $\\zeta = 1 \\; \\Rightarrow$ critically damped\n",
        "\n",
        "The parameter $\\omega$ is called the **natural frequency**."
      ]
    },
    {
      "cell_type": "markdown",
      "metadata": {
        "id": "ZhKEOPs1RYqx",
        "colab_type": "text"
      },
      "source": [
        "# The Step Response"
      ]
    },
    {
      "cell_type": "markdown",
      "metadata": {
        "id": "UYuN9KoIRYqy",
        "colab_type": "text"
      },
      "source": [
        "To learn more about the behavior of the archetypal system, we'll find its step response."
      ]
    },
    {
      "cell_type": "code",
      "metadata": {
        "id": "zWp3vs9YRYqz",
        "colab_type": "code",
        "colab": {
          "base_uri": "https://localhost:8080/",
          "height": 58
        },
        "outputId": "a9527f16-fa07-4fed-d7b2-d50c01322bbe"
      },
      "source": [
        "# Declare variables\n",
        "var(\"s\")\n",
        "var(\"w z t b tau theta\", real=True, positive=True)\n",
        "T = (w**2)/(s**2 + 2*z*w*s + w**2)\n",
        "T"
      ],
      "execution_count": 14,
      "outputs": [
        {
          "output_type": "display_data",
          "data": {
            "text/html": [
              "\n",
              "        <script src=\"https://www.gstatic.com/external_hosted/mathjax/latest/MathJax.js?config=TeX-AMS_HTML-full,Safe&delayStartupUntil=configured\"></script>\n",
              "        <script>\n",
              "          (() => {\n",
              "            const mathjax = window.MathJax;\n",
              "            mathjax.Hub.Config({\n",
              "            'tex2jax': {\n",
              "              'inlineMath': [['$', '$'], ['\\(', '\\)']],\n",
              "              'displayMath': [['$$', '$$'], ['\\[', '\\]']],\n",
              "              'processEscapes': true,\n",
              "              'processEnvironments': true,\n",
              "              'skipTags': ['script', 'noscript', 'style', 'textarea', 'code'],\n",
              "              'displayAlign': 'center',\n",
              "            },\n",
              "            'HTML-CSS': {\n",
              "              'styles': {'.MathJax_Display': {'margin': 0}},\n",
              "              'linebreaks': {'automatic': true},\n",
              "              // Disable to prevent OTF font loading, which aren't part of our\n",
              "              // distribution.\n",
              "              'imageFont': null,\n",
              "            },\n",
              "            'messageStyle': 'none'\n",
              "          });\n",
              "          mathjax.Hub.Configured();\n",
              "        })();\n",
              "        </script>\n",
              "        "
            ],
            "text/plain": [
              "<IPython.core.display.HTML object>"
            ]
          },
          "metadata": {
            "tags": []
          }
        },
        {
          "output_type": "execute_result",
          "data": {
            "text/latex": "$$\\frac{w^{2}}{s^{2} + 2 s w z + w^{2}}$$",
            "text/plain": [
              "         2       \n",
              "        w        \n",
              "─────────────────\n",
              " 2              2\n",
              "s  + 2⋅s⋅w⋅z + w "
            ]
          },
          "metadata": {
            "tags": []
          },
          "execution_count": 14
        }
      ]
    },
    {
      "cell_type": "code",
      "metadata": {
        "id": "mdqv3Ol8RYq7",
        "colab_type": "code",
        "colab": {
          "base_uri": "https://localhost:8080/",
          "height": 370
        },
        "outputId": "988847fb-65c8-490e-e052-e2e0863f42a7"
      },
      "source": [
        "# Unfortunately, sympy gives us a fairly unintutitive expression\n",
        "inverse_laplace_transform((1/s)*T,s,t)"
      ],
      "execution_count": 15,
      "outputs": [
        {
          "output_type": "display_data",
          "data": {
            "text/html": [
              "\n",
              "        <script src=\"https://www.gstatic.com/external_hosted/mathjax/latest/MathJax.js?config=TeX-AMS_HTML-full,Safe&delayStartupUntil=configured\"></script>\n",
              "        <script>\n",
              "          (() => {\n",
              "            const mathjax = window.MathJax;\n",
              "            mathjax.Hub.Config({\n",
              "            'tex2jax': {\n",
              "              'inlineMath': [['$', '$'], ['\\(', '\\)']],\n",
              "              'displayMath': [['$$', '$$'], ['\\[', '\\]']],\n",
              "              'processEscapes': true,\n",
              "              'processEnvironments': true,\n",
              "              'skipTags': ['script', 'noscript', 'style', 'textarea', 'code'],\n",
              "              'displayAlign': 'center',\n",
              "            },\n",
              "            'HTML-CSS': {\n",
              "              'styles': {'.MathJax_Display': {'margin': 0}},\n",
              "              'linebreaks': {'automatic': true},\n",
              "              // Disable to prevent OTF font loading, which aren't part of our\n",
              "              // distribution.\n",
              "              'imageFont': null,\n",
              "            },\n",
              "            'messageStyle': 'none'\n",
              "          });\n",
              "          mathjax.Hub.Configured();\n",
              "        })();\n",
              "        </script>\n",
              "        "
            ],
            "text/plain": [
              "<IPython.core.display.HTML object>"
            ]
          },
          "metadata": {
            "tags": []
          }
        },
        {
          "output_type": "execute_result",
          "data": {
            "text/latex": "$$\\frac{e^{- t w z}}{\\left(z - \\sqrt{z - 1} \\sqrt{z + 1}\\right)^{2} \\left(z + \\sqrt{z - 1} \\sqrt{z + 1}\\right)^{2} \\sqrt{z^{2} - 1}} \\left(- \\frac{i z}{2} e^{t w \\sqrt{z + 1} \\cos{\\left (\\frac{1}{2} \\operatorname{atan_{2}}{\\left (0,z - 1 \\right )} \\right )} \\sqrt{\\left|{z - 1}\\right|}} \\sin{\\left (t w \\sqrt{z + 1} \\sin{\\left (\\frac{1}{2} \\operatorname{atan_{2}}{\\left (0,z - 1 \\right )} \\right )} \\sqrt{\\left|{z - 1}\\right|} \\right )} - \\frac{z}{2} e^{t w \\sqrt{z + 1} \\cos{\\left (\\frac{1}{2} \\operatorname{atan_{2}}{\\left (0,z - 1 \\right )} \\right )} \\sqrt{\\left|{z - 1}\\right|}} \\cos{\\left (t w \\sqrt{z + 1} \\sin{\\left (\\frac{1}{2} \\operatorname{atan_{2}}{\\left (0,z - 1 \\right )} \\right )} \\sqrt{\\left|{z - 1}\\right|} \\right )} - \\frac{i z}{2} e^{- t w \\sqrt{z + 1} \\cos{\\left (\\frac{1}{2} \\operatorname{atan_{2}}{\\left (0,z - 1 \\right )} \\right )} \\sqrt{\\left|{z - 1}\\right|}} \\sin{\\left (t w \\sqrt{z + 1} \\sin{\\left (\\frac{1}{2} \\operatorname{atan_{2}}{\\left (0,z - 1 \\right )} \\right )} \\sqrt{\\left|{z - 1}\\right|} \\right )} + \\frac{z}{2} e^{- t w \\sqrt{z + 1} \\cos{\\left (\\frac{1}{2} \\operatorname{atan_{2}}{\\left (0,z - 1 \\right )} \\right )} \\sqrt{\\left|{z - 1}\\right|}} \\cos{\\left (t w \\sqrt{z + 1} \\sin{\\left (\\frac{1}{2} \\operatorname{atan_{2}}{\\left (0,z - 1 \\right )} \\right )} \\sqrt{\\left|{z - 1}\\right|} \\right )} - \\frac{i}{2} \\sqrt{z - 1} \\sqrt{z + 1} e^{t w \\sqrt{z + 1} \\cos{\\left (\\frac{1}{2} \\operatorname{atan_{2}}{\\left (0,z - 1 \\right )} \\right )} \\sqrt{\\left|{z - 1}\\right|}} \\sin{\\left (t w \\sqrt{z + 1} \\sin{\\left (\\frac{1}{2} \\operatorname{atan_{2}}{\\left (0,z - 1 \\right )} \\right )} \\sqrt{\\left|{z - 1}\\right|} \\right )} + \\frac{i}{2} \\sqrt{z - 1} \\sqrt{z + 1} e^{- t w \\sqrt{z + 1} \\cos{\\left (\\frac{1}{2} \\operatorname{atan_{2}}{\\left (0,z - 1 \\right )} \\right )} \\sqrt{\\left|{z - 1}\\right|}} \\sin{\\left (t w \\sqrt{z + 1} \\sin{\\left (\\frac{1}{2} \\operatorname{atan_{2}}{\\left (0,z - 1 \\right )} \\right )} \\sqrt{\\left|{z - 1}\\right|} \\right )} + \\sqrt{z^{2} - 1} e^{t w z} - \\frac{1}{2} \\sqrt{z^{2} - 1} e^{t w \\sqrt{z + 1} \\cos{\\left (\\frac{1}{2} \\operatorname{atan_{2}}{\\left (0,z - 1 \\right )} \\right )} \\sqrt{\\left|{z - 1}\\right|}} \\cos{\\left (t w \\sqrt{z + 1} \\sin{\\left (\\frac{1}{2} \\operatorname{atan_{2}}{\\left (0,z - 1 \\right )} \\right )} \\sqrt{\\left|{z - 1}\\right|} \\right )} - \\frac{1}{2} \\sqrt{z^{2} - 1} e^{- t w \\sqrt{z + 1} \\cos{\\left (\\frac{1}{2} \\operatorname{atan_{2}}{\\left (0,z - 1 \\right )} \\right )} \\sqrt{\\left|{z - 1}\\right|}} \\cos{\\left (t w \\sqrt{z + 1} \\sin{\\left (\\frac{1}{2} \\operatorname{atan_{2}}{\\left (0,z - 1 \\right )} \\right )} \\sqrt{\\left|{z - 1}\\right|} \\right )}\\right)$$",
            "text/plain": [
              "⎛             _______    ⎛atan2(0, z - 1)⎞   _________                        \n",
              "⎜       t⋅w⋅╲╱ z + 1 ⋅cos⎜───────────────⎟⋅╲╱ │z - 1│                         \n",
              "⎜                        ⎝       2       ⎠                ⎛      _______    ⎛a\n",
              "⎜  ⅈ⋅z⋅ℯ                                              ⋅sin⎜t⋅w⋅╲╱ z + 1 ⋅sin⎜─\n",
              "⎜                                                         ⎝                 ⎝ \n",
              "⎜- ───────────────────────────────────────────────────────────────────────────\n",
              "⎝                                                     2                       \n",
              "──────────────────────────────────────────────────────────────────────────────\n",
              "                                                                              \n",
              "                                                                              \n",
              "                                                                              \n",
              "\n",
              "                                        _______    ⎛atan2(0, z - 1)⎞   _______\n",
              "                                  t⋅w⋅╲╱ z + 1 ⋅cos⎜───────────────⎟⋅╲╱ │z - 1\n",
              "tan2(0, z - 1)⎞   _________⎞                       ⎝       2       ⎠          \n",
              "──────────────⎟⋅╲╱ │z - 1│ ⎟   z⋅ℯ                                            \n",
              "      2       ⎠            ⎠                                                  \n",
              "──────────────────────────── - ───────────────────────────────────────────────\n",
              "                                                                              \n",
              "──────────────────────────────────────────────────────────────────────────────\n",
              "                                                                              \n",
              "                                                                              \n",
              "                                                                              \n",
              "\n",
              "__                                                                   _______  \n",
              "│                                                             -t⋅w⋅╲╱ z + 1 ⋅c\n",
              "      ⎛      _______    ⎛atan2(0, z - 1)⎞   _________⎞                        \n",
              "  ⋅cos⎜t⋅w⋅╲╱ z + 1 ⋅sin⎜───────────────⎟⋅╲╱ │z - 1│ ⎟   ⅈ⋅z⋅ℯ                \n",
              "      ⎝                 ⎝       2       ⎠            ⎠                        \n",
              "────────────────────────────────────────────────────── - ─────────────────────\n",
              "   2                                                                          \n",
              "──────────────────────────────────────────────────────────────────────────────\n",
              "                                                                              \n",
              "                                                                              \n",
              "                                                                              \n",
              "\n",
              "  ⎛atan2(0, z - 1)⎞   _________                                               \n",
              "os⎜───────────────⎟⋅╲╱ │z - 1│                                                \n",
              "  ⎝       2       ⎠                ⎛      _______    ⎛atan2(0, z - 1)⎞   _____\n",
              "                               ⋅sin⎜t⋅w⋅╲╱ z + 1 ⋅sin⎜───────────────⎟⋅╲╱ │z -\n",
              "                                   ⎝                 ⎝       2       ⎠        \n",
              "──────────────────────────────────────────────────────────────────────────────\n",
              "                              2                                               \n",
              "──────────────────────────────────────────────────────────────────────────────\n",
              "                                                                              \n",
              "                                                                              \n",
              "                                                                              \n",
              "\n",
              "                  _______    ⎛atan2(0, z - 1)⎞   _________                    \n",
              "           -t⋅w⋅╲╱ z + 1 ⋅cos⎜───────────────⎟⋅╲╱ │z - 1│                     \n",
              "____⎞                        ⎝       2       ⎠                ⎛      _______  \n",
              " 1│ ⎟   z⋅ℯ                                               ⋅cos⎜t⋅w⋅╲╱ z + 1 ⋅s\n",
              "    ⎠                                                         ⎝               \n",
              "───── + ──────────────────────────────────────────────────────────────────────\n",
              "                                                          2                   \n",
              "──────────────────────────────────────────────────────────────────────────────\n",
              "                                                                              \n",
              "                                                                              \n",
              "                                                                              \n",
              "\n",
              "                                                                _______    ⎛at\n",
              "                                                          t⋅w⋅╲╱ z + 1 ⋅cos⎜──\n",
              "  ⎛atan2(0, z - 1)⎞   _________⎞       _______   _______                   ⎝  \n",
              "in⎜───────────────⎟⋅╲╱ │z - 1│ ⎟   ⅈ⋅╲╱ z - 1 ⋅╲╱ z + 1 ⋅ℯ                    \n",
              "  ⎝       2       ⎠            ⎠                                              \n",
              "──────────────────────────────── - ───────────────────────────────────────────\n",
              "                                                                              \n",
              "──────────────────────────────────────────────────────────────────────────────\n",
              "                                                                   2          \n",
              "                                          ⎛      _______   _______⎞  ⎛      __\n",
              "                                          ⎝z - ╲╱ z - 1 ⋅╲╱ z + 1 ⎠ ⋅⎝z + ╲╱ z\n",
              "\n",
              "an2(0, z - 1)⎞   _________                                                    \n",
              "─────────────⎟⋅╲╱ │z - 1│                                                     \n",
              "     2       ⎠                ⎛      _______    ⎛atan2(0, z - 1)⎞   _________⎞\n",
              "                          ⋅sin⎜t⋅w⋅╲╱ z + 1 ⋅sin⎜───────────────⎟⋅╲╱ │z - 1│ ⎟\n",
              "                              ⎝                 ⎝       2       ⎠            ⎠\n",
              "──────────────────────────────────────────────────────────────────────────────\n",
              "                 2                                                            \n",
              "──────────────────────────────────────────────────────────────────────────────\n",
              "                2    ________                                                 \n",
              "_____   _______⎞    ╱  2                                                      \n",
              " - 1 ⋅╲╱ z + 1 ⎠ ⋅╲╱  z  - 1                                                  \n",
              "\n",
              "                                 _______    ⎛atan2(0, z - 1)⎞   _________     \n",
              "                          -t⋅w⋅╲╱ z + 1 ⋅cos⎜───────────────⎟⋅╲╱ │z - 1│      \n",
              "       _______   _______                    ⎝       2       ⎠                ⎛\n",
              "   ⅈ⋅╲╱ z - 1 ⋅╲╱ z + 1 ⋅ℯ                                               ⋅sin⎜\n",
              "                                                                             ⎝\n",
              " + ───────────────────────────────────────────────────────────────────────────\n",
              "                                                               2              \n",
              "──────────────────────────────────────────────────────────────────────────────\n",
              "                                                                              \n",
              "                                                                              \n",
              "                                                                              \n",
              "\n",
              "                                                                              \n",
              "                                                                          ____\n",
              "      _______    ⎛atan2(0, z - 1)⎞   _________⎞                          ╱  2 \n",
              "t⋅w⋅╲╱ z + 1 ⋅sin⎜───────────────⎟⋅╲╱ │z - 1│ ⎟      ________          ╲╱  z  \n",
              "                 ⎝       2       ⎠            ⎠     ╱  2       t⋅w⋅z          \n",
              "─────────────────────────────────────────────── + ╲╱  z  - 1 ⋅ℯ      - ───────\n",
              "                                                                              \n",
              "──────────────────────────────────────────────────────────────────────────────\n",
              "                                                                              \n",
              "                                                                              \n",
              "                                                                              \n",
              "\n",
              "            _______    ⎛atan2(0, z - 1)⎞   _________                          \n",
              "____  t⋅w⋅╲╱ z + 1 ⋅cos⎜───────────────⎟⋅╲╱ │z - 1│                           \n",
              "                       ⎝       2       ⎠                ⎛      _______    ⎛ata\n",
              "- 1 ⋅ℯ                                              ⋅cos⎜t⋅w⋅╲╱ z + 1 ⋅sin⎜───\n",
              "                                                        ⎝                 ⎝   \n",
              "──────────────────────────────────────────────────────────────────────────────\n",
              "                                                2                             \n",
              "──────────────────────────────────────────────────────────────────────────────\n",
              "                                                                              \n",
              "                                                                              \n",
              "                                                                              \n",
              "\n",
              "                                                 _______    ⎛atan2(0, z - 1)⎞ \n",
              "                                ________  -t⋅w⋅╲╱ z + 1 ⋅cos⎜───────────────⎟⋅\n",
              "n2(0, z - 1)⎞   _________⎞     ╱  2                         ⎝       2       ⎠ \n",
              "────────────⎟⋅╲╱ │z - 1│ ⎟   ╲╱  z  - 1 ⋅ℯ                                    \n",
              "    2       ⎠            ⎠                                                    \n",
              "────────────────────────── - ─────────────────────────────────────────────────\n",
              "                                                                              \n",
              "──────────────────────────────────────────────────────────────────────────────\n",
              "                                                                              \n",
              "                                                                              \n",
              "                                                                              \n",
              "\n",
              "  _________                                                    ⎞        \n",
              "╲╱ │z - 1│                                                     ⎟        \n",
              "               ⎛      _______    ⎛atan2(0, z - 1)⎞   _________⎞⎟        \n",
              "           ⋅cos⎜t⋅w⋅╲╱ z + 1 ⋅sin⎜───────────────⎟⋅╲╱ │z - 1│ ⎟⎟        \n",
              "               ⎝                 ⎝       2       ⎠            ⎠⎟  -t⋅w⋅z\n",
              "───────────────────────────────────────────────────────────────⎟⋅ℯ      \n",
              "      2                                                        ⎠        \n",
              "────────────────────────────────────────────────────────────────────────\n",
              "                                                                        \n",
              "                                                                        \n",
              "                                                                        "
            ]
          },
          "metadata": {
            "tags": []
          },
          "execution_count": 15
        }
      ]
    },
    {
      "cell_type": "code",
      "metadata": {
        "id": "Fkylt0jvRYrB",
        "colab_type": "code",
        "colab": {
          "base_uri": "https://localhost:8080/",
          "height": 59
        },
        "outputId": "174c8292-46fb-4b91-9147-47f0791327f3"
      },
      "source": [
        "# Can represent the system in state space though\n",
        "A = Matrix([\n",
        "    [-w*z, -w*b],\n",
        "    [w*b,-w*z]\n",
        "])\n",
        "B=Matrix([\n",
        "    [w],\n",
        "    [0]\n",
        "])\n",
        "C = Matrix([[0,1/b]])\n",
        "A,B,C"
      ],
      "execution_count": 16,
      "outputs": [
        {
          "output_type": "display_data",
          "data": {
            "text/html": [
              "\n",
              "        <script src=\"https://www.gstatic.com/external_hosted/mathjax/latest/MathJax.js?config=TeX-AMS_HTML-full,Safe&delayStartupUntil=configured\"></script>\n",
              "        <script>\n",
              "          (() => {\n",
              "            const mathjax = window.MathJax;\n",
              "            mathjax.Hub.Config({\n",
              "            'tex2jax': {\n",
              "              'inlineMath': [['$', '$'], ['\\(', '\\)']],\n",
              "              'displayMath': [['$$', '$$'], ['\\[', '\\]']],\n",
              "              'processEscapes': true,\n",
              "              'processEnvironments': true,\n",
              "              'skipTags': ['script', 'noscript', 'style', 'textarea', 'code'],\n",
              "              'displayAlign': 'center',\n",
              "            },\n",
              "            'HTML-CSS': {\n",
              "              'styles': {'.MathJax_Display': {'margin': 0}},\n",
              "              'linebreaks': {'automatic': true},\n",
              "              // Disable to prevent OTF font loading, which aren't part of our\n",
              "              // distribution.\n",
              "              'imageFont': null,\n",
              "            },\n",
              "            'messageStyle': 'none'\n",
              "          });\n",
              "          mathjax.Hub.Configured();\n",
              "        })();\n",
              "        </script>\n",
              "        "
            ],
            "text/plain": [
              "<IPython.core.display.HTML object>"
            ]
          },
          "metadata": {
            "tags": []
          }
        },
        {
          "output_type": "execute_result",
          "data": {
            "text/latex": "$$\\left ( \\left[\\begin{matrix}- w z & - b w\\\\b w & - w z\\end{matrix}\\right], \\quad \\left[\\begin{matrix}w\\\\0\\end{matrix}\\right], \\quad \\left[\\begin{matrix}0 & \\frac{1}{b}\\end{matrix}\\right]\\right )$$",
            "text/plain": [
              "⎛⎡-w⋅z  -b⋅w⎤  ⎡w⎤  ⎡   1⎤⎞\n",
              "⎜⎢          ⎥, ⎢ ⎥, ⎢0  ─⎥⎟\n",
              "⎝⎣b⋅w   -w⋅z⎦  ⎣0⎦  ⎣   b⎦⎠"
            ]
          },
          "metadata": {
            "tags": []
          },
          "execution_count": 16
        }
      ]
    },
    {
      "cell_type": "code",
      "metadata": {
        "id": "y0o0gpkdRYrK",
        "colab_type": "code",
        "colab": {
          "base_uri": "https://localhost:8080/",
          "height": 49
        },
        "outputId": "606361c3-f38e-4160-a77d-56b58cf80d34"
      },
      "source": [
        "# Let's check that this gives us the same transfer function back\n",
        "Tcheck = C*(s*eye(2)-A).inv()*B\n",
        "Tcheck"
      ],
      "execution_count": 17,
      "outputs": [
        {
          "output_type": "display_data",
          "data": {
            "text/html": [
              "\n",
              "        <script src=\"https://www.gstatic.com/external_hosted/mathjax/latest/MathJax.js?config=TeX-AMS_HTML-full,Safe&delayStartupUntil=configured\"></script>\n",
              "        <script>\n",
              "          (() => {\n",
              "            const mathjax = window.MathJax;\n",
              "            mathjax.Hub.Config({\n",
              "            'tex2jax': {\n",
              "              'inlineMath': [['$', '$'], ['\\(', '\\)']],\n",
              "              'displayMath': [['$$', '$$'], ['\\[', '\\]']],\n",
              "              'processEscapes': true,\n",
              "              'processEnvironments': true,\n",
              "              'skipTags': ['script', 'noscript', 'style', 'textarea', 'code'],\n",
              "              'displayAlign': 'center',\n",
              "            },\n",
              "            'HTML-CSS': {\n",
              "              'styles': {'.MathJax_Display': {'margin': 0}},\n",
              "              'linebreaks': {'automatic': true},\n",
              "              // Disable to prevent OTF font loading, which aren't part of our\n",
              "              // distribution.\n",
              "              'imageFont': null,\n",
              "            },\n",
              "            'messageStyle': 'none'\n",
              "          });\n",
              "          mathjax.Hub.Configured();\n",
              "        })();\n",
              "        </script>\n",
              "        "
            ],
            "text/plain": [
              "<IPython.core.display.HTML object>"
            ]
          },
          "metadata": {
            "tags": []
          }
        },
        {
          "output_type": "execute_result",
          "data": {
            "text/latex": "$$\\left[\\begin{matrix}- \\frac{w^{2}}{- b^{2} w^{2} - \\left(s + w z\\right)^{2}}\\end{matrix}\\right]$$",
            "text/plain": [
              "⎡          2         ⎤\n",
              "⎢        -w          ⎥\n",
              "⎢────────────────────⎥\n",
              "⎢   2  2            2⎥\n",
              "⎣- b ⋅w  - (s + w⋅z) ⎦"
            ]
          },
          "metadata": {
            "tags": []
          },
          "execution_count": 17
        }
      ]
    },
    {
      "cell_type": "code",
      "metadata": {
        "id": "lIWRtUxXRYrQ",
        "colab_type": "code",
        "colab": {
          "base_uri": "https://localhost:8080/",
          "height": 49
        },
        "outputId": "834f9f5f-d105-4b2e-b5fc-eda4748228c6"
      },
      "source": [
        "# The above looks close, but we need to put in the definition of beta\n",
        "Tcheck = Tcheck.subs(b,sqrt(1-z**2))\n",
        "Tcheck.simplify()\n",
        "Tcheck"
      ],
      "execution_count": 18,
      "outputs": [
        {
          "output_type": "display_data",
          "data": {
            "text/html": [
              "\n",
              "        <script src=\"https://www.gstatic.com/external_hosted/mathjax/latest/MathJax.js?config=TeX-AMS_HTML-full,Safe&delayStartupUntil=configured\"></script>\n",
              "        <script>\n",
              "          (() => {\n",
              "            const mathjax = window.MathJax;\n",
              "            mathjax.Hub.Config({\n",
              "            'tex2jax': {\n",
              "              'inlineMath': [['$', '$'], ['\\(', '\\)']],\n",
              "              'displayMath': [['$$', '$$'], ['\\[', '\\]']],\n",
              "              'processEscapes': true,\n",
              "              'processEnvironments': true,\n",
              "              'skipTags': ['script', 'noscript', 'style', 'textarea', 'code'],\n",
              "              'displayAlign': 'center',\n",
              "            },\n",
              "            'HTML-CSS': {\n",
              "              'styles': {'.MathJax_Display': {'margin': 0}},\n",
              "              'linebreaks': {'automatic': true},\n",
              "              // Disable to prevent OTF font loading, which aren't part of our\n",
              "              // distribution.\n",
              "              'imageFont': null,\n",
              "            },\n",
              "            'messageStyle': 'none'\n",
              "          });\n",
              "          mathjax.Hub.Configured();\n",
              "        })();\n",
              "        </script>\n",
              "        "
            ],
            "text/plain": [
              "<IPython.core.display.HTML object>"
            ]
          },
          "metadata": {
            "tags": []
          }
        },
        {
          "output_type": "execute_result",
          "data": {
            "text/latex": "$$\\left[\\begin{matrix}\\frac{w^{2}}{s^{2} + 2 s w z + w^{2}}\\end{matrix}\\right]$$",
            "text/plain": [
              "⎡         2       ⎤\n",
              "⎢        w        ⎥\n",
              "⎢─────────────────⎥\n",
              "⎢ 2              2⎥\n",
              "⎣s  + 2⋅s⋅w⋅z + w ⎦"
            ]
          },
          "metadata": {
            "tags": []
          },
          "execution_count": 18
        }
      ]
    },
    {
      "cell_type": "code",
      "metadata": {
        "id": "ks178H2dRYrW",
        "colab_type": "code",
        "colab": {
          "base_uri": "https://localhost:8080/",
          "height": 49
        },
        "outputId": "3b21d561-a97d-4f57-fdd7-b763268a7e35"
      },
      "source": [
        "# Now let's find the response. First note that although\n",
        "#\n",
        "#   y = y_natural    + y_forced\n",
        "#     = C * eAt * x0 + y_forced\n",
        "#\n",
        "# we are assuming that x0 = [0,0]^T, so y_natural = 0 so \n",
        "#\n",
        "#   y = y_forced\n",
        "#\n",
        "# Unfortunately, sympy thrashes on the following integration problem:\n",
        "# \n",
        "integrate(C*exp(A*(t-tau))*B*1,(tau,0,t))"
      ],
      "execution_count": 19,
      "outputs": [
        {
          "output_type": "display_data",
          "data": {
            "text/html": [
              "\n",
              "        <script src=\"https://www.gstatic.com/external_hosted/mathjax/latest/MathJax.js?config=TeX-AMS_HTML-full,Safe&delayStartupUntil=configured\"></script>\n",
              "        <script>\n",
              "          (() => {\n",
              "            const mathjax = window.MathJax;\n",
              "            mathjax.Hub.Config({\n",
              "            'tex2jax': {\n",
              "              'inlineMath': [['$', '$'], ['\\(', '\\)']],\n",
              "              'displayMath': [['$$', '$$'], ['\\[', '\\]']],\n",
              "              'processEscapes': true,\n",
              "              'processEnvironments': true,\n",
              "              'skipTags': ['script', 'noscript', 'style', 'textarea', 'code'],\n",
              "              'displayAlign': 'center',\n",
              "            },\n",
              "            'HTML-CSS': {\n",
              "              'styles': {'.MathJax_Display': {'margin': 0}},\n",
              "              'linebreaks': {'automatic': true},\n",
              "              // Disable to prevent OTF font loading, which aren't part of our\n",
              "              // distribution.\n",
              "              'imageFont': null,\n",
              "            },\n",
              "            'messageStyle': 'none'\n",
              "          });\n",
              "          mathjax.Hub.Configured();\n",
              "        })();\n",
              "        </script>\n",
              "        "
            ],
            "text/plain": [
              "<IPython.core.display.HTML object>"
            ]
          },
          "metadata": {
            "tags": []
          }
        },
        {
          "output_type": "execute_result",
          "data": {
            "text/latex": "$$\\left[\\begin{matrix}\\frac{w}{b} \\left(\\frac{i}{2 \\left(i b w + w z\\right)} - \\frac{i}{2 \\left(- i b w + w z\\right)}\\right) - \\frac{w}{b} \\left(\\frac{i e^{- i b t w - t w z}}{2 \\left(i b w + w z\\right)} - \\frac{i e^{i b t w - t w z}}{2 \\left(- i b w + w z\\right)}\\right)\\end{matrix}\\right]$$",
            "text/plain": [
              "⎡                                           ⎛   -ⅈ⋅b⋅t⋅w - t⋅w⋅z      ⅈ⋅b⋅t⋅w \n",
              "⎢  ⎛       ⅈ                 ⅈ        ⎞     ⎜ⅈ⋅ℯ                   ⅈ⋅ℯ        \n",
              "⎢w⋅⎜─────────────── - ────────────────⎟   w⋅⎜─────────────────── - ───────────\n",
              "⎢  ⎝2⋅(ⅈ⋅b⋅w + w⋅z)   2⋅(-ⅈ⋅b⋅w + w⋅z)⎠     ⎝  2⋅(ⅈ⋅b⋅w + w⋅z)      2⋅(-ⅈ⋅b⋅w \n",
              "⎢────────────────────────────────────── - ────────────────────────────────────\n",
              "⎣                  b                                           b              \n",
              "\n",
              "- t⋅w⋅z⎞⎤\n",
              "       ⎟⎥\n",
              "───────⎟⎥\n",
              "+ w⋅z) ⎠⎥\n",
              "────────⎥\n",
              "        ⎦"
            ]
          },
          "metadata": {
            "tags": []
          },
          "execution_count": 19
        }
      ]
    },
    {
      "cell_type": "code",
      "metadata": {
        "id": "9NR3VKLoRYrb",
        "colab_type": "code",
        "colab": {
          "base_uri": "https://localhost:8080/",
          "height": 59
        },
        "outputId": "c721843e-bd66-4847-bae3-748c9ec81414"
      },
      "source": [
        "# But we can break it down\n",
        "P, D = A.diagonalize()\n",
        "P,D"
      ],
      "execution_count": 20,
      "outputs": [
        {
          "output_type": "display_data",
          "data": {
            "text/html": [
              "\n",
              "        <script src=\"https://www.gstatic.com/external_hosted/mathjax/latest/MathJax.js?config=TeX-AMS_HTML-full,Safe&delayStartupUntil=configured\"></script>\n",
              "        <script>\n",
              "          (() => {\n",
              "            const mathjax = window.MathJax;\n",
              "            mathjax.Hub.Config({\n",
              "            'tex2jax': {\n",
              "              'inlineMath': [['$', '$'], ['\\(', '\\)']],\n",
              "              'displayMath': [['$$', '$$'], ['\\[', '\\]']],\n",
              "              'processEscapes': true,\n",
              "              'processEnvironments': true,\n",
              "              'skipTags': ['script', 'noscript', 'style', 'textarea', 'code'],\n",
              "              'displayAlign': 'center',\n",
              "            },\n",
              "            'HTML-CSS': {\n",
              "              'styles': {'.MathJax_Display': {'margin': 0}},\n",
              "              'linebreaks': {'automatic': true},\n",
              "              // Disable to prevent OTF font loading, which aren't part of our\n",
              "              // distribution.\n",
              "              'imageFont': null,\n",
              "            },\n",
              "            'messageStyle': 'none'\n",
              "          });\n",
              "          mathjax.Hub.Configured();\n",
              "        })();\n",
              "        </script>\n",
              "        "
            ],
            "text/plain": [
              "<IPython.core.display.HTML object>"
            ]
          },
          "metadata": {
            "tags": []
          }
        },
        {
          "output_type": "execute_result",
          "data": {
            "text/latex": "$$\\left ( \\left[\\begin{matrix}- i & i\\\\1 & 1\\end{matrix}\\right], \\quad \\left[\\begin{matrix}- i b w - w z & 0\\\\0 & i b w - w z\\end{matrix}\\right]\\right )$$",
            "text/plain": [
              "⎛⎡-ⅈ  ⅈ⎤  ⎡-ⅈ⋅b⋅w - w⋅z       0     ⎤⎞\n",
              "⎜⎢     ⎥, ⎢                         ⎥⎟\n",
              "⎝⎣1   1⎦  ⎣     0        ⅈ⋅b⋅w - w⋅z⎦⎠"
            ]
          },
          "metadata": {
            "tags": []
          },
          "execution_count": 20
        }
      ]
    },
    {
      "cell_type": "markdown",
      "metadata": {
        "id": "6vR9hoi9RYrg",
        "colab_type": "text"
      },
      "source": [
        "Now we use the fact that\n",
        "\n",
        "$$\n",
        "y = \\int_0^t C P e^{D(t-\\tau)}P^{-1}B d \\tau\n",
        "$$\n",
        "\n",
        "with $CP$ and $P^{-1}B$ just constants."
      ]
    },
    {
      "cell_type": "code",
      "metadata": {
        "scrolled": true,
        "id": "pdX5ynxsRYrh",
        "colab_type": "code",
        "colab": {
          "base_uri": "https://localhost:8080/",
          "height": 53
        },
        "outputId": "23545ed1-0ab1-4f68-aa63-b9d3dfddd220"
      },
      "source": [
        "# Using the above gives use a pretty simple expression for the integrand\n",
        "temp1 = C*P*exp(D*t)*P.inv()*B\n",
        "temp1 = temp1[0,0].simplify()\n",
        "temp1"
      ],
      "execution_count": 21,
      "outputs": [
        {
          "output_type": "display_data",
          "data": {
            "text/html": [
              "\n",
              "        <script src=\"https://www.gstatic.com/external_hosted/mathjax/latest/MathJax.js?config=TeX-AMS_HTML-full,Safe&delayStartupUntil=configured\"></script>\n",
              "        <script>\n",
              "          (() => {\n",
              "            const mathjax = window.MathJax;\n",
              "            mathjax.Hub.Config({\n",
              "            'tex2jax': {\n",
              "              'inlineMath': [['$', '$'], ['\\(', '\\)']],\n",
              "              'displayMath': [['$$', '$$'], ['\\[', '\\]']],\n",
              "              'processEscapes': true,\n",
              "              'processEnvironments': true,\n",
              "              'skipTags': ['script', 'noscript', 'style', 'textarea', 'code'],\n",
              "              'displayAlign': 'center',\n",
              "            },\n",
              "            'HTML-CSS': {\n",
              "              'styles': {'.MathJax_Display': {'margin': 0}},\n",
              "              'linebreaks': {'automatic': true},\n",
              "              // Disable to prevent OTF font loading, which aren't part of our\n",
              "              // distribution.\n",
              "              'imageFont': null,\n",
              "            },\n",
              "            'messageStyle': 'none'\n",
              "          });\n",
              "          mathjax.Hub.Configured();\n",
              "        })();\n",
              "        </script>\n",
              "        "
            ],
            "text/plain": [
              "<IPython.core.display.HTML object>"
            ]
          },
          "metadata": {
            "tags": []
          }
        },
        {
          "output_type": "execute_result",
          "data": {
            "text/latex": "$$\\frac{i w}{2 b} \\left(e^{t w \\left(- i b - z\\right)} - e^{t w \\left(i b - z\\right)}\\right)$$",
            "text/plain": [
              "    ⎛ t⋅w⋅(-ⅈ⋅b - z)    t⋅w⋅(ⅈ⋅b - z)⎞\n",
              "ⅈ⋅w⋅⎝ℯ               - ℯ             ⎠\n",
              "──────────────────────────────────────\n",
              "                 2⋅b                  "
            ]
          },
          "metadata": {
            "tags": []
          },
          "execution_count": 21
        }
      ]
    },
    {
      "cell_type": "code",
      "metadata": {
        "id": "QzyDznvWRYrm",
        "colab_type": "code",
        "colab": {}
      },
      "source": [
        "#temp3.expand(tau)"
      ],
      "execution_count": 0,
      "outputs": []
    },
    {
      "cell_type": "code",
      "metadata": {
        "id": "abRBH5hPRYrr",
        "colab_type": "code",
        "colab": {
          "base_uri": "https://localhost:8080/",
          "height": 50
        },
        "outputId": "4c9fac28-8f45-43b1-897e-ca64a2c19ca7"
      },
      "source": [
        "# It can be rewritten in terms of sin\n",
        "temp2 = temp1.rewrite(sin).simplify()\n",
        "temp2"
      ],
      "execution_count": 23,
      "outputs": [
        {
          "output_type": "display_data",
          "data": {
            "text/html": [
              "\n",
              "        <script src=\"https://www.gstatic.com/external_hosted/mathjax/latest/MathJax.js?config=TeX-AMS_HTML-full,Safe&delayStartupUntil=configured\"></script>\n",
              "        <script>\n",
              "          (() => {\n",
              "            const mathjax = window.MathJax;\n",
              "            mathjax.Hub.Config({\n",
              "            'tex2jax': {\n",
              "              'inlineMath': [['$', '$'], ['\\(', '\\)']],\n",
              "              'displayMath': [['$$', '$$'], ['\\[', '\\]']],\n",
              "              'processEscapes': true,\n",
              "              'processEnvironments': true,\n",
              "              'skipTags': ['script', 'noscript', 'style', 'textarea', 'code'],\n",
              "              'displayAlign': 'center',\n",
              "            },\n",
              "            'HTML-CSS': {\n",
              "              'styles': {'.MathJax_Display': {'margin': 0}},\n",
              "              'linebreaks': {'automatic': true},\n",
              "              // Disable to prevent OTF font loading, which aren't part of our\n",
              "              // distribution.\n",
              "              'imageFont': null,\n",
              "            },\n",
              "            'messageStyle': 'none'\n",
              "          });\n",
              "          mathjax.Hub.Configured();\n",
              "        })();\n",
              "        </script>\n",
              "        "
            ],
            "text/plain": [
              "<IPython.core.display.HTML object>"
            ]
          },
          "metadata": {
            "tags": []
          }
        },
        {
          "output_type": "execute_result",
          "data": {
            "text/latex": "$$\\frac{w}{b} e^{- t w z} \\sin{\\left (b t w \\right )}$$",
            "text/plain": [
              "   -t⋅w⋅z           \n",
              "w⋅ℯ      ⋅sin(b⋅t⋅w)\n",
              "────────────────────\n",
              "         b          "
            ]
          },
          "metadata": {
            "tags": []
          },
          "execution_count": 23
        }
      ]
    },
    {
      "cell_type": "code",
      "metadata": {
        "id": "Snr-fewoRYrw",
        "colab_type": "code",
        "colab": {
          "base_uri": "https://localhost:8080/",
          "height": 61
        },
        "outputId": "a7a38b54-f741-4172-cefa-d0542f07b8d9"
      },
      "source": [
        "# We can then try to integrate it, but it doesn't seem to work\n",
        "temp3 = temp2.subs(t,t-tau)\n",
        "integrate(temp3,(tau,0,t))"
      ],
      "execution_count": 25,
      "outputs": [
        {
          "output_type": "display_data",
          "data": {
            "text/html": [
              "\n",
              "        <script src=\"https://www.gstatic.com/external_hosted/mathjax/latest/MathJax.js?config=TeX-AMS_HTML-full,Safe&delayStartupUntil=configured\"></script>\n",
              "        <script>\n",
              "          (() => {\n",
              "            const mathjax = window.MathJax;\n",
              "            mathjax.Hub.Config({\n",
              "            'tex2jax': {\n",
              "              'inlineMath': [['$', '$'], ['\\(', '\\)']],\n",
              "              'displayMath': [['$$', '$$'], ['\\[', '\\]']],\n",
              "              'processEscapes': true,\n",
              "              'processEnvironments': true,\n",
              "              'skipTags': ['script', 'noscript', 'style', 'textarea', 'code'],\n",
              "              'displayAlign': 'center',\n",
              "            },\n",
              "            'HTML-CSS': {\n",
              "              'styles': {'.MathJax_Display': {'margin': 0}},\n",
              "              'linebreaks': {'automatic': true},\n",
              "              // Disable to prevent OTF font loading, which aren't part of our\n",
              "              // distribution.\n",
              "              'imageFont': null,\n",
              "            },\n",
              "            'messageStyle': 'none'\n",
              "          });\n",
              "          mathjax.Hub.Configured();\n",
              "        })();\n",
              "        </script>\n",
              "        "
            ],
            "text/plain": [
              "<IPython.core.display.HTML object>"
            ]
          },
          "metadata": {
            "tags": []
          }
        },
        {
          "output_type": "execute_result",
          "data": {
            "text/latex": "$$\\frac{w}{b} \\left(- \\frac{b^{3} e^{t w z}}{b^{2} w z^{2} e^{t w z} + w z^{4} e^{t w z}} + \\frac{b}{w z^{2}}\\right) - \\frac{w}{b} \\left(- \\frac{b^{3} \\cos{\\left (b t w \\right )}}{b^{2} w z^{2} e^{t w z} + w z^{4} e^{t w z}} - \\frac{b^{2} \\sin{\\left (b t w \\right )}}{b^{2} w z e^{t w z} + w z^{3} e^{t w z}} + \\frac{b}{w z^{2}} e^{- t w z} \\cos{\\left (b t w \\right )} + \\frac{e^{- t w z}}{w z} \\sin{\\left (b t w \\right )}\\right)$$",
            "text/plain": [
              "  ⎛            3  t⋅w⋅z                 ⎞     ⎛          3                    \n",
              "  ⎜           b ⋅ℯ                   b  ⎟     ⎜         b ⋅cos(b⋅t⋅w)         \n",
              "w⋅⎜- ──────────────────────────── + ────⎟   w⋅⎜- ──────────────────────────── \n",
              "  ⎜   2    2  t⋅w⋅z      4  t⋅w⋅z      2⎟     ⎜   2    2  t⋅w⋅z      4  t⋅w⋅z \n",
              "  ⎝  b ⋅w⋅z ⋅ℯ      + w⋅z ⋅ℯ        w⋅z ⎠     ⎝  b ⋅w⋅z ⋅ℯ      + w⋅z ⋅ℯ      \n",
              "───────────────────────────────────────── - ──────────────────────────────────\n",
              "                    b                                                         \n",
              "\n",
              "          2                        -t⋅w⋅z               -t⋅w⋅z           ⎞\n",
              "         b ⋅sin(b⋅t⋅w)          b⋅ℯ      ⋅cos(b⋅t⋅w)   ℯ      ⋅sin(b⋅t⋅w)⎟\n",
              "- ─────────────────────────── + ──────────────────── + ──────────────────⎟\n",
              "   2      t⋅w⋅z      3  t⋅w⋅z              2                  w⋅z        ⎟\n",
              "  b ⋅w⋅z⋅ℯ      + w⋅z ⋅ℯ                w⋅z                              ⎠\n",
              "──────────────────────────────────────────────────────────────────────────\n",
              "                   b                                                      "
            ]
          },
          "metadata": {
            "tags": []
          },
          "execution_count": 25
        }
      ]
    },
    {
      "cell_type": "code",
      "metadata": {
        "id": "LS8CZPlMRYr1",
        "colab_type": "code",
        "colab": {
          "base_uri": "https://localhost:8080/",
          "height": 60
        },
        "outputId": "df4c4004-8ec5-4234-c6ff-077bf9091674"
      },
      "source": [
        "# But we can give sympy some help\n",
        "y = integrate(temp3.expand(tau),(tau,0,t))\n",
        "y.simplify()\n",
        "y"
      ],
      "execution_count": 26,
      "outputs": [
        {
          "output_type": "display_data",
          "data": {
            "text/html": [
              "\n",
              "        <script src=\"https://www.gstatic.com/external_hosted/mathjax/latest/MathJax.js?config=TeX-AMS_HTML-full,Safe&delayStartupUntil=configured\"></script>\n",
              "        <script>\n",
              "          (() => {\n",
              "            const mathjax = window.MathJax;\n",
              "            mathjax.Hub.Config({\n",
              "            'tex2jax': {\n",
              "              'inlineMath': [['$', '$'], ['\\(', '\\)']],\n",
              "              'displayMath': [['$$', '$$'], ['\\[', '\\]']],\n",
              "              'processEscapes': true,\n",
              "              'processEnvironments': true,\n",
              "              'skipTags': ['script', 'noscript', 'style', 'textarea', 'code'],\n",
              "              'displayAlign': 'center',\n",
              "            },\n",
              "            'HTML-CSS': {\n",
              "              'styles': {'.MathJax_Display': {'margin': 0}},\n",
              "              'linebreaks': {'automatic': true},\n",
              "              // Disable to prevent OTF font loading, which aren't part of our\n",
              "              // distribution.\n",
              "              'imageFont': null,\n",
              "            },\n",
              "            'messageStyle': 'none'\n",
              "          });\n",
              "          mathjax.Hub.Configured();\n",
              "        })();\n",
              "        </script>\n",
              "        "
            ],
            "text/plain": [
              "<IPython.core.display.HTML object>"
            ]
          },
          "metadata": {
            "tags": []
          }
        },
        {
          "output_type": "execute_result",
          "data": {
            "text/latex": "$$\\frac{w}{b^{2} w + w z^{2}} - \\frac{w}{b} \\left(\\frac{b \\cos{\\left (b t w \\right )}}{b^{2} w + w z^{2}} + \\frac{z \\sin{\\left (b t w \\right )}}{b^{2} w + w z^{2}}\\right) e^{- t w z}$$",
            "text/plain": [
              "                ⎛b⋅cos(b⋅t⋅w)   z⋅sin(b⋅t⋅w)⎞  -t⋅w⋅z\n",
              "              w⋅⎜──────────── + ────────────⎟⋅ℯ      \n",
              "                ⎜ 2        2     2        2 ⎟        \n",
              "     w          ⎝b ⋅w + w⋅z     b ⋅w + w⋅z  ⎠        \n",
              "─────────── - ───────────────────────────────────────\n",
              " 2        2                      b                   \n",
              "b ⋅w + w⋅z                                           "
            ]
          },
          "metadata": {
            "tags": []
          },
          "execution_count": 26
        }
      ]
    },
    {
      "cell_type": "code",
      "metadata": {
        "id": "bxCSSwlfRYr6",
        "colab_type": "code",
        "colab": {
          "base_uri": "https://localhost:8080/",
          "height": 53
        },
        "outputId": "4bf02306-6a55-433d-8b4c-058cdd9103d8"
      },
      "source": [
        "# Note that b^2 + z^2 = 1\n",
        "y = y.subs(w*b**2+w*z**2,w).simplify().cancel()\n",
        "y"
      ],
      "execution_count": 27,
      "outputs": [
        {
          "output_type": "display_data",
          "data": {
            "text/html": [
              "\n",
              "        <script src=\"https://www.gstatic.com/external_hosted/mathjax/latest/MathJax.js?config=TeX-AMS_HTML-full,Safe&delayStartupUntil=configured\"></script>\n",
              "        <script>\n",
              "          (() => {\n",
              "            const mathjax = window.MathJax;\n",
              "            mathjax.Hub.Config({\n",
              "            'tex2jax': {\n",
              "              'inlineMath': [['$', '$'], ['\\(', '\\)']],\n",
              "              'displayMath': [['$$', '$$'], ['\\[', '\\]']],\n",
              "              'processEscapes': true,\n",
              "              'processEnvironments': true,\n",
              "              'skipTags': ['script', 'noscript', 'style', 'textarea', 'code'],\n",
              "              'displayAlign': 'center',\n",
              "            },\n",
              "            'HTML-CSS': {\n",
              "              'styles': {'.MathJax_Display': {'margin': 0}},\n",
              "              'linebreaks': {'automatic': true},\n",
              "              // Disable to prevent OTF font loading, which aren't part of our\n",
              "              // distribution.\n",
              "              'imageFont': null,\n",
              "            },\n",
              "            'messageStyle': 'none'\n",
              "          });\n",
              "          mathjax.Hub.Configured();\n",
              "        })();\n",
              "        </script>\n",
              "        "
            ],
            "text/plain": [
              "<IPython.core.display.HTML object>"
            ]
          },
          "metadata": {
            "tags": []
          }
        },
        {
          "output_type": "execute_result",
          "data": {
            "text/latex": "$$- \\frac{1}{b} \\left(- b e^{t w z} + b \\cos{\\left (b t w \\right )} + z \\sin{\\left (b t w \\right )}\\right) e^{- t w z}$$",
            "text/plain": [
              " ⎛     t⋅w⋅z                              ⎞  -t⋅w⋅z \n",
              "-⎝- b⋅ℯ      + b⋅cos(b⋅t⋅w) + z⋅sin(b⋅t⋅w)⎠⋅ℯ       \n",
              "────────────────────────────────────────────────────\n",
              "                         b                          "
            ]
          },
          "metadata": {
            "tags": []
          },
          "execution_count": 27
        }
      ]
    },
    {
      "cell_type": "markdown",
      "metadata": {
        "id": "8_PBQPrZRYr-",
        "colab_type": "text"
      },
      "source": [
        "Now consider a right triangle with sides $\\zeta$ and $\\beta$. Then since $\\zeta^2 + \\beta^2 = 1$, we get:\n",
        "\n",
        "$$\n",
        "\\cos \\theta = \\zeta\n",
        "$$\n",
        "\n",
        "$$\n",
        "\\sin \\theta = \\beta\n",
        "$$\n",
        "\n",
        "where\n",
        "\n",
        "$$\n",
        "\\theta = \\cos^{-1} \\zeta .\n",
        "$$\n",
        "\n",
        "We can then use the trig identity\n",
        "\n",
        "$$\n",
        "\\sin(a + \\theta) = \\sin a \\cos \\theta + \\sin \\theta \\cos a\n",
        "$$\n",
        "\n",
        "with a = $\\beta \\omega t$. \n",
        "\n",
        "The above expression thus becomes\n",
        "\n",
        "$$\n",
        "y(t) = 1 - \\frac{1}{\\beta} e^{-\\zeta \\omega t} \\sin(\\omega \\beta t + \\theta)\n",
        "$$"
      ]
    },
    {
      "cell_type": "markdown",
      "metadata": {
        "id": "UbsgU89fRYr-",
        "colab_type": "text"
      },
      "source": [
        "# What does it look like?"
      ]
    },
    {
      "cell_type": "code",
      "metadata": {
        "id": "ICSPYTRbRYsA",
        "colab_type": "code",
        "colab": {}
      },
      "source": [
        "y = 1 - (1/b) * exp(-z*w*t) * sin(w * b * t + theta)\n",
        "y = y.subs(b,sqrt(1-z**2)).subs(theta,acos(z))"
      ],
      "execution_count": 0,
      "outputs": []
    },
    {
      "cell_type": "code",
      "metadata": {
        "id": "tTavm9wwRYsE",
        "colab_type": "code",
        "colab": {
          "base_uri": "https://localhost:8080/",
          "height": 297
        },
        "outputId": "8b79e031-5d13-44d2-c7d9-2fdcbf31bcea"
      },
      "source": [
        "#\n",
        "# Fixed zeta, varying omega\n",
        "#\n",
        "tvals = np.linspace(0,10,100)\n",
        "for omega in [1,2,3,4,5]:\n",
        "    f = lambdify(t,y.subs(z,0.5).subs(w,omega),'numpy')\n",
        "    plt.plot(tvals,f(tvals),label=\"$\\omega$ = %d\" % omega)\n",
        "plt.xlabel(\"t\")\n",
        "plt.ylabel(\"Step response\")\n",
        "plt.title(\"Step response, varying $\\omega$\")\n",
        "plt.legend();"
      ],
      "execution_count": 29,
      "outputs": [
        {
          "output_type": "display_data",
          "data": {
            "image/png": "[encoded data removed]",
            "text/plain": [
              "<Figure size 432x288 with 1 Axes>"
            ]
          },
          "metadata": {
            "tags": []
          }
        }
      ]
    },
    {
      "cell_type": "code",
      "metadata": {
        "id": "YuNEvP_eRYsI",
        "colab_type": "code",
        "colab": {
          "base_uri": "https://localhost:8080/",
          "height": 297
        },
        "outputId": "73393582-f4d2-47c8-fb71-d4f7ad52e04f"
      },
      "source": [
        "#\n",
        "# Fixed omega, varying zeta\n",
        "#\n",
        "tvals = np.linspace(0,10,100)\n",
        "for zeta in [0.1,0.4,0.6,0.9]:\n",
        "    f = lambdify(t,y.subs(z,zeta).subs(w,3),'numpy')\n",
        "    plt.plot(tvals,f(tvals),label=\"$\\zeta$ = %.2f\" % zeta)\n",
        "plt.xlabel(\"t\")\n",
        "plt.ylabel(\"Step response\")\n",
        "plt.title(\"Step response, varying $\\zeta$\")\n",
        "plt.legend();"
      ],
      "execution_count": 30,
      "outputs": [
        {
          "output_type": "display_data",
          "data": {
            "image/png": "[encoded data removed]",
            "text/plain": [
              "<Figure size 432x288 with 1 Axes>"
            ]
          },
          "metadata": {
            "tags": []
          }
        }
      ]
    },
    {
      "cell_type": "markdown",
      "metadata": {
        "id": "mBrDhyGeRYsO",
        "colab_type": "text"
      },
      "source": [
        "# The Impulse Response"
      ]
    },
    {
      "cell_type": "markdown",
      "metadata": {
        "id": "_Jro9AJHRYsS",
        "colab_type": "text"
      },
      "source": [
        "The impulse response can easily be obtained from the step response using the fact that \n",
        "\n",
        "$$\n",
        "\\mathcal{L}[y(t)] = Y(s) = \\frac{1}{s}T(s)\n",
        "$$\n",
        "\n",
        "so that\n",
        "\n",
        "$$\n",
        "\\mathcal{L}[\\dot y(t)] = s Y(s) = 1 T(s) = T(s)\n",
        "$$\n",
        "\n",
        "So the Laplace transform of the impulse response is just the derivative of\n",
        "\n",
        "$$\n",
        "y = \\int_0^t C P e^{D(t-\\tau)}P^{-1}B d \\tau\n",
        "$$\n",
        "\n",
        "which is\n",
        "\n",
        "$$\n",
        "\\dot y = C P e^{Dt}P^{-1}B\n",
        "$$\n",
        "\n",
        "which we already found to be \n",
        "\n",
        "$$\n",
        "\\dot y = \\frac{\\omega}{\\beta} e^{-\\zeta \\omega t} \\sin(\\omega \\beta t)\n",
        "$$"
      ]
    },
    {
      "cell_type": "code",
      "metadata": {
        "id": "SygBwgGURYsT",
        "colab_type": "code",
        "colab": {}
      },
      "source": [
        "ydot = (w/b)*exp(-z*w*t)*sin(w*b*t)\n",
        "ydot = ydot.subs(b,sqrt(1-z**2))"
      ],
      "execution_count": 0,
      "outputs": []
    },
    {
      "cell_type": "code",
      "metadata": {
        "id": "1E0e9xn5RYsX",
        "colab_type": "code",
        "colab": {
          "base_uri": "https://localhost:8080/",
          "height": 297
        },
        "outputId": "37ee3af3-ba59-4585-edb1-baa8ed353f7e"
      },
      "source": [
        "#\n",
        "# Fixed zeta, varying \n",
        "#\n",
        "tvals = np.linspace(0,10,300)\n",
        "for omega in [1,2,3,4,5]:\n",
        "    fdot = lambdify(t,ydot.subs(z,0.5).subs(w,omega),'numpy')\n",
        "    plt.plot(tvals,fdot(tvals),label=\"$\\omega$ = %d\" % omega)\n",
        "plt.xlabel(\"t\")\n",
        "plt.ylabel(\"Impulse response\")\n",
        "plt.title(\"Impulse response, varying $\\zeta$\")\n",
        "plt.legend();"
      ],
      "execution_count": 32,
      "outputs": [
        {
          "output_type": "display_data",
          "data": {
            "image/png": "[encoded data removed]",
            "text/plain": [
              "<Figure size 432x288 with 1 Axes>"
            ]
          },
          "metadata": {
            "tags": []
          }
        }
      ]
    },
    {
      "cell_type": "code",
      "metadata": {
        "id": "PvrNtzDKRYsb",
        "colab_type": "code",
        "colab": {
          "base_uri": "https://localhost:8080/",
          "height": 297
        },
        "outputId": "dd505aa5-840f-4c45-d031-052ea1ac26f6"
      },
      "source": [
        "#\n",
        "# Fixed w, z \n",
        "#\n",
        "tvals = np.linspace(0,10,100)\n",
        "for zeta in [0.1,0.4,0.9,0.99]:\n",
        "    fdot = lambdify(t,ydot.subs(z,zeta).subs(w,3),'numpy')\n",
        "    plt.plot(tvals,fdot(tvals),label=\"$\\zeta$ = %.2f\" % zeta)\n",
        "plt.xlabel(\"t\")\n",
        "plt.ylabel(\"Impulse response\")\n",
        "plt.title(\"Impulse response, varying $\\zeta$\")\n",
        "plt.legend();"
      ],
      "execution_count": 33,
      "outputs": [
        {
          "output_type": "display_data",
          "data": {
            "image/png": "[encoded data removed]",
            "text/plain": [
              "<Figure size 432x288 with 1 Axes>"
            ]
          },
          "metadata": {
            "tags": []
          }
        }
      ]
    },
    {
      "cell_type": "code",
      "metadata": {
        "id": "igw0aazpRYsg",
        "colab_type": "code",
        "colab": {}
      },
      "source": [
        ""
      ],
      "execution_count": 0,
      "outputs": []
    }
  ]
}