{
 "cells": [
  {
   "cell_type": "markdown",
   "metadata": {},
   "source": [
    "ECE 447: Second Order Systems\n",
    "===\n",
    "\n",
    "Prof. Eric Klavins\n",
    "\n",
    "&copy; 2019, University of Washington"
   ]
  },
  {
   "cell_type": "markdown",
   "metadata": {
    "heading_collapsed": true
   },
   "source": [
    "# Code"
   ]
  },
  {
   "cell_type": "code",
   "execution_count": 64,
   "metadata": {
    "collapsed": true,
    "hidden": true
   },
   "outputs": [],
   "source": [
    "import numpy as np\n",
    "import scipy.integrate as spi\n",
    "import matplotlib.pyplot as plt\n",
    "from sympy import *\n",
    "\n",
    "%matplotlib inline\n",
    "\n",
    "# Comment out in Google colab \n",
    "init_printing(use_latex='mathjax')\n",
    "\n",
    "# Uncomment in below Google colab to render sympy equations nicely\n",
    "# def custom_latex_printer(exp,**options):\n",
    "#     from google.colab.output._publish import javascript\n",
    "#     url = \"https://cdnjs.cloudflare.com/ajax/libs/mathjax/2.7.3/latest.js?config=default\"\n",
    "#     javascript(url=url)\n",
    "#     return printing.latex(exp,**options)\n",
    "# init_printing(use_latex=\"mathjax\",latex_printer=custom_latex_printer)\n",
    "\n",
    "def center(plt):\n",
    "    plt.gca().spines['left'].set_position('center')\n",
    "    plt.gca().spines['bottom'].set_position('center')\n",
    "    plt.gca().spines['right'].set_color('none')\n",
    "    plt.gca().spines['top'].set_color('none')\n",
    "    plt.gca().set_aspect('equal') \n",
    "    \n",
    "def poles(plt,poles):\n",
    "    center(plt)\n",
    "    for p in poles:\n",
    "        plt.plot([p[0]-0.1,p[0]+0.1],[p[1]-0.1,p[1]+0.1],'black')\n",
    "        plt.plot([p[0]-0.1,p[0]+0.1],[p[1]+0.1,p[1]-0.1],'black')   \n",
    "        plt.xlabel(\"Im\", labelpad=100)\n",
    "        plt.ylabel(\"Re\", labelpad=140)        "
   ]
  },
  {
   "cell_type": "markdown",
   "metadata": {
    "heading_collapsed": true
   },
   "source": [
    "# Goal"
   ]
  },
  {
   "cell_type": "markdown",
   "metadata": {
    "hidden": true
   },
   "source": [
    "Here, our goal is to find the exact solution of a typical second order system with two poles and no zeros. With the exact solution, we will be able to look precisely at metrics like rise time, overshoot, and settling time. Although not every system is a second order system with one zero, we will (later) see that by placing the two dominant poles of a system carefully, that we can make even higher order systems behave approximately like the system we will study here."
   ]
  },
  {
   "cell_type": "markdown",
   "metadata": {
    "heading_collapsed": true
   },
   "source": [
    "# The Archetypal System"
   ]
  },
  {
   "cell_type": "markdown",
   "metadata": {
    "hidden": true
   },
   "source": [
    "Consider the system\n",
    "\n",
    "$$\n",
    "T(s) = \\frac{\\omega^2}{s^2 + 2 \\zeta \\omega + \\omega^2}\n",
    "$$\n",
    "\n",
    "where $\\zeta \\geq 0$ and $\\omega \\geq 0$ are constants that depend on whatever physical parameters of the system are present. This is the general form a system with two poles and no zeros.\n",
    "\n",
    "The poles are the roots of the denominator of $T(s)$ and are found using the quadratic formula:\n",
    "\n",
    "$$\n",
    "\\frac{-2 \\zeta \\omega \\pm \\sqrt{4 \\zeta^2 \\omega^2 - 4 \\omega^2}}{2}\n",
    "$$\n",
    "\n",
    "which simplifies to \n",
    "\n",
    "\\begin{align}\n",
    " & \\; -\\omega\\zeta \\pm \\omega \\sqrt{\\zeta^2 - 1} \\\\\n",
    " & = - \\omega\\zeta \\pm \\omega \\beta\n",
    "\\end{align}\n",
    "\n",
    "where $\\beta = \\sqrt{\\zeta^2 - 1}$.\n",
    "\n",
    "In the s-plane this looks like:"
   ]
  },
  {
   "cell_type": "code",
   "execution_count": 70,
   "metadata": {
    "hidden": true
   },
   "outputs": [
    {
     "data": {
      "image/png": "[encoded data removed]",
      "text/plain": [
       "<matplotlib.figure.Figure at 0x1221ee7b8>"
      ]
     },
     "metadata": {},
     "output_type": "display_data"
    }
   ],
   "source": [
    "plt.xlim(-3,3)\n",
    "plt.ylim(-2,2)\n",
    "plt.plot([-2,0],[1,0],'blue')\n",
    "plt.plot([-2,0],[-1,0],'blue')\n",
    "poles(plt,[[-2,1],[-2,-1]])\n",
    "x1 = plt.Text(0.1,0.95, \"$\\omega\\;\\\\beta\\;i$\")\n",
    "x2 = plt.Text(-2.15,0.1, \"$\\omega\\;\\\\zeta$\")\n",
    "plt.gca().add_artist(x1)\n",
    "plt.gca().add_artist(x2);"
   ]
  },
  {
   "cell_type": "markdown",
   "metadata": {
    "hidden": true
   },
   "source": [
    "The parameter $\\zeta$ is called the **damping ratio**:\n",
    "\n",
    "- $\\zeta = 0 \\; \\Rightarrow$ pure oscillations\n",
    "- $\\zeta = 1 \\; \\Rightarrow$ critically damped\n",
    "\n",
    "The parameter $\\omega$ is called the **natural frequency**."
   ]
  },
  {
   "cell_type": "markdown",
   "metadata": {
    "heading_collapsed": true
   },
   "source": [
    "# The Step Response"
   ]
  },
  {
   "cell_type": "markdown",
   "metadata": {
    "hidden": true
   },
   "source": [
    "To learn more about the behavior of the archetypal system, we'll find its step response."
   ]
  },
  {
   "cell_type": "code",
   "execution_count": 269,
   "metadata": {
    "collapsed": true,
    "hidden": true
   },
   "outputs": [],
   "source": [
    "# Declare variables\n",
    "var(\"s\")\n",
    "var(\"w z t b tau theta\", real=True, positive=True)\n",
    "T = (w**2)/(s**2 + 2*z*w*s + w**2)"
   ]
  },
  {
   "cell_type": "code",
   "execution_count": 110,
   "metadata": {
    "hidden": true
   },
   "outputs": [
    {
     "data": {
      "text/latex": [
       "$$\\frac{w}{2 \\sqrt{z^{2} - 1} e^{t w z}} \\left(i e^{t w \\sqrt{z + 1} \\cos{\\left (\\frac{1}{2} \\operatorname{atan_{2}}{\\left (0,z - 1 \\right )} \\right )} \\sqrt{\\left|{z - 1}\\right|}} \\sin{\\left (t w \\sqrt{z + 1} \\sin{\\left (\\frac{1}{2} \\operatorname{atan_{2}}{\\left (0,z - 1 \\right )} \\right )} \\sqrt{\\left|{z - 1}\\right|} \\right )} + e^{t w \\sqrt{z + 1} \\cos{\\left (\\frac{1}{2} \\operatorname{atan_{2}}{\\left (0,z - 1 \\right )} \\right )} \\sqrt{\\left|{z - 1}\\right|}} \\cos{\\left (t w \\sqrt{z + 1} \\sin{\\left (\\frac{1}{2} \\operatorname{atan_{2}}{\\left (0,z - 1 \\right )} \\right )} \\sqrt{\\left|{z - 1}\\right|} \\right )} + i e^{- t w \\sqrt{z + 1} \\cos{\\left (\\frac{1}{2} \\operatorname{atan_{2}}{\\left (0,z - 1 \\right )} \\right )} \\sqrt{\\left|{z - 1}\\right|}} \\sin{\\left (t w \\sqrt{z + 1} \\sin{\\left (\\frac{1}{2} \\operatorname{atan_{2}}{\\left (0,z - 1 \\right )} \\right )} \\sqrt{\\left|{z - 1}\\right|} \\right )} - e^{- t w \\sqrt{z + 1} \\cos{\\left (\\frac{1}{2} \\operatorname{atan_{2}}{\\left (0,z - 1 \\right )} \\right )} \\sqrt{\\left|{z - 1}\\right|}} \\cos{\\left (t w \\sqrt{z + 1} \\sin{\\left (\\frac{1}{2} \\operatorname{atan_{2}}{\\left (0,z - 1 \\right )} \\right )} \\sqrt{\\left|{z - 1}\\right|} \\right )}\\right)$$"
      ],
      "text/plain": [
       "  ⎛         _______    ⎛atan2(0, z - 1)⎞   _________                          \n",
       "  ⎜   t⋅w⋅╲╱ z + 1 ⋅cos⎜───────────────⎟⋅╲╱ │z - 1│                           \n",
       "  ⎜                    ⎝       2       ⎠                ⎛      _______    ⎛ata\n",
       "w⋅⎜ⅈ⋅ℯ                                              ⋅sin⎜t⋅w⋅╲╱ z + 1 ⋅sin⎜───\n",
       "  ⎝                                                     ⎝                 ⎝   \n",
       "──────────────────────────────────────────────────────────────────────────────\n",
       "                                                                              \n",
       "                                                                              \n",
       "                                                                              \n",
       "\n",
       "                                    _______    ⎛atan2(0, z - 1)⎞   _________  \n",
       "                              t⋅w⋅╲╱ z + 1 ⋅cos⎜───────────────⎟⋅╲╱ │z - 1│   \n",
       "n2(0, z - 1)⎞   _________⎞                     ⎝       2       ⎠              \n",
       "────────────⎟⋅╲╱ │z - 1│ ⎟ + ℯ                                              ⋅c\n",
       "    2       ⎠            ⎠                                                    \n",
       "──────────────────────────────────────────────────────────────────────────────\n",
       "                                                                              \n",
       "                                                                              \n",
       "                                                                              \n",
       "\n",
       "                                                               _______    ⎛ata\n",
       "                                                        -t⋅w⋅╲╱ z + 1 ⋅cos⎜───\n",
       "  ⎛      _______    ⎛atan2(0, z - 1)⎞   _________⎞                        ⎝   \n",
       "os⎜t⋅w⋅╲╱ z + 1 ⋅sin⎜───────────────⎟⋅╲╱ │z - 1│ ⎟ + ⅈ⋅ℯ                      \n",
       "  ⎝                 ⎝       2       ⎠            ⎠                            \n",
       "──────────────────────────────────────────────────────────────────────────────\n",
       "                                                      ________                \n",
       "                                                     ╱  2                     \n",
       "                                                 2⋅╲╱  z  - 1                 \n",
       "\n",
       "n2(0, z - 1)⎞   _________                                                     \n",
       "────────────⎟⋅╲╱ │z - 1│                                                      \n",
       "    2       ⎠                ⎛      _______    ⎛atan2(0, z - 1)⎞   _________⎞ \n",
       "                         ⋅sin⎜t⋅w⋅╲╱ z + 1 ⋅sin⎜───────────────⎟⋅╲╱ │z - 1│ ⎟ \n",
       "                             ⎝                 ⎝       2       ⎠            ⎠ \n",
       "──────────────────────────────────────────────────────────────────────────────\n",
       "                                                                              \n",
       "                                                                              \n",
       "                                                                              \n",
       "\n",
       "          _______    ⎛atan2(0, z - 1)⎞   _________                            \n",
       "   -t⋅w⋅╲╱ z + 1 ⋅cos⎜───────────────⎟⋅╲╱ │z - 1│                             \n",
       "                     ⎝       2       ⎠                ⎛      _______    ⎛atan2\n",
       "- ℯ                                               ⋅cos⎜t⋅w⋅╲╱ z + 1 ⋅sin⎜─────\n",
       "                                                      ⎝                 ⎝     \n",
       "──────────────────────────────────────────────────────────────────────────────\n",
       "                                                                              \n",
       "                                                                              \n",
       "                                                                              \n",
       "\n",
       "                        ⎞        \n",
       "                        ⎟        \n",
       "(0, z - 1)⎞   _________⎞⎟  -t⋅w⋅z\n",
       "──────────⎟⋅╲╱ │z - 1│ ⎟⎟⋅ℯ      \n",
       "  2       ⎠            ⎠⎠        \n",
       "─────────────────────────────────\n",
       "                                 \n",
       "                                 \n",
       "                                 "
      ]
     },
     "execution_count": 110,
     "metadata": {},
     "output_type": "execute_result"
    }
   ],
   "source": [
    "# Unfortunately, sympy gives us a fairly unintutitive expression\n",
    "inverse_laplace_transform(T,s,t)"
   ]
  },
  {
   "cell_type": "code",
   "execution_count": 111,
   "metadata": {
    "collapsed": true,
    "hidden": true
   },
   "outputs": [],
   "source": [
    "# Can represent the system in state space though\n",
    "A = Matrix([\n",
    "    [-w*z, -w*b],\n",
    "    [w*b,-w*z]\n",
    "])\n",
    "B=Matrix([\n",
    "    [w],\n",
    "    [0]\n",
    "])\n",
    "C = Matrix([[0,1/b]])"
   ]
  },
  {
   "cell_type": "code",
   "execution_count": 112,
   "metadata": {
    "hidden": true
   },
   "outputs": [
    {
     "data": {
      "text/latex": [
       "$$\\left[\\begin{matrix}\\frac{w^{2}}{\\left(s + w z\\right) \\left(\\frac{b^{2} w^{2}}{s + w z} + s + w z\\right)}\\end{matrix}\\right]$$"
      ],
      "text/plain": [
       "⎡               2             ⎤\n",
       "⎢              w              ⎥\n",
       "⎢─────────────────────────────⎥\n",
       "⎢          ⎛  2  2           ⎞⎥\n",
       "⎢          ⎜ b ⋅w            ⎟⎥\n",
       "⎢(s + w⋅z)⋅⎜─────── + s + w⋅z⎟⎥\n",
       "⎣          ⎝s + w⋅z          ⎠⎦"
      ]
     },
     "execution_count": 112,
     "metadata": {},
     "output_type": "execute_result"
    }
   ],
   "source": [
    "# Let's check that this gives us the same transfer function back\n",
    "Tcheck = C*(s*eye(2)-A).inv()*B\n",
    "Tcheck"
   ]
  },
  {
   "cell_type": "code",
   "execution_count": 113,
   "metadata": {
    "hidden": true
   },
   "outputs": [
    {
     "data": {
      "text/latex": [
       "$$\\left[\\begin{matrix}\\frac{w^{2}}{s^{2} + 2 s w z + w^{2}}\\end{matrix}\\right]$$"
      ],
      "text/plain": [
       "⎡         2       ⎤\n",
       "⎢        w        ⎥\n",
       "⎢─────────────────⎥\n",
       "⎢ 2              2⎥\n",
       "⎣s  + 2⋅s⋅w⋅z + w ⎦"
      ]
     },
     "execution_count": 113,
     "metadata": {},
     "output_type": "execute_result"
    }
   ],
   "source": [
    "# The above looks close, but we need to put in the definition of beta\n",
    "Tcheck = Tcheck.subs(b,sqrt(1-z**2))\n",
    "Tcheck.simplify()\n",
    "Tcheck"
   ]
  },
  {
   "cell_type": "code",
   "execution_count": null,
   "metadata": {
    "hidden": true
   },
   "outputs": [],
   "source": [
    "# Now let's find the response. First note that although\n",
    "#\n",
    "#   y = y_natural    + y_forced\n",
    "#     = C * eAt * x0 + y_forced\n",
    "#\n",
    "# we are assuming that x0 = [0,0]^T, so y_natural = 0 so \n",
    "#\n",
    "#   y = y_forced\n",
    "#\n",
    "# Unfortunately, sympy thrashes on the following integration problem:\n",
    "# \n",
    "integrate(C*exp(A*(t-tau))*B*1,(tau,0,t))"
   ]
  },
  {
   "cell_type": "code",
   "execution_count": 149,
   "metadata": {
    "hidden": true
   },
   "outputs": [
    {
     "data": {
      "text/latex": [
       "$$\\left ( \\left[\\begin{matrix}- i & i\\\\1 & 1\\end{matrix}\\right], \\quad \\left[\\begin{matrix}- i b w - w z & 0\\\\0 & i b w - w z\\end{matrix}\\right]\\right )$$"
      ],
      "text/plain": [
       "⎛⎡-ⅈ  ⅈ⎤, ⎡-ⅈ⋅b⋅w - w⋅z       0     ⎤⎞\n",
       "⎜⎢     ⎥  ⎢                         ⎥⎟\n",
       "⎝⎣1   1⎦  ⎣     0        ⅈ⋅b⋅w - w⋅z⎦⎠"
      ]
     },
     "execution_count": 149,
     "metadata": {},
     "output_type": "execute_result"
    }
   ],
   "source": [
    "# But we can break it down\n",
    "P, D = A.diagonalize()\n",
    "P,D"
   ]
  },
  {
   "cell_type": "markdown",
   "metadata": {
    "hidden": true
   },
   "source": [
    "Now we use the fact that\n",
    "\n",
    "$$\n",
    "y = \\int_0^t C P e^{D(t-\\tau)}P^{-1}B d \\tau\n",
    "$$\n",
    "\n",
    "with $CP$ and $P^{-1}B$ just constants."
   ]
  },
  {
   "cell_type": "code",
   "execution_count": 203,
   "metadata": {
    "hidden": true
   },
   "outputs": [
    {
     "data": {
      "text/latex": [
       "$$\\frac{i w}{2 b} \\left(e^{t w \\left(- i b - z\\right)} - e^{t w \\left(i b - z\\right)}\\right)$$"
      ],
      "text/plain": [
       "    ⎛ t⋅w⋅(-ⅈ⋅b - z)    t⋅w⋅(ⅈ⋅b - z)⎞\n",
       "ⅈ⋅w⋅⎝ℯ               - ℯ             ⎠\n",
       "──────────────────────────────────────\n",
       "                 2⋅b                  "
      ]
     },
     "execution_count": 203,
     "metadata": {},
     "output_type": "execute_result"
    }
   ],
   "source": [
    "# Using the above gives use a pretty simple expression for the integrand\n",
    "temp1 = C*P*exp(D*t)*P.inv()*B\n",
    "temp1 = temp1[0,0].simplify()\n",
    "temp1"
   ]
  },
  {
   "cell_type": "code",
   "execution_count": 204,
   "metadata": {
    "hidden": true
   },
   "outputs": [
    {
     "data": {
      "text/latex": [
       "$$\\frac{w \\sin{\\left (b t w \\right )}}{b e^{t w z}}$$"
      ],
      "text/plain": [
       "   -t⋅w⋅z           \n",
       "w⋅ℯ      ⋅sin(b⋅t⋅w)\n",
       "────────────────────\n",
       "         b          "
      ]
     },
     "execution_count": 204,
     "metadata": {},
     "output_type": "execute_result"
    }
   ],
   "source": [
    "# It can be rewritten in terms of sin\n",
    "temp2 = temp1.rewrite(sin).simplify()\n",
    "temp2"
   ]
  },
  {
   "cell_type": "code",
   "execution_count": 222,
   "metadata": {
    "hidden": true
   },
   "outputs": [
    {
     "data": {
      "text/latex": [
       "$$\\frac{w}{b e^{t w z}} \\int_{0}^{t} e^{\\tau w z} \\sin{\\left (b t w - b \\tau w \\right )}\\, d\\tau$$"
      ],
      "text/plain": [
       "          t                             \n",
       "          ⌠                             \n",
       "   -t⋅w⋅z ⎮  τ⋅w⋅z                      \n",
       "w⋅ℯ      ⋅⎮ ℯ     ⋅sin(b⋅t⋅w - b⋅τ⋅w) dτ\n",
       "          ⌡                             \n",
       "          0                             \n",
       "────────────────────────────────────────\n",
       "                   b                    "
      ]
     },
     "execution_count": 222,
     "metadata": {},
     "output_type": "execute_result"
    }
   ],
   "source": [
    "# We can then try to integrate it, but it doesn't seem to work\n",
    "temp3 = temp2.subs(t,t-tau)\n",
    "integrate(temp3,(tau,0,t))"
   ]
  },
  {
   "cell_type": "code",
   "execution_count": 227,
   "metadata": {
    "hidden": true
   },
   "outputs": [
    {
     "data": {
      "text/latex": [
       "$$\\frac{w}{b^{2} w + w z^{2}} - \\frac{w}{b e^{t w z}} \\left(\\frac{b \\cos{\\left (b t w \\right )}}{b^{2} w + w z^{2}} + \\frac{z \\sin{\\left (b t w \\right )}}{b^{2} w + w z^{2}}\\right)$$"
      ],
      "text/plain": [
       "                ⎛b⋅cos(b⋅t⋅w)   z⋅sin(b⋅t⋅w)⎞  -t⋅w⋅z\n",
       "              w⋅⎜──────────── + ────────────⎟⋅ℯ      \n",
       "                ⎜ 2        2     2        2 ⎟        \n",
       "     w          ⎝b ⋅w + w⋅z     b ⋅w + w⋅z  ⎠        \n",
       "─────────── - ───────────────────────────────────────\n",
       " 2        2                      b                   \n",
       "b ⋅w + w⋅z                                           "
      ]
     },
     "execution_count": 227,
     "metadata": {},
     "output_type": "execute_result"
    }
   ],
   "source": [
    "# But we can give sympy some help\n",
    "y = integrate(temp3.expand(tau),(tau,0,t))\n",
    "y.simplify()\n",
    "y"
   ]
  },
  {
   "cell_type": "code",
   "execution_count": 259,
   "metadata": {
    "hidden": true
   },
   "outputs": [
    {
     "data": {
      "text/latex": [
       "$$- \\frac{1}{b e^{t w z}} \\left(- b e^{t w z} + b \\cos{\\left (b t w \\right )} + z \\sin{\\left (b t w \\right )}\\right)$$"
      ],
      "text/plain": [
       " ⎛     t⋅w⋅z                              ⎞  -t⋅w⋅z \n",
       "-⎝- b⋅ℯ      + b⋅cos(b⋅t⋅w) + z⋅sin(b⋅t⋅w)⎠⋅ℯ       \n",
       "────────────────────────────────────────────────────\n",
       "                         b                          "
      ]
     },
     "execution_count": 259,
     "metadata": {},
     "output_type": "execute_result"
    }
   ],
   "source": [
    "# Note that b^2 + z^2 = 1-z^2 + z^2 = 1\n",
    "y = y.subs(w*b**2+w*z**2,w).simplify().cancel()\n",
    "y"
   ]
  },
  {
   "cell_type": "markdown",
   "metadata": {
    "hidden": true
   },
   "source": [
    "Now consider a right triangle with sides $\\zeta$ and $\\beta$. Then since $\\zeta^2 + \\beta^2 = 1$, we get:\n",
    "\n",
    "$$\n",
    "\\cos \\theta = \\zeta\n",
    "$$\n",
    "\n",
    "$$\n",
    "\\sin \\theta = \\beta\n",
    "$$\n",
    "\n",
    "where\n",
    "\n",
    "$$\n",
    "\\theta = \\cos^{-1} \\zeta .\n",
    "$$\n",
    "\n",
    "We can then use the trig identity\n",
    "\n",
    "$$\n",
    "\\sin(a + \\theta) = \\sin a \\cos \\theta + \\sin \\theta \\cos a\n",
    "$$\n",
    "\n",
    "with a = $\\beta \\omega t$. \n",
    "\n",
    "The above expression thus becomes\n",
    "\n",
    "$$\n",
    "y(t) = 1 - \\frac{1}{\\beta} e^{-\\zeta \\omega t} \\sin(\\omega \\beta t + \\theta)\n",
    "$$"
   ]
  },
  {
   "cell_type": "markdown",
   "metadata": {
    "heading_collapsed": true
   },
   "source": [
    "# What does it look like?"
   ]
  },
  {
   "cell_type": "code",
   "execution_count": 308,
   "metadata": {
    "hidden": true
   },
   "outputs": [],
   "source": [
    "y = 1 - (1/b) * exp(-z*w*t) * sin(w * b * t + theta)\n",
    "y = y.subs(b,sqrt(1-z**2)).subs(theta,acos(z))"
   ]
  },
  {
   "cell_type": "code",
   "execution_count": 341,
   "metadata": {
    "hidden": true
   },
   "outputs": [
    {
     "data": {
      "image/png": "[encoded data removed]",
      "text/plain": [
       "<matplotlib.figure.Figure at 0x1249641d0>"
      ]
     },
     "metadata": {},
     "output_type": "display_data"
    }
   ],
   "source": [
    "#\n",
    "# Fixed zeta, varying omega\n",
    "#\n",
    "tvals = np.linspace(0,10,100)\n",
    "for omega in [1,2,3,4,5]:\n",
    "    f = lambdify(t,y.subs(z,0.5).subs(w,omega),'numpy')\n",
    "    plt.plot(tvals,f(tvals),label=\"$\\omega$ = %d\" % omega)\n",
    "plt.xlabel(\"t\")\n",
    "plt.ylabel(\"Step response\")\n",
    "plt.title(\"Step response, varying $\\omega$\")\n",
    "plt.legend();"
   ]
  },
  {
   "cell_type": "code",
   "execution_count": 340,
   "metadata": {
    "hidden": true
   },
   "outputs": [
    {
     "data": {
      "image/png": "[encoded data removed]",
      "text/plain": [
       "<matplotlib.figure.Figure at 0x124711748>"
      ]
     },
     "metadata": {},
     "output_type": "display_data"
    }
   ],
   "source": [
    "#\n",
    "# Fixed omega, varying zeta\n",
    "#\n",
    "tvals = np.linspace(0,10,100)\n",
    "for zeta in [0.1,0.4,0.6,0.9]:\n",
    "    f = lambdify(t,y.subs(z,zeta).subs(w,3),'numpy')\n",
    "    plt.plot(tvals,f(tvals),label=\"$\\zeta$ = %.2f\" % zeta)\n",
    "plt.xlabel(\"t\")\n",
    "plt.ylabel(\"Step response\")\n",
    "plt.title(\"Step response, varying $\\zeta$\")\n",
    "plt.legend();"
   ]
  },
  {
   "cell_type": "markdown",
   "metadata": {
    "heading_collapsed": true
   },
   "source": [
    "# The Impulse Response"
   ]
  },
  {
   "cell_type": "markdown",
   "metadata": {
    "hidden": true
   },
   "source": [
    "The impulse response can easily be obtained from the step response using the fact that \n",
    "\n",
    "$$\n",
    "\\mathcal{L}[y(t)] = Y(s) = \\frac{1}{s}T(s)\n",
    "$$\n",
    "\n",
    "so that\n",
    "\n",
    "$$\n",
    "\\mathcal{L}[\\dot y(t)] = s Y(s) = 1 T(s) = T(s)\n",
    "$$\n",
    "\n",
    "So the Laplace transform of the impulse response is just the derivative of\n",
    "\n",
    "$$\n",
    "y = \\int_0^t C P e^{D(t-\\tau)}P^{-1}B d \\tau\n",
    "$$\n",
    "\n",
    "which is\n",
    "\n",
    "$$\n",
    "\\dot y = C P e^{Dt}P^{-1}B\n",
    "$$\n",
    "\n",
    "which we already found to be \n",
    "\n",
    "$$\n",
    "\\dot y = \\frac{\\omega}{\\beta} e^{-\\zeta \\omega t} \\sin(\\omega \\beta t)\n",
    "$$"
   ]
  },
  {
   "cell_type": "code",
   "execution_count": 332,
   "metadata": {
    "hidden": true
   },
   "outputs": [],
   "source": [
    "ydot = (w/b)*exp(-z*w*t)*sin(w*b*t)\n",
    "ydot = ydot.subs(b,sqrt(1-z**2))"
   ]
  },
  {
   "cell_type": "code",
   "execution_count": 339,
   "metadata": {
    "hidden": true
   },
   "outputs": [
    {
     "data": {
      "image/png": "[encoded data removed]",
      "text/plain": [
       "<matplotlib.figure.Figure at 0x124842d68>"
      ]
     },
     "metadata": {},
     "output_type": "display_data"
    }
   ],
   "source": [
    "#\n",
    "# Fixed zeta, varying \n",
    "#\n",
    "tvals = np.linspace(0,10,300)\n",
    "for omega in [1,2,3,4,5]:\n",
    "    fdot = lambdify(t,ydot.subs(z,0.5).subs(w,omega),'numpy')\n",
    "    plt.plot(tvals,fdot(tvals),label=\"$\\omega$ = %d\" % omega)\n",
    "plt.xlabel(\"t\")\n",
    "plt.ylabel(\"Impulse response\")\n",
    "plt.title(\"Impulse response, varying $\\zeta$\")\n",
    "plt.legend();"
   ]
  },
  {
   "cell_type": "code",
   "execution_count": 338,
   "metadata": {
    "hidden": true
   },
   "outputs": [
    {
     "data": {
      "image/png": "[encoded data removed]",
      "text/plain": [
       "<matplotlib.figure.Figure at 0x123a18ba8>"
      ]
     },
     "metadata": {},
     "output_type": "display_data"
    }
   ],
   "source": [
    "#\n",
    "# Fixed w, z \n",
    "#\n",
    "tvals = np.linspace(0,10,100)\n",
    "for zeta in [0.1,0.4,0.9,0.99]:\n",
    "    fdot = lambdify(t,ydot.subs(z,zeta).subs(w,3),'numpy')\n",
    "    plt.plot(tvals,fdot(tvals),label=\"$\\zeta$ = %.2f\" % zeta)\n",
    "plt.xlabel(\"t\")\n",
    "plt.ylabel(\"Impulse response\")\n",
    "plt.title(\"Impulse response, varying $\\zeta$\")\n",
    "plt.legend();"
   ]
  },
  {
   "cell_type": "code",
   "execution_count": null,
   "metadata": {
    "collapsed": true,
    "hidden": true
   },
   "outputs": [],
   "source": []
  }
 ],
 "metadata": {
  "kernelspec": {
   "display_name": "Python 3",
   "language": "python",
   "name": "python3"
  },
  "language_info": {
   "codemirror_mode": {
    "name": "ipython",
    "version": 3
   },
   "file_extension": ".py",
   "mimetype": "text/x-python",
   "name": "python",
   "nbconvert_exporter": "python",
   "pygments_lexer": "ipython3",
   "version": "3.6.1"
  }
 },
 "nbformat": 4,
 "nbformat_minor": 2
}
