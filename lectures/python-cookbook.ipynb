{
 "cells": [
  {
   "cell_type": "markdown",
   "metadata": {},
   "source": [
    "# Import standard libraries"
   ]
  },
  {
   "cell_type": "code",
   "execution_count": 2,
   "metadata": {
    "collapsed": true
   },
   "outputs": [],
   "source": [
    "import numpy as np\n",
    "import scipy.integrate as spi\n",
    "import matplotlib.pyplot as plt\n",
    "from sympy import *\n",
    "\n",
    "# Make sure matplotlib shows plots inline\n",
    "%matplotlib inline"
   ]
  },
  {
   "cell_type": "markdown",
   "metadata": {},
   "source": [
    "# Import Control Systems"
   ]
  },
  {
   "cell_type": "code",
   "execution_count": 27,
   "metadata": {
    "collapsed": true
   },
   "outputs": [],
   "source": [
    "# The control systems toolbox is documented here\n",
    "#\n",
    "#    https://python-control.readthedocs.io/en/0.8.2/\n",
    "#\n",
    "# It is not installed on colab, so you need to install it using:\n",
    "#\n",
    "#    !pip install control\n",
    "#\n",
    "# If you are running Jupyter on your own laptop, then you should\n",
    "# install the library at the command line. There are different\n",
    "# ways to do it based on whether you use pip or anaconda. See the above\n",
    "# link.\n",
    "\n",
    "from control import * "
   ]
  },
  {
   "cell_type": "markdown",
   "metadata": {
    "heading_collapsed": true
   },
   "source": [
    "# Import Animation Stuff"
   ]
  },
  {
   "cell_type": "code",
   "execution_count": 4,
   "metadata": {
    "collapsed": true,
    "hidden": true
   },
   "outputs": [],
   "source": [
    "# Uncomment on Google colab\n",
    "# !pip install JSAnimation\n",
    "\n",
    "import matplotlib.patches as patches\n",
    "from matplotlib import animation\n",
    "from JSAnimation.IPython_display import display_animation"
   ]
  },
  {
   "cell_type": "markdown",
   "metadata": {
    "heading_collapsed": true
   },
   "source": [
    "# Make sympy outputs look nice"
   ]
  },
  {
   "cell_type": "code",
   "execution_count": 5,
   "metadata": {
    "collapsed": true,
    "hidden": true
   },
   "outputs": [],
   "source": [
    "# Comment out in Google colab \n",
    "init_printing(use_latex='mathjax')\n",
    "\n",
    "# Uncomment in below Google colab to render sympy equations nicely\n",
    "# def custom_latex_printer(exp,**options):\n",
    "#     from google.colab.output._publish import javascript\n",
    "#     url = \"https://cdnjs.cloudflare.com/ajax/libs/mathjax/2.7.3/latest.js?config=default\"\n",
    "#     javascript(url=url)\n",
    "#     return printing.latex(exp,**options)"
   ]
  },
  {
   "cell_type": "code",
   "execution_count": 22,
   "metadata": {
    "hidden": true
   },
   "outputs": [
    {
     "data": {
      "text/latex": [
       "$$\\left[\\begin{matrix}1 & 2\\\\3 & 4\\end{matrix}\\right]$$"
      ],
      "text/plain": [
       "⎡1  2⎤\n",
       "⎢    ⎥\n",
       "⎣3  4⎦"
      ]
     },
     "execution_count": 22,
     "metadata": {},
     "output_type": "execute_result"
    }
   ],
   "source": [
    "# To test if this works, you should see a nice looking matrix below\n",
    "# and not something that looks like latex.\n",
    "Matrix([[1,2],[3,4]])"
   ]
  },
  {
   "cell_type": "markdown",
   "metadata": {
    "heading_collapsed": true
   },
   "source": [
    "# Convert a Sympy Numbers to Numpy Numbers"
   ]
  },
  {
   "cell_type": "code",
   "execution_count": 17,
   "metadata": {
    "hidden": true
   },
   "outputs": [
    {
     "data": {
      "text/plain": [
       "(sympy.core.numbers.One, int)"
      ]
     },
     "execution_count": 17,
     "metadata": {},
     "output_type": "execute_result"
    }
   ],
   "source": [
    "# Sympy stores numbers differently than python or numpy.\n",
    "M_symbolic = Matrix([[1,2],[3,4]])\n",
    "type(M_symbolic[0,0]), type(1)"
   ]
  },
  {
   "cell_type": "code",
   "execution_count": 14,
   "metadata": {
    "hidden": true
   },
   "outputs": [
    {
     "data": {
      "text/plain": [
       "numpy.float64"
      ]
     },
     "execution_count": 14,
     "metadata": {},
     "output_type": "execute_result"
    }
   ],
   "source": [
    "# To convert a number from sympy into something numpy or the\n",
    "# control toolbox can use you can do the following.\n",
    "M_numeric = np.array(M_symbolic).astype(np.float64)\n",
    "type(M_numeric[0,0])"
   ]
  },
  {
   "cell_type": "markdown",
   "metadata": {},
   "source": [
    "# Convert a sympy expression into a numpy function"
   ]
  },
  {
   "cell_type": "code",
   "execution_count": 19,
   "metadata": {},
   "outputs": [
    {
     "data": {
      "text/plain": [
       "([5, 5], list)"
      ]
     },
     "execution_count": 19,
     "metadata": {},
     "output_type": "execute_result"
    }
   ],
   "source": [
    "# Sometimes you have a sympy expression that may have several variables \n",
    "# in it and want to treat it as a numpy function of those variables. \n",
    "\n",
    "# To do this we \"lambdify it\". \n",
    "var(\"x y\")\n",
    "expr = x**2 + 2*y\n",
    "f = lambdify([x,y], [expr, expr], 'numpy')\n",
    "\n",
    "# Now we can use f as a function of x and y that returns x^2 + 2y\n",
    "f(1,2), type(f(1,2))"
   ]
  },
  {
   "cell_type": "code",
   "execution_count": 14,
   "metadata": {},
   "outputs": [],
   "source": [
    "?lambdify"
   ]
  },
  {
   "cell_type": "code",
   "execution_count": 24,
   "metadata": {},
   "outputs": [
    {
     "data": {
      "text/plain": [
       "array([    0.        ,   246.91358025,   987.65432099,  2222.22222222,\n",
       "        3950.61728395,  6172.83950617,  8888.88888889, 12098.7654321 ,\n",
       "       15802.4691358 , 20000.        ])"
      ]
     },
     "execution_count": 24,
     "metadata": {},
     "output_type": "execute_result"
    }
   ],
   "source": [
    "# Sometimes we need to make a function of just one variable,\n",
    "# treating the other one as constant. For example\n",
    "\n",
    "g = lambdify(x,expr.subs(y,0),'numpy')\n",
    "q = np.linspace(0,100,10)\n",
    "g(q)+q**2"
   ]
  },
  {
   "cell_type": "markdown",
   "metadata": {},
   "source": [
    "# Convert a symbolic transfer function to a control toolbox one"
   ]
  },
  {
   "cell_type": "code",
   "execution_count": 25,
   "metadata": {},
   "outputs": [
    {
     "data": {
      "text/plain": [
       "(s + 1)/(s**2 + 3*s + 3)"
      ]
     },
     "execution_count": 25,
     "metadata": {},
     "output_type": "execute_result"
    }
   ],
   "source": [
    "# Symbolic expressions like the following are great for doing algebra,\n",
    "# but don't work with the control toolbox, which works with numbers only.\n",
    "var(\"s\")\n",
    "T_sym = (s+1) / (s**2 + 3*s + 3)\n",
    "T_sym"
   ]
  },
  {
   "cell_type": "code",
   "execution_count": 28,
   "metadata": {},
   "outputs": [
    {
     "data": {
      "text/latex": [
       "$$\\frac{s + 1}{s^2 + 3 s + 3}$$"
      ],
      "text/plain": [
       "\n",
       "    s + 1\n",
       "-------------\n",
       "s^2 + 3 s + 3"
      ]
     },
     "execution_count": 28,
     "metadata": {},
     "output_type": "execute_result"
    }
   ],
   "source": [
    "# To represent this in the control systems toolbox, we get the\n",
    "# coefficients of the numerator and denominator and use tf.\n",
    "num,den = fraction(T_sym)\n",
    "num_coeffs = np.array(Poly(num,s).coeffs()).astype(np.float64)\n",
    "den_coeffs = np.array(Poly(den,s).coeffs()).astype(np.float64)\n",
    "T = tf(num_coeffs,den_coeffs)\n",
    "T"
   ]
  },
  {
   "cell_type": "code",
   "execution_count": 29,
   "metadata": {},
   "outputs": [
    {
     "data": {
      "text/plain": [
       "(sympy.core.mul.Mul, control.xferfcn.TransferFunction)"
      ]
     },
     "execution_count": 29,
     "metadata": {},
     "output_type": "execute_result"
    }
   ],
   "source": [
    "type(T_sym), type(T)"
   ]
  },
  {
   "cell_type": "code",
   "execution_count": null,
   "metadata": {
    "collapsed": true
   },
   "outputs": [],
   "source": []
  }
 ],
 "metadata": {
  "kernelspec": {
   "display_name": "Python 3",
   "language": "python",
   "name": "python3"
  },
  "language_info": {
   "codemirror_mode": {
    "name": "ipython",
    "version": 3
   },
   "file_extension": ".py",
   "mimetype": "text/x-python",
   "name": "python",
   "nbconvert_exporter": "python",
   "pygments_lexer": "ipython3",
   "version": "3.6.1"
  }
 },
 "nbformat": 4,
 "nbformat_minor": 2
}
