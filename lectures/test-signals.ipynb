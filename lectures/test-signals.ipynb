{
 "cells": [
  {
   "cell_type": "markdown",
   "metadata": {},
   "source": [
    "ECE 447: Test Signals\n",
    "===\n",
    "\n",
    "Prof. Eric Klavins\n",
    "\n",
    "&copy; 2019, University of Washington"
   ]
  },
  {
   "cell_type": "markdown",
   "metadata": {
    "heading_collapsed": true
   },
   "source": [
    "# Code"
   ]
  },
  {
   "cell_type": "code",
   "execution_count": 2,
   "metadata": {
    "collapsed": true,
    "hidden": true
   },
   "outputs": [],
   "source": [
    "import numpy as np\n",
    "import scipy.integrate as spi\n",
    "from scipy.optimize import leastsq\n",
    "import matplotlib.pyplot as plt\n",
    "from sympy import *\n",
    "\n",
    "%matplotlib inline\n",
    "\n",
    "# Comment out in Google colab \n",
    "init_printing(use_latex='mathjax')\n",
    "\n",
    "# Uncomment in below Google colab to render sympy equations nicely\n",
    "# def custom_latex_printer(exp,**options):\n",
    "#     from google.colab.output._publish import javascript\n",
    "#     url = \"https://cdnjs.cloudflare.com/ajax/libs/mathjax/2.7.3/latest.js?config=default\"\n",
    "#     javascript(url=url)\n",
    "#     return printing.latex(exp,**options)\n",
    "# init_printing(use_latex=\"mathjax\",latex_printer=custom_latex_printer)"
   ]
  },
  {
   "cell_type": "markdown",
   "metadata": {},
   "source": [
    "# Test Signals"
   ]
  },
  {
   "cell_type": "markdown",
   "metadata": {},
   "source": [
    "Inputs of various types are used to test whether a system responds as desired. You can model what the user might or will do with these signals. The signals common used are:\n",
    "\n",
    "| Name      | Time Domain   | Frequency Domain |\n",
    "| :-------- | :------------ | :--------------- |\n",
    "| Impulse   | $\\delta(t)$   | 1                |\n",
    "| Step      | 1             | $1/s$            |\n",
    "| Ramp      | $t$           | $1/s^2$          |\n",
    "| Parabola  | $t^2$         | $2/s^3$          |\n",
    "| Sine Wave | $\\sin(\\omega t)$ | $\\omega / ( s^2 + \\omega^2)$ |\n",
    "\n",
    "As a reminder $\\mathcal{L}(t^n) = n! / s^{n+1}$.\n",
    "\n",
    "Our goal is to show that a control system's ability to track an input test signal at steady state depends on the number of poles at the origin, also known as the **system type**.\n",
    "\n",
    "Formally, suppose we have a system in a feedback configuration as follows:\n",
    "\n",
    "<img width=50% src=\"https://raw.githubusercontent.com/klavins/ECE447/master/images/test-signal-diagram.png\">\n",
    "\n",
    "In this case, you can think of $G(s)$ as the controller composed in series with the plant. The general form for $G(s)$ is\n",
    "\n",
    "$$\n",
    "G(s) = \\frac{\\Pi_{k=1}^Q(s+z_k)}\n",
    "            {s^N\\;\\Pi_{k=1}^M(s+p_k)}\n",
    "$$\n",
    "\n",
    "where\n",
    "\n",
    "- $z_1 \\dots z_Q$ are the zeros\n",
    "- $p_1 \\dots p_M$ are the non-zero poles\n",
    " \n",
    "and there are $N$ poles at zero. \n",
    "\n",
    "We define\n",
    "\n",
    "- The **system type** to be $N$\n",
    "- The **system order** to be $N+M$\n",
    "\n",
    "Now recall that the error for the above system is\n",
    "\n",
    "$$\n",
    "E(s) = R(s) - Y(s) = R(s) - E(s)G(s)\n",
    "$$\n",
    "\n",
    "so that\n",
    "\n",
    "$$\n",
    "E(s) = \\frac{1}{1+G(s)}R(s).\n",
    "$$\n",
    "\n",
    "In this notebook, we are interested in the steady state error, \n",
    "\n",
    "$$\n",
    "e(\\infty) =\\lim_{s \\rightarrow 0} \\frac{sR(s)}{1+G(s)}.\n",
    "$$"
   ]
  },
  {
   "cell_type": "markdown",
   "metadata": {},
   "source": [
    "Impulse Response: $R(s) = 1$\n",
    "---\n",
    "\n",
    "In this case \n",
    "\n",
    "$$\n",
    "\\lim_{s \\rightarrow 0} \\frac{s}{1+G(s)} = 0.\n",
    "$$\n",
    "\n",
    "> Therefore: Any stable system can track an impulse perfectly at steady state. That's because at steady state, the output of a system with zero input is zero."
   ]
  },
  {
   "cell_type": "markdown",
   "metadata": {},
   "source": [
    "Step Response: $R(s) = 1/s$\n",
    "---\n",
    "\n",
    "If $N=0$, then\n",
    "\n",
    "$$\n",
    "e(\\infty) =\\lim_{s \\rightarrow 0} \\frac{s\\cdot\\frac{1}{s}}{1+G(s)} = \\frac{1}{1+G(0)}.\n",
    "$$\n",
    "\n",
    "Sometimes $G(0)$ is denoted $K_P$. If $N>0$ then \n",
    "\n",
    "$$\n",
    "\\lim_{s \\rightarrow 0}G(s) = \\infty,\n",
    "$$\n",
    "\n",
    "so\n",
    "\n",
    "$$\n",
    "e(\\infty) = \\frac{1}{\\infty} = 0.\n",
    "$$\n",
    "\n",
    "> Therefore, when there are no poles at zero in $G(s)$, there is a non-zero steady state error. Otherwise, the steady state error is zero (as we saw with PI control, which intentionally adds a pole at zero)."
   ]
  },
  {
   "cell_type": "markdown",
   "metadata": {},
   "source": [
    "Ramp Response: $R(s) = 1/s^2$\n",
    "---\n",
    "\n",
    "Here, \n",
    "\n",
    "\\begin{align}\n",
    "e(\\infty) & = \\lim_{s \\rightarrow 0} \\frac{s\\cdot\\frac{1}{s^2}}{1+G(s)} \\\\ \n",
    " & = \\lim_{s \\rightarrow 0} \\frac{1}{s+sG(s)} \\\\\n",
    " & = \\lim_{s \\rightarrow 0} \\frac{1}{sG(s)}.\n",
    "\\end{align}\n",
    "\n",
    "If $N=0$, then there is no pole to cancel the $s$ multiplying $G(s)$ in the denominator. Thus, \n",
    "\n",
    "$$\n",
    "e(\\infty) = \\infty\n",
    "$$\n",
    "\n",
    "If $N=1$, then \n",
    "\n",
    "$$\n",
    "e(\\infty) = \\frac{1}{K_V}\n",
    "$$\n",
    "\n",
    "where $K_V \\triangleq \\lim_{s \\rightarrow 0} sG(s)$.\n",
    "\n",
    "If $N \\geq 2$, then we get \n",
    "\n",
    "$$\n",
    "e(\\infty) = \\lim_{s \\rightarrow 0} \\frac{s}{G(s)} = 0.\n",
    "$$\n",
    "\n",
    "> Therefore, A system with two poles at zero can perfectly track a ramp. With one pole, it has a non-zero steady state error for a ramp input, and with no poles, it can't track a ramp at all."
   ]
  },
  {
   "cell_type": "markdown",
   "metadata": {},
   "source": [
    "Parabola Response: $R(s) = 2/s^3$\n",
    "---\n",
    "\n",
    "Here, \n",
    "\n",
    "\\begin{align}\n",
    "e(\\infty) & = \\lim_{s \\rightarrow 0} \\frac{s\\cdot\\frac{2}{s^3}}{1+G(s)} \\\\ \n",
    " & = \\lim_{s \\rightarrow 0} \\frac{1}{s^2+s^2G(s)} \\\\\n",
    " & = \\lim_{s \\rightarrow 0} \\frac{1}{s^2G(s)}.\n",
    "\\end{align}\n",
    "\n",
    "Using logic similar to the above:\n",
    "\n",
    "If $N \\leq 1$, then $e(\\infty) = \\infty$.\n",
    "\n",
    "If $N = 2$, then $e(\\infty) = \\frac{1}{K_A}$ where $K_A \\triangleq \\lim_{s \\rightarrow 0} s^2G(s)$.\n",
    "\n",
    "If $N \\geq 3$ then $e(\\infty) = 0$."
   ]
  },
  {
   "cell_type": "markdown",
   "metadata": {},
   "source": [
    "General Picture\n",
    "---\n",
    "\n",
    "So the type of the system determines the kind of signals a system can track.\n",
    "\n",
    "|N     |1     |$1/s$   |$1/s^2$  |$2/s^3$  |\n",
    "| :--- | :--- | :----- | :------ | :------ |\n",
    "| 0    | 0    | $\\frac{1}{1+K_p}$ | $\\infty$ | $\\infty$ |\n",
    "| 1    | 0    | 0      | $\\frac{1}{K_V}$ | $\\infty$ |\n",
    "| 2    | 0    | 0      | 0 | $\\frac{1}{K_A}$ |\n",
    "| 3    | 0    | 0      | 0 | 0 | \n",
    "| $\\vdots$ | $\\vdots$ | $\\vdots$ | $\\vdots$ | $\\vdots$ |"
   ]
  },
  {
   "cell_type": "code",
   "execution_count": 52,
   "metadata": {},
   "outputs": [
    {
     "data": {
      "text/latex": [
       "$$\\left ( 0, \\quad 2\\right )$$"
      ],
      "text/plain": [
       "(0, 2)"
      ]
     },
     "execution_count": 52,
     "metadata": {},
     "output_type": "execute_result"
    }
   ],
   "source": [
    "# Example\n",
    "var(\"a\", real=True)\n",
    "var(\"t\", real=True,positive=True)\n",
    "var(\"s\")\n",
    "\n",
    "# Controller with one poles\n",
    "G = 1/(s+2)\n",
    "Gc = 1/s\n",
    "T = G*Gc / ( 1 + Gc*G )\n",
    "\n",
    "# Step response\n",
    "R1 = 1/s\n",
    "Y1 = T*R1\n",
    "Y1 = Y1.cancel()\n",
    "\n",
    "# Ramp Reponse\n",
    "R2 = 1/(s**2)\n",
    "Y2 = T*R2\n",
    "Y2 = Y2.cancel()\n",
    "\n",
    "limit(s*(R1-Y1),s,0), limit(s*(R2-Y2),s,0)"
   ]
  },
  {
   "cell_type": "code",
   "execution_count": 53,
   "metadata": {},
   "outputs": [
    {
     "data": {
      "text/latex": [
       "$$\\left ( \\frac{1}{s^{3} + 2 s^{2} + s}, \\quad \\frac{1}{s^{4} + 2 s^{3} + s^{2}}\\right )$$"
      ],
      "text/plain": [
       "⎛      1              1       ⎞\n",
       "⎜─────────────, ──────────────⎟\n",
       "⎜ 3      2       4      3    2⎟\n",
       "⎝s  + 2⋅s  + s  s  + 2⋅s  + s ⎠"
      ]
     },
     "execution_count": 53,
     "metadata": {},
     "output_type": "execute_result"
    }
   ],
   "source": [
    "Y1, Y2"
   ]
  },
  {
   "cell_type": "code",
   "execution_count": 55,
   "metadata": {},
   "outputs": [
    {
     "data": {
      "image/png": "[encoded data removed]",
      "text/plain": [
       "<matplotlib.figure.Figure at 0x117aeecc0>"
      ]
     },
     "metadata": {},
     "output_type": "display_data"
    }
   ],
   "source": [
    "# Find solutions in time domain for each y\n",
    "y1 = inverse_laplace_transform(Y1, s, t)\n",
    "y2 = inverse_laplace_transform(Y2, s, t)\n",
    "y1,y2\n",
    "\n",
    "# Plot showing the system tracking a step, but not a ramp\n",
    "plots = plotting.plot(y1,1+0*t,y2,t,(t,0,5), show=false);\n",
    "plots[0].line_color = 'blue'\n",
    "plots[1].line_color = 'lightblue'\n",
    "plots[2].line_color = 'darkgreen'\n",
    "plots[3].line_color = 'lightgreen'\n",
    "plots.show()"
   ]
  },
  {
   "cell_type": "markdown",
   "metadata": {},
   "source": [
    "# Control Design\n"
   ]
  },
  {
   "cell_type": "markdown",
   "metadata": {},
   "source": [
    "The general picture is:\n",
    "\n",
    "<img width=40% src=\"https://raw.githubusercontent.com/klavins/ECE447/master/images/test-signal-control.png\">\n",
    "\n",
    "**Scenarios**: Say $G(s)$ does not have any poles at zero.\n",
    "\n",
    "1) You want to track a step, but are okay with steady state error. Then choose $G_c(s) = K_p$. By tuning $K$, you can make SSE as small as you want. Larger $K$ also makes the system snappier.\n",
    "\n",
    "2) You want to track a step with no SSE, then choose $G_c(s) = K_I / s$. This will give you the tracking you want, although it may not have very good transient response.\n",
    "\n",
    "3) You want to track a step with no SSE and a snappy response, then choose $G_c(s) = K_p + K_I / s$. By tuning both gains, you can usually achieve the response you need."
   ]
  }
 ],
 "metadata": {
  "author": "mes",
  "kernelspec": {
   "display_name": "Python 3",
   "language": "python",
   "name": "python3"
  },
  "language_info": {
   "codemirror_mode": {
    "name": "ipython",
    "version": 3
   },
   "file_extension": ".py",
   "mimetype": "text/x-python",
   "name": "python",
   "nbconvert_exporter": "python",
   "pygments_lexer": "ipython3",
   "version": "3.6.1"
  },
  "latex_envs": {
   "LaTeX_envs_menu_present": true,
   "autoclose": false,
   "autocomplete": true,
   "bibliofile": "biblio.bib",
   "cite_by": "apalike",
   "current_citInitial": 1,
   "eqLabelWithNumbers": true,
   "eqNumInitial": 1,
   "hotkeys": {
    "equation": "Ctrl-E",
    "itemize": "Ctrl-I"
   },
   "labels_anchors": false,
   "latex_user_defs": false,
   "report_style_numbering": false,
   "user_envs_cfg": false
  }
 },
 "nbformat": 4,
 "nbformat_minor": 2
}
