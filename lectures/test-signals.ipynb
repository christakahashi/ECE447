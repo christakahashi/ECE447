{
  "nbformat": 4,
  "nbformat_minor": 0,
  "metadata": {
    "author": "mes",
    "kernelspec": {
      "display_name": "Python 3",
      "language": "python",
      "name": "python3"
    },
    "language_info": {
      "codemirror_mode": {
        "name": "ipython",
        "version": 3
      },
      "file_extension": ".py",
      "mimetype": "text/x-python",
      "name": "python",
      "nbconvert_exporter": "python",
      "pygments_lexer": "ipython3",
      "version": "3.6.1"
    },
    "latex_envs": {
      "LaTeX_envs_menu_present": true,
      "autoclose": false,
      "autocomplete": true,
      "bibliofile": "biblio.bib",
      "cite_by": "apalike",
      "current_citInitial": 1,
      "eqLabelWithNumbers": true,
      "eqNumInitial": 1,
      "hotkeys": {
        "equation": "Ctrl-E",
        "itemize": "Ctrl-I"
      },
      "labels_anchors": false,
      "latex_user_defs": false,
      "report_style_numbering": false,
      "user_envs_cfg": false
    },
    "colab": {
      "name": "test-signals.ipynb",
      "provenance": [],
      "include_colab_link": true
    }
  },
  "cells": [
    {
      "cell_type": "markdown",
      "metadata": {
        "id": "view-in-github",
        "colab_type": "text"
      },
      "source": [
        "<a href=\"https://colab.research.google.com/github/christakahashi/ECE447/blob/master/lectures/test-signals.ipynb\" target=\"_parent\"><img src=\"https://colab.research.google.com/assets/colab-badge.svg\" alt=\"Open In Colab\"/></a>"
      ]
    },
    {
      "cell_type": "markdown",
      "metadata": {
        "id": "KF2ICoamP89c",
        "colab_type": "text"
      },
      "source": [
        "ECE 447: Test Signals\n",
        "===\n",
        "\n",
        "Updated by \n",
        " Dr. Chris Takahashi\n",
        "\n",
        "Authored by Prof. Eric Klavins &copy; 2019, University of Washington\n"
      ]
    },
    {
      "cell_type": "markdown",
      "metadata": {
        "heading_collapsed": true,
        "id": "psX8rYedP89e",
        "colab_type": "text"
      },
      "source": [
        "# Code"
      ]
    },
    {
      "cell_type": "code",
      "metadata": {
        "hidden": true,
        "id": "cJayl58XP89h",
        "colab_type": "code",
        "colab": {}
      },
      "source": [
        "import numpy as np\n",
        "import scipy.integrate as spi\n",
        "from scipy.optimize import leastsq\n",
        "import matplotlib.pyplot as plt\n",
        "from sympy import *\n",
        "\n",
        "%matplotlib inline\n",
        "\n",
        "#comment out for light mode\n",
        "plt.style.use('dark_background')\n",
        "\n",
        "try: \n",
        "  import google.colab #test for colab\n",
        "  import IPython\n",
        "  def setup_typeset():\n",
        "    \"\"\"MathJax initialization for the current cell.\n",
        "    \n",
        "    This installs and configures MathJax for the current output.\n",
        "    \"\"\"\n",
        "    IPython.display.display(IPython.display.HTML('''\n",
        "        <script src=\"https://www.gstatic.com/external_hosted/mathjax/latest/MathJax.js?config=TeX-AMS_HTML-full,Safe&delayStartupUntil=configured\"></script>\n",
        "        <script>\n",
        "          (() => {\n",
        "            const mathjax = window.MathJax;\n",
        "            mathjax.Hub.Config({\n",
        "            'tex2jax': {\n",
        "              'inlineMath': [['$', '$'], ['\\\\(', '\\\\)']],\n",
        "              'displayMath': [['$$', '$$'], ['\\\\[', '\\\\]']],\n",
        "              'processEscapes': true,\n",
        "              'processEnvironments': true,\n",
        "              'skipTags': ['script', 'noscript', 'style', 'textarea', 'code'],\n",
        "              'displayAlign': 'center',\n",
        "            },\n",
        "            'HTML-CSS': {\n",
        "              'styles': {'.MathJax_Display': {'margin': 0}},\n",
        "              'linebreaks': {'automatic': true},\n",
        "              // Disable to prevent OTF font loading, which aren't part of our\n",
        "              // distribution.\n",
        "              'imageFont': null,\n",
        "            },\n",
        "            'messageStyle': 'none'\n",
        "          });\n",
        "          mathjax.Hub.Configured();\n",
        "        })();\n",
        "        </script>\n",
        "        '''))\n",
        "  def custom_latex_printer(exp,**options):\n",
        "      setup_typeset()\n",
        "      return printing.latex(exp,**options)\n",
        "  init_printing(use_latex=\"mathjax\",latex_printer=custom_latex_printer)\n",
        "except:\n",
        "  init_printing(use_latex='mathjax')"
      ],
      "execution_count": 0,
      "outputs": []
    },
    {
      "cell_type": "markdown",
      "metadata": {
        "id": "AfyRuqVQP89x",
        "colab_type": "text"
      },
      "source": [
        "# Test Signals"
      ]
    },
    {
      "cell_type": "markdown",
      "metadata": {
        "id": "Oa4SPjfUP89z",
        "colab_type": "text"
      },
      "source": [
        "Inputs of various types are used to test whether a system responds as desired. You can model what the user might or will do with these signals. The signals common used are:\n",
        "\n",
        "| Name      | Time Domain   | Frequency Domain |\n",
        "| :-------- | :------------ | :--------------- |\n",
        "| Impulse   | $\\delta(t)$   | 1                |\n",
        "| Step      | 1             | $1/s$            |\n",
        "| Ramp      | $t$           | $1/s^2$          |\n",
        "| Parabola  | $t^2$         | $2/s^3$          |\n",
        "| Sine Wave | $\\sin(\\omega t)$ | $\\omega / ( s^2 + \\omega^2)$ |\n",
        "\n",
        "As a reminder $\\mathcal{L}(t^n) = n! / s^{n+1}$.\n",
        "\n",
        "Our goal is to show that a control system's ability to track an input test signal at steady state depends on the number of poles at the origin, also known as the **system type**.\n",
        "\n",
        "Formally, suppose we have a system in a feedback configuration as follows:\n",
        "\n",
        "<img width=50% src=\"https://raw.githubusercontent.com/klavins/ECE447/master/images/test-signal-diagram.png\">\n",
        "\n",
        "In this case, you can think of $G(s)$ as the controller composed in series with the plant. The general form for $G(s)$ is\n",
        "\n",
        "$$\n",
        "G(s) = \\frac{\\Pi_{k=1}^Q(s+z_k)}\n",
        "            {s^N\\;\\Pi_{k=1}^M(s+p_k)}\n",
        "$$\n",
        "\n",
        "where\n",
        "\n",
        "- $z_1 \\dots z_Q$ are the zeros\n",
        "- $p_1 \\dots p_M$ are the non-zero poles\n",
        " \n",
        "and there are $N$ poles at zero. \n",
        "\n",
        "We define\n",
        "\n",
        "- The **system type** to be $N$\n",
        "- The **system order** to be $N+M$\n",
        "\n",
        "Now recall that the error for the above system is\n",
        "\n",
        "$$\n",
        "E(s) = R(s) - Y(s) = R(s) - E(s)G(s)\n",
        "$$\n",
        "\n",
        "so that\n",
        "\n",
        "$$\n",
        "E(s) = \\frac{1}{1+G(s)}R(s).\n",
        "$$\n",
        "\n",
        "In this notebook, we are interested in the steady state error, \n",
        "\n",
        "$$\n",
        "e(\\infty) =\\lim_{s \\rightarrow 0} \\frac{sR(s)}{1+G(s)}.\n",
        "$$"
      ]
    },
    {
      "cell_type": "markdown",
      "metadata": {
        "id": "Negz-4_9P891",
        "colab_type": "text"
      },
      "source": [
        "Impulse Response: $R(s) = 1$\n",
        "---\n",
        "\n",
        "In this case \n",
        "\n",
        "$$\n",
        "\\lim_{s \\rightarrow 0} \\frac{s}{1+G(s)} = 0.\n",
        "$$\n",
        "\n",
        "> Therefore: Any stable system can track an impulse perfectly at steady state. That's because at steady state, the output of a system with zero input is zero."
      ]
    },
    {
      "cell_type": "markdown",
      "metadata": {
        "id": "t5D0RPSUP892",
        "colab_type": "text"
      },
      "source": [
        "Step Response: $R(s) = 1/s$\n",
        "---\n",
        "\n",
        "If $N=0$, then\n",
        "\n",
        "$$\n",
        "e(\\infty) =\\lim_{s \\rightarrow 0} \\frac{s\\cdot\\frac{1}{s}}{1+G(s)} = \\frac{1}{1+G(0)}.\n",
        "$$\n",
        "\n",
        "Sometimes $G(0)$ is denoted $K_P$. If $N>0$ then \n",
        "\n",
        "$$\n",
        "\\lim_{s \\rightarrow 0}G(s) = \\infty,\n",
        "$$\n",
        "\n",
        "so\n",
        "\n",
        "$$\n",
        "e(\\infty) = \\frac{1}{\\infty} = 0.\n",
        "$$\n",
        "\n",
        "> Therefore, when there are no poles at zero in $G(s)$, there is a non-zero steady state error. Otherwise, the steady state error is zero (as we saw with PI control, which intentionally adds a pole at zero)."
      ]
    },
    {
      "cell_type": "markdown",
      "metadata": {
        "id": "2xWLfOcHP893",
        "colab_type": "text"
      },
      "source": [
        "Ramp Response: $R(s) = 1/s^2$\n",
        "---\n",
        "\n",
        "Here, \n",
        "\n",
        "\\begin{align}\n",
        "e(\\infty) & = \\lim_{s \\rightarrow 0} \\frac{s\\cdot\\frac{1}{s^2}}{1+G(s)} \\\\ \n",
        " & = \\lim_{s \\rightarrow 0} \\frac{1}{s+sG(s)} \\\\\n",
        " & = \\lim_{s \\rightarrow 0} \\frac{1}{sG(s)}.\n",
        "\\end{align}\n",
        "\n",
        "If $N=0$, then there is no pole to cancel the $s$ multiplying $G(s)$ in the denominator. Thus, \n",
        "\n",
        "$$\n",
        "e(\\infty) = \\infty\n",
        "$$\n",
        "\n",
        "If $N=1$, then \n",
        "\n",
        "$$\n",
        "e(\\infty) = \\frac{1}{K_V}\n",
        "$$\n",
        "\n",
        "where $K_V \\triangleq \\lim_{s \\rightarrow 0} sG(s)$.\n",
        "\n",
        "If $N \\geq 2$, then we get \n",
        "\n",
        "$$\n",
        "e(\\infty) = \\lim_{s \\rightarrow 0} \\frac{s}{G(s)} = 0.\n",
        "$$\n",
        "\n",
        "> Therefore, A system with two poles at zero can perfectly track a ramp. With one pole, it has a non-zero steady state error for a ramp input, and with no poles, it can't track a ramp at all."
      ]
    },
    {
      "cell_type": "markdown",
      "metadata": {
        "id": "bdQ4YlzBP895",
        "colab_type": "text"
      },
      "source": [
        "Parabola Response: $R(s) = 2/s^3$\n",
        "---\n",
        "\n",
        "Here, \n",
        "\n",
        "\\begin{align}\n",
        "e(\\infty) & = \\lim_{s \\rightarrow 0} \\frac{s\\cdot\\frac{2}{s^3}}{1+G(s)} \\\\ \n",
        " & = \\lim_{s \\rightarrow 0} \\frac{1}{s^2+s^2G(s)} \\\\\n",
        " & = \\lim_{s \\rightarrow 0} \\frac{1}{s^2G(s)}.\n",
        "\\end{align}\n",
        "\n",
        "Using logic similar to the above:\n",
        "\n",
        "If $N \\leq 1$, then $e(\\infty) = \\infty$.\n",
        "\n",
        "If $N = 2$, then $e(\\infty) = \\frac{1}{K_A}$ where $K_A \\triangleq \\lim_{s \\rightarrow 0} s^2G(s)$.\n",
        "\n",
        "If $N \\geq 3$ then $e(\\infty) = 0$."
      ]
    },
    {
      "cell_type": "markdown",
      "metadata": {
        "id": "DuGM6SDMP897",
        "colab_type": "text"
      },
      "source": [
        "General Picture\n",
        "---\n",
        "\n",
        "So the type of the system determines the kind of signals a system can track.\n",
        "\n",
        "|N     |1     |$1/s$   |$1/s^2$  |$2/s^3$  |\n",
        "| :--- | :--- | :----- | :------ | :------ |\n",
        "| 0    | 0    | $\\frac{1}{1+K_p}$ | $\\infty$ | $\\infty$ |\n",
        "| 1    | 0    | 0      | $\\frac{1}{K_V}$ | $\\infty$ |\n",
        "| 2    | 0    | 0      | 0 | $\\frac{1}{K_A}$ |\n",
        "| 3    | 0    | 0      | 0 | 0 | \n",
        "| $\\vdots$ | $\\vdots$ | $\\vdots$ | $\\vdots$ | $\\vdots$ |"
      ]
    },
    {
      "cell_type": "code",
      "metadata": {
        "id": "o7lGR5mjP898",
        "colab_type": "code",
        "colab": {
          "base_uri": "https://localhost:8080/",
          "height": 36
        },
        "outputId": "cd60c384-6091-4e21-b788-31b4e1f12f0c"
      },
      "source": [
        "# Example\n",
        "var(\"a\", real=True)\n",
        "var(\"t\", real=True,positive=True)\n",
        "var(\"s\")\n",
        "\n",
        "# Controller with one poles\n",
        "G = 1/(s+2)\n",
        "Gc = 1/s\n",
        "T = G*Gc / ( 1 + Gc*G )\n",
        "\n",
        "# Step response\n",
        "R1 = 1/s\n",
        "Y1 = T*R1\n",
        "Y1 = Y1.cancel()\n",
        "\n",
        "# Ramp Reponse\n",
        "R2 = 1/(s**2)\n",
        "Y2 = T*R2\n",
        "Y2 = Y2.cancel()\n",
        "\n",
        "limit(s*(R1-Y1),s,0), limit(s*(R2-Y2),s,0)"
      ],
      "execution_count": 2,
      "outputs": [
        {
          "output_type": "display_data",
          "data": {
            "text/html": [
              "\n",
              "        <script src=\"https://www.gstatic.com/external_hosted/mathjax/latest/MathJax.js?config=TeX-AMS_HTML-full,Safe&delayStartupUntil=configured\"></script>\n",
              "        <script>\n",
              "          (() => {\n",
              "            const mathjax = window.MathJax;\n",
              "            mathjax.Hub.Config({\n",
              "            'tex2jax': {\n",
              "              'inlineMath': [['$', '$'], ['\\(', '\\)']],\n",
              "              'displayMath': [['$$', '$$'], ['\\[', '\\]']],\n",
              "              'processEscapes': true,\n",
              "              'processEnvironments': true,\n",
              "              'skipTags': ['script', 'noscript', 'style', 'textarea', 'code'],\n",
              "              'displayAlign': 'center',\n",
              "            },\n",
              "            'HTML-CSS': {\n",
              "              'styles': {'.MathJax_Display': {'margin': 0}},\n",
              "              'linebreaks': {'automatic': true},\n",
              "              // Disable to prevent OTF font loading, which aren't part of our\n",
              "              // distribution.\n",
              "              'imageFont': null,\n",
              "            },\n",
              "            'messageStyle': 'none'\n",
              "          });\n",
              "          mathjax.Hub.Configured();\n",
              "        })();\n",
              "        </script>\n",
              "        "
            ],
            "text/plain": [
              "<IPython.core.display.HTML object>"
            ]
          },
          "metadata": {
            "tags": []
          }
        },
        {
          "output_type": "execute_result",
          "data": {
            "text/latex": "$$\\left ( 0, \\quad 2\\right )$$",
            "text/plain": [
              "(0, 2)"
            ]
          },
          "metadata": {
            "tags": []
          },
          "execution_count": 2
        }
      ]
    },
    {
      "cell_type": "code",
      "metadata": {
        "id": "89Jdc0pYP8-F",
        "colab_type": "code",
        "colab": {
          "base_uri": "https://localhost:8080/",
          "height": 59
        },
        "outputId": "5f990c06-ef02-4c27-c740-773182e796a1"
      },
      "source": [
        "Y1, Y2"
      ],
      "execution_count": 3,
      "outputs": [
        {
          "output_type": "display_data",
          "data": {
            "text/html": [
              "\n",
              "        <script src=\"https://www.gstatic.com/external_hosted/mathjax/latest/MathJax.js?config=TeX-AMS_HTML-full,Safe&delayStartupUntil=configured\"></script>\n",
              "        <script>\n",
              "          (() => {\n",
              "            const mathjax = window.MathJax;\n",
              "            mathjax.Hub.Config({\n",
              "            'tex2jax': {\n",
              "              'inlineMath': [['$', '$'], ['\\(', '\\)']],\n",
              "              'displayMath': [['$$', '$$'], ['\\[', '\\]']],\n",
              "              'processEscapes': true,\n",
              "              'processEnvironments': true,\n",
              "              'skipTags': ['script', 'noscript', 'style', 'textarea', 'code'],\n",
              "              'displayAlign': 'center',\n",
              "            },\n",
              "            'HTML-CSS': {\n",
              "              'styles': {'.MathJax_Display': {'margin': 0}},\n",
              "              'linebreaks': {'automatic': true},\n",
              "              // Disable to prevent OTF font loading, which aren't part of our\n",
              "              // distribution.\n",
              "              'imageFont': null,\n",
              "            },\n",
              "            'messageStyle': 'none'\n",
              "          });\n",
              "          mathjax.Hub.Configured();\n",
              "        })();\n",
              "        </script>\n",
              "        "
            ],
            "text/plain": [
              "<IPython.core.display.HTML object>"
            ]
          },
          "metadata": {
            "tags": []
          }
        },
        {
          "output_type": "execute_result",
          "data": {
            "text/latex": "$$\\left ( \\frac{1}{s^{3} + 2 s^{2} + s}, \\quad \\frac{1}{s^{4} + 2 s^{3} + s^{2}}\\right )$$",
            "text/plain": [
              "⎛      1              1       ⎞\n",
              "⎜─────────────, ──────────────⎟\n",
              "⎜ 3      2       4      3    2⎟\n",
              "⎝s  + 2⋅s  + s  s  + 2⋅s  + s ⎠"
            ]
          },
          "metadata": {
            "tags": []
          },
          "execution_count": 3
        }
      ]
    },
    {
      "cell_type": "code",
      "metadata": {
        "id": "4de9-dqNP8-P",
        "colab_type": "code",
        "colab": {
          "base_uri": "https://localhost:8080/",
          "height": 399
        },
        "outputId": "74105b44-ffb1-4fe0-a2cf-b3e6860a86a7"
      },
      "source": [
        "# Find solutions in time domain for each y\n",
        "y1 = inverse_laplace_transform(Y1, s, t)\n",
        "y2 = inverse_laplace_transform(Y2, s, t)\n",
        "y1,y2\n",
        "\n",
        "# Plot showing the system tracking a step, but not a ramp\n",
        "plots = plotting.plot(y1,1+0*t,y2,t,(t,0,5), show=false);\n",
        "plots[0].line_color = 'blue'\n",
        "plots[1].line_color = 'lightblue'\n",
        "plots[2].line_color = 'darkgreen'\n",
        "plots[3].line_color = 'lightgreen'\n",
        "plots.show()"
      ],
      "execution_count": 4,
      "outputs": [
        {
          "output_type": "stream",
          "text": [
            "/usr/local/lib/python3.6/dist-packages/sympy/plotting/plot.py:890: MatplotlibDeprecationWarning: \n",
            "The set_smart_bounds function was deprecated in Matplotlib 3.2 and will be removed two minor releases later.\n",
            "  self.ax.spines['left'].set_smart_bounds(True)\n",
            "/usr/local/lib/python3.6/dist-packages/sympy/plotting/plot.py:891: MatplotlibDeprecationWarning: \n",
            "The set_smart_bounds function was deprecated in Matplotlib 3.2 and will be removed two minor releases later.\n",
            "  self.ax.spines['bottom'].set_smart_bounds(False)\n"
          ],
          "name": "stderr"
        },
        {
          "output_type": "display_data",
          "data": {
            "image/png": "[encoded data removed]",
            "text/plain": [
              "<Figure size 432x288 with 1 Axes>"
            ]
          },
          "metadata": {
            "tags": [],
            "needs_background": "dark"
          }
        }
      ]
    },
    {
      "cell_type": "markdown",
      "metadata": {
        "id": "VrR-o88wP8-W",
        "colab_type": "text"
      },
      "source": [
        "# Control Design\n"
      ]
    },
    {
      "cell_type": "markdown",
      "metadata": {
        "id": "sJ-7XENKP8-X",
        "colab_type": "text"
      },
      "source": [
        "The general picture is:\n",
        "\n",
        "<img width=40% src=\"https://raw.githubusercontent.com/klavins/ECE447/master/images/test-signal-control.png\">\n",
        "\n",
        "**Scenarios**: Say $G(s)$ does not have any poles at zero.\n",
        "\n",
        "1) You want to track a step, but are okay with steady state error. Then choose $G_c(s) = K_p$. By tuning $K$, you can make SSE as small as you want. Larger $K$ also makes the system snappier.\n",
        "\n",
        "2) You want to track a step with no SSE, then choose $G_c(s) = K_I / s$. This will give you the tracking you want, although it may not have very good transient response.\n",
        "\n",
        "3) You want to track a step with no SSE and a snappy response, then choose $G_c(s) = K_p + K_I / s$. By tuning both gains, you can usually achieve the response you need."
      ]
    }
  ]
}