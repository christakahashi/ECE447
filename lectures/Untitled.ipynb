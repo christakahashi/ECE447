{
 "cells": [
  {
   "cell_type": "markdown",
   "metadata": {},
   "source": [
    "# EE4447: Full State Feedback\n",
    "\n",
    "Eric Klavins\n",
    "\n",
    "Copyright \\&copy; University of Washington, 2019"
   ]
  },
  {
   "cell_type": "markdown",
   "metadata": {},
   "source": [
    "Suppose we have a system in phase canonical form\n",
    "\n",
    "\\begin{align}\n",
    "\\dot \\x & = \\begin{pmatrix}\n",
    "0 & 1 & 0 & 0 \\\\\n",
    "0 & 0 & 1 & 0 \\\\\n",
    "0 & 0 & 0 & 1 \\\\\n",
    "-a_0 & -a_1 & -a_2 & -a_3 \n",
    "\\end{pmatrix} \\x + \\begin{pmatrix}\n",
    "0 \\\\\n",
    "0 \\\\\n",
    "0 \\\\\n",
    "1\n",
    "\\end{pmatrix} u \\\\\n",
    "y & = ( b_0 \\; b_1 \\; b_2 \\; b_3 ) \\; \\x .\n",
    "\\end{align}\n",
    "\n",
    "For now, we will ignore $y$ an <span style=\"background: yellow\">suppose we have direct measurements of $\\x$ </span>.\n",
    "\n",
    "**Full state feedback** means setting \n",
    "\n",
    "$$\n",
    "u = -K \\x + r = - (K_1 \\; K_2 \\; K_2 \\; K_4) \\; \\x + r\n",
    "$$"
   ]
  },
  {
   "cell_type": "code",
   "execution_count": null,
   "metadata": {
    "collapsed": true
   },
   "outputs": [],
   "source": []
  }
 ],
 "metadata": {
  "kernelspec": {
   "display_name": "Python 3",
   "language": "python",
   "name": "python3"
  },
  "language_info": {
   "codemirror_mode": {
    "name": "ipython",
    "version": 3
   },
   "file_extension": ".py",
   "mimetype": "text/x-python",
   "name": "python",
   "nbconvert_exporter": "python",
   "pygments_lexer": "ipython3",
   "version": "3.6.1"
  }
 },
 "nbformat": 4,
 "nbformat_minor": 2
}
