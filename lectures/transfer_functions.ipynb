{
  "nbformat": 4,
  "nbformat_minor": 0,
  "metadata": {
    "kernelspec": {
      "display_name": "Python 3",
      "language": "python",
      "name": "python3"
    },
    "language_info": {
      "codemirror_mode": {
        "name": "ipython",
        "version": 3
      },
      "file_extension": ".py",
      "mimetype": "text/x-python",
      "name": "python",
      "nbconvert_exporter": "python",
      "pygments_lexer": "ipython3",
      "version": "3.6.1"
    },
    "latex_envs": {
      "LaTeX_envs_menu_present": true,
      "autoclose": false,
      "autocomplete": true,
      "bibliofile": "biblio.bib",
      "cite_by": "apalike",
      "current_citInitial": 1,
      "eqLabelWithNumbers": true,
      "eqNumInitial": 1,
      "hotkeys": {
        "equation": "Ctrl-E",
        "itemize": "Ctrl-I"
      },
      "labels_anchors": false,
      "latex_user_defs": false,
      "report_style_numbering": false,
      "user_envs_cfg": false
    },
    "colab": {
      "name": "transfer_functions.ipynb",
      "provenance": [],
      "include_colab_link": true
    }
  },
  "cells": [
    {
      "cell_type": "markdown",
      "metadata": {
        "id": "view-in-github",
        "colab_type": "text"
      },
      "source": [
        "<a href=\"https://colab.research.google.com/github/christakahashi/ECE447/blob/master/lectures/transfer_functions.ipynb\" target=\"_parent\"><img src=\"https://colab.research.google.com/assets/colab-badge.svg\" alt=\"Open In Colab\"/></a>"
      ]
    },
    {
      "cell_type": "markdown",
      "metadata": {
        "id": "tw7OSk5xt9JA",
        "colab_type": "text"
      },
      "source": [
        "ECE 447: Transfer Functions\n",
        "===\n",
        "In which we begin our descent into the *frequency domain*\n",
        "\n",
        "Updated by \n",
        " Dr. Chris Takahashi\n",
        "\n",
        "Authored by Prof. Eric Klavins &copy; 2019, University of Washington\n"
      ]
    },
    {
      "cell_type": "code",
      "metadata": {
        "id": "laXBoPxIt9JF",
        "colab_type": "code",
        "colab": {}
      },
      "source": [
        "import numpy as np\n",
        "import scipy.integrate as spi\n",
        "import matplotlib.pyplot as plt\n",
        "from sympy import *\n",
        "\n",
        "%matplotlib inline\n",
        "\n",
        "#comment out for light mode\n",
        "plt.style.use('dark_background')\n",
        "\n",
        "try: \n",
        "  import google.colab #test for colab\n",
        "  import IPython\n",
        "  def setup_typeset():\n",
        "    \"\"\"MathJax initialization for the current cell.\n",
        "    \n",
        "    This installs and configures MathJax for the current output.\n",
        "    \"\"\"\n",
        "    IPython.display.display(IPython.display.HTML('''\n",
        "        <script src=\"https://www.gstatic.com/external_hosted/mathjax/latest/MathJax.js?config=TeX-AMS_HTML-full,Safe&delayStartupUntil=configured\"></script>\n",
        "        <script>\n",
        "          (() => {\n",
        "            const mathjax = window.MathJax;\n",
        "            mathjax.Hub.Config({\n",
        "            'tex2jax': {\n",
        "              'inlineMath': [['$', '$'], ['\\\\(', '\\\\)']],\n",
        "              'displayMath': [['$$', '$$'], ['\\\\[', '\\\\]']],\n",
        "              'processEscapes': true,\n",
        "              'processEnvironments': true,\n",
        "              'skipTags': ['script', 'noscript', 'style', 'textarea', 'code'],\n",
        "              'displayAlign': 'center',\n",
        "            },\n",
        "            'HTML-CSS': {\n",
        "              'styles': {'.MathJax_Display': {'margin': 0}},\n",
        "              'linebreaks': {'automatic': true},\n",
        "              // Disable to prevent OTF font loading, which aren't part of our\n",
        "              // distribution.\n",
        "              'imageFont': null,\n",
        "            },\n",
        "            'messageStyle': 'none'\n",
        "          });\n",
        "          mathjax.Hub.Configured();\n",
        "        })();\n",
        "        </script>\n",
        "        '''))\n",
        "  def custom_latex_printer(exp,**options):\n",
        "      setup_typeset()\n",
        "      return printing.latex(exp,**options)\n",
        "  init_printing(use_latex=\"mathjax\",latex_printer=custom_latex_printer)\n",
        "except:\n",
        "  init_printing(use_latex='mathjax')"
      ],
      "execution_count": 0,
      "outputs": []
    },
    {
      "cell_type": "markdown",
      "metadata": {
        "id": "Sa8EcnA5t9JS",
        "colab_type": "text"
      },
      "source": [
        "Laplace Transforms\n",
        "===\n",
        "\n",
        "The **Laplace transform** of a function of time $f(t)$ is\n",
        "\n",
        "$$\n",
        "F(s) = \\mathcal{L}[f(t)] = \\int_0^\\infty e^{-st} f(t) dt\n",
        "$$\n",
        "\n",
        "where $s$ is a complex number.\n",
        "\n",
        "Example: 1\n",
        "---\n",
        "\n",
        "Suppose \n",
        "\n",
        "$$\n",
        "y(t) = 1\n",
        "$$\n",
        "\n",
        "\\begin{align}\n",
        "Y(s) & = \\int_0^\\infty e^{-st} 1 dt \\\\\n",
        "                  & = -\\left.\\frac{1}{s} e^{-st}\\right|_0^\\infty \\\\\n",
        "                  & = -\\frac{1}{s} ( 0 - 1 ) \\\\\n",
        "                  & = \\frac{1}{s}\n",
        "\\end{align}\n",
        "\n",
        "Example: t\n",
        "---\n",
        "\n",
        "Suppose \n",
        "\n",
        "$$\n",
        "y(t) = t\n",
        "$$\n",
        "\n",
        "To find the Laplace transform, use integration by parts $\\int v du = uv - \\int u dv$ with $u=t$ and $v = \\frac{1}{s}e^{-st}$. Then\n",
        "\n",
        "\\begin{align}\n",
        "Y(s) & = \\int_0^\\infty e^{-st} t dt \\\\\n",
        "                  & = \\left.-\\frac{t}{s}e^{-st}\\right|_0^\\infty +   \n",
        "                      \\frac{1}{s} \\int_0^\\infty e^{-st} dt \\\\\n",
        "                  & = \\frac{1}{s^2}\n",
        "\\end{align}\n",
        "\n",
        "Example: $e^{-at}$\n",
        "---\n",
        "\n",
        "Suppose \n",
        "\n",
        "$$\n",
        "y(t) = e^{-at}\n",
        "$$\n",
        "\n",
        "then \n",
        "\n",
        "\\begin{align}\n",
        "Y(s) & = \\int_0^\\infty e^{-st} e^{-at} dt \\\\\n",
        "                  & = \\int_0^\\infty e^{-(s+a)t} dt \\\\\n",
        "                  & = \\left.-\\frac{1}{s+a}e^{-(s+a)t}\\right|_0^\\infty \\\\\n",
        "                  & = -\\frac{1}{s+a} ( 0 - 1 ) \\\\\n",
        "                  & = \\frac{1}{s+a}\n",
        "\\end{align}\n",
        "\n",
        "Example\n",
        "---\n",
        "\n",
        "Suppose\n",
        "\n",
        "$$\n",
        "y(t) = 4 - 3 e^{-t} \n",
        "$$\n",
        "\n",
        "then\n",
        "\n",
        "\\begin{align}\n",
        "Y(s) & = \\frac{4}{s} - \\frac{3}{s+1} \\\\\n",
        "     & = \\frac{s+4}{s(s+1)} .\n",
        "\\end{align}"
      ]
    },
    {
      "cell_type": "markdown",
      "metadata": {
        "id": "xIlZsCyqt9JT",
        "colab_type": "text"
      },
      "source": [
        "Transfer functions from linear ODEs\n",
        "===\n",
        "\n",
        "Consider a differential equation of the form\n",
        "\n",
        "$$\n",
        "a_2 \\ddot y _+ a_1 \\dot y + a_0 y = b_1 \\dot u + b_0 u\n",
        "$$\n",
        "\n",
        "where $y$ is the output and $u$ is the input. The **transfer function** of this system is\n",
        "\n",
        "$$\n",
        "T(s) := \\frac{Y(s)}{U(s)} = \\frac{\\mathrm{Laplace\\;transfer\\;if\\;the\\;output}}{\\mathrm{Laplace\\;transfer\\;if\\;the\\;input}} .\n",
        "$$\n",
        "\n",
        "assuming $y(0) = \\dot y(0) = y(0) = \\dot u(0) = 0$.\n",
        "\n",
        "Say $F(s)$ is the Laplace transform of $f(t)$. Then using integration by parts we get:\n",
        "\n",
        "\\begin{align}\n",
        "\\mathcal{L}[f'(t)] & = \\int_0^\\infty e^{-st} f'(t) dt \\\\\n",
        "                   & = \\left. e^{-st}f(t) \\right|_0^\\infty + s \\int_0^\\infty e^{-st} f'(t) dt \\\\\n",
        "                   & = - f(0) + s F(s)\n",
        "\\end{align}\n",
        "\n",
        "Similarly,\n",
        "\n",
        "$$\n",
        "\\mathcal{L}[f''(t)] = s^2 F(s)\n",
        "$$\n",
        "\n",
        "and so on.\n",
        "\n",
        "Therefore, it is straightforward to compute the Transfer function of equations like that above. \n",
        "\n",
        "Example\n",
        "---\n",
        "\n",
        "The Laplace transform of \n",
        "\n",
        "$$\n",
        "2 \\ddot y - \\dot y + y = \\dot u - u\n",
        "$$\n",
        "\n",
        "is\n",
        "\n",
        "$$\n",
        "2 s^2 Y(s) - sY(s) + Y(s) = s U(s) - U(s)\n",
        "$$\n",
        "\n",
        "or\n",
        "\n",
        "$$\n",
        "Y(s)(2s^2 - s + 1) = U(s)(s-1)\n",
        "$$\n",
        "\n",
        "so that the transfer function is \n",
        "\n",
        "$$\n",
        "T(s) = \\frac{Y(s)}{U(s)} = \\frac{s-1}{2s^2 - s + 1}\n",
        "$$\n",
        "\n",
        "The roots of the numerator are called the **zeros** and the roots of the denominator are called the **poles**. We often draw this in the complex plane as follows."
      ]
    },
    {
      "cell_type": "code",
      "metadata": {
        "id": "kequQjJzt9JU",
        "colab_type": "code",
        "colab": {
          "base_uri": "https://localhost:8080/",
          "height": 60
        },
        "outputId": "7ee7fc3e-c484-4911-c2c8-bd4d7f4d9e84"
      },
      "source": [
        "var(\"s\")\n",
        "zero = solve(s-1,s)[0]\n",
        "poles = solve(2*s**2-s+1,s)\n",
        "zero,poles"
      ],
      "execution_count": 3,
      "outputs": [
        {
          "output_type": "display_data",
          "data": {
            "text/html": [
              "\n",
              "        <script src=\"https://www.gstatic.com/external_hosted/mathjax/latest/MathJax.js?config=TeX-AMS_HTML-full,Safe&delayStartupUntil=configured\"></script>\n",
              "        <script>\n",
              "          (() => {\n",
              "            const mathjax = window.MathJax;\n",
              "            mathjax.Hub.Config({\n",
              "            'tex2jax': {\n",
              "              'inlineMath': [['$', '$'], ['\\(', '\\)']],\n",
              "              'displayMath': [['$$', '$$'], ['\\[', '\\]']],\n",
              "              'processEscapes': true,\n",
              "              'processEnvironments': true,\n",
              "              'skipTags': ['script', 'noscript', 'style', 'textarea', 'code'],\n",
              "              'displayAlign': 'center',\n",
              "            },\n",
              "            'HTML-CSS': {\n",
              "              'styles': {'.MathJax_Display': {'margin': 0}},\n",
              "              'linebreaks': {'automatic': true},\n",
              "              // Disable to prevent OTF font loading, which aren't part of our\n",
              "              // distribution.\n",
              "              'imageFont': null,\n",
              "            },\n",
              "            'messageStyle': 'none'\n",
              "          });\n",
              "          mathjax.Hub.Configured();\n",
              "        })();\n",
              "        </script>\n",
              "        "
            ],
            "text/plain": [
              "<IPython.core.display.HTML object>"
            ]
          },
          "metadata": {
            "tags": []
          }
        },
        {
          "output_type": "execute_result",
          "data": {
            "text/latex": "$$\\left ( 1, \\quad \\left [ \\frac{1}{4} - \\frac{\\sqrt{7} i}{4}, \\quad \\frac{1}{4} + \\frac{\\sqrt{7} i}{4}\\right ]\\right )$$",
            "text/plain": [
              "⎛   ⎡1   √7⋅ⅈ  1   √7⋅ⅈ⎤⎞\n",
              "⎜1, ⎢─ - ────, ─ + ────⎥⎟\n",
              "⎝   ⎣4    4    4    4  ⎦⎠"
            ]
          },
          "metadata": {
            "tags": []
          },
          "execution_count": 3
        }
      ]
    },
    {
      "cell_type": "code",
      "metadata": {
        "id": "t9eOuiHYt9Jb",
        "colab_type": "code",
        "colab": {
          "base_uri": "https://localhost:8080/",
          "height": 269
        },
        "outputId": "76ee4d5c-cffd-4e46-b025-8e80fae50f7f"
      },
      "source": [
        "circle = plt.Text(re(zero), im(zero), \"O\")\n",
        "x1 = plt.Text(re(poles[0]), im(poles[0]), \"X\")\n",
        "x2 = plt.Text(re(poles[1]), im(poles[1]), \"X\")\n",
        "fig, ax = plt.subplots()\n",
        "ax.add_artist(circle)\n",
        "ax.add_artist(x1)\n",
        "ax.add_artist(x2)\n",
        "ax.set_xlim(-2,2)\n",
        "ax.set_ylim(-2,2)\n",
        "ax.set_aspect('equal')"
      ],
      "execution_count": 4,
      "outputs": [
        {
          "output_type": "display_data",
          "data": {
            "image/png": "[encoded data removed]",
            "text/plain": [
              "<Figure size 432x288 with 1 Axes>"
            ]
          },
          "metadata": {
            "tags": []
          }
        }
      ]
    },
    {
      "cell_type": "markdown",
      "metadata": {
        "id": "c45BJRYTt9Jh",
        "colab_type": "text"
      },
      "source": [
        "From State Space\n",
        "===\n",
        "\n",
        "Suppose we start with a state space system:\n",
        "    \n",
        "\\begin{align}\n",
        "\\dot x & = A x + B u \\\\\n",
        "y & = C x\n",
        "\\end{align}\n",
        "\n",
        "Call ${\\bf X}(s)$ the vector of Laplace transforms of the elements of $\\bf x$. Then\n",
        "\n",
        "\\begin{align}\n",
        "s{\\bf X}(s) & = A {\\bf X}(s) + B U(s) \\\\\n",
        "Y(s) & = C {\\bf X}(s)\n",
        "\\end{align}\n",
        "\n",
        "Then\n",
        "\n",
        "\\begin{align}\n",
        "s{\\bf X}(s) - A {\\bf X}(s) & = B U(s) \\\\\n",
        "(sI-A){\\bf X}(s) & = B U(s) \n",
        "\\end{align}\n",
        "\n",
        "or\n",
        "\n",
        "$$\n",
        "{\\bf X}(s) = (sI-A)^{-1}B U(s) \n",
        "$$\n",
        "\n",
        "Since $Y(s) = C {\\bf X}(s)$ we get\n",
        "\n",
        "$$\n",
        "Y(s) = C (sI-A)^{-1}B U(s)\n",
        "$$\n",
        "\n",
        "or \n",
        "\n",
        "$$\n",
        "T(s) = \\frac{Y(s)}{U(s)} = C (sI-A)^{-1} B.\n",
        "$$\n",
        "\n",
        "Notice the similarity between $sI-A$ and the formula we use to compute eigenvalues. \n",
        "\n",
        "The quantity $(sI-A)^{-1}$ is usually denoted by $\\Phi(s)$ is textbooks so that\n",
        "\n",
        "$$\n",
        "T(s) = C \\Phi(s) B .\n",
        "$$\n",
        "\n",
        "Example\n",
        "---\n",
        "\n",
        "Suppose \n",
        "\n",
        "\\begin{align}\n",
        "\\dot x & = \\begin{pmatrix}\n",
        "0 & 1 \\\\\n",
        "-\\frac{1}{2} & \\frac{1}{2}\n",
        "\\end{pmatrix}x + \\begin{pmatrix}\n",
        "-1 \\\\\n",
        "\\frac{1}{2}\n",
        "\\end{pmatrix}u \\\\\n",
        "y & = (-\\frac{1}{2} \\;\\; 0) x\n",
        "\\end{align}\n",
        "\n",
        "then"
      ]
    },
    {
      "cell_type": "code",
      "metadata": {
        "id": "jzyzpc_Ot9Jj",
        "colab_type": "code",
        "colab": {
          "base_uri": "https://localhost:8080/",
          "height": 78
        },
        "outputId": "8f760c3b-fb72-4391-d7c8-bb0c7061e6ba"
      },
      "source": [
        "var(\"s\")\n",
        "A = Matrix([[0,1],[-1/2,1/2]])\n",
        "B = Matrix([[-1],[1/2]])\n",
        "C = Matrix([[-1/2,0]])\n",
        "Phi = (s*eye(2)-A).inv()\n",
        "Phi"
      ],
      "execution_count": 5,
      "outputs": [
        {
          "output_type": "display_data",
          "data": {
            "text/html": [
              "\n",
              "        <script src=\"https://www.gstatic.com/external_hosted/mathjax/latest/MathJax.js?config=TeX-AMS_HTML-full,Safe&delayStartupUntil=configured\"></script>\n",
              "        <script>\n",
              "          (() => {\n",
              "            const mathjax = window.MathJax;\n",
              "            mathjax.Hub.Config({\n",
              "            'tex2jax': {\n",
              "              'inlineMath': [['$', '$'], ['\\(', '\\)']],\n",
              "              'displayMath': [['$$', '$$'], ['\\[', '\\]']],\n",
              "              'processEscapes': true,\n",
              "              'processEnvironments': true,\n",
              "              'skipTags': ['script', 'noscript', 'style', 'textarea', 'code'],\n",
              "              'displayAlign': 'center',\n",
              "            },\n",
              "            'HTML-CSS': {\n",
              "              'styles': {'.MathJax_Display': {'margin': 0}},\n",
              "              'linebreaks': {'automatic': true},\n",
              "              // Disable to prevent OTF font loading, which aren't part of our\n",
              "              // distribution.\n",
              "              'imageFont': null,\n",
              "            },\n",
              "            'messageStyle': 'none'\n",
              "          });\n",
              "          mathjax.Hub.Configured();\n",
              "        })();\n",
              "        </script>\n",
              "        "
            ],
            "text/plain": [
              "<IPython.core.display.HTML object>"
            ]
          },
          "metadata": {
            "tags": []
          }
        },
        {
          "output_type": "execute_result",
          "data": {
            "text/latex": "$$\\left[\\begin{matrix}\\frac{- 0.5 s + 0.25}{- 0.5 s \\left(s - 0.5\\right) - 0.25} & - \\frac{0.5}{- 0.5 s \\left(s - 0.5\\right) - 0.25}\\\\\\frac{0.5}{- s \\left(s - 0.5\\right) - 0.5} & - \\frac{s}{- s \\left(s - 0.5\\right) - 0.5}\\end{matrix}\\right]$$",
            "text/plain": [
              "⎡     -0.5⋅s + 0.25                -0.5          ⎤\n",
              "⎢───────────────────────  ───────────────────────⎥\n",
              "⎢-0.5⋅s⋅(s - 0.5) - 0.25  -0.5⋅s⋅(s - 0.5) - 0.25⎥\n",
              "⎢                                                ⎥\n",
              "⎢         0.5                      -s            ⎥\n",
              "⎢  ──────────────────       ──────────────────   ⎥\n",
              "⎣  -s⋅(s - 0.5) - 0.5       -s⋅(s - 0.5) - 0.5   ⎦"
            ]
          },
          "metadata": {
            "tags": []
          },
          "execution_count": 5
        }
      ]
    },
    {
      "cell_type": "code",
      "metadata": {
        "id": "D7w9Xdggt9Jo",
        "colab_type": "code",
        "colab": {
          "base_uri": "https://localhost:8080/",
          "height": 49
        },
        "outputId": "5c972cff-24a2-428d-cbe1-28dfa287f144"
      },
      "source": [
        "T = C*Phi*B\n",
        "T.simplify()\n",
        "T"
      ],
      "execution_count": 6,
      "outputs": [
        {
          "output_type": "display_data",
          "data": {
            "text/html": [
              "\n",
              "        <script src=\"https://www.gstatic.com/external_hosted/mathjax/latest/MathJax.js?config=TeX-AMS_HTML-full,Safe&delayStartupUntil=configured\"></script>\n",
              "        <script>\n",
              "          (() => {\n",
              "            const mathjax = window.MathJax;\n",
              "            mathjax.Hub.Config({\n",
              "            'tex2jax': {\n",
              "              'inlineMath': [['$', '$'], ['\\(', '\\)']],\n",
              "              'displayMath': [['$$', '$$'], ['\\[', '\\]']],\n",
              "              'processEscapes': true,\n",
              "              'processEnvironments': true,\n",
              "              'skipTags': ['script', 'noscript', 'style', 'textarea', 'code'],\n",
              "              'displayAlign': 'center',\n",
              "            },\n",
              "            'HTML-CSS': {\n",
              "              'styles': {'.MathJax_Display': {'margin': 0}},\n",
              "              'linebreaks': {'automatic': true},\n",
              "              // Disable to prevent OTF font loading, which aren't part of our\n",
              "              // distribution.\n",
              "              'imageFont': null,\n",
              "            },\n",
              "            'messageStyle': 'none'\n",
              "          });\n",
              "          mathjax.Hub.Configured();\n",
              "        })();\n",
              "        </script>\n",
              "        "
            ],
            "text/plain": [
              "<IPython.core.display.HTML object>"
            ]
          },
          "metadata": {
            "tags": []
          }
        },
        {
          "output_type": "execute_result",
          "data": {
            "text/latex": "$$\\left[\\begin{matrix}\\frac{0.25 \\left(s - 1\\right)}{0.5 s \\left(s - 0.5\\right) + 0.25}\\end{matrix}\\right]$$",
            "text/plain": [
              "⎡     0.25⋅(s - 1)     ⎤\n",
              "⎢──────────────────────⎥\n",
              "⎣0.5⋅s⋅(s - 0.5) + 0.25⎦"
            ]
          },
          "metadata": {
            "tags": []
          },
          "execution_count": 6
        }
      ]
    },
    {
      "cell_type": "markdown",
      "metadata": {
        "id": "UO4AsM_Rt9Ju",
        "colab_type": "text"
      },
      "source": [
        "Note that this is the same transfer function as we got for the system $2 \\ddot y - \\dot y + y = \\dot u - u$! This is because these are two representations for the same linear I/O system."
      ]
    },
    {
      "cell_type": "markdown",
      "metadata": {
        "id": "OdQtNwO1t9Jw",
        "colab_type": "text"
      },
      "source": [
        "Final Value Theorem\n",
        "===\n",
        "\n",
        "Remember that\n",
        "\n",
        "\\begin{align}\n",
        "\\mathcal{L}[f'(t)] & = \\int_0^\\infty e^{-st} f'(t) dt \\\\\n",
        "                   & =  s F(s) - f(0) .\n",
        "\\end{align}\n",
        "\n",
        "Now take the limit as $s \\rightarrow 0$. We get\n",
        "\n",
        "\\begin{align}\n",
        "\\int_0^\\infty f'(t) dt & = \\lim_{s \\rightarrow 0} ( s F(s) - f(0) ) \\\\\n",
        "f(\\infty) - f(0) & = \\lim_{s \\rightarrow 0} s F(s) - f(0) \\\\\n",
        "f(\\infty) & =  \\lim_{s \\rightarrow 0} s F(s)\n",
        "\\end{align}\n",
        "\n",
        "which is equivalent to saying\n",
        "\n",
        "$$\n",
        "\\lim_{t \\rightarrow \\infty} f(t)= \\lim_{s \\rightarrow 0} s F(s).\n",
        "$$\n",
        "\n",
        "This is called the final value theorem.\n",
        "\n",
        "Note:\n",
        "- Cannot have more than one pole (eigenvalue) at zero.\n",
        "- Must be stable (no poles (eigenvalue) in the right half plane).\n",
        "\n",
        "Example\n",
        "---\n",
        "\n",
        "Suppose that\n",
        "\n",
        "$$\n",
        "Y(s) = \\frac{s+4}{s(s+1)}.\n",
        "$$\n",
        "\n",
        "Then\n",
        "\n",
        "\\begin{align}\n",
        "\\lim_{s \\rightarrow 0} s Y(s) & = \\lim_{s \\rightarrow 0}  s \\frac{s+4}{s(s+1)} \\\\\n",
        " & = 4.\n",
        "\\end{align}\n",
        "\n",
        "We can check this by expanding $Y(s)$ into\n",
        "\n",
        "$$\n",
        "Y(s) = \\frac{4}{s} -\\frac{3}{s+1}.\n",
        "$$\n",
        "\n",
        "Note that $\\mathcal{L}[1] = \\frac{1}{s}$ and $\\mathcal{L}[\\frac{1}{s+1}] = e^{-t}$. Thus,\n",
        "\n",
        "$$\n",
        "y(t) = 4 - 3 e^{-t} \\rightarrow 4\n",
        "$$\n",
        "\n",
        "as $t \\rightarrow \\infty$. "
      ]
    },
    {
      "cell_type": "markdown",
      "metadata": {
        "id": "wxeMwM8Pt9Jx",
        "colab_type": "text"
      },
      "source": [
        "Step Inputs\n",
        "---\n",
        "\n",
        "The final value theorem gives you a way to check the response of a systemto the standard input $u=1$, called the step input. More exactly, the input $u$ that is zero for $t<0$ and one for $t\\geq 0$. From what we know about Laplace transforms, $U(s) = 1/s$. \n",
        "\n",
        "Then the response of a system to a step input is\n",
        "\n",
        "$$\n",
        "T(s) = \\frac{Y(s)}{U(s)}\n",
        "$$\n",
        "\n",
        "Which in this case is\n",
        "\n",
        "$$\n",
        "Y(s) = \\frac{1}{s}T(s)\n",
        "$$\n",
        "\n",
        "Example\n",
        "---\n",
        "\n",
        "Say\n",
        "\n",
        "$$\n",
        "T(s) = \\frac{s+2}{(s+1)^2}\n",
        "$$\n",
        "\n",
        "Then the response of the system $T(s)$ to a step input is\n",
        "\n",
        "$$\n",
        "Y(s) = \\frac{1}{s} \\frac{s+2}{(s+1)^2}\n",
        "$$\n",
        "\n",
        "And as $t \\rightarrow \\infty$ we get\n",
        "\n",
        "$$\n",
        "\\lim_{s \\rightarrow 0} s Y(s) = \\lim_{s \\rightarrow 0} \\frac{s+2}{(s+1)^2} = 2.\n",
        "$$"
      ]
    },
    {
      "cell_type": "markdown",
      "metadata": {
        "id": "_daI_ki5t9Jx",
        "colab_type": "text"
      },
      "source": [
        "Final Value Theorem in State Space\n",
        "===\n",
        "\n",
        "Suppose\n",
        "\n",
        "\\begin{align}\n",
        "\\dot x & = A x + B u \\\\\n",
        "y & = C x\n",
        "\\end{align}\n",
        "\n",
        "then at equilibrium\n",
        "\n",
        "$$\n",
        "0 = A x^* + B u\n",
        "$$\n",
        "\n",
        "So that, assuming $A$ is invertible, we get\n",
        "\n",
        "$$\n",
        "x^* = - A^{-1} B u\n",
        "$$\n",
        "\n",
        "and \n",
        "\n",
        "$$\n",
        "y = - C A^{-1} B u\n",
        "$$\n",
        "\n",
        "Notice that if $A$ is not invertible, we get eigenvalues equal to zero, which means that there are marginally stable equilibria. In that case, the final value depends on the initial condition.\n",
        "\n",
        "Example\n",
        "---\n",
        "\n",
        "Suppose \n",
        "\n",
        "\\begin{align}\n",
        "\\dot x & = \\begin{pmatrix}\n",
        "0 & 1 \\\\\n",
        "-1 & -2\n",
        "\\end{pmatrix}x + \\begin{pmatrix}\n",
        "0 \\\\\n",
        "1\n",
        "\\end{pmatrix}u \\\\\n",
        "y & = (2\\;\\;1) x\n",
        "\\end{align}\n",
        "\n",
        "Then \n",
        "\n",
        "$$\n",
        "A^{-1} = \\begin{pmatrix}\n",
        "-2 & -1 \\\\\n",
        "1 & 0 \n",
        "\\end{pmatrix}\n",
        "$$\n",
        "\n",
        "and\n",
        "\n",
        "$$\n",
        "y \\rightarrow - C A^{-1} B = 2\n",
        "$$\n",
        "\n",
        "Note that the above two examples actually come from the same example since, as you can check,\n",
        "\n",
        "$$\n",
        "B(sI-A)^{-1}C = \\frac{s+2}{(s+1)^2}\n",
        "$$"
      ]
    },
    {
      "cell_type": "code",
      "metadata": {
        "id": "4_jorX6vt9Jz",
        "colab_type": "code",
        "colab": {
          "base_uri": "https://localhost:8080/",
          "height": 297
        },
        "outputId": "b39b1e5a-201d-4ea6-ae76-055327e51e3a"
      },
      "source": [
        "var(\"t tau\")\n",
        "A = Matrix([[0,1],[-1,-2]])\n",
        "B = Matrix([[0],[1]])\n",
        "C = Matrix([[2,1]])\n",
        "x0 = Matrix([[0],[0]])\n",
        "u = 1\n",
        "y = C*(exp(A*t)*x0 + integrate(exp(A*(t-tau))*B*u,(tau,0,t)))\n",
        "tvals = np.linspace(0,10,100)\n",
        "f = lambdify(t,y[0], modules=['numpy'])\n",
        "plt.plot(tvals,f(tvals));\n",
        "plt.xlabel(\"$t$\")\n",
        "plt.ylabel(\"$y(t)$\")\n",
        "plt.title(\"Step response of system with final value 2\");"
      ],
      "execution_count": 7,
      "outputs": [
        {
          "output_type": "display_data",
          "data": {
            "image/png": "[encoded data removed]",
            "text/plain": [
              "<Figure size 432x288 with 1 Axes>"
            ]
          },
          "metadata": {
            "tags": []
          }
        }
      ]
    },
    {
      "cell_type": "markdown",
      "metadata": {
        "id": "IJ_wS7vzt9J4",
        "colab_type": "text"
      },
      "source": [
        "Summary\n",
        "===\n",
        "\n",
        "- Laplace transforms of simple functions are easy to compute\n",
        "- Transfer functions account for input and output in the *frequency domain*\n",
        "- Can convert state space representations into transfer functions\n",
        "- Final value of a system can be found with either the transfer function or state space"
      ]
    }
  ]
}