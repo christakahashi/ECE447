{
 "cells": [
  {
   "cell_type": "markdown",
   "metadata": {},
   "source": [
    "ECE 447: Linearization and Eigenvalues\n",
    "===\n",
    "What nonlinear systems look like locally.\n",
    "\n",
    "Prof. Eric Klavins\n",
    "\n",
    "&copy; 2019, University of Washington"
   ]
  },
  {
   "cell_type": "code",
   "execution_count": 2,
   "metadata": {
    "collapsed": true
   },
   "outputs": [],
   "source": [
    "import numpy as np\n",
    "import scipy.integrate as spi\n",
    "import matplotlib.pyplot as plt\n",
    "import math\n",
    "%matplotlib inline"
   ]
  },
  {
   "cell_type": "markdown",
   "metadata": {},
   "source": [
    "Scalar Systems\n",
    "===\n",
    "\n",
    "Start with a nonlinear system\n",
    "\n",
    "$$\n",
    "\\dot x = f(x)\n",
    "$$\n",
    "\n",
    "where $x$ is a scalar function of t. Using the [Taylor Series](https://en.wikipedia.org/wiki/Taylor_series) we can expand $f$ near zero as follows:\n",
    "\n",
    "$$\n",
    "f(x) \\approx f(0) + f'(0)\\;x + \\mathit{H.O.T.}\n",
    "$$\n",
    "\n",
    "Here, $f'(0)$ is the *linear* part and *H.O.T.* stands for *higher order terms*, which we don't care about right now (because we are linearizing).\n",
    "\n",
    "**Example**: Suppose $f(x) = \\sin(x)$. Then $f(0)=0$ and \n",
    "\n",
    "$$\n",
    "f'(0) = \\cos(0) = 1\n",
    "$$\n",
    "\n",
    "Thus, \n",
    "\n",
    "$$\n",
    "\\sin(x) \\approx 0 + x + \\mathit{H.O.T.}\n",
    "$$\n",
    "\n",
    "We can visualize this with a plot."
   ]
  },
  {
   "cell_type": "code",
   "execution_count": 29,
   "metadata": {},
   "outputs": [
    {
     "data": {
      "image/png": "[encoded data removed]",
      "text/plain": [
       "<matplotlib.figure.Figure at 0x11e488e80>"
      ]
     },
     "metadata": {},
     "output_type": "display_data"
    }
   ],
   "source": [
    "x = np.linspace(-np.pi,np.pi,100);\n",
    "plt.plot(x,np.sin(x),label=\"$\\sin(x)$\")\n",
    "plt.plot(x,x,label=\"$x$\")\n",
    "plt.xlabel('$x$')\n",
    "plt.ylabel('$\\sin(x), \\; x$')\n",
    "plt.title(\"Linearization of $\\sin \\; x$ near 0\")\n",
    "plt.ylim([-1.1, 1.1])\n",
    "plt.legend();"
   ]
  },
  {
   "cell_type": "markdown",
   "metadata": {},
   "source": [
    "Vector Valued Systems\n",
    "===\n",
    "\n",
    "Now suppose that $x \\in \\mathbb{R}^n$ is a vector and $f$ is a vector valued function. Then,\n",
    "\n",
    "$$\n",
    "f(x) = 0 + \\left.\\frac{\\partial f}{\\partial x}\\right|_{x=0} + \\mathit{H.O.T.}\n",
    "$$\n",
    "\n",
    "where the partial derivative of $f$ is defined by:\n",
    "\n",
    "$$\n",
    "\\frac{\\partial f}{\\partial x} = \\left(\n",
    "\\begin{array}{ccc}\n",
    "  \\frac{\\partial f_1}{\\partial x_1} & \\dots & \\frac{\\partial f_1}{\\partial x_n} \\\\\n",
    "  \\vdots &  \\; & \\vdots \\\\\n",
    "  \\frac{\\partial f_n}{\\partial x_1} & \\dots & \\frac{\\partial f_n}{\\partial x_n} \n",
    "\\end{array}\n",
    "\\right )\n",
    "$$\n",
    "\n",
    "Evaluating the partial derivative at $x=0$ gives us the *Jacobian* matrix, which is in control systems is usually evaluated a $A$.\n",
    "\n",
    "**Example: The Pendulum**: Suppose $g/l = b = 1$ in the pendulum model. Then\n",
    "\n",
    "$$\n",
    "\\dot{\\left (\n",
    "\\begin{array}{c} \n",
    "\\theta \\\\ \n",
    "\\omega\n",
    "\\end{array} \\right )} = \n",
    "\\left (\n",
    "\\begin{array}{c} \n",
    "\\omega \\\\ \n",
    "\\sin\\theta-\\omega\n",
    "\\end{array} \\right )\n",
    "$$\n",
    "\n",
    "describes the nonlinear dynamics. To linearize the system around $\\theta = 0$ and $\\omega = 0$, we do\n",
    "\n",
    "$$\n",
    "\\frac{\\partial f}{\\partial x} = \\left.\\left(\n",
    "\\begin{array}{cc}\n",
    "  \\frac{\\partial \\omega}{\\partial \\theta} & \n",
    "  \\frac{\\partial \\omega}{\\partial \\omega} \\\\\n",
    "  \\frac{\\partial (\\sin \\theta - \\omega )}{\\partial \\theta} &\n",
    "  \\frac{\\partial (\\sin \\theta - \\omega )}{\\partial \\omega} \n",
    "\\end{array}\n",
    "\\right )\\right|_{\\theta=0,\\omega=0}\n",
    "=\n",
    "\\left.\\left(\n",
    "\\begin{array}{cc}\n",
    "  0 & 1 \\\\\n",
    "  \\cos\\theta & -1\n",
    "\\end{array}\n",
    "\\right )\\right|_{\\theta=0,\\omega=0}\n",
    "=\n",
    "\\left(\n",
    "\\begin{array}{cc}\n",
    "  0 & 1 \\\\\n",
    "  1 & -1\n",
    "\\end{array}\n",
    "\\right)\n",
    "$$\n",
    "\n",
    "So, near $0$ the system looks like\n",
    "\n",
    "$$\n",
    "\\left (\n",
    "\\begin{array}{c} \n",
    "\\dot\\theta \\\\ \n",
    "\\dot\\omega\n",
    "\\end{array} \\right )\n",
    "\\approx\n",
    "\\left(\n",
    "\\begin{array}{cc}\n",
    "  0 & 1 \\\\\n",
    "  1 & -1\n",
    "\\end{array}\n",
    "\\right)\n",
    "\\left (\n",
    "\\begin{array}{c} \n",
    "\\theta \\\\ \n",
    "\\omega\n",
    "\\end{array} \\right )\n",
    "=\n",
    "\\left (\n",
    "\\begin{array}{c} \n",
    "\\omega \\\\ \n",
    "\\theta - \\omega\n",
    "\\end{array} \\right )\n",
    "$$\n",
    "\n",
    "We can visualize this vector field with `quiver`."
   ]
  },
  {
   "cell_type": "code",
   "execution_count": 61,
   "metadata": {},
   "outputs": [
    {
     "data": {
      "image/png": "[encoded data removed]",
      "text/plain": [
       "<matplotlib.figure.Figure at 0x11e4b1630>"
      ]
     },
     "metadata": {},
     "output_type": "display_data"
    }
   ],
   "source": [
    "theta = np.linspace(-1, 1, 9)\n",
    "omega = np.linspace(-1, 1, 9)\n",
    "Theta,Omega = np.meshgrid(theta,omega)\n",
    "u = Omega\n",
    "v = Theta - Omega\n",
    "plt.rcParams['figure.figsize'] = [5,5]\n",
    "plt.quiver(Theta, Omega, u, v, color='r')\n",
    "plt.xlabel('\\\\$theta$')\n",
    "plt.ylabel('$\\omega$')\n",
    "plt.title(\"Approximation of Pendulum Dynamics Near Zero\");"
   ]
  },
  {
   "cell_type": "markdown",
   "metadata": {},
   "source": [
    "We will not show it mathematically, but is a beautiful theorem in mathematics that for any $\\varepsilon$, there exists a $\\delta$ such that if $|x| < \\delta$ then the difference between $f$ and its linearization is less than $\\varepsilon$. \n",
    "\n",
    "Said differently, the linearization approximates $f$ *locally*."
   ]
  },
  {
   "cell_type": "markdown",
   "metadata": {},
   "source": [
    "Changes of Coordinates\n",
    "===\n",
    "\n",
    "At other equilibrium points it is convenient to change coordinates, so that we are always examining the point zero. To do this:\n",
    "\n",
    "- Say $x^*$ is an equilibrium point.\n",
    "- Define $x_e = x - x^*$. \n",
    "\n",
    "Then,\n",
    "\n",
    "$$\n",
    "\\dot x_e = \\dot x = f(x) = f(x_e+x^*)\n",
    "$$\n",
    "\n",
    "So we now have an equation for the change of $x_e$ in terms of $x_e$ itself, and the constant $x^*$.\n",
    "\n",
    "**Example**: For example, lets look at the behavior of the pendulum model at $(\\theta,\\omega) = (\\pi,0)$. In this case, we linearize the function\n",
    "\n",
    "$$\n",
    "f \\left (\n",
    "\\begin{array}{c} \n",
    "\\theta_e + \\pi \\\\ \n",
    "\\omega_e + 0\n",
    "\\end{array} \\right ) = \n",
    "\\left (\n",
    "\\begin{array}{c} \n",
    "\\omega_e \\\\ \n",
    "\\sin(\\theta_e+\\pi)-\\omega_e\n",
    "\\end{array} \\right )\n",
    "$$\n",
    "\n",
    "The $A$ matrix is then\n",
    "\n",
    "\\begin{align}\n",
    "\\frac{\\partial f}{\\partial x} & = \\left.\\left(\n",
    "\\begin{array}{cc}\n",
    "  \\frac{\\partial \\omega_e}{\\partial \\theta_e} & \n",
    "  \\frac{\\partial \\omega_e}{\\partial \\omega_e} \\\\\n",
    "  \\frac{\\partial \\sin (\\theta_e+\\pi) - \\omega_e}{\\partial \\theta_e} &\n",
    "  \\frac{\\partial \\sin (\\theta_e+\\pi) - \\omega_e}{\\partial \\omega_e} \n",
    "\\end{array}\n",
    "\\right )\\right|_{\\theta_e=0,\\omega_e=0} \\\\\n",
    "& =\n",
    "\\left.\\left(\n",
    "\\begin{array}{cc}\n",
    "  0 & 1 \\\\\n",
    "  \\cos(\\theta_e+\\pi) & -1\n",
    "\\end{array}\n",
    "\\right )\\right|_{\\theta_e=0,\\omega_e=0} \\\\\n",
    "& =\n",
    "\\left(\n",
    "\\begin{array}{cc}\n",
    "  0 & 1 \\\\\n",
    "  -1 & -1\n",
    "\\end{array}\n",
    "\\right).\n",
    "\\end{align}\n",
    "\n",
    "So, near $0$ *in the new coordinate system*, the system looks like\n",
    "\n",
    "\\begin{align}\n",
    "\\left (\n",
    "\\begin{array}{c} \n",
    "\\dot\\theta_e \\\\ \n",
    "\\dot\\omega_e\n",
    "\\end{array} \\right )\n",
    "& \\approx\n",
    "\\left(\n",
    "\\begin{array}{cc}\n",
    "  0 & 1 \\\\\n",
    "  -1 & -1\n",
    "\\end{array}\n",
    "\\right)\n",
    "\\left (\n",
    "\\begin{array}{c} \n",
    "\\theta_e \\\\ \n",
    "\\omega_e\n",
    "\\end{array} \\right ) \\\\\n",
    "& =\n",
    "\\left (\n",
    "\\begin{array}{c} \n",
    "\\omega_e \\\\ \n",
    "-\\theta_e - \\omega_e\n",
    "\\end{array} \\right ).\n",
    "\\end{align}\n",
    "\n",
    "We can visualize this vector field with `quiver` as well."
   ]
  },
  {
   "cell_type": "code",
   "execution_count": 63,
   "metadata": {},
   "outputs": [
    {
     "data": {
      "image/png": "[encoded data removed]",
      "text/plain": [
       "<matplotlib.figure.Figure at 0x11d0766a0>"
      ]
     },
     "metadata": {},
     "output_type": "display_data"
    }
   ],
   "source": [
    "theta = np.linspace(-1, 1, 9)\n",
    "omega = np.linspace(-1, 1, 9)\n",
    "Theta,Omega = np.meshgrid(theta,omega)\n",
    "u = Omega\n",
    "v = -Theta - Omega\n",
    "plt.rcParams['figure.figsize'] = [5,5]\n",
    "plt.quiver(Theta, Omega, u, v, color='r')\n",
    "plt.xlabel('$\\\\theta$')\n",
    "plt.ylabel('$\\omega$')\n",
    "plt.title(\"Approximation of Pendulum Dynamics Near $x_e=0,0$\");"
   ]
  },
  {
   "cell_type": "markdown",
   "metadata": {},
   "source": [
    "Linear Systems and Eigenvalues\n",
    "===\n",
    "\n",
    "Note that once you linearize a system, you end up with $f(x) = Ax$ for some matrix $A \\in \\mathbb{R}^{n\\times n}$. The dynamics of a linear system are thus\n",
    "\n",
    "$$\n",
    "\\dot x = A x\n",
    "$$\n",
    "\n",
    "Here, we will try to characterize *everything* that could happen with two dimensional systems, that is, with $x \\in \\mathbb{R}^{2 \\times 2}$. It turns out that the *eigenvalues* of $A$ tell us almost everything. Note that eigenvalues are also referred to as *poles$.\n",
    "\n",
    "Recall that an eigenvalue is a solution to the equation\n",
    "\n",
    "$$\n",
    "A x = \\lambda x\n",
    "$$\n",
    "\n",
    "where $\\lambda$ is the *eigenvalue* and $x$ is a non-zero *eigenvector*. This can be written\n",
    "\n",
    "$$\n",
    "A x = \\lambda I x\n",
    "$$\n",
    "\n",
    "or\n",
    "\n",
    "$$\n",
    "(\\lambda I - A)x = 0\n",
    "$$\n",
    "\n",
    "which implies that the\n",
    "\n",
    "$$\n",
    "\\mathrm{det}(\\lambda I - A) = 0.\n",
    "$$\n",
    "\n",
    "Therefore, to find the eigenvalues of $A$, we have to solve the above equation for $\\lambda$. \n",
    "\n",
    "**Example:** Suppose\n",
    "$$\n",
    "A = \\left(\\begin{array}{cc}\n",
    "0 & 1 \\\\\n",
    "1 & -1\n",
    "\\end{array}\\right)\n",
    "$$\n",
    "\n",
    "then\n",
    "\n",
    "\\begin{align}\n",
    "\\mathrm{det}(\\lambda I - A) \n",
    "& = \\left|\n",
    "\\left(\\begin{array}{cc}\n",
    "\\lambda & 0 \\\\\n",
    "0 & \\lambda\n",
    "\\end{array}\\right) -\n",
    "\\left(\\begin{array}{cc}\n",
    "0 & 1 \\\\\n",
    "1 & -1\n",
    "\\end{array}\\right)\n",
    "\\right| \\\\\n",
    "& =\\left|\n",
    "\\begin{array}{cc}\n",
    "\\lambda & -1 \\\\\n",
    "-1 & \\lambda+1\n",
    "\\end{array}\n",
    "\\right| \\\\\n",
    "& =\n",
    "\\lambda(\\lambda+1)-1 \\\\\n",
    "& = \n",
    "\\lambda^2 + \\lambda-1\n",
    "\\end{align}\n",
    "\n",
    "Hence, \n",
    "\n",
    "$$\n",
    "\\lambda = \\frac{-1\\pm\\sqrt{5}}{2}.\n",
    "$$\n",
    "\n",
    "or $-1.62$ and $0.62$. \n",
    "\n",
    "The eigenvectors of a system can be found with\n",
    "\n",
    "$$\n",
    "A x = \\lambda x\n",
    "$$\n",
    "\n",
    "In this case, we have\n",
    "\n",
    "$$\n",
    "\\begin{pmatrix}0&1\\\\1&-1\\end{pmatrix}\n",
    "\\begin{pmatrix}x_1\\\\x_2\\end{pmatrix} = \n",
    "\\lambda\n",
    "\\begin{pmatrix}x_1\\\\x_2\\end{pmatrix}\n",
    "$$\n",
    "\n",
    "Which amounts to $x_1 = \\lambda x_1$ and $x_1 - x_2 = \\lambda x_2$. Choosing $x_1 = 1$ we use the first equation to get $x_2 = \\lambda$. \n",
    "\n",
    "So the first eigenvector can be chosen to be\n",
    "\n",
    "$$\n",
    "{\\bf x}_1 = \\begin{pmatrix}1\\\\\\frac{-1-\\sqrt{5}}{2}\\end{pmatrix} \\approx \n",
    "\\begin{pmatrix}1\\\\-1.62\\end{pmatrix}\n",
    "$$\n",
    "\n",
    "And similarly, the second can be chosen to be\n",
    "$$\n",
    "{\\bf x}_2 = \\begin{pmatrix}1\\\\\\frac{-1+\\sqrt{5}}{2}\\end{pmatrix} \\approx \n",
    "\\begin{pmatrix}1\\\\0.62\\end{pmatrix}.\n",
    "$$\n",
    "\n",
    "Knowing the *eigenstructure* of a system makes it easy to draw a cartoon of the phase vector field if the eigenvalues are real. This is because for an eigenvector x, $\\dot x$ is just a scaled value of $x$: \n",
    "\n",
    "$$\n",
    "\\dot x = \\lambda x.\n",
    "$$\n",
    "\n",
    "**Example:** Draw the vector field for $\\dot x = A x$ when \n",
    "$$\n",
    "A =\\begin{pmatrix}0&1\\\\1&-1\\end{pmatrix}.\n",
    "$$\n",
    "\n",
    "- First draw eigenvector subspaces. This means drawing $\\lambda x$ where $x$ is an eigenvector for all $\\lambda \\in \\mathbb{R}$. \n",
    "- Second, draw $\\dot x$ on the subspaces.\n",
    "- Fill in the rest."
   ]
  },
  {
   "cell_type": "code",
   "execution_count": 159,
   "metadata": {},
   "outputs": [
    {
     "data": {
      "image/png": "[encoded data removed]",
      "text/plain": [
       "<matplotlib.figure.Figure at 0x1246f7160>"
      ]
     },
     "metadata": {},
     "output_type": "display_data"
    }
   ],
   "source": [
    "q=np.linspace(-2,2,10)\n",
    "a=(-1-np.sqrt(5))/2\n",
    "b=(-1+np.sqrt(5))/2\n",
    "\n",
    "theta = np.linspace(-2, 2, 8)\n",
    "omega = np.linspace(-3, 3, 8)\n",
    "Theta,Omega = np.meshgrid(theta,omega)\n",
    "u = Omega\n",
    "v = Theta - Omega\n",
    "plt.rcParams['figure.figsize'] = [5,5]\n",
    "plt.quiver(Theta, Omega, u, v, color='r',angles='xy',scale_units='xy')\n",
    "\n",
    "plt.plot(q,a*q)\n",
    "plt.plot(q,b*q)\n",
    "plt.quiver([1,-1,1,-1],[a,-a,b,-b],[-1,1,1,-1],[-a,a,b,-b],\n",
    "           scale=2,angles='xy',scale_units='xy');\n",
    "\n",
    "plt.xlabel('$theta$')\n",
    "plt.ylabel('$omega$')\n",
    "plt.title(\"Vector field with eigenvectors overlaid\");"
   ]
  },
  {
   "cell_type": "markdown",
   "metadata": {},
   "source": [
    "Computing Eigenvalues Symbolically\n",
    "===\n",
    "\n",
    "Python can do symbolic math using the [SymPy](https://docs.sympy.org/latest/tutorial/index.html) library. For example, to get the eigenvalues of $A$ we do:"
   ]
  },
  {
   "cell_type": "code",
   "execution_count": 174,
   "metadata": {},
   "outputs": [
    {
     "data": {
      "text/plain": [
       "(-sqrt(5)/2 - 1/2, -1/2 + sqrt(5)/2)"
      ]
     },
     "execution_count": 174,
     "metadata": {},
     "output_type": "execute_result"
    }
   ],
   "source": [
    "from sympy import *\n",
    "\n",
    "A = Matrix([[0, 1], [1,-1]])\n",
    "lam1,lam2=A.eigenvals()\n",
    "lam1,lam2"
   ]
  },
  {
   "cell_type": "markdown",
   "metadata": {},
   "source": [
    "Note that `lam1` and `lam2` are *symbolic expressions*. To get numerical values from them, use the `N` method."
   ]
  },
  {
   "cell_type": "code",
   "execution_count": 177,
   "metadata": {},
   "outputs": [
    {
     "data": {
      "text/plain": [
       "(-1.61803398874989, 0.618033988749895)"
      ]
     },
     "execution_count": 177,
     "metadata": {},
     "output_type": "execute_result"
    }
   ],
   "source": [
    "N(lam1),N(lam2)"
   ]
  },
  {
   "cell_type": "markdown",
   "metadata": {},
   "source": [
    "You can also get the eigenvectors. The method provided returns a list of tuples of the form\n",
    "\n",
    "    (eigenvalue:algebraic multiplicity, [eigenvectors])."
   ]
  },
  {
   "cell_type": "code",
   "execution_count": 169,
   "metadata": {},
   "outputs": [
    {
     "data": {
      "text/plain": [
       "[(-1/2 + sqrt(5)/2, 1, [Matrix([\n",
       "   [-1/(-sqrt(5)/2 + 1/2)],\n",
       "   [                    1]])]), (-sqrt(5)/2 - 1/2, 1, [Matrix([\n",
       "   [-1/(1/2 + sqrt(5)/2)],\n",
       "   [                   1]])])]"
      ]
     },
     "execution_count": 169,
     "metadata": {},
     "output_type": "execute_result"
    }
   ],
   "source": [
    "A.eigenvects()"
   ]
  },
  {
   "cell_type": "markdown",
   "metadata": {},
   "source": [
    "A somewhat easier way to see the eigenvalues is to us *diagonalization*, which puts the eigenvectors as the columns of a matrix:"
   ]
  },
  {
   "cell_type": "code",
   "execution_count": 185,
   "metadata": {},
   "outputs": [
    {
     "data": {
      "text/plain": [
       "Matrix([\n",
       "[-2/(-sqrt(5) + 1), -2/(1 + sqrt(5))],\n",
       "[                1,                1]])"
      ]
     },
     "execution_count": 185,
     "metadata": {},
     "output_type": "execute_result"
    }
   ],
   "source": [
    "P, D = A.diagonalize()\n",
    "P"
   ]
  },
  {
   "cell_type": "markdown",
   "metadata": {},
   "source": [
    "We can pick off the eigenvectors from `P` using the `row` and `col` operators on matricies."
   ]
  },
  {
   "cell_type": "code",
   "execution_count": 201,
   "metadata": {
    "collapsed": true
   },
   "outputs": [],
   "source": [
    "x1=P.col(0)\n",
    "x2=P.col(1)"
   ]
  },
  {
   "cell_type": "markdown",
   "metadata": {},
   "source": [
    "Notice that SymPy is also includes imaginary numbers. So you can get the eigenvalues of the more interesting spiral matrix from the pendulum example too"
   ]
  },
  {
   "cell_type": "code",
   "execution_count": 205,
   "metadata": {},
   "outputs": [
    {
     "data": {
      "text/plain": [
       "(-1/2 - sqrt(3)*I/2, -1/2 + sqrt(3)*I/2)"
      ]
     },
     "execution_count": 205,
     "metadata": {},
     "output_type": "execute_result"
    }
   ],
   "source": [
    "A = Matrix([[0, 1], [-1,-1]])\n",
    "lam1,lam2=A.eigenvals()\n",
    "lam1,lam2"
   ]
  },
  {
   "cell_type": "code",
   "execution_count": 217,
   "metadata": {},
   "outputs": [
    {
     "name": "stdout",
     "output_type": "stream",
     "text": [
      "-1/2\n",
      "-sqrt(3)/2\n",
      "1\n",
      "-1/2 + sqrt(3)*I/2\n"
     ]
    }
   ],
   "source": [
    "print(re(lam1))\n",
    "print(im(lam1))\n",
    "print(abs(lam1))\n",
    "print(conjugate(lam1))"
   ]
  },
  {
   "cell_type": "markdown",
   "metadata": {},
   "source": [
    "We will explore the use of SymPy gradually throughout the quarter. For now, you might consider following the above link and reading about how it works."
   ]
  }
 ],
 "metadata": {
  "kernelspec": {
   "display_name": "Python 3",
   "language": "python",
   "name": "python3"
  },
  "language_info": {
   "codemirror_mode": {
    "name": "ipython",
    "version": 3
   },
   "file_extension": ".py",
   "mimetype": "text/x-python",
   "name": "python",
   "nbconvert_exporter": "python",
   "pygments_lexer": "ipython3",
   "version": "3.6.1"
  }
 },
 "nbformat": 4,
 "nbformat_minor": 2
}
