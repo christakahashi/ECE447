{
  "nbformat": 4,
  "nbformat_minor": 0,
  "metadata": {
    "kernelspec": {
      "display_name": "Python 3",
      "language": "python",
      "name": "python3"
    },
    "language_info": {
      "codemirror_mode": {
        "name": "ipython",
        "version": 3
      },
      "file_extension": ".py",
      "mimetype": "text/x-python",
      "name": "python",
      "nbconvert_exporter": "python",
      "pygments_lexer": "ipython3",
      "version": "3.6.1"
    },
    "colab": {
      "name": "discrete.ipynb",
      "provenance": [],
      "include_colab_link": true
    }
  },
  "cells": [
    {
      "cell_type": "markdown",
      "metadata": {
        "id": "view-in-github",
        "colab_type": "text"
      },
      "source": [
        "<a href=\"https://colab.research.google.com/github/christakahashi/ECE447/blob/master/lectures/discrete.ipynb\" target=\"_parent\"><img src=\"https://colab.research.google.com/assets/colab-badge.svg\" alt=\"Open In Colab\"/></a>"
      ]
    },
    {
      "cell_type": "markdown",
      "metadata": {
        "heading_collapsed": true,
        "id": "HnzYiNjjLwXC",
        "colab_type": "text"
      },
      "source": [
        "# ECE447: Discrete Time Control\n",
        "\n",
        "Updated by Chris Takahashi 2020\n",
        "\n",
        "Eric Klavins copyright &copy; 2019, University of Washington"
      ]
    },
    {
      "cell_type": "markdown",
      "metadata": {
        "heading_collapsed": true,
        "id": "VuSQWn9XLwXG",
        "colab_type": "text"
      },
      "source": [
        "# Init Code"
      ]
    },
    {
      "cell_type": "code",
      "metadata": {
        "id": "x83Z4UoIWT2q",
        "colab_type": "code",
        "outputId": "0cb01345-9ea3-4174-dffb-9462a966a8f9",
        "colab": {
          "base_uri": "https://localhost:8080/",
          "height": 371
        }
      },
      "source": [
        "!pip install control"
      ],
      "execution_count": 1,
      "outputs": [
        {
          "output_type": "stream",
          "text": [
            "Collecting control\n",
            "\u001b[?25l  Downloading https://files.pythonhosted.org/packages/e8/b0/32a903138505dd4ea523f8a3fc156c4272aa58b10100ef24ff74ced2fae8/control-0.8.3.tar.gz (249kB)\n",
            "\u001b[K     |████████████████████████████████| 256kB 2.8MB/s \n",
            "\u001b[?25hRequirement already satisfied: numpy in /usr/local/lib/python3.6/dist-packages (from control) (1.18.4)\n",
            "Requirement already satisfied: scipy in /usr/local/lib/python3.6/dist-packages (from control) (1.4.1)\n",
            "Requirement already satisfied: matplotlib in /usr/local/lib/python3.6/dist-packages (from control) (3.2.1)\n",
            "Requirement already satisfied: pyparsing!=2.0.4,!=2.1.2,!=2.1.6,>=2.0.1 in /usr/local/lib/python3.6/dist-packages (from matplotlib->control) (2.4.7)\n",
            "Requirement already satisfied: kiwisolver>=1.0.1 in /usr/local/lib/python3.6/dist-packages (from matplotlib->control) (1.2.0)\n",
            "Requirement already satisfied: cycler>=0.10 in /usr/local/lib/python3.6/dist-packages (from matplotlib->control) (0.10.0)\n",
            "Requirement already satisfied: python-dateutil>=2.1 in /usr/local/lib/python3.6/dist-packages (from matplotlib->control) (2.8.1)\n",
            "Requirement already satisfied: six in /usr/local/lib/python3.6/dist-packages (from cycler>=0.10->matplotlib->control) (1.12.0)\n",
            "Building wheels for collected packages: control\n",
            "  Building wheel for control (setup.py) ... \u001b[?25l\u001b[?25hdone\n",
            "  Created wheel for control: filename=control-0.8.3-py2.py3-none-any.whl size=260982 sha256=e8a800bdecb6d7e2d81c9db16c739009005f59ad474c7f9c627ba8aff2985d8e\n",
            "  Stored in directory: /root/.cache/pip/wheels/c2/d9/cc/90b28cb139a6320a3af2285428b6da87eee8d8920c78bb0223\n",
            "Successfully built control\n",
            "Installing collected packages: control\n",
            "Successfully installed control-0.8.3\n"
          ],
          "name": "stdout"
        }
      ]
    },
    {
      "cell_type": "code",
      "metadata": {
        "hidden": true,
        "id": "p6BlSSagLwXI",
        "colab_type": "code",
        "colab": {}
      },
      "source": [
        "import numpy as np\n",
        "import scipy.integrate as spi\n",
        "import scipy.linalg as spl\n",
        "import matplotlib.pyplot as plt\n",
        "import matplotlib.patches as patches\n",
        "from sympy import * \n",
        "from control import * \n",
        "\n",
        "%matplotlib inline\n",
        "#comment out for light mode\n",
        "plt.style.use('dark_background')\n",
        "\n",
        "try: \n",
        "  import google.colab #test for colab\n",
        "  import IPython\n",
        "  def setup_typeset():\n",
        "    \"\"\"MathJax initialization for the current cell.\n",
        "    \n",
        "    This installs and configures MathJax for the current output.\n",
        "    \"\"\"\n",
        "    IPython.display.display(IPython.display.HTML('''\n",
        "        <script src=\"https://www.gstatic.com/external_hosted/mathjax/latest/MathJax.js?config=TeX-AMS_HTML-full,Safe&delayStartupUntil=configured\"></script>\n",
        "        <script>\n",
        "          (() => {\n",
        "            const mathjax = window.MathJax;\n",
        "            mathjax.Hub.Config({\n",
        "            'tex2jax': {\n",
        "              'inlineMath': [['$', '$'], ['\\\\(', '\\\\)']],\n",
        "              'displayMath': [['$$', '$$'], ['\\\\[', '\\\\]']],\n",
        "              'processEscapes': true,\n",
        "              'processEnvironments': true,\n",
        "              'skipTags': ['script', 'noscript', 'style', 'textarea', 'code'],\n",
        "              'displayAlign': 'center',\n",
        "            },\n",
        "            'HTML-CSS': {\n",
        "              'styles': {'.MathJax_Display': {'margin': 0}},\n",
        "              'linebreaks': {'automatic': true},\n",
        "              // Disable to prevent OTF font loading, which aren't part of our\n",
        "              // distribution.\n",
        "              'imageFont': null,\n",
        "            },\n",
        "            'messageStyle': 'none'\n",
        "          });\n",
        "          mathjax.Hub.Configured();\n",
        "        })();\n",
        "        </script>\n",
        "        '''))\n",
        "  def custom_latex_printer(exp,**options):\n",
        "      setup_typeset()\n",
        "      return printing.latex(exp,**options)\n",
        "  init_printing(use_latex=\"mathjax\",latex_printer=custom_latex_printer)\n",
        "except:\n",
        "  init_printing(use_latex='mathjax')\n",
        " "
      ],
      "execution_count": 0,
      "outputs": []
    },
    {
      "cell_type": "markdown",
      "metadata": {
        "id": "p1fgWr2LLwXZ",
        "colab_type": "text"
      },
      "source": [
        "# Effects of Time Discretization"
      ]
    },
    {
      "cell_type": "code",
      "metadata": {
        "id": "RRSBYlJNLwXa",
        "colab_type": "code",
        "outputId": "7cc690d1-6417-4331-8be5-74a8de054f0a",
        "colab": {
          "base_uri": "https://localhost:8080/",
          "height": 621
        }
      },
      "source": [
        "# Simulation parameters\n",
        "Kp = 1\n",
        "Ki = 0.5\n",
        "r = 10\n",
        "kf = 0.5\n",
        "  \n",
        "# Simulation / plotting method\n",
        "def sim_car(ax,dt) :\n",
        "       \n",
        "    # Returns a function for odeint using the given u\n",
        "    def make_f(u):\n",
        "        def f(X,t):\n",
        "            return -kf*X + u\n",
        "        return f\n",
        "\n",
        "    # Arrays to store the trajectory\n",
        "    X = np.array([])\n",
        "    t = np.array([])\n",
        "    u = np.array([])\n",
        "\n",
        "    # Initial state\n",
        "    T = 0 # Time\n",
        "    x = 0 # Speed\n",
        "    z = 0 # Integrator for PI\n",
        "\n",
        "    # Initial error\n",
        "    e = r - x\n",
        "\n",
        "\n",
        "    # Main loop\n",
        "    while T < 40:\n",
        "        \n",
        "        # compute u_i\n",
        "        control = Kp*e + Ki*z\n",
        "                \n",
        "        # compute x_{k+1} and z_{k+1}\n",
        "        tvals = np.linspace(T,T+dt,40)\n",
        "        Xnew = spi.odeint(make_f(control),x,tvals)        \n",
        "        z = z + dt*e\n",
        "        \n",
        "        # store trajectory\n",
        "        t = np.append(t,tvals)        \n",
        "        X = np.append(X,Xnew)\n",
        "        u = np.append(u,control*np.ones(40))\n",
        "        \n",
        "        # get ready for next iteration\n",
        "        x = Xnew[-1][0]\n",
        "        e = r - x\n",
        "        T = T + dt   \n",
        "        \n",
        "    # plot trajectories\n",
        "    ax.plot(t,X,label=\"speed\");\n",
        "    ax.step(t,u,label=\"throttle\");\n",
        "    ax.set_xlabel(\"time\")\n",
        "    ax.set_title(\"PI Control with dt = %.2f\" % dt)\n",
        "    ax.legend();        \n",
        "\n",
        "fig,ax = plt.subplots(2,2,figsize=(16,10)) \n",
        "\n",
        "sim_car(ax[0,0], 0.10)\n",
        "sim_car(ax[0,1], 1.00)\n",
        "sim_car(ax[1,0], 2.00)\n",
        "sim_car(ax[1,1], 3.10)"
      ],
      "execution_count": 3,
      "outputs": [
        {
          "output_type": "display_data",
          "data": {
            "image/png": "[encoded data removed]",
            "text/plain": [
              "<Figure size 1152x720 with 4 Axes>"
            ]
          },
          "metadata": {
            "tags": []
          }
        }
      ]
    },
    {
      "cell_type": "markdown",
      "metadata": {
        "id": "VYThRvwDLwXj",
        "colab_type": "text"
      },
      "source": [
        "# Discretization of the Example System"
      ]
    },
    {
      "cell_type": "code",
      "metadata": {
        "id": "BPHG74UKLwXk",
        "colab_type": "code",
        "outputId": "461efd51-be30-43c0-a6a7-463e74e06f26",
        "colab": {
          "base_uri": "https://localhost:8080/",
          "height": 59
        }
      },
      "source": [
        "var(\"kf h tau k kp ki dt\",real=true,positive=true)\n",
        "a = exp(-kf*h)\n",
        "b = integrate(exp(-kf*(h-tau)),(tau,0,h))\n",
        "\n",
        "Ad = Matrix([\n",
        "    [a-b*kp, b*ki],\n",
        "    [-h,1]\n",
        "])\n",
        "Bd = Matrix([\n",
        "    [b*kp],\n",
        "    [h]\n",
        "])\n",
        "\n",
        "params = [(kp,1), (ki,0.5), (kf,0.5), (h,3.1)]\n",
        "Ad.subs(params), [N(abs(e)) for e in Ad.subs(params).eigenvals()]"
      ],
      "execution_count": 4,
      "outputs": [
        {
          "output_type": "display_data",
          "data": {
            "text/html": [
              "\n",
              "        <script src=\"https://www.gstatic.com/external_hosted/mathjax/latest/MathJax.js?config=TeX-AMS_HTML-full,Safe&delayStartupUntil=configured\"></script>\n",
              "        <script>\n",
              "          (() => {\n",
              "            const mathjax = window.MathJax;\n",
              "            mathjax.Hub.Config({\n",
              "            'tex2jax': {\n",
              "              'inlineMath': [['$', '$'], ['\\(', '\\)']],\n",
              "              'displayMath': [['$$', '$$'], ['\\[', '\\]']],\n",
              "              'processEscapes': true,\n",
              "              'processEnvironments': true,\n",
              "              'skipTags': ['script', 'noscript', 'style', 'textarea', 'code'],\n",
              "              'displayAlign': 'center',\n",
              "            },\n",
              "            'HTML-CSS': {\n",
              "              'styles': {'.MathJax_Display': {'margin': 0}},\n",
              "              'linebreaks': {'automatic': true},\n",
              "              // Disable to prevent OTF font loading, which aren't part of our\n",
              "              // distribution.\n",
              "              'imageFont': null,\n",
              "            },\n",
              "            'messageStyle': 'none'\n",
              "          });\n",
              "          mathjax.Hub.Configured();\n",
              "        })();\n",
              "        </script>\n",
              "        "
            ],
            "text/plain": [
              "<IPython.core.display.HTML object>"
            ]
          },
          "metadata": {
            "tags": []
          }
        },
        {
          "output_type": "execute_result",
          "data": {
            "text/latex": "$$\\left ( \\left[\\begin{matrix}-1.36325607851977 & 0.787752026173257\\\\-3.1 & 1\\end{matrix}\\right], \\quad \\left [ 1.03864103645934, \\quad 1.03864103645934\\right ]\\right )$$",
            "text/plain": [
              "⎛⎡-1.36325607851977  0.787752026173257⎤                                      ⎞\n",
              "⎜⎢                                    ⎥, [1.03864103645934, 1.03864103645934]⎟\n",
              "⎝⎣      -3.1                 1        ⎦                                      ⎠"
            ]
          },
          "metadata": {
            "tags": []
          },
          "execution_count": 4
        }
      ]
    },
    {
      "cell_type": "code",
      "metadata": {
        "id": "_rY50I70LwXr",
        "colab_type": "code",
        "outputId": "f1fb2d80-0eab-42a8-c611-6e23930ef835",
        "colab": {
          "base_uri": "https://localhost:8080/",
          "height": 59
        }
      },
      "source": [
        "x0 = Matrix([[0],[0]])\n",
        "x1 = (Ad*x0 + Bd*10).subs(params)\n",
        "x2 = (Ad*x1 + Bd*10).subs(params)\n",
        "x0, x1, x2"
      ],
      "execution_count": 5,
      "outputs": [
        {
          "output_type": "display_data",
          "data": {
            "text/html": [
              "\n",
              "        <script src=\"https://www.gstatic.com/external_hosted/mathjax/latest/MathJax.js?config=TeX-AMS_HTML-full,Safe&delayStartupUntil=configured\"></script>\n",
              "        <script>\n",
              "          (() => {\n",
              "            const mathjax = window.MathJax;\n",
              "            mathjax.Hub.Config({\n",
              "            'tex2jax': {\n",
              "              'inlineMath': [['$', '$'], ['\\(', '\\)']],\n",
              "              'displayMath': [['$$', '$$'], ['\\[', '\\]']],\n",
              "              'processEscapes': true,\n",
              "              'processEnvironments': true,\n",
              "              'skipTags': ['script', 'noscript', 'style', 'textarea', 'code'],\n",
              "              'displayAlign': 'center',\n",
              "            },\n",
              "            'HTML-CSS': {\n",
              "              'styles': {'.MathJax_Display': {'margin': 0}},\n",
              "              'linebreaks': {'automatic': true},\n",
              "              // Disable to prevent OTF font loading, which aren't part of our\n",
              "              // distribution.\n",
              "              'imageFont': null,\n",
              "            },\n",
              "            'messageStyle': 'none'\n",
              "          });\n",
              "          mathjax.Hub.Configured();\n",
              "        })();\n",
              "        </script>\n",
              "        "
            ],
            "text/plain": [
              "<IPython.core.display.HTML object>"
            ]
          },
          "metadata": {
            "tags": []
          }
        },
        {
          "output_type": "execute_result",
          "data": {
            "text/latex": "$$\\left ( \\left[\\begin{matrix}0\\\\0\\end{matrix}\\right], \\quad \\left[\\begin{matrix}15.7550405234651\\\\31.0\\end{matrix}\\right], \\quad \\left[\\begin{matrix}18.6971985738969\\\\13.1593743772581\\end{matrix}\\right]\\right )$$",
            "text/plain": [
              "⎛⎡0⎤  ⎡15.7550405234651⎤  ⎡18.6971985738969⎤⎞\n",
              "⎜⎢ ⎥, ⎢                ⎥, ⎢                ⎥⎟\n",
              "⎝⎣0⎦  ⎣      31.0      ⎦  ⎣13.1593743772581⎦⎠"
            ]
          },
          "metadata": {
            "tags": []
          },
          "execution_count": 5
        }
      ]
    },
    {
      "cell_type": "code",
      "metadata": {
        "id": "kQGEiXH1LwXz",
        "colab_type": "code",
        "outputId": "25742d2b-8d80-4a52-8873-60ed6cf30951",
        "colab": {
          "base_uri": "https://localhost:8080/",
          "height": 36
        }
      },
      "source": [
        "u0 = (kp*(10-x0[0]) + ki*x0[1]).subs(params)\n",
        "u1 = (kp*(10-x1[0]) + ki*x1[1]).subs(params)\n",
        "u2 = (kp*(10-x2[0]) + ki*x2[1]).subs(params)\n",
        "u0,u1,u2"
      ],
      "execution_count": 6,
      "outputs": [
        {
          "output_type": "display_data",
          "data": {
            "text/html": [
              "\n",
              "        <script src=\"https://www.gstatic.com/external_hosted/mathjax/latest/MathJax.js?config=TeX-AMS_HTML-full,Safe&delayStartupUntil=configured\"></script>\n",
              "        <script>\n",
              "          (() => {\n",
              "            const mathjax = window.MathJax;\n",
              "            mathjax.Hub.Config({\n",
              "            'tex2jax': {\n",
              "              'inlineMath': [['$', '$'], ['\\(', '\\)']],\n",
              "              'displayMath': [['$$', '$$'], ['\\[', '\\]']],\n",
              "              'processEscapes': true,\n",
              "              'processEnvironments': true,\n",
              "              'skipTags': ['script', 'noscript', 'style', 'textarea', 'code'],\n",
              "              'displayAlign': 'center',\n",
              "            },\n",
              "            'HTML-CSS': {\n",
              "              'styles': {'.MathJax_Display': {'margin': 0}},\n",
              "              'linebreaks': {'automatic': true},\n",
              "              // Disable to prevent OTF font loading, which aren't part of our\n",
              "              // distribution.\n",
              "              'imageFont': null,\n",
              "            },\n",
              "            'messageStyle': 'none'\n",
              "          });\n",
              "          mathjax.Hub.Configured();\n",
              "        })();\n",
              "        </script>\n",
              "        "
            ],
            "text/plain": [
              "<IPython.core.display.HTML object>"
            ]
          },
          "metadata": {
            "tags": []
          }
        },
        {
          "output_type": "execute_result",
          "data": {
            "text/latex": "$$\\left ( 10, \\quad 9.74495947653486, \\quad -2.11751138526791\\right )$$",
            "text/plain": [
              "(10, 9.74495947653486, -2.11751138526791)"
            ]
          },
          "metadata": {
            "tags": []
          },
          "execution_count": 6
        }
      ]
    },
    {
      "cell_type": "code",
      "metadata": {
        "id": "RUdyibAdLwX5",
        "colab_type": "code",
        "outputId": "e1eab6db-8014-469f-e351-42e5d366063f",
        "colab": {
          "base_uri": "https://localhost:8080/",
          "height": 34
        }
      },
      "source": [
        "x0[0]"
      ],
      "execution_count": 7,
      "outputs": [
        {
          "output_type": "display_data",
          "data": {
            "text/html": [
              "\n",
              "        <script src=\"https://www.gstatic.com/external_hosted/mathjax/latest/MathJax.js?config=TeX-AMS_HTML-full,Safe&delayStartupUntil=configured\"></script>\n",
              "        <script>\n",
              "          (() => {\n",
              "            const mathjax = window.MathJax;\n",
              "            mathjax.Hub.Config({\n",
              "            'tex2jax': {\n",
              "              'inlineMath': [['$', '$'], ['\\(', '\\)']],\n",
              "              'displayMath': [['$$', '$$'], ['\\[', '\\]']],\n",
              "              'processEscapes': true,\n",
              "              'processEnvironments': true,\n",
              "              'skipTags': ['script', 'noscript', 'style', 'textarea', 'code'],\n",
              "              'displayAlign': 'center',\n",
              "            },\n",
              "            'HTML-CSS': {\n",
              "              'styles': {'.MathJax_Display': {'margin': 0}},\n",
              "              'linebreaks': {'automatic': true},\n",
              "              // Disable to prevent OTF font loading, which aren't part of our\n",
              "              // distribution.\n",
              "              'imageFont': null,\n",
              "            },\n",
              "            'messageStyle': 'none'\n",
              "          });\n",
              "          mathjax.Hub.Configured();\n",
              "        })();\n",
              "        </script>\n",
              "        "
            ],
            "text/plain": [
              "<IPython.core.display.HTML object>"
            ]
          },
          "metadata": {
            "tags": []
          }
        },
        {
          "output_type": "execute_result",
          "data": {
            "text/latex": "$$0$$",
            "text/plain": [
              "0"
            ]
          },
          "metadata": {
            "tags": []
          },
          "execution_count": 7
        }
      ]
    },
    {
      "cell_type": "code",
      "metadata": {
        "id": "w2R4fiMuLwX-",
        "colab_type": "code",
        "colab": {}
      },
      "source": [
        "eig = lambdify(dt,\n",
        "               Ad.subs(h,dt).subs(params).tolist(),\n",
        "               'numpy')"
      ],
      "execution_count": 0,
      "outputs": []
    },
    {
      "cell_type": "code",
      "metadata": {
        "id": "1haSB29zuiXT",
        "colab_type": "code",
        "colab": {
          "base_uri": "https://localhost:8080/",
          "height": 73
        },
        "outputId": "6f09a46b-25ca-4bea-aeb5-a96f863c6b43"
      },
      "source": [
        "Ad"
      ],
      "execution_count": 9,
      "outputs": [
        {
          "output_type": "display_data",
          "data": {
            "text/html": [
              "\n",
              "        <script src=\"https://www.gstatic.com/external_hosted/mathjax/latest/MathJax.js?config=TeX-AMS_HTML-full,Safe&delayStartupUntil=configured\"></script>\n",
              "        <script>\n",
              "          (() => {\n",
              "            const mathjax = window.MathJax;\n",
              "            mathjax.Hub.Config({\n",
              "            'tex2jax': {\n",
              "              'inlineMath': [['$', '$'], ['\\(', '\\)']],\n",
              "              'displayMath': [['$$', '$$'], ['\\[', '\\]']],\n",
              "              'processEscapes': true,\n",
              "              'processEnvironments': true,\n",
              "              'skipTags': ['script', 'noscript', 'style', 'textarea', 'code'],\n",
              "              'displayAlign': 'center',\n",
              "            },\n",
              "            'HTML-CSS': {\n",
              "              'styles': {'.MathJax_Display': {'margin': 0}},\n",
              "              'linebreaks': {'automatic': true},\n",
              "              // Disable to prevent OTF font loading, which aren't part of our\n",
              "              // distribution.\n",
              "              'imageFont': null,\n",
              "            },\n",
              "            'messageStyle': 'none'\n",
              "          });\n",
              "          mathjax.Hub.Configured();\n",
              "        })();\n",
              "        </script>\n",
              "        "
            ],
            "text/plain": [
              "<IPython.core.display.HTML object>"
            ]
          },
          "metadata": {
            "tags": []
          }
        },
        {
          "output_type": "execute_result",
          "data": {
            "text/latex": "$$\\left[\\begin{matrix}- kp \\left(\\frac{1}{kf} - \\frac{1}{kf} e^{- h kf}\\right) + e^{- h kf} & ki \\left(\\frac{1}{kf} - \\frac{1}{kf} e^{- h kf}\\right)\\\\- h & 1\\end{matrix}\\right]$$",
            "text/plain": [
              "⎡     ⎛      -h⋅kf⎞              ⎛      -h⋅kf⎞⎤\n",
              "⎢     ⎜1    ℯ     ⎟    -h⋅kf     ⎜1    ℯ     ⎟⎥\n",
              "⎢- kp⋅⎜── - ──────⎟ + ℯ       ki⋅⎜── - ──────⎟⎥\n",
              "⎢     ⎝kf     kf  ⎠              ⎝kf     kf  ⎠⎥\n",
              "⎢                                             ⎥\n",
              "⎣            -h                      1        ⎦"
            ]
          },
          "metadata": {
            "tags": []
          },
          "execution_count": 9
        }
      ]
    },
    {
      "cell_type": "code",
      "metadata": {
        "id": "tGbpZA1DLwYE",
        "colab_type": "code",
        "outputId": "bc503c01-2a48-4dc0-8995-783d7b8349ab",
        "colab": {
          "base_uri": "https://localhost:8080/",
          "height": 73
        }
      },
      "source": [
        "Ad.subs(h,1)"
      ],
      "execution_count": 10,
      "outputs": [
        {
          "output_type": "display_data",
          "data": {
            "text/html": [
              "\n",
              "        <script src=\"https://www.gstatic.com/external_hosted/mathjax/latest/MathJax.js?config=TeX-AMS_HTML-full,Safe&delayStartupUntil=configured\"></script>\n",
              "        <script>\n",
              "          (() => {\n",
              "            const mathjax = window.MathJax;\n",
              "            mathjax.Hub.Config({\n",
              "            'tex2jax': {\n",
              "              'inlineMath': [['$', '$'], ['\\(', '\\)']],\n",
              "              'displayMath': [['$$', '$$'], ['\\[', '\\]']],\n",
              "              'processEscapes': true,\n",
              "              'processEnvironments': true,\n",
              "              'skipTags': ['script', 'noscript', 'style', 'textarea', 'code'],\n",
              "              'displayAlign': 'center',\n",
              "            },\n",
              "            'HTML-CSS': {\n",
              "              'styles': {'.MathJax_Display': {'margin': 0}},\n",
              "              'linebreaks': {'automatic': true},\n",
              "              // Disable to prevent OTF font loading, which aren't part of our\n",
              "              // distribution.\n",
              "              'imageFont': null,\n",
              "            },\n",
              "            'messageStyle': 'none'\n",
              "          });\n",
              "          mathjax.Hub.Configured();\n",
              "        })();\n",
              "        </script>\n",
              "        "
            ],
            "text/plain": [
              "<IPython.core.display.HTML object>"
            ]
          },
          "metadata": {
            "tags": []
          }
        },
        {
          "output_type": "execute_result",
          "data": {
            "text/latex": "$$\\left[\\begin{matrix}- kp \\left(\\frac{1}{kf} - \\frac{e^{- kf}}{kf}\\right) + e^{- kf} & ki \\left(\\frac{1}{kf} - \\frac{e^{- kf}}{kf}\\right)\\\\-1 & 1\\end{matrix}\\right]$$",
            "text/plain": [
              "⎡     ⎛      -kf⎞            ⎛      -kf⎞⎤\n",
              "⎢     ⎜1    ℯ   ⎟    -kf     ⎜1    ℯ   ⎟⎥\n",
              "⎢- kp⋅⎜── - ────⎟ + ℯ     ki⋅⎜── - ────⎟⎥\n",
              "⎢     ⎝kf    kf ⎠            ⎝kf    kf ⎠⎥\n",
              "⎢                                       ⎥\n",
              "⎣          -1                   1       ⎦"
            ]
          },
          "metadata": {
            "tags": []
          },
          "execution_count": 10
        }
      ]
    },
    {
      "cell_type": "code",
      "metadata": {
        "id": "zvii2ZnhLwYL",
        "colab_type": "code",
        "colab": {}
      },
      "source": [
        "\n",
        "def evs(dt):\n",
        "    M = Ad.subs(h,dt).subs(params)\n",
        "    lam,v = np.linalg.eig(np.array(M.tolist()).astype(np.float64))\n",
        "    return lam"
      ],
      "execution_count": 0,
      "outputs": []
    },
    {
      "cell_type": "code",
      "metadata": {
        "id": "aOdVsxdDLwYQ",
        "colab_type": "code",
        "outputId": "6e59ff80-72a2-4a25-ced1-afd279b4b375",
        "colab": {
          "base_uri": "https://localhost:8080/",
          "height": 560
        }
      },
      "source": [
        "hvals = np.linspace(0,3,100)\n",
        "y = np.array([evs(H) for H in hvals])\n",
        "plt.plot(hvals,np.real(y[:,0]),label=\"real 1\");\n",
        "plt.plot(hvals,np.real(y[:,1]),label=\"real 2\");\n",
        "\n",
        "plt.plot(hvals,np.imag(y[:,0]),label=\"imag 1\");\n",
        "plt.plot(hvals,np.imag(y[:,1]),label=\"imag 2\");\n",
        "plt.xlabel(\"dt\")\n",
        "plt.legend()\n",
        "plt.figure()\n",
        "plt.plot(hvals,np.abs(y[:,0]),label=\"abs 1\");\n",
        "plt.plot(hvals,np.abs(y[:,1]),label=\"abs 2\");\n",
        "plt.legend()\n",
        "plt.xlabel(\"dt\")"
      ],
      "execution_count": 39,
      "outputs": [
        {
          "output_type": "execute_result",
          "data": {
            "text/plain": [
              "Text(0.5, 0, 'dt')"
            ]
          },
          "metadata": {
            "tags": []
          },
          "execution_count": 39
        },
        {
          "output_type": "display_data",
          "data": {
            "image/png": "[encoded data removed]",
            "text/plain": [
              "<Figure size 432x288 with 1 Axes>"
            ]
          },
          "metadata": {
            "tags": []
          }
        },
        {
          "output_type": "display_data",
          "data": {
            "image/png": "[encoded data removed]",
            "text/plain": [
              "<Figure size 432x288 with 1 Axes>"
            ]
          },
          "metadata": {
            "tags": []
          }
        }
      ]
    },
    {
      "cell_type": "markdown",
      "metadata": {
        "id": "N-lXLJ8BLwYX",
        "colab_type": "text"
      },
      "source": [
        "# Discretization in General"
      ]
    },
    {
      "cell_type": "markdown",
      "metadata": {
        "id": "JkwfVtOKLwYY",
        "colab_type": "text"
      },
      "source": [
        "More generally, suppose we have a system like\n",
        "\n",
        "\\begin{align}\n",
        "\\dot {\\bf x} & = A {\\bf x} + B u \\\\\n",
        "y & = C {\\bf x}\n",
        "\\end{align}\n",
        "\n",
        "Then "
      ]
    },
    {
      "cell_type": "markdown",
      "metadata": {
        "heading_collapsed": true,
        "id": "r5fUfQzMLwYY",
        "colab_type": "text"
      },
      "source": [
        "# Trajectories"
      ]
    },
    {
      "cell_type": "code",
      "metadata": {
        "hidden": true,
        "id": "p6LDsZNqLwYZ",
        "colab_type": "code",
        "colab": {}
      },
      "source": [
        "def trajectory(A,B,C,u,x0):\n",
        "    \"\"\"Simulate the discrete system x(k+1) = Ax(k) + Bu(k), y(k) = Cx(k)\n",
        "       starting at x0 for len(u) steps.\n",
        "    \"\"\"\n",
        "    i = 0\n",
        "    x = x0    \n",
        "    y = [np.matmul(C,x0)]\n",
        "    while i < len(u):\n",
        "        x = np.matmul(A,x) + B*u[i]\n",
        "        y = np.append(y,np.matmul(C,x))\n",
        "        i = i + 1\n",
        "    return y        "
      ],
      "execution_count": 0,
      "outputs": []
    },
    {
      "cell_type": "code",
      "metadata": {
        "hidden": true,
        "id": "YKCWCrMXLwYf",
        "colab_type": "code",
        "outputId": "70d3d572-2fa4-452e-dc7e-ab718c6bc674",
        "colab": {
          "base_uri": "https://localhost:8080/",
          "height": 295
        }
      },
      "source": [
        "#\n",
        "# We will use the following A, B, and C matrices as a running example.\n",
        "# \n",
        "A = np.array([\n",
        "    [1,-1],\n",
        "    [1,-4/10]\n",
        "])\n",
        "B = np.array([\n",
        "    [1],\n",
        "    [0]\n",
        "])\n",
        "C = np.array([[0,1]])\n",
        "x0 = np.array([\n",
        "    [0],\n",
        "    [0]\n",
        "])\n",
        "u = np.ones(20);\n",
        "t = np.linspace(0,20,21)\n",
        "ysim = trajectory(A,B,C,u,x0)\n",
        "plt.step(t,ysim)\n",
        "plt.xticks(np.arange(0,21,4))\n",
        "plt.xlabel(\"k\")\n",
        "plt.ylabel(\"y(k)\")\n",
        "plt.title(\"Simulation of a discrete system\");"
      ],
      "execution_count": 42,
      "outputs": [
        {
          "output_type": "display_data",
          "data": {
            "image/png": "[encoded data removed]",
            "text/plain": [
              "<Figure size 432x288 with 1 Axes>"
            ]
          },
          "metadata": {
            "tags": []
          }
        }
      ]
    },
    {
      "cell_type": "markdown",
      "metadata": {
        "id": "v2ynqG-zLwYl",
        "colab_type": "text"
      },
      "source": [
        "# Solutions"
      ]
    },
    {
      "cell_type": "markdown",
      "metadata": {
        "id": "6s9BnsozLwYl",
        "colab_type": "text"
      },
      "source": [
        "Say \n",
        "\n",
        "\\begin{align}\n",
        "{\\bf x}_{k+1} & = A {\\bf x}_k + B u_k  \\\\\n",
        "y & = C {\\bf x}_k\n",
        "\\end{align}\n",
        "\n",
        "Assuming we know ${\\bf x}_0$, we have\n",
        "\n",
        "\\begin{align}\n",
        "{\\bf x}_1 & = A {\\bf x}_0 + B u_0 \\\\\n",
        "          & \\\\\n",
        "{\\bf x}_2 & = A {\\bf x}_1 + B u_1 \\\\\n",
        "          & = A (A {\\bf x}_0 + B u_0) + B u_1\\\\\n",
        "          & = A^2 {\\bf x}_0 + A B u_0 + B u_1 \\\\\n",
        "          & \\\\\n",
        "{\\bf x}_3 & = A {\\bf x}_2 + B u_2 \\\\\n",
        "          & = A (A^2 {\\bf x}_0 + A B u_0 + B u_1) + B u_2\\\\\n",
        "          & = A^3 {\\bf x}_0 + A^2 B u_0 + A B u_1 + B u_2\n",
        "\\end{align}\n",
        "\n",
        "Generally, we have\n",
        "\n",
        "\\begin{align}\n",
        "{\\bf x}_{k} & = A^k {\\bf x}_0 + \\sum_{i=0}^k A^{k-i-1} B u_i,\n",
        "\\end{align}\n",
        "\n",
        "which is the sum of the *natural* and *forced* responses. As usual, the output is\n",
        "\n",
        "$$\n",
        "y_k = C {\\bf x}_k.\n",
        "$$"
      ]
    },
    {
      "cell_type": "code",
      "metadata": {
        "id": "-oJ4QMjpLwYn",
        "colab_type": "code",
        "colab": {}
      },
      "source": [
        "def solution(A,B,C,u,x0):\n",
        "    k = len(u)\n",
        "    if k == 0:\n",
        "        return np.matmul(C,x0)[0]\n",
        "    else:\n",
        "        x = np.matmul(np.linalg\n",
        "                      .matrix_power(A,k),x0) + sum([\n",
        "              np.matmul(np.linalg.matrix_power(A,k-i-1),B)*u[i] for i in range(k)\n",
        "            ])\n",
        "        return np.matmul(C,x)[0,0]\n",
        "\n",
        "def step_response(A,B,C,n,mag=1):\n",
        "    # Note, this is a pretty innefficient way to compute a response. The\n",
        "    # simulation above is just as accurate, but much faster.\n",
        "    t = np.linspace(0,n,n+1)\n",
        "    x0 = np.zeros(len(B))\n",
        "    y = np.array([solution(A,B,C,mag*np.ones(k),x0) for k in range(n+1)])\n",
        "    return (t,y)"
      ],
      "execution_count": 0,
      "outputs": []
    },
    {
      "cell_type": "code",
      "metadata": {
        "id": "94leaRySLwYx",
        "colab_type": "code",
        "outputId": "4445ec12-7062-4b38-ac33-a1784d145e6b",
        "colab": {
          "base_uri": "https://localhost:8080/",
          "height": 295
        }
      },
      "source": [
        "t,y = step_response(A,B,C,25)\n",
        "plt.step(t,y)\n",
        "plt.xlabel(\"k\")\n",
        "plt.ylabel(\"y(k)\")\n",
        "plt.title(\"Solution to a discrete system\");"
      ],
      "execution_count": 16,
      "outputs": [
        {
          "output_type": "display_data",
          "data": {
            "image/png": "[encoded data removed]",
            "text/plain": [
              "<Figure size 432x288 with 1 Axes>"
            ]
          },
          "metadata": {
            "tags": []
          }
        }
      ]
    },
    {
      "cell_type": "markdown",
      "metadata": {
        "id": "5afJbZXaLwY4",
        "colab_type": "text"
      },
      "source": [
        "# Stability of Discrete Systems"
      ]
    },
    {
      "cell_type": "markdown",
      "metadata": {
        "id": "xBLg4d2gLwY5",
        "colab_type": "text"
      },
      "source": [
        "Just as in continuous systems, the natural response of a discrete system determines its stability. To understand the natural response, first suppose that $A$ is diagonalizable. Then\n",
        "\n",
        "$$\n",
        "A = P D P^{-1}\n",
        "$$\n",
        "\n",
        "for some $P$ where $D$ is the matrix of eigenvalues\n",
        "\n",
        "$$\n",
        "D = \\begin{pmatrix}\n",
        "\\lambda _1 &           &        & \\\\\n",
        "           & \\lambda_2 &        & \\\\\n",
        "           &           & \\ddots & \\\\\n",
        "           &           &        & \\lambda_n\n",
        "\\end{pmatrix}\n",
        "$$\n",
        "\n",
        "Then\n",
        "\n",
        "\\begin{align}\n",
        "A^k & = (PDP^{-1})^k \\\\\n",
        "    & = PDP^{-1}PDP^{-1} \\dots PDP^{-1} \\\\\n",
        "    & = P D^kP^{-1}\n",
        "\\end{align}\n",
        "\n",
        "and since\n",
        "\n",
        "$$\n",
        "D^k = \\begin{pmatrix}\n",
        "\\lambda _1^k &           &        & \\\\\n",
        "           & \\lambda_2^k &        & \\\\\n",
        "           &           & \\ddots & \\\\\n",
        "           &           &        & \\lambda_n^k\n",
        "\\end{pmatrix}\n",
        "$$\n",
        "\n",
        "we just need that $\\lambda_i^k \\rightarrow 0$ as $k \\rightarrow \\infty$. This happens as long as \n",
        "\n",
        "$$\n",
        "|\\lambda_i| < 1\n",
        "$$\n",
        "\n",
        "for all $i$.\n",
        "\n",
        "If $A$ is not diagonalizable, it can be put in Jordan form. It can also be shown that Jordan blocks are stable under iteration when they correspond to eigenvalues inside the unit circle. \n",
        "\n",
        "Therefore, for $A$ to define a stable discrete linear system then, we require that\n",
        "\n",
        "> All the eigenvalues of $A$ lie in the unit circle."
      ]
    },
    {
      "cell_type": "code",
      "metadata": {
        "id": "cyAPiWD5LwY5",
        "colab_type": "code",
        "outputId": "efdb6e33-2198-47f0-c4bf-8c77948f8e60",
        "colab": {
          "base_uri": "https://localhost:8080/",
          "height": 36
        }
      },
      "source": [
        "# The running example is stable\n",
        "lam, v = np.linalg.eig(A)\n",
        "lam, np.abs(lam)"
      ],
      "execution_count": 17,
      "outputs": [
        {
          "output_type": "execute_result",
          "data": {
            "text/plain": [
              "(array([0.3+0.71414284j, 0.3-0.71414284j]), array([0.77459667, 0.77459667]))"
            ]
          },
          "metadata": {
            "tags": []
          },
          "execution_count": 17
        }
      ]
    },
    {
      "cell_type": "code",
      "metadata": {
        "id": "Gtx1hd4CLwY-",
        "colab_type": "code",
        "outputId": "e3bffbbe-6219-4b37-aa45-e08f0a3deae4",
        "colab": {
          "base_uri": "https://localhost:8080/",
          "height": 36
        }
      },
      "source": [
        "# Example of an unstable A\n",
        "Au = np.array([\n",
        "    [1, -1],\n",
        "    [1, 0.4]\n",
        "])\n",
        "lam, v = np.linalg.eig(Au)\n",
        "lam, np.abs(lam)"
      ],
      "execution_count": 18,
      "outputs": [
        {
          "output_type": "execute_result",
          "data": {
            "text/plain": [
              "(array([0.7+0.9539392j, 0.7-0.9539392j]), array([1.18321596, 1.18321596]))"
            ]
          },
          "metadata": {
            "tags": []
          },
          "execution_count": 18
        }
      ]
    },
    {
      "cell_type": "markdown",
      "metadata": {
        "id": "fH9um68-LwZD",
        "colab_type": "text"
      },
      "source": [
        "Note that when the eigenvalues of $A$ are inside the unit circle, then\n",
        "\n",
        "$$\n",
        "\\sum_{i=0}^k A^{k-i-1} B u_i\n",
        "$$\n",
        "\n",
        "converges to the final value of system, assuming $u$ converges. For a step input, $u_i=1$, we get\n",
        "\n",
        "$$\n",
        "\\mathrm{y_\\infty} = \\lim_{k \\rightarrow \\infty} \\sum_{i=0}^k A^{k-i-1} B\n",
        "$$\n",
        "\n",
        "In the case the $A$ is diagonalizable as $PDP^{-1}$, we get\n",
        "\n",
        "\\begin{align}\n",
        "\\mathrm{y_\\infty} & = \\lim_{k \\rightarrow \\infty} (A^{k-1} + ... + A^0 ) B \\\\\n",
        "                  & = \\lim_{k \\rightarrow \\infty} (PD^{k-1}P^{-1} + ... + PD^0P^{-1}) B \\\\\n",
        "                  & = \\lim_{k \\rightarrow \\infty} P(D^{k-1} + ... + D^0 )P^{-1} B \\\\\n",
        "                  & = P D^\\infty P^{-1} B\n",
        "\\end{align}\n",
        "\n",
        "To evaluate $D^\\infty$ we note that each eigenvalue $\\lambda$ along the diagonal in $D$ goes to the geometric progression\n",
        "\n",
        "$$\n",
        "\\sum_{i=0}^\\infty \\lambda^i = \\frac{1}{1-\\lambda}\n",
        "$$\n",
        "\n",
        "which exists since $|\\lambda_i| < 0$. \n",
        "\n",
        "A similar argument applies when $A$ is not diagonalizaable, but can be put into Jordan form."
      ]
    },
    {
      "cell_type": "code",
      "metadata": {
        "id": "3pTCcSDFLwZE",
        "colab_type": "code",
        "outputId": "3232cb56-3048-4167-d7e2-0f6af29e934c",
        "colab": {
          "base_uri": "https://localhost:8080/",
          "height": 107
        }
      },
      "source": [
        "# Example final value calculation\n",
        "Asym = Matrix(A)\n",
        "Bsym = Matrix(B)\n",
        "Csym = Matrix(C)\n",
        "P,D = Asym.diagonalize()\n",
        "P,D"
      ],
      "execution_count": 19,
      "outputs": [
        {
          "output_type": "display_data",
          "data": {
            "text/html": [
              "\n",
              "        <script src=\"https://www.gstatic.com/external_hosted/mathjax/latest/MathJax.js?config=TeX-AMS_HTML-full,Safe&delayStartupUntil=configured\"></script>\n",
              "        <script>\n",
              "          (() => {\n",
              "            const mathjax = window.MathJax;\n",
              "            mathjax.Hub.Config({\n",
              "            'tex2jax': {\n",
              "              'inlineMath': [['$', '$'], ['\\(', '\\)']],\n",
              "              'displayMath': [['$$', '$$'], ['\\[', '\\]']],\n",
              "              'processEscapes': true,\n",
              "              'processEnvironments': true,\n",
              "              'skipTags': ['script', 'noscript', 'style', 'textarea', 'code'],\n",
              "              'displayAlign': 'center',\n",
              "            },\n",
              "            'HTML-CSS': {\n",
              "              'styles': {'.MathJax_Display': {'margin': 0}},\n",
              "              'linebreaks': {'automatic': true},\n",
              "              // Disable to prevent OTF font loading, which aren't part of our\n",
              "              // distribution.\n",
              "              'imageFont': null,\n",
              "            },\n",
              "            'messageStyle': 'none'\n",
              "          });\n",
              "          mathjax.Hub.Configured();\n",
              "        })();\n",
              "        </script>\n",
              "        "
            ],
            "text/plain": [
              "<IPython.core.display.HTML object>"
            ]
          },
          "metadata": {
            "tags": []
          }
        },
        {
          "output_type": "execute_result",
          "data": {
            "text/latex": "$$\\left ( \\left[\\begin{matrix}0.7 - 0.714142842854285 i & 0.7 + 0.714142842854285 i\\\\1.0 & 1.0\\end{matrix}\\right], \\quad \\left[\\begin{matrix}0.3 - 0.714142842854285 i & 0\\\\0 & 0.3 + 0.714142842854285 i\\end{matrix}\\right]\\right )$$",
            "text/plain": [
              "⎛⎡0.7 - 0.714142842854285⋅ⅈ  0.7 + 0.714142842854285⋅ⅈ⎤  ⎡0.3 - 0.714142842854\n",
              "⎜⎢                                                    ⎥, ⎢                    \n",
              "⎝⎣           1.0                        1.0           ⎦  ⎣            0       \n",
              "\n",
              "285⋅ⅈ              0            ⎤⎞\n",
              "                                ⎥⎟\n",
              "       0.3 + 0.714142842854285⋅ⅈ⎦⎠"
            ]
          },
          "metadata": {
            "tags": []
          },
          "execution_count": 19
        }
      ]
    },
    {
      "cell_type": "code",
      "metadata": {
        "id": "6jHKF9fiLwZI",
        "colab_type": "code",
        "outputId": "11641526-72ba-4739-f219-7993d7b9d66b",
        "colab": {
          "base_uri": "https://localhost:8080/",
          "height": 61
        }
      },
      "source": [
        "Dinf = Matrix([\n",
        "    [1/(1-D[0,0]),0],\n",
        "    [0, 1/(1-D[1,1])]\n",
        "])\n",
        "Dinf"
      ],
      "execution_count": 20,
      "outputs": [
        {
          "output_type": "display_data",
          "data": {
            "text/html": [
              "\n",
              "        <script src=\"https://www.gstatic.com/external_hosted/mathjax/latest/MathJax.js?config=TeX-AMS_HTML-full,Safe&delayStartupUntil=configured\"></script>\n",
              "        <script>\n",
              "          (() => {\n",
              "            const mathjax = window.MathJax;\n",
              "            mathjax.Hub.Config({\n",
              "            'tex2jax': {\n",
              "              'inlineMath': [['$', '$'], ['\\(', '\\)']],\n",
              "              'displayMath': [['$$', '$$'], ['\\[', '\\]']],\n",
              "              'processEscapes': true,\n",
              "              'processEnvironments': true,\n",
              "              'skipTags': ['script', 'noscript', 'style', 'textarea', 'code'],\n",
              "              'displayAlign': 'center',\n",
              "            },\n",
              "            'HTML-CSS': {\n",
              "              'styles': {'.MathJax_Display': {'margin': 0}},\n",
              "              'linebreaks': {'automatic': true},\n",
              "              // Disable to prevent OTF font loading, which aren't part of our\n",
              "              // distribution.\n",
              "              'imageFont': null,\n",
              "            },\n",
              "            'messageStyle': 'none'\n",
              "          });\n",
              "          mathjax.Hub.Configured();\n",
              "        })();\n",
              "        </script>\n",
              "        "
            ],
            "text/plain": [
              "<IPython.core.display.HTML object>"
            ]
          },
          "metadata": {
            "tags": []
          }
        },
        {
          "output_type": "execute_result",
          "data": {
            "text/latex": "$$\\left[\\begin{matrix}1.0 \\left(0.7 - 0.714142842854285 i\\right) & 0\\\\0 & 1.0 \\left(0.7 + 0.714142842854285 i\\right)\\end{matrix}\\right]$$",
            "text/plain": [
              "⎡1.0⋅(0.7 - 0.714142842854285⋅ⅈ)                 0               ⎤\n",
              "⎢                                                                ⎥\n",
              "⎣               0                 1.0⋅(0.7 + 0.714142842854285⋅ⅈ)⎦"
            ]
          },
          "metadata": {
            "tags": []
          },
          "execution_count": 20
        }
      ]
    },
    {
      "cell_type": "code",
      "metadata": {
        "id": "rSS7lFb1LwZN",
        "colab_type": "code",
        "outputId": "ccf3bea6-1969-454b-d2c0-4d34410fa45b",
        "colab": {
          "base_uri": "https://localhost:8080/",
          "height": 34
        }
      },
      "source": [
        "(Csym*(P*Dinf*P.inv()).evalf(chop=True)*Bsym)[0]"
      ],
      "execution_count": 21,
      "outputs": [
        {
          "output_type": "display_data",
          "data": {
            "text/html": [
              "\n",
              "        <script src=\"https://www.gstatic.com/external_hosted/mathjax/latest/MathJax.js?config=TeX-AMS_HTML-full,Safe&delayStartupUntil=configured\"></script>\n",
              "        <script>\n",
              "          (() => {\n",
              "            const mathjax = window.MathJax;\n",
              "            mathjax.Hub.Config({\n",
              "            'tex2jax': {\n",
              "              'inlineMath': [['$', '$'], ['\\(', '\\)']],\n",
              "              'displayMath': [['$$', '$$'], ['\\[', '\\]']],\n",
              "              'processEscapes': true,\n",
              "              'processEnvironments': true,\n",
              "              'skipTags': ['script', 'noscript', 'style', 'textarea', 'code'],\n",
              "              'displayAlign': 'center',\n",
              "            },\n",
              "            'HTML-CSS': {\n",
              "              'styles': {'.MathJax_Display': {'margin': 0}},\n",
              "              'linebreaks': {'automatic': true},\n",
              "              // Disable to prevent OTF font loading, which aren't part of our\n",
              "              // distribution.\n",
              "              'imageFont': null,\n",
              "            },\n",
              "            'messageStyle': 'none'\n",
              "          });\n",
              "          mathjax.Hub.Configured();\n",
              "        })();\n",
              "        </script>\n",
              "        "
            ],
            "text/plain": [
              "<IPython.core.display.HTML object>"
            ]
          },
          "metadata": {
            "tags": []
          }
        },
        {
          "output_type": "execute_result",
          "data": {
            "text/latex": "$$1.0$$",
            "text/plain": [
              "1.00000000000000"
            ]
          },
          "metadata": {
            "tags": []
          },
          "execution_count": 21
        }
      ]
    },
    {
      "cell_type": "markdown",
      "metadata": {
        "heading_collapsed": true,
        "id": "hrJLRf_XLwZR",
        "colab_type": "text"
      },
      "source": [
        "# Final Value"
      ]
    },
    {
      "cell_type": "markdown",
      "metadata": {
        "hidden": true,
        "id": "0j-aLoYDLwZR",
        "colab_type": "text"
      },
      "source": [
        "For a discrete system, an equilibrium is obtained when ${\\bf x}$ stops changing. That means that an equilibrium solves\n",
        "\n",
        "\\begin{align}\n",
        "{\\bf x} & = A {\\bf x} + B u \\\\\n",
        "(I-A) {\\bf x} & = B u \\\\\n",
        "{\\bf x} & = (I-A)^{-1} B u\n",
        "\\end{align}\n",
        "\n",
        "assuming $(I-A)$ is invertible and $A$ is discrete-time stable. If not, then the final value depends on the initial condition.\n"
      ]
    },
    {
      "cell_type": "code",
      "metadata": {
        "hidden": true,
        "id": "J4s2QCZOLwZT",
        "colab_type": "code",
        "outputId": "57418cf8-54f9-4a37-d518-305128552c77",
        "colab": {
          "base_uri": "https://localhost:8080/",
          "height": 59
        }
      },
      "source": [
        "(eye(2)-A).inv()"
      ],
      "execution_count": 49,
      "outputs": [
        {
          "output_type": "display_data",
          "data": {
            "text/html": [
              "\n",
              "        <script src=\"https://www.gstatic.com/external_hosted/mathjax/latest/MathJax.js?config=TeX-AMS_HTML-full,Safe&delayStartupUntil=configured\"></script>\n",
              "        <script>\n",
              "          (() => {\n",
              "            const mathjax = window.MathJax;\n",
              "            mathjax.Hub.Config({\n",
              "            'tex2jax': {\n",
              "              'inlineMath': [['$', '$'], ['\\(', '\\)']],\n",
              "              'displayMath': [['$$', '$$'], ['\\[', '\\]']],\n",
              "              'processEscapes': true,\n",
              "              'processEnvironments': true,\n",
              "              'skipTags': ['script', 'noscript', 'style', 'textarea', 'code'],\n",
              "              'displayAlign': 'center',\n",
              "            },\n",
              "            'HTML-CSS': {\n",
              "              'styles': {'.MathJax_Display': {'margin': 0}},\n",
              "              'linebreaks': {'automatic': true},\n",
              "              // Disable to prevent OTF font loading, which aren't part of our\n",
              "              // distribution.\n",
              "              'imageFont': null,\n",
              "            },\n",
              "            'messageStyle': 'none'\n",
              "          });\n",
              "          mathjax.Hub.Configured();\n",
              "        })();\n",
              "        </script>\n",
              "        "
            ],
            "text/plain": [
              "<IPython.core.display.HTML object>"
            ]
          },
          "metadata": {
            "tags": []
          }
        },
        {
          "output_type": "execute_result",
          "data": {
            "text/latex": "$$\\left[\\begin{matrix}1.4 & -1.0\\\\1.0 & 0\\end{matrix}\\right]$$",
            "text/plain": [
              "⎡1.4  -1.0⎤\n",
              "⎢         ⎥\n",
              "⎣1.0   0  ⎦"
            ]
          },
          "metadata": {
            "tags": []
          },
          "execution_count": 49
        }
      ]
    },
    {
      "cell_type": "markdown",
      "metadata": {
        "id": "auUkakG4LwZW",
        "colab_type": "text"
      },
      "source": [
        "# Full State Feedback"
      ]
    },
    {
      "cell_type": "markdown",
      "metadata": {
        "id": "VR7QlULFLwZY",
        "colab_type": "text"
      },
      "source": [
        "For the system\n",
        "\n",
        "\\begin{align}\n",
        "{\\bf x}_{k+1} & = A {\\bf x}_k + B u_k  \\\\\n",
        "y & = C {\\bf x}_k\n",
        "\\end{align}\n",
        "\n",
        "we define the controller\n",
        "\n",
        "$$\n",
        "u_k = -K {\\bf x}_k + r_k\n",
        "$$\n",
        "\n",
        "where $K$ is a $1 \\times n$ matrix of gains and $r_k$ is the new input to the system. In this case,\n",
        "\n",
        "\\begin{align}\n",
        "{\\bf x}_{k+1} & = A {\\bf x}_k + B (-K {\\bf x}_k + r_k) \\\\\n",
        "              & = (A-BK){\\bf x}_k + B r_k\n",
        "\\end{align}\n",
        "\n",
        "The design goal is then to choose $K$ so that the poles of $(A-BK)$ are inside the unit circle and also give the desired performance."
      ]
    },
    {
      "cell_type": "code",
      "metadata": {
        "id": "juAk9r_0LwZZ",
        "colab_type": "code",
        "outputId": "c988271a-28ca-435f-d8f0-176f54ef3862",
        "colab": {
          "base_uri": "https://localhost:8080/",
          "height": 36
        }
      },
      "source": [
        "K = place(A,B,[0.2 + 0.1*1j,0.2-0.1*1j])\n",
        "K"
      ],
      "execution_count": 23,
      "outputs": [
        {
          "output_type": "execute_result",
          "data": {
            "text/plain": [
              "matrix([[ 0.2 , -0.63]])"
            ]
          },
          "metadata": {
            "tags": []
          },
          "execution_count": 23
        }
      ]
    },
    {
      "cell_type": "code",
      "metadata": {
        "id": "KwSYG7ViLwZh",
        "colab_type": "code",
        "outputId": "210700e4-c700-46db-d0c4-486cb46ee125",
        "colab": {
          "base_uri": "https://localhost:8080/",
          "height": 34
        }
      },
      "source": [
        "sigma = np.matmul(np.matmul(C,np.linalg.inv(np.identity(2) - A+np.matmul(B,K))),B)[0,0]\n",
        "sigma"
      ],
      "execution_count": 24,
      "outputs": [
        {
          "output_type": "display_data",
          "data": {
            "text/html": [
              "\n",
              "        <script src=\"https://www.gstatic.com/external_hosted/mathjax/latest/MathJax.js?config=TeX-AMS_HTML-full,Safe&delayStartupUntil=configured\"></script>\n",
              "        <script>\n",
              "          (() => {\n",
              "            const mathjax = window.MathJax;\n",
              "            mathjax.Hub.Config({\n",
              "            'tex2jax': {\n",
              "              'inlineMath': [['$', '$'], ['\\(', '\\)']],\n",
              "              'displayMath': [['$$', '$$'], ['\\[', '\\]']],\n",
              "              'processEscapes': true,\n",
              "              'processEnvironments': true,\n",
              "              'skipTags': ['script', 'noscript', 'style', 'textarea', 'code'],\n",
              "              'displayAlign': 'center',\n",
              "            },\n",
              "            'HTML-CSS': {\n",
              "              'styles': {'.MathJax_Display': {'margin': 0}},\n",
              "              'linebreaks': {'automatic': true},\n",
              "              // Disable to prevent OTF font loading, which aren't part of our\n",
              "              // distribution.\n",
              "              'imageFont': null,\n",
              "            },\n",
              "            'messageStyle': 'none'\n",
              "          });\n",
              "          mathjax.Hub.Configured();\n",
              "        })();\n",
              "        </script>\n",
              "        "
            ],
            "text/plain": [
              "<IPython.core.display.HTML object>"
            ]
          },
          "metadata": {
            "tags": []
          }
        },
        {
          "output_type": "execute_result",
          "data": {
            "text/latex": "$$1.5384615384615388$$",
            "text/plain": [
              "1.5384615384615388"
            ]
          },
          "metadata": {
            "tags": []
          },
          "execution_count": 24
        }
      ]
    },
    {
      "cell_type": "code",
      "metadata": {
        "id": "XCm4iaWlLwZl",
        "colab_type": "code",
        "outputId": "c01ef0a9-b363-4004-89b7-d8bff20d54aa",
        "colab": {
          "base_uri": "https://localhost:8080/",
          "height": 295
        }
      },
      "source": [
        "t,y = step_response(A-np.matmul(B,K),B,C,21,1/sigma)\n",
        "plt.step(t,y)\n",
        "plt.xlabel(\"k\")\n",
        "plt.ylabel(\"y(k)\")\n",
        "plt.title(\"Full State Feedback\");"
      ],
      "execution_count": 25,
      "outputs": [
        {
          "output_type": "display_data",
          "data": {
            "image/png": "[encoded data removed]",
            "text/plain": [
              "<Figure size 432x288 with 1 Axes>"
            ]
          },
          "metadata": {
            "tags": []
          }
        }
      ]
    },
    {
      "cell_type": "markdown",
      "metadata": {
        "id": "XEyNSkLcLwZq",
        "colab_type": "text"
      },
      "source": [
        "Poles at zero.  \n",
        "---\n",
        "\n",
        "One thing we cannot do in continuous control systems is put poles at zero, since those would be unstable. In discrete systems, we can put *all* the poles at zero. To see what happens in this case, we need the following theorem:\n",
        "\n",
        "> **Cayley-Hamilton Theorem**: A matrix solves its own characteristic polynomial.\n",
        "\n",
        "For example:"
      ]
    },
    {
      "cell_type": "code",
      "metadata": {
        "id": "pjUZIiNiLwZr",
        "colab_type": "code",
        "outputId": "60defdcf-6455-44f1-83b2-308a1ddf2ec7",
        "colab": {
          "base_uri": "https://localhost:8080/",
          "height": 39
        }
      },
      "source": [
        "var(\"s\")\n",
        "cp = (s*eye(2)-Asym).det()\n",
        "cp"
      ],
      "execution_count": 26,
      "outputs": [
        {
          "output_type": "display_data",
          "data": {
            "text/html": [
              "\n",
              "        <script src=\"https://www.gstatic.com/external_hosted/mathjax/latest/MathJax.js?config=TeX-AMS_HTML-full,Safe&delayStartupUntil=configured\"></script>\n",
              "        <script>\n",
              "          (() => {\n",
              "            const mathjax = window.MathJax;\n",
              "            mathjax.Hub.Config({\n",
              "            'tex2jax': {\n",
              "              'inlineMath': [['$', '$'], ['\\(', '\\)']],\n",
              "              'displayMath': [['$$', '$$'], ['\\[', '\\]']],\n",
              "              'processEscapes': true,\n",
              "              'processEnvironments': true,\n",
              "              'skipTags': ['script', 'noscript', 'style', 'textarea', 'code'],\n",
              "              'displayAlign': 'center',\n",
              "            },\n",
              "            'HTML-CSS': {\n",
              "              'styles': {'.MathJax_Display': {'margin': 0}},\n",
              "              'linebreaks': {'automatic': true},\n",
              "              // Disable to prevent OTF font loading, which aren't part of our\n",
              "              // distribution.\n",
              "              'imageFont': null,\n",
              "            },\n",
              "            'messageStyle': 'none'\n",
              "          });\n",
              "          mathjax.Hub.Configured();\n",
              "        })();\n",
              "        </script>\n",
              "        "
            ],
            "text/plain": [
              "<IPython.core.display.HTML object>"
            ]
          },
          "metadata": {
            "tags": []
          }
        },
        {
          "output_type": "execute_result",
          "data": {
            "text/latex": "$$\\left(s - 1.0\\right) \\left(s + 0.4\\right) + 1.0$$",
            "text/plain": [
              "(s - 1.0)⋅(s + 0.4) + 1.0"
            ]
          },
          "metadata": {
            "tags": []
          },
          "execution_count": 26
        }
      ]
    },
    {
      "cell_type": "code",
      "metadata": {
        "id": "_0W1ey5vLwZy",
        "colab_type": "code",
        "outputId": "2f5d204f-9f53-434c-b6dc-68be6fdda926",
        "colab": {
          "base_uri": "https://localhost:8080/",
          "height": 61
        }
      },
      "source": [
        "Asym**2 - 0.6*Asym + 0.6*eye(2)"
      ],
      "execution_count": 50,
      "outputs": [
        {
          "output_type": "display_data",
          "data": {
            "text/html": [
              "\n",
              "        <script src=\"https://www.gstatic.com/external_hosted/mathjax/latest/MathJax.js?config=TeX-AMS_HTML-full,Safe&delayStartupUntil=configured\"></script>\n",
              "        <script>\n",
              "          (() => {\n",
              "            const mathjax = window.MathJax;\n",
              "            mathjax.Hub.Config({\n",
              "            'tex2jax': {\n",
              "              'inlineMath': [['$', '$'], ['\\(', '\\)']],\n",
              "              'displayMath': [['$$', '$$'], ['\\[', '\\]']],\n",
              "              'processEscapes': true,\n",
              "              'processEnvironments': true,\n",
              "              'skipTags': ['script', 'noscript', 'style', 'textarea', 'code'],\n",
              "              'displayAlign': 'center',\n",
              "            },\n",
              "            'HTML-CSS': {\n",
              "              'styles': {'.MathJax_Display': {'margin': 0}},\n",
              "              'linebreaks': {'automatic': true},\n",
              "              // Disable to prevent OTF font loading, which aren't part of our\n",
              "              // distribution.\n",
              "              'imageFont': null,\n",
              "            },\n",
              "            'messageStyle': 'none'\n",
              "          });\n",
              "          mathjax.Hub.Configured();\n",
              "        })();\n",
              "        </script>\n",
              "        "
            ],
            "text/plain": [
              "<IPython.core.display.HTML object>"
            ]
          },
          "metadata": {
            "tags": []
          }
        },
        {
          "output_type": "execute_result",
          "data": {
            "text/latex": "$$\\left[\\begin{matrix}0 & -1.11022302462516 \\cdot 10^{-16}\\\\1.11022302462516 \\cdot 10^{-16} & 1.11022302462516 \\cdot 10^{-16}\\end{matrix}\\right]$$",
            "text/plain": [
              "⎡         0            -1.11022302462516e-16⎤\n",
              "⎢                                           ⎥\n",
              "⎣1.11022302462516e-16  1.11022302462516e-16 ⎦"
            ]
          },
          "metadata": {
            "tags": []
          },
          "execution_count": 50
        }
      ]
    },
    {
      "cell_type": "markdown",
      "metadata": {
        "id": "WBFXd-sALwZ3",
        "colab_type": "text"
      },
      "source": [
        "We e put all the poles at zero, so the characteristic polynomial of $A-BK$ is $s^n$. That means, that \n",
        "\n",
        "$$\n",
        "A^n = 0\n",
        "$$\n",
        "\n",
        "so after $n$ steps, the system will have stabilized.\n",
        "\n",
        "One problem is that our normal way of placing poles, using the `place` command, does not work for repeated poles. However, another method of placing poles, using Ackerman's method, works just fine.\n",
        "\n",
        "Ackerman's method uses the Cayley-Hamilton theorem to show that\n",
        "\n",
        "$$\n",
        "K = \\begin{pmatrix}\n",
        "  0 & \\dots & 0 & 1\n",
        "\\end{pmatrix} \\mathcal{C}^{-1} \\mathrm{p}(A)\n",
        "$$\n",
        "\n",
        "where $\\mathcal{C}$ is the controllability matrix for $A$ and $\\mathrm{p}(A)$ is the *desired* characteristic polynomial evaluated at $A$\n",
        "\n",
        "Our running example should be stabilizable after 2 steps."
      ]
    },
    {
      "cell_type": "code",
      "metadata": {
        "id": "FcLzZB4ZLwZ3",
        "colab_type": "code",
        "outputId": "b83c03ee-2b11-45ea-a92b-e8117fdc01aa",
        "colab": {
          "base_uri": "https://localhost:8080/",
          "height": 36
        }
      },
      "source": [
        "Kbb = acker(A,B,[0,0])\n",
        "Kbb"
      ],
      "execution_count": 28,
      "outputs": [
        {
          "output_type": "execute_result",
          "data": {
            "text/plain": [
              "matrix([[ 0.6 , -0.84]])"
            ]
          },
          "metadata": {
            "tags": []
          },
          "execution_count": 28
        }
      ]
    },
    {
      "cell_type": "code",
      "metadata": {
        "id": "kfk8aVcVLwZ8",
        "colab_type": "code",
        "outputId": "d0755a2b-58d6-44af-e1a6-23d4227c5c7b",
        "colab": {
          "base_uri": "https://localhost:8080/",
          "height": 38
        }
      },
      "source": [
        "sigma = np.matmul(np.matmul(C,np.linalg.inv(np.identity(2) - A+np.matmul(B,Kbb))),B)[0,0]\n",
        "sigma"
      ],
      "execution_count": 29,
      "outputs": [
        {
          "output_type": "display_data",
          "data": {
            "text/html": [
              "\n",
              "        <script src=\"https://www.gstatic.com/external_hosted/mathjax/latest/MathJax.js?config=TeX-AMS_HTML-full,Safe&delayStartupUntil=configured\"></script>\n",
              "        <script>\n",
              "          (() => {\n",
              "            const mathjax = window.MathJax;\n",
              "            mathjax.Hub.Config({\n",
              "            'tex2jax': {\n",
              "              'inlineMath': [['$', '$'], ['\\(', '\\)']],\n",
              "              'displayMath': [['$$', '$$'], ['\\[', '\\]']],\n",
              "              'processEscapes': true,\n",
              "              'processEnvironments': true,\n",
              "              'skipTags': ['script', 'noscript', 'style', 'textarea', 'code'],\n",
              "              'displayAlign': 'center',\n",
              "            },\n",
              "            'HTML-CSS': {\n",
              "              'styles': {'.MathJax_Display': {'margin': 0}},\n",
              "              'linebreaks': {'automatic': true},\n",
              "              // Disable to prevent OTF font loading, which aren't part of our\n",
              "              // distribution.\n",
              "              'imageFont': null,\n",
              "            },\n",
              "            'messageStyle': 'none'\n",
              "          });\n",
              "          mathjax.Hub.Configured();\n",
              "        })();\n",
              "        </script>\n",
              "        "
            ],
            "text/plain": [
              "<IPython.core.display.HTML object>"
            ]
          },
          "metadata": {
            "tags": []
          }
        },
        {
          "output_type": "execute_result",
          "data": {
            "text/latex": "$$1.0$$",
            "text/plain": [
              "1.0"
            ]
          },
          "metadata": {
            "tags": []
          },
          "execution_count": 29
        }
      ]
    },
    {
      "cell_type": "code",
      "metadata": {
        "id": "lpfS6M_ZLwaB",
        "colab_type": "code",
        "outputId": "ca586216-ff74-433e-b565-3d927e18836e",
        "colab": {
          "base_uri": "https://localhost:8080/",
          "height": 295
        }
      },
      "source": [
        "t,y = step_response(A-np.matmul(B,Kbb),B,C,25,1/sigma)\n",
        "plt.step(t,y)\n",
        "plt.xlabel(\"k\")\n",
        "plt.ylabel(\"y(k)\")\n",
        "plt.title(\"poles at 0 Control of a 2D discrete system\");"
      ],
      "execution_count": 51,
      "outputs": [
        {
          "output_type": "display_data",
          "data": {
            "image/png": "[encoded data removed]",
            "text/plain": [
              "<Figure size 432x288 with 1 Axes>"
            ]
          },
          "metadata": {
            "tags": []
          }
        }
      ]
    },
    {
      "cell_type": "code",
      "metadata": {
        "id": "uqEMQB8sLwaE",
        "colab_type": "code",
        "outputId": "0f96abc0-61ce-436d-e1c0-96f222267583",
        "colab": {
          "base_uri": "https://localhost:8080/",
          "height": 36
        }
      },
      "source": [
        "# Bigger Example\n",
        "Abig = 2*np.random.rand(5,5) - np.ones((5,5))\n",
        "Bbig = np.random.rand(5,1) - 0.5*np.ones((5,1))\n",
        "Cbig = np.random.rand(1,5) - 0.5*np.ones((1,5))\n",
        "lam,v = np.linalg.eig(Abig)\n",
        "abs(lam)"
      ],
      "execution_count": 56,
      "outputs": [
        {
          "output_type": "execute_result",
          "data": {
            "text/plain": [
              "array([0.82415329, 0.82415329, 0.34937226, 0.34937226, 0.42143779])"
            ]
          },
          "metadata": {
            "tags": []
          },
          "execution_count": 56
        }
      ]
    },
    {
      "cell_type": "code",
      "metadata": {
        "id": "DSLtiH0PLwaG",
        "colab_type": "code",
        "outputId": "1fff93c6-02a3-402c-cc79-6cee2cf6efef",
        "colab": {
          "base_uri": "https://localhost:8080/",
          "height": 36
        }
      },
      "source": [
        "Kbig = acker(Abig,Bbig,[0,0,0,0,0])\n",
        "Kbig"
      ],
      "execution_count": 57,
      "outputs": [
        {
          "output_type": "execute_result",
          "data": {
            "text/plain": [
              "matrix([[-1.71956354, -4.43837451,  3.59701263,  2.15920615,  1.75352364]])"
            ]
          },
          "metadata": {
            "tags": []
          },
          "execution_count": 57
        }
      ]
    },
    {
      "cell_type": "code",
      "metadata": {
        "id": "26lqj8e3LwaK",
        "colab_type": "code",
        "outputId": "a853be11-8bed-45c9-815f-39032c8f3fac",
        "colab": {
          "base_uri": "https://localhost:8080/",
          "height": 34
        }
      },
      "source": [
        "sigma = np.matmul(np.matmul(Cbig,np.linalg.inv(np.identity(5) - Abig+np.matmul(Bbig,Kbig))),Bbig)[0,0]\n",
        "sigma"
      ],
      "execution_count": 58,
      "outputs": [
        {
          "output_type": "display_data",
          "data": {
            "text/html": [
              "\n",
              "        <script src=\"https://www.gstatic.com/external_hosted/mathjax/latest/MathJax.js?config=TeX-AMS_HTML-full,Safe&delayStartupUntil=configured\"></script>\n",
              "        <script>\n",
              "          (() => {\n",
              "            const mathjax = window.MathJax;\n",
              "            mathjax.Hub.Config({\n",
              "            'tex2jax': {\n",
              "              'inlineMath': [['$', '$'], ['\\(', '\\)']],\n",
              "              'displayMath': [['$$', '$$'], ['\\[', '\\]']],\n",
              "              'processEscapes': true,\n",
              "              'processEnvironments': true,\n",
              "              'skipTags': ['script', 'noscript', 'style', 'textarea', 'code'],\n",
              "              'displayAlign': 'center',\n",
              "            },\n",
              "            'HTML-CSS': {\n",
              "              'styles': {'.MathJax_Display': {'margin': 0}},\n",
              "              'linebreaks': {'automatic': true},\n",
              "              // Disable to prevent OTF font loading, which aren't part of our\n",
              "              // distribution.\n",
              "              'imageFont': null,\n",
              "            },\n",
              "            'messageStyle': 'none'\n",
              "          });\n",
              "          mathjax.Hub.Configured();\n",
              "        })();\n",
              "        </script>\n",
              "        "
            ],
            "text/plain": [
              "<IPython.core.display.HTML object>"
            ]
          },
          "metadata": {
            "tags": []
          }
        },
        {
          "output_type": "execute_result",
          "data": {
            "text/latex": "$$-0.04285348466606509$$",
            "text/plain": [
              "-0.04285348466606509"
            ]
          },
          "metadata": {
            "tags": []
          },
          "execution_count": 58
        }
      ]
    },
    {
      "cell_type": "code",
      "metadata": {
        "id": "d4J5YzERLwaP",
        "colab_type": "code",
        "outputId": "f36f0df3-0ba8-4076-dc53-0f955c6d9216",
        "colab": {
          "base_uri": "https://localhost:8080/",
          "height": 295
        }
      },
      "source": [
        "t,y = step_response(Abig-np.matmul(Bbig,Kbig),Bbig,Cbig,25,mag=1/sigma)\n",
        "plt.step(t,y)\n",
        "plt.xlabel(\"k\")\n",
        "plt.ylabel(\"y(k)\")\n",
        "plt.title(\"poles at zero Control of a 5D discrete system\");"
      ],
      "execution_count": 59,
      "outputs": [
        {
          "output_type": "display_data",
          "data": {
            "image/png": "[encoded data removed]",
            "text/plain": [
              "<Figure size 432x288 with 1 Axes>"
            ]
          },
          "metadata": {
            "tags": []
          }
        }
      ]
    },
    {
      "cell_type": "markdown",
      "metadata": {
        "id": "tp0xPjlMLwaT",
        "colab_type": "text"
      },
      "source": [
        "Placing poles at zero is great mathematically, and is used in some applications as well. However\n",
        "\n",
        "- It may require large forces (or sudden current changes)\n",
        "- It is sensitive to delays, which cause oscillations\n",
        "- It can be sensitive to uncertainty in $A$\n",
        "\n",
        "Thus, it can often be better to use non-zero poles instead of all zeros."
      ]
    },
    {
      "cell_type": "markdown",
      "metadata": {
        "id": "Oi5QJLdiLwaV",
        "colab_type": "text"
      },
      "source": [
        "# Observer Design"
      ]
    },
    {
      "cell_type": "markdown",
      "metadata": {
        "id": "zqSD8c_xLwaV",
        "colab_type": "text"
      },
      "source": [
        "Observer design is similar to the continuous case. We define \n",
        "\n",
        "\\begin{align}\n",
        "\\hat{\\bf x}_{k+1} & = A \\hat{\\bf x}_k + B u_k + L(y_k-C\\hat {\\bf x}) \\\\\n",
        "                  & = (A-LC) \\hat{\\bf x} + B u_k + L y_k\n",
        "\\end{align}\n",
        "\n",
        "The goal is then to choose $L$ to set the poles of $A-LC$ inside the unit circle. Choosing the poles to be half as big in magnitude as the system's poles and with small imaginary parts is a good guide."
      ]
    }
  ]
}