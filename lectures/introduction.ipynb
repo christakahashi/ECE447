{
  "nbformat": 4,
  "nbformat_minor": 0,
  "metadata": {
    "kernelspec": {
      "display_name": "Python 3",
      "language": "python",
      "name": "python3"
    },
    "language_info": {
      "codemirror_mode": {
        "name": "ipython",
        "version": 3
      },
      "file_extension": ".py",
      "mimetype": "text/x-python",
      "name": "python",
      "nbconvert_exporter": "python",
      "pygments_lexer": "ipython3",
      "version": "3.6.1"
    },
    "colab": {
      "name": "introduction.ipynb",
      "provenance": []
    }
  },
  "cells": [
    {
      "cell_type": "markdown",
      "metadata": {
        "id": "_pNkLMnYwizq",
        "colab_type": "text"
      },
      "source": [
        "ECE447: Introduction\n",
        "===\n",
        "Prof. Eric Klavins edited by Chris Takahashi\n",
        "\n",
        "&copy; 2019 University of Washington"
      ]
    },
    {
      "cell_type": "markdown",
      "metadata": {
        "id": "n2WvUnbVxu7Y",
        "colab_type": "text"
      },
      "source": [
        "## COVID-19\n",
        "\n",
        "It's important that we all do our part to prevent the spread of COVID-19, not only to protect our selves but to protect those more vulnerable members of the population.\n",
        "\n",
        "With this is mind, all UW courses, including this one, are going to be taught online.  For this course, we will be using a combination of Canvas (for organization), Zoom (for meetings/lectures), and google colab for notes and homework assignments. "
      ]
    },
    {
      "cell_type": "markdown",
      "metadata": {
        "id": "6Bk2cD4pzp-C",
        "colab_type": "text"
      },
      "source": [
        "## Zoom\n",
        "\n",
        "We will be using Zoom for all course meetings.  Meeting links will be on canvas and the meeting ID may change so check the canvas page every day before you join the meeting.  \n",
        "\n",
        "Zoom does offer some useful features that we will take advantage of.  Specifically \n",
        "- Raise hands (and lower hands)\n",
        "- Text chat:  You can ask questions this way if you don't want to speak.\n",
        "- Polls\n",
        "- Breakout rooms "
      ]
    },
    {
      "cell_type": "markdown",
      "metadata": {
        "id": "svTDmkKOwizs",
        "colab_type": "text"
      },
      "source": [
        "Topics\n",
        "---\n",
        "- Python\n",
        "- Dynamical Systems defined by ODEs\n",
        "- Linearization\n",
        "- Linear Algebra\n",
        "- Block Diagrams\n",
        "- Sensitivity and disturbances\n",
        "- Control system design\n",
        "    - Proportional, Integral, Deriviative Control\n",
        "    - Root Locus\n",
        "    - Pole Placement\n",
        "    - Optimal Control\n",
        "- Controllability\n",
        "- Observability"
      ]
    },
    {
      "cell_type": "markdown",
      "metadata": {
        "id": "DJF1sWGIwizt",
        "colab_type": "text"
      },
      "source": [
        "Details\n",
        "---\n",
        "\n",
        "**Course Format:** Approximately ten weekly homework due Sundays at 11:59pm. Each homework is worth 100 points. The final homework will be a design project worth 300 points. There are no exams in this course. Homework and projects must be completed alone. Consultation, inspiration, and commiseration is allowed, but not collaboration or sharing of code or solutions.\n",
        "\n",
        "**Course Resources**: [Canvas](https://canvas.uw.edu/courses/1313677)\n",
        "\n",
        "**Office Hours:** To be announced. \n",
        "\n",
        "**Textbook:** None required.  [Control Systems Engineering](https://www.wiley.com/en-us/Control+Systems+Engineering%2C+7th+Edition-p-9781118170519) 7E, by Norman Nise is optional.\n"
      ]
    },
    {
      "cell_type": "markdown",
      "metadata": {
        "collapsed": true,
        "id": "uH7bKKHCwizw",
        "colab_type": "text"
      },
      "source": [
        "Examples of Control\n",
        "==="
      ]
    },
    {
      "cell_type": "markdown",
      "metadata": {
        "id": "n1lQZA8dwizy",
        "colab_type": "text"
      },
      "source": [
        "Steam Engine Control\n",
        "---\n",
        "\n",
        "![](https://raw.githubusercontent.com/klavins/ECE447/master/images/steam%20engine.png)"
      ]
    },
    {
      "cell_type": "markdown",
      "metadata": {
        "id": "lqALS4b_wizz",
        "colab_type": "text"
      },
      "source": [
        "Robot Juggling\n",
        "---\n",
        "![](https://raw.githubusercontent.com/klavins/ECE447/master/images/juggling.png)\n",
        "\n",
        "[Video](https://www.youtube.com/watch?v=u8I7EXXgTvk)"
      ]
    },
    {
      "cell_type": "markdown",
      "metadata": {
        "collapsed": true,
        "id": "n4D9hDMhwiz1",
        "colab_type": "text"
      },
      "source": [
        "Neutrophil\n",
        "---\n",
        "A human polymorphonuclear leukocyte (neutrophil) on a blood film, crawling among red blood cells, notable for their dark color and principally spherical shape.\n",
        "The neutrophil is \"chasing\" Staphylococcus aureus microorganisms, added to the film. \n",
        "\n",
        "[Video](https://www.youtube.com/watch?v=I_xh-bkiv_c)"
      ]
    },
    {
      "cell_type": "markdown",
      "metadata": {
        "id": "KUUQFLLUwiz5",
        "colab_type": "text"
      },
      "source": [
        "Internet Congestion Control\n",
        "---\n",
        "![](https://raw.githubusercontent.com/klavins/ECE447/master/images/internet.png)"
      ]
    },
    {
      "cell_type": "markdown",
      "metadata": {
        "id": "MjHpT4Jqwiz8",
        "colab_type": "text"
      },
      "source": [
        "Control is Everywhere\n",
        "---\n",
        "\n",
        "- Aerospace\n",
        "- Automotive\n",
        "- Military\n",
        "- Oil\n",
        "- Robotics\n",
        "- Computers and devices\n",
        "- Finance\n",
        "- Chemical Engineering\n",
        "- Biotechnology\n",
        "- Health\n"
      ]
    },
    {
      "cell_type": "markdown",
      "metadata": {
        "id": "1CPVfKp3wiz8",
        "colab_type": "text"
      },
      "source": [
        "Course Goals\n",
        "==="
      ]
    },
    {
      "cell_type": "markdown",
      "metadata": {
        "id": "lAkhU2eIwi0E",
        "colab_type": "text"
      },
      "source": [
        "By the end of this course you will be able to\n",
        "- Analyze an ODE model of a nonlinear dynamical system\n",
        "- Linearize a nonlinear system around an operating point\n",
        "- Expand a model with models of disturbances and sensor noise\n",
        "- Build a variety of controllers for a linear system and\n",
        "    - Prove it is stable\n",
        "    - Prove it meets required performance guarantees\n",
        "    - Simulate it in Python\n",
        "- Build a state estimator for a system to be used as an input to a controller\n",
        "- Understand whether a system *can* be controlled\n",
        "- Understand whether a system *can* be observed\n",
        "- Use numerical, symbolic, and graphical tools in Python\n"
      ]
    }
  ]
}