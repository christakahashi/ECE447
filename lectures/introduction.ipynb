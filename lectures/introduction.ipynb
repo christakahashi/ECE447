{
 "cells": [
  {
   "cell_type": "markdown",
   "metadata": {},
   "source": [
    "ECE447: Introduction\n",
    "===\n",
    "Prof. Eric Klavins\n",
    "&copy; 2019 University of Washington"
   ]
  },
  {
   "cell_type": "markdown",
   "metadata": {},
   "source": [
    "Topics\n",
    "---\n",
    "- Python\n",
    "- Dynamical Systems defined by ODEs\n",
    "- Linearization\n",
    "- Linear Algebra\n",
    "- Block Diagrams\n",
    "- Sensitivity and disturbances\n",
    "- Control system design\n",
    "    - Proportional, Integral, Deriviative Control\n",
    "    - Root Locus\n",
    "    - Pole Placement\n",
    "    - Optimal Control\n",
    "- Controllability\n",
    "- Observability"
   ]
  },
  {
   "cell_type": "markdown",
   "metadata": {},
   "source": [
    "Details\n",
    "---\n",
    "\n",
    "**Course Format:** Approximately ten weekly homework due Sundays at 11:59pm. Each homework is worth 10 points. The final homework will be a design project worth 50 points. There are no exams in this course. Homework and projects must be completed alone. Consultation, inspiration, and commiseration is allowed, but not collaboration or sharing of code or solutions.\n",
    "\n",
    "**First assignment: **due Sunday April 7!\n",
    "\n",
    "**Course Resources**: [Canvas](https://canvas.uw.edu/courses/1313677)\n",
    "\n",
    "**Office Hours:** To be announced. \n",
    "\n",
    "**Textbook:** [Control Systems Engineering](https://www.amazon.com/Control-Systems-Engineering-Norman-Nise-ebook-dp-B00UGE1DJW/dp/B00UGE1DJW/ref=mt_kindle?_encoding=UTF8&me=&qid=), by Norman Nise. \n",
    "\n",
    "**Note:** No class on April 3!"
   ]
  },
  {
   "cell_type": "markdown",
   "metadata": {
    "collapsed": true
   },
   "source": [
    "Examples of Control\n",
    "==="
   ]
  },
  {
   "cell_type": "markdown",
   "metadata": {},
   "source": [
    "Steam Engine Control\n",
    "---\n",
    "\n",
    "![](https://raw.githubusercontent.com/klavins/ECE447/master/images/steam engine.png)"
   ]
  },
  {
   "cell_type": "markdown",
   "metadata": {},
   "source": [
    "Robot Juggling\n",
    "---\n",
    "![](https://raw.githubusercontent.com/klavins/ECE447/master/images/juggling.png)\n",
    "\n",
    "[Video](https://www.youtube.com/watch?v=u8I7EXXgTvk)"
   ]
  },
  {
   "cell_type": "markdown",
   "metadata": {
    "collapsed": true
   },
   "source": [
    "Neutrophil\n",
    "---\n",
    "A human polymorphonuclear leukocyte (neutrophil) on a blood film, crawling among red blood cells, notable for their dark color and principally spherical shape.\n",
    "The neutrophil is \"chasing\" Staphylococcus aureus microorganisms, added to the film. \n",
    "\n",
    "[Video](https://www.youtube.com/watch?v=I_xh-bkiv_c)"
   ]
  },
  {
   "cell_type": "markdown",
   "metadata": {},
   "source": [
    "Internet Congestion Control\n",
    "---\n",
    "![](https://raw.githubusercontent.com/klavins/ECE447/master/images/internet.png)"
   ]
  },
  {
   "attachments": {},
   "cell_type": "markdown",
   "metadata": {},
   "source": [
    "Control is Everywhere\n",
    "---\n",
    "\n",
    "- Aerospace\n",
    "- Automotive\n",
    "- Military\n",
    "- Oil\n",
    "- Robotics\n",
    "- Computers and devices\n",
    "- Finance\n",
    "- Chemical Engineering\n",
    "- Biotechnology\n",
    "- Health\n"
   ]
  },
  {
   "cell_type": "markdown",
   "metadata": {},
   "source": [
    "Course Goals\n",
    "==="
   ]
  },
  {
   "cell_type": "markdown",
   "metadata": {},
   "source": [
    "By the end of this course you will be able to\n",
    "- Analyze an ODE model of a nonlinear dynamical system\n",
    "- Linearize a nonlinear system around an operating point\n",
    "- Expand a model with models of disturbances and sensor noise\n",
    "- Build a variety of controllers for a linear system and\n",
    "    - Prove it is stable\n",
    "    - Prove it meets required performance guarantees\n",
    "    - Simulate it in Python\n",
    "- Build a state estimator for a system to be used as an input to a controller\n",
    "- Understand whether a system *can* be controlled\n",
    "- Understand whether a system *can* be observed\n",
    "- Use numerical, symbolic, and graphical tools in Python\n"
   ]
  }
 ],
 "metadata": {
  "kernelspec": {
   "display_name": "Python 3",
   "language": "python",
   "name": "python3"
  },
  "language_info": {
   "codemirror_mode": {
    "name": "ipython",
    "version": 3
   },
   "file_extension": ".py",
   "mimetype": "text/x-python",
   "name": "python",
   "nbconvert_exporter": "python",
   "pygments_lexer": "ipython3",
   "version": "3.6.1"
  },
  "widgets": {
   "application/vnd.jupyter.widget-state+json": {
    "state": {},
    "version_major": 1,
    "version_minor": 0
   }
  }
 },
 "nbformat": 4,
 "nbformat_minor": 2
}
