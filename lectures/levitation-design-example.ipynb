{
 "cells": [
  {
   "cell_type": "markdown",
   "metadata": {
    "heading_collapsed": true
   },
   "source": [
    "# ECE 447: Control of Magnetic Levitation Device\n",
    "\n",
    "Eric Klavins\n",
    "\n",
    "Copyright &copy; University of Washington, 2019"
   ]
  },
  {
   "cell_type": "markdown",
   "metadata": {},
   "source": [
    "# Code"
   ]
  },
  {
   "cell_type": "code",
   "execution_count": 40,
   "metadata": {
    "collapsed": true
   },
   "outputs": [],
   "source": [
    "import numpy as np\n",
    "import scipy.integrate as spi\n",
    "import matplotlib.pyplot as plt\n",
    "import matplotlib.patches as patches\n",
    "from sympy import *\n",
    "from matplotlib import animation\n",
    "\n",
    "# Uncomment on Google colab\n",
    "# !pip install JSAnimation\n",
    "# !pip install control\n",
    "\n",
    "from JSAnimation.IPython_display import display_animation\n",
    "from control import * \n",
    "\n",
    "%matplotlib inline\n",
    "\n",
    "# Comment out in Google colab \n",
    "init_printing(use_latex='mathjax')\n",
    "\n",
    "# Uncomment in below Google colab to render sympy equations nicely\n",
    "# def custom_latex_printer(exp,**options):\n",
    "#     from google.colab.output._publish import javascript\n",
    "#     url = \"https://cdnjs.cloudflare.com/ajax/libs/mathjax/2.7.3/latest.js?config=default\"\n",
    "#     javascript(url=url)\n",
    "#     return printing.latex(exp,**options)"
   ]
  },
  {
   "cell_type": "markdown",
   "metadata": {},
   "source": [
    "# The System"
   ]
  },
  {
   "cell_type": "markdown",
   "metadata": {},
   "source": [
    "A steel ball with mass $M$ is levitated under an electromagnet. In the input $u$ to the system is the voltage applied to the electromagnet. The output is the position of the ball and is measured with a photo-detector. The system is illustrated below.\n",
    "\n",
    "<img width=40% src=\"https://raw.githubusercontent.com/klavins/ECE447/master/images/levitation-up.png\">\n",
    "\n",
    "The equations define the rates of change for the ball's position $x$, velocity $v$, and the current $I$. For convenience, the positive direction for $x$ is down. \n",
    "\n",
    "<table width=100% style=\"background: white\">\n",
    "\n",
    "<tr></tr>\n",
    "\n",
    "<tr><td>\n",
    "\n",
    "\\begin{align}\n",
    "\\dot x & = v \\\\\n",
    "\\dot v & = \\frac{C}{M}\\left(\\frac{I}{x}\\right)^2 - g \\\\\n",
    "\\dot I & = \\frac{1}{L} \\left ( -RI + 2 C \\frac{Iv}{x^2} + u \\right )\n",
    "\\end{align}\n",
    "\n",
    "</td><td>\n",
    "\n",
    "  <table>\n",
    "    <tr><td style=\"text-align: left\">C</td>\n",
    "        <td style=\"text-align: left\">Magnet constant</td>\n",
    "        <td style=\"text-align: left\">$10^{-4}$</td></tr>\n",
    "    <tr><td style=\"text-align: left\">g</td>\n",
    "        <td style=\"text-align: left\">Gravity</td>\n",
    "        <td style=\"text-align: left\">9.81</td></tr>\n",
    "    <tr><td style=\"text-align: left\">L</td>\n",
    "        <td style=\"text-align: left\">Inductance</td>\n",
    "        <td style=\"text-align: left\">1.0</td></tr>\n",
    "    <tr><td style=\"text-align: left\">R</td>\n",
    "        <td style=\"text-align: left\">Resistance</td>\n",
    "        <td style=\"text-align: left\">30.0</td></tr>\n",
    "    <tr><td style=\"text-align: left\">M</td>\n",
    "        <td style=\"text-align: left\">Mass</td>\n",
    "        <td style=\"text-align: left\">12 &times; $10^{-3}$</td></tr>\n",
    "    <tr><td style=\"text-align: left\">u</td>\n",
    "        <td style=\"text-align: left\">Input voltage</td>\n",
    "        <td style=\"text-align: left\"></td></tr>    \n",
    "  </table>\n",
    "\n",
    "</td></tr></table>"
   ]
  },
  {
   "cell_type": "markdown",
   "metadata": {},
   "source": [
    "Control Goal\n",
    "---\n",
    "\n",
    "The goal is to control the ball so that it stays 5 cm below the magnet. That is,\n",
    "\n",
    "$$\n",
    "x^* = 5\\; \\mathrm{cm} = \\frac{5}{100} \\; \\mathrm{m}.\n",
    "$$\n",
    "\n",
    "This requires a constant voltage, which can be determined by noting that when we have achieved the goal state, the rates of change for the equations of motion should be zero. Using the second equation, we get\n",
    "\n",
    "$$\n",
    "\\dot v = 0 = \\frac{C}{M}\\left(\\frac{I}{x^*}\\right)^2 + g\n",
    "$$\n",
    "\n",
    "which implies that\n",
    "\n",
    "$$\n",
    "I^* = x^* \\sqrt{\\frac{Mg}{C}} .\n",
    "$$\n",
    "\n",
    "Also, \n",
    "\n",
    "$$\n",
    "\\dot I = 0 = \\frac{1}{L} \\left ( -RI + u \\right )\n",
    "$$\n",
    "\n",
    "since $\\dot x = v = 0$. Solving for $u$ gives\n",
    "\n",
    "$$\n",
    "u^* = R I^* = 5 \\frac{R}{100}\\sqrt{\\frac{Mg}{C}}.\n",
    "$$"
   ]
  },
  {
   "cell_type": "markdown",
   "metadata": {},
   "source": [
    "Performance and Safety\n",
    "---\n",
    "\n",
    "**Steady state error:** Note that this system is regulating the ball around a given operating point. We don't expect the user to change that operating point, so we do not need to change the system's type (number of poles at zero).\n",
    "\n",
    "**Overshoot:** We should understand what happens with an initial positional or velocity error, which could push the ball away from the operating point and possibly make it hit the magnet 5 cm away. For now, let's say that we want close to 0% overshoot.\n",
    "\n",
    "**Sensitivity:** All of parameters are estimates. The most important metric is probably something like a 10% change in any parameter should not produced more than a 10% change in the percent overshoot response to an impulse disturbance.\n",
    "\n",
    "**Nonlinear Model:** We are designing a linear controller for a nonlinear model. We should evaluate how well it works not just with linear simulations, but also in the context of the full nonlinear system."
   ]
  },
  {
   "cell_type": "markdown",
   "metadata": {},
   "source": [
    "# Modeling"
   ]
  },
  {
   "cell_type": "markdown",
   "metadata": {},
   "source": [
    "In this section we will:\n",
    "\n",
    "- Encode the model in `sympy`\n",
    "- Change to error coordinates, so the equilibrium of the system is at $(0,0,0)$.\n",
    "- Linearize the system"
   ]
  },
  {
   "cell_type": "code",
   "execution_count": 26,
   "metadata": {},
   "outputs": [
    {
     "data": {
      "text/latex": [
       "$$\\left ( v, \\quad \\frac{C i^{2}}{M x^{2}} - g, \\quad \\frac{1}{L} \\left(\\frac{2 C}{x^{2}} i v - R i + u\\right)\\right )$$"
      ],
      "text/plain": [
       "⎛             2⋅C⋅i⋅v          ⎞\n",
       "⎜             ─────── - R⋅i + u⎟\n",
       "⎜      2          2            ⎟\n",
       "⎜   C⋅i          x             ⎟\n",
       "⎜v, ──── - g, ─────────────────⎟\n",
       "⎜      2              L        ⎟\n",
       "⎝   M⋅x                        ⎠"
      ]
     },
     "execution_count": 26,
     "metadata": {},
     "output_type": "execute_result"
    }
   ],
   "source": [
    "# Model\n",
    "var(\"x v i C g L R M u\")\n",
    "\n",
    "params = [\n",
    "    (R,30.0),\n",
    "    (L,1.0),\n",
    "    (C,0.0004),\n",
    "    (g,9.81),\n",
    "    (M,0.0012)\n",
    "]\n",
    "\n",
    "dotx = v\n",
    "dotv = (C/M)*(i/x)**2 - g\n",
    "doti = (1/L)*(-R*i + 2*C*i*v/(x**2) + u)\n",
    "\n",
    "dotx, dotv, doti"
   ]
  },
  {
   "cell_type": "code",
   "execution_count": 28,
   "metadata": {},
   "outputs": [
    {
     "data": {
      "text/latex": [
       "$$\\left ( 0.05 R \\sqrt{\\frac{M g}{C}}, \\quad 0.05 \\sqrt{\\frac{M g}{C}}\\right )$$"
      ],
      "text/plain": [
       "⎛           _____           _____⎞\n",
       "⎜          ╱ M⋅g           ╱ M⋅g ⎟\n",
       "⎜0.05⋅R⋅  ╱  ─── , 0.05⋅  ╱  ─── ⎟\n",
       "⎝       ╲╱    C         ╲╱    C  ⎠"
      ]
     },
     "execution_count": 28,
     "metadata": {},
     "output_type": "execute_result"
    }
   ],
   "source": [
    "# open loop voltage needed to achieve an x = 5 cm setpoint \n",
    "xdes = 5/100\n",
    "sol = solve([dotx, dotv.subs(x,xdes), doti.subs(x,xdes)], u,i,v)\n",
    "sol\n",
    "udes = sol[1][0]\n",
    "ides = sol[1][1]\n",
    "udes, ides"
   ]
  },
  {
   "cell_type": "code",
   "execution_count": 29,
   "metadata": {},
   "outputs": [
    {
     "data": {
      "text/latex": [
       "$$\\left ( ve, \\quad \\frac{C \\left(ie + 0.05 \\sqrt{\\frac{M g}{C}}\\right)^{2}}{M \\left(xe + 0.05\\right)^{2}} - g, \\quad \\frac{1}{L} \\left(\\frac{2 C ve}{\\left(xe + 0.05\\right)^{2}} \\left(ie + 0.05 \\sqrt{\\frac{M g}{C}}\\right) + 0.05 R \\sqrt{\\frac{M g}{C}} - R \\left(ie + 0.05 \\sqrt{\\frac{M g}{C}}\\right) + ue\\right)\\right )$$"
      ],
      "text/plain": [
       "⎛                                         ⎛              _____⎞               \n",
       "⎜                                         ⎜             ╱ M⋅g ⎟               \n",
       "⎜                           2      2⋅C⋅ve⋅⎜ie + 0.05⋅  ╱  ─── ⎟              _\n",
       "⎜      ⎛              _____⎞              ⎝          ╲╱    C  ⎠             ╱ \n",
       "⎜      ⎜             ╱ M⋅g ⎟       ──────────────────────────── + 0.05⋅R⋅  ╱  \n",
       "⎜    C⋅⎜ie + 0.05⋅  ╱  ─── ⎟                          2                  ╲╱   \n",
       "⎜      ⎝          ╲╱    C  ⎠               (xe + 0.05)                        \n",
       "⎜ve, ──────────────────────── - g, ───────────────────────────────────────────\n",
       "⎜                      2                                                 L    \n",
       "⎝         M⋅(xe + 0.05)                                                       \n",
       "\n",
       "                                   ⎞\n",
       "                                   ⎟\n",
       "____     ⎛              _____⎞     ⎟\n",
       "M⋅g      ⎜             ╱ M⋅g ⎟     ⎟\n",
       "───  - R⋅⎜ie + 0.05⋅  ╱  ─── ⎟ + ue⎟\n",
       " C       ⎝          ╲╱    C  ⎠     ⎟\n",
       "                                   ⎟\n",
       "───────────────────────────────────⎟\n",
       "                                   ⎟\n",
       "                                   ⎠"
      ]
     },
     "execution_count": 29,
     "metadata": {},
     "output_type": "execute_result"
    }
   ],
   "source": [
    "# Model in error coordinates\n",
    "var(\"xe, ve, ie, ue\")\n",
    "\n",
    "coordsub = [\n",
    "    (x,xe+xdes),\n",
    "    (v,ve+0),\n",
    "    (i,ie+ides),\n",
    "    (u,ue+udes)\n",
    "]\n",
    "\n",
    "dotxe = ve\n",
    "dotve = dotv.subs(coordsub)\n",
    "dotie = doti.subs(coordsub)\n",
    "\n",
    "dotxe, dotve, dotie"
   ]
  },
  {
   "cell_type": "code",
   "execution_count": 30,
   "metadata": {},
   "outputs": [
    {
     "data": {
      "text/latex": [
       "$$\\left ( \\left[\\begin{matrix}0 & 1 & 0\\\\- 40.0 g & 0 & \\frac{40.0 C}{M} \\sqrt{\\frac{M g}{C}}\\\\0 & \\frac{40.0 C}{L} \\sqrt{\\frac{M g}{C}} & - \\frac{R}{L}\\end{matrix}\\right], \\quad \\left[\\begin{matrix}0\\\\0\\\\\\frac{1}{L}\\end{matrix}\\right], \\quad \\left[\\begin{matrix}1 & 0 & 0\\end{matrix}\\right]\\right )$$"
      ],
      "text/plain": [
       "⎛⎡   0            1                 0        ⎤, ⎡0⎤, [1  0  0]⎞\n",
       "⎜⎢                                           ⎥  ⎢ ⎥           ⎟\n",
       "⎜⎢                                      _____⎥  ⎢0⎥           ⎟\n",
       "⎜⎢                                     ╱ M⋅g ⎥  ⎢ ⎥           ⎟\n",
       "⎜⎢                           40.0⋅C⋅  ╱  ─── ⎥  ⎢1⎥           ⎟\n",
       "⎜⎢                                  ╲╱    C  ⎥  ⎢─⎥           ⎟\n",
       "⎜⎢-40.0⋅g         0          ────────────────⎥  ⎣L⎦           ⎟\n",
       "⎜⎢                                  M        ⎥                ⎟\n",
       "⎜⎢                                           ⎥                ⎟\n",
       "⎜⎢                    _____                  ⎥                ⎟\n",
       "⎜⎢                   ╱ M⋅g                   ⎥                ⎟\n",
       "⎜⎢         40.0⋅C⋅  ╱  ───                   ⎥                ⎟\n",
       "⎜⎢                ╲╱    C          -R        ⎥                ⎟\n",
       "⎜⎢   0     ────────────────        ───       ⎥                ⎟\n",
       "⎝⎣                L                 L        ⎦                ⎠"
      ]
     },
     "execution_count": 30,
     "metadata": {},
     "output_type": "execute_result"
    }
   ],
   "source": [
    "# Linearization\n",
    "\n",
    "steady_state = [ (xe,0), (ve,0), (ie,0)]\n",
    "f = Matrix([dotxe, dotve, dotie])\n",
    "\n",
    "A = f.jacobian([xe, ve, ie]).subs(steady_state)\n",
    "B = f.jacobian([ue]).subs(steady_state)\n",
    "Cc = Matrix([[1,0,0]])\n",
    "A,B,Cc"
   ]
  },
  {
   "cell_type": "markdown",
   "metadata": {},
   "source": [
    "# Model comparisons"
   ]
  },
  {
   "cell_type": "markdown",
   "metadata": {},
   "source": [
    "\n",
    "\n",
    "To compare the nonlinear and linear models, we need to look at all three equations with respect to all three variables as well as the control input. Note, however, that all three variables and the control input show up linearly in the nonlinear model, except for\n",
    "\n",
    "- $x_e$ in the equation for $\\dot v_e$\n",
    "- $i_e$ in the equation for $\\dot v_e$\n",
    "- $x_e$ in the equation for $\\dot i_e$\n",
    "\n",
    "In this last occurrence, $x_e$ shows up in the denominator, but in the numerator $v_e = 0$ makes the nonlinear model zero. So just looking at the first two occurrences is informative."
   ]
  },
  {
   "cell_type": "code",
   "execution_count": 31,
   "metadata": {},
   "outputs": [
    {
     "data": {
      "image/png": "[encoded data removed]",
      "text/plain": [
       "<Figure size 864x360 with 2 Axes>"
      ]
     },
     "metadata": {},
     "output_type": "display_data"
    }
   ],
   "source": [
    "# Comparison between Nonlinear and linear models\n",
    "\n",
    "lin = A.subs(params)*Matrix([[xe],[ve],[ie]])+B.subs(params)*ue    \n",
    "\n",
    "fve = lambdify([xe,ve,ie,ue],dotve.subs(params),'numpy')\n",
    "gve = lambdify([xe,ve,ie,ue],lin[1,0].subs(params),'numpy')\n",
    "\n",
    "xevals = np.linspace(-0.04,0.04,30)\n",
    "ievals = np.linspace(-0.1,0.1,30)\n",
    "\n",
    "fig, ax = plt.subplots(1, 2, figsize=(12, 5))\n",
    "\n",
    "a0 = ax[0].plot(xevals,fve(xevals,0,0,0),xevals,gve(xevals,0,0,0));\n",
    "a1= ax[1].plot(ievals,fve(0,0,ievals,0),ievals,gve(0,0,ievals,0));\n",
    "\n",
    "ax[0].legend(a0, [ \"nonlinear\", \"linear\" ])\n",
    "ax[0].set_title(\"Nonlinear to linear\\ncomparison of $\\dot v_e$ versus $x_e$\")\n",
    "ax[0].set_xlabel(\"$x_e$\")\n",
    "ax[0].set_ylabel(\"$\\dot v_e$\")\n",
    "\n",
    "ax[1].legend(a0, [ \"nonlinear\", \"linear\" ])\n",
    "ax[1].set_title(\"Nonlinear to linear\\ncomparison of $\\dot v_e$ versus $i_e$\")\n",
    "ax[1].set_xlabel(\"$i_e$\")\n",
    "ax[1].set_ylabel(\"$\\dot v_e$\")\n",
    "\n",
    "fig.subplots_adjust(hspace=0.2)"
   ]
  },
  {
   "cell_type": "markdown",
   "metadata": {},
   "source": [
    "# Stability"
   ]
  },
  {
   "cell_type": "code",
   "execution_count": 34,
   "metadata": {},
   "outputs": [
    {
     "data": {
      "text/latex": [
       "$$\\left [ -30.1454601209201, \\quad 0.0727300604600666 - 19.7611050453331 i, \\quad 0.0727300604600666 + 19.7611050453331 i\\right ]$$"
      ],
      "text/plain": [
       "[-30.1454601209201, 0.0727300604600666 - 19.7611050453331⋅ⅈ, 0.072730060460066\n",
       "6 + 19.7611050453331⋅ⅈ]"
      ]
     },
     "execution_count": 34,
     "metadata": {},
     "output_type": "execute_result"
    }
   ],
   "source": [
    "# Put in parameters and find eigenvalues. Note the system\n",
    "# is unstable, which makes sense. Any deviation from the steady\n",
    "# state is either going to drop the marble, or make it stick\n",
    "# to the magnet.\n",
    "\n",
    "An = A.subs(params)\n",
    "eigs = An.eigenvals()\n",
    "eigs\n",
    "[N(ev) for ev in eigs]"
   ]
  },
  {
   "cell_type": "code",
   "execution_count": 35,
   "metadata": {},
   "outputs": [
    {
     "data": {
      "text/latex": [
       "$$\\frac{40.0 C \\sqrt{\\frac{M g}{C}}}{M \\left(- 1600.0 C g s + L s \\left(40.0 g + s^{2}\\right) + R \\left(40.0 g + s^{2}\\right)\\right)}$$"
      ],
      "text/plain": [
       "                               _____                   \n",
       "                              ╱ M⋅g                    \n",
       "                    40.0⋅C⋅  ╱  ───                    \n",
       "                           ╲╱    C                     \n",
       "───────────────────────────────────────────────────────\n",
       "  ⎛                    ⎛          2⎞     ⎛          2⎞⎞\n",
       "M⋅⎝-1600.0⋅C⋅g⋅s + L⋅s⋅⎝40.0⋅g + s ⎠ + R⋅⎝40.0⋅g + s ⎠⎠"
      ]
     },
     "execution_count": 35,
     "metadata": {},
     "output_type": "execute_result"
    }
   ],
   "source": [
    "# Find the transfer function symbolically\n",
    "var(\"s\")\n",
    "Gsym = (Cc*(s*eye(3)-A).inv()*B)[0,0]\n",
    "Gsym = Gsym.simplify()\n",
    "Gsym"
   ]
  },
  {
   "cell_type": "code",
   "execution_count": 36,
   "metadata": {},
   "outputs": [
    {
     "data": {
      "text/latex": [
       "$$\\frac{72.3325652801005}{1.0 s^{3} + 30.0 s^{2} + 386.1216 s + 11772.0}$$"
      ],
      "text/plain": [
       "            72.3325652801005           \n",
       "───────────────────────────────────────\n",
       "     3         2                       \n",
       "1.0⋅s  + 30.0⋅s  + 386.1216⋅s + 11772.0"
      ]
     },
     "execution_count": 36,
     "metadata": {},
     "output_type": "execute_result"
    }
   ],
   "source": [
    "# Substitute in the parameters\n",
    "Gsubs = Gsym.subs(params).cancel()\n",
    "Gsubs"
   ]
  },
  {
   "cell_type": "code",
   "execution_count": 38,
   "metadata": {},
   "outputs": [
    {
     "data": {
      "text/latex": [
       "$$\\frac{72.33}{s^3 + 30 s^2 + 386.1 s + 1.177e+04}$$"
      ],
      "text/plain": [
       "\n",
       "              72.33\n",
       "----------------------------------\n",
       "s^3 + 30 s^2 + 386.1 s + 1.177e+04"
      ]
     },
     "execution_count": 38,
     "metadata": {},
     "output_type": "execute_result"
    }
   ],
   "source": [
    "# Convert to a control systems toolbox represetation\n",
    "num,den = fraction(Gsubs)\n",
    "a = [float(c) for c in Poly(num,s).coeffs()]\n",
    "b = [float(c) for c in Poly(den,s).coeffs()]\n",
    "G = tf(a,b)\n",
    "G"
   ]
  },
  {
   "cell_type": "code",
   "execution_count": 39,
   "metadata": {},
   "outputs": [
    {
     "data": {
      "image/png": "[encoded data removed]",
      "text/plain": [
       "<Figure size 432x288 with 1 Axes>"
      ]
     },
     "metadata": {},
     "output_type": "display_data"
    }
   ],
   "source": [
    "# Plot the root locus. This shows the a simple proportional gain\n",
    "# will not work\n",
    "r,k=root_locus(G)"
   ]
  },
  {
   "cell_type": "markdown",
   "metadata": {},
   "source": [
    "# Control Design"
   ]
  },
  {
   "cell_type": "markdown",
   "metadata": {},
   "source": [
    "We need to place a zero somewhere that stabilizes the system\n",
    "(pulling the two zeros at infinity to the left) and that allows\n",
    "us to get a range of performances. \n",
    "\n",
    "Recall that to effect percent overshoot, we need to be able to damp the closed loop system so that the poles have small imaginary parts.\n",
    "\n",
    "<img src=\"https://raw.githubusercontent.com/klavins/ECE447/master/images/performance-summary.png\" width=50%>\n",
    "\n",
    "One way to do this is to choose two zeros such that if they were the poles, they would give the desired performance."
   ]
  },
  {
   "cell_type": "code",
   "execution_count": null,
   "metadata": {},
   "outputs": [],
   "source": [
    "# Choose two zeros \n",
    "((s+5)*(s+20)).expand()"
   ]
  },
  {
   "cell_type": "code",
   "execution_count": null,
   "metadata": {},
   "outputs": [],
   "source": [
    "Gc = tf([1,25,100],[1])\n",
    "r,k=root_locus(series(Gc,G),xlim=(-40,4))"
   ]
  },
  {
   "cell_type": "code",
   "execution_count": null,
   "metadata": {},
   "outputs": [],
   "source": [
    "# Plot\n",
    "def get_poles(klist,Gc,G):\n",
    "    return np.array([pole(feedback(series(tf([k],[1]),Gc,G))) for k in klist])\n",
    "\n",
    "# Define all the values of K we will use for the plot\n",
    "Kvals = np.linspace(0.001,10,500)\n",
    "\n",
    "# Some sample gains\n",
    "gains = np.array([ 0.1, 1, 3 ])\n",
    "\n",
    "plt.plot(\n",
    "    np.real(get_poles(Kvals,Gc,G)),\n",
    "    np.imag(get_poles(Kvals,Gc,G)),\n",
    ")\n",
    "\n",
    "plt.xlabel(\"Real\")\n",
    "plt.ylabel(\"Imaginary\")\n",
    "\n",
    "for k,p in zip(gains,get_poles(gains,Gc,G)):\n",
    "#     plt.text(np.real(p[0]), np.imag(p[0])+5,\"%0.2f\" % k)    \n",
    "    plt.text(np.real(p[1]), np.imag(p[1])+1,\"%0.2f\" % k)   \n",
    "    plt.text(np.real(p[2]), np.imag(p[2])+1,\"%0.2f\" % k)       \n",
    "\n",
    "plt.scatter(np.real(get_poles(gains,Gc,G)),np.imag(get_poles(gains,Gc,G)))\n",
    "\n",
    "plt.xlim(-40,4);\n",
    "plt.ylim(-22,22);\n",
    "plt.gca().set_aspect(1)\n",
    "plt.show()"
   ]
  },
  {
   "cell_type": "code",
   "execution_count": null,
   "metadata": {},
   "outputs": [],
   "source": [
    "ks = np.linspace(0.1,3,50) \n",
    "poles = get_poles(ks,Gc,G);\n",
    "\n",
    "plt.plot(ks,np.imag(poles));\n",
    "plt.xlabel(\"$K$\")\n",
    "plt.ylabel(\"Imaginary Part\")\n",
    "plt.title(\"Imaginary parts of poles vs gain K\");"
   ]
  },
  {
   "cell_type": "code",
   "execution_count": null,
   "metadata": {},
   "outputs": [],
   "source": [
    "plt.plot(ks,np.real(poles)[:,1]);\n",
    "plt.plot(ks,np.real(poles)[:,2]);\n",
    "plt.xlabel(\"$K$\")\n",
    "plt.ylabel(\"Real Part\")\n",
    "plt.title(\"Real parts of poles vs gain K\");"
   ]
  },
  {
   "cell_type": "code",
   "execution_count": null,
   "metadata": {},
   "outputs": [],
   "source": [
    "# Plot overshoot versus K\n",
    "\n",
    "# e^{-z pi/b} = e^{-wz pi / wb}\n",
    "# wz + wb i = pole\n",
    "# wz = re(pole)\n",
    "# wb = im(pole)\n",
    "# po = e^{wz * pi / wb}\n",
    "\n",
    "ks = np.linspace(0.1,3,50) \n",
    "poles = get_poles(ks,Gc,G);\n",
    "overshoot = np.exp(np.real(poles)*np.pi / np.abs(np.imag(poles)))\n",
    "plt.plot(ks,overshoot)\n",
    "plt.xlabel(\"$K$\")\n",
    "plt.ylabel(\"Percent Overshoot\");"
   ]
  },
  {
   "cell_type": "code",
   "execution_count": null,
   "metadata": {},
   "outputs": [],
   "source": [
    "# Time constant\n",
    "# 1 / zw  = 1 / re(pole)\n",
    "\n",
    "Ts = -4/np.real(poles)\n",
    "plt.plot(ks,Ts)\n",
    "plt.xlabel(\"$K$\")\n",
    "plt.ylabel(\"Settling Time\");"
   ]
  },
  {
   "cell_type": "code",
   "execution_count": null,
   "metadata": {},
   "outputs": [],
   "source": [
    "# Gain choice\n",
    "pole(feedback(series(tf([1],[1.75]),Gc,G)))"
   ]
  },
  {
   "cell_type": "code",
   "execution_count": null,
   "metadata": {},
   "outputs": [],
   "source": [
    "# Plot of linear response\n",
    "t,y = impulse_response(feedback(series(tf([1],[1]),Gc,G)));\n",
    "plt.plot(t,y);"
   ]
  },
  {
   "cell_type": "markdown",
   "metadata": {},
   "source": [
    "# Sensitivity to Magnet Constant"
   ]
  },
  {
   "cell_type": "code",
   "execution_count": null,
   "metadata": {},
   "outputs": [],
   "source": [
    "Cnom = 0.0004\n",
    "\n",
    "def plot_sense(k,plt):\n",
    "\n",
    "    Gcontrol = (s+5)*(s+20)\n",
    "    T = k*Gcontrol*Gsym / ( 1 + k*Gcontrol*Gsym ).simplify()\n",
    "\n",
    "    def po(c):\n",
    "        TC = T.subs(C,c).subs(params).cancel()\n",
    "        num,den = fraction(TC)\n",
    "        poles = solve(den.subs(C,c),s)\n",
    "        return exp(re(poles[1]) * pi / abs(im(poles[1])))\n",
    "\n",
    "    cvals = np.linspace(0.1*Cnom, 10*Cnom, 25)\n",
    "    tcvals = np.array([po(c) for c in cvals])\n",
    "\n",
    "    plt.plot(cvals, tcvals, label=\"K = %0.2f\" % k);\n",
    "    \n",
    "plt.plot()\n",
    "[plot_sense(k,plt) for k in np.linspace(0.1,2.1,5)]\n",
    "plt.plot([Cnom],[0],'o')\n",
    "    \n",
    "plt.xscale('log')\n",
    "plt.xlabel(\"Magnet constant\")\n",
    "plt.ylabel(\"Approx percent overshoot\");\n",
    "plt.legend();\n"
   ]
  },
  {
   "cell_type": "markdown",
   "metadata": {},
   "source": [
    "# Nonlinear Simulation"
   ]
  },
  {
   "cell_type": "code",
   "execution_count": null,
   "metadata": {},
   "outputs": [],
   "source": [
    "# Simulate the system\n",
    "ldx = lambdify([x,v,i], dotx.subs(params))\n",
    "ldv = lambdify([x,v,i], dotv.subs(params))\n",
    "ldi = lambdify([x,v,i,u], doti.subs(params))\n",
    "\n",
    "# Steay state values\n",
    "xss = xdes\n",
    "iss = ides.subs(params)\n",
    "\n",
    "# Initial condition as though you trop the ball in from above\n",
    "X0 = [xss+0.05,0,0]\n",
    "\n",
    "# Feedforward Input\n",
    "uff = udes.subs(params)\n",
    "\n",
    "# Control law\n",
    "def voltage(x,v,i):\n",
    "    K = .1\n",
    "    xe = xdes - x          # positional error\n",
    "    ve = 0 - v             # velocity error\n",
    "    ae = 0 - ldv(x,v,i)    # acceleration error\n",
    "    return uff + K * ( ae + 25*ve + 100*xe )\n",
    "\n",
    "# ODE right hand side\n",
    "def f(X,t):\n",
    "    x,v,i = X\n",
    "    u = voltage(x,v,i)\n",
    "    return [\n",
    "        ldx(x,v,i),\n",
    "        ldv(x,v,i),\n",
    "        ldi(x,v,i,u),\n",
    "    ]\n",
    "\n",
    "# Simulate\n",
    "tvals = np.linspace(0,3,100)\n",
    "X = spi.odeint(f,X0,tvals)\n",
    "\n",
    "# Plot\n",
    "fig, ax = plt.subplots(1, 2, figsize=(14, 5))\n",
    "plots = ax[0].plot(tvals,X);\n",
    "ax[1].plot(tvals,voltage(X[:,0],X[:,1],X[:,2]));\n",
    "fig.subplots_adjust(wspace=0.2)\n",
    "ax[0].legend(plots, [\"$x$\", \"$v$\", \"$I$\"]);\n",
    "ax[0].set_xlabel(\"$t$\")\n",
    "ax[0].set_ylabel(\"state\")\n",
    "ax[0].set_title(\"Transient Response\");\n",
    "ax[1].set_xlabel(\"$t$\")\n",
    "ax[1].set_ylabel(\"u (volts)\")\n",
    "ax[1].set_title(\"Control effort\");"
   ]
  },
  {
   "cell_type": "markdown",
   "metadata": {},
   "source": [
    "# Animation"
   ]
  },
  {
   "cell_type": "code",
   "execution_count": null,
   "metadata": {},
   "outputs": [],
   "source": [
    "# How to make an animation\n",
    "\n",
    "# Make a plot\n",
    "fig,ax = plt.subplots(1)\n",
    "\n",
    "# Add a line\n",
    "line, = ax.plot([0,0],[0,1])\n",
    "ax.set_xlim(-1.1,1.1)\n",
    "ax.set_ylim(-1.1,1.1)\n",
    "ax.set_aspect(1)\n",
    "\n",
    "# define an animation function that changes the plot\n",
    "def animate(f):\n",
    "    theta = -2*np.pi*f / 100\n",
    "    line.set_data([0,np.cos(theta)], [0,np.sin(theta)])\n",
    "\n",
    "# build the animation\n",
    "animation.FuncAnimation(fig, animate, frames=100, interval=20)"
   ]
  },
  {
   "cell_type": "code",
   "execution_count": null,
   "metadata": {},
   "outputs": [],
   "source": [
    "def anim():\n",
    "    \n",
    "    # This function is only here so that all the variables below are local to it and\n",
    "    # we don't overwrite them as defined above.\n",
    "    \n",
    "    # Position and current\n",
    "    x = X[:,0][0]\n",
    "    i = X[:,2][0]\n",
    "    \n",
    "    # Max and min current, for colors\n",
    "    cmax = max(X[:,2])\n",
    "    cmin = min(X[:,2])\n",
    "\n",
    "    # Make the plot\n",
    "    fig,ax = plt.subplots(1)\n",
    "    \n",
    "    # Render the magnet core, ball, and coils\n",
    "    mag = patches.Rectangle((-0.025,-0.1), 0.05, 0.1-0.01, color=\"darkgrey\")\n",
    "    ball = patches.Circle((1,x), 0.01)\n",
    "    coils = ax.plot([-0.125,0.03], [-0.025, -0.025], [-0.03,0.125], [-0.075, -0.075], color='orange')\n",
    "    for c in np.linspace(-0.025, -0.075,10):\n",
    "        coils += ax.plot([-0.03,0.03], [c, c], color='orange')  \n",
    "\n",
    "    # Add the parts to the plot\n",
    "    ax.add_patch(ball)\n",
    "    ax.add_patch(mag)\n",
    "    \n",
    "    # Make it look nice\n",
    "    ax.set_xlim(-.125,.125)\n",
    "    ax.set_ylim(-.1,.15)\n",
    "    ax.set_xticks([])\n",
    "    ax.set_aspect(1)\n",
    "\n",
    "    # Make a frame for each element of the simulation output X\n",
    "    num_frames = len(X)\n",
    "\n",
    "    # Define a function that will be called for each frame. It modifies the \n",
    "    # position of the ball and the color of the coil.\n",
    "    def animate(f):\n",
    "        x = X[:,0][f]\n",
    "        ball.set_center((0,x))\n",
    "        c = ( X[:,2][f] - cmin ) / ( cmax - cmin )\n",
    "        for coil in coils:\n",
    "            coil.set_color((c,c,1-c))\n",
    "\n",
    "    # Build the animation\n",
    "    anim = animation.FuncAnimation(fig, animate, frames=num_frames, interval=20)\n",
    "    return display_animation(anim, default_mode='loop')\n",
    "    \n",
    "anim()"
   ]
  },
  {
   "cell_type": "code",
   "execution_count": null,
   "metadata": {
    "collapsed": true
   },
   "outputs": [],
   "source": []
  }
 ],
 "metadata": {
  "kernelspec": {
   "display_name": "Python 3",
   "language": "python",
   "name": "python3"
  },
  "language_info": {
   "codemirror_mode": {
    "name": "ipython",
    "version": 3
   },
   "file_extension": ".py",
   "mimetype": "text/x-python",
   "name": "python",
   "nbconvert_exporter": "python",
   "pygments_lexer": "ipython3",
   "version": "3.6.1"
  },
  "widgets": {
   "application/vnd.jupyter.widget-state+json": {
    "state": {},
    "version_major": 1,
    "version_minor": 0
   }
  }
 },
 "nbformat": 4,
 "nbformat_minor": 2
}
