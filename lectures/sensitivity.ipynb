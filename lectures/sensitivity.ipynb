{
  "nbformat": 4,
  "nbformat_minor": 0,
  "metadata": {
    "kernelspec": {
      "display_name": "Python 3",
      "language": "python",
      "name": "python3"
    },
    "language_info": {
      "codemirror_mode": {
        "name": "ipython",
        "version": 3
      },
      "file_extension": ".py",
      "mimetype": "text/x-python",
      "name": "python",
      "nbconvert_exporter": "python",
      "pygments_lexer": "ipython3",
      "version": "3.6.1"
    },
    "latex_envs": {
      "LaTeX_envs_menu_present": true,
      "autoclose": false,
      "autocomplete": true,
      "bibliofile": "biblio.bib",
      "cite_by": "apalike",
      "current_citInitial": 1,
      "eqLabelWithNumbers": true,
      "eqNumInitial": 1,
      "hotkeys": {
        "equation": "Ctrl-E",
        "itemize": "Ctrl-I"
      },
      "labels_anchors": false,
      "latex_user_defs": false,
      "report_style_numbering": false,
      "user_envs_cfg": false
    },
    "colab": {
      "name": "sensitivity.ipynb",
      "provenance": [],
      "include_colab_link": true
    }
  },
  "cells": [
    {
      "cell_type": "markdown",
      "metadata": {
        "id": "view-in-github",
        "colab_type": "text"
      },
      "source": [
        "<a href=\"https://colab.research.google.com/github/christakahashi/ECE447/blob/master/lectures/sensitivity.ipynb\" target=\"_parent\"><img src=\"https://colab.research.google.com/assets/colab-badge.svg\" alt=\"Open In Colab\"/></a>"
      ]
    },
    {
      "cell_type": "markdown",
      "metadata": {
        "id": "bo3MauW0KzVp",
        "colab_type": "text"
      },
      "source": [
        "ECE 447: Sensitivity\n",
        "===\n",
        "\n",
        "Updated by \n",
        " Dr. Chris Takahashi\n",
        "\n",
        "Authored by Prof. Eric Klavins &copy; 2019, University of Washington\n"
      ]
    },
    {
      "cell_type": "markdown",
      "metadata": {
        "heading_collapsed": true,
        "id": "2iqUgIPwKzVr",
        "colab_type": "text"
      },
      "source": [
        "# Code"
      ]
    },
    {
      "cell_type": "code",
      "metadata": {
        "hidden": true,
        "id": "JgsdWPbzKzVu",
        "colab_type": "code",
        "colab": {}
      },
      "source": [
        "import numpy as np\n",
        "import scipy.integrate as spi\n",
        "from scipy.optimize import leastsq\n",
        "import matplotlib.pyplot as plt\n",
        "from sympy import *\n",
        "\n",
        "%matplotlib inline\n",
        "\n",
        "#comment out for light mode\n",
        "plt.style.use('dark_background')"
      ],
      "execution_count": 0,
      "outputs": []
    },
    {
      "cell_type": "markdown",
      "metadata": {
        "heading_collapsed": true,
        "id": "r40U4vUUKzV5",
        "colab_type": "text"
      },
      "source": [
        "# Definitions"
      ]
    },
    {
      "cell_type": "markdown",
      "metadata": {
        "hidden": true,
        "id": "yQQQVLvSKzV6",
        "colab_type": "text"
      },
      "source": [
        "Sensitivity is about how much a given quantity changes when some other quantity changes. It is simple concept graphically:"
      ]
    },
    {
      "cell_type": "code",
      "metadata": {
        "hidden": true,
        "id": "_C6TqJG_KzV7",
        "colab_type": "code",
        "colab": {
          "base_uri": "https://localhost:8080/",
          "height": 296
        },
        "outputId": "e6f002a7-6b21-49a1-939a-9092207c6c5e"
      },
      "source": [
        "x = np.linspace(0.01,10,100)\n",
        "plt.plot(t,1-np.exp(-x));\n",
        "plt.xlabel(\"$x$\")\n",
        "plt.ylabel(\"$y$\")\n",
        "plt.text(1.2,0.5,\"$y$ sensitive to\\nchanges in $x$\",horizontalalignment='left')\n",
        "plt.text(7,0.85,\"$y$ insensitive to\\nchanges in $x$\",horizontalalignment='left')\n",
        "plt.title(\"$1-e^{-x}$\");"
      ],
      "execution_count": 5,
      "outputs": [
        {
          "output_type": "display_data",
          "data": {
            "image/png": "[encoded data removed]",
            "text/plain": [
              "<Figure size 432x288 with 1 Axes>"
            ]
          },
          "metadata": {
            "tags": []
          }
        }
      ]
    },
    {
      "cell_type": "markdown",
      "metadata": {
        "hidden": true,
        "id": "pEBVGxVQKzWE",
        "colab_type": "text"
      },
      "source": [
        "Formally, we define the sensitivity of a value $y$ to changes in $x$ by\n",
        "\n",
        "\\begin{align}\n",
        "\\mathrm{Sensitivity} = \\frac{\\mathrm{\\%\\;change\\;in\\;y}}{\\mathrm{\\%\\;change\\;in\\;x}}\n",
        "                     = \\frac{\\Delta y / y}{\\Delta x / x} \n",
        "                     = \\frac{\\Delta y}{\\Delta x} \\frac{x}{y}\n",
        "\\end{align}\n",
        "\n",
        "Taking the limit we get\n",
        "\n",
        "$$\n",
        "S^y_x = \\frac{\\partial y}{\\partial x}\\frac{x}{y}\n",
        "$$\n",
        "\n",
        "In the above example where $y=1-e^{-x}$ we get\n",
        "\n",
        "$$\n",
        "S^y_x = e^{-x} \\frac{x}{y} =  \\frac{xe^{-x}}{1-e^{-x}}.\n",
        "$$\n",
        "\n",
        "Plotting function this shows how the sensitivity changes with x."
      ]
    },
    {
      "cell_type": "code",
      "metadata": {
        "hidden": true,
        "id": "VGX2Rw0KKzWG",
        "colab_type": "code",
        "colab": {
          "base_uri": "https://localhost:8080/",
          "height": 297
        },
        "outputId": "47f63c03-b356-4b54-cc27-d44f58718fe2"
      },
      "source": [
        "plt.plot(x,x*np.exp(-x)/(1-np.exp(-x)))\n",
        "plt.xlabel(\"$x$\")\n",
        "plt.ylabel(\"$S_x^y$\")\n",
        "plt.title(\"Sensitivity of $1-e^{-x}$ to changes in $x$\");"
      ],
      "execution_count": 6,
      "outputs": [
        {
          "output_type": "display_data",
          "data": {
            "image/png": "[encoded data removed]",
            "text/plain": [
              "<Figure size 432x288 with 1 Axes>"
            ]
          },
          "metadata": {
            "tags": []
          }
        }
      ]
    },
    {
      "cell_type": "markdown",
      "metadata": {
        "heading_collapsed": true,
        "id": "i0CUNkKTKzWQ",
        "colab_type": "text"
      },
      "source": [
        "# Sensitivity of Systems "
      ]
    },
    {
      "cell_type": "markdown",
      "metadata": {
        "hidden": true,
        "id": "McmnQTu7KzWR",
        "colab_type": "text"
      },
      "source": [
        "You can extend the definition of sensitivity to entire linear I/O systems. Say $T$ is the transfer function for an entire system, and $G$ is a component (i.e. G is a block in the larger block diagram $T$). Then we define \n",
        "\n",
        "$$\n",
        "S_G^T = \\frac{\\partial T}{\\partial G} \\frac{G}{T}\n",
        "$$\n",
        "\n",
        "the same way we defined sensitivity above. We can use this definition to look at various block diagrams."
      ]
    },
    {
      "cell_type": "markdown",
      "metadata": {
        "heading_collapsed": true,
        "id": "JQEDZEyrKzWT",
        "colab_type": "text"
      },
      "source": [
        "# Examples"
      ]
    },
    {
      "cell_type": "markdown",
      "metadata": {
        "hidden": true,
        "id": "W1YDmA4-KzWU",
        "colab_type": "text"
      },
      "source": [
        "Example: Open Loop Control\n",
        "---\n",
        "\n",
        "In *open loop control* we are controlling a plant $G(s)$ with a controller $G_c(s)$ that just conditions the user's input to $G(s)$ without using $y$. \n",
        "\n",
        "<img width=35% src=\"https://raw.githubusercontent.com/klavins/ECE447/master/images/sensitivity-series.png\">\n",
        "\n",
        "Remember that we do not usually have a very good model of the plant, $G(s)$, so we should explore what happens to the overall systems upon small changes to $G(s)$. That is we should look at\n",
        "\n",
        "$$\n",
        "S_G^T = \\frac{\\partial G_c G}{G} \\frac{G}{G_c G} = G_c \\frac{G}{G_c G} = 1.\n",
        "$$\n",
        "\n",
        "In this case we see the overall system is highly sensitive to changes in (or uncertainty about) the plant. This argument shows that open loop control is really not very good."
      ]
    },
    {
      "cell_type": "markdown",
      "metadata": {
        "hidden": true,
        "id": "2VnNFJoMKzWU",
        "colab_type": "text"
      },
      "source": [
        "Example: Feedback\n",
        "---\n",
        "\n",
        "Now consider a very simple proportional feedback controller consisting of just a gain block $K$ controlling the plant $G(s)$.\n",
        "\n",
        "<img width=35% src=\"https://raw.githubusercontent.com/klavins/ECE447/master/images/sensitivity-feedback.png\">\n",
        "\n",
        "We can once again ask: What is the change in the entire system given changes in the plant? The transfer function of the overall system is\n",
        "\n",
        "$$\n",
        "T(s) = \\frac{KG(s)}{1+KG(s)}\n",
        "$$\n",
        "\n",
        "The partial derivative part of expression for sensitivity is\n",
        "\n",
        "$$\n",
        "\\frac{\\partial T}{\\partial G} = \\frac{(1+KG)K - K^2G}{(1+KG)^2} = \\frac{K}{(1+KG)^2}\n",
        "$$\n",
        "\n",
        "So\n",
        "\n",
        "$$\n",
        "S_G^T = \\frac{K}{(1+KG)^2} \\frac{G(1+KG)}{KG} = \\frac{1}{1+KG}\n",
        "$$\n",
        "\n",
        "Here, as $K$ gets big, the sensitivity goes to zero! Said differently, the overall sensitivity of the system to uncertainly about or changes in the plant can be made arbitrarily small by tuning the feedback gain $K$.\n",
        "\n",
        "Of course, there are tradeoffs:\n",
        "- A big $K$ will likely make the system very aggressive;\n",
        "- A big $K$ may result in a large input $u$ to $G(s)$ which may not be realizable by the actual hardware used;\n",
        "- If there is a sensor for $y$ that has any noise, then $K$ will be multiplying that noise."
      ]
    },
    {
      "cell_type": "markdown",
      "metadata": {
        "hidden": true,
        "id": "GAcX8SsJKzWW",
        "colab_type": "text"
      },
      "source": [
        "Example: Sensitivity to a Parameter\n",
        "---\n",
        "\n",
        "You can also look at the sensitivity to changes in a parameter. For example, say that\n",
        "\n",
        "$$\n",
        "T(s) = \\frac{1}{1+a}\n",
        "$$\n",
        "\n",
        "where $a$ is some measured parameter of the system that might change from day to day, or which isn't known very well. Then\n",
        "\n",
        "$$\n",
        "S_a^T = \\frac{\\partial T}{\\partial a} \\frac{a}{T} = \\frac{1}{(s+a)^2} a \\frac{s+1}{1} = \\frac{a}{s+a}.\n",
        "$$\n",
        "\n",
        "In this case we can see that the sensitivity depends on $a$. If $a$ is small, then so is the sensitivity. But as $a$ increases, the sensitivity goes to one."
      ]
    },
    {
      "cell_type": "markdown",
      "metadata": {
        "hidden": true,
        "id": "TrbdMCHSKzWX",
        "colab_type": "text"
      },
      "source": [
        "Example: Sensitivity of Steady State\n",
        "---\n",
        "\n",
        "Suppose the input to the above system is the step $U(s) = \\frac{1}{s}$. Then \n",
        "\n",
        "$$\n",
        "Y(s) = \\frac{1}{s}\\frac{1}{s+a}\n",
        "$$\n",
        "\n",
        "Using the final value theorem we get that\n",
        "\n",
        "$$\n",
        "y^* = \\lim_{s \\rightarrow 0}s Y(s) = \\frac{1}{a}\n",
        "$$\n",
        "\n",
        "Thus, the steady state of the system depends on $a$ directly -- so it is highly sensitive to $a$. In particular,\n",
        "\n",
        "$$\n",
        "S_a^{y^*} = \\frac{\\partial (1/a)}{\\partial{a}} \\frac{a}{1} = -\\frac{1}{a}.\n",
        "$$"
      ]
    },
    {
      "cell_type": "markdown",
      "metadata": {
        "hidden": true,
        "id": "NahPX0rJKzWZ",
        "colab_type": "text"
      },
      "source": [
        "Example: Sensitivity to a Parameter with Feedback\n",
        "---\n",
        "\n",
        "Now suppose we put the above system in a feedback configuration:\n",
        "\n",
        "<img width=45% src=\"https://raw.githubusercontent.com/klavins/ECE447/master/images/sensitivity-param.png\">\n",
        "\n",
        "Then \n",
        "\n",
        "$$\n",
        "T(s) = \\frac{K}{s+a+K}\n",
        "$$\n",
        "\n",
        "and\n",
        "\n",
        "$$\n",
        "S_a^T = \\frac{-K}{(s+a+K)^2} a \\frac{s+a+K}{-K} = \\frac{-a}{s+a+K}\n",
        "$$\n",
        "\n",
        "which can be made very small by making the tunable parameter $K$ big.\n",
        "\n",
        "Note that the response of this system to a step input $1/s$ is \n",
        "\n",
        "$$\n",
        "Y(s) = \\frac{1}{s}\\frac{K}{s+a+K}\n",
        "$$\n",
        "\n",
        "which, using the final value theorem, goes to\n",
        "\n",
        "$$\n",
        "y(\\infty) = \\lim_{s \\rightarrow 0} s \\frac{1}{s}\\frac{K}{s+a+K} = \\frac{K}{a+K}.\n",
        "$$\n",
        "\n",
        "Thus, the final value can be made arbitrarily insensitive to changes in $a$ by tuning $K$."
      ]
    },
    {
      "cell_type": "markdown",
      "metadata": {
        "hidden": true,
        "id": "tGbD5HC2KzWZ",
        "colab_type": "text"
      },
      "source": [
        "Example: Sensor Problems\n",
        "---\n",
        "\n",
        "Now let's look at a different component, the sensor, which takes the actual $y$ as an input and returns an estimate of $y$. Calling the sensor $H$, we have the following block diagram:\n",
        "\n",
        "<img width=45% src=\"https://raw.githubusercontent.com/klavins/ECE447/master/images/sensitivity-sensor.png\">\n",
        "\n",
        "The transfer function is\n",
        "\n",
        "$$\n",
        "T =\\frac{G}{1+GH}\n",
        "$$\n",
        "\n",
        "The sensitivity to changes in $H$ is then\n",
        "\n",
        "$$\n",
        "S^T_H = \\frac{-G^2}{(1+GH)^2} H \\frac{1+GH}{G} = - \\frac{GH}{1+GH}.\n",
        "$$\n",
        "\n",
        "if $GH$ is large, then $S^T_H \\approx 1$. In general\n",
        "\n",
        "> Systems can be very sensitive to sensor noise and uncertainty. \n",
        "\n",
        "Sensors are typically the most expensive part of a system for this reason."
      ]
    },
    {
      "cell_type": "markdown",
      "metadata": {
        "id": "CQ4sTWqEKzWb",
        "colab_type": "text"
      },
      "source": [
        "# Sensitivity Depends on Frequency\n",
        "\n"
      ]
    },
    {
      "cell_type": "markdown",
      "metadata": {
        "id": "vN9FIWaqKzWc",
        "colab_type": "text"
      },
      "source": [
        "Let's look at the following example in more detail.\n",
        "\n",
        "<img width=55% src=\"https://github.com/christakahashi/ECE447/blob/master/images/sensitivity-example.png?raw=1\">\n",
        "\n",
        "Using $T = \\frac{G}{1+GH}$ with $G = (K_p + K_ds)/s^2$ and $H=1$, we find that the transfer function is\n",
        "\n",
        "$$\n",
        "T(s) = \\frac{K_p+K_ds}{s^2+K_ds+K_p}\n",
        "$$\n",
        "\n",
        "Similarly to the feedback example above, we can look at the sensitivity of the system to changes in $G$:\n",
        "\n",
        "$$\n",
        "S_G^T = \\frac{\\partial KG}{\\partial G} = \\frac{1}{1+KG}\n",
        "$$\n",
        "\n",
        "Here, $K = K_P + K_ds$, so we get\n",
        "\n",
        "$$\n",
        "S_G^T = \\frac{1}{1+\\frac{K_p + K_ds}{s^2}} = \\frac{s^2}{s^2+K_ds+K_p}.\n",
        "$$\n",
        "\n",
        "We want $|S_G^T|$ to be small. Let's look at what happens when $s = i \\omega$ and $\\omega$ varies.\n",
        "\n",
        "Then\n",
        "\n",
        "\\begin{align}\n",
        "S_G^T(i\\omega) & = \\frac{(i\\omega)^2}{(i\\omega)^2+K_di\\omega+K_p} \\\\\n",
        "               & = \\frac{-\\omega^2}{K_p - \\omega^2 + K_d i \\omega}.\n",
        "\\end{align}\n",
        "\n",
        "As $\\omega \\rightarrow 0$, \n",
        "\n",
        "$$\n",
        "S_G^T(i\\omega) \\rightarrow 0\n",
        "$$\n",
        "\n",
        "So that's good.\n",
        "\n",
        "As $\\omega \\rightarrow \\infty$, \n",
        "\n",
        "\\begin{align}\n",
        "\\lim_{\\omega \\rightarrow \\infty} S_G^T(i\\omega) \n",
        "  = \\lim_{\\omega \\rightarrow \\infty} \\frac{-1}{\\frac{K_p}{\\omega^2} - 1 + \\frac{K_d}{\\omega}}\n",
        "  = 1.\n",
        "\\end{align}\n",
        "\n",
        "\n",
        "Also, if $K_d = 0$, then\n",
        "\n",
        "$$\n",
        "S_G^T = \\frac{-\\omega^2}{K_p-\\omega^2}\n",
        "$$\n",
        "\n",
        "which is $\\infty$ when $\\omega = \\sqrt{K_p}$. Therefore, we really need a non-zero $K_d$. \n",
        "\n",
        "More generally, you can plot the sensitivity versus frequency to get the following figure. Knowing what frequencies your system will be operating at is crucial."
      ]
    },
    {
      "cell_type": "code",
      "metadata": {
        "id": "fR8MTkkNKzWc",
        "colab_type": "code",
        "colab": {
          "base_uri": "https://localhost:8080/",
          "height": 497
        },
        "outputId": "2e244359-0689-4327-c904-e0a27d2a21a2"
      },
      "source": [
        "omega = np.linspace(0,10,100)\n",
        "plt.figure(figsize=(10,8))\n",
        "for Kp,Kd in [[0,0.5], [0,1], [1,0.5], [1,1], [10,10], [10,20]]:\n",
        "    STG = -omega**2 / ( Kp - omega**2 + Kd*I )\n",
        "    plt.plot(omega, np.abs(STG),label=\"$K_p$ = %.2f, $K_d$ = %.2f\" % (Kp,Kd))\n",
        "plt.xlabel(\"$\\omega$\")\n",
        "plt.ylabel(\"$|S_T^G(i \\omega)|$\")\n",
        "plt.legend();"
      ],
      "execution_count": 7,
      "outputs": [
        {
          "output_type": "display_data",
          "data": {
            "image/png": "[encoded data removed]",
            "text/plain": [
              "<Figure size 720x576 with 1 Axes>"
            ]
          },
          "metadata": {
            "tags": []
          }
        }
      ]
    },
    {
      "cell_type": "markdown",
      "metadata": {
        "heading_collapsed": true,
        "id": "-Ftf1t-FKzWi",
        "colab_type": "text"
      },
      "source": [
        "# Summary"
      ]
    },
    {
      "cell_type": "markdown",
      "metadata": {
        "hidden": true,
        "id": "aKzVrK56KzWj",
        "colab_type": "text"
      },
      "source": [
        "- Sensitivity of a system to a part is defined by $S_G^T = \\frac{\\partial T}{\\partial G}\\frac{G}{T}$.\n",
        "- Open loop is generally not good.\n",
        "- Closed loop can be good, but you need to understand your frequencies\n",
        "- Low variability/ noise sensors are crucial "
      ]
    },
    {
      "cell_type": "code",
      "metadata": {
        "hidden": true,
        "id": "Dl2OC3GgKzWk",
        "colab_type": "code",
        "colab": {}
      },
      "source": [
        ""
      ],
      "execution_count": 0,
      "outputs": []
    }
  ]
}