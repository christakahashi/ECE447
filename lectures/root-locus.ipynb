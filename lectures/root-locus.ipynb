{
 "cells": [
  {
   "cell_type": "markdown",
   "metadata": {},
   "source": [
    "ECE 447: Root Locus\n",
    "===\n",
    "\n",
        "Updated by \n",
        " Dr. Chris Takahashi\n",
        "\n",
        "Authored by Prof. Eric Klavins &copy; 2019, University of Washington\n"
   ]
  },
  {
   "cell_type": "markdown",
   "metadata": {
    "heading_collapsed": true
   },
   "source": [
    "# Code"
   ]
  },
  {
   "cell_type": "code",
   "execution_count": 2,
   "metadata": {
    "collapsed": true,
    "hidden": true
   },
   "outputs": [],
   "source": [
    "import numpy as np\n",
    "import scipy.integrate as spi\n",
    "import matplotlib.pyplot as plt\n",
    "from sympy import *\n",
    "from control import *\n",
    "\n",
    "%matplotlib inline\n",
    "\n",
    "# Comment out in Google colab \n",
    "init_printing(use_latex='mathjax')\n",
    "\n",
    "# Uncomment in below Google colab to render sympy equations nicely\n",
    "# def custom_latex_printer(exp,**options):\n",
    "#     from google.colab.output._publish import javascript\n",
    "#     url = \"https://cdnjs.cloudflare.com/ajax/libs/mathjax/2.7.3/latest.js?config=default\"\n",
    "#     javascript(url=url)\n",
    "#     return printing.latex(exp,**options)\n",
    "# init_printing(use_latex=\"mathjax\",latex_printer=custom_latex_printer)"
   ]
  },
  {
   "cell_type": "markdown",
   "metadata": {},
   "source": [
    "# Definition of the Root Locus"
   ]
  },
  {
   "cell_type": "markdown",
   "metadata": {},
   "source": [
    "Consider a system with the following block diagram:\n",
    "\n",
    "\n",
    "<img width=55% src=\"https://raw.githubusercontent.com/klavins/ECE447/master/images/root-locus-blocks.png\">\n",
    "\n",
    "\n",
    "Here, we have a plant $G(s)$, a controller $G_c(s)$ and a gain $K \\geq 0$. The question is\n",
    "\n",
    "> What are the poles of the closed loop system $T(s)$ as a function of the gain $K$?\n",
    "\n",
    "The **root locus** is a plot of the locations of the poles of $T(s)$ in the imaginary plane as $K$ goes from $0$ to $\\infty$. "
   ]
  },
  {
   "cell_type": "code",
   "execution_count": 164,
   "metadata": {},
   "outputs": [
    {
     "data": {
      "text/latex": [
       "$$\\frac{K \\left(s + 1\\right)}{K \\left(s + 1\\right) + s^{2} + 1}$$"
      ],
      "text/plain": [
       "    K⋅(s + 1)     \n",
       "──────────────────\n",
       "             2    \n",
       "K⋅(s + 1) + s  + 1"
      ]
     },
     "execution_count": 164,
     "metadata": {},
     "output_type": "execute_result"
    }
   ],
   "source": [
    "# Example\n",
    "#\n",
    "# Let's define a simple system and finds its root locus plot.\n",
    "var(\"K s\")\n",
    "G = K*(s+1) / ( s**2 + 1 )\n",
    "T = G / ( 1 + G )\n",
    "T = T.simplify()\n",
    "T"
   ]
  },
  {
   "cell_type": "code",
   "execution_count": 173,
   "metadata": {},
   "outputs": [
    {
     "data": {
      "text/latex": [
       "$$\\left [ - \\frac{K}{2} - \\frac{1}{2} \\sqrt{K^{2} - 4 K - 4}, \\quad - \\frac{K}{2} + \\frac{1}{2} \\sqrt{K^{2} - 4 K - 4}\\right ]$$"
      ],
      "text/plain": [
       "⎡         ______________           ______________⎤\n",
       "⎢        ╱  2                     ╱  2           ⎥\n",
       "⎢  K   ╲╱  K  - 4⋅K - 4     K   ╲╱  K  - 4⋅K - 4 ⎥\n",
       "⎢- ─ - ─────────────────, - ─ + ─────────────────⎥\n",
       "⎣  2           2            2           2        ⎦"
      ]
     },
     "execution_count": 173,
     "metadata": {},
     "output_type": "execute_result"
    }
   ],
   "source": [
    "# Compute the poles\n",
    "num,den = fraction(T)\n",
    "poles = solve(den,s)\n",
    "poles"
   ]
  },
  {
   "cell_type": "code",
   "execution_count": 174,
   "metadata": {},
   "outputs": [
    {
     "data": {
      "text/latex": [
       "$$\\left [ 2 + 2 \\sqrt{2}, \\quad - 2 \\sqrt{2} + 2\\right ]$$"
      ],
      "text/plain": [
       "[2 + 2⋅√2, -2⋅√2 + 2]"
      ]
     },
     "execution_count": 174,
     "metadata": {},
     "output_type": "execute_result"
    }
   ],
   "source": [
    "# Find the K that makes the imaginary parts 0, so the system is critically damped.\n",
    "# Note, K is non-negative, so one of these won't matter.\n",
    "solve(K**2-4*K-4,K)"
   ]
  },
  {
   "cell_type": "code",
   "execution_count": 175,
   "metadata": {},
   "outputs": [
    {
     "name": "stdout",
     "output_type": "stream",
     "text": [
      "K\t\tpole[0](K)\n",
      "----------------------------------\n",
      "0.00 \t\t -1.0*I\n",
      "1.00 \t\t -0.5 - 1.3*I\n",
      "3.41 \t\t -1.7 - 1.2*I\n",
      "5.00 \t\t -3.0\n",
      "10.00 \t\t -8.7\n",
      "100.00 \t\t -99.\n",
      "\n",
      "K\t\tpole[1](K)\n",
      "----------------------------------\n",
      "0.00 \t\t 1.0*I\n",
      "1.00 \t\t -0.5 + 1.3*I\n",
      "3.41 \t\t -1.7 + 1.2*I\n",
      "5.00 \t\t -2.0\n",
      "10.00 \t\t -1.3\n",
      "100.00 \t\t -1.0\n"
     ]
    }
   ],
   "source": [
    "# We can figure out the poles for other values of K as well.\n",
    "gains = [ 0, 1, 2 + sqrt(2), 5, 10, 100]\n",
    "\n",
    "print(\"K\\t\\tpole[0](K)\\n----------------------------------\")\n",
    "for k in points:\n",
    "    print(\"%0.2f\" % N(k), \"\\t\\t\", N(poles[0].subs(K,k),2) )\n",
    "print(\"\\nK\\t\\tpole[1](K)\\n----------------------------------\")\n",
    "for k in points:\n",
    "    print(\"%0.2f\" % N(k), \"\\t\\t\", N(poles[1].subs(K,k),2) )    "
   ]
  },
  {
   "cell_type": "code",
   "execution_count": 179,
   "metadata": {},
   "outputs": [
    {
     "data": {
      "image/png": "[encoded data removed]",
      "text/plain": [
       "<matplotlib.figure.Figure at 0x1243016a0>"
      ]
     },
     "metadata": {},
     "output_type": "display_data"
    }
   ],
   "source": [
    "# Now let's plot the whole root locus in the imaginary plane\n",
    "\n",
    "# Define all the values of K we will use\n",
    "Kvals = np.linspace(0,10,1000)\n",
    "\n",
    "# Create numpy functions from expressions for the poles\n",
    "f0 = lambdify(K,[re(poles[0]),im(poles[0])],'numpy')\n",
    "f1 = lambdify(K,[re(poles[1]),im(poles[1])],'numpy')\n",
    "\n",
    "# Plot\n",
    "plt.plot(f0(Kvals)[0],f0(Kvals)[1])\n",
    "plt.plot(f1(Kvals)[0],f1(Kvals)[1])\n",
    "plt.xlabel(\"Real\")\n",
    "plt.ylabel(\"Imaginary\")\n",
    "\n",
    "# Point out some particular values of K\n",
    "gains = [0,3,2+2*np.sqrt(2),5]\n",
    "\n",
    "for k in gains:\n",
    "    plt.text(f0(k)[0], f0(k)[1]+0.1,\"%0.1f\" % k)\n",
    "    plt.text(f1(k)[0], f1(k)[1]-0.2,\"%0.1f\" % k)    \n",
    "\n",
    "plt.scatter(f0(gains)[0],f0(gains)[1])\n",
    "plt.scatter(f1(gains)[0],f1(gains)[1])\n",
    "\n",
    "plt.xlim(-4,1);"
   ]
  },
  {
   "cell_type": "code",
   "execution_count": 177,
   "metadata": {},
   "outputs": [
    {
     "data": {
      "text/latex": [
       "$$\\left ( K \\left(s + 1\\right), \\quad s^{2} + 1\\right )$$"
      ],
      "text/plain": [
       "⎛            2    ⎞\n",
       "⎝K⋅(s + 1), s  + 1⎠"
      ]
     },
     "execution_count": 177,
     "metadata": {},
     "output_type": "execute_result"
    },
    {
     "data": {
      "image/png": "[encoded data removed]",
      "text/plain": [
       "<matplotlib.figure.Figure at 0x10d7e0dd8>"
      ]
     },
     "metadata": {},
     "output_type": "display_data"
    }
   ],
   "source": [
    "# You can do most of the above with the control systems toolbox.\n",
    "# The plot is better in that it shows the poles and zeros, but also \n",
    "# finds the x-intercept better than our plot does.\n",
    "sys = tf([1,1],[1,0,1])\n",
    "plot = root_locus(sys,xlim=(-4,1))\n",
    "fraction(G)"
   ]
  },
  {
   "cell_type": "markdown",
   "metadata": {
    "heading_collapsed": true
   },
   "source": [
    "# Property 1: Limits"
   ]
  },
  {
   "cell_type": "markdown",
   "metadata": {
    "hidden": true
   },
   "source": [
    "Say $G$ is a controller $G_c$ in series with a plant $G_p$. And suppose that\n",
    "\n",
    "$$\n",
    "G(s) = G_c(s) G_p(s) = \\frac{p(s)}{q(s)}\n",
    "$$\n",
    "\n",
    "where $p(s)$ and $q(s)$ are polynomials. Then the closed loop transfer function is\n",
    "\n",
    "$$\n",
    "T(s) = \\frac{G(s)}{1+G(s)} = \\frac{\\frac{Kp(s)}{q(s)}}{1+\\frac{Kp(s)}{q(s)}} = \\frac{Kp(s)}{q(s)+Kp(s)}.\n",
    "$$\n",
    "\n",
    "Thus,\n",
    "\n",
    "**K=0**: In this case the poles of $T(s)$ are the roots of $q(s)$ -- the **poles** of $G(s)$. \n",
    "\n",
    "**K=$\\infty$**: In this case, the $T(s)$ tends to $p(s)/p(s)$, so the poles of $T(s)$ are the roots of $p(s)$ -- the **zeros** of $G(s)$.\n",
    "\n",
    "Therefore,\n",
    "\n",
    "> The root locus goes from the poles of $G(s)$ to the zeros of $G(s)$ as $K$ goes from $0$ to $\\infty$. "
   ]
  },
  {
   "cell_type": "code",
   "execution_count": 180,
   "metadata": {
    "hidden": true
   },
   "outputs": [
    {
     "data": {
      "image/png": "[encoded data removed]",
      "text/plain": [
       "<matplotlib.figure.Figure at 0x123277668>"
      ]
     },
     "metadata": {},
     "output_type": "display_data"
    }
   ],
   "source": [
    "# Example: Say G(s) = (s+2) / (s+1)\n",
    "# \n",
    "# In this case, the root locus goes from -1 to -2.\n",
    "#\n",
    "G = tf([1,2],[1,1])\n",
    "plot = root_locus(G,xlim=[-3,1])"
   ]
  },
  {
   "cell_type": "code",
   "execution_count": 186,
   "metadata": {
    "hidden": true
   },
   "outputs": [
    {
     "data": {
      "text/latex": [
       "$$- \\frac{2 K + 1}{K + 1}$$"
      ],
      "text/plain": [
       "-(2⋅K + 1) \n",
       "───────────\n",
       "   K + 1   "
      ]
     },
     "execution_count": 186,
     "metadata": {},
     "output_type": "execute_result"
    }
   ],
   "source": [
    "# Note that we could have drawn this without Python or even knowing what T(s) is.\n",
    "# But just to check.\n",
    "G = (s+2)/(s+1)\n",
    "T = K*G / ( 1 + K*G )\n",
    "num,den = fraction(T)\n",
    "pole = solve(den,s)[0]\n",
    "pole"
   ]
  },
  {
   "cell_type": "code",
   "execution_count": 188,
   "metadata": {
    "hidden": true
   },
   "outputs": [
    {
     "data": {
      "text/latex": [
       "$$\\left ( -1, \\quad -2\\right )$$"
      ],
      "text/plain": [
       "(-1, -2)"
      ]
     },
     "execution_count": 188,
     "metadata": {},
     "output_type": "execute_result"
    }
   ],
   "source": [
    "pole.subs(K,0), limit(pole,K,oo)"
   ]
  },
  {
   "cell_type": "markdown",
   "metadata": {
    "heading_collapsed": true
   },
   "source": [
    "# Property 2: Symmetry"
   ]
  },
  {
   "cell_type": "markdown",
   "metadata": {
    "hidden": true
   },
   "source": [
    "> The root locus is **symmetric** about the real axis, because poles come in complex conjugate pairs.\n",
    "\n",
    "**Note**: In the previous example, this property shows the root locus for only one pole does not come off of the real axis."
   ]
  },
  {
   "cell_type": "code",
   "execution_count": 300,
   "metadata": {
    "hidden": true
   },
   "outputs": [
    {
     "data": {
      "image/png": "[encoded data removed]",
      "text/plain": [
       "<matplotlib.figure.Figure at 0x125f8b908>"
      ]
     },
     "metadata": {},
     "output_type": "display_data"
    }
   ],
   "source": [
    "# Example: Some random root locus plots\n",
    "\n",
    "fig, ax = plt.subplots(3,4, figsize=(15, 10));\n",
    "\n",
    "for i in range(3):\n",
    "    for j in range(4):\n",
    "        num = np.random.randint(4, size=4) - 1\n",
    "        den = np.random.randint(4, size=4) - 1\n",
    "        num[0] = 1\n",
    "        den[0] = 1\n",
    "        G = tf(num,den)\n",
    "        rlist, klist = root_locus(G,Plot=false)\n",
    "        for p in range(len(rlist[0])):\n",
    "            ax[i,j].plot(np.real(rlist[:,p]),np.imag(rlist[:,p]),\"b\")\n",
    "            ax[i,j].set_title(np.array2string(num) + \" / \" + np.array2string(den))"
   ]
  },
  {
   "cell_type": "markdown",
   "metadata": {
    "heading_collapsed": true
   },
   "source": [
    "# Property 3: Angles"
   ]
  },
  {
   "cell_type": "markdown",
   "metadata": {
    "hidden": true
   },
   "source": [
    "Say\n",
    "\n",
    "$$\n",
    "F(s) = \\frac{p(s)}{q(s)} = \\frac{(s+z_1)(s+z_1) \\dots}{(s+p_1)(s+p_2)\\dots}\n",
    "$$ \n",
    "\n",
    "is a function from imaginary numbers into imaginary numbers.\n",
    "\n",
    "If we evaluate $F(s)$ for any given $s$ we get\n",
    "\n",
    "$$\n",
    "F(s) = M \\angle \\theta\n",
    "$$\n",
    "\n",
    "where\n",
    "\n",
    "$$\n",
    "M = \\frac{|s+z_1||s+z_2|\\dots}{|s+p_1||s+p_2|\\dots}\n",
    "$$\n",
    "\n",
    "and\n",
    "\n",
    "$$\n",
    "\\theta = \\sum \\angle ( s+z_i ) - \\sum \\angle ( s + p_i )\n",
    "$$"
   ]
  },
  {
   "cell_type": "code",
   "execution_count": 316,
   "metadata": {
    "hidden": true
   },
   "outputs": [
    {
     "data": {
      "text/latex": [
       "$$\\left ( 0.6666666666666666, \\quad 0\\right )$$"
      ],
      "text/plain": [
       "(0.6666666666666666, 0)"
      ]
     },
     "execution_count": 316,
     "metadata": {},
     "output_type": "execute_result"
    }
   ],
   "source": [
    "# Example\n",
    "F = (s+1)/(s*(s+2))\n",
    "\n",
    "# Try s = 1\n",
    "S = 1\n",
    "M = abs(S+1) / ( abs(S+0) * abs(S+2) )\n",
    "theta = arg(S+1) - arg(S+0) - arg(S+2)\n",
    "\n",
    "M,theta"
   ]
  },
  {
   "cell_type": "code",
   "execution_count": 317,
   "metadata": {
    "hidden": true
   },
   "outputs": [
    {
     "data": {
      "text/latex": [
       "$$\\frac{2}{3}$$"
      ],
      "text/plain": [
       "2/3"
      ]
     },
     "execution_count": 317,
     "metadata": {},
     "output_type": "execute_result"
    }
   ],
   "source": [
    "F.subs(s,S)"
   ]
  },
  {
   "cell_type": "code",
   "execution_count": 320,
   "metadata": {
    "hidden": true
   },
   "outputs": [
    {
     "data": {
      "text/latex": [
       "$$\\left ( \\frac{1}{2}, \\quad - \\frac{\\pi}{2}\\right )$$"
      ],
      "text/plain": [
       "⎛     -π ⎞\n",
       "⎜1/2, ───⎟\n",
       "⎝      2 ⎠"
      ]
     },
     "execution_count": 320,
     "metadata": {},
     "output_type": "execute_result"
    }
   ],
   "source": [
    "# Try s = -1 + i\n",
    "S = -1 + I\n",
    "\n",
    "M = abs(S+1) / ( abs(S+0) * abs(S+2) )\n",
    "theta = arg(S+1) - arg(S+0) - arg(S+2)\n",
    "\n",
    "M,theta"
   ]
  },
  {
   "cell_type": "code",
   "execution_count": 323,
   "metadata": {
    "hidden": true
   },
   "outputs": [
    {
     "data": {
      "text/latex": [
       "$$- 0.5 i$$"
      ],
      "text/plain": [
       "-0.5⋅ⅈ"
      ]
     },
     "execution_count": 323,
     "metadata": {},
     "output_type": "execute_result"
    }
   ],
   "source": [
    "N(F.subs(s,S))"
   ]
  },
  {
   "cell_type": "markdown",
   "metadata": {
    "hidden": true
   },
   "source": [
    "Now consider\n",
    "\n",
    "$$\n",
    "T(s) = \\frac{KG(s)}{1+KG(s)}\n",
    "$$\n",
    "\n",
    "This has a pole when\n",
    "\n",
    "$$\n",
    "KG(s) = -1\n",
    "$$\n",
    "\n",
    "or when \n",
    "\n",
    "$$\n",
    "\\angle KG(s) = \\pi\n",
    "$$\n",
    "\n",
    "If $s$ is a **real root**, then this means\n",
    "\n",
    "$$\n",
    "\\angle G(s) = \\sum \\angle \\mathrm{zeros\\;of\\;G(s)} -  \\sum \\angle \\mathrm{poles\\;of\\;G(s)} = \\pi\n",
    "$$\n",
    "\n",
    "You can see that any complex conjugate pairs cancel:\n",
    "\n",
    "<img width=55% src=\"https://raw.githubusercontent.com/klavins/ECE447/master/images/angle-prop.png\">\n",
    "\n",
    "The result is that\n",
    "\n",
    "> There must be an odd number of poles or zeros to the left of any part of the root locus on the real axis."
   ]
  },
  {
   "cell_type": "code",
   "execution_count": 329,
   "metadata": {
    "hidden": true
   },
   "outputs": [
    {
     "data": {
      "text/latex": [
       "$$\\frac{s^{3} - 7 s + 6}{s^{3} - 7 s - 6}$$"
      ],
      "text/plain": [
       " 3          \n",
       "s  - 7⋅s + 6\n",
       "────────────\n",
       " 3          \n",
       "s  - 7⋅s - 6"
      ]
     },
     "execution_count": 329,
     "metadata": {},
     "output_type": "execute_result"
    }
   ],
   "source": [
    "# Example\n",
    "G = (s+3)*(s-1)*(s-2) / ( (s+1)*(s+2)*(s-3) )\n",
    "G.cancel()"
   ]
  },
  {
   "cell_type": "code",
   "execution_count": 332,
   "metadata": {
    "hidden": true
   },
   "outputs": [
    {
     "data": {
      "image/png": "[encoded data removed]",
      "text/plain": [
       "<matplotlib.figure.Figure at 0x1249b7710>"
      ]
     },
     "metadata": {},
     "output_type": "display_data"
    }
   ],
   "source": [
    "sys = tf([1,0,-7,6],[1,0,-7,-6])\n",
    "plot = root_locus(sys,xlim=(-4,4))"
   ]
  },
  {
   "cell_type": "code",
   "execution_count": 335,
   "metadata": {
    "hidden": true
   },
   "outputs": [
    {
     "data": {
      "text/latex": [
       "$$\\frac{s^{2} + 3 s + 2}{s^{2} - 3 s + 2}$$"
      ],
      "text/plain": [
       " 2          \n",
       "s  + 3⋅s + 2\n",
       "────────────\n",
       " 2          \n",
       "s  - 3⋅s + 2"
      ]
     },
     "execution_count": 335,
     "metadata": {},
     "output_type": "execute_result"
    }
   ],
   "source": [
    "# Example: To connect two real regions, you need to go imaginary, since\n",
    "# there can be no real part in between.\n",
    "#\n",
    "# In this plot, the root locus has to go from the poles at 1,2 to the zeros at -1,-2.\n",
    "G = (s+1)*(s+2) / ( (s-1)*(s-2) )\n",
    "G.cancel()"
   ]
  },
  {
   "cell_type": "code",
   "execution_count": 340,
   "metadata": {
    "hidden": true
   },
   "outputs": [
    {
     "data": {
      "image/png": "[encoded data removed]",
      "text/plain": [
       "<matplotlib.figure.Figure at 0x1249a8f98>"
      ]
     },
     "metadata": {},
     "output_type": "display_data"
    }
   ],
   "source": [
    "sys = tf([1,3,2],[1,-3,2])\n",
    "plot = root_locus(sys,xlim=(-2.5,2.5),ylim=(-1.7,1.7))"
   ]
  },
  {
   "cell_type": "code",
   "execution_count": 349,
   "metadata": {
    "hidden": true
   },
   "outputs": [
    {
     "data": {
      "text/latex": [
       "$$\\frac{K s^{2} + 3 K s + 2 K}{K s^{2} + 3 K s + 2 K + s^{2} - 3 s + 2}$$"
      ],
      "text/plain": [
       "           2                     \n",
       "        K⋅s  + 3⋅K⋅s + 2⋅K       \n",
       "─────────────────────────────────\n",
       "   2                  2          \n",
       "K⋅s  + 3⋅K⋅s + 2⋅K + s  - 3⋅s + 2"
      ]
     },
     "execution_count": 349,
     "metadata": {},
     "output_type": "execute_result"
    }
   ],
   "source": [
    "# Find the imaginary axis crossing\n",
    "T = K*G / ( 1 + K*G )\n",
    "T.cancel()"
   ]
  },
  {
   "cell_type": "code",
   "execution_count": 353,
   "metadata": {
    "hidden": true
   },
   "outputs": [
    {
     "data": {
      "text/latex": [
       "$$\\left [ - \\sqrt{2} i, \\quad \\sqrt{2} i\\right ]$$"
      ],
      "text/plain": [
       "[-√2⋅ⅈ, √2⋅ⅈ]"
      ]
     },
     "execution_count": 353,
     "metadata": {},
     "output_type": "execute_result"
    }
   ],
   "source": [
    "# When the denominator has zero coefficient multiplying s, we get pure imaginary roots\n",
    "# That occues when K=1, when makes the denominator\n",
    "# s^2 + 4\n",
    "# which has roots +/i \\sqrt(2) i\n",
    "#\n",
    "# So for the above system to be stable, K >= 1 is required.\n",
    "num,den = fraction(T)\n",
    "solve(den.subs(K,1),s)"
   ]
  },
  {
   "cell_type": "markdown",
   "metadata": {},
   "source": [
    "# Property 4: Zeros at $\\infty$"
   ]
  },
  {
   "cell_type": "markdown",
   "metadata": {},
   "source": [
    "Consider \n",
    "\n",
    "$$\n",
    "KG(s) = \\frac{K}{(s+1)(s+2)}\n",
    "$$\n",
    "\n",
    "which has more poles than zeros. If the root locus goes from the poles to the zeros, then where does it go where there are not enough?\n",
    "\n",
    "For this system, we can find the roots of $T(s) = KG(s) / ( 1+ KG(s) )$ which are\n",
    "\n",
    "$$\n",
    "- \\frac{3}{2} \\pm \\frac{1}{2}\\sqrt{-4K+1}\n",
    "$$\n",
    "\n",
    "You can see that as $K \\rightarrow \\infty$, we have that the imaginary part of the above goes to $ \\pm i \\infty$. So the root locus goes to **zeros at infinity**:\n",
    "\n",
    "$$\n",
    "- \\frac{3}{2} \\pm i \\infty .\n",
    "$$"
   ]
  },
  {
   "cell_type": "code",
   "execution_count": 394,
   "metadata": {},
   "outputs": [
    {
     "data": {
      "image/png": "[encoded data removed]",
      "text/plain": [
       "<matplotlib.figure.Figure at 0x11ea43860>"
      ]
     },
     "metadata": {},
     "output_type": "display_data"
    }
   ],
   "source": [
    "# Example:\n",
    "sys=tf([1],[1,3,2])\n",
    "plot=root_locus(sys,xlim=(-3,1))"
   ]
  },
  {
   "cell_type": "markdown",
   "metadata": {},
   "source": [
    "More generally, it turns out that the zeros at infinity lay along asymptotes with real axis intercept $\\sigma_0$ and angle $\\theta$ where\n",
    "\n",
    "$$\n",
    "\\sigma_0 = \\frac{\\sum \\mathrm{finite\\;poles} - \\sum \\mathrm{finite\\;zeros}}{\\# \\mathrm{finite\\;poles} - \\# \\mathrm{finite\\;zeros}}\n",
    "$$\n",
    "\n",
    "and\n",
    "\n",
    "$$\n",
    "\\theta = \\frac{(2k+1)\\pi}{\\# \\mathrm{finite\\;poles} - \\# \\mathrm{finite\\;zeros}}\n",
    "$$\n",
    "\n",
    "where $k$ is 0,1,2, ...\n",
    "\n",
    "Note: The above formula refers to the poles and zeros of $G(s)$.\n",
    "\n",
    "So for the above example:\n",
    "\n",
    "$$\n",
    "\\sigma_0 = \\frac{\n",
    "  -1-2 \n",
    "}{2-0} = -\\frac{3}{2}.\n",
    "$$\n",
    "\n",
    "and\n",
    "\n",
    "$$\n",
    "\\theta = \\frac{\\pi}{2}, \\frac{3\\pi}{2}, \\dots\n",
    "$$\n",
    "\n",
    "as we already found."
   ]
  },
  {
   "cell_type": "code",
   "execution_count": 431,
   "metadata": {},
   "outputs": [
    {
     "data": {
      "text/latex": [
       "$$\\left ( -0.3333333333333333, \\quad \\left [ \\frac{\\pi}{3}, \\quad \\pi, \\quad \\frac{5 \\pi}{3}\\right ]\\right )$$"
      ],
      "text/plain": [
       "⎛                     ⎡π     5⋅π⎤⎞\n",
       "⎜-0.3333333333333333, ⎢─, π, ───⎥⎟\n",
       "⎝                     ⎣3      3 ⎦⎠"
      ]
     },
     "execution_count": 431,
     "metadata": {},
     "output_type": "execute_result"
    }
   ],
   "source": [
    "# Another example with three zeros at infinity\n",
    "G = 1 / ( (s+1) * ( s**2 + 1) )\n",
    "sigma = (-1 - i + i ) / ( 3 - 0 )\n",
    "theta = [ pi /( 3-0 ), 3*pi /( 3-0 ), 5*pi /( 3-0 )]\n",
    "sigma, theta"
   ]
  },
  {
   "cell_type": "code",
   "execution_count": 430,
   "metadata": {},
   "outputs": [
    {
     "data": {
      "image/png": "[encoded data removed]",
      "text/plain": [
       "<matplotlib.figure.Figure at 0x1246cf278>"
      ]
     },
     "metadata": {},
     "output_type": "display_data"
    }
   ],
   "source": [
    "sys=tf([1],[1,1,1,1])\n",
    "xvals=np.linspace(-0.33333,10,10)\n",
    "r,k=root_locus(sys,xlim=(-1.5,1),ylim=(-2,2))"
   ]
  },
  {
   "cell_type": "code",
   "execution_count": null,
   "metadata": {
    "collapsed": true
   },
   "outputs": [],
   "source": []
  }
 ],
 "metadata": {
  "kernelspec": {
   "display_name": "Python 3",
   "language": "python",
   "name": "python3"
  },
  "language_info": {
   "codemirror_mode": {
    "name": "ipython",
    "version": 3
   },
   "file_extension": ".py",
   "mimetype": "text/x-python",
   "name": "python",
   "nbconvert_exporter": "python",
   "pygments_lexer": "ipython3",
   "version": "3.6.1"
  }
 },
 "nbformat": 4,
 "nbformat_minor": 2
}
