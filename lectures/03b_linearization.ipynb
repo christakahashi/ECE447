{
  "nbformat": 4,
  "nbformat_minor": 0,
  "metadata": {
    "kernelspec": {
      "display_name": "Python 3",
      "language": "python",
      "name": "python3"
    },
    "language_info": {
      "codemirror_mode": {
        "name": "ipython",
        "version": 3
      },
      "file_extension": ".py",
      "mimetype": "text/x-python",
      "name": "python",
      "nbconvert_exporter": "python",
      "pygments_lexer": "ipython3",
      "version": "3.6.1"
    },
    "latex_envs": {
      "LaTeX_envs_menu_present": true,
      "autoclose": false,
      "autocomplete": true,
      "bibliofile": "biblio.bib",
      "cite_by": "apalike",
      "current_citInitial": 1,
      "eqLabelWithNumbers": true,
      "eqNumInitial": 1,
      "hotkeys": {
        "equation": "Ctrl-E",
        "itemize": "Ctrl-I"
      },
      "labels_anchors": false,
      "latex_user_defs": false,
      "report_style_numbering": false,
      "user_envs_cfg": false
    },
    "colab": {
      "name": "03b_linearization.ipynb",
      "provenance": []
    }
  },
  "cells": [
    {
      "cell_type": "markdown",
      "metadata": {
        "id": "_yfuXG_1i1fd",
        "colab_type": "text"
      },
      "source": [
        "ECE 447: Linearization and Eigenvalues\n",
        "===\n",
        "What nonlinear systems look like locally.\n",
        "\n",
        "Updated by \n",
        " Dr. Chris Takahashi\n",
        "\n",
        "Authored by Prof. Eric Klavins &copy; 2019, University of Washington"
      ]
    },
    {
      "cell_type": "code",
      "metadata": {
        "id": "67TeLJ2ai1fg",
        "colab_type": "code",
        "colab": {}
      },
      "source": [
        "import numpy as np\n",
        "import scipy.integrate as spi\n",
        "import matplotlib.pyplot as plt\n",
        "import math\n",
        "%matplotlib inline\n",
        "\n",
        "#uncomment if using dark mode\n",
        "plt.style.use('dark_background')"
      ],
      "execution_count": 0,
      "outputs": []
    },
    {
      "cell_type": "markdown",
      "metadata": {
        "id": "L4D-bAlqpMVP",
        "colab_type": "text"
      },
      "source": [
        "## Lineararity \n",
        "\n",
        "def: A function $f$ is *linear* if it satisfies the following conditions:\n",
        "\n",
        "1. *superposition*: $f(x+y)=f(x)+f(y)$\n",
        "2. *homogeneity*: $f(ax)=af(x)$ for any scalar $a$\n",
        "\n",
        "**note**: In this course most linear functions will take the form\n",
        "\n",
        "$$f(x,u)=Ax+Bu$$ \n",
        "\n"
      ]
    },
    {
      "cell_type": "markdown",
      "metadata": {
        "id": "ZuYFWQ4Oi1gC",
        "colab_type": "text"
      },
      "source": [
        "Scalar Systems\n",
        "===\n",
        "\n",
        "Start with a nonlinear system\n",
        "\n",
        "$$\n",
        "\\dot x = f(x)\n",
        "$$\n",
        "\n",
        "where $x$ is a scalar function of t. Using the [Taylor Series](https://en.wikipedia.org/wiki/Taylor_series) we can expand $f$ near zero as follows:\n",
        "\n",
        "$$\n",
        "f(x) \\approx f(0) + f'(0)\\;x + \\mathit{H.O.T.}\n",
        "$$\n",
        "\n",
        "Here, $f'(0)$ is the *linear* part and *H.O.T.* stands for *higher order terms*, which we don't care about right now (because we are linearizing).\n",
        "\n",
        "**Example**: Suppose $f(x) = \\sin(x)$. Then $f(0)=0$ and \n",
        "\n",
        "$$\n",
        "f'(0) = \\cos(0) = 1\n",
        "$$\n",
        "\n",
        "Thus, \n",
        "\n",
        "$$\n",
        "\\sin(x) \\approx 0 + x + \\mathit{H.O.T.}\n",
        "$$\n",
        "\n",
        "We can visualize this with a plot."
      ]
    },
    {
      "cell_type": "code",
      "metadata": {
        "id": "W594l9Efi1gG",
        "colab_type": "code",
        "outputId": "343e6127-a89f-428a-b126-36ac3f0fd4ed",
        "colab": {
          "base_uri": "https://localhost:8080/",
          "height": 296
        }
      },
      "source": [
        "x = np.linspace(-np.pi,np.pi,100);\n",
        "plt.plot(x,np.sin(x),label=\"$\\sin(x)$\")\n",
        "plt.plot(x,x,label=\"$x$\")\n",
        "plt.xlabel('$x$')\n",
        "plt.ylabel('$\\sin(x), \\; x$')\n",
        "plt.title(\"Linearization of $\\sin \\; x$ near 0\")\n",
        "plt.ylim([-1.1, 1.1])\n",
        "plt.legend();"
      ],
      "execution_count": 2,
      "outputs": [
        {
          "output_type": "display_data",
          "data": {
            "image/png": "[encoded data removed]",
            "text/plain": [
              "<Figure size 432x288 with 1 Axes>"
            ]
          },
          "metadata": {
            "tags": []
          }
        }
      ]
    },
    {
      "cell_type": "markdown",
      "metadata": {
        "id": "NQaQfYHEi1gU",
        "colab_type": "text"
      },
      "source": [
        "Vector Valued Systems\n",
        "===\n",
        "\n",
        "Now suppose that $x \\in \\mathbb{R}^n$ is a vector and $f$ is a vector valued function. Then,\n",
        "\n",
        "$$\n",
        "f(x) = 0 + \\left.\\frac{\\partial f}{\\partial x}\\right|_{x=0}x + \\mathit{H.O.T.}\n",
        "$$\n",
        "\n",
        "where the partial derivative of $f$ is defined by:\n",
        "\n",
        "$$\n",
        "\\frac{\\partial f}{\\partial x} = \\left(\n",
        "\\begin{array}{ccc}\n",
        "  \\frac{\\partial f_1}{\\partial x_1} & \\dots & \\frac{\\partial f_1}{\\partial x_n} \\\\\n",
        "  \\vdots &  \\; & \\vdots \\\\\n",
        "  \\frac{\\partial f_n}{\\partial x_1} & \\dots & \\frac{\\partial f_n}{\\partial x_n} \n",
        "\\end{array}\n",
        "\\right )\n",
        "$$\n",
        "\n",
        "Evaluating the partial derivative at $x=0$ gives us the *Jacobian* matrix, which is in control systems is usually evaluated a $A$.\n",
        "\n",
        "**Example: The Pendulum**: Suppose $g/l = b = 1$ in the pendulum model. Then\n",
        "\n",
        "$$\n",
        "\\dot{\\left (\n",
        "\\begin{array}{c} \n",
        "\\theta \\\\ \n",
        "\\omega\n",
        "\\end{array} \\right )} = \n",
        "\\left (\n",
        "\\begin{array}{c} \n",
        "\\omega \\\\ \n",
        "\\sin\\theta-\\omega\n",
        "\\end{array} \\right )\n",
        "$$\n",
        "\n",
        "describes the nonlinear dynamics. To linearize the system around $\\theta = 0$ and $\\omega = 0$, we do\n",
        "\n",
        "$$\n",
        "\\frac{\\partial f}{\\partial x} = \\left.\\left(\n",
        "\\begin{array}{cc}\n",
        "  \\frac{\\partial \\omega}{\\partial \\theta} & \n",
        "  \\frac{\\partial \\omega}{\\partial \\omega} \\\\\n",
        "  \\frac{\\partial (\\sin \\theta - \\omega )}{\\partial \\theta} &\n",
        "  \\frac{\\partial (\\sin \\theta - \\omega )}{\\partial \\omega} \n",
        "\\end{array}\n",
        "\\right )\\right|_{\\theta=0,\\omega=0}\n",
        "=\n",
        "\\left.\\left(\n",
        "\\begin{array}{cc}\n",
        "  0 & 1 \\\\\n",
        "  \\cos\\theta & -1\n",
        "\\end{array}\n",
        "\\right )\\right|_{\\theta=0,\\omega=0}\n",
        "=\n",
        "\\left(\n",
        "\\begin{array}{cc}\n",
        "  0 & 1 \\\\\n",
        "  1 & -1\n",
        "\\end{array}\n",
        "\\right)\n",
        "$$\n",
        "\n",
        "So, near $0$ the system looks like\n",
        "\n",
        "$$\n",
        "\\left (\n",
        "\\begin{array}{c} \n",
        "\\dot\\theta \\\\ \n",
        "\\dot\\omega\n",
        "\\end{array} \\right )\n",
        "\\approx\n",
        "\\left(\n",
        "\\begin{array}{cc}\n",
        "  0 & 1 \\\\\n",
        "  1 & -1\n",
        "\\end{array}\n",
        "\\right)\n",
        "\\left (\n",
        "\\begin{array}{c} \n",
        "\\theta \\\\ \n",
        "\\omega\n",
        "\\end{array} \\right )\n",
        "=\n",
        "\\left (\n",
        "\\begin{array}{c} \n",
        "\\omega \\\\ \n",
        "\\theta - \\omega\n",
        "\\end{array} \\right )\n",
        "$$\n",
        "\n",
        "We can visualize this vector field with `quiver`."
      ]
    },
    {
      "cell_type": "code",
      "metadata": {
        "id": "dRFD6eHxi1gZ",
        "colab_type": "code",
        "outputId": "0eabfa14-eb7e-451c-b742-91610b12d099",
        "colab": {
          "base_uri": "https://localhost:8080/",
          "height": 350
        }
      },
      "source": [
        "theta = np.linspace(-1, 1, 9)\n",
        "omega = np.linspace(-1, 1, 9)\n",
        "Theta,Omega = np.meshgrid(theta,omega)\n",
        "u = Omega\n",
        "v = Theta - Omega\n",
        "plt.rcParams['figure.figsize'] = [5,5]\n",
        "plt.quiver(Theta, Omega, u, v, color='r')\n",
        "plt.xlabel('\\\\$theta$')\n",
        "plt.ylabel('$\\omega$')\n",
        "plt.title(\"Approximation of Pendulum Dynamics Near Zero\");"
      ],
      "execution_count": 3,
      "outputs": [
        {
          "output_type": "display_data",
          "data": {
            "image/png": "[encoded data removed]",
            "text/plain": [
              "<Figure size 360x360 with 1 Axes>"
            ]
          },
          "metadata": {
            "tags": []
          }
        }
      ]
    },
    {
      "cell_type": "markdown",
      "metadata": {
        "id": "dKWnwO7Ti1gm",
        "colab_type": "text"
      },
      "source": [
        "We will not show it mathematically, but is a beautiful theorem in mathematics that for any $\\varepsilon$, there exists a $\\delta$ such that if $|x| < \\delta$ then the difference between $f$ and its linearization is less than $\\varepsilon$. \n",
        "\n",
        "Said differently, the linearization approximates $f$ *locally*."
      ]
    },
    {
      "cell_type": "markdown",
      "metadata": {
        "id": "CpdCwxbdi1go",
        "colab_type": "text"
      },
      "source": [
        "Changes of Coordinates\n",
        "===\n",
        "\n",
        "At other equilibrium points it is convenient to change coordinates, so that we are always examining the point zero. To do this:\n",
        "\n",
        "- Say $x^*$ is an equilibrium point.\n",
        "- Define $x_e = x - x^*$. \n",
        "\n",
        "Then,\n",
        "\n",
        "$$\n",
        "\\dot x_e = \\dot x = f(x) = f(x_e+x^*)\n",
        "$$\n",
        "\n",
        "So we now have an equation for the change of $x_e$ in terms of $x_e$ itself, and the constant $x^*$.\n",
        "\n",
        "**Example**: For example, lets look at the behavior of the pendulum model at $(\\theta,\\omega) = (\\pi,0)$. In this case, we linearize the function\n",
        "\n",
        "$$\n",
        "f \\left (\n",
        "\\begin{array}{c} \n",
        "\\theta_e + \\pi \\\\ \n",
        "\\omega_e + 0\n",
        "\\end{array} \\right ) = \n",
        "\\left (\n",
        "\\begin{array}{c} \n",
        "\\omega_e \\\\ \n",
        "\\sin(\\theta_e+\\pi)-\\omega_e\n",
        "\\end{array} \\right )\n",
        "$$\n",
        "\n",
        "The $A$ matrix is then\n",
        "\n",
        "\\begin{align}\n",
        "\\frac{\\partial f}{\\partial x} & = \\left.\\left(\n",
        "\\begin{array}{cc}\n",
        "  \\frac{\\partial \\omega_e}{\\partial \\theta_e} & \n",
        "  \\frac{\\partial \\omega_e}{\\partial \\omega_e} \\\\\n",
        "  \\frac{\\partial \\sin (\\theta_e+\\pi) - \\omega_e}{\\partial \\theta_e} &\n",
        "  \\frac{\\partial \\sin (\\theta_e+\\pi) - \\omega_e}{\\partial \\omega_e} \n",
        "\\end{array}\n",
        "\\right )\\right|_{\\theta_e=0,\\omega_e=0} \\\\\n",
        "& =\n",
        "\\left.\\left(\n",
        "\\begin{array}{cc}\n",
        "  0 & 1 \\\\\n",
        "  \\cos(\\theta_e+\\pi) & -1\n",
        "\\end{array}\n",
        "\\right )\\right|_{\\theta_e=0,\\omega_e=0} \\\\\n",
        "& =\n",
        "\\left(\n",
        "\\begin{array}{cc}\n",
        "  0 & 1 \\\\\n",
        "  -1 & -1\n",
        "\\end{array}\n",
        "\\right).\n",
        "\\end{align}\n",
        "\n",
        "So, near $0$ *in the new coordinate system*, the system looks like\n",
        "\n",
        "\\begin{align}\n",
        "\\left (\n",
        "\\begin{array}{c} \n",
        "\\dot\\theta_e \\\\ \n",
        "\\dot\\omega_e\n",
        "\\end{array} \\right )\n",
        "& \\approx\n",
        "\\left(\n",
        "\\begin{array}{cc}\n",
        "  0 & 1 \\\\\n",
        "  -1 & -1\n",
        "\\end{array}\n",
        "\\right)\n",
        "\\left (\n",
        "\\begin{array}{c} \n",
        "\\theta_e \\\\ \n",
        "\\omega_e\n",
        "\\end{array} \\right ) \\\\\n",
        "& =\n",
        "\\left (\n",
        "\\begin{array}{c} \n",
        "\\omega_e \\\\ \n",
        "-\\theta_e - \\omega_e\n",
        "\\end{array} \\right ).\n",
        "\\end{align}\n",
        "\n",
        "We can visualize this vector field with `quiver` as well."
      ]
    },
    {
      "cell_type": "code",
      "metadata": {
        "id": "K7osajsni1gq",
        "colab_type": "code",
        "outputId": "8123ac34-574b-4e58-e155-14117bf856e3",
        "colab": {}
      },
      "source": [
        "theta = np.linspace(-1, 1, 9)\n",
        "omega = np.linspace(-1, 1, 9)\n",
        "Theta,Omega = np.meshgrid(theta,omega)\n",
        "u = Omega\n",
        "v = -Theta - Omega\n",
        "plt.rcParams['figure.figsize'] = [5,5]\n",
        "plt.quiver(Theta, Omega, u, v, color='r')\n",
        "plt.xlabel('$\\\\theta_e$')\n",
        "plt.ylabel('$\\omega_e$')\n",
        "plt.title(\"Approximation of Pendulum Dynamics Near $x_e=0,0$\");"
      ],
      "execution_count": 0,
      "outputs": [
        {
          "output_type": "display_data",
          "data": {
            "image/png": "[encoded data removed]",
            "text/plain": [
              "<matplotlib.figure.Figure at 0x11aa24a90>"
            ]
          },
          "metadata": {
            "tags": []
          }
        }
      ]
    },
    {
      "cell_type": "markdown",
      "metadata": {
        "id": "J0HvUfG3i1g1",
        "colab_type": "text"
      },
      "source": [
        "Linear Systems and Eigenvalues\n",
        "===\n",
        "\n",
        "Note that once you linearize a system, you end up with $f(x) = Ax$ for some matrix $A \\in \\mathbb{R}^{n\\times n}$. The dynamics of a linear system are thus\n",
        "\n",
        "$$\n",
        "\\dot x = A x\n",
        "$$\n",
        "\n",
        "Here, we will try to characterize *everything* that could happen with two dimensional systems, that is, with $x \\in \\mathbb{R}^{2 \\times 2}$. It turns out that the *eigenvalues* of $A$ tell us almost everything. Note that eigenvalues are also referred to as *poles$.\n",
        "\n",
        "Recall that an eigenvalue is a solution to the equation\n",
        "\n",
        "$$\n",
        "A x = \\lambda x\n",
        "$$\n",
        "\n",
        "where $\\lambda$ is the *eigenvalue* and $x$ is a non-zero *eigenvector*. This can be written\n",
        "\n",
        "$$\n",
        "A x = \\lambda I x\n",
        "$$\n",
        "\n",
        "or\n",
        "\n",
        "$$\n",
        "(\\lambda I - A)x = 0\n",
        "$$\n",
        "\n",
        "which implies that the\n",
        "\n",
        "$$\n",
        "\\mathrm{det}(\\lambda I - A) = 0.\n",
        "$$\n",
        "\n",
        "Therefore, to find the eigenvalues of $A$, we have to solve the above equation for $\\lambda$. \n",
        "\n",
        "**Example:** Suppose\n",
        "$$\n",
        "A = \\left(\\begin{array}{cc}\n",
        "0 & 1 \\\\\n",
        "1 & -1\n",
        "\\end{array}\\right)\n",
        "$$\n",
        "\n",
        "then\n",
        "\n",
        "\\begin{align}\n",
        "\\mathrm{det}(\\lambda I - A) \n",
        "& = \\left|\n",
        "\\left(\\begin{array}{cc}\n",
        "\\lambda & 0 \\\\\n",
        "0 & \\lambda\n",
        "\\end{array}\\right) -\n",
        "\\left(\\begin{array}{cc}\n",
        "0 & 1 \\\\\n",
        "1 & -1\n",
        "\\end{array}\\right)\n",
        "\\right| \\\\\n",
        "& =\\left|\n",
        "\\begin{array}{cc}\n",
        "\\lambda & -1 \\\\\n",
        "-1 & \\lambda+1\n",
        "\\end{array}\n",
        "\\right| \\\\\n",
        "& =\n",
        "\\lambda(\\lambda+1)-1 \\\\\n",
        "& = \n",
        "\\lambda^2 + \\lambda-1\n",
        "\\end{align}\n",
        "\n",
        "Hence, \n",
        "\n",
        "$$\n",
        "\\lambda = \\frac{-1\\pm\\sqrt{5}}{2}.\n",
        "$$\n",
        "\n",
        "or $-1.62$ and $0.62$. \n",
        "\n",
        "The eigenvectors of a system can be found with\n",
        "\n",
        "$$\n",
        "A x = \\lambda x\n",
        "$$\n",
        "\n",
        "In this case, we have\n",
        "\n",
        "$$\n",
        "\\begin{pmatrix}0&1\\\\1&-1\\end{pmatrix}\n",
        "\\begin{pmatrix}x_1\\\\x_2\\end{pmatrix} = \n",
        "\\lambda\n",
        "\\begin{pmatrix}x_1\\\\x_2\\end{pmatrix}\n",
        "$$\n",
        "\n",
        "Which amounts to $x_1 = \\lambda x_1$ and $x_1 - x_2 = \\lambda x_2$. Choosing $x_1 = 1$ we use the first equation to get $x_2 = \\lambda$. \n",
        "\n",
        "So the first eigenvector can be chosen to be\n",
        "\n",
        "$$\n",
        "{\\bf x}_1 = \\begin{pmatrix}1\\\\\\frac{-1-\\sqrt{5}}{2}\\end{pmatrix} \\approx \n",
        "\\begin{pmatrix}1\\\\-1.62\\end{pmatrix}\n",
        "$$\n",
        "\n",
        "And similarly, the second can be chosen to be\n",
        "$$\n",
        "{\\bf x}_2 = \\begin{pmatrix}1\\\\\\frac{-1+\\sqrt{5}}{2}\\end{pmatrix} \\approx \n",
        "\\begin{pmatrix}1\\\\0.62\\end{pmatrix}.\n",
        "$$\n",
        "\n",
        "Knowing the *eigenstructure* of a system makes it easy to draw a cartoon of the phase vector field if the eigenvalues are real. This is because for an eigenvector x, $\\dot x$ is just a scaled value of $x$: \n",
        "\n",
        "$$\n",
        "\\dot x = \\lambda x.\n",
        "$$\n",
        "\n",
        "**Example:** Draw the vector field for $\\dot x = A x$ when \n",
        "$$\n",
        "A =\\begin{pmatrix}0&1\\\\1&-1\\end{pmatrix}.\n",
        "$$\n",
        "\n",
        "- First draw eigenvector subspaces. This means drawing $\\lambda x$ where $x$ is an eigenvector for all $\\lambda \\in \\mathbb{R}$. \n",
        "- Second, draw $\\dot x$ on the subspaces.\n",
        "- Fill in the rest."
      ]
    },
    {
      "cell_type": "code",
      "metadata": {
        "id": "eoN9nFRli1g7",
        "colab_type": "code",
        "outputId": "11635dcf-afdc-4370-b340-ac9326a3b4d0",
        "colab": {}
      },
      "source": [
        "q=np.linspace(-2,2,10)\n",
        "a=(-1-np.sqrt(5))/2\n",
        "b=(-1+np.sqrt(5))/2\n",
        "\n",
        "theta = np.linspace(-2, 2, 8)\n",
        "omega = np.linspace(-3, 3, 8)\n",
        "Theta,Omega = np.meshgrid(theta,omega)\n",
        "u = Omega\n",
        "v = Theta - Omega\n",
        "plt.rcParams['figure.figsize'] = [5,5]\n",
        "plt.quiver(Theta, Omega, u, v, color='r',angles='xy',scale_units='xy')\n",
        "\n",
        "plt.plot(q,a*q)\n",
        "plt.plot(q,b*q)\n",
        "plt.quiver([1,-1,1,-1],[a,-a,b,-b],[-1,1,1,-1],[-a,a,b,-b],\n",
        "           scale=2,angles='xy',scale_units='xy');\n",
        "\n",
        "plt.xlabel('$theta$')\n",
        "plt.ylabel('$omega$')\n",
        "plt.title(\"Vector field with eigenvectors overlaid\");"
      ],
      "execution_count": 0,
      "outputs": [
        {
          "output_type": "display_data",
          "data": {
            "image/png": "[encoded data removed]",
            "text/plain": [
              "<matplotlib.figure.Figure at 0x11ac59b70>"
            ]
          },
          "metadata": {
            "tags": []
          }
        }
      ]
    },
    {
      "cell_type": "markdown",
      "metadata": {
        "id": "XY3ILFvci1hQ",
        "colab_type": "text"
      },
      "source": [
        "Computing Eigenvalues Symbolically\n",
        "===\n",
        "\n",
        "Python can do symbolic math using the [SymPy](https://docs.sympy.org/latest/tutorial/index.html) library. For example, to get the eigenvalues of $A$ we do:"
      ]
    },
    {
      "cell_type": "code",
      "metadata": {
        "id": "HNzDtdMsi1hR",
        "colab_type": "code",
        "outputId": "bdf05e0f-375b-4358-f21b-4430ba4f3260",
        "colab": {}
      },
      "source": [
        "from sympy import *\n",
        "\n",
        "A = Matrix([[0, 1], [1,-1]])\n",
        "lam1,lam2=A.eigenvals()\n",
        "lam1,lam2"
      ],
      "execution_count": 0,
      "outputs": [
        {
          "output_type": "execute_result",
          "data": {
            "text/plain": [
              "(-sqrt(5)/2 - 1/2, -1/2 + sqrt(5)/2)"
            ]
          },
          "metadata": {
            "tags": []
          },
          "execution_count": 7
        }
      ]
    },
    {
      "cell_type": "markdown",
      "metadata": {
        "id": "d8npC4Bmi1hb",
        "colab_type": "text"
      },
      "source": [
        "Note that `lam1` and `lam2` are *symbolic expressions*. To get numerical values from them, use the `N` method."
      ]
    },
    {
      "cell_type": "code",
      "metadata": {
        "id": "VsY7Wiw0i1hb",
        "colab_type": "code",
        "outputId": "9681c038-7279-41d3-9db8-bf8382ee9ae8",
        "colab": {}
      },
      "source": [
        "N(lam1),N(lam2)"
      ],
      "execution_count": 0,
      "outputs": [
        {
          "output_type": "execute_result",
          "data": {
            "text/plain": [
              "(-1.61803398874989, 0.618033988749895)"
            ]
          },
          "metadata": {
            "tags": []
          },
          "execution_count": 8
        }
      ]
    },
    {
      "cell_type": "markdown",
      "metadata": {
        "id": "c62DLblki1hr",
        "colab_type": "text"
      },
      "source": [
        "You can also get the eigenvectors. The method provided returns a list of tuples of the form\n",
        "\n",
        "    (eigenvalue:algebraic multiplicity, [eigenvectors])."
      ]
    },
    {
      "cell_type": "code",
      "metadata": {
        "id": "c4qCW6hqi1hs",
        "colab_type": "code",
        "outputId": "d0d2bde9-7d32-4222-cf0d-7707f1e67c40",
        "colab": {}
      },
      "source": [
        "A.eigenvects()"
      ],
      "execution_count": 0,
      "outputs": [
        {
          "output_type": "execute_result",
          "data": {
            "text/plain": [
              "[(-1/2 + sqrt(5)/2, 1, [Matrix([\n",
              "   [-1/(-sqrt(5)/2 + 1/2)],\n",
              "   [                    1]])]), (-sqrt(5)/2 - 1/2, 1, [Matrix([\n",
              "   [-1/(1/2 + sqrt(5)/2)],\n",
              "   [                   1]])])]"
            ]
          },
          "metadata": {
            "tags": []
          },
          "execution_count": 11
        }
      ]
    },
    {
      "cell_type": "markdown",
      "metadata": {
        "id": "Wj1xy1Hpi1h2",
        "colab_type": "text"
      },
      "source": [
        "A somewhat easier way to see the eigenvalues is to us *diagonalization*, which puts the eigenvectors as the columns of a matrix:"
      ]
    },
    {
      "cell_type": "code",
      "metadata": {
        "id": "dERjpGmai1h4",
        "colab_type": "code",
        "outputId": "3a2025f8-4397-4716-b264-4a49bf1b3052",
        "colab": {}
      },
      "source": [
        "P, D = A.diagonalize()\n",
        "P"
      ],
      "execution_count": 0,
      "outputs": [
        {
          "output_type": "execute_result",
          "data": {
            "text/plain": [
              "Matrix([\n",
              "[-2/(-sqrt(5) + 1), -2/(1 + sqrt(5))],\n",
              "[                1,                1]])"
            ]
          },
          "metadata": {
            "tags": []
          },
          "execution_count": 12
        }
      ]
    },
    {
      "cell_type": "markdown",
      "metadata": {
        "id": "CrZUUwOyi1iD",
        "colab_type": "text"
      },
      "source": [
        "We can pick off the eigenvectors from `P` using the `row` and `col` operators on matricies."
      ]
    },
    {
      "cell_type": "code",
      "metadata": {
        "id": "3_JxkZyPi1iE",
        "colab_type": "code",
        "outputId": "318b7929-d6a8-4e06-fa37-dd54580d0427",
        "colab": {}
      },
      "source": [
        "x1=P.col(0)\n",
        "x2=P.col(1)\n",
        "x1"
      ],
      "execution_count": 0,
      "outputs": [
        {
          "output_type": "execute_result",
          "data": {
            "text/plain": [
              "Matrix([\n",
              "[-2/(-sqrt(5) + 1)],\n",
              "[                1]])"
            ]
          },
          "metadata": {
            "tags": []
          },
          "execution_count": 15
        }
      ]
    },
    {
      "cell_type": "markdown",
      "metadata": {
        "id": "jvGA_ybdi1iX",
        "colab_type": "text"
      },
      "source": [
        "Notice that SymPy is also includes imaginary numbers. So you can get the eigenvalues of the more interesting spiral matrix from the pendulum example too"
      ]
    },
    {
      "cell_type": "code",
      "metadata": {
        "id": "wiuOJT_di1iY",
        "colab_type": "code",
        "outputId": "ead1b08e-3722-4cff-da68-77df0faa69c9",
        "colab": {}
      },
      "source": [
        "A = Matrix([[0, 1], [-1,-1]])\n",
        "lam1,lam2=A.eigenvals()\n",
        "lam1,lam2"
      ],
      "execution_count": 0,
      "outputs": [
        {
          "output_type": "execute_result",
          "data": {
            "text/plain": [
              "(-1/2 - sqrt(3)*I/2, -1/2 + sqrt(3)*I/2)"
            ]
          },
          "metadata": {
            "tags": []
          },
          "execution_count": 205
        }
      ]
    },
    {
      "cell_type": "code",
      "metadata": {
        "id": "rASxO6cui1ij",
        "colab_type": "code",
        "outputId": "bc6c7543-be2c-413f-a2de-04ab1963a826",
        "colab": {}
      },
      "source": [
        "print(re(lam1))\n",
        "print(im(lam1))\n",
        "print(abs(lam1))\n",
        "print(conjugate(lam1))"
      ],
      "execution_count": 0,
      "outputs": [
        {
          "output_type": "stream",
          "text": [
            "-sqrt(5)/2 - 1/2\n",
            "0\n",
            "1/2 + sqrt(5)/2\n",
            "-sqrt(5)/2 - 1/2\n"
          ],
          "name": "stdout"
        }
      ]
    },
    {
      "cell_type": "markdown",
      "metadata": {
        "id": "vzHEuVH0i1iu",
        "colab_type": "text"
      },
      "source": [
        "We will explore the use of SymPy gradually throughout the quarter. For now, you might consider following the above link and reading about how it works."
      ]
    }
  ]
}