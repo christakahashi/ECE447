{
  "nbformat": 4,
  "nbformat_minor": 0,
  "metadata": {
    "kernelspec": {
      "display_name": "Python 3",
      "language": "python",
      "name": "python3"
    },
    "language_info": {
      "codemirror_mode": {
        "name": "ipython",
        "version": 3
      },
      "file_extension": ".py",
      "mimetype": "text/x-python",
      "name": "python",
      "nbconvert_exporter": "python",
      "pygments_lexer": "ipython3",
      "version": "3.6.1"
    },
    "colab": {
      "name": "controllability.ipynb",
      "provenance": [],
      "include_colab_link": true
    }
  },
  "cells": [
    {
      "cell_type": "markdown",
      "metadata": {
        "id": "view-in-github",
        "colab_type": "text"
      },
      "source": [
        "<a href=\"https://colab.research.google.com/github/christakahashi/ECE447/blob/master/lectures/controllability.ipynb\" target=\"_parent\"><img src=\"https://colab.research.google.com/assets/colab-badge.svg\" alt=\"Open In Colab\"/></a>"
      ]
    },
    {
      "cell_type": "markdown",
      "metadata": {
        "id": "6GuNleoGSyDy",
        "colab_type": "text"
      },
      "source": [
        "# EE447: Full State Feedback\n",
        "\n",
        "Eric Klavins\n",
        "\n",
        "Copyright &copy; University of Washington, 2019"
      ]
    },
    {
      "cell_type": "markdown",
      "metadata": {
        "heading_collapsed": true,
        "id": "bWOuGV7tSyD1",
        "colab_type": "text"
      },
      "source": [
        "# Code"
      ]
    },
    {
      "cell_type": "code",
      "metadata": {
        "id": "sQQTYjldX5kI",
        "colab_type": "code",
        "colab": {
          "base_uri": "https://localhost:8080/",
          "height": 537
        },
        "outputId": "c2485251-eb31-4b30-e203-65ad85808f33"
      },
      "source": [
        "# Uncomment on Google colab\n",
        "!pip install control"
      ],
      "execution_count": 3,
      "outputs": [
        {
          "output_type": "stream",
          "text": [
            "Collecting JSAnimation\n",
            "  Downloading https://files.pythonhosted.org/packages/3c/e6/a93a578400c38a43af8b4271334ed2444b42d65580f1d6721c9fe32e9fd8/JSAnimation-0.1.tar.gz\n",
            "Building wheels for collected packages: JSAnimation\n",
            "  Building wheel for JSAnimation (setup.py) ... \u001b[?25l\u001b[?25hdone\n",
            "  Created wheel for JSAnimation: filename=JSAnimation-0.1-cp36-none-any.whl size=11428 sha256=2963bea21102376867de6e038680c9892f9a7cb1693812f6c23d4a8355d1ec01\n",
            "  Stored in directory: /root/.cache/pip/wheels/3c/c2/b2/b444dffc3eed9c78139288d301c4009a42c0dd061d3b62cead\n",
            "Successfully built JSAnimation\n",
            "Installing collected packages: JSAnimation\n",
            "Successfully installed JSAnimation-0.1\n",
            "Collecting control\n",
            "\u001b[?25l  Downloading https://files.pythonhosted.org/packages/e8/b0/32a903138505dd4ea523f8a3fc156c4272aa58b10100ef24ff74ced2fae8/control-0.8.3.tar.gz (249kB)\n",
            "\u001b[K     |████████████████████████████████| 256kB 2.9MB/s \n",
            "\u001b[?25hRequirement already satisfied: numpy in /usr/local/lib/python3.6/dist-packages (from control) (1.18.4)\n",
            "Requirement already satisfied: scipy in /usr/local/lib/python3.6/dist-packages (from control) (1.4.1)\n",
            "Requirement already satisfied: matplotlib in /usr/local/lib/python3.6/dist-packages (from control) (3.2.1)\n",
            "Requirement already satisfied: pyparsing!=2.0.4,!=2.1.2,!=2.1.6,>=2.0.1 in /usr/local/lib/python3.6/dist-packages (from matplotlib->control) (2.4.7)\n",
            "Requirement already satisfied: cycler>=0.10 in /usr/local/lib/python3.6/dist-packages (from matplotlib->control) (0.10.0)\n",
            "Requirement already satisfied: python-dateutil>=2.1 in /usr/local/lib/python3.6/dist-packages (from matplotlib->control) (2.8.1)\n",
            "Requirement already satisfied: kiwisolver>=1.0.1 in /usr/local/lib/python3.6/dist-packages (from matplotlib->control) (1.2.0)\n",
            "Requirement already satisfied: six in /usr/local/lib/python3.6/dist-packages (from cycler>=0.10->matplotlib->control) (1.12.0)\n",
            "Building wheels for collected packages: control\n",
            "  Building wheel for control (setup.py) ... \u001b[?25l\u001b[?25hdone\n",
            "  Created wheel for control: filename=control-0.8.3-py2.py3-none-any.whl size=260982 sha256=42c30ba1306ac99bda5284796003fb48bffa43d02f7d1568adae4d10731f9e37\n",
            "  Stored in directory: /root/.cache/pip/wheels/c2/d9/cc/90b28cb139a6320a3af2285428b6da87eee8d8920c78bb0223\n",
            "Successfully built control\n",
            "Installing collected packages: control\n",
            "Successfully installed control-0.8.3\n"
          ],
          "name": "stdout"
        }
      ]
    },
    {
      "cell_type": "code",
      "metadata": {
        "hidden": true,
        "id": "aqqsaKx0SyD3",
        "colab_type": "code",
        "colab": {}
      },
      "source": [
        "import numpy as np\n",
        "import scipy.integrate as spi\n",
        "import matplotlib.pyplot as plt\n",
        "import matplotlib.patches as patches\n",
        "from sympy import *\n",
        "from matplotlib import animation\n",
        "\n",
        "\n",
        "\n",
        "#from JSAnimation.IPython_display import display_animation\n",
        "from control import * \n",
        "\n",
        "%matplotlib inline\n",
        "#comment out for light mode\n",
        "plt.style.use('dark_background')\n",
        "\n",
        "try: \n",
        "  import google.colab #test for colab\n",
        "  import IPython\n",
        "  def setup_typeset():\n",
        "    \"\"\"MathJax initialization for the current cell.\n",
        "    \n",
        "    This installs and configures MathJax for the current output.\n",
        "    \"\"\"\n",
        "    IPython.display.display(IPython.display.HTML('''\n",
        "        <script src=\"https://www.gstatic.com/external_hosted/mathjax/latest/MathJax.js?config=TeX-AMS_HTML-full,Safe&delayStartupUntil=configured\"></script>\n",
        "        <script>\n",
        "          (() => {\n",
        "            const mathjax = window.MathJax;\n",
        "            mathjax.Hub.Config({\n",
        "            'tex2jax': {\n",
        "              'inlineMath': [['$', '$'], ['\\\\(', '\\\\)']],\n",
        "              'displayMath': [['$$', '$$'], ['\\\\[', '\\\\]']],\n",
        "              'processEscapes': true,\n",
        "              'processEnvironments': true,\n",
        "              'skipTags': ['script', 'noscript', 'style', 'textarea', 'code'],\n",
        "              'displayAlign': 'center',\n",
        "            },\n",
        "            'HTML-CSS': {\n",
        "              'styles': {'.MathJax_Display': {'margin': 0}},\n",
        "              'linebreaks': {'automatic': true},\n",
        "              // Disable to prevent OTF font loading, which aren't part of our\n",
        "              // distribution.\n",
        "              'imageFont': null,\n",
        "            },\n",
        "            'messageStyle': 'none'\n",
        "          });\n",
        "          mathjax.Hub.Configured();\n",
        "        })();\n",
        "        </script>\n",
        "        '''))\n",
        "  def custom_latex_printer(exp,**options):\n",
        "      setup_typeset()\n",
        "      return printing.latex(exp,**options)\n",
        "  init_printing(use_latex=\"mathjax\",latex_printer=custom_latex_printer)\n",
        "except:\n",
        "  init_printing(use_latex='mathjax')\n",
        "\n",
        "def MatrixFromColumns(clist):\n",
        "    return Matrix(clist).reshape(\n",
        "        clist[0].shape[0], \n",
        "        len(clist)).transpose()"
      ],
      "execution_count": 0,
      "outputs": []
    },
    {
      "cell_type": "markdown",
      "metadata": {
        "id": "Ikw27f41SyED",
        "colab_type": "text"
      },
      "source": [
        "# Review"
      ]
    },
    {
      "cell_type": "markdown",
      "metadata": {
        "id": "ZS7bWxr3SyEE",
        "colab_type": "text"
      },
      "source": [
        "Last time we took a system\n",
        "$\\newcommand{\\x}{x}$\n",
        "\n",
        "$$\n",
        "\\dot\\x = A \\x + B u\n",
        "$$\n",
        "\n",
        "and defined $u = -K\\x + r$ to get\n",
        "\n",
        "$$\n",
        "\\dot\\x = (A-BK)\\x + Br\n",
        "$$\n",
        "\n",
        "and we showed examples where we could define $K$ so that the poles of $A-BK$ are *whatever you want*. This is called **pole placement**.\n",
        "\n",
        "We also saw an example \n",
        "\n",
        "\\begin{align}\n",
        "\\dot \\x & = \\begin{pmatrix}\n",
        "  -1 & 0 \\\\\n",
        "  0 & -2\n",
        "\\end{pmatrix} \\x + \\begin{pmatrix}\n",
        "0 \\\\\n",
        "1\n",
        "\\end{pmatrix} u \\\\\n",
        "y & = ( 0 \\; 1 ) \\; \\x\n",
        "\\end{align}\n",
        "\n",
        "where the approach did not work. This system is called **not completely controllable**."
      ]
    },
    {
      "cell_type": "markdown",
      "metadata": {
        "heading_collapsed": true,
        "id": "G0eqGC5FSyEG",
        "colab_type": "text"
      },
      "source": [
        "# Definition of Controllability"
      ]
    },
    {
      "cell_type": "markdown",
      "metadata": {
        "hidden": true,
        "id": "pj12h9HlSyEH",
        "colab_type": "text"
      },
      "source": [
        "$\\newcommand{\\x}{x}$\n",
        "*Def:* A system is **controllable** is for any $\\x(0)$ and $\\x^*$ there exists a $u(t)$ that will drive the system from $\\x(0)$ to $\\x^*$ in finite time. \n",
        "\n",
        "We will not prove the following results, which require more linear algebra than we have gone over in this course. If you are interested, take EE 547 or read a book like [Linear Systems](https://www.amazon.com/Linear-System-Electrical-Computer-Engineering/dp/0195117778) by Chi-Tsong Chen.\n",
        "\n",
        "> **Theorem**: If a linear system is controllable, then $K$ can be defined to place the poles of $A-BK$ arbitrarily. \n",
        "\n",
        "What is needed is a *test* of controllability. The following result is one of the fundamental results in linear systems theory:\n",
        "\n",
        "> **Theorem**: A system $\\dot\\x = A\\x + Bu$ is controllable if and only if the matrix\n",
        "$$\n",
        "M = [ B \\; AB \\; A^2 B \\; \\dots \\; A^{n-1}B ]\n",
        "$$\n",
        "has rank $n$, where $n$ is the dimension of $\\x$. \n",
        "\n",
        "Reminder: The **rank** of a matrix is the largest number of independent columns. You can find the rank by finding the largest non-singular submatrix (which means determinant $\\neq$ zero). If the matrix itself has a non-zero-determinant, then it has **full rank**.\n",
        "\n",
        "Example\n",
        "---\n",
        "\n",
        "The example above with \n",
        "\n",
        "$$\n",
        "\\dot \\x  = \\begin{pmatrix}\n",
        "  -1 & 0 \\\\\n",
        "  0 & -2\n",
        "\\end{pmatrix} \\x + \\begin{pmatrix}\n",
        "0 \\\\\n",
        "1\n",
        "\\end{pmatrix} u \n",
        "$$\n",
        "\n",
        "has \n",
        "\n",
        "$$\n",
        "M = \\left [\n",
        "\\begin{pmatrix}\n",
        "0 \\\\ \n",
        "1\n",
        "\\end{pmatrix} \\;\\;\\;\n",
        "\\begin{pmatrix}\n",
        "  -1 & 0 \\\\\n",
        "  0 & -2\n",
        "\\end{pmatrix}\\begin{pmatrix}\n",
        "0 \\\\\n",
        "1\n",
        "\\end{pmatrix} \n",
        "\\right ] = \\begin{pmatrix}\n",
        "0 & 0 \\\\\n",
        "1 & -2 \n",
        "\\end{pmatrix}\n",
        "$$\n",
        "\n",
        "which has rank $1$, not $2$. Therefore, the system is not controllable.\n",
        "\n",
        "An example where the system is controllable, is shown below using `sympy`."
      ]
    },
    {
      "cell_type": "code",
      "metadata": {
        "hidden": true,
        "id": "eIVZUVlKSyEI",
        "colab_type": "code",
        "colab": {
          "base_uri": "https://localhost:8080/",
          "height": 83
        },
        "outputId": "2c90076d-34b4-4741-b363-8fba7b9f2990"
      },
      "source": [
        "#\n",
        "# Example: Determine the controllability of A, B\n",
        "#\n",
        "A = Matrix([\n",
        "    [1,2,1],\n",
        "    [0,-1,0],\n",
        "    [0,0,1]\n",
        "])\n",
        "B = Matrix([\n",
        "    [0],\n",
        "    [1],\n",
        "    [1]\n",
        "])\n",
        "M = MatrixFromColumns([B,A*B,A*A*B])\n",
        "M, M.rank()"
      ],
      "execution_count": 15,
      "outputs": [
        {
          "output_type": "display_data",
          "data": {
            "text/html": [
              "\n",
              "        <script src=\"https://www.gstatic.com/external_hosted/mathjax/latest/MathJax.js?config=TeX-AMS_HTML-full,Safe&delayStartupUntil=configured\"></script>\n",
              "        <script>\n",
              "          (() => {\n",
              "            const mathjax = window.MathJax;\n",
              "            mathjax.Hub.Config({\n",
              "            'tex2jax': {\n",
              "              'inlineMath': [['$', '$'], ['\\(', '\\)']],\n",
              "              'displayMath': [['$$', '$$'], ['\\[', '\\]']],\n",
              "              'processEscapes': true,\n",
              "              'processEnvironments': true,\n",
              "              'skipTags': ['script', 'noscript', 'style', 'textarea', 'code'],\n",
              "              'displayAlign': 'center',\n",
              "            },\n",
              "            'HTML-CSS': {\n",
              "              'styles': {'.MathJax_Display': {'margin': 0}},\n",
              "              'linebreaks': {'automatic': true},\n",
              "              // Disable to prevent OTF font loading, which aren't part of our\n",
              "              // distribution.\n",
              "              'imageFont': null,\n",
              "            },\n",
              "            'messageStyle': 'none'\n",
              "          });\n",
              "          mathjax.Hub.Configured();\n",
              "        })();\n",
              "        </script>\n",
              "        "
            ],
            "text/plain": [
              "<IPython.core.display.HTML object>"
            ]
          },
          "metadata": {
            "tags": []
          }
        },
        {
          "output_type": "execute_result",
          "data": {
            "text/latex": "$$\\left ( \\left[\\begin{matrix}0 & 3 & 2\\\\1 & -1 & 1\\\\1 & 1 & 1\\end{matrix}\\right], \\quad 3\\right )$$",
            "text/plain": [
              "⎛⎡0  3   2⎤   ⎞\n",
              "⎜⎢        ⎥   ⎟\n",
              "⎜⎢1  -1  1⎥, 3⎟\n",
              "⎜⎢        ⎥   ⎟\n",
              "⎝⎣1  1   1⎦   ⎠"
            ]
          },
          "metadata": {
            "tags": []
          },
          "execution_count": 15
        }
      ]
    },
    {
      "cell_type": "code",
      "metadata": {
        "hidden": true,
        "id": "Ul1XTG2wSyEP",
        "colab_type": "code",
        "colab": {
          "base_uri": "https://localhost:8080/",
          "height": 106
        },
        "outputId": "7eca4107-8fe8-43d5-e29b-ae13eaa07154"
      },
      "source": [
        "# \n",
        "# A really random example\n",
        "#\n",
        "\n",
        "A = Matrix(np.random.randint(3,size=(4,4)))\n",
        "B = Matrix(np.random.randint(3,size=(4,1)))\n",
        "M = MatrixFromColumns([B,A*B,A**2*B, A**3*B])\n",
        "M, M.rank()"
      ],
      "execution_count": 16,
      "outputs": [
        {
          "output_type": "display_data",
          "data": {
            "text/html": [
              "\n",
              "        <script src=\"https://www.gstatic.com/external_hosted/mathjax/latest/MathJax.js?config=TeX-AMS_HTML-full,Safe&delayStartupUntil=configured\"></script>\n",
              "        <script>\n",
              "          (() => {\n",
              "            const mathjax = window.MathJax;\n",
              "            mathjax.Hub.Config({\n",
              "            'tex2jax': {\n",
              "              'inlineMath': [['$', '$'], ['\\(', '\\)']],\n",
              "              'displayMath': [['$$', '$$'], ['\\[', '\\]']],\n",
              "              'processEscapes': true,\n",
              "              'processEnvironments': true,\n",
              "              'skipTags': ['script', 'noscript', 'style', 'textarea', 'code'],\n",
              "              'displayAlign': 'center',\n",
              "            },\n",
              "            'HTML-CSS': {\n",
              "              'styles': {'.MathJax_Display': {'margin': 0}},\n",
              "              'linebreaks': {'automatic': true},\n",
              "              // Disable to prevent OTF font loading, which aren't part of our\n",
              "              // distribution.\n",
              "              'imageFont': null,\n",
              "            },\n",
              "            'messageStyle': 'none'\n",
              "          });\n",
              "          mathjax.Hub.Configured();\n",
              "        })();\n",
              "        </script>\n",
              "        "
            ],
            "text/plain": [
              "<IPython.core.display.HTML object>"
            ]
          },
          "metadata": {
            "tags": []
          }
        },
        {
          "output_type": "execute_result",
          "data": {
            "text/latex": "$$\\left ( \\left[\\begin{matrix}2 & 5 & 29 & 107\\\\0 & 6 & 16 & 75\\\\2 & 6 & 17 & 63\\\\1 & 6 & 29 & 95\\end{matrix}\\right], \\quad 4\\right )$$",
            "text/plain": [
              "⎛⎡2  5  29  107⎤   ⎞\n",
              "⎜⎢             ⎥   ⎟\n",
              "⎜⎢0  6  16  75 ⎥   ⎟\n",
              "⎜⎢             ⎥, 4⎟\n",
              "⎜⎢2  6  17  63 ⎥   ⎟\n",
              "⎜⎢             ⎥   ⎟\n",
              "⎝⎣1  6  29  95 ⎦   ⎠"
            ]
          },
          "metadata": {
            "tags": []
          },
          "execution_count": 16
        }
      ]
    },
    {
      "cell_type": "code",
      "metadata": {
        "hidden": true,
        "id": "hb2cqJApSyEV",
        "colab_type": "code",
        "colab": {
          "base_uri": "https://localhost:8080/",
          "height": 106
        },
        "outputId": "182b3730-bf77-404e-f588-4dfdb6a84854"
      },
      "source": [
        "A,B"
      ],
      "execution_count": 17,
      "outputs": [
        {
          "output_type": "display_data",
          "data": {
            "text/html": [
              "\n",
              "        <script src=\"https://www.gstatic.com/external_hosted/mathjax/latest/MathJax.js?config=TeX-AMS_HTML-full,Safe&delayStartupUntil=configured\"></script>\n",
              "        <script>\n",
              "          (() => {\n",
              "            const mathjax = window.MathJax;\n",
              "            mathjax.Hub.Config({\n",
              "            'tex2jax': {\n",
              "              'inlineMath': [['$', '$'], ['\\(', '\\)']],\n",
              "              'displayMath': [['$$', '$$'], ['\\[', '\\]']],\n",
              "              'processEscapes': true,\n",
              "              'processEnvironments': true,\n",
              "              'skipTags': ['script', 'noscript', 'style', 'textarea', 'code'],\n",
              "              'displayAlign': 'center',\n",
              "            },\n",
              "            'HTML-CSS': {\n",
              "              'styles': {'.MathJax_Display': {'margin': 0}},\n",
              "              'linebreaks': {'automatic': true},\n",
              "              // Disable to prevent OTF font loading, which aren't part of our\n",
              "              // distribution.\n",
              "              'imageFont': null,\n",
              "            },\n",
              "            'messageStyle': 'none'\n",
              "          });\n",
              "          mathjax.Hub.Configured();\n",
              "        })();\n",
              "        </script>\n",
              "        "
            ],
            "text/plain": [
              "<IPython.core.display.HTML object>"
            ]
          },
          "metadata": {
            "tags": []
          }
        },
        {
          "output_type": "execute_result",
          "data": {
            "text/latex": "$$\\left ( \\left[\\begin{matrix}1 & 2 & 1 & 1\\\\2 & 0 & 1 & 0\\\\1 & 0 & 2 & 0\\\\1 & 2 & 2 & 0\\end{matrix}\\right], \\quad \\left[\\begin{matrix}2\\\\0\\\\2\\\\1\\end{matrix}\\right]\\right )$$",
            "text/plain": [
              "⎛⎡1  2  1  1⎤  ⎡2⎤⎞\n",
              "⎜⎢          ⎥  ⎢ ⎥⎟\n",
              "⎜⎢2  0  1  0⎥  ⎢0⎥⎟\n",
              "⎜⎢          ⎥, ⎢ ⎥⎟\n",
              "⎜⎢1  0  2  0⎥  ⎢2⎥⎟\n",
              "⎜⎢          ⎥  ⎢ ⎥⎟\n",
              "⎝⎣1  2  2  0⎦  ⎣1⎦⎠"
            ]
          },
          "metadata": {
            "tags": []
          },
          "execution_count": 17
        }
      ]
    },
    {
      "cell_type": "markdown",
      "metadata": {
        "id": "5LhBkyQnSyEb",
        "colab_type": "text"
      },
      "source": [
        "# Properties of $M$"
      ]
    },
    {
      "cell_type": "markdown",
      "metadata": {
        "id": "b5qUWXNrSyEc",
        "colab_type": "text"
      },
      "source": [
        "$\\newcommand{\\x}{x}$\n",
        "The coolest thing about $M$ (besides that it tells you if your system is controllable), is that it helps you build $K$. Remember that $K$ is easy to build when $A\\x + Bu$ is in phase canonical form. But what if it isn't? This is where $M$ comes in.\n",
        "\n",
        "Say\n",
        "\n",
        "$$\n",
        "\\dot\\x = A \\x + B u\n",
        "$$\n",
        "\n",
        "is *not* in phase canonical form. Say that\n",
        "\n",
        "$$\n",
        "\\x = P {\\bf z}\n",
        "$$\n",
        "\n",
        "where $P$ transforms ${\\bf z}$ from phase canonical form into the coordinate system for $\\x$. Then\n",
        "\n",
        "$$\n",
        "\\dot {\\bf z} = P^{-1}AP{\\bf z} + P^{-1}B u.\n",
        "$$\n",
        "\n",
        "Now the controllability matrix in $\\x$ coordinates is\n",
        "\n",
        "$$\n",
        "M_x = \\left( B \\; AB \\; \\dots \\; A^{n-1}B \\right)\n",
        "$$\n",
        "\n",
        "and in ${\\bf z}$ coordinates is\n",
        "\n",
        "\\begin{align}\n",
        "M_z & = \\left ( P^{-1}B \\;\\; (P^{-1}AP)P^{-1}B \\; \\dots \\; (P^{-1}AP)^{n-1}P^{-1}B \\right ) \\\\\n",
        "  & = P^{-1} \\left( B \\;\\; AB \\;\\; \\dots \\; A^{n-1}B \\right ) \\\\\n",
        "  & = P^{-1} M_x\n",
        "\\end{align}\n",
        "\n",
        "Thus, \n",
        "\n",
        "$$\n",
        "P = M_x M_z^{-1}\n",
        "$$\n",
        "\n",
        "After transforming the system into phase variables, we design a controller\n",
        "\n",
        "$$\n",
        "u = -K_z {\\bf z} + r\n",
        "$$\n",
        "\n",
        "to get \n",
        "\n",
        "\\begin{align}\n",
        "\\dot {\\bf z} & = (A_z - B_z K_z) {\\bf z} + B_z r \\\\\n",
        " & = (P^{-1}AP - P^{-1}BK_z) {\\bf z} + P^{-1}r\n",
        "\\end{align}\n",
        "\n",
        "But since $\\x = P{\\bf z}$ we get\n",
        "\n",
        "\\begin{align}\n",
        "\\dot\\x & = P \\dot {\\bf z} \\\\\n",
        "       & = P (P^{-1}AP - P^{-1}BK_z) {\\bf z} + P P^{-1}r\\\\\n",
        "       & = (A-BK_zP^{-1})\\x + Br \\\\\n",
        "       & = (A-BK_x)\\x + Br\n",
        "\\end{align}\n",
        "\n",
        "where $K_x \\triangleq K_z P^{-1}$.\n",
        "\n",
        "An example using `sympy` is below."
      ]
    },
    {
      "cell_type": "code",
      "metadata": {
        "id": "Dtrev5fUSyEd",
        "colab_type": "code",
        "colab": {
          "base_uri": "https://localhost:8080/",
          "height": 59
        },
        "outputId": "c8b40af7-ac2b-48a3-f748-9fd6d5218afc"
      },
      "source": [
        "#\n",
        "# Example: Define K that A-BK has poles at -5, -6 where\n",
        "#\n",
        "A = Matrix([\n",
        "    [-1,1],\n",
        "    [0,-2]\n",
        "])\n",
        "B = Matrix([\n",
        "    [1],\n",
        "    [1]\n",
        "])\n",
        "Mx = MatrixFromColumns([B, A*B])\n",
        "Mx, Mx.rank()"
      ],
      "execution_count": 18,
      "outputs": [
        {
          "output_type": "display_data",
          "data": {
            "text/html": [
              "\n",
              "        <script src=\"https://www.gstatic.com/external_hosted/mathjax/latest/MathJax.js?config=TeX-AMS_HTML-full,Safe&delayStartupUntil=configured\"></script>\n",
              "        <script>\n",
              "          (() => {\n",
              "            const mathjax = window.MathJax;\n",
              "            mathjax.Hub.Config({\n",
              "            'tex2jax': {\n",
              "              'inlineMath': [['$', '$'], ['\\(', '\\)']],\n",
              "              'displayMath': [['$$', '$$'], ['\\[', '\\]']],\n",
              "              'processEscapes': true,\n",
              "              'processEnvironments': true,\n",
              "              'skipTags': ['script', 'noscript', 'style', 'textarea', 'code'],\n",
              "              'displayAlign': 'center',\n",
              "            },\n",
              "            'HTML-CSS': {\n",
              "              'styles': {'.MathJax_Display': {'margin': 0}},\n",
              "              'linebreaks': {'automatic': true},\n",
              "              // Disable to prevent OTF font loading, which aren't part of our\n",
              "              // distribution.\n",
              "              'imageFont': null,\n",
              "            },\n",
              "            'messageStyle': 'none'\n",
              "          });\n",
              "          mathjax.Hub.Configured();\n",
              "        })();\n",
              "        </script>\n",
              "        "
            ],
            "text/plain": [
              "<IPython.core.display.HTML object>"
            ]
          },
          "metadata": {
            "tags": []
          }
        },
        {
          "output_type": "execute_result",
          "data": {
            "text/latex": "$$\\left ( \\left[\\begin{matrix}1 & 0\\\\1 & -2\\end{matrix}\\right], \\quad 2\\right )$$",
            "text/plain": [
              "⎛⎡1  0 ⎤   ⎞\n",
              "⎜⎢     ⎥, 2⎟\n",
              "⎝⎣1  -2⎦   ⎠"
            ]
          },
          "metadata": {
            "tags": []
          },
          "execution_count": 18
        }
      ]
    },
    {
      "cell_type": "code",
      "metadata": {
        "id": "xe6ZARTlSyEj",
        "colab_type": "code",
        "colab": {
          "base_uri": "https://localhost:8080/",
          "height": 36
        },
        "outputId": "d29f9811-3aa4-4b54-babd-3fc0dd97b990"
      },
      "source": [
        "#\n",
        "# Characteristic polynomial \n",
        "#\n",
        "var(\"s\")\n",
        "(s*eye(2)-A).det()"
      ],
      "execution_count": 19,
      "outputs": [
        {
          "output_type": "display_data",
          "data": {
            "text/html": [
              "\n",
              "        <script src=\"https://www.gstatic.com/external_hosted/mathjax/latest/MathJax.js?config=TeX-AMS_HTML-full,Safe&delayStartupUntil=configured\"></script>\n",
              "        <script>\n",
              "          (() => {\n",
              "            const mathjax = window.MathJax;\n",
              "            mathjax.Hub.Config({\n",
              "            'tex2jax': {\n",
              "              'inlineMath': [['$', '$'], ['\\(', '\\)']],\n",
              "              'displayMath': [['$$', '$$'], ['\\[', '\\]']],\n",
              "              'processEscapes': true,\n",
              "              'processEnvironments': true,\n",
              "              'skipTags': ['script', 'noscript', 'style', 'textarea', 'code'],\n",
              "              'displayAlign': 'center',\n",
              "            },\n",
              "            'HTML-CSS': {\n",
              "              'styles': {'.MathJax_Display': {'margin': 0}},\n",
              "              'linebreaks': {'automatic': true},\n",
              "              // Disable to prevent OTF font loading, which aren't part of our\n",
              "              // distribution.\n",
              "              'imageFont': null,\n",
              "            },\n",
              "            'messageStyle': 'none'\n",
              "          });\n",
              "          mathjax.Hub.Configured();\n",
              "        })();\n",
              "        </script>\n",
              "        "
            ],
            "text/plain": [
              "<IPython.core.display.HTML object>"
            ]
          },
          "metadata": {
            "tags": []
          }
        },
        {
          "output_type": "execute_result",
          "data": {
            "text/latex": "$$\\left(s + 1\\right) \\left(s + 2\\right)$$",
            "text/plain": [
              "(s + 1)⋅(s + 2)"
            ]
          },
          "metadata": {
            "tags": []
          },
          "execution_count": 19
        }
      ]
    },
    {
      "cell_type": "code",
      "metadata": {
        "id": "3mw0K_pGSyEo",
        "colab_type": "code",
        "colab": {
          "base_uri": "https://localhost:8080/",
          "height": 59
        },
        "outputId": "3a4971f1-1612-4916-c73b-5ffea986d41c"
      },
      "source": [
        "#\n",
        "# Z coordinates are just phase canonical form for 2 and 3.\n",
        "#\n",
        "Az = Matrix([\n",
        "    [0,1],\n",
        "    [-2,-3]\n",
        "])\n",
        "Bz = Matrix([\n",
        "    [0],\n",
        "    [1]\n",
        "])\n",
        "Mz = MatrixFromColumns([Bz, Az*Bz])\n",
        "Az,Bz,Mz"
      ],
      "execution_count": 20,
      "outputs": [
        {
          "output_type": "display_data",
          "data": {
            "text/html": [
              "\n",
              "        <script src=\"https://www.gstatic.com/external_hosted/mathjax/latest/MathJax.js?config=TeX-AMS_HTML-full,Safe&delayStartupUntil=configured\"></script>\n",
              "        <script>\n",
              "          (() => {\n",
              "            const mathjax = window.MathJax;\n",
              "            mathjax.Hub.Config({\n",
              "            'tex2jax': {\n",
              "              'inlineMath': [['$', '$'], ['\\(', '\\)']],\n",
              "              'displayMath': [['$$', '$$'], ['\\[', '\\]']],\n",
              "              'processEscapes': true,\n",
              "              'processEnvironments': true,\n",
              "              'skipTags': ['script', 'noscript', 'style', 'textarea', 'code'],\n",
              "              'displayAlign': 'center',\n",
              "            },\n",
              "            'HTML-CSS': {\n",
              "              'styles': {'.MathJax_Display': {'margin': 0}},\n",
              "              'linebreaks': {'automatic': true},\n",
              "              // Disable to prevent OTF font loading, which aren't part of our\n",
              "              // distribution.\n",
              "              'imageFont': null,\n",
              "            },\n",
              "            'messageStyle': 'none'\n",
              "          });\n",
              "          mathjax.Hub.Configured();\n",
              "        })();\n",
              "        </script>\n",
              "        "
            ],
            "text/plain": [
              "<IPython.core.display.HTML object>"
            ]
          },
          "metadata": {
            "tags": []
          }
        },
        {
          "output_type": "execute_result",
          "data": {
            "text/latex": "$$\\left ( \\left[\\begin{matrix}0 & 1\\\\-2 & -3\\end{matrix}\\right], \\quad \\left[\\begin{matrix}0\\\\1\\end{matrix}\\right], \\quad \\left[\\begin{matrix}0 & 1\\\\1 & -3\\end{matrix}\\right]\\right )$$",
            "text/plain": [
              "⎛⎡0   1 ⎤  ⎡0⎤  ⎡0  1 ⎤⎞\n",
              "⎜⎢      ⎥, ⎢ ⎥, ⎢     ⎥⎟\n",
              "⎝⎣-2  -3⎦  ⎣1⎦  ⎣1  -3⎦⎠"
            ]
          },
          "metadata": {
            "tags": []
          },
          "execution_count": 20
        }
      ]
    },
    {
      "cell_type": "code",
      "metadata": {
        "id": "DGk3FdEBSyEt",
        "colab_type": "code",
        "colab": {
          "base_uri": "https://localhost:8080/",
          "height": 36
        },
        "outputId": "d5a2cd3b-741a-4a19-aea8-d76b9516d0fd"
      },
      "source": [
        "#\n",
        "# Design full state feedback controller in z coordinates.\n",
        "# Note that (s+5)(s+6) = s^2 + 11s + 30\n",
        "#\n",
        "var(\"k0 k1\")\n",
        "sol = solve([3+k1-11,2+k0-30],[k0,k1])\n",
        "Kz = Matrix([[k0,k1]]).subs(sol)\n",
        "Kz"
      ],
      "execution_count": 21,
      "outputs": [
        {
          "output_type": "display_data",
          "data": {
            "text/html": [
              "\n",
              "        <script src=\"https://www.gstatic.com/external_hosted/mathjax/latest/MathJax.js?config=TeX-AMS_HTML-full,Safe&delayStartupUntil=configured\"></script>\n",
              "        <script>\n",
              "          (() => {\n",
              "            const mathjax = window.MathJax;\n",
              "            mathjax.Hub.Config({\n",
              "            'tex2jax': {\n",
              "              'inlineMath': [['$', '$'], ['\\(', '\\)']],\n",
              "              'displayMath': [['$$', '$$'], ['\\[', '\\]']],\n",
              "              'processEscapes': true,\n",
              "              'processEnvironments': true,\n",
              "              'skipTags': ['script', 'noscript', 'style', 'textarea', 'code'],\n",
              "              'displayAlign': 'center',\n",
              "            },\n",
              "            'HTML-CSS': {\n",
              "              'styles': {'.MathJax_Display': {'margin': 0}},\n",
              "              'linebreaks': {'automatic': true},\n",
              "              // Disable to prevent OTF font loading, which aren't part of our\n",
              "              // distribution.\n",
              "              'imageFont': null,\n",
              "            },\n",
              "            'messageStyle': 'none'\n",
              "          });\n",
              "          mathjax.Hub.Configured();\n",
              "        })();\n",
              "        </script>\n",
              "        "
            ],
            "text/plain": [
              "<IPython.core.display.HTML object>"
            ]
          },
          "metadata": {
            "tags": []
          }
        },
        {
          "output_type": "execute_result",
          "data": {
            "text/latex": "$$\\left[\\begin{matrix}28 & 8\\end{matrix}\\right]$$",
            "text/plain": [
              "[28  8]"
            ]
          },
          "metadata": {
            "tags": []
          },
          "execution_count": 21
        }
      ]
    },
    {
      "cell_type": "code",
      "metadata": {
        "id": "AlFfoBGNSyEx",
        "colab_type": "code",
        "colab": {
          "base_uri": "https://localhost:8080/",
          "height": 59
        },
        "outputId": "dc7a4a27-e650-4ad6-dd15-b0a2adb34a5e"
      },
      "source": [
        "# Determine change of coordinates matrix\n",
        "P = Mx*Mz.inv()\n",
        "P"
      ],
      "execution_count": 22,
      "outputs": [
        {
          "output_type": "display_data",
          "data": {
            "text/html": [
              "\n",
              "        <script src=\"https://www.gstatic.com/external_hosted/mathjax/latest/MathJax.js?config=TeX-AMS_HTML-full,Safe&delayStartupUntil=configured\"></script>\n",
              "        <script>\n",
              "          (() => {\n",
              "            const mathjax = window.MathJax;\n",
              "            mathjax.Hub.Config({\n",
              "            'tex2jax': {\n",
              "              'inlineMath': [['$', '$'], ['\\(', '\\)']],\n",
              "              'displayMath': [['$$', '$$'], ['\\[', '\\]']],\n",
              "              'processEscapes': true,\n",
              "              'processEnvironments': true,\n",
              "              'skipTags': ['script', 'noscript', 'style', 'textarea', 'code'],\n",
              "              'displayAlign': 'center',\n",
              "            },\n",
              "            'HTML-CSS': {\n",
              "              'styles': {'.MathJax_Display': {'margin': 0}},\n",
              "              'linebreaks': {'automatic': true},\n",
              "              // Disable to prevent OTF font loading, which aren't part of our\n",
              "              // distribution.\n",
              "              'imageFont': null,\n",
              "            },\n",
              "            'messageStyle': 'none'\n",
              "          });\n",
              "          mathjax.Hub.Configured();\n",
              "        })();\n",
              "        </script>\n",
              "        "
            ],
            "text/plain": [
              "<IPython.core.display.HTML object>"
            ]
          },
          "metadata": {
            "tags": []
          }
        },
        {
          "output_type": "execute_result",
          "data": {
            "text/latex": "$$\\left[\\begin{matrix}3 & 1\\\\1 & 1\\end{matrix}\\right]$$",
            "text/plain": [
              "⎡3  1⎤\n",
              "⎢    ⎥\n",
              "⎣1  1⎦"
            ]
          },
          "metadata": {
            "tags": []
          },
          "execution_count": 22
        }
      ]
    },
    {
      "cell_type": "code",
      "metadata": {
        "id": "P2gYF7WLSyE2",
        "colab_type": "code",
        "colab": {
          "base_uri": "https://localhost:8080/",
          "height": 36
        },
        "outputId": "42757431-0a66-43a5-ce96-e028d39bf202"
      },
      "source": [
        "# Get Kx from Kz\n",
        "Kx = Kz*P.inv()\n",
        "Kx"
      ],
      "execution_count": 23,
      "outputs": [
        {
          "output_type": "display_data",
          "data": {
            "text/html": [
              "\n",
              "        <script src=\"https://www.gstatic.com/external_hosted/mathjax/latest/MathJax.js?config=TeX-AMS_HTML-full,Safe&delayStartupUntil=configured\"></script>\n",
              "        <script>\n",
              "          (() => {\n",
              "            const mathjax = window.MathJax;\n",
              "            mathjax.Hub.Config({\n",
              "            'tex2jax': {\n",
              "              'inlineMath': [['$', '$'], ['\\(', '\\)']],\n",
              "              'displayMath': [['$$', '$$'], ['\\[', '\\]']],\n",
              "              'processEscapes': true,\n",
              "              'processEnvironments': true,\n",
              "              'skipTags': ['script', 'noscript', 'style', 'textarea', 'code'],\n",
              "              'displayAlign': 'center',\n",
              "            },\n",
              "            'HTML-CSS': {\n",
              "              'styles': {'.MathJax_Display': {'margin': 0}},\n",
              "              'linebreaks': {'automatic': true},\n",
              "              // Disable to prevent OTF font loading, which aren't part of our\n",
              "              // distribution.\n",
              "              'imageFont': null,\n",
              "            },\n",
              "            'messageStyle': 'none'\n",
              "          });\n",
              "          mathjax.Hub.Configured();\n",
              "        })();\n",
              "        </script>\n",
              "        "
            ],
            "text/plain": [
              "<IPython.core.display.HTML object>"
            ]
          },
          "metadata": {
            "tags": []
          }
        },
        {
          "output_type": "execute_result",
          "data": {
            "text/latex": "$$\\left[\\begin{matrix}10 & -2\\end{matrix}\\right]$$",
            "text/plain": [
              "[10  -2]"
            ]
          },
          "metadata": {
            "tags": []
          },
          "execution_count": 23
        }
      ]
    },
    {
      "cell_type": "code",
      "metadata": {
        "id": "yxANztsKSyE7",
        "colab_type": "code",
        "colab": {
          "base_uri": "https://localhost:8080/",
          "height": 36
        },
        "outputId": "42b1a265-ae28-43c6-89bf-86168b53db60"
      },
      "source": [
        "# Check that qwe get the right characteristic polynomial\n",
        "(s*eye(2)  - (A - B*Kx)).det()"
      ],
      "execution_count": 24,
      "outputs": [
        {
          "output_type": "display_data",
          "data": {
            "text/html": [
              "\n",
              "        <script src=\"https://www.gstatic.com/external_hosted/mathjax/latest/MathJax.js?config=TeX-AMS_HTML-full,Safe&delayStartupUntil=configured\"></script>\n",
              "        <script>\n",
              "          (() => {\n",
              "            const mathjax = window.MathJax;\n",
              "            mathjax.Hub.Config({\n",
              "            'tex2jax': {\n",
              "              'inlineMath': [['$', '$'], ['\\(', '\\)']],\n",
              "              'displayMath': [['$$', '$$'], ['\\[', '\\]']],\n",
              "              'processEscapes': true,\n",
              "              'processEnvironments': true,\n",
              "              'skipTags': ['script', 'noscript', 'style', 'textarea', 'code'],\n",
              "              'displayAlign': 'center',\n",
              "            },\n",
              "            'HTML-CSS': {\n",
              "              'styles': {'.MathJax_Display': {'margin': 0}},\n",
              "              'linebreaks': {'automatic': true},\n",
              "              // Disable to prevent OTF font loading, which aren't part of our\n",
              "              // distribution.\n",
              "              'imageFont': null,\n",
              "            },\n",
              "            'messageStyle': 'none'\n",
              "          });\n",
              "          mathjax.Hub.Configured();\n",
              "        })();\n",
              "        </script>\n",
              "        "
            ],
            "text/plain": [
              "<IPython.core.display.HTML object>"
            ]
          },
          "metadata": {
            "tags": []
          }
        },
        {
          "output_type": "execute_result",
          "data": {
            "text/latex": "$$s \\left(s + 11\\right) + 30$$",
            "text/plain": [
              "s⋅(s + 11) + 30"
            ]
          },
          "metadata": {
            "tags": []
          },
          "execution_count": 24
        }
      ]
    },
    {
      "cell_type": "markdown",
      "metadata": {
        "id": "I1_unh1vSyFB",
        "colab_type": "text"
      },
      "source": [
        "# Using the Control Toolbox"
      ]
    },
    {
      "cell_type": "markdown",
      "metadata": {
        "id": "rkAeFleWSyFC",
        "colab_type": "text"
      },
      "source": [
        "The above is so algorithmic, that it is encoded in the control systems toolbox:"
      ]
    },
    {
      "cell_type": "code",
      "metadata": {
        "id": "1Lyi-I5-SyFD",
        "colab_type": "code",
        "colab": {
          "base_uri": "https://localhost:8080/",
          "height": 36
        },
        "outputId": "ce9c52f2-a7aa-4c6c-f548-435c0395753b"
      },
      "source": [
        "A = [\n",
        "        [-1,1],\n",
        "        [0,-2]\n",
        "    ]\n",
        "B = [\n",
        "        [1],\n",
        "        [1]\n",
        "    ]\n",
        "C =  [-5,-6]\n",
        "Kx = place(A,B,C)\n",
        "print(Kx)"
      ],
      "execution_count": 28,
      "outputs": [
        {
          "output_type": "stream",
          "text": [
            "[[10. -2.]]\n"
          ],
          "name": "stdout"
        }
      ]
    },
    {
      "cell_type": "code",
      "metadata": {
        "id": "EObG2Z7rSyFG",
        "colab_type": "code",
        "colab": {}
      },
      "source": [
        ""
      ],
      "execution_count": 0,
      "outputs": []
    }
  ]
}