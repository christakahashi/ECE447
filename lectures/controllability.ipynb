{
 "cells": [
  {
   "cell_type": "markdown",
   "metadata": {},
   "source": [
    "# EE447: Full State Feedback\n",
    "\n",
    "Eric Klavins\n",
    "\n",
    "Copyright &copy; University of Washington, 2019"
   ]
  },
  {
   "cell_type": "markdown",
   "metadata": {
    "heading_collapsed": true
   },
   "source": [
    "# Code"
   ]
  },
  {
   "cell_type": "code",
   "execution_count": 1,
   "metadata": {
    "collapsed": true,
    "hidden": true
   },
   "outputs": [],
   "source": [
    "import numpy as np\n",
    "import scipy.integrate as spi\n",
    "import matplotlib.pyplot as plt\n",
    "import matplotlib.patches as patches\n",
    "from sympy import *\n",
    "from matplotlib import animation\n",
    "\n",
    "# Uncomment on Google colab\n",
    "# !pip install JSAnimation\n",
    "# !pip install control\n",
    "\n",
    "from JSAnimation.IPython_display import display_animation\n",
    "from control import * \n",
    "\n",
    "%matplotlib inline\n",
    "\n",
    "# Comment out in Google colab \n",
    "init_printing(use_latex='mathjax')\n",
    "\n",
    "# Uncomment in below Google colab to render sympy equations nicely\n",
    "# def custom_latex_printer(exp,**options):\n",
    "#     from google.colab.output._publish import javascript\n",
    "#     url = \"https://cdnjs.cloudflare.com/ajax/libs/mathjax/2.7.3/latest.js?config=default\"\n",
    "#     javascript(url=url)\n",
    "#     return printing.latex(exp,**options)\n",
    "\n",
    "def MatrixFromColumns(clist):\n",
    "    return Matrix(clist).reshape(\n",
    "        clist[0].shape[0], \n",
    "        len(clist)).transpose()"
   ]
  },
  {
   "cell_type": "markdown",
   "metadata": {},
   "source": [
    "# Review"
   ]
  },
  {
   "cell_type": "markdown",
   "metadata": {},
   "source": [
    "Last time we took a system\n",
    "\n",
    "$$\n",
    "\\dot\\x = A \\x + B u\n",
    "$$\n",
    "\n",
    "and defined $u = -K\\x + r$ to get\n",
    "\n",
    "$$\n",
    "\\dot\\x = (A-BK)\\x + Br\n",
    "$$\n",
    "\n",
    "and we showed examples where we could define $K$ so that the poles of $A-BK$ are *whatever you want*. This is called **pole placement**.\n",
    "\n",
    "We also saw an example \n",
    "\n",
    "\\begin{align}\n",
    "\\dot \\x & = \\begin{pmatrix}\n",
    "  -1 & 0 \\\\\n",
    "  0 & -2\n",
    "\\end{pmatrix} \\x + \\begin{pmatrix}\n",
    "0 \\\\\n",
    "1\n",
    "\\end{pmatrix} u \\\\\n",
    "y & = ( 0 \\; 1 ) \\; \\x\n",
    "\\end{align}\n",
    "\n",
    "where the approach did not work. This system is called **not completely controllable**."
   ]
  },
  {
   "cell_type": "markdown",
   "metadata": {
    "heading_collapsed": true
   },
   "source": [
    "# Definition of Controllability"
   ]
  },
  {
   "cell_type": "markdown",
   "metadata": {
    "hidden": true
   },
   "source": [
    "*Def:* A system is **controllable** is for any $\\x(0)$ and $\\x^*$ there exists a $u(t)$ that will drive the system from $\\x(0)$ to $\\x^*$ in finite time. \n",
    "\n",
    "We will not prove the following results, which require more linear algebra than we have gone over in this course. If you are interested, take EE 547 or read a book like [Linear Systems](https://www.amazon.com/Linear-System-Electrical-Computer-Engineering/dp/0195117778) by Chi-Tsong Chen.\n",
    "\n",
    "> **Theorem**: If a linear system is controllable, then $K$ can be defined to place the poles of $A-BK$ arbitrarily. \n",
    "\n",
    "What is needed is a *test* of controllability. The following result is one of the fundamental results in linear systems theory:\n",
    "\n",
    "> **Theorem**: A system $\\dot\\x = A\\x + Bu$ is controllable if and only if the matrix\n",
    "$$\n",
    "M = [ B \\; AB \\; A^2 B \\; \\dots \\; A^{n-1}B ]\n",
    "$$\n",
    "has rank $n$, where $n$ is the dimension of $\\x$. \n",
    "\n",
    "Reminder: The **rank** of a matrix is the largest number of independent columns. You can find the rank by finding the largest non-singular submatrix (which means determinant $\\neq$ zero). If the matrix itself has a non-zero-determinant, then it has **full rank**.\n",
    "\n",
    "Example\n",
    "---\n",
    "\n",
    "The example above with \n",
    "\n",
    "$$\n",
    "\\dot \\x  = \\begin{pmatrix}\n",
    "  -1 & 0 \\\\\n",
    "  0 & -2\n",
    "\\end{pmatrix} \\x + \\begin{pmatrix}\n",
    "0 \\\\\n",
    "1\n",
    "\\end{pmatrix} u \n",
    "$$\n",
    "\n",
    "has \n",
    "\n",
    "$$\n",
    "M = \\left [\n",
    "\\begin{pmatrix}\n",
    "0 \\\\ \n",
    "1\n",
    "\\end{pmatrix} \\;\\;\\;\n",
    "\\begin{pmatrix}\n",
    "  -1 & 0 \\\\\n",
    "  0 & -2\n",
    "\\end{pmatrix}\\begin{pmatrix}\n",
    "0 \\\\\n",
    "1\n",
    "\\end{pmatrix} \n",
    "\\right ] = \\begin{pmatrix}\n",
    "0 & 0 \\\\\n",
    "1 & -2 \n",
    "\\end{pmatrix}\n",
    "$$\n",
    "\n",
    "which has rank $1$, not $2$. Therefore, the system is not controllable.\n",
    "\n",
    "An example where the system is controllable, is shown below using `sympy`."
   ]
  },
  {
   "cell_type": "code",
   "execution_count": 106,
   "metadata": {
    "hidden": true
   },
   "outputs": [
    {
     "data": {
      "text/latex": [
       "$$\\left ( \\left[\\begin{matrix}0 & 3 & 2\\\\1 & -1 & 1\\\\1 & 1 & 1\\end{matrix}\\right], \\quad 3\\right )$$"
      ],
      "text/plain": [
       "⎛⎡0  3   2⎤, 3⎞\n",
       "⎜⎢        ⎥   ⎟\n",
       "⎜⎢1  -1  1⎥   ⎟\n",
       "⎜⎢        ⎥   ⎟\n",
       "⎝⎣1  1   1⎦   ⎠"
      ]
     },
     "execution_count": 106,
     "metadata": {},
     "output_type": "execute_result"
    }
   ],
   "source": [
    "#\n",
    "# Example: Determine the controllability of A, B\n",
    "#\n",
    "A = Matrix([\n",
    "    [1,2,1],\n",
    "    [0,-1,0],\n",
    "    [0,0,1]\n",
    "])\n",
    "B = Matrix([\n",
    "    [0],\n",
    "    [1],\n",
    "    [1]\n",
    "])\n",
    "M = MatrixFromColumns([B,A*B,A*A*B])\n",
    "M, M.rank()"
   ]
  },
  {
   "cell_type": "code",
   "execution_count": 21,
   "metadata": {
    "hidden": true
   },
   "outputs": [
    {
     "data": {
      "text/latex": [
       "$$\\left ( \\left[\\begin{matrix}0.0 & 2.0 & 6.0 & 20.0\\\\2.0 & 0 & 2.0 & 6.0\\\\0.0 & 0 & 0 & 0\\\\0.0 & 2.0 & 6.0 & 20.0\\end{matrix}\\right], \\quad 2\\right )$$"
      ],
      "text/plain": [
       "⎛⎡0.0  2.0  6.0  20.0⎤, 2⎞\n",
       "⎜⎢                   ⎥   ⎟\n",
       "⎜⎢2.0   0   2.0  6.0 ⎥   ⎟\n",
       "⎜⎢                   ⎥   ⎟\n",
       "⎜⎢0.0   0    0    0  ⎥   ⎟\n",
       "⎜⎢                   ⎥   ⎟\n",
       "⎝⎣0.0  2.0  6.0  20.0⎦   ⎠"
      ]
     },
     "execution_count": 21,
     "metadata": {},
     "output_type": "execute_result"
    }
   ],
   "source": [
    "# \n",
    "# A really random example\n",
    "#\n",
    "\n",
    "A = Matrix(np.random.randint(3,size=(4,4)))\n",
    "B = Matrix(np.random.randint(3,size=(4,1)))\n",
    "M = MatrixFromColumns([B,A*B,A**2*B, A**3*B])\n",
    "M, M.rank()"
   ]
  },
  {
   "cell_type": "code",
   "execution_count": 22,
   "metadata": {
    "hidden": true
   },
   "outputs": [
    {
     "data": {
      "text/latex": [
       "$$\\left ( \\left[\\begin{matrix}1.0 & 1.0 & 1.0 & 2.0\\\\1.0 & 0.0 & 1.0 & 0.0\\\\0.0 & 0.0 & 1.0 & 0.0\\\\2.0 & 1.0 & 0.0 & 1.0\\end{matrix}\\right], \\quad \\left[\\begin{matrix}0.0\\\\2.0\\\\0.0\\\\0.0\\end{matrix}\\right]\\right )$$"
      ],
      "text/plain": [
       "⎛⎡1.0  1.0  1.0  2.0⎤, ⎡0.0⎤⎞\n",
       "⎜⎢                  ⎥  ⎢   ⎥⎟\n",
       "⎜⎢1.0  0.0  1.0  0.0⎥  ⎢2.0⎥⎟\n",
       "⎜⎢                  ⎥  ⎢   ⎥⎟\n",
       "⎜⎢0.0  0.0  1.0  0.0⎥  ⎢0.0⎥⎟\n",
       "⎜⎢                  ⎥  ⎢   ⎥⎟\n",
       "⎝⎣2.0  1.0  0.0  1.0⎦  ⎣0.0⎦⎠"
      ]
     },
     "execution_count": 22,
     "metadata": {},
     "output_type": "execute_result"
    }
   ],
   "source": [
    "A,B"
   ]
  },
  {
   "cell_type": "markdown",
   "metadata": {},
   "source": [
    "# Properties of $M$"
   ]
  },
  {
   "cell_type": "markdown",
   "metadata": {},
   "source": [
    "The coolest thing about $M$ (besides that it tells you if your system is controllable), is that it helps you build $K$. Remember that $K$ is easy to build when $A\\x + Bu$ is in phase canonical form. But what if it isn't? This is where $M$ comes in.\n",
    "\n",
    "Say\n",
    "\n",
    "$$\n",
    "\\dot\\x = A \\x + B u\n",
    "$$\n",
    "\n",
    "is *not* in phase canonical form. Say that\n",
    "\n",
    "$$\n",
    "\\x = P {\\bf z}\n",
    "$$\n",
    "\n",
    "where $P$ transforms ${\\bf z}$ from phase canonical form into the coordinate system for $\\x$. Then\n",
    "\n",
    "$$\n",
    "\\dot {\\bf z} = P^{-1}AP{\\bf z} + P^{-1}B u.\n",
    "$$\n",
    "\n",
    "Now the controllability matrix in $\\x$ coordinates is\n",
    "\n",
    "$$\n",
    "M_x = \\left( B \\; AB \\; \\dots \\; A^{n-1}B \\right)\n",
    "$$\n",
    "\n",
    "and in ${\\bf z}$ coordinates is\n",
    "\n",
    "\\begin{align}\n",
    "M_z & = \\left ( P^{-1}B \\;\\; (P^{-1}AP)P^{-1}B \\; \\dots \\; (P^{-1}AP)^{n-1}P^{-1}B \\right ) \\\\\n",
    "  & = P^{-1} \\left( B \\;\\; AB \\;\\; \\dots \\; A^{n-1}B \\right ) \\\\\n",
    "  & = P^{-1} M_x\n",
    "\\end{align}\n",
    "\n",
    "Thus, \n",
    "\n",
    "$$\n",
    "P = M_x M_z^{-1}\n",
    "$$\n",
    "\n",
    "After transforming the system into phase variables, we design a controller\n",
    "\n",
    "$$\n",
    "u = -K_z {\\bf z} + r\n",
    "$$\n",
    "\n",
    "to get \n",
    "\n",
    "\\begin{align}\n",
    "\\dot {\\bf z} & = (A_z - B_z K_z) {\\bf z} + B_z r \\\\\n",
    " & = (P^{-1}AP - P^{-1}BK_z) {\\bf z} + P^{-1}r\n",
    "\\end{align}\n",
    "\n",
    "But since $\\x = P{\\bf z}$ we get\n",
    "\n",
    "\\begin{align}\n",
    "\\dot\\x & = P \\dot {\\bf z} \\\\\n",
    "       & = P (P^{-1}AP - P^{-1}BK_z) {\\bf z} + P P^{-1}r\\\\\n",
    "       & = (A-BK_zP^{-1})\\x + Br \\\\\n",
    "       & = (A-BK_x)\\x + Br\n",
    "\\end{align}\n",
    "\n",
    "where $K_x \\triangleq K_z P^{-1}$.\n",
    "\n",
    "An example using `sympy` is below."
   ]
  },
  {
   "cell_type": "code",
   "execution_count": 118,
   "metadata": {},
   "outputs": [
    {
     "data": {
      "text/latex": [
       "$$\\left ( \\left[\\begin{matrix}1 & 0\\\\1 & -2\\end{matrix}\\right], \\quad 2\\right )$$"
      ],
      "text/plain": [
       "⎛⎡1  0 ⎤, 2⎞\n",
       "⎜⎢     ⎥   ⎟\n",
       "⎝⎣1  -2⎦   ⎠"
      ]
     },
     "execution_count": 118,
     "metadata": {},
     "output_type": "execute_result"
    }
   ],
   "source": [
    "#\n",
    "# Example: Define K that A-BK has poles at -5, -6 where\n",
    "#\n",
    "A = Matrix([\n",
    "    [-1,1],\n",
    "    [0,-2]\n",
    "])\n",
    "B = Matrix([\n",
    "    [1],\n",
    "    [1]\n",
    "])\n",
    "Mx = MatrixFromColumns([B, A*B])\n",
    "Mx, Mx.rank()"
   ]
  },
  {
   "cell_type": "code",
   "execution_count": 119,
   "metadata": {},
   "outputs": [
    {
     "data": {
      "text/latex": [
       "$$s^{2} + 3 s + 2$$"
      ],
      "text/plain": [
       " 2          \n",
       "s  + 3⋅s + 2"
      ]
     },
     "execution_count": 119,
     "metadata": {},
     "output_type": "execute_result"
    }
   ],
   "source": [
    "#\n",
    "# Characteristic polynomial \n",
    "#\n",
    "var(\"s\")\n",
    "(s*eye(2)-A).det()"
   ]
  },
  {
   "cell_type": "code",
   "execution_count": 127,
   "metadata": {},
   "outputs": [
    {
     "data": {
      "text/latex": [
       "$$\\left ( \\left[\\begin{matrix}0 & 1\\\\-2 & -3\\end{matrix}\\right], \\quad \\left[\\begin{matrix}0\\\\1\\end{matrix}\\right], \\quad \\left[\\begin{matrix}0 & 1\\\\1 & -3\\end{matrix}\\right]\\right )$$"
      ],
      "text/plain": [
       "⎛⎡0   1 ⎤, ⎡0⎤, ⎡0  1 ⎤⎞\n",
       "⎜⎢      ⎥  ⎢ ⎥  ⎢     ⎥⎟\n",
       "⎝⎣-2  -3⎦  ⎣1⎦  ⎣1  -3⎦⎠"
      ]
     },
     "execution_count": 127,
     "metadata": {},
     "output_type": "execute_result"
    }
   ],
   "source": [
    "#\n",
    "# Z coordinates are just phase canonical form for 2 and 3.\n",
    "#\n",
    "Az = Matrix([\n",
    "    [0,1],\n",
    "    [-2,-3]\n",
    "])\n",
    "Bz = Matrix([\n",
    "    [0],\n",
    "    [1]\n",
    "])\n",
    "Mz = MatrixFromColumns([Bz, Az*Bz])\n",
    "Az,Bz,Mz"
   ]
  },
  {
   "cell_type": "code",
   "execution_count": 133,
   "metadata": {},
   "outputs": [
    {
     "data": {
      "text/latex": [
       "$$\\left[\\begin{matrix}28 & 8\\end{matrix}\\right]$$"
      ],
      "text/plain": [
       "[28  8]"
      ]
     },
     "execution_count": 133,
     "metadata": {},
     "output_type": "execute_result"
    }
   ],
   "source": [
    "#\n",
    "# Design full state feedback controller in z coordinates.\n",
    "# Note that (s+5)(s+6) = s^2 + 11s + 30\n",
    "#\n",
    "var(\"k0 k1\")\n",
    "sol = solve([3+k1-11,2+k0-30],[k0,k1])\n",
    "Kz = Matrix([[k0,k1]]).subs(sol)\n",
    "Kz"
   ]
  },
  {
   "cell_type": "code",
   "execution_count": 138,
   "metadata": {},
   "outputs": [
    {
     "data": {
      "text/latex": [
       "$$\\left[\\begin{matrix}3 & 1\\\\1 & 1\\end{matrix}\\right]$$"
      ],
      "text/plain": [
       "⎡3  1⎤\n",
       "⎢    ⎥\n",
       "⎣1  1⎦"
      ]
     },
     "execution_count": 138,
     "metadata": {},
     "output_type": "execute_result"
    }
   ],
   "source": [
    "# Determine change of coordinates matrix\n",
    "P = Mx*Mz.inv()\n",
    "P"
   ]
  },
  {
   "cell_type": "code",
   "execution_count": 139,
   "metadata": {},
   "outputs": [
    {
     "data": {
      "text/latex": [
       "$$\\left[\\begin{matrix}10 & -2\\end{matrix}\\right]$$"
      ],
      "text/plain": [
       "[10  -2]"
      ]
     },
     "execution_count": 139,
     "metadata": {},
     "output_type": "execute_result"
    }
   ],
   "source": [
    "# Get Kx from Kz\n",
    "Kx = Kz*P.inv()\n",
    "Kx"
   ]
  },
  {
   "cell_type": "code",
   "execution_count": 141,
   "metadata": {},
   "outputs": [
    {
     "data": {
      "text/latex": [
       "$$s^{2} + 11 s + 30$$"
      ],
      "text/plain": [
       " 2            \n",
       "s  + 11⋅s + 30"
      ]
     },
     "execution_count": 141,
     "metadata": {},
     "output_type": "execute_result"
    }
   ],
   "source": [
    "# Check that qwe get the right characteristic polynomial\n",
    "(s*eye(2)  - (A - B*Kx)).det()"
   ]
  },
  {
   "cell_type": "markdown",
   "metadata": {},
   "source": [
    "# Using the Control Toolbox"
   ]
  },
  {
   "cell_type": "markdown",
   "metadata": {},
   "source": [
    "The above is so algorithmic, that it is encoded in the control systems toolbox:"
   ]
  },
  {
   "cell_type": "code",
   "execution_count": 25,
   "metadata": {},
   "outputs": [
    {
     "data": {
      "text/plain": [
       "array([[10., -2.]])"
      ]
     },
     "execution_count": 25,
     "metadata": {},
     "output_type": "execute_result"
    }
   ],
   "source": [
    "Kx = place(\n",
    "    [\n",
    "        [-1,1],\n",
    "        [0,-2]\n",
    "    ],\n",
    "    [\n",
    "        [1],\n",
    "        [1]\n",
    "    ],\n",
    "    [-5,-6]\n",
    ")\n",
    "Kx"
   ]
  },
  {
   "cell_type": "code",
   "execution_count": null,
   "metadata": {
    "collapsed": true
   },
   "outputs": [],
   "source": []
  }
 ],
 "metadata": {
  "kernelspec": {
   "display_name": "Python 3",
   "language": "python",
   "name": "python3"
  },
  "language_info": {
   "codemirror_mode": {
    "name": "ipython",
    "version": 3
   },
   "file_extension": ".py",
   "mimetype": "text/x-python",
   "name": "python",
   "nbconvert_exporter": "python",
   "pygments_lexer": "ipython3",
   "version": "3.6.1"
  }
 },
 "nbformat": 4,
 "nbformat_minor": 2
}
