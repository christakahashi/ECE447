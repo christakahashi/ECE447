{
  "nbformat": 4,
  "nbformat_minor": 0,
  "metadata": {
    "celltoolbar": "Raw Cell Format",
    "kernelspec": {
      "display_name": "Python 3",
      "language": "python",
      "name": "python3"
    },
    "language_info": {
      "codemirror_mode": {
        "name": "ipython",
        "version": 3
      },
      "file_extension": ".py",
      "mimetype": "text/x-python",
      "name": "python",
      "nbconvert_exporter": "python",
      "pygments_lexer": "ipython3",
      "version": "3.6.1"
    },
    "colab": {
      "name": "full-state-feedback.ipynb",
      "provenance": []
    }
  },
  "cells": [
    {
      "cell_type": "markdown",
      "metadata": {
        "heading_collapsed": true,
        "id": "fisagL_FSwWD",
        "colab_type": "text"
      },
      "source": [
        "# EE447: Full State Feedback\n",
        "\n",
        "Eric Klavins\n",
        "\n",
        "Copyright &copy; University of Washington, 2019"
      ]
    },
    {
      "cell_type": "markdown",
      "metadata": {
        "id": "qBWZz3kaSwWF",
        "colab_type": "text"
      },
      "source": [
        "# Code"
      ]
    },
    {
      "cell_type": "code",
      "metadata": {
        "id": "baUZmt_ZS_e8",
        "colab_type": "code",
        "colab": {
          "base_uri": "https://localhost:8080/",
          "height": 537
        },
        "outputId": "77c08a23-5ec5-4ead-dc05-d40177248057"
      },
      "source": [
        "!pip install control"
      ],
      "execution_count": 1,
      "outputs": [
        {
          "output_type": "stream",
          "text": [
            "Collecting JSAnimation\n",
            "  Downloading https://files.pythonhosted.org/packages/3c/e6/a93a578400c38a43af8b4271334ed2444b42d65580f1d6721c9fe32e9fd8/JSAnimation-0.1.tar.gz\n",
            "Building wheels for collected packages: JSAnimation\n",
            "  Building wheel for JSAnimation (setup.py) ... \u001b[?25l\u001b[?25hdone\n",
            "  Created wheel for JSAnimation: filename=JSAnimation-0.1-cp36-none-any.whl size=11428 sha256=e23807381636cd7143f1e9e5009edb3549176f8c538a831b2d2f8a20793dc5ba\n",
            "  Stored in directory: /root/.cache/pip/wheels/3c/c2/b2/b444dffc3eed9c78139288d301c4009a42c0dd061d3b62cead\n",
            "Successfully built JSAnimation\n",
            "Installing collected packages: JSAnimation\n",
            "Successfully installed JSAnimation-0.1\n",
            "Collecting control\n",
            "\u001b[?25l  Downloading https://files.pythonhosted.org/packages/e8/b0/32a903138505dd4ea523f8a3fc156c4272aa58b10100ef24ff74ced2fae8/control-0.8.3.tar.gz (249kB)\n",
            "\u001b[K     |████████████████████████████████| 256kB 2.8MB/s \n",
            "\u001b[?25hRequirement already satisfied: numpy in /usr/local/lib/python3.6/dist-packages (from control) (1.18.4)\n",
            "Requirement already satisfied: scipy in /usr/local/lib/python3.6/dist-packages (from control) (1.4.1)\n",
            "Requirement already satisfied: matplotlib in /usr/local/lib/python3.6/dist-packages (from control) (3.2.1)\n",
            "Requirement already satisfied: python-dateutil>=2.1 in /usr/local/lib/python3.6/dist-packages (from matplotlib->control) (2.8.1)\n",
            "Requirement already satisfied: pyparsing!=2.0.4,!=2.1.2,!=2.1.6,>=2.0.1 in /usr/local/lib/python3.6/dist-packages (from matplotlib->control) (2.4.7)\n",
            "Requirement already satisfied: kiwisolver>=1.0.1 in /usr/local/lib/python3.6/dist-packages (from matplotlib->control) (1.2.0)\n",
            "Requirement already satisfied: cycler>=0.10 in /usr/local/lib/python3.6/dist-packages (from matplotlib->control) (0.10.0)\n",
            "Requirement already satisfied: six>=1.5 in /usr/local/lib/python3.6/dist-packages (from python-dateutil>=2.1->matplotlib->control) (1.12.0)\n",
            "Building wheels for collected packages: control\n",
            "  Building wheel for control (setup.py) ... \u001b[?25l\u001b[?25hdone\n",
            "  Created wheel for control: filename=control-0.8.3-py2.py3-none-any.whl size=260982 sha256=67d75c12fdc6df8280ea7d161a944f8c626d4211c06a32e9029efb02d52a320a\n",
            "  Stored in directory: /root/.cache/pip/wheels/c2/d9/cc/90b28cb139a6320a3af2285428b6da87eee8d8920c78bb0223\n",
            "Successfully built control\n",
            "Installing collected packages: control\n",
            "Successfully installed control-0.8.3\n"
          ],
          "name": "stdout"
        }
      ]
    },
    {
      "cell_type": "code",
      "metadata": {
        "id": "Rbto53cWSwWI",
        "colab_type": "code",
        "colab": {}
      },
      "source": [
        "import numpy as np\n",
        "import scipy.integrate as spi\n",
        "import matplotlib.pyplot as plt\n",
        "import matplotlib.patches as patches\n",
        "from sympy import *\n",
        "from matplotlib import animation\n",
        "\n",
        "# Uncomment on Google colab\n",
        "# !pip install JSAnimation\n",
        "# !pip install control\n",
        "\n",
        "from JSAnimation.IPython_display import display_animation\n",
        "\n",
        "%matplotlib inline\n",
        "#comment out for light mode\n",
        "plt.style.use('dark_background')\n",
        "\n",
        "try: \n",
        "  import google.colab #test for colab\n",
        "  import IPython\n",
        "  def setup_typeset():\n",
        "    \"\"\"MathJax initialization for the current cell.\n",
        "    \n",
        "    This installs and configures MathJax for the current output.\n",
        "    \"\"\"\n",
        "    IPython.display.display(IPython.display.HTML('''\n",
        "        <script src=\"https://www.gstatic.com/external_hosted/mathjax/latest/MathJax.js?config=TeX-AMS_HTML-full,Safe&delayStartupUntil=configured\"></script>\n",
        "        <script>\n",
        "          (() => {\n",
        "            const mathjax = window.MathJax;\n",
        "            mathjax.Hub.Config({\n",
        "            'tex2jax': {\n",
        "              'inlineMath': [['$', '$'], ['\\\\(', '\\\\)']],\n",
        "              'displayMath': [['$$', '$$'], ['\\\\[', '\\\\]']],\n",
        "              'processEscapes': true,\n",
        "              'processEnvironments': true,\n",
        "              'skipTags': ['script', 'noscript', 'style', 'textarea', 'code'],\n",
        "              'displayAlign': 'center',\n",
        "            },\n",
        "            'HTML-CSS': {\n",
        "              'styles': {'.MathJax_Display': {'margin': 0}},\n",
        "              'linebreaks': {'automatic': true},\n",
        "              // Disable to prevent OTF font loading, which aren't part of our\n",
        "              // distribution.\n",
        "              'imageFont': null,\n",
        "            },\n",
        "            'messageStyle': 'none'\n",
        "          });\n",
        "          mathjax.Hub.Configured();\n",
        "        })();\n",
        "        </script>\n",
        "        '''))\n",
        "  def custom_latex_printer(exp,**options):\n",
        "      setup_typeset()\n",
        "      return printing.latex(exp,**options)\n",
        "  init_printing(use_latex=\"mathjax\",latex_printer=custom_latex_printer)\n",
        "except:\n",
        "  init_printing(use_latex='mathjax')"
      ],
      "execution_count": 0,
      "outputs": []
    },
    {
      "cell_type": "markdown",
      "metadata": {
        "id": "SQAhUc8gSwWU",
        "colab_type": "text"
      },
      "source": [
        "# Full State Feedback in Phase Canonical Form"
      ]
    },
    {
      "cell_type": "markdown",
      "metadata": {
        "id": "G3M_SeNmSwWW",
        "colab_type": "text"
      },
      "source": [
        "Say\n",
        "\n",
        "$$\n",
        "G(s) = \\frac{b_3 s^3 + b_2 s^2 + b_1 s + b_0}\n",
        "            {s^4 + a_3 s^3 + a_2 s^2 + a_1 s + a_0}\n",
        "$$\n",
        "\n",
        "In phase canonical form this is \n",
        "\n",
        "\\begin{align}\n",
        "\\dot x & = \\begin{pmatrix}\n",
        "0 & 1 & 0 & 0 \\\\\n",
        "0 & 0 & 1 & 0 \\\\\n",
        "0 & 0 & 0 & 1 \\\\\n",
        "-a_0 & -a_1 & -a_2 & -a_3 \n",
        "\\end{pmatrix} x + \\begin{pmatrix}\n",
        "0 \\\\\n",
        "0 \\\\\n",
        "0 \\\\\n",
        "1\n",
        "\\end{pmatrix} u \\\\\n",
        "y & = ( b_0 \\; b_1 \\; b_2 \\; b_3 ) \\; x .\n",
        "\\end{align}\n",
        "\n",
        "For now, we will ignore $y$ an <span style=\"background: yellow\">suppose we have direct measurements of $x$ </span>.\n",
        "\n",
        "by construction, the characteristic equation (denominator of the transfer function) can be read off of the matrix by construction, and is \n",
        "\n",
        "$$\n",
        "s^4 + a_3 s^3 + a_2 s^2 + a_1 s^1 + a_0 .\n",
        "$$\n",
        "\n",
        "**Full state feedback** means setting \n",
        "\n",
        "\\begin{align}\n",
        "u & = -K x + r \\\\\n",
        "  & = - (k_0 \\; k_1 \\; k_2 \\; k_3) \\; x + r\n",
        "\\end{align}\n",
        "\n",
        "where the $K$ is a matrix of gains *that you get to design* and $r$ is a new *reference input*. \n",
        "\n",
        "In blue we show what we have added to the system:\n",
        "\n",
        "<img width=55% src=\"https://raw.githubusercontent.com/klavins/ECE447/master/images/fsf.png\">\n",
        "\n",
        "Substituting in this value of $u$ back into the above we get\n",
        "\n",
        "\\begin{align}\n",
        "\\dot x & = A x + B(-K x + r ) \\\\\n",
        "       & = (A-BK) x + Br\n",
        "\\end{align}\n",
        "\n",
        "and (still using phase variables) we get\n",
        "\n",
        "\\begin{align}\n",
        "A-BK & = \\begin{pmatrix}\n",
        "0 & 1 & 0 & 0 \\\\\n",
        "0 & 0 & 1 & 0 \\\\\n",
        "0 & 0 & 0 & 1 \\\\\n",
        "-a_0 & -a_1 & -a_2 & -a_3 \n",
        "\\end{pmatrix} - \\begin{pmatrix}\n",
        "0 \\\\\n",
        "0 \\\\\n",
        "0 \\\\\n",
        "1\n",
        "\\end{pmatrix} (K_0 \\; K_1 \\; K_2 \\; K_3) \\\\\n",
        " & = \\begin{pmatrix}\n",
        "0 & 1 & 0 & 0 \\\\\n",
        "0 & 0 & 1 & 0 \\\\\n",
        "0 & 0 & 0 & 1 \\\\\n",
        "-a_0-k_0 & -a_1-k_1 & -a_2-k_2 & -a_3-k_3 \n",
        "\\end{pmatrix} \n",
        "\\end{align}\n",
        "\n",
        "which has characteristic polynomial\n",
        "\n",
        "$$\n",
        "s^4 + (a_3+k_3) s^3 + (a_2+k_2) s^2 + (a_1+k_1) s^1 + (a_0 +k_0)\n",
        "$$\n",
        "\n",
        "What's important is that by choosing $K$, we can set the coefficients of the new characteristic polynomial to be whatever we want them to be, and therefore we can place the poles wherever we want them to go!"
      ]
    },
    {
      "cell_type": "markdown",
      "metadata": {
        "id": "D6erUtqJSwWX",
        "colab_type": "text"
      },
      "source": [
        "Example:\n",
        "---\n",
        "\n",
        "Say\n",
        "\n",
        "$$\n",
        "G(s) = \\frac{1}{s^2+s}\n",
        "$$\n",
        "\n",
        "with phase canonical form\n",
        "\n",
        "$$\n",
        "\\dot x = \\begin{pmatrix} \n",
        "  0 & 1 \\\\\n",
        "  0 & -1\n",
        "\\end{pmatrix} x + \\begin{pmatrix}\n",
        "0 \\\\\n",
        "1\n",
        "\\end{pmatrix} u\n",
        "$$ \n",
        "\n",
        "$$\n",
        "y = ( 1 \\; 0 ) \\; x\n",
        "$$\n",
        "\n",
        "Suppose we want to design a controller so that the closed loop poles are at\n",
        "\n",
        "$$\n",
        "-1 \\pm i.\n",
        "$$\n",
        "\n",
        "**Solution**: We want the closed loop characteristic polynomial to be\n",
        "\n",
        "$$\n",
        "s^2 + 2s + 2\n",
        "$$\n",
        "\n",
        "Setting $u = -K x + r$ gives the new characteristic polynomial\n",
        "\n",
        "$$\n",
        "s^2 + (a_1+k_1)s + (a_0+k_0) \\; = \\; s^2 + (1+k_1)s + k_0\n",
        "$$\n",
        "\n",
        "setting the coefficients equal to the desired coefficients gives the two equations\n",
        "\n",
        "\\begin{align}\n",
        "k_1 - 1 & = 2  \\\\\n",
        "k_0 & = 2\n",
        "\\end{align}\n",
        "\n",
        "so that a choice of $k_1 = 3$ and $k_0 = 2$ will put the closed loop poles at the desired locations."
      ]
    },
    {
      "cell_type": "markdown",
      "metadata": {
        "id": "Fbbm4SABSwWZ",
        "colab_type": "text"
      },
      "source": [
        "# Arbitrary States"
      ]
    },
    {
      "cell_type": "markdown",
      "metadata": {
        "id": "iupGwTBuSwWa",
        "colab_type": "text"
      },
      "source": [
        "Example:\n",
        "---\n",
        "\n",
        "Design a full state feedback controller for the system\n",
        "\n",
        "$$ \n",
        "\\dot x = \\begin{pmatrix}\n",
        "1 & 2 & 1 \\\\\n",
        "0 & -1 & 0 \\\\\n",
        "0 & 0 & 1\n",
        "\\end{pmatrix} x + \\begin{pmatrix}\n",
        "0 \\\\\n",
        "1 \\\\\n",
        "1\n",
        "\\end{pmatrix} u\n",
        "$$\n",
        "\n",
        "that has 10% overshoot and a settling time of 2s, using the 2nd order pole approximation.\n",
        "\n",
        "**Solution:** Translating into second order pole locations, we want\n",
        "\n",
        "$$\n",
        "s = -2 \\pm 2.7 j\n",
        "$$\n",
        "\n",
        "for the dominant poles. Since the system is 3rd order, there is one more pole. Let's put it at $-5$. \n",
        "\n",
        "The resulting desired polynomial is"
      ]
    },
    {
      "cell_type": "code",
      "metadata": {
        "id": "YzHf-PN5SwWb",
        "colab_type": "code",
        "colab": {
          "base_uri": "https://localhost:8080/",
          "height": 37
        },
        "outputId": "8debfafa-a061-4fc7-dff4-a8b50dac64f3"
      },
      "source": [
        "var(\"s\")\n",
        "desired_charpoly = ((s+5)*(s+2-2.7*I)*(s+2+2.7*I)).expand()\n",
        "desired_charpoly"
      ],
      "execution_count": 4,
      "outputs": [
        {
          "output_type": "display_data",
          "data": {
            "text/html": [
              "\n",
              "        <script src=\"https://www.gstatic.com/external_hosted/mathjax/latest/MathJax.js?config=TeX-AMS_HTML-full,Safe&delayStartupUntil=configured\"></script>\n",
              "        <script>\n",
              "          (() => {\n",
              "            const mathjax = window.MathJax;\n",
              "            mathjax.Hub.Config({\n",
              "            'tex2jax': {\n",
              "              'inlineMath': [['$', '$'], ['\\(', '\\)']],\n",
              "              'displayMath': [['$$', '$$'], ['\\[', '\\]']],\n",
              "              'processEscapes': true,\n",
              "              'processEnvironments': true,\n",
              "              'skipTags': ['script', 'noscript', 'style', 'textarea', 'code'],\n",
              "              'displayAlign': 'center',\n",
              "            },\n",
              "            'HTML-CSS': {\n",
              "              'styles': {'.MathJax_Display': {'margin': 0}},\n",
              "              'linebreaks': {'automatic': true},\n",
              "              // Disable to prevent OTF font loading, which aren't part of our\n",
              "              // distribution.\n",
              "              'imageFont': null,\n",
              "            },\n",
              "            'messageStyle': 'none'\n",
              "          });\n",
              "          mathjax.Hub.Configured();\n",
              "        })();\n",
              "        </script>\n",
              "        "
            ],
            "text/plain": [
              "<IPython.core.display.HTML object>"
            ]
          },
          "metadata": {
            "tags": []
          }
        },
        {
          "output_type": "execute_result",
          "data": {
            "text/latex": "$$s^{3} + 9 s^{2} + 31.29 s + 56.45$$",
            "text/plain": [
              " 3      2                  \n",
              "s  + 9⋅s  + 31.29⋅s + 56.45"
            ]
          },
          "metadata": {
            "tags": []
          },
          "execution_count": 4
        }
      ]
    },
    {
      "cell_type": "markdown",
      "metadata": {
        "id": "W0rPWphrSwWj",
        "colab_type": "text"
      },
      "source": [
        "Note that to determine the characteristic polynomial of $A-BK$ we need to find $(sI-A+BK)^{-1}$, which has the determinant of $sI-A+BK$ in the denominator."
      ]
    },
    {
      "cell_type": "code",
      "metadata": {
        "id": "o2TIY6diSwWk",
        "colab_type": "code",
        "colab": {
          "base_uri": "https://localhost:8080/",
          "height": 56
        },
        "outputId": "5115ca8f-e631-4643-f6af-709b3a516d39"
      },
      "source": [
        "var(\"k0 k1 k2\")\n",
        "A = Matrix([\n",
        "    [1,2,1],\n",
        "    [0,-1,0],\n",
        "    [0,0,1]\n",
        "])\n",
        "B = Matrix([\n",
        "    [0],\n",
        "    [1],\n",
        "    [1]\n",
        "])\n",
        "K = Matrix([[k0,k1,k2]])\n",
        "charpoly = (s*eye(3)-(A-B*K)).det()\n",
        "charpoly"
      ],
      "execution_count": 5,
      "outputs": [
        {
          "output_type": "display_data",
          "data": {
            "text/html": [
              "\n",
              "        <script src=\"https://www.gstatic.com/external_hosted/mathjax/latest/MathJax.js?config=TeX-AMS_HTML-full,Safe&delayStartupUntil=configured\"></script>\n",
              "        <script>\n",
              "          (() => {\n",
              "            const mathjax = window.MathJax;\n",
              "            mathjax.Hub.Config({\n",
              "            'tex2jax': {\n",
              "              'inlineMath': [['$', '$'], ['\\(', '\\)']],\n",
              "              'displayMath': [['$$', '$$'], ['\\[', '\\]']],\n",
              "              'processEscapes': true,\n",
              "              'processEnvironments': true,\n",
              "              'skipTags': ['script', 'noscript', 'style', 'textarea', 'code'],\n",
              "              'displayAlign': 'center',\n",
              "            },\n",
              "            'HTML-CSS': {\n",
              "              'styles': {'.MathJax_Display': {'margin': 0}},\n",
              "              'linebreaks': {'automatic': true},\n",
              "              // Disable to prevent OTF font loading, which aren't part of our\n",
              "              // distribution.\n",
              "              'imageFont': null,\n",
              "            },\n",
              "            'messageStyle': 'none'\n",
              "          });\n",
              "          mathjax.Hub.Configured();\n",
              "        })();\n",
              "        </script>\n",
              "        "
            ],
            "text/plain": [
              "<IPython.core.display.HTML object>"
            ]
          },
          "metadata": {
            "tags": []
          }
        },
        {
          "output_type": "execute_result",
          "data": {
            "text/latex": "$$- k_{0} k_{1} - 2 k_{0} k_{2} - k_{0} \\left(- k_{1} - s - 1\\right) + 2 k_{0} \\left(k_{2} + s - 1\\right) - k_{1} k_{2} \\left(s - 1\\right) + \\left(s - 1\\right) \\left(k_{1} + s + 1\\right) \\left(k_{2} + s - 1\\right)$$",
            "text/plain": [
              "-k₀⋅k₁ - 2⋅k₀⋅k₂ - k₀⋅(-k₁ - s - 1) + 2⋅k₀⋅(k₂ + s - 1) - k₁⋅k₂⋅(s - 1) + (s -\n",
              " 1)⋅(k₁ + s + 1)⋅(k₂ + s - 1)"
            ]
          },
          "metadata": {
            "tags": []
          },
          "execution_count": 5
        }
      ]
    },
    {
      "cell_type": "markdown",
      "metadata": {
        "id": "qNabCuypSwWr",
        "colab_type": "text"
      },
      "source": [
        "Now we set the coefficients of the two polynomials equal and solve for the gains."
      ]
    },
    {
      "cell_type": "code",
      "metadata": {
        "id": "enYI1KMpSwWs",
        "colab_type": "code",
        "colab": {
          "base_uri": "https://localhost:8080/",
          "height": 106
        },
        "outputId": "4b047b29-0c0a-4d35-e77a-2c9f162a0419"
      },
      "source": [
        "c1 = Poly(desired_charpoly,s).coeffs()\n",
        "c2 = Poly(charpoly,s).coeffs()\n",
        "Matrix(c1), Matrix(c2)"
      ],
      "execution_count": 6,
      "outputs": [
        {
          "output_type": "display_data",
          "data": {
            "text/html": [
              "\n",
              "        <script src=\"https://www.gstatic.com/external_hosted/mathjax/latest/MathJax.js?config=TeX-AMS_HTML-full,Safe&delayStartupUntil=configured\"></script>\n",
              "        <script>\n",
              "          (() => {\n",
              "            const mathjax = window.MathJax;\n",
              "            mathjax.Hub.Config({\n",
              "            'tex2jax': {\n",
              "              'inlineMath': [['$', '$'], ['\\(', '\\)']],\n",
              "              'displayMath': [['$$', '$$'], ['\\[', '\\]']],\n",
              "              'processEscapes': true,\n",
              "              'processEnvironments': true,\n",
              "              'skipTags': ['script', 'noscript', 'style', 'textarea', 'code'],\n",
              "              'displayAlign': 'center',\n",
              "            },\n",
              "            'HTML-CSS': {\n",
              "              'styles': {'.MathJax_Display': {'margin': 0}},\n",
              "              'linebreaks': {'automatic': true},\n",
              "              // Disable to prevent OTF font loading, which aren't part of our\n",
              "              // distribution.\n",
              "              'imageFont': null,\n",
              "            },\n",
              "            'messageStyle': 'none'\n",
              "          });\n",
              "          mathjax.Hub.Configured();\n",
              "        })();\n",
              "        </script>\n",
              "        "
            ],
            "text/plain": [
              "<IPython.core.display.HTML object>"
            ]
          },
          "metadata": {
            "tags": []
          }
        },
        {
          "output_type": "execute_result",
          "data": {
            "text/latex": "$$\\left ( \\left[\\begin{matrix}1.0\\\\9.0\\\\31.29\\\\56.45\\end{matrix}\\right], \\quad \\left[\\begin{matrix}1\\\\k_{1} + k_{2} - 1\\\\3 k_{0} - 2 k_{1} - 1\\\\- k_{0} + k_{1} - k_{2} + 1\\end{matrix}\\right]\\right )$$",
            "text/plain": [
              "⎛⎡ 1.0 ⎤  ⎡        1        ⎤⎞\n",
              "⎜⎢     ⎥  ⎢                 ⎥⎟\n",
              "⎜⎢ 9.0 ⎥  ⎢   k₁ + k₂ - 1   ⎥⎟\n",
              "⎜⎢     ⎥, ⎢                 ⎥⎟\n",
              "⎜⎢31.29⎥  ⎢ 3⋅k₀ - 2⋅k₁ - 1 ⎥⎟\n",
              "⎜⎢     ⎥  ⎢                 ⎥⎟\n",
              "⎝⎣56.45⎦  ⎣-k₀ + k₁ - k₂ + 1⎦⎠"
            ]
          },
          "metadata": {
            "tags": []
          },
          "execution_count": 6
        }
      ]
    },
    {
      "cell_type": "code",
      "metadata": {
        "id": "UjGdcU78SwWz",
        "colab_type": "code",
        "colab": {
          "base_uri": "https://localhost:8080/",
          "height": 36
        },
        "outputId": "3592998f-9bbb-4a7c-b7f6-272c99d86631"
      },
      "source": [
        "gains = solve(Matrix(c1)-Matrix(c2),[k0,k1,k2])\n",
        "K.subs(gains)"
      ],
      "execution_count": 7,
      "outputs": [
        {
          "output_type": "display_data",
          "data": {
            "text/html": [
              "\n",
              "        <script src=\"https://www.gstatic.com/external_hosted/mathjax/latest/MathJax.js?config=TeX-AMS_HTML-full,Safe&delayStartupUntil=configured\"></script>\n",
              "        <script>\n",
              "          (() => {\n",
              "            const mathjax = window.MathJax;\n",
              "            mathjax.Hub.Config({\n",
              "            'tex2jax': {\n",
              "              'inlineMath': [['$', '$'], ['\\(', '\\)']],\n",
              "              'displayMath': [['$$', '$$'], ['\\[', '\\]']],\n",
              "              'processEscapes': true,\n",
              "              'processEnvironments': true,\n",
              "              'skipTags': ['script', 'noscript', 'style', 'textarea', 'code'],\n",
              "              'displayAlign': 'center',\n",
              "            },\n",
              "            'HTML-CSS': {\n",
              "              'styles': {'.MathJax_Display': {'margin': 0}},\n",
              "              'linebreaks': {'automatic': true},\n",
              "              // Disable to prevent OTF font loading, which aren't part of our\n",
              "              // distribution.\n",
              "              'imageFont': null,\n",
              "            },\n",
              "            'messageStyle': 'none'\n",
              "          });\n",
              "          mathjax.Hub.Configured();\n",
              "        })();\n",
              "        </script>\n",
              "        "
            ],
            "text/plain": [
              "<IPython.core.display.HTML object>"
            ]
          },
          "metadata": {
            "tags": []
          }
        },
        {
          "output_type": "execute_result",
          "data": {
            "text/latex": "$$\\left[\\begin{matrix}48.87 & 57.16 & -47.16\\end{matrix}\\right]$$",
            "text/plain": [
              "[48.87  57.16  -47.16]"
            ]
          },
          "metadata": {
            "tags": []
          },
          "execution_count": 7
        }
      ]
    },
    {
      "cell_type": "code",
      "metadata": {
        "id": "2H-ZLS_bSwW4",
        "colab_type": "code",
        "colab": {
          "base_uri": "https://localhost:8080/",
          "height": 59
        },
        "outputId": "61ccf605-2030-484e-e792-93b180a67068"
      },
      "source": [
        "(A-B*K.subs(gains)).eigenvals()"
      ],
      "execution_count": 8,
      "outputs": [
        {
          "output_type": "display_data",
          "data": {
            "text/html": [
              "\n",
              "        <script src=\"https://www.gstatic.com/external_hosted/mathjax/latest/MathJax.js?config=TeX-AMS_HTML-full,Safe&delayStartupUntil=configured\"></script>\n",
              "        <script>\n",
              "          (() => {\n",
              "            const mathjax = window.MathJax;\n",
              "            mathjax.Hub.Config({\n",
              "            'tex2jax': {\n",
              "              'inlineMath': [['$', '$'], ['\\(', '\\)']],\n",
              "              'displayMath': [['$$', '$$'], ['\\[', '\\]']],\n",
              "              'processEscapes': true,\n",
              "              'processEnvironments': true,\n",
              "              'skipTags': ['script', 'noscript', 'style', 'textarea', 'code'],\n",
              "              'displayAlign': 'center',\n",
              "            },\n",
              "            'HTML-CSS': {\n",
              "              'styles': {'.MathJax_Display': {'margin': 0}},\n",
              "              'linebreaks': {'automatic': true},\n",
              "              // Disable to prevent OTF font loading, which aren't part of our\n",
              "              // distribution.\n",
              "              'imageFont': null,\n",
              "            },\n",
              "            'messageStyle': 'none'\n",
              "          });\n",
              "          mathjax.Hub.Configured();\n",
              "        })();\n",
              "        </script>\n",
              "        "
            ],
            "text/plain": [
              "<IPython.core.display.HTML object>"
            ]
          },
          "metadata": {
            "tags": []
          }
        },
        {
          "output_type": "execute_result",
          "data": {
            "text/latex": "$$\\left \\{ -5 : 1, \\quad -2 - \\frac{27 i}{10} : 1, \\quad -2 + \\frac{27 i}{10} : 1\\right \\}$$",
            "text/plain": [
              "⎧            27⋅ⅈ          27⋅ⅈ   ⎫\n",
              "⎨-5: 1, -2 - ────: 1, -2 + ────: 1⎬\n",
              "⎩             10            10    ⎭"
            ]
          },
          "metadata": {
            "tags": []
          },
          "execution_count": 8
        }
      ]
    },
    {
      "cell_type": "markdown",
      "metadata": {
        "id": "C48Rv6a5SwW8",
        "colab_type": "text"
      },
      "source": [
        "# Integral Control"
      ]
    },
    {
      "cell_type": "markdown",
      "metadata": {
        "id": "9CWC1K9ySwW8",
        "colab_type": "text"
      },
      "source": [
        "You can also do integral control, in cases where you want to ensure you can track a step response with no steady state error. We just need to add a new state for the integrator:\n",
        "\n",
        "\\begin{align}\n",
        "\\dot x_I & = r - y \\\\\n",
        "         & = r - C x\n",
        "\\end{align}\n",
        "\n",
        "Together with $\\dot x = A x + B u$ and $y = C x$ we get the $n+1$ dimensional system\n",
        "\n",
        "\\begin{align}\n",
        "\\begin{pmatrix}\n",
        "\\dot x \\\\\n",
        "\\dot x_I\n",
        "\\end{pmatrix} & = \\begin{pmatrix}\n",
        "A & 0 \\\\\n",
        "-C & 0 \n",
        "\\end{pmatrix} \\begin{pmatrix}\n",
        "x \\\\\n",
        "x_I\n",
        "\\end{pmatrix} + \\begin{pmatrix}\n",
        "B \\\\\n",
        "0\n",
        "\\end{pmatrix} u + \\begin{pmatrix}\n",
        "0 \\\\\n",
        "1\n",
        "\\end{pmatrix} r\n",
        "\\end{align}\n",
        "\n",
        "Putting\n",
        "\n",
        "\\begin{align}\n",
        "u & = -K x + k_i x_I \\\\\n",
        "  & = - (K \\;\\; -k_I)  \\begin{pmatrix}\n",
        "x \\\\\n",
        "x_I\n",
        "\\end{pmatrix}\n",
        "\\end{align}\n",
        "\n",
        "Substituting this definition of $u$ into the above equations for $\\dot x$ gives\n",
        "\n",
        "\\begin{align}\n",
        "\\begin{pmatrix}\n",
        "\\dot x \\\\\n",
        "\\dot x_I\n",
        "\\end{pmatrix} & = \\begin{pmatrix}\n",
        "A-BK & B k_I \\\\\n",
        "-C & 0 \n",
        "\\end{pmatrix} \\begin{pmatrix}\n",
        "x \\\\\n",
        "x_I\n",
        "\\end{pmatrix}  + \\begin{pmatrix}\n",
        "0 \\\\\n",
        "1\n",
        "\\end{pmatrix} r.\n",
        "\\end{align}\n",
        "\n",
        "In block diagram form, this is\n",
        "\n",
        "<img width=75% src=\"https://raw.githubusercontent.com/klavins/ECE447/master/images/fsf-integral.png\">\n"
      ]
    },
    {
      "cell_type": "markdown",
      "metadata": {
        "id": "XABzUqNQSwW-",
        "colab_type": "text"
      },
      "source": [
        "Example\n",
        "---\n",
        "\n",
        "Say\n",
        "\n",
        "\\begin{align}\n",
        "\\dot x & = \\begin{pmatrix}\n",
        "  2 & 1 \\\\\n",
        "  0 & -1\n",
        "\\end{pmatrix} x + \\begin{pmatrix}\n",
        "0 \\\\\n",
        "1\n",
        "\\end{pmatrix} u \\\\\n",
        "y & = ( 1 \\; 2 ) \\; x\n",
        "\\end{align}\n",
        "\n",
        "Adding an integrator and controller givies\n",
        "\n",
        "$$\n",
        "A-BK =  \\begin{pmatrix}\n",
        "2 & 1 \\\\\n",
        "-k_0 & -k_1 - 1\n",
        "\\end{pmatrix}\n",
        "$$\n",
        "\n",
        "and\n",
        "\n",
        "$$\n",
        "Bk_I = \\begin{pmatrix}\n",
        "0 \\\\\n",
        "k_I\n",
        "\\end{pmatrix} \n",
        "$$\n",
        "\n",
        "so\n",
        "\n",
        "\\begin{align}\n",
        "\\begin{pmatrix}\n",
        "\\dot x_1 \\\\\n",
        "\\dot x_2 \\\\\n",
        "\\dot x_I \n",
        "\\end{pmatrix} & = \\begin{pmatrix}\n",
        "  2 & 1 & 0 \\\\\n",
        "  -k_0 & -k_1-1 & k_I \\\\\n",
        "  -1 & -2 & 0\n",
        "\\end{pmatrix} \\begin{pmatrix}\n",
        "x_1 \\\\\n",
        "x_2 \\\\\n",
        "x_I \n",
        "\\end{pmatrix} + \\begin{pmatrix}\n",
        "0 \\\\\n",
        "0 \\\\\n",
        "1\n",
        "\\end{pmatrix} r \\\\\n",
        "y & = ( 1 \\; 2 \\; 0 ) \\; \\begin{pmatrix}\n",
        "x_1 \\\\\n",
        "x_2 \\\\\n",
        "x_I \n",
        "\\end{pmatrix} .\n",
        "\\end{align} \n",
        "\n",
        "We can find the characteristic equation to see if we can set the poles using sympy:"
      ]
    },
    {
      "cell_type": "code",
      "metadata": {
        "id": "sIfi2SiJSwW_",
        "colab_type": "code",
        "colab": {
          "base_uri": "https://localhost:8080/",
          "height": 36
        },
        "outputId": "fb7dcc1f-a02e-4672-8572-0ceda33b115c"
      },
      "source": [
        "var(\"s k0 k1 ki\")\n",
        "A = Matrix([\n",
        "    [2,1,0],\n",
        "    [-k0,-k1-1,ki],\n",
        "    [-1, -2, 0]\n",
        "])\n",
        "poly = (s*eye(3)-A).det().collect(s)\n",
        "poly"
      ],
      "execution_count": 9,
      "outputs": [
        {
          "output_type": "display_data",
          "data": {
            "text/html": [
              "\n",
              "        <script src=\"https://www.gstatic.com/external_hosted/mathjax/latest/MathJax.js?config=TeX-AMS_HTML-full,Safe&delayStartupUntil=configured\"></script>\n",
              "        <script>\n",
              "          (() => {\n",
              "            const mathjax = window.MathJax;\n",
              "            mathjax.Hub.Config({\n",
              "            'tex2jax': {\n",
              "              'inlineMath': [['$', '$'], ['\\(', '\\)']],\n",
              "              'displayMath': [['$$', '$$'], ['\\[', '\\]']],\n",
              "              'processEscapes': true,\n",
              "              'processEnvironments': true,\n",
              "              'skipTags': ['script', 'noscript', 'style', 'textarea', 'code'],\n",
              "              'displayAlign': 'center',\n",
              "            },\n",
              "            'HTML-CSS': {\n",
              "              'styles': {'.MathJax_Display': {'margin': 0}},\n",
              "              'linebreaks': {'automatic': true},\n",
              "              // Disable to prevent OTF font loading, which aren't part of our\n",
              "              // distribution.\n",
              "              'imageFont': null,\n",
              "            },\n",
              "            'messageStyle': 'none'\n",
              "          });\n",
              "          mathjax.Hub.Configured();\n",
              "        })();\n",
              "        </script>\n",
              "        "
            ],
            "text/plain": [
              "<IPython.core.display.HTML object>"
            ]
          },
          "metadata": {
            "tags": []
          }
        },
        {
          "output_type": "execute_result",
          "data": {
            "text/latex": "$$2 ki \\left(s - 2\\right) + ki + s \\left(k_{0} + \\left(s - 2\\right) \\left(k_{1} + s + 1\\right)\\right)$$",
            "text/plain": [
              "2⋅ki⋅(s - 2) + ki + s⋅(k₀ + (s - 2)⋅(k₁ + s + 1))"
            ]
          },
          "metadata": {
            "tags": []
          },
          "execution_count": 9
        }
      ]
    },
    {
      "cell_type": "markdown",
      "metadata": {
        "id": "FlYZVPfkSwXE",
        "colab_type": "text"
      },
      "source": [
        "You can see from the above that the three coefficients have different combinations of the gains and we can choose them to get any desired coefficients we want. For example, \n",
        "to get\n",
        "\n",
        "$$\n",
        "s^3+ 3s^2 + s^2 + 1\n",
        "$$\n",
        "\n",
        "we do the following"
      ]
    },
    {
      "cell_type": "code",
      "metadata": {
        "id": "1Fv_OJmHSwXF",
        "colab_type": "code",
        "colab": {
          "base_uri": "https://localhost:8080/",
          "height": 59
        },
        "outputId": "c615e594-fb0a-4c91-f28f-e14b43e16fb7"
      },
      "source": [
        "solve(\n",
        "    Matrix([Poly(poly,s).coeffs()]) \n",
        "    - Matrix([[1,3,3,1]])\n",
        ",[k0,k1,ki])"
      ],
      "execution_count": 10,
      "outputs": [
        {
          "output_type": "display_data",
          "data": {
            "text/html": [
              "\n",
              "        <script src=\"https://www.gstatic.com/external_hosted/mathjax/latest/MathJax.js?config=TeX-AMS_HTML-full,Safe&delayStartupUntil=configured\"></script>\n",
              "        <script>\n",
              "          (() => {\n",
              "            const mathjax = window.MathJax;\n",
              "            mathjax.Hub.Config({\n",
              "            'tex2jax': {\n",
              "              'inlineMath': [['$', '$'], ['\\(', '\\)']],\n",
              "              'displayMath': [['$$', '$$'], ['\\[', '\\]']],\n",
              "              'processEscapes': true,\n",
              "              'processEnvironments': true,\n",
              "              'skipTags': ['script', 'noscript', 'style', 'textarea', 'code'],\n",
              "              'displayAlign': 'center',\n",
              "            },\n",
              "            'HTML-CSS': {\n",
              "              'styles': {'.MathJax_Display': {'margin': 0}},\n",
              "              'linebreaks': {'automatic': true},\n",
              "              // Disable to prevent OTF font loading, which aren't part of our\n",
              "              // distribution.\n",
              "              'imageFont': null,\n",
              "            },\n",
              "            'messageStyle': 'none'\n",
              "          });\n",
              "          mathjax.Hub.Configured();\n",
              "        })();\n",
              "        </script>\n",
              "        "
            ],
            "text/plain": [
              "<IPython.core.display.HTML object>"
            ]
          },
          "metadata": {
            "tags": []
          }
        },
        {
          "output_type": "execute_result",
          "data": {
            "text/latex": "$$\\left \\{ k_{0} : \\frac{41}{3}, \\quad k_{1} : 4, \\quad ki : - \\frac{1}{3}\\right \\}$$",
            "text/plain": [
              "{k₀: 41/3, k₁: 4, ki: -1/3}"
            ]
          },
          "metadata": {
            "tags": []
          },
          "execution_count": 10
        }
      ]
    },
    {
      "cell_type": "markdown",
      "metadata": {
        "heading_collapsed": true,
        "id": "H-MaC-qtSwXK",
        "colab_type": "text"
      },
      "source": [
        "# What could go wrong?"
      ]
    },
    {
      "cell_type": "markdown",
      "metadata": {
        "hidden": true,
        "id": "8T3Se78DSwXL",
        "colab_type": "text"
      },
      "source": [
        "Consider the system\n",
        "\n",
        "\\begin{align}\n",
        "\\dot x & = \\begin{pmatrix}\n",
        "  -1 & 0 \\\\\n",
        "  0 & -2\n",
        "\\end{pmatrix} x + \\begin{pmatrix} \n",
        "0 \\\\\n",
        "1\n",
        "\\end{pmatrix} u \\\\\n",
        "y & = ( 0 \\; 1 ) \\; x\n",
        "\\end{align}\n",
        "\n",
        "Note that the input $u$ does not affect $x$ in any way. When we try to design a full state feedback controller, we get\n",
        "\n",
        "\\begin{align}\n",
        "A - BK & = \\begin{pmatrix}\n",
        "  -1 & 0 \\\\\n",
        "  0 & -2\n",
        "\\end{pmatrix} - \\begin{pmatrix}\n",
        "0 \\\\\n",
        "1\n",
        "\\end{pmatrix} ( k_0 \\;\\; k_1 ) \\\\\n",
        "  &= \\begin{pmatrix}\n",
        "  -1 & 0 \\\\\n",
        "  -k_0 & -k_1\n",
        "\\end{pmatrix}\n",
        "\\end{align}\n",
        "\n",
        "Taking the determinant $|s I - A + BK|$ gives\n",
        "\n",
        "\\begin{align}\n",
        "\\left |\n",
        "\\begin{pmatrix}\n",
        "s+1 & 0 \\\\\n",
        "k_0 & s+k_1\n",
        "\\end{pmatrix}\n",
        "\\right | & = (s+1)(s+k_1) \\\\\n",
        "         & = s^2 + (k_1+1)s + k_1\n",
        "\\end{align}\n",
        "\n",
        "The gain $k_0$ is not present and $k_1$ can not be chosen to give any coefficients you want, but rather only along a one dimensional curve in the $s$ plane parameterized by $k_1$. Therefore,\n",
        "\n",
        "> Full state feedback only works for certain combinations of $A$ and $B$ matrices. "
      ]
    },
    {
      "cell_type": "code",
      "metadata": {
        "hidden": true,
        "id": "2OEV6JbQSwXM",
        "colab_type": "code",
        "colab": {}
      },
      "source": [
        ""
      ],
      "execution_count": 0,
      "outputs": []
    }
  ]
}