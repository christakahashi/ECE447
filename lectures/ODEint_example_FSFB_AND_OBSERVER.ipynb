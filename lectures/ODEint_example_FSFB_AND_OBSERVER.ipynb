{
  "nbformat": 4,
  "nbformat_minor": 0,
  "metadata": {
    "colab": {
      "name": "ODEint_example_FSFB_AND_OBSERVER.ipynb",
      "provenance": [],
      "collapsed_sections": [],
      "authorship_tag": "ABX9TyPznV9TdR5qpyR2I5Uyf8e4",
      "include_colab_link": true
    },
    "kernelspec": {
      "name": "python3",
      "display_name": "Python 3"
    }
  },
  "cells": [
    {
      "cell_type": "markdown",
      "metadata": {
        "id": "view-in-github",
        "colab_type": "text"
      },
      "source": [
        "<a href=\"https://colab.research.google.com/github/christakahashi/ECE447/blob/master/lectures/ODEint_example_FSFB_AND_OBSERVER.ipynb\" target=\"_parent\"><img src=\"https://colab.research.google.com/assets/colab-badge.svg\" alt=\"Open In Colab\"/></a>"
      ]
    },
    {
      "cell_type": "code",
      "metadata": {
        "id": "Mciu103VOAdc",
        "colab_type": "code",
        "outputId": "064d9123-321b-4f04-fc5c-882104fe3ff8",
        "colab": {
          "base_uri": "https://localhost:8080/",
          "height": 371
        }
      },
      "source": [
        "!pip install control"
      ],
      "execution_count": 0,
      "outputs": [
        {
          "output_type": "stream",
          "text": [
            "Collecting control\n",
            "\u001b[?25l  Downloading https://files.pythonhosted.org/packages/e8/b0/32a903138505dd4ea523f8a3fc156c4272aa58b10100ef24ff74ced2fae8/control-0.8.3.tar.gz (249kB)\n",
            "\r\u001b[K     |█▎                              | 10kB 18.3MB/s eta 0:00:01\r\u001b[K     |██▋                             | 20kB 2.7MB/s eta 0:00:01\r\u001b[K     |████                            | 30kB 3.6MB/s eta 0:00:01\r\u001b[K     |█████▎                          | 40kB 4.0MB/s eta 0:00:01\r\u001b[K     |██████▋                         | 51kB 3.2MB/s eta 0:00:01\r\u001b[K     |███████▉                        | 61kB 3.7MB/s eta 0:00:01\r\u001b[K     |█████████▏                      | 71kB 3.9MB/s eta 0:00:01\r\u001b[K     |██████████▌                     | 81kB 4.3MB/s eta 0:00:01\r\u001b[K     |███████████▉                    | 92kB 4.5MB/s eta 0:00:01\r\u001b[K     |█████████████▏                  | 102kB 4.5MB/s eta 0:00:01\r\u001b[K     |██████████████▍                 | 112kB 4.5MB/s eta 0:00:01\r\u001b[K     |███████████████▊                | 122kB 4.5MB/s eta 0:00:01\r\u001b[K     |█████████████████               | 133kB 4.5MB/s eta 0:00:01\r\u001b[K     |██████████████████▍             | 143kB 4.5MB/s eta 0:00:01\r\u001b[K     |███████████████████▊            | 153kB 4.5MB/s eta 0:00:01\r\u001b[K     |█████████████████████           | 163kB 4.5MB/s eta 0:00:01\r\u001b[K     |██████████████████████▎         | 174kB 4.5MB/s eta 0:00:01\r\u001b[K     |███████████████████████▋        | 184kB 4.5MB/s eta 0:00:01\r\u001b[K     |█████████████████████████       | 194kB 4.5MB/s eta 0:00:01\r\u001b[K     |██████████████████████████▎     | 204kB 4.5MB/s eta 0:00:01\r\u001b[K     |███████████████████████████▋    | 215kB 4.5MB/s eta 0:00:01\r\u001b[K     |████████████████████████████▉   | 225kB 4.5MB/s eta 0:00:01\r\u001b[K     |██████████████████████████████▏ | 235kB 4.5MB/s eta 0:00:01\r\u001b[K     |███████████████████████████████▌| 245kB 4.5MB/s eta 0:00:01\r\u001b[K     |████████████████████████████████| 256kB 4.5MB/s \n",
            "\u001b[?25hRequirement already satisfied: numpy in /usr/local/lib/python3.6/dist-packages (from control) (1.18.5)\n",
            "Requirement already satisfied: scipy in /usr/local/lib/python3.6/dist-packages (from control) (1.4.1)\n",
            "Requirement already satisfied: matplotlib in /usr/local/lib/python3.6/dist-packages (from control) (3.2.1)\n",
            "Requirement already satisfied: pyparsing!=2.0.4,!=2.1.2,!=2.1.6,>=2.0.1 in /usr/local/lib/python3.6/dist-packages (from matplotlib->control) (2.4.7)\n",
            "Requirement already satisfied: python-dateutil>=2.1 in /usr/local/lib/python3.6/dist-packages (from matplotlib->control) (2.8.1)\n",
            "Requirement already satisfied: kiwisolver>=1.0.1 in /usr/local/lib/python3.6/dist-packages (from matplotlib->control) (1.2.0)\n",
            "Requirement already satisfied: cycler>=0.10 in /usr/local/lib/python3.6/dist-packages (from matplotlib->control) (0.10.0)\n",
            "Requirement already satisfied: six>=1.5 in /usr/local/lib/python3.6/dist-packages (from python-dateutil>=2.1->matplotlib->control) (1.12.0)\n",
            "Building wheels for collected packages: control\n",
            "  Building wheel for control (setup.py) ... \u001b[?25l\u001b[?25hdone\n",
            "  Created wheel for control: filename=control-0.8.3-py2.py3-none-any.whl size=260982 sha256=30c2eb6b42a12a613b392905636de5764777f12563ba9187f789c032494cb704\n",
            "  Stored in directory: /root/.cache/pip/wheels/c2/d9/cc/90b28cb139a6320a3af2285428b6da87eee8d8920c78bb0223\n",
            "Successfully built control\n",
            "Installing collected packages: control\n",
            "Successfully installed control-0.8.3\n"
          ],
          "name": "stdout"
        }
      ]
    },
    {
      "cell_type": "code",
      "metadata": {
        "id": "ZiS3CKsJL4GN",
        "colab_type": "code",
        "colab": {}
      },
      "source": [
        "import numpy as np\n",
        "import scipy.integrate as spi\n",
        "import matplotlib.pyplot as plt\n",
        "import matplotlib.patches as patches\n",
        "from sympy import *\n",
        "from matplotlib import animation\n",
        "from control import *\n",
        "\n",
        "%matplotlib inline\n",
        "#comment out for light mode\n",
        "plt.style.use('dark_background')\n",
        "\n",
        "try: \n",
        "  import google.colab #test for colab\n",
        "  import IPython\n",
        "  def setup_typeset():\n",
        "    \"\"\"MathJax initialization for the current cell.\n",
        "    \n",
        "    This installs and configures MathJax for the current output.\n",
        "    \"\"\"\n",
        "    IPython.display.display(IPython.display.HTML('''\n",
        "        <script src=\"https://www.gstatic.com/external_hosted/mathjax/latest/MathJax.js?config=TeX-AMS_HTML-full,Safe&delayStartupUntil=configured\"></script>\n",
        "        <script>\n",
        "          (() => {\n",
        "            const mathjax = window.MathJax;\n",
        "            mathjax.Hub.Config({\n",
        "            'tex2jax': {\n",
        "              'inlineMath': [['$', '$'], ['\\\\(', '\\\\)']],\n",
        "              'displayMath': [['$$', '$$'], ['\\\\[', '\\\\]']],\n",
        "              'processEscapes': true,\n",
        "              'processEnvironments': true,\n",
        "              'skipTags': ['script', 'noscript', 'style', 'textarea', 'code'],\n",
        "              'displayAlign': 'center',\n",
        "            },\n",
        "            'HTML-CSS': {\n",
        "              'styles': {'.MathJax_Display': {'margin': 0}},\n",
        "              'linebreaks': {'automatic': true},\n",
        "              // Disable to prevent OTF font loading, which aren't part of our\n",
        "              // distribution.\n",
        "              'imageFont': null,\n",
        "            },\n",
        "            'messageStyle': 'none'\n",
        "          });\n",
        "          mathjax.Hub.Configured();\n",
        "        })();\n",
        "        </script>\n",
        "        '''))\n",
        "  def custom_latex_printer(exp,**options):\n",
        "      setup_typeset()\n",
        "      return printing.latex(exp,**options)\n",
        "  init_printing(use_latex=\"mathjax\",latex_printer=custom_latex_printer)\n",
        "except:\n",
        "  init_printing(use_latex='mathjax')"
      ],
      "execution_count": 0,
      "outputs": []
    },
    {
      "cell_type": "markdown",
      "metadata": {
        "id": "cALuvZpksgip",
        "colab_type": "text"
      },
      "source": [
        "## EXAMPLE PROBLEM\n",
        "Find a controller that stabilizes the nonlinear system\n",
        "\\begin{align}\n",
        "\\dot x_1 &= -\\sin(x_1)+x_2^2 + 2x_3 +u \\\\\n",
        "\\dot x_2 &= x_2^2 -3\\sin(x_2) +x_3 -2u\\\\\n",
        "\\dot x_3 &= 3x_1+x_3 +2x_3^2\\\\\n",
        "y &= x_2\n",
        "\\end{align}\n",
        "and plot the closed loop nonlinear dynamics for the system's step response.  "
      ]
    },
    {
      "cell_type": "code",
      "metadata": {
        "id": "ykT9J4DDL9Hu",
        "colab_type": "code",
        "outputId": "c1a1aa2f-68f6-4d59-c334-fd1b0843b27b",
        "colab": {
          "base_uri": "https://localhost:8080/",
          "height": 182
        }
      },
      "source": [
        "var(\"x1 x2 x3 u\")\n",
        "xstar = {x1:0,x2:0,x3:0,u:0}\n",
        "f = Matrix([[-sin(x1)+x2**2 +2*x3 +u],[x2**2 -3*sin(x2) + x3-2*u],[3*x1+x3+2*x3**2]])\n",
        "y = Matrix([[x2]])\n",
        "A = f.jacobian([x1,x2,x3]).subs(xstar)\n",
        "B = f.jacobian([u]).subs(xstar)\n",
        "C = y.jacobian([x1,x2,x3]).subs(xstar)\n",
        "display(A,B,C)\n",
        "A.eigenvals()"
      ],
      "execution_count": 102,
      "outputs": [
        {
          "output_type": "display_data",
          "data": {
            "text/html": [
              "\n",
              "        <script src=\"https://www.gstatic.com/external_hosted/mathjax/latest/MathJax.js?config=TeX-AMS_HTML-full,Safe&delayStartupUntil=configured\"></script>\n",
              "        <script>\n",
              "          (() => {\n",
              "            const mathjax = window.MathJax;\n",
              "            mathjax.Hub.Config({\n",
              "            'tex2jax': {\n",
              "              'inlineMath': [['$', '$'], ['\\(', '\\)']],\n",
              "              'displayMath': [['$$', '$$'], ['\\[', '\\]']],\n",
              "              'processEscapes': true,\n",
              "              'processEnvironments': true,\n",
              "              'skipTags': ['script', 'noscript', 'style', 'textarea', 'code'],\n",
              "              'displayAlign': 'center',\n",
              "            },\n",
              "            'HTML-CSS': {\n",
              "              'styles': {'.MathJax_Display': {'margin': 0}},\n",
              "              'linebreaks': {'automatic': true},\n",
              "              // Disable to prevent OTF font loading, which aren't part of our\n",
              "              // distribution.\n",
              "              'imageFont': null,\n",
              "            },\n",
              "            'messageStyle': 'none'\n",
              "          });\n",
              "          mathjax.Hub.Configured();\n",
              "        })();\n",
              "        </script>\n",
              "        "
            ],
            "text/plain": [
              "<IPython.core.display.HTML object>"
            ]
          },
          "metadata": {
            "tags": []
          }
        },
        {
          "output_type": "display_data",
          "data": {
            "text/latex": "$$\\left[\\begin{matrix}-1 & 0 & 2\\\\0 & -3 & 1\\\\3 & 0 & 1\\end{matrix}\\right]$$",
            "text/plain": [
              "⎡-1  0   2⎤\n",
              "⎢         ⎥\n",
              "⎢0   -3  1⎥\n",
              "⎢         ⎥\n",
              "⎣3   0   1⎦"
            ]
          },
          "metadata": {
            "tags": []
          }
        },
        {
          "output_type": "display_data",
          "data": {
            "text/html": [
              "\n",
              "        <script src=\"https://www.gstatic.com/external_hosted/mathjax/latest/MathJax.js?config=TeX-AMS_HTML-full,Safe&delayStartupUntil=configured\"></script>\n",
              "        <script>\n",
              "          (() => {\n",
              "            const mathjax = window.MathJax;\n",
              "            mathjax.Hub.Config({\n",
              "            'tex2jax': {\n",
              "              'inlineMath': [['$', '$'], ['\\(', '\\)']],\n",
              "              'displayMath': [['$$', '$$'], ['\\[', '\\]']],\n",
              "              'processEscapes': true,\n",
              "              'processEnvironments': true,\n",
              "              'skipTags': ['script', 'noscript', 'style', 'textarea', 'code'],\n",
              "              'displayAlign': 'center',\n",
              "            },\n",
              "            'HTML-CSS': {\n",
              "              'styles': {'.MathJax_Display': {'margin': 0}},\n",
              "              'linebreaks': {'automatic': true},\n",
              "              // Disable to prevent OTF font loading, which aren't part of our\n",
              "              // distribution.\n",
              "              'imageFont': null,\n",
              "            },\n",
              "            'messageStyle': 'none'\n",
              "          });\n",
              "          mathjax.Hub.Configured();\n",
              "        })();\n",
              "        </script>\n",
              "        "
            ],
            "text/plain": [
              "<IPython.core.display.HTML object>"
            ]
          },
          "metadata": {
            "tags": []
          }
        },
        {
          "output_type": "display_data",
          "data": {
            "text/latex": "$$\\left[\\begin{matrix}1\\\\-2\\\\0\\end{matrix}\\right]$$",
            "text/plain": [
              "⎡1 ⎤\n",
              "⎢  ⎥\n",
              "⎢-2⎥\n",
              "⎢  ⎥\n",
              "⎣0 ⎦"
            ]
          },
          "metadata": {
            "tags": []
          }
        },
        {
          "output_type": "display_data",
          "data": {
            "text/html": [
              "\n",
              "        <script src=\"https://www.gstatic.com/external_hosted/mathjax/latest/MathJax.js?config=TeX-AMS_HTML-full,Safe&delayStartupUntil=configured\"></script>\n",
              "        <script>\n",
              "          (() => {\n",
              "            const mathjax = window.MathJax;\n",
              "            mathjax.Hub.Config({\n",
              "            'tex2jax': {\n",
              "              'inlineMath': [['$', '$'], ['\\(', '\\)']],\n",
              "              'displayMath': [['$$', '$$'], ['\\[', '\\]']],\n",
              "              'processEscapes': true,\n",
              "              'processEnvironments': true,\n",
              "              'skipTags': ['script', 'noscript', 'style', 'textarea', 'code'],\n",
              "              'displayAlign': 'center',\n",
              "            },\n",
              "            'HTML-CSS': {\n",
              "              'styles': {'.MathJax_Display': {'margin': 0}},\n",
              "              'linebreaks': {'automatic': true},\n",
              "              // Disable to prevent OTF font loading, which aren't part of our\n",
              "              // distribution.\n",
              "              'imageFont': null,\n",
              "            },\n",
              "            'messageStyle': 'none'\n",
              "          });\n",
              "          mathjax.Hub.Configured();\n",
              "        })();\n",
              "        </script>\n",
              "        "
            ],
            "text/plain": [
              "<IPython.core.display.HTML object>"
            ]
          },
          "metadata": {
            "tags": []
          }
        },
        {
          "output_type": "display_data",
          "data": {
            "text/latex": "$$\\left[\\begin{matrix}0 & 1 & 0\\end{matrix}\\right]$$",
            "text/plain": [
              "[0  1  0]"
            ]
          },
          "metadata": {
            "tags": []
          }
        },
        {
          "output_type": "display_data",
          "data": {
            "text/html": [
              "\n",
              "        <script src=\"https://www.gstatic.com/external_hosted/mathjax/latest/MathJax.js?config=TeX-AMS_HTML-full,Safe&delayStartupUntil=configured\"></script>\n",
              "        <script>\n",
              "          (() => {\n",
              "            const mathjax = window.MathJax;\n",
              "            mathjax.Hub.Config({\n",
              "            'tex2jax': {\n",
              "              'inlineMath': [['$', '$'], ['\\(', '\\)']],\n",
              "              'displayMath': [['$$', '$$'], ['\\[', '\\]']],\n",
              "              'processEscapes': true,\n",
              "              'processEnvironments': true,\n",
              "              'skipTags': ['script', 'noscript', 'style', 'textarea', 'code'],\n",
              "              'displayAlign': 'center',\n",
              "            },\n",
              "            'HTML-CSS': {\n",
              "              'styles': {'.MathJax_Display': {'margin': 0}},\n",
              "              'linebreaks': {'automatic': true},\n",
              "              // Disable to prevent OTF font loading, which aren't part of our\n",
              "              // distribution.\n",
              "              'imageFont': null,\n",
              "            },\n",
              "            'messageStyle': 'none'\n",
              "          });\n",
              "          mathjax.Hub.Configured();\n",
              "        })();\n",
              "        </script>\n",
              "        "
            ],
            "text/plain": [
              "<IPython.core.display.HTML object>"
            ]
          },
          "metadata": {
            "tags": []
          }
        },
        {
          "output_type": "execute_result",
          "data": {
            "text/latex": "$$\\left \\{ -3 : 1, \\quad - \\sqrt{7} : 1, \\quad \\sqrt{7} : 1\\right \\}$$",
            "text/plain": [
              "{-3: 1, -√7: 1, √7: 1}"
            ]
          },
          "metadata": {
            "tags": []
          },
          "execution_count": 102
        }
      ]
    },
    {
      "cell_type": "markdown",
      "metadata": {
        "id": "6U6MaxfLg6Mh",
        "colab_type": "text"
      },
      "source": [
        "#FSFB"
      ]
    },
    {
      "cell_type": "code",
      "metadata": {
        "id": "zJQh3TXAdV1S",
        "colab_type": "code",
        "colab": {
          "base_uri": "https://localhost:8080/",
          "height": 110
        },
        "outputId": "0700c70a-1c43-4acc-cc6a-26d1ceb8dfca"
      },
      "source": [
        "#make sure all our matrices are ndarray's.  place returns a \"matrix\" which \n",
        "# causes problems with computation.  \n",
        "A = np.array(A).astype(np.float64)\n",
        "B = np.array(B).astype(np.float64)\n",
        "C = np.array(C).astype(np.float64)\n",
        "K = np.array(place( A ,B,[-1,-2,-3]))\n",
        "print(K)\n",
        "L = np.array(place(A.transpose(),C.transpose(),[-5,-6,-7]).transpose())\n",
        "print(L)\n",
        "print(type(L))"
      ],
      "execution_count": 141,
      "outputs": [
        {
          "output_type": "stream",
          "text": [
            "[[ 3. -0.  4.]]\n",
            "[[ 74.]\n",
            " [ 15.]\n",
            " [114.]]\n",
            "<class 'numpy.ndarray'>\n"
          ],
          "name": "stdout"
        }
      ]
    },
    {
      "cell_type": "markdown",
      "metadata": {
        "id": "_kvOrPQroP9M",
        "colab_type": "text"
      },
      "source": [
        "#Linear simulation using odeint\n",
        "\n",
        "the standard observer + FSFB dynamics are\n",
        "\\begin{align} \n",
        "\\dot x  &= A x +B u\\\\\n",
        "\\dot {\\hat x}  &= A \\hat x +Bu+L(y-\\hat y)\\\\\n",
        "y &= C x   \\\\\n",
        "\\hat y &= C \\hat x \\\\\n",
        "u &= -Kx+r \n",
        "\\end{align}"
      ]
    },
    {
      "cell_type": "code",
      "metadata": {
        "id": "v2dlk3X6hd-P",
        "colab_type": "code",
        "colab": {
          "base_uri": "https://localhost:8080/",
          "height": 279
        },
        "outputId": "f4f5512a-64f8-4301-b583-caa57bf1a1b1"
      },
      "source": [
        "#our step input.  only gets called by ffn.  could be part\n",
        "#of ffn but it sepparate for clarity.\n",
        "def step_fn(t):\n",
        "  if t>=0.:\n",
        "    return 1\n",
        "  else:\n",
        "    return 0.\n",
        "\n",
        "#make our nonlinear \"f(x1,x2,x3,u)\" into a function that evaluates to numbers\n",
        "fp = lambdify([x1,x2,x3,u],f,\"numpy\")\n",
        "\n",
        "#our \"f\" function ( defined by xdot = f(x,r)  )\n",
        "def ffn(x,t ):\n",
        "  #extract plant and observer dynamics and make it a column \n",
        "  xp = np.array([np.array(x[:3] )]).transpose() \n",
        "  xo = np.array([np.array(x[3:])]).transpose()\n",
        " \n",
        "  #compute r \n",
        "  r = step_fn(t) \n",
        "\n",
        "  #### NOTE: -the @ is the same thing as matrix multiplication (np.matmul) \n",
        "  ####          but way easier to read.\n",
        "  ####       - .item() turns a numpy array with one item it it into a number\n",
        "  ####          eg  [[2.3]].item() -> 2.3\n",
        "  ####       - numpy array * scalar value works in the way you'd expect.\n",
        "  u = (r-K@xo).item()\n",
        "  y = (C@xp).item()\n",
        "  yhat = (C@xo).item()\n",
        "   \n",
        "  #compute fp(x,u) \n",
        "  xpdot = (A@xp+B*u).flatten()\n",
        "  xodot = (A@xo+B*u+L*(y-yhat)).flatten()\n",
        "  \n",
        "  #return derivatives. \n",
        "  #making sure to put themback in the same order we got them\n",
        "  return [xpdot[0],xpdot[1],xpdot[2],xodot[0],xodot[1],xodot[2]  ]\n",
        " \n",
        " \n",
        "t = np.linspace(0,7,300) \n",
        "#####################################################################\n",
        "## NOTE: i'm starting with the observer with a different state\n",
        "## from the plant so we can see the effects.  Otherwise the observer \n",
        "## tracks perfectly and we don't even know its there.  \n",
        "## This is because our observer perfectly models the plant, which\n",
        "## won't be the case for the nonlinear simulation.\n",
        "#####################################################################\n",
        "x_of_t = spi.odeint(ffn,[0,0,0,5,1,5],t ) #start at x=(0,0,0,0,0)^T\n",
        "plt.figure()\n",
        "plt.plot(t,x_of_t )\n",
        "#plt.ylim(-1 ,1 )\n",
        "plt.legend([\"x1\",\"y=x2\",\"x3\",\"x4\",\"x5\",\"x6\"],)\n",
        "plt.xlabel(\"time\") ;"
      ],
      "execution_count": 157,
      "outputs": [
        {
          "output_type": "display_data",
          "data": {
            "image/png": "[encoded data removed]",
            "text/plain": [
              "<Figure size 432x288 with 1 Axes>"
            ]
          },
          "metadata": {
            "tags": [],
            "needs_background": "dark"
          }
        }
      ]
    },
    {
      "cell_type": "markdown",
      "metadata": {
        "id": "ifOSMb8QnFEu",
        "colab_type": "text"
      },
      "source": [
        "#NL plot\n",
        "\n",
        "From above, NL dynamics are:\n",
        "\\begin{align}\n",
        "\\dot x_1 &= -\\sin(x_1)+x_2^2 + 2x_3 +u \\\\\n",
        "\\dot x_2 &= x_2^2 -3\\sin(x_2) +x_3 -2u\\\\\n",
        "\\dot x_3 &= 3x_1+x_3 +2x_3^2\\\\\n",
        "y &= x_2\n",
        "\\end{align}\n",
        "\n",
        "\\begin{align}  \n",
        "\\dot {\\hat x}  &= A \\hat x +Bu+L(y-\\hat y)\\\\ \n",
        "\\hat y &= C \\hat x \\\\\n",
        "u &= -Kx+r \n",
        "\\end{align}\n",
        " \n"
      ]
    },
    {
      "cell_type": "code",
      "metadata": {
        "id": "nntKmq9iPidi",
        "colab_type": "code",
        "colab": {
          "base_uri": "https://localhost:8080/",
          "height": 91
        },
        "outputId": "29196aff-7bbb-41f1-93f5-4bce18abeaaa"
      },
      "source": [
        "#some tests to see what lambdify does.\n",
        "fp = lambdify([x1,x2,x3,u],f,\"numpy\")\n",
        "print(fp(1,2,3,4)) # a 2-d column vector.\n",
        "print(fp(1,2,3,4).flatten()) # a 1-d vector that'll be easier to work with later"
      ],
      "execution_count": 158,
      "outputs": [
        {
          "output_type": "stream",
          "text": [
            "[[13.15852902]\n",
            " [-3.72789228]\n",
            " [24.        ]]\n",
            "[13.15852902 -3.72789228 24.        ]\n"
          ],
          "name": "stdout"
        }
      ]
    },
    {
      "cell_type": "code",
      "metadata": {
        "colab_type": "code",
        "outputId": "3f3846ae-68cc-49f6-f6d3-1c7b999cc848",
        "id": "NyigkV0Dp1KV",
        "colab": {
          "base_uri": "https://localhost:8080/",
          "height": 279
        }
      },
      "source": [
        "###################################################################\n",
        "################SEE NOTE 6 lines below this line###################\n",
        "###################################################################\n",
        "\n",
        "#our step input.  only gets called by ffn.  could be part\n",
        "#of ffn but it sepparate for clarity.\n",
        "def step_fn(t):\n",
        "  if t>=0.:\n",
        "    return 0.02 #<--------NOTE PLAY WITH THIS AND SEE WHAT HAPPENS\n",
        "  else:\n",
        "    return 0.\n",
        "\n",
        "#make our nonlinear \"f(x1,x2,x3,u)\" into a function that evaluates to numbers\n",
        "fp = lambdify([x1,x2,x3,u],f,\"numpy\")\n",
        "\n",
        "#our \"f\" function ( defined by xdot = f(x,r)  )\n",
        "def ffn(x,t ):\n",
        "  #extract plant and observer dynamics and make it a column \n",
        "  x1,x2,x3 = x[:3] #split out the first 3 states for the nonlinear plant.\n",
        "  xo = np.array([np.array(x[3:])]).transpose()\n",
        " \n",
        "  #compute r \n",
        "  r = step_fn(t) \n",
        "\n",
        "  #### NOTE: -the @ is the same thing as matrix multiplication (np.matmul) \n",
        "  ####          but way easier to read.\n",
        "  ####       - .item() turns a numpy array with one item it it into a number\n",
        "  ####          eg  [[2.3]].item() -> 2.3\n",
        "  ####       - numpy array * scalar value works in the way you'd expect.\n",
        "  u = (r-K@xo).item()\n",
        "  y = x2\n",
        "  yhat = (C@xo).item()\n",
        "   \n",
        "  #compute fp(x,u) \n",
        "  xpdot = fp(x1,x2,x3,u).flatten()\n",
        "  xodot = (A@xo+B*u+L*(y-yhat)).flatten()\n",
        "  \n",
        "  #return derivatives. \n",
        "  #making sure to put themback in the same order we got them\n",
        "  return [xpdot[0],xpdot[1],xpdot[2],xodot[0],xodot[1],xodot[2]  ]\n",
        " \n",
        " \n",
        "t = np.linspace(0,20,300) \n",
        "#####################################################################\n",
        "## NOTE: i'm starting with the observer = plant initial states here because \n",
        "## we want to give the non-linear system every chance to work since\n",
        "## we don't have an exact model any more. \n",
        "#####################################################################\n",
        "x_of_t = spi.odeint(ffn,[0,0,0,0,0,0],t ) #start at x=(0,0,0,0,0,0)^T\n",
        "plt.figure()\n",
        "plt.plot(t,x_of_t )\n",
        "#plt.ylim(-1 ,1 )\n",
        "plt.legend([\"x1\",\"y=x2\",\"x3\",\"x4\",\"x5\",\"x6\"],)\n",
        "plt.xlabel(\"time\") ;"
      ],
      "execution_count": 171,
      "outputs": [
        {
          "output_type": "display_data",
          "data": {
            "image/png": "[encoded data removed]",
            "text/plain": [
              "<Figure size 432x288 with 1 Axes>"
            ]
          },
          "metadata": {
            "tags": [],
            "needs_background": "dark"
          }
        }
      ]
    },
    {
      "cell_type": "code",
      "metadata": {
        "id": "4O9nrHKirQKP",
        "colab_type": "code",
        "colab": {}
      },
      "source": [
        ""
      ],
      "execution_count": 0,
      "outputs": []
    }
  ]
}