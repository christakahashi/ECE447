{
 "cells": [
  {
   "cell_type": "markdown",
   "metadata": {},
   "source": [
    "ECE 447: Matrix Exponentials\n",
    "===\n",
    "In  which we solve linear ODEs once and for all.\n",
    "\n",
    "Prof. Eric Klavins\n",
    "\n",
    "&copy; 2019, University of Washington"
   ]
  },
  {
   "cell_type": "code",
   "execution_count": 1,
   "metadata": {},
   "outputs": [],
   "source": [
    "import numpy as np\n",
    "import scipy.integrate as spi\n",
    "import matplotlib.pyplot as plt\n",
    "from sympy import *\n",
    "init_printing(use_latex='mathjax')\n",
    "%matplotlib inline"
   ]
  },
  {
   "cell_type": "markdown",
   "metadata": {},
   "source": [
    "The General Solution to $\\dot x = Ax$\n",
    "===\n",
    "\n",
    "When $A \\in \\mathbb{R}^{n\\times n}$, then the we define $e^{At}$ by\n",
    "\n",
    "$$\n",
    "e^{At} \\triangleq I + At + \\frac{(At)^2}{2!} + \\frac{(At)^3}{3!} + \\dots\n",
    "$$\n",
    "\n",
    "It turns out that \n",
    "\n",
    "$$\n",
    "x(t) = e^{At}x(0)\n",
    "$$\n",
    "\n",
    "is the solution to $\\dot x = Ax$. This is because\n",
    "\n",
    "\\begin{align}\n",
    "\\frac{d}{dt}e^{At}x(0) & = \n",
    "\\frac{d}{dt}\\left(I + At + \\frac{(At)^2}{2!} + \\frac{(At)^3}{3!} + \\dots\\right)x(0) \\\\\n",
    " & = \\left(0 + A + A^2 t + \\frac{A^3t^2}{2!} + \\dots\\right)x(0) \\\\\n",
    " & = A \\left(I + A + + \\frac{(At)^2}{2!} + \\dots \\right)x(0) \\\\\n",
    " &= A e^{At} x(0) \\\\\n",
    " & = A x(t).\n",
    "\\end{align}\n",
    "\n",
    "We next explore what $e^{At}$ looks like for various types of matrices."
   ]
  },
  {
   "cell_type": "markdown",
   "metadata": {},
   "source": [
    "Diagonalizable Matrices\n",
    "===\n",
    "\n",
    "If $A$ is diagonalizable, then $A = P D P^{-1}$ for some $P$ and $D$. In this case,\n",
    "\n",
    "\\begin{align}\n",
    "e^{At} & = e^{PDP^{-1}t} \\\\\n",
    "       & = I + PDP^{-1}t + \\frac{(PDP^{-1}t)^2}{2!} + \\dots \\\\\n",
    "       & = I + PDP^{-1}t + \\frac{PDP^{-1}PDP^{-1}t^2}{2!} + \\dots \\\\\n",
    "       & = I + PDP^{-1}t + \\frac{PD^2P^{-1}t^2}{2!} + \\dots \\\\\n",
    "       & = P \\left(I + Dt + \\frac{D^2t^2}{2!} + \\dots \\right)P^{-1} \\\\\n",
    "       & = P e^{Dt} P^{-1}.\n",
    "\\end{align}\n",
    "\n",
    "Now, since $D$ is diagonal and of the form\n",
    "\n",
    "$$\n",
    "D = \\begin{pmatrix}\n",
    "\\lambda_1 & 0 \\\\\n",
    "0 & \\lambda_2\n",
    "\\end{pmatrix}\n",
    "$$\n",
    "\n",
    "it is clear that \n",
    "\n",
    "$$\n",
    "e^{Dt} = \\begin{pmatrix}\n",
    "e^{\\lambda_1t} & 0 \\\\\n",
    "0 & e^{\\lambda_2t}\n",
    "\\end{pmatrix} .\n",
    "$$\n",
    "\n",
    "Thus, figuring out $e^{At}$ is just matrix multiplication using $P e^{Dt} P^{-1}$.\n",
    "\n",
    "<span style=\"color: darkorange; border: 1pt solid darkorange; padding: 8px\">\n",
    "**NOTE**: In general, $e^{At}$ is **not** just the elementwise exponentials of the entries of $A$. \n",
    "</span>\n",
    "\n",
    "Example: Real Eigenvalues\n",
    "---"
   ]
  },
  {
   "cell_type": "code",
   "execution_count": 2,
   "metadata": {},
   "outputs": [
    {
     "name": "stdout",
     "output_type": "stream",
     "text": [
      "⎡-4  0 ⎤\n",
      "⎢      ⎥\n",
      "⎣0   -1⎦\n"
     ]
    },
    {
     "data": {
      "text/latex": [
       "$$\\left[\\begin{matrix}\\frac{1}{3} \\left(2 e^{3 t} + 1\\right) e^{- 4 t} & \\frac{1}{3} \\left(- 2 e^{3 t} + 2\\right) e^{- 4 t}\\\\\\frac{1}{3} \\left(- e^{3 t} + 1\\right) e^{- 4 t} & \\frac{1}{3} \\left(e^{3 t} + 2\\right) e^{- 4 t}\\end{matrix}\\right]$$"
      ],
      "text/plain": [
       "⎡⎛   3⋅t    ⎞  -4⋅t  ⎛     3⋅t    ⎞  -4⋅t⎤\n",
       "⎢⎝2⋅ℯ    + 1⎠⋅ℯ      ⎝- 2⋅ℯ    + 2⎠⋅ℯ    ⎥\n",
       "⎢──────────────────  ────────────────────⎥\n",
       "⎢        3                    3          ⎥\n",
       "⎢                                        ⎥\n",
       "⎢⎛   3⋅t    ⎞  -4⋅t    ⎛ 3⋅t    ⎞  -4⋅t  ⎥\n",
       "⎢⎝- ℯ    + 1⎠⋅ℯ        ⎝ℯ    + 2⎠⋅ℯ      ⎥\n",
       "⎢──────────────────    ────────────────  ⎥\n",
       "⎣        3                    3          ⎦"
      ]
     },
     "execution_count": 2,
     "metadata": {},
     "output_type": "execute_result"
    }
   ],
   "source": [
    "# Compute e^{At} using diagonalization method\n",
    "var(\"t\")\n",
    "A = Matrix([[-2,-2],[-1,-3]])\n",
    "P,D = A.diagonalize()\n",
    "pprint(D)\n",
    "eDt = Matrix([\n",
    "    [exp(D[0,0]*t), 0], \n",
    "    [0, exp(D[1,1]*t)]\n",
    "])\n",
    "eAt = P*eDt*P.inv()\n",
    "eAt.simplify()\n",
    "eAt"
   ]
  },
  {
   "cell_type": "code",
   "execution_count": 3,
   "metadata": {},
   "outputs": [
    {
     "data": {
      "text/latex": [
       "$$\\left[\\begin{matrix}\\frac{2}{3} e^{- t} + \\frac{1}{3} e^{- 4 t} & - \\frac{2}{3} e^{- t} + \\frac{2}{3} e^{- 4 t}\\\\- \\frac{e^{- t}}{3} + \\frac{1}{3} e^{- 4 t} & \\frac{e^{- t}}{3} + \\frac{2}{3} e^{- 4 t}\\end{matrix}\\right]$$"
      ],
      "text/plain": [
       "⎡   -t    -4⋅t       -t      -4⋅t⎤\n",
       "⎢2⋅ℯ     ℯ        2⋅ℯ     2⋅ℯ    ⎥\n",
       "⎢───── + ─────  - ───── + ───────⎥\n",
       "⎢  3       3        3        3   ⎥\n",
       "⎢                                ⎥\n",
       "⎢   -t    -4⋅t     -t      -4⋅t  ⎥\n",
       "⎢  ℯ     ℯ        ℯ     2⋅ℯ      ⎥\n",
       "⎢- ─── + ─────    ─── + ───────  ⎥\n",
       "⎣   3      3       3       3     ⎦"
      ]
     },
     "execution_count": 3,
     "metadata": {},
     "output_type": "execute_result"
    }
   ],
   "source": [
    "# Compute e^{At} using sympy's exp which, works on \n",
    "# matrices and probably does the same thing\n",
    "exp(A*t)"
   ]
  },
  {
   "cell_type": "code",
   "execution_count": 4,
   "metadata": {},
   "outputs": [
    {
     "data": {
      "text/latex": [
       "$$\\left[\\begin{matrix}2 e^{- t} - e^{- 4 t}\\\\- \\left(e^{3 t} + 1\\right) e^{- 4 t}\\end{matrix}\\right]$$"
      ],
      "text/plain": [
       "⎡     -t    -4⋅t  ⎤\n",
       "⎢  2⋅ℯ   - ℯ      ⎥\n",
       "⎢                 ⎥\n",
       "⎢ ⎛ 3⋅t    ⎞  -4⋅t⎥\n",
       "⎣-⎝ℯ    + 1⎠⋅ℯ    ⎦"
      ]
     },
     "execution_count": 4,
     "metadata": {},
     "output_type": "execute_result"
    }
   ],
   "source": [
    "# Find the solution to x' = Ax when x(0) = (1,-2)\n",
    "x = eAt*Matrix([1,-2])\n",
    "x.simplify()\n",
    "x"
   ]
  },
  {
   "cell_type": "code",
   "execution_count": 5,
   "metadata": {},
   "outputs": [
    {
     "data": {
      "image/png": "[encoded data removed]",
      "text/plain": [
       "<matplotlib.figure.Figure at 0x11496b3c8>"
      ]
     },
     "metadata": {},
     "output_type": "display_data"
    }
   ],
   "source": [
    "# Note, we are using sympy's plotting.plot method, and not numpy's method\n",
    "plotting.plot(x[0],x[1],(t,0,5));"
   ]
  },
  {
   "cell_type": "markdown",
   "metadata": {},
   "source": [
    "Sympy's symbols cannot be used with numpy.plt directly. First, you have to convert them into functions. To do this, you use `lambdify`. For example, to turn the expression $e^{-t}$ into a function that numpy can use, you do"
   ]
  },
  {
   "cell_type": "code",
   "execution_count": 6,
   "metadata": {
    "collapsed": true
   },
   "outputs": [],
   "source": [
    "f = lambdify(t,exp(-t), modules=['numpy'])"
   ]
  },
  {
   "cell_type": "markdown",
   "metadata": {},
   "source": [
    "You can now evaluate f for any t. For example:"
   ]
  },
  {
   "cell_type": "code",
   "execution_count": 7,
   "metadata": {},
   "outputs": [
    {
     "name": "stdout",
     "output_type": "stream",
     "text": [
      "1.0\n",
      "0.367879441171\n",
      "0.135335283237\n"
     ]
    }
   ],
   "source": [
    "print(f(0))\n",
    "print(f(1))\n",
    "print(f(2))"
   ]
  },
  {
   "cell_type": "markdown",
   "metadata": {},
   "source": [
    "So, to plot the above solution to $\\dot x = Ax$, we can do the following:"
   ]
  },
  {
   "cell_type": "code",
   "execution_count": 8,
   "metadata": {},
   "outputs": [
    {
     "data": {
      "image/png": "[encoded data removed]",
      "text/plain": [
       "<matplotlib.figure.Figure at 0x114638a58>"
      ]
     },
     "metadata": {},
     "output_type": "display_data"
    }
   ],
   "source": [
    "# Using numpy. \n",
    "\n",
    "# First, turn xt into functions\n",
    "x = lambdify(t,x, modules=['numpy'])\n",
    "\n",
    "# then plot\n",
    "tvals = np.linspace(0,5,100)\n",
    "plt.plot(tvals,x(tvals)[0,0], label=\"$x_1(t)$\")\n",
    "plt.plot(tvals,x(tvals)[1,0], label=\"$x_2(t)$\")\n",
    "plt.xlabel(\"$t$\")\n",
    "plt.title(\"example linear system response\")\n",
    "plt.legend();"
   ]
  },
  {
   "cell_type": "markdown",
   "metadata": {},
   "source": [
    "Example: Imaginary Eigenvalues\n",
    "---\n",
    "As another example, consider a matrix with complex eigenvalues. This can be diagonalized, you just don't get a real matrix. "
   ]
  },
  {
   "cell_type": "code",
   "execution_count": 9,
   "metadata": {},
   "outputs": [
    {
     "data": {
      "text/latex": [
       "$$\\left[\\begin{matrix}-1 - i & 0\\\\0 & -1 + i\\end{matrix}\\right]$$"
      ],
      "text/plain": [
       "⎡-1 - ⅈ    0   ⎤\n",
       "⎢              ⎥\n",
       "⎣  0     -1 + ⅈ⎦"
      ]
     },
     "execution_count": 9,
     "metadata": {},
     "output_type": "execute_result"
    }
   ],
   "source": [
    "A = Matrix([[-1,1],[-1,-1]])\n",
    "P,D = A.diagonalize()\n",
    "D"
   ]
  },
  {
   "cell_type": "code",
   "execution_count": 10,
   "metadata": {},
   "outputs": [
    {
     "data": {
      "text/latex": [
       "$$\\left[\\begin{matrix}i & - i\\\\1 & 1\\end{matrix}\\right]$$"
      ],
      "text/plain": [
       "⎡ⅈ  -ⅈ⎤\n",
       "⎢     ⎥\n",
       "⎣1  1 ⎦"
      ]
     },
     "execution_count": 10,
     "metadata": {},
     "output_type": "execute_result"
    }
   ],
   "source": [
    "P"
   ]
  },
  {
   "cell_type": "code",
   "execution_count": 11,
   "metadata": {},
   "outputs": [
    {
     "data": {
      "text/latex": [
       "$$\\left[\\begin{matrix}\\frac{1}{2} e^{t \\left(-1 - i\\right)} + \\frac{1}{2} e^{t \\left(-1 + i\\right)} & \\frac{i}{2} e^{t \\left(-1 - i\\right)} - \\frac{i}{2} e^{t \\left(-1 + i\\right)}\\\\- \\frac{i}{2} e^{t \\left(-1 - i\\right)} + \\frac{i}{2} e^{t \\left(-1 + i\\right)} & \\frac{1}{2} e^{t \\left(-1 - i\\right)} + \\frac{1}{2} e^{t \\left(-1 + i\\right)}\\end{matrix}\\right]$$"
      ],
      "text/plain": [
       "⎡    t⋅(-1 - ⅈ)    t⋅(-1 + ⅈ)        t⋅(-1 - ⅈ)      t⋅(-1 + ⅈ)⎤\n",
       "⎢   ℯ             ℯ               ⅈ⋅ℯ             ⅈ⋅ℯ          ⎥\n",
       "⎢   ─────────── + ───────────     ───────────── - ─────────────⎥\n",
       "⎢        2             2                2               2      ⎥\n",
       "⎢                                                              ⎥\n",
       "⎢     t⋅(-1 - ⅈ)      t⋅(-1 + ⅈ)     t⋅(-1 - ⅈ)    t⋅(-1 + ⅈ)  ⎥\n",
       "⎢  ⅈ⋅ℯ             ⅈ⋅ℯ              ℯ             ℯ            ⎥\n",
       "⎢- ───────────── + ─────────────    ─────────── + ───────────  ⎥\n",
       "⎣        2               2               2             2       ⎦"
      ]
     },
     "execution_count": 11,
     "metadata": {},
     "output_type": "execute_result"
    }
   ],
   "source": [
    "eAt=P*exp(D*t)*P.inv()\n",
    "eAt"
   ]
  },
  {
   "cell_type": "code",
   "execution_count": 12,
   "metadata": {},
   "outputs": [
    {
     "data": {
      "text/latex": [
       "$$\\left[\\begin{matrix}e^{- t} \\cos{\\left (t \\right )} & e^{- t} \\sin{\\left (t \\right )}\\\\- e^{- t} \\sin{\\left (t \\right )} & e^{- t} \\cos{\\left (t \\right )}\\end{matrix}\\right]$$"
      ],
      "text/plain": [
       "⎡ -t           -t       ⎤\n",
       "⎢ℯ  ⋅cos(t)   ℯ  ⋅sin(t)⎥\n",
       "⎢                       ⎥\n",
       "⎢  -t          -t       ⎥\n",
       "⎣-ℯ  ⋅sin(t)  ℯ  ⋅cos(t)⎦"
      ]
     },
     "execution_count": 12,
     "metadata": {},
     "output_type": "execute_result"
    }
   ],
   "source": [
    "eAt = eAt.simplify() # Uses cos(t) = (e^{it} + e^{-it})/2\n",
    "eAt"
   ]
  },
  {
   "cell_type": "code",
   "execution_count": 13,
   "metadata": {},
   "outputs": [
    {
     "data": {
      "text/latex": [
       "$$\\left[\\begin{matrix}\\left(- 2 \\sin{\\left (t \\right )} + \\cos{\\left (t \\right )}\\right) e^{- t}\\\\- \\left(\\sin{\\left (t \\right )} + 2 \\cos{\\left (t \\right )}\\right) e^{- t}\\end{matrix}\\right]$$"
      ],
      "text/plain": [
       "⎡                      -t⎤\n",
       "⎢(-2⋅sin(t) + cos(t))⋅ℯ  ⎥\n",
       "⎢                        ⎥\n",
       "⎢                      -t⎥\n",
       "⎣-(sin(t) + 2⋅cos(t))⋅ℯ  ⎦"
      ]
     },
     "execution_count": 13,
     "metadata": {},
     "output_type": "execute_result"
    }
   ],
   "source": [
    "x = eAt*Matrix([1,-2])\n",
    "x.simplify()"
   ]
  },
  {
   "cell_type": "code",
   "execution_count": 14,
   "metadata": {},
   "outputs": [
    {
     "data": {
      "image/png": "[encoded data removed]",
      "text/plain": [
       "<matplotlib.figure.Figure at 0x118ce1a58>"
      ]
     },
     "metadata": {},
     "output_type": "display_data"
    }
   ],
   "source": [
    "plotting.plot(x[0],x[1],(t,0,5));"
   ]
  },
  {
   "cell_type": "markdown",
   "metadata": {},
   "source": [
    "Jordan Form\n",
    "===\n",
    "\n",
    "Not all matrices can be diagonalized. This is because the matrix of eignvectors, which we use for $P$ and $P^{-1}$ may not be invertible. However, all matrices can be put into *Jordan* form. \n",
    "\n",
    "A *Jordan Block* of size $m$ and value $\\lambda$ is a matrix\n",
    "$J_m(\\lambda)$ having the value $\\lambda$ repeated along the main\n",
    "diagonal, ones along the superdiagonal and zeros everywhere else. For\n",
    "example:\n",
    "\n",
    "$$\n",
    "J_2(4) = \\begin{pmatrix} \n",
    "4 & 1 \\\\\n",
    "0 & 4\n",
    "\\end{pmatrix} \\;\\;\\;\\;\\;\\;\\; \\mathrm{and}\\;\\;\\;\\;\\;\\;\\;\n",
    "J_4(-\\frac{1}{2}) = \\begin{pmatrix}\n",
    "-\\frac{1}{2} & 1 & 0 & 0 \\\\\n",
    "0 & -\\frac{1}{2} & 1 & 0 \\\\\n",
    "0 & 0 & -\\frac{1}{2} & 1 \\\\\n",
    "0 & 0 & 0 & -\\frac{1}{2}\n",
    "\\end{pmatrix} .\n",
    "$$\n",
    "\n",
    "A Matrix is in *Jordan Form* is a block diagonal matrix consisting of several Jordan blocks. For example, \n",
    "we can form a Jordan Form from two copies of $J_2(4)$ and one copy of $J_4(-\\frac{1}{2})$ as follows.\n",
    "$$\n",
    "J = \\begin{pmatrix}\n",
    "J_2(4) & 0 & 0 \\\\\n",
    "0 & J_2(4) & 0 \\\\\n",
    "0&  0 & J_4(-\\frac{1}{2})\n",
    "\\end{pmatrix} = \\begin{pmatrix}\n",
    "4 & 1 & 0 & 0 & 0 & 0 & 0 & 0 \\\\\n",
    "0 & 4 & 0 & 0 & 0 & 0 & 0 & 0 \\\\\n",
    "0 & 0 & 4 & 1 & 0 & 0 & 0 & 0 \\\\\n",
    "0 & 0 & 0 & 4 & 0 & 0 & 0 & 0 \\\\\n",
    "0 & 0 & 0 & 0 & -\\frac{1}{2} & 1 & 0 & 0 \\\\\n",
    "0 & 0 & 0 & 0 & 0 & -\\frac{1}{2} & 1 & 0 \\\\\n",
    "0 & 0 & 0 & 0 & 0 & 0 & -\\frac{1}{2} & 1 \\\\\n",
    "0 & 0 & 0 & 0 & 0 & 0 & 0 & -\\frac{1}{2} \\\\\n",
    "\\end{pmatrix} .\n",
    "$$\n",
    "\n",
    "Notice that the eigenvalues and eigenvectors of a matrix in Jordan\n",
    "Form can be read off without your having to do any work.\n",
    "- The eigenvalues are along the main diagonal (this is true of any upper-triangular matrix).\n",
    "- Eigenvectors can be found on the columns at the beginning of each block.\n",
    "\n",
    "For example, in the above form $J$, we have the eigenvalues $\\lambda =\n",
    "1$ with multiplicity $4$ and $\\lambda = \\frac{1}{2}$ with multiplicity\n",
    "$4$. Furthermore, there are two eigenvectors associated with $\\lambda =\n",
    "1$, namely\n",
    "\n",
    "$$\n",
    "v_1 = \\begin{pmatrix}\n",
    "1 \\\\ 0 \\\\ 0 \\\\ 0 \\\\ 0 \\\\ 0 \\\\ 0 \\\\ 0\n",
    "\\end{pmatrix}, \\;\\;\n",
    "v_2 = \\begin{pmatrix}\n",
    "0 \\\\ 0 \\\\ 1 \\\\ 0 \\\\ 0 \\\\ 0 \\\\ 0 \\\\ 0\n",
    "\\end{pmatrix}\n",
    "$$\n",
    "\n",
    "and one eigenvector associated with the eigenvalue $\\lambda = - \\frac{1}{2}$, namely\n",
    "\n",
    "$$\n",
    "v_3 = \\begin{pmatrix}\n",
    "0 \\\\ 0 \\\\ 0 \\\\ 0 \\\\ 1 \\\\ 0 \\\\ 0 \\\\ 0\n",
    "\\end{pmatrix} .\n",
    "$$\n",
    "\n",
    "These choices are not unique: any two basis vectors for $\\mathrm{span} ( v_1, v_2 )$ can\n",
    "be chosen as the eigenvectors for $\\lambda = 1$ and any non-zero\n",
    "scalar multiple of $v_3$ can be chosen as the eigenvector for $\\lambda\n",
    "= - \\frac{1}{2}$.\n",
    "\n",
    "**Theorem**: Any matrix can be put into Jordan Form.\n",
    "\n",
    "We will not prove this statement in this course. However, [here](https://github.com/klavins/ECE447/blob/master/lectures/jordan-form.pdf) is a proof you can read if you are interested. \n",
    "\n",
    "You can use `sympy` to put matrices into Jordan form. For example:"
   ]
  },
  {
   "cell_type": "code",
   "execution_count": 20,
   "metadata": {},
   "outputs": [],
   "source": [
    "A = Matrix([\n",
    "[ 5,  4,  2,  1],\n",
    "[ 0,  1, -1, -1],\n",
    "[-1, -1,  3,  0],\n",
    "[ 1,  1, -1,  2]])\n",
    "\n",
    "P,J = A.jordan_form()"
   ]
  },
  {
   "cell_type": "code",
   "execution_count": 23,
   "metadata": {},
   "outputs": [
    {
     "data": {
      "text/latex": [
       "$$\\left[\\begin{matrix}1 & 0 & 0 & 0\\\\0 & 2 & 0 & 0\\\\0 & 0 & 4 & 1\\\\0 & 0 & 0 & 4\\end{matrix}\\right]$$"
      ],
      "text/plain": [
       "⎡1  0  0  0⎤\n",
       "⎢          ⎥\n",
       "⎢0  2  0  0⎥\n",
       "⎢          ⎥\n",
       "⎢0  0  4  1⎥\n",
       "⎢          ⎥\n",
       "⎣0  0  0  4⎦"
      ]
     },
     "execution_count": 23,
     "metadata": {},
     "output_type": "execute_result"
    }
   ],
   "source": [
    "J"
   ]
  },
  {
   "cell_type": "code",
   "execution_count": 26,
   "metadata": {},
   "outputs": [
    {
     "data": {
      "text/latex": [
       "$$\\left[\\begin{matrix}-1 & 1 & -3 & -2\\\\1 & -1 & 0 & 0\\\\0 & 0 & 3 & -1\\\\0 & 1 & -3 & 1\\end{matrix}\\right]$$"
      ],
      "text/plain": [
       "⎡-1  1   -3  -2⎤\n",
       "⎢              ⎥\n",
       "⎢1   -1  0   0 ⎥\n",
       "⎢              ⎥\n",
       "⎢0   0   3   -1⎥\n",
       "⎢              ⎥\n",
       "⎣0   1   -3  1 ⎦"
      ]
     },
     "execution_count": 26,
     "metadata": {},
     "output_type": "execute_result"
    }
   ],
   "source": [
    "P"
   ]
  },
  {
   "cell_type": "code",
   "execution_count": 22,
   "metadata": {},
   "outputs": [
    {
     "data": {
      "text/latex": [
       "$$\\left[\\begin{matrix}5 & 4 & 2 & 1\\\\0 & 1 & -1 & -1\\\\-1 & -1 & 3 & 0\\\\1 & 1 & -1 & 2\\end{matrix}\\right]$$"
      ],
      "text/plain": [
       "⎡5   4   2   1 ⎤\n",
       "⎢              ⎥\n",
       "⎢0   1   -1  -1⎥\n",
       "⎢              ⎥\n",
       "⎢-1  -1  3   0 ⎥\n",
       "⎢              ⎥\n",
       "⎣1   1   -1  2 ⎦"
      ]
     },
     "execution_count": 22,
     "metadata": {},
     "output_type": "execute_result"
    }
   ],
   "source": [
    "P*J*P.inv()"
   ]
  },
  {
   "cell_type": "markdown",
   "metadata": {},
   "source": [
    "Matrix Exponential of a Jordan Block\n",
    "===\n",
    "\n",
    "The matrix exponential of a diagonal matrix is straightfoward to compute. However, with a Jordan block, the extra ones on the upper diagonal introduce new terms. Here is an example of what happens with a simple Jordan Block\n",
    "\n",
    "$$\n",
    "J = \\begin{pmatrix}\n",
    "-1 & 1 \\\\\n",
    " 0 & -1\n",
    "\\end{pmatrix}\n",
    "$$\n",
    "\n",
    "This matrix has a repeated eigenvalue (-1) and is not diagonalizable due to a one dimensional eigenspace.\n",
    "\n",
    "Using the definition of the matrix exponential, we compute:\n",
    "\n",
    "$$\n",
    "J^2 = \\begin{pmatrix}\n",
    "1 & -2 \\\\\n",
    " 0 & 1\n",
    "\\end{pmatrix}\n",
    "$$\n",
    "\n",
    "and\n",
    "\n",
    "$$\n",
    "J^2 = \\begin{pmatrix}\n",
    "-1 & 3 \\\\\n",
    " 0 & -1\n",
    "\\end{pmatrix} .\n",
    "$$\n",
    "\n",
    "You can see a pattern emerging. We have\n",
    "\n",
    "$$\n",
    "J^n = \\begin{pmatrix}\n",
    "(-1)^{n-1} & n(-1)^n \\\\\n",
    " 0 & (-1)^{n-1}\n",
    "\\end{pmatrix} .\n",
    "$$\n",
    "\n",
    "So the $1,1$ and $2,2$ entries of $e^{Jt}$ are \n",
    "\n",
    "$$\n",
    "1 + -t + \\frac{t^2}{2!} - \\frac{t^3}{3!} + \\frac{t^4}{4!} + ... = e^{-t}.\n",
    "$$\n",
    "\n",
    "And the $1,2$ entry is\n",
    "\n",
    "\\begin{align}\n",
    " & = 0 + t - 2\\frac{t^2}{2!} + 3\\frac{t^3}{3!} - 4\\frac{t^4}{4!} + ... \\\\ \n",
    " & = t \\left(\\ 1 - t + \\frac{t^2}{2!} - \\frac{t^3}{3!} + ... \\right) \\\\\n",
    " & = t e^{-t}.\n",
    "\\end{align}\n",
    "\n",
    "Thus,\n",
    "\n",
    "$$\n",
    "e^{Jt} = \\begin{pmatrix}\n",
    "e^{-t} & t e^{-t} \\\\\n",
    "0      & e^{-t}\n",
    "\\end{pmatrix} .\n",
    "$$"
   ]
  },
  {
   "cell_type": "markdown",
   "metadata": {},
   "source": [
    "More generally, you can compute the matrix exponential larger Jordan blocks similarly to get"
   ]
  },
  {
   "cell_type": "code",
   "execution_count": 33,
   "metadata": {},
   "outputs": [
    {
     "data": {
      "text/latex": [
       "$$\\left[\\begin{matrix}e^{a t} & t e^{a t} & \\frac{t^{2}}{2} e^{a t}\\\\0 & e^{a t} & t e^{a t}\\\\0 & 0 & e^{a t}\\end{matrix}\\right]$$"
      ],
      "text/plain": [
       "⎡               2  a⋅t⎤\n",
       "⎢ a⋅t     a⋅t  t ⋅ℯ   ⎥\n",
       "⎢ℯ     t⋅ℯ     ───────⎥\n",
       "⎢                 2   ⎥\n",
       "⎢                     ⎥\n",
       "⎢        a⋅t      a⋅t ⎥\n",
       "⎢ 0     ℯ      t⋅ℯ    ⎥\n",
       "⎢                     ⎥\n",
       "⎢                a⋅t  ⎥\n",
       "⎣ 0      0      ℯ     ⎦"
      ]
     },
     "execution_count": 33,
     "metadata": {},
     "output_type": "execute_result"
    }
   ],
   "source": [
    "var(\"a\")\n",
    "J = Matrix([\n",
    "    [a,1,0],\n",
    "    [0, a,1],\n",
    "    [0, 0 , a]\n",
    "])\n",
    "exp(J*t)"
   ]
  },
  {
   "cell_type": "code",
   "execution_count": 34,
   "metadata": {},
   "outputs": [
    {
     "data": {
      "text/latex": [
       "$$\\left[\\begin{matrix}e^{a t} & t e^{a t} & \\frac{t^{2}}{2} e^{a t} & \\frac{t^{3}}{6} e^{a t}\\\\0 & e^{a t} & t e^{a t} & \\frac{t^{2}}{2} e^{a t}\\\\0 & 0 & e^{a t} & t e^{a t}\\\\0 & 0 & 0 & e^{a t}\\end{matrix}\\right]$$"
      ],
      "text/plain": [
       "⎡               2  a⋅t   3  a⋅t⎤\n",
       "⎢ a⋅t     a⋅t  t ⋅ℯ     t ⋅ℯ   ⎥\n",
       "⎢ℯ     t⋅ℯ     ───────  ───────⎥\n",
       "⎢                 2        6   ⎥\n",
       "⎢                              ⎥\n",
       "⎢                        2  a⋅t⎥\n",
       "⎢        a⋅t      a⋅t   t ⋅ℯ   ⎥\n",
       "⎢ 0     ℯ      t⋅ℯ      ───────⎥\n",
       "⎢                          2   ⎥\n",
       "⎢                              ⎥\n",
       "⎢                a⋅t       a⋅t ⎥\n",
       "⎢ 0      0      ℯ       t⋅ℯ    ⎥\n",
       "⎢                              ⎥\n",
       "⎢                         a⋅t  ⎥\n",
       "⎣ 0      0        0      ℯ     ⎦"
      ]
     },
     "execution_count": 34,
     "metadata": {},
     "output_type": "execute_result"
    }
   ],
   "source": [
    "J = Matrix([\n",
    "    [a,1,0,0],\n",
    "    [0,a,1,0],\n",
    "    [0,0,a,1],\n",
    "    [0,0,0,a]\n",
    "])\n",
    "exp(J*t)"
   ]
  },
  {
   "cell_type": "markdown",
   "metadata": {},
   "source": [
    "And to compute the matrix exponential of an arbitrary matrix $A$, you just use the fact that there exist $P$ and $J$ in Jordan Form with $A = PJP^{-1}$. For example,"
   ]
  },
  {
   "cell_type": "code",
   "execution_count": 35,
   "metadata": {
    "collapsed": true
   },
   "outputs": [],
   "source": [
    "A = Matrix([\n",
    "[ 5,  4,  2,  1],\n",
    "[ 0,  1, -1, -1],\n",
    "[-1, -1,  3,  0],\n",
    "[ 1,  1, -1,  2]])\n",
    "\n",
    "P,J = A.jordan_form()"
   ]
  },
  {
   "cell_type": "code",
   "execution_count": 36,
   "metadata": {},
   "outputs": [
    {
     "data": {
      "text/latex": [
       "$$\\left[\\begin{matrix}1 & 0 & 0 & 0\\\\0 & 2 & 0 & 0\\\\0 & 0 & 4 & 1\\\\0 & 0 & 0 & 4\\end{matrix}\\right]$$"
      ],
      "text/plain": [
       "⎡1  0  0  0⎤\n",
       "⎢          ⎥\n",
       "⎢0  2  0  0⎥\n",
       "⎢          ⎥\n",
       "⎢0  0  4  1⎥\n",
       "⎢          ⎥\n",
       "⎣0  0  0  4⎦"
      ]
     },
     "execution_count": 36,
     "metadata": {},
     "output_type": "execute_result"
    }
   ],
   "source": [
    "J"
   ]
  },
  {
   "cell_type": "code",
   "execution_count": 38,
   "metadata": {},
   "outputs": [
    {
     "data": {
      "text/latex": [
       "$$\\left[\\begin{matrix}e^{t} & 0 & 0 & 0\\\\0 & e^{2 t} & 0 & 0\\\\0 & 0 & e^{4 t} & t e^{4 t}\\\\0 & 0 & 0 & e^{4 t}\\end{matrix}\\right]$$"
      ],
      "text/plain": [
       "⎡ t                    ⎤\n",
       "⎢ℯ    0     0      0   ⎥\n",
       "⎢                      ⎥\n",
       "⎢     2⋅t              ⎥\n",
       "⎢0   ℯ      0      0   ⎥\n",
       "⎢                      ⎥\n",
       "⎢           4⋅t     4⋅t⎥\n",
       "⎢0    0    ℯ     t⋅ℯ   ⎥\n",
       "⎢                      ⎥\n",
       "⎢                  4⋅t ⎥\n",
       "⎣0    0     0     ℯ    ⎦"
      ]
     },
     "execution_count": 38,
     "metadata": {},
     "output_type": "execute_result"
    }
   ],
   "source": [
    "exp(J*t)"
   ]
  },
  {
   "cell_type": "code",
   "execution_count": 39,
   "metadata": {},
   "outputs": [
    {
     "data": {
      "text/latex": [
       "$$\\left[\\begin{matrix}t e^{4 t} + e^{4 t} & t e^{4 t} + e^{4 t} - e^{t} & t e^{4 t} + e^{2 t} - e^{t} & e^{2 t} - e^{t}\\\\0 & e^{t} & - e^{2 t} + e^{t} & - e^{2 t} + e^{t}\\\\- t e^{4 t} & - t e^{4 t} & - t e^{4 t} + e^{4 t} & 0\\\\t e^{4 t} & t e^{4 t} & t e^{4 t} - e^{4 t} + e^{2 t} & e^{2 t}\\end{matrix}\\right]$$"
      ],
      "text/plain": [
       "⎡   4⋅t    4⋅t     4⋅t    4⋅t    t      4⋅t    2⋅t    t     2⋅t    t ⎤\n",
       "⎢t⋅ℯ    + ℯ     t⋅ℯ    + ℯ    - ℯ    t⋅ℯ    + ℯ    - ℯ     ℯ    - ℯ  ⎥\n",
       "⎢                                                                    ⎥\n",
       "⎢                        t                 2⋅t    t          2⋅t    t⎥\n",
       "⎢      0                ℯ               - ℯ    + ℯ        - ℯ    + ℯ ⎥\n",
       "⎢                                                                    ⎥\n",
       "⎢       4⋅t              4⋅t               4⋅t    4⋅t                ⎥\n",
       "⎢   -t⋅ℯ             -t⋅ℯ             - t⋅ℯ    + ℯ             0     ⎥\n",
       "⎢                                                                    ⎥\n",
       "⎢      4⋅t               4⋅t           4⋅t    4⋅t    2⋅t      2⋅t    ⎥\n",
       "⎣   t⋅ℯ               t⋅ℯ           t⋅ℯ    - ℯ    + ℯ        ℯ       ⎦"
      ]
     },
     "execution_count": 39,
     "metadata": {},
     "output_type": "execute_result"
    }
   ],
   "source": [
    "P*exp(J*t)*P.inv()"
   ]
  },
  {
   "cell_type": "code",
   "execution_count": 40,
   "metadata": {},
   "outputs": [
    {
     "data": {
      "text/latex": [
       "$$\\left[\\begin{matrix}t e^{4 t} + e^{4 t} & t e^{4 t} + e^{4 t} - e^{t} & t e^{4 t} + e^{2 t} - e^{t} & e^{2 t} - e^{t}\\\\0 & e^{t} & - e^{2 t} + e^{t} & - e^{2 t} + e^{t}\\\\- t e^{4 t} & - t e^{4 t} & - t e^{4 t} + e^{4 t} & 0\\\\t e^{4 t} & t e^{4 t} & t e^{4 t} - e^{4 t} + e^{2 t} & e^{2 t}\\end{matrix}\\right]$$"
      ],
      "text/plain": [
       "⎡   4⋅t    4⋅t     4⋅t    4⋅t    t      4⋅t    2⋅t    t     2⋅t    t ⎤\n",
       "⎢t⋅ℯ    + ℯ     t⋅ℯ    + ℯ    - ℯ    t⋅ℯ    + ℯ    - ℯ     ℯ    - ℯ  ⎥\n",
       "⎢                                                                    ⎥\n",
       "⎢                        t                 2⋅t    t          2⋅t    t⎥\n",
       "⎢      0                ℯ               - ℯ    + ℯ        - ℯ    + ℯ ⎥\n",
       "⎢                                                                    ⎥\n",
       "⎢       4⋅t              4⋅t               4⋅t    4⋅t                ⎥\n",
       "⎢   -t⋅ℯ             -t⋅ℯ             - t⋅ℯ    + ℯ             0     ⎥\n",
       "⎢                                                                    ⎥\n",
       "⎢      4⋅t               4⋅t           4⋅t    4⋅t    2⋅t      2⋅t    ⎥\n",
       "⎣   t⋅ℯ               t⋅ℯ           t⋅ℯ    - ℯ    + ℯ        ℯ       ⎦"
      ]
     },
     "execution_count": 40,
     "metadata": {},
     "output_type": "execute_result"
    }
   ],
   "source": [
    "exp(A*t)"
   ]
  },
  {
   "cell_type": "markdown",
   "metadata": {},
   "source": [
    "And the solution to the differential equation $\\dot x = Ax$ with initial condition $x(0)$ is"
   ]
  },
  {
   "cell_type": "code",
   "execution_count": 48,
   "metadata": {},
   "outputs": [
    {
     "data": {
      "text/latex": [
       "$$\\left[\\begin{matrix}\\left(x_{01} \\left(t + 1\\right) e^{3 t} + x_{02} \\left(t e^{3 t} + e^{3 t} - 1\\right) + x_{03} \\left(t e^{3 t} + e^{t} - 1\\right) + x_{04} \\left(e^{t} - 1\\right)\\right) e^{t}\\\\\\left(x_{02} - x_{03} \\left(e^{t} - 1\\right) - x_{04} \\left(e^{t} - 1\\right)\\right) e^{t}\\\\\\left(- t x_{01} - t x_{02} - t x_{03} + x_{03}\\right) e^{4 t}\\\\\\left(t x_{01} e^{2 t} + t x_{02} e^{2 t} + x_{03} \\left(t e^{2 t} - e^{2 t} + 1\\right) + x_{04}\\right) e^{2 t}\\end{matrix}\\right]$$"
      ],
      "text/plain": [
       "⎡⎛             3⋅t       ⎛   3⋅t    3⋅t    ⎞       ⎛   3⋅t    t    ⎞       ⎛ t\n",
       "⎢⎝x₀₁⋅(t + 1)⋅ℯ    + x₀₂⋅⎝t⋅ℯ    + ℯ    - 1⎠ + x₀₃⋅⎝t⋅ℯ    + ℯ  - 1⎠ + x₀₄⋅⎝ℯ \n",
       "⎢                                                                             \n",
       "⎢                        ⎛          ⎛ t    ⎞       ⎛ t    ⎞⎞  t               \n",
       "⎢                        ⎝x₀₂ - x₀₃⋅⎝ℯ  - 1⎠ - x₀₄⋅⎝ℯ  - 1⎠⎠⋅ℯ                \n",
       "⎢                                                                             \n",
       "⎢                                                         4⋅t                 \n",
       "⎢                         (-t⋅x₀₁ - t⋅x₀₂ - t⋅x₀₃ + x₀₃)⋅ℯ                    \n",
       "⎢                                                                             \n",
       "⎢            ⎛       2⋅t          2⋅t       ⎛   2⋅t    2⋅t    ⎞      ⎞  2⋅t   \n",
       "⎣            ⎝t⋅x₀₁⋅ℯ    + t⋅x₀₂⋅ℯ    + x₀₃⋅⎝t⋅ℯ    - ℯ    + 1⎠ + x₀₄⎠⋅ℯ      \n",
       "\n",
       "    ⎞⎞  t⎤\n",
       " - 1⎠⎠⋅ℯ ⎥\n",
       "         ⎥\n",
       "         ⎥\n",
       "         ⎥\n",
       "         ⎥\n",
       "         ⎥\n",
       "         ⎥\n",
       "         ⎥\n",
       "         ⎥\n",
       "         ⎦"
      ]
     },
     "execution_count": 48,
     "metadata": {},
     "output_type": "execute_result"
    }
   ],
   "source": [
    "x01, x02, x03, x04 = var('x01 x02 x03 x04')\n",
    "x0 = Matrix([x01, x02, x03, x04])\n",
    "x = exp(A*t)*x0\n",
    "x.simplify()"
   ]
  }
 ],
 "metadata": {
  "kernelspec": {
   "display_name": "Python 3",
   "language": "python",
   "name": "python3"
  },
  "language_info": {
   "codemirror_mode": {
    "name": "ipython",
    "version": 3
   },
   "file_extension": ".py",
   "mimetype": "text/x-python",
   "name": "python",
   "nbconvert_exporter": "python",
   "pygments_lexer": "ipython3",
   "version": "3.6.1"
  }
 },
 "nbformat": 4,
 "nbformat_minor": 2
}
