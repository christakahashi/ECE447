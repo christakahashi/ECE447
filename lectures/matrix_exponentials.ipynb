{
  "nbformat": 4,
  "nbformat_minor": 0,
  "metadata": {
    "kernelspec": {
      "display_name": "Python 3",
      "language": "python",
      "name": "python3"
    },
    "language_info": {
      "codemirror_mode": {
        "name": "ipython",
        "version": 3
      },
      "file_extension": ".py",
      "mimetype": "text/x-python",
      "name": "python",
      "nbconvert_exporter": "python",
      "pygments_lexer": "ipython3",
      "version": "3.6.1"
    },
    "colab": {
      "name": "matrix_exponentials.ipynb",
      "provenance": []
    }
  },
  "cells": [
    {
      "cell_type": "markdown",
      "metadata": {
        "id": "7w3txPEGQ-Pl",
        "colab_type": "text"
      },
      "source": [
        "ECE 447: Matrix Exponentials\n",
        "===\n",
        "In  which we solve linear ODEs once and for all.\n",
        "\n",
        "Updated by \n",
        " Dr. Chris Takahashi\n",
        "\n",
        "Authored by Prof. Eric Klavins &copy; 2019, University of Washington\n"
      ]
    },
    {
      "cell_type": "code",
      "metadata": {
        "id": "U4dg9lruQ-Pn",
        "colab_type": "code",
        "colab": {}
      },
      "source": [
        "import numpy as np\n",
        "import scipy.integrate as spi\n",
        "import matplotlib.pyplot as plt\n",
        "from sympy import *\n",
        "\n",
        "%matplotlib inline\n",
        "\n",
        "#comment out for light mode\n",
        "plt.style.use('dark_background')\n",
        "\n",
        "\n",
        "try: \n",
        "  import google.colab #test for colab\n",
        "  import IPython\n",
        "  def setup_typeset():\n",
        "    \"\"\"MathJax initialization for the current cell.\n",
        "    \n",
        "    This installs and configures MathJax for the current output.\n",
        "    \"\"\"\n",
        "    IPython.display.display(IPython.display.HTML('''\n",
        "        <script src=\"https://www.gstatic.com/external_hosted/mathjax/latest/MathJax.js?config=TeX-AMS_HTML-full,Safe&delayStartupUntil=configured\"></script>\n",
        "        <script>\n",
        "          (() => {\n",
        "            const mathjax = window.MathJax;\n",
        "            mathjax.Hub.Config({\n",
        "            'tex2jax': {\n",
        "              'inlineMath': [['$', '$'], ['\\\\(', '\\\\)']],\n",
        "              'displayMath': [['$$', '$$'], ['\\\\[', '\\\\]']],\n",
        "              'processEscapes': true,\n",
        "              'processEnvironments': true,\n",
        "              'skipTags': ['script', 'noscript', 'style', 'textarea', 'code'],\n",
        "              'displayAlign': 'center',\n",
        "            },\n",
        "            'HTML-CSS': {\n",
        "              'styles': {'.MathJax_Display': {'margin': 0}},\n",
        "              'linebreaks': {'automatic': true},\n",
        "              // Disable to prevent OTF font loading, which aren't part of our\n",
        "              // distribution.\n",
        "              'imageFont': null,\n",
        "            },\n",
        "            'messageStyle': 'none'\n",
        "          });\n",
        "          mathjax.Hub.Configured();\n",
        "        })();\n",
        "        </script>\n",
        "        '''))\n",
        "  def custom_latex_printer(exp,**options):\n",
        "      setup_typeset()\n",
        "      return printing.latex(exp,**options)\n",
        "  init_printing(use_latex=\"mathjax\",latex_printer=custom_latex_printer)\n",
        "except:\n",
        "  init_printing(use_latex='mathjax')"
      ],
      "execution_count": 0,
      "outputs": []
    },
    {
      "cell_type": "markdown",
      "metadata": {
        "id": "uMkwkSbtQ-P5",
        "colab_type": "text"
      },
      "source": [
        "The General Solution to $\\dot x = Ax$\n",
        "===\n",
        "\n",
        "When $A \\in \\mathbb{R}^{n\\times n}$, then the we define $e^{At}$ by\n",
        "\n",
        "$$\n",
        "e^{At} \\triangleq I + At + \\frac{(At)^2}{2!} + \\frac{(At)^3}{3!} + \\dots\n",
        "$$\n",
        "\n",
        "It turns out that \n",
        "\n",
        "$$\n",
        "x(t) = e^{At}x(0)\n",
        "$$\n",
        "\n",
        "is the solution to $\\dot x = Ax$. This is because\n",
        "\n",
        "\\begin{align}\n",
        "\\frac{d}{dt}e^{At}x(0) & = \n",
        "\\frac{d}{dt}\\left(I + At + \\frac{(At)^2}{2!} + \\frac{(At)^3}{3!} + \\dots\\right)x(0) \\\\\n",
        " & = \\left(0 + A + A^2 t + \\frac{A^3t^2}{2!} + \\dots\\right)x(0) \\\\\n",
        " & = A \\left(I + At + + \\frac{(At)^2}{2!} + \\dots \\right)x(0) \\\\\n",
        " &= A e^{At} x(0) \\\\\n",
        " & = A x(t).\n",
        "\\end{align}\n",
        "\n",
        "We next explore what $e^{At}$ looks like for various types of matrices."
      ]
    },
    {
      "cell_type": "markdown",
      "metadata": {
        "id": "vo6ndqeLQ-P8",
        "colab_type": "text"
      },
      "source": [
        "Diagonalizable Matrices\n",
        "===\n",
        "\n",
        "If $A$ is diagonalizable, then $A = P D P^{-1}$ for some $P$ and $D$. In this case,\n",
        "\n",
        "\\begin{align}\n",
        "e^{At} & = e^{PDP^{-1}t} \\\\\n",
        "       & = I + PDP^{-1}t + \\frac{(PDP^{-1}t)^2}{2!} + \\dots \\\\\n",
        "       & = I + PDP^{-1}t + \\frac{PDP^{-1}PDP^{-1}t^2}{2!} + \\dots \\\\\n",
        "       & = I + PDP^{-1}t + \\frac{PD^2P^{-1}t^2}{2!} + \\dots \\\\\n",
        "       & = P \\left(I + Dt + \\frac{D^2t^2}{2!} + \\dots \\right)P^{-1} \\\\\n",
        "       & = P e^{Dt} P^{-1}.\n",
        "\\end{align}\n",
        "\n",
        "Now, since $D$ is diagonal and of the form\n",
        "\n",
        "$$\n",
        "D = \\begin{pmatrix}\n",
        "\\lambda_1 & 0 \\\\\n",
        "0 & \\lambda_2\n",
        "\\end{pmatrix}\n",
        "$$\n",
        "\n",
        "it is clear that \n",
        "\n",
        "$$\n",
        "e^{Dt} = \\begin{pmatrix}\n",
        "e^{\\lambda_1t} & 0 \\\\\n",
        "0 & e^{\\lambda_2t}\n",
        "\\end{pmatrix} .\n",
        "$$\n",
        "\n",
        "Thus, figuring out $e^{At}$ is just matrix multiplication using $P e^{Dt} P^{-1}$.\n",
        "\n",
        "<span style=\"color: darkorange; border: 1pt solid darkorange; padding: 8px\">\n",
        "**NOTE**: In general, $e^{At}$ is **not** just the elementwise exponentials of the entries of $A$. \n",
        "</span>\n",
        "\n",
        "Example: Real Eigenvalues\n",
        "---"
      ]
    },
    {
      "cell_type": "code",
      "metadata": {
        "id": "TIE6VUzVQ-P9",
        "colab_type": "code",
        "colab": {
          "base_uri": "https://localhost:8080/",
          "height": 69
        },
        "outputId": "836955bd-04ac-44d4-c551-13f21c5e80ad"
      },
      "source": [
        "# Compute e^{At} using diagonalization method\n",
        "var(\"t\")\n",
        "A = Matrix([[-2,-2],[-1,-3]])\n",
        "P,D = A.diagonalize()\n",
        "eDt = Matrix([\n",
        "    [exp(D[0,0]*t), 0], \n",
        "    [0, exp(D[1,1]*t)]\n",
        "])\n",
        "eAt = P*eDt*P.inv()\n",
        "eAt.simplify()\n",
        "#display D and the matrix exponential\n",
        "D,eAt"
      ],
      "execution_count": 36,
      "outputs": [
        {
          "output_type": "display_data",
          "data": {
            "text/html": [
              "\n",
              "        <script src=\"https://www.gstatic.com/external_hosted/mathjax/latest/MathJax.js?config=TeX-AMS_HTML-full,Safe&delayStartupUntil=configured\"></script>\n",
              "        <script>\n",
              "          (() => {\n",
              "            const mathjax = window.MathJax;\n",
              "            mathjax.Hub.Config({\n",
              "            'tex2jax': {\n",
              "              'inlineMath': [['$', '$'], ['\\(', '\\)']],\n",
              "              'displayMath': [['$$', '$$'], ['\\[', '\\]']],\n",
              "              'processEscapes': true,\n",
              "              'processEnvironments': true,\n",
              "              'skipTags': ['script', 'noscript', 'style', 'textarea', 'code'],\n",
              "              'displayAlign': 'center',\n",
              "            },\n",
              "            'HTML-CSS': {\n",
              "              'styles': {'.MathJax_Display': {'margin': 0}},\n",
              "              'linebreaks': {'automatic': true},\n",
              "              // Disable to prevent OTF font loading, which aren't part of our\n",
              "              // distribution.\n",
              "              'imageFont': null,\n",
              "            },\n",
              "            'messageStyle': 'none'\n",
              "          });\n",
              "          mathjax.Hub.Configured();\n",
              "        })();\n",
              "        </script>\n",
              "        "
            ],
            "text/plain": [
              "<IPython.core.display.HTML object>"
            ]
          },
          "metadata": {
            "tags": []
          }
        },
        {
          "output_type": "execute_result",
          "data": {
            "text/latex": "$$\\left ( \\left[\\begin{matrix}-4 & 0\\\\0 & -1\\end{matrix}\\right], \\quad \\left[\\begin{matrix}\\frac{1}{3} \\left(2 e^{3 t} + 1\\right) e^{- 4 t} & \\frac{1}{3} \\left(- 2 e^{3 t} + 2\\right) e^{- 4 t}\\\\\\frac{1}{3} \\left(- e^{3 t} + 1\\right) e^{- 4 t} & \\frac{1}{3} \\left(e^{3 t} + 2\\right) e^{- 4 t}\\end{matrix}\\right]\\right )$$",
            "text/plain": [
              "⎛          ⎡⎛   3⋅t    ⎞  -4⋅t  ⎛     3⋅t    ⎞  -4⋅t⎤⎞\n",
              "⎜          ⎢⎝2⋅ℯ    + 1⎠⋅ℯ      ⎝- 2⋅ℯ    + 2⎠⋅ℯ    ⎥⎟\n",
              "⎜          ⎢──────────────────  ────────────────────⎥⎟\n",
              "⎜⎡-4  0 ⎤  ⎢        3                    3          ⎥⎟\n",
              "⎜⎢      ⎥, ⎢                                        ⎥⎟\n",
              "⎜⎣0   -1⎦  ⎢⎛   3⋅t    ⎞  -4⋅t    ⎛ 3⋅t    ⎞  -4⋅t  ⎥⎟\n",
              "⎜          ⎢⎝- ℯ    + 1⎠⋅ℯ        ⎝ℯ    + 2⎠⋅ℯ      ⎥⎟\n",
              "⎜          ⎢──────────────────    ────────────────  ⎥⎟\n",
              "⎝          ⎣        3                    3          ⎦⎠"
            ]
          },
          "metadata": {
            "tags": []
          },
          "execution_count": 36
        }
      ]
    },
    {
      "cell_type": "code",
      "metadata": {
        "id": "PvVluHQdQ-QE",
        "colab_type": "code",
        "colab": {
          "base_uri": "https://localhost:8080/",
          "height": 71
        },
        "outputId": "ae9bb8ca-9e9d-4621-f31e-187e2e17c755"
      },
      "source": [
        "# Compute e^{At} using sympy's exp which, works on \n",
        "# matrices and probably does the same thing\n",
        "w = exp(A*t)\n",
        "w"
      ],
      "execution_count": 37,
      "outputs": [
        {
          "output_type": "display_data",
          "data": {
            "text/html": [
              "\n",
              "        <script src=\"https://www.gstatic.com/external_hosted/mathjax/latest/MathJax.js?config=TeX-AMS_HTML-full,Safe&delayStartupUntil=configured\"></script>\n",
              "        <script>\n",
              "          (() => {\n",
              "            const mathjax = window.MathJax;\n",
              "            mathjax.Hub.Config({\n",
              "            'tex2jax': {\n",
              "              'inlineMath': [['$', '$'], ['\\(', '\\)']],\n",
              "              'displayMath': [['$$', '$$'], ['\\[', '\\]']],\n",
              "              'processEscapes': true,\n",
              "              'processEnvironments': true,\n",
              "              'skipTags': ['script', 'noscript', 'style', 'textarea', 'code'],\n",
              "              'displayAlign': 'center',\n",
              "            },\n",
              "            'HTML-CSS': {\n",
              "              'styles': {'.MathJax_Display': {'margin': 0}},\n",
              "              'linebreaks': {'automatic': true},\n",
              "              // Disable to prevent OTF font loading, which aren't part of our\n",
              "              // distribution.\n",
              "              'imageFont': null,\n",
              "            },\n",
              "            'messageStyle': 'none'\n",
              "          });\n",
              "          mathjax.Hub.Configured();\n",
              "        })();\n",
              "        </script>\n",
              "        "
            ],
            "text/plain": [
              "<IPython.core.display.HTML object>"
            ]
          },
          "metadata": {
            "tags": []
          }
        },
        {
          "output_type": "execute_result",
          "data": {
            "text/latex": "$$\\left[\\begin{matrix}\\frac{2}{3} e^{- t} + \\frac{1}{3} e^{- 4 t} & - \\frac{2}{3} e^{- t} + \\frac{2}{3} e^{- 4 t}\\\\- \\frac{e^{- t}}{3} + \\frac{1}{3} e^{- 4 t} & \\frac{e^{- t}}{3} + \\frac{2}{3} e^{- 4 t}\\end{matrix}\\right]$$",
            "text/plain": [
              "⎡   -t    -4⋅t       -t      -4⋅t⎤\n",
              "⎢2⋅ℯ     ℯ        2⋅ℯ     2⋅ℯ    ⎥\n",
              "⎢───── + ─────  - ───── + ───────⎥\n",
              "⎢  3       3        3        3   ⎥\n",
              "⎢                                ⎥\n",
              "⎢   -t    -4⋅t     -t      -4⋅t  ⎥\n",
              "⎢  ℯ     ℯ        ℯ     2⋅ℯ      ⎥\n",
              "⎢- ─── + ─────    ─── + ───────  ⎥\n",
              "⎣   3      3       3       3     ⎦"
            ]
          },
          "metadata": {
            "tags": []
          },
          "execution_count": 37
        }
      ]
    },
    {
      "cell_type": "code",
      "metadata": {
        "id": "QFZM_-88Q-QM",
        "colab_type": "code",
        "colab": {
          "base_uri": "https://localhost:8080/",
          "height": 69
        },
        "outputId": "6d709f5e-eae6-4fd6-92b7-8494307b6373"
      },
      "source": [
        "# Find the solution to x' = Ax when x(0) = (1,-2)\n",
        "var(\"x10 x20\")\n",
        "x = eAt*Matrix([x10,x20])\n",
        "x.simplify()\n",
        "x"
      ],
      "execution_count": 38,
      "outputs": [
        {
          "output_type": "display_data",
          "data": {
            "text/html": [
              "\n",
              "        <script src=\"https://www.gstatic.com/external_hosted/mathjax/latest/MathJax.js?config=TeX-AMS_HTML-full,Safe&delayStartupUntil=configured\"></script>\n",
              "        <script>\n",
              "          (() => {\n",
              "            const mathjax = window.MathJax;\n",
              "            mathjax.Hub.Config({\n",
              "            'tex2jax': {\n",
              "              'inlineMath': [['$', '$'], ['\\(', '\\)']],\n",
              "              'displayMath': [['$$', '$$'], ['\\[', '\\]']],\n",
              "              'processEscapes': true,\n",
              "              'processEnvironments': true,\n",
              "              'skipTags': ['script', 'noscript', 'style', 'textarea', 'code'],\n",
              "              'displayAlign': 'center',\n",
              "            },\n",
              "            'HTML-CSS': {\n",
              "              'styles': {'.MathJax_Display': {'margin': 0}},\n",
              "              'linebreaks': {'automatic': true},\n",
              "              // Disable to prevent OTF font loading, which aren't part of our\n",
              "              // distribution.\n",
              "              'imageFont': null,\n",
              "            },\n",
              "            'messageStyle': 'none'\n",
              "          });\n",
              "          mathjax.Hub.Configured();\n",
              "        })();\n",
              "        </script>\n",
              "        "
            ],
            "text/plain": [
              "<IPython.core.display.HTML object>"
            ]
          },
          "metadata": {
            "tags": []
          }
        },
        {
          "output_type": "execute_result",
          "data": {
            "text/latex": "$$\\left[\\begin{matrix}\\frac{1}{3} \\left(x_{10} \\left(2 e^{3 t} + 1\\right) - 2 x_{20} \\left(e^{3 t} - 1\\right)\\right) e^{- 4 t}\\\\\\frac{1}{3} \\left(- x_{10} \\left(e^{3 t} - 1\\right) + x_{20} \\left(e^{3 t} + 2\\right)\\right) e^{- 4 t}\\end{matrix}\\right]$$",
            "text/plain": [
              "⎡⎛    ⎛   3⋅t    ⎞         ⎛ 3⋅t    ⎞⎞  -4⋅t⎤\n",
              "⎢⎝x₁₀⋅⎝2⋅ℯ    + 1⎠ - 2⋅x₂₀⋅⎝ℯ    - 1⎠⎠⋅ℯ    ⎥\n",
              "⎢───────────────────────────────────────────⎥\n",
              "⎢                     3                     ⎥\n",
              "⎢                                           ⎥\n",
              "⎢ ⎛      ⎛ 3⋅t    ⎞       ⎛ 3⋅t    ⎞⎞  -4⋅t ⎥\n",
              "⎢ ⎝- x₁₀⋅⎝ℯ    - 1⎠ + x₂₀⋅⎝ℯ    + 2⎠⎠⋅ℯ     ⎥\n",
              "⎢ ───────────────────────────────────────── ⎥\n",
              "⎣                     3                     ⎦"
            ]
          },
          "metadata": {
            "tags": []
          },
          "execution_count": 38
        }
      ]
    },
    {
      "cell_type": "code",
      "metadata": {
        "id": "duIMHFHUQ-QS",
        "colab_type": "code",
        "colab": {
          "base_uri": "https://localhost:8080/",
          "height": 63
        },
        "outputId": "9e9d9df7-d1cd-437b-b2dd-580470bd0e67"
      },
      "source": [
        "# Find the solution to x' = Ax when x(0) = (1,-2)\n",
        "x = eAt*Matrix([1,-2])\n",
        "x.simplify()\n",
        "x"
      ],
      "execution_count": 39,
      "outputs": [
        {
          "output_type": "display_data",
          "data": {
            "text/html": [
              "\n",
              "        <script src=\"https://www.gstatic.com/external_hosted/mathjax/latest/MathJax.js?config=TeX-AMS_HTML-full,Safe&delayStartupUntil=configured\"></script>\n",
              "        <script>\n",
              "          (() => {\n",
              "            const mathjax = window.MathJax;\n",
              "            mathjax.Hub.Config({\n",
              "            'tex2jax': {\n",
              "              'inlineMath': [['$', '$'], ['\\(', '\\)']],\n",
              "              'displayMath': [['$$', '$$'], ['\\[', '\\]']],\n",
              "              'processEscapes': true,\n",
              "              'processEnvironments': true,\n",
              "              'skipTags': ['script', 'noscript', 'style', 'textarea', 'code'],\n",
              "              'displayAlign': 'center',\n",
              "            },\n",
              "            'HTML-CSS': {\n",
              "              'styles': {'.MathJax_Display': {'margin': 0}},\n",
              "              'linebreaks': {'automatic': true},\n",
              "              // Disable to prevent OTF font loading, which aren't part of our\n",
              "              // distribution.\n",
              "              'imageFont': null,\n",
              "            },\n",
              "            'messageStyle': 'none'\n",
              "          });\n",
              "          mathjax.Hub.Configured();\n",
              "        })();\n",
              "        </script>\n",
              "        "
            ],
            "text/plain": [
              "<IPython.core.display.HTML object>"
            ]
          },
          "metadata": {
            "tags": []
          }
        },
        {
          "output_type": "execute_result",
          "data": {
            "text/latex": "$$\\left[\\begin{matrix}2 e^{- t} - e^{- 4 t}\\\\- \\left(e^{3 t} + 1\\right) e^{- 4 t}\\end{matrix}\\right]$$",
            "text/plain": [
              "⎡     -t    -4⋅t  ⎤\n",
              "⎢  2⋅ℯ   - ℯ      ⎥\n",
              "⎢                 ⎥\n",
              "⎢ ⎛ 3⋅t    ⎞  -4⋅t⎥\n",
              "⎣-⎝ℯ    + 1⎠⋅ℯ    ⎦"
            ]
          },
          "metadata": {
            "tags": []
          },
          "execution_count": 39
        }
      ]
    },
    {
      "cell_type": "code",
      "metadata": {
        "id": "RRqgnCOmQ-QZ",
        "colab_type": "code",
        "colab": {
          "base_uri": "https://localhost:8080/",
          "height": 399
        },
        "outputId": "adb95964-78d1-4b6b-f530-d842a7bf0260"
      },
      "source": [
        "# Note, we are using sympy's plotting.plot method, and not numpy's method\n",
        "plotting.plot(x[0],x[1],(t,0,5));"
      ],
      "execution_count": 40,
      "outputs": [
        {
          "output_type": "stream",
          "text": [
            "/usr/local/lib/python3.6/dist-packages/sympy/plotting/plot.py:890: MatplotlibDeprecationWarning: \n",
            "The set_smart_bounds function was deprecated in Matplotlib 3.2 and will be removed two minor releases later.\n",
            "  self.ax.spines['left'].set_smart_bounds(True)\n",
            "/usr/local/lib/python3.6/dist-packages/sympy/plotting/plot.py:891: MatplotlibDeprecationWarning: \n",
            "The set_smart_bounds function was deprecated in Matplotlib 3.2 and will be removed two minor releases later.\n",
            "  self.ax.spines['bottom'].set_smart_bounds(False)\n"
          ],
          "name": "stderr"
        },
        {
          "output_type": "display_data",
          "data": {
            "image/png": "[encoded data removed]",
            "text/plain": [
              "<Figure size 432x288 with 1 Axes>"
            ]
          },
          "metadata": {
            "tags": []
          }
        }
      ]
    },
    {
      "cell_type": "markdown",
      "metadata": {
        "id": "3GJpmiRfQ-Qf",
        "colab_type": "text"
      },
      "source": [
        "Sympy's symbols cannot be used with numpy.plt directly. First, you have to convert them into functions. To do this, you use `lambdify`. For example, to turn the expression $e^{-t}$ into a function that numpy can use, you do"
      ]
    },
    {
      "cell_type": "code",
      "metadata": {
        "id": "6CXBC2AOQ-Qg",
        "colab_type": "code",
        "colab": {}
      },
      "source": [
        "f = lambdify(t,exp(-t), modules=['numpy'])"
      ],
      "execution_count": 0,
      "outputs": []
    },
    {
      "cell_type": "markdown",
      "metadata": {
        "id": "7nYCaqWbQ-Qk",
        "colab_type": "text"
      },
      "source": [
        "You can now evaluate f for any t. For example:"
      ]
    },
    {
      "cell_type": "code",
      "metadata": {
        "id": "VpwDpt-PQ-Qm",
        "colab_type": "code",
        "colab": {
          "base_uri": "https://localhost:8080/",
          "height": 73
        },
        "outputId": "fa870dc8-5938-4ccb-de6a-d6b1bbef4306"
      },
      "source": [
        "print(f(0))\n",
        "print(f(1))\n",
        "print(f(2))"
      ],
      "execution_count": 42,
      "outputs": [
        {
          "output_type": "stream",
          "text": [
            "1.0\n",
            "0.36787944117144233\n",
            "0.1353352832366127\n"
          ],
          "name": "stdout"
        }
      ]
    },
    {
      "cell_type": "markdown",
      "metadata": {
        "id": "p74POB_sQ-Qr",
        "colab_type": "text"
      },
      "source": [
        "So, to plot the above solution to $\\dot x = Ax$, we can do the following:"
      ]
    },
    {
      "cell_type": "code",
      "metadata": {
        "id": "jCpfBnLpQ-Qs",
        "colab_type": "code",
        "colab": {
          "base_uri": "https://localhost:8080/",
          "height": 297
        },
        "outputId": "d7353f81-e84c-40ac-f0ce-0766c3eb3eb4"
      },
      "source": [
        "# Using numpy. \n",
        "\n",
        "# First, turn xt into functions\n",
        "x = lambdify(t,x, modules=['numpy'])\n",
        "\n",
        "# then plot\n",
        "tvals = np.linspace(0,5,100)\n",
        "plt.plot(tvals,x(tvals)[0,0], label=\"$x_1(t)$\")\n",
        "plt.plot(tvals,x(tvals)[1,0], label=\"$x_2(t)$\")\n",
        "plt.xlabel(\"$t$\")\n",
        "plt.title(\"example linear system response\")\n",
        "plt.legend();"
      ],
      "execution_count": 43,
      "outputs": [
        {
          "output_type": "display_data",
          "data": {
            "image/png": "[encoded data removed]",
            "text/plain": [
              "<Figure size 432x288 with 1 Axes>"
            ]
          },
          "metadata": {
            "tags": []
          }
        }
      ]
    },
    {
      "cell_type": "markdown",
      "metadata": {
        "id": "tKG2hrRyQ-Qy",
        "colab_type": "text"
      },
      "source": [
        "Example: Imaginary Eigenvalues\n",
        "---\n",
        "As another example, consider a matrix with complex eigenvalues. This can be diagonalized, you just don't get a real matrix. "
      ]
    },
    {
      "cell_type": "code",
      "metadata": {
        "id": "3XEtN_1TQ-Qz",
        "colab_type": "code",
        "colab": {
          "base_uri": "https://localhost:8080/",
          "height": 59
        },
        "outputId": "976ffb46-fbdc-4e6c-9026-f78f26bcddce"
      },
      "source": [
        "A = Matrix([[-1,1],[-1,-1]])\n",
        "P,D = A.diagonalize()\n",
        "D"
      ],
      "execution_count": 44,
      "outputs": [
        {
          "output_type": "display_data",
          "data": {
            "text/html": [
              "\n",
              "        <script src=\"https://www.gstatic.com/external_hosted/mathjax/latest/MathJax.js?config=TeX-AMS_HTML-full,Safe&delayStartupUntil=configured\"></script>\n",
              "        <script>\n",
              "          (() => {\n",
              "            const mathjax = window.MathJax;\n",
              "            mathjax.Hub.Config({\n",
              "            'tex2jax': {\n",
              "              'inlineMath': [['$', '$'], ['\\(', '\\)']],\n",
              "              'displayMath': [['$$', '$$'], ['\\[', '\\]']],\n",
              "              'processEscapes': true,\n",
              "              'processEnvironments': true,\n",
              "              'skipTags': ['script', 'noscript', 'style', 'textarea', 'code'],\n",
              "              'displayAlign': 'center',\n",
              "            },\n",
              "            'HTML-CSS': {\n",
              "              'styles': {'.MathJax_Display': {'margin': 0}},\n",
              "              'linebreaks': {'automatic': true},\n",
              "              // Disable to prevent OTF font loading, which aren't part of our\n",
              "              // distribution.\n",
              "              'imageFont': null,\n",
              "            },\n",
              "            'messageStyle': 'none'\n",
              "          });\n",
              "          mathjax.Hub.Configured();\n",
              "        })();\n",
              "        </script>\n",
              "        "
            ],
            "text/plain": [
              "<IPython.core.display.HTML object>"
            ]
          },
          "metadata": {
            "tags": []
          }
        },
        {
          "output_type": "execute_result",
          "data": {
            "text/latex": "$$\\left[\\begin{matrix}-1 - i & 0\\\\0 & -1 + i\\end{matrix}\\right]$$",
            "text/plain": [
              "⎡-1 - ⅈ    0   ⎤\n",
              "⎢              ⎥\n",
              "⎣  0     -1 + ⅈ⎦"
            ]
          },
          "metadata": {
            "tags": []
          },
          "execution_count": 44
        }
      ]
    },
    {
      "cell_type": "code",
      "metadata": {
        "id": "vxdPVx3qQ-Q4",
        "colab_type": "code",
        "colab": {
          "base_uri": "https://localhost:8080/",
          "height": 59
        },
        "outputId": "4c090a8f-8d78-4ccc-da90-e9dfa395dc23"
      },
      "source": [
        "P"
      ],
      "execution_count": 45,
      "outputs": [
        {
          "output_type": "display_data",
          "data": {
            "text/html": [
              "\n",
              "        <script src=\"https://www.gstatic.com/external_hosted/mathjax/latest/MathJax.js?config=TeX-AMS_HTML-full,Safe&delayStartupUntil=configured\"></script>\n",
              "        <script>\n",
              "          (() => {\n",
              "            const mathjax = window.MathJax;\n",
              "            mathjax.Hub.Config({\n",
              "            'tex2jax': {\n",
              "              'inlineMath': [['$', '$'], ['\\(', '\\)']],\n",
              "              'displayMath': [['$$', '$$'], ['\\[', '\\]']],\n",
              "              'processEscapes': true,\n",
              "              'processEnvironments': true,\n",
              "              'skipTags': ['script', 'noscript', 'style', 'textarea', 'code'],\n",
              "              'displayAlign': 'center',\n",
              "            },\n",
              "            'HTML-CSS': {\n",
              "              'styles': {'.MathJax_Display': {'margin': 0}},\n",
              "              'linebreaks': {'automatic': true},\n",
              "              // Disable to prevent OTF font loading, which aren't part of our\n",
              "              // distribution.\n",
              "              'imageFont': null,\n",
              "            },\n",
              "            'messageStyle': 'none'\n",
              "          });\n",
              "          mathjax.Hub.Configured();\n",
              "        })();\n",
              "        </script>\n",
              "        "
            ],
            "text/plain": [
              "<IPython.core.display.HTML object>"
            ]
          },
          "metadata": {
            "tags": []
          }
        },
        {
          "output_type": "execute_result",
          "data": {
            "text/latex": "$$\\left[\\begin{matrix}i & - i\\\\1 & 1\\end{matrix}\\right]$$",
            "text/plain": [
              "⎡ⅈ  -ⅈ⎤\n",
              "⎢     ⎥\n",
              "⎣1  1 ⎦"
            ]
          },
          "metadata": {
            "tags": []
          },
          "execution_count": 45
        }
      ]
    },
    {
      "cell_type": "code",
      "metadata": {
        "id": "W9AjfrCNQ-Q-",
        "colab_type": "code",
        "colab": {
          "base_uri": "https://localhost:8080/",
          "height": 69
        },
        "outputId": "6deb7e4f-fd2e-4bb1-b35d-05d097265724"
      },
      "source": [
        "eAt=P*exp(D*t)*P.inv()\n",
        "eAt"
      ],
      "execution_count": 46,
      "outputs": [
        {
          "output_type": "display_data",
          "data": {
            "text/html": [
              "\n",
              "        <script src=\"https://www.gstatic.com/external_hosted/mathjax/latest/MathJax.js?config=TeX-AMS_HTML-full,Safe&delayStartupUntil=configured\"></script>\n",
              "        <script>\n",
              "          (() => {\n",
              "            const mathjax = window.MathJax;\n",
              "            mathjax.Hub.Config({\n",
              "            'tex2jax': {\n",
              "              'inlineMath': [['$', '$'], ['\\(', '\\)']],\n",
              "              'displayMath': [['$$', '$$'], ['\\[', '\\]']],\n",
              "              'processEscapes': true,\n",
              "              'processEnvironments': true,\n",
              "              'skipTags': ['script', 'noscript', 'style', 'textarea', 'code'],\n",
              "              'displayAlign': 'center',\n",
              "            },\n",
              "            'HTML-CSS': {\n",
              "              'styles': {'.MathJax_Display': {'margin': 0}},\n",
              "              'linebreaks': {'automatic': true},\n",
              "              // Disable to prevent OTF font loading, which aren't part of our\n",
              "              // distribution.\n",
              "              'imageFont': null,\n",
              "            },\n",
              "            'messageStyle': 'none'\n",
              "          });\n",
              "          mathjax.Hub.Configured();\n",
              "        })();\n",
              "        </script>\n",
              "        "
            ],
            "text/plain": [
              "<IPython.core.display.HTML object>"
            ]
          },
          "metadata": {
            "tags": []
          }
        },
        {
          "output_type": "execute_result",
          "data": {
            "text/latex": "$$\\left[\\begin{matrix}\\frac{1}{2} e^{t \\left(-1 - i\\right)} + \\frac{1}{2} e^{t \\left(-1 + i\\right)} & \\frac{i}{2} e^{t \\left(-1 - i\\right)} - \\frac{i}{2} e^{t \\left(-1 + i\\right)}\\\\- \\frac{i}{2} e^{t \\left(-1 - i\\right)} + \\frac{i}{2} e^{t \\left(-1 + i\\right)} & \\frac{1}{2} e^{t \\left(-1 - i\\right)} + \\frac{1}{2} e^{t \\left(-1 + i\\right)}\\end{matrix}\\right]$$",
            "text/plain": [
              "⎡    t⋅(-1 - ⅈ)    t⋅(-1 + ⅈ)        t⋅(-1 - ⅈ)      t⋅(-1 + ⅈ)⎤\n",
              "⎢   ℯ             ℯ               ⅈ⋅ℯ             ⅈ⋅ℯ          ⎥\n",
              "⎢   ─────────── + ───────────     ───────────── - ─────────────⎥\n",
              "⎢        2             2                2               2      ⎥\n",
              "⎢                                                              ⎥\n",
              "⎢     t⋅(-1 - ⅈ)      t⋅(-1 + ⅈ)     t⋅(-1 - ⅈ)    t⋅(-1 + ⅈ)  ⎥\n",
              "⎢  ⅈ⋅ℯ             ⅈ⋅ℯ              ℯ             ℯ            ⎥\n",
              "⎢- ───────────── + ─────────────    ─────────── + ───────────  ⎥\n",
              "⎣        2               2               2             2       ⎦"
            ]
          },
          "metadata": {
            "tags": []
          },
          "execution_count": 46
        }
      ]
    },
    {
      "cell_type": "code",
      "metadata": {
        "id": "A8nHSr9DQ-RE",
        "colab_type": "code",
        "colab": {
          "base_uri": "https://localhost:8080/",
          "height": 61
        },
        "outputId": "985a4966-b0d6-4c13-f65b-22c4b86fcd5d"
      },
      "source": [
        "eAt = eAt.simplify() # Uses cos(t) = (e^{it} + e^{-it})/2\n",
        "eAt"
      ],
      "execution_count": 47,
      "outputs": [
        {
          "output_type": "display_data",
          "data": {
            "text/html": [
              "\n",
              "        <script src=\"https://www.gstatic.com/external_hosted/mathjax/latest/MathJax.js?config=TeX-AMS_HTML-full,Safe&delayStartupUntil=configured\"></script>\n",
              "        <script>\n",
              "          (() => {\n",
              "            const mathjax = window.MathJax;\n",
              "            mathjax.Hub.Config({\n",
              "            'tex2jax': {\n",
              "              'inlineMath': [['$', '$'], ['\\(', '\\)']],\n",
              "              'displayMath': [['$$', '$$'], ['\\[', '\\]']],\n",
              "              'processEscapes': true,\n",
              "              'processEnvironments': true,\n",
              "              'skipTags': ['script', 'noscript', 'style', 'textarea', 'code'],\n",
              "              'displayAlign': 'center',\n",
              "            },\n",
              "            'HTML-CSS': {\n",
              "              'styles': {'.MathJax_Display': {'margin': 0}},\n",
              "              'linebreaks': {'automatic': true},\n",
              "              // Disable to prevent OTF font loading, which aren't part of our\n",
              "              // distribution.\n",
              "              'imageFont': null,\n",
              "            },\n",
              "            'messageStyle': 'none'\n",
              "          });\n",
              "          mathjax.Hub.Configured();\n",
              "        })();\n",
              "        </script>\n",
              "        "
            ],
            "text/plain": [
              "<IPython.core.display.HTML object>"
            ]
          },
          "metadata": {
            "tags": []
          }
        },
        {
          "output_type": "execute_result",
          "data": {
            "text/latex": "$$\\left[\\begin{matrix}e^{- t} \\cos{\\left (t \\right )} & e^{- t} \\sin{\\left (t \\right )}\\\\- e^{- t} \\sin{\\left (t \\right )} & e^{- t} \\cos{\\left (t \\right )}\\end{matrix}\\right]$$",
            "text/plain": [
              "⎡ -t           -t       ⎤\n",
              "⎢ℯ  ⋅cos(t)   ℯ  ⋅sin(t)⎥\n",
              "⎢                       ⎥\n",
              "⎢  -t          -t       ⎥\n",
              "⎣-ℯ  ⋅sin(t)  ℯ  ⋅cos(t)⎦"
            ]
          },
          "metadata": {
            "tags": []
          },
          "execution_count": 47
        }
      ]
    },
    {
      "cell_type": "code",
      "metadata": {
        "id": "TxK4XpzOQ-RK",
        "colab_type": "code",
        "colab": {
          "base_uri": "https://localhost:8080/",
          "height": 61
        },
        "outputId": "d70807e6-37b2-44a0-f6c7-9e3727f88b7f"
      },
      "source": [
        "x = eAt*Matrix([1,-2]) # e^{At} * (initial condition)\n",
        "x.simplify()"
      ],
      "execution_count": 48,
      "outputs": [
        {
          "output_type": "display_data",
          "data": {
            "text/html": [
              "\n",
              "        <script src=\"https://www.gstatic.com/external_hosted/mathjax/latest/MathJax.js?config=TeX-AMS_HTML-full,Safe&delayStartupUntil=configured\"></script>\n",
              "        <script>\n",
              "          (() => {\n",
              "            const mathjax = window.MathJax;\n",
              "            mathjax.Hub.Config({\n",
              "            'tex2jax': {\n",
              "              'inlineMath': [['$', '$'], ['\\(', '\\)']],\n",
              "              'displayMath': [['$$', '$$'], ['\\[', '\\]']],\n",
              "              'processEscapes': true,\n",
              "              'processEnvironments': true,\n",
              "              'skipTags': ['script', 'noscript', 'style', 'textarea', 'code'],\n",
              "              'displayAlign': 'center',\n",
              "            },\n",
              "            'HTML-CSS': {\n",
              "              'styles': {'.MathJax_Display': {'margin': 0}},\n",
              "              'linebreaks': {'automatic': true},\n",
              "              // Disable to prevent OTF font loading, which aren't part of our\n",
              "              // distribution.\n",
              "              'imageFont': null,\n",
              "            },\n",
              "            'messageStyle': 'none'\n",
              "          });\n",
              "          mathjax.Hub.Configured();\n",
              "        })();\n",
              "        </script>\n",
              "        "
            ],
            "text/plain": [
              "<IPython.core.display.HTML object>"
            ]
          },
          "metadata": {
            "tags": []
          }
        },
        {
          "output_type": "execute_result",
          "data": {
            "text/latex": "$$\\left[\\begin{matrix}\\left(- 2 \\sin{\\left (t \\right )} + \\cos{\\left (t \\right )}\\right) e^{- t}\\\\- \\left(\\sin{\\left (t \\right )} + 2 \\cos{\\left (t \\right )}\\right) e^{- t}\\end{matrix}\\right]$$",
            "text/plain": [
              "⎡                      -t⎤\n",
              "⎢(-2⋅sin(t) + cos(t))⋅ℯ  ⎥\n",
              "⎢                        ⎥\n",
              "⎢                      -t⎥\n",
              "⎣-(sin(t) + 2⋅cos(t))⋅ℯ  ⎦"
            ]
          },
          "metadata": {
            "tags": []
          },
          "execution_count": 48
        }
      ]
    },
    {
      "cell_type": "code",
      "metadata": {
        "id": "RXMVY0sPQ-RO",
        "colab_type": "code",
        "colab": {
          "base_uri": "https://localhost:8080/",
          "height": 399
        },
        "outputId": "637cf5e9-3544-427e-f91f-ead7be0c88d7"
      },
      "source": [
        "plotting.plot(x[0],x[1],(t,0,5));"
      ],
      "execution_count": 49,
      "outputs": [
        {
          "output_type": "stream",
          "text": [
            "/usr/local/lib/python3.6/dist-packages/sympy/plotting/plot.py:890: MatplotlibDeprecationWarning: \n",
            "The set_smart_bounds function was deprecated in Matplotlib 3.2 and will be removed two minor releases later.\n",
            "  self.ax.spines['left'].set_smart_bounds(True)\n",
            "/usr/local/lib/python3.6/dist-packages/sympy/plotting/plot.py:891: MatplotlibDeprecationWarning: \n",
            "The set_smart_bounds function was deprecated in Matplotlib 3.2 and will be removed two minor releases later.\n",
            "  self.ax.spines['bottom'].set_smart_bounds(False)\n"
          ],
          "name": "stderr"
        },
        {
          "output_type": "display_data",
          "data": {
            "image/png": "[encoded data removed]",
            "text/plain": [
              "<Figure size 432x288 with 1 Axes>"
            ]
          },
          "metadata": {
            "tags": []
          }
        }
      ]
    },
    {
      "cell_type": "markdown",
      "metadata": {
        "id": "_kjoLTw8Q-RT",
        "colab_type": "text"
      },
      "source": [
        "Jordan Form\n",
        "===\n",
        "\n",
        "Not all matrices can be diagonalized. This is because the matrix of eignvectors, which we use for $P$ and $P^{-1}$ may not be invertible. However, all matrices can be put into *Jordan* form. \n",
        "\n",
        "A *Jordan Block* of size $m$ and value $\\lambda$ is a matrix\n",
        "$J_m(\\lambda)$ having the value $\\lambda$ repeated along the main\n",
        "diagonal, ones along the superdiagonal and zeros everywhere else. For\n",
        "example:\n",
        "\n",
        "$$\n",
        "J_2(4) = \\begin{pmatrix} \n",
        "4 & 1 \\\\\n",
        "0 & 4\n",
        "\\end{pmatrix} \\;\\;\\;\\;\\;\\;\\; \\mathrm{and}\\;\\;\\;\\;\\;\\;\\;\n",
        "J_4(-\\frac{1}{2}) = \\begin{pmatrix}\n",
        "-\\frac{1}{2} & 1 & 0 & 0 \\\\\n",
        "0 & -\\frac{1}{2} & 1 & 0 \\\\\n",
        "0 & 0 & -\\frac{1}{2} & 1 \\\\\n",
        "0 & 0 & 0 & -\\frac{1}{2}\n",
        "\\end{pmatrix} .\n",
        "$$\n",
        "\n",
        "A Matrix is in *Jordan Form* is a block diagonal matrix consisting of several Jordan blocks. For example, \n",
        "we can form a Jordan Form from two copies of $J_2(4)$ and one copy of $J_4(-\\frac{1}{2})$ as follows.\n",
        "$$\n",
        "J = \\begin{pmatrix}\n",
        "J_2(4) & 0 & 0 \\\\\n",
        "0 & J_2(4) & 0 \\\\\n",
        "0&  0 & J_4(-\\frac{1}{2})\n",
        "\\end{pmatrix} = \\begin{pmatrix}\n",
        "4 & 1 & 0 & 0 & 0 & 0 & 0 & 0 \\\\\n",
        "0 & 4 & 0 & 0 & 0 & 0 & 0 & 0 \\\\\n",
        "0 & 0 & 4 & 1 & 0 & 0 & 0 & 0 \\\\\n",
        "0 & 0 & 0 & 4 & 0 & 0 & 0 & 0 \\\\\n",
        "0 & 0 & 0 & 0 & -\\frac{1}{2} & 1 & 0 & 0 \\\\\n",
        "0 & 0 & 0 & 0 & 0 & -\\frac{1}{2} & 1 & 0 \\\\\n",
        "0 & 0 & 0 & 0 & 0 & 0 & -\\frac{1}{2} & 1 \\\\\n",
        "0 & 0 & 0 & 0 & 0 & 0 & 0 & -\\frac{1}{2} \\\\\n",
        "\\end{pmatrix} .\n",
        "$$\n",
        "\n",
        "Notice that the eigenvalues and eigenvectors of a matrix in Jordan\n",
        "Form can be read off without your having to do any work.\n",
        "- The eigenvalues are along the main diagonal (this is true of any upper-triangular matrix).\n",
        "- Eigenvectors can be found on the columns at the beginning of each block.\n",
        "\n",
        "For example, in the above form $J$, we have the eigenvalues $\\lambda =\n",
        "1$ with multiplicity $4$ and $\\lambda = \\frac{1}{2}$ with multiplicity\n",
        "$4$. Furthermore, there are two eigenvectors associated with $\\lambda =\n",
        "1$, namely\n",
        "\n",
        "$$\n",
        "v_1 = \\begin{pmatrix}\n",
        "1 \\\\ 0 \\\\ 0 \\\\ 0 \\\\ 0 \\\\ 0 \\\\ 0 \\\\ 0\n",
        "\\end{pmatrix}, \\;\\;\n",
        "v_2 = \\begin{pmatrix}\n",
        "0 \\\\ 0 \\\\ 1 \\\\ 0 \\\\ 0 \\\\ 0 \\\\ 0 \\\\ 0\n",
        "\\end{pmatrix}\n",
        "$$\n",
        "\n",
        "and one eigenvector associated with the eigenvalue $\\lambda = - \\frac{1}{2}$, namely\n",
        "\n",
        "$$\n",
        "v_3 = \\begin{pmatrix}\n",
        "0 \\\\ 0 \\\\ 0 \\\\ 0 \\\\ 1 \\\\ 0 \\\\ 0 \\\\ 0\n",
        "\\end{pmatrix} .\n",
        "$$\n",
        "\n",
        "These choices are not unique: any two basis vectors for $\\mathrm{span} ( v_1, v_2 )$ can\n",
        "be chosen as the eigenvectors for $\\lambda = 1$ and any non-zero\n",
        "scalar multiple of $v_3$ can be chosen as the eigenvector for $\\lambda\n",
        "= - \\frac{1}{2}$.\n",
        "\n",
        "**Theorem**: Any matrix can be put into Jordan Form.\n",
        "\n",
        "We will not prove this statement in this course. However, [here](https://github.com/klavins/ECE447/blob/master/lectures/jordan-form.pdf) is a proof you can read if you are interested. \n",
        "\n",
        "You can use `sympy` to put matrices into Jordan form. For example:"
      ]
    },
    {
      "cell_type": "code",
      "metadata": {
        "id": "LSZHu6iZQ-RU",
        "colab_type": "code",
        "colab": {}
      },
      "source": [
        "A = Matrix([\n",
        "[ 5,  4,  2,  1],\n",
        "[ 0,  1, -1, -1],\n",
        "[-1, -1,  3,  0],\n",
        "[ 1,  1, -1,  2]])\n",
        "\n",
        "P,J = A.jordan_form()"
      ],
      "execution_count": 0,
      "outputs": []
    },
    {
      "cell_type": "code",
      "metadata": {
        "id": "A3CGlIRoQ-RY",
        "colab_type": "code",
        "colab": {
          "base_uri": "https://localhost:8080/",
          "height": 106
        },
        "outputId": "3a7fff07-3922-400d-ff3a-1c7268316933"
      },
      "source": [
        "J"
      ],
      "execution_count": 51,
      "outputs": [
        {
          "output_type": "display_data",
          "data": {
            "text/html": [
              "\n",
              "        <script src=\"https://www.gstatic.com/external_hosted/mathjax/latest/MathJax.js?config=TeX-AMS_HTML-full,Safe&delayStartupUntil=configured\"></script>\n",
              "        <script>\n",
              "          (() => {\n",
              "            const mathjax = window.MathJax;\n",
              "            mathjax.Hub.Config({\n",
              "            'tex2jax': {\n",
              "              'inlineMath': [['$', '$'], ['\\(', '\\)']],\n",
              "              'displayMath': [['$$', '$$'], ['\\[', '\\]']],\n",
              "              'processEscapes': true,\n",
              "              'processEnvironments': true,\n",
              "              'skipTags': ['script', 'noscript', 'style', 'textarea', 'code'],\n",
              "              'displayAlign': 'center',\n",
              "            },\n",
              "            'HTML-CSS': {\n",
              "              'styles': {'.MathJax_Display': {'margin': 0}},\n",
              "              'linebreaks': {'automatic': true},\n",
              "              // Disable to prevent OTF font loading, which aren't part of our\n",
              "              // distribution.\n",
              "              'imageFont': null,\n",
              "            },\n",
              "            'messageStyle': 'none'\n",
              "          });\n",
              "          mathjax.Hub.Configured();\n",
              "        })();\n",
              "        </script>\n",
              "        "
            ],
            "text/plain": [
              "<IPython.core.display.HTML object>"
            ]
          },
          "metadata": {
            "tags": []
          }
        },
        {
          "output_type": "execute_result",
          "data": {
            "text/latex": "$$\\left[\\begin{matrix}1 & 0 & 0 & 0\\\\0 & 2 & 0 & 0\\\\0 & 0 & 4 & 1\\\\0 & 0 & 0 & 4\\end{matrix}\\right]$$",
            "text/plain": [
              "⎡1  0  0  0⎤\n",
              "⎢          ⎥\n",
              "⎢0  2  0  0⎥\n",
              "⎢          ⎥\n",
              "⎢0  0  4  1⎥\n",
              "⎢          ⎥\n",
              "⎣0  0  0  4⎦"
            ]
          },
          "metadata": {
            "tags": []
          },
          "execution_count": 51
        }
      ]
    },
    {
      "cell_type": "code",
      "metadata": {
        "id": "45pQrYdCQ-Rb",
        "colab_type": "code",
        "colab": {
          "base_uri": "https://localhost:8080/",
          "height": 106
        },
        "outputId": "c50e9782-050e-41bb-bee6-39c0b74af810"
      },
      "source": [
        "P"
      ],
      "execution_count": 52,
      "outputs": [
        {
          "output_type": "display_data",
          "data": {
            "text/html": [
              "\n",
              "        <script src=\"https://www.gstatic.com/external_hosted/mathjax/latest/MathJax.js?config=TeX-AMS_HTML-full,Safe&delayStartupUntil=configured\"></script>\n",
              "        <script>\n",
              "          (() => {\n",
              "            const mathjax = window.MathJax;\n",
              "            mathjax.Hub.Config({\n",
              "            'tex2jax': {\n",
              "              'inlineMath': [['$', '$'], ['\\(', '\\)']],\n",
              "              'displayMath': [['$$', '$$'], ['\\[', '\\]']],\n",
              "              'processEscapes': true,\n",
              "              'processEnvironments': true,\n",
              "              'skipTags': ['script', 'noscript', 'style', 'textarea', 'code'],\n",
              "              'displayAlign': 'center',\n",
              "            },\n",
              "            'HTML-CSS': {\n",
              "              'styles': {'.MathJax_Display': {'margin': 0}},\n",
              "              'linebreaks': {'automatic': true},\n",
              "              // Disable to prevent OTF font loading, which aren't part of our\n",
              "              // distribution.\n",
              "              'imageFont': null,\n",
              "            },\n",
              "            'messageStyle': 'none'\n",
              "          });\n",
              "          mathjax.Hub.Configured();\n",
              "        })();\n",
              "        </script>\n",
              "        "
            ],
            "text/plain": [
              "<IPython.core.display.HTML object>"
            ]
          },
          "metadata": {
            "tags": []
          }
        },
        {
          "output_type": "execute_result",
          "data": {
            "text/latex": "$$\\left[\\begin{matrix}-1 & 1 & 1 & 1\\\\1 & -1 & 0 & 0\\\\0 & 0 & -1 & 0\\\\0 & 1 & 1 & 0\\end{matrix}\\right]$$",
            "text/plain": [
              "⎡-1  1   1   1⎤\n",
              "⎢             ⎥\n",
              "⎢1   -1  0   0⎥\n",
              "⎢             ⎥\n",
              "⎢0   0   -1  0⎥\n",
              "⎢             ⎥\n",
              "⎣0   1   1   0⎦"
            ]
          },
          "metadata": {
            "tags": []
          },
          "execution_count": 52
        }
      ]
    },
    {
      "cell_type": "code",
      "metadata": {
        "id": "RmxCeMiwQ-Rg",
        "colab_type": "code",
        "colab": {
          "base_uri": "https://localhost:8080/",
          "height": 106
        },
        "outputId": "93ba206d-c602-4c96-86c9-7e4f4a4fca6f"
      },
      "source": [
        "P*J*P.inv()"
      ],
      "execution_count": 53,
      "outputs": [
        {
          "output_type": "display_data",
          "data": {
            "text/html": [
              "\n",
              "        <script src=\"https://www.gstatic.com/external_hosted/mathjax/latest/MathJax.js?config=TeX-AMS_HTML-full,Safe&delayStartupUntil=configured\"></script>\n",
              "        <script>\n",
              "          (() => {\n",
              "            const mathjax = window.MathJax;\n",
              "            mathjax.Hub.Config({\n",
              "            'tex2jax': {\n",
              "              'inlineMath': [['$', '$'], ['\\(', '\\)']],\n",
              "              'displayMath': [['$$', '$$'], ['\\[', '\\]']],\n",
              "              'processEscapes': true,\n",
              "              'processEnvironments': true,\n",
              "              'skipTags': ['script', 'noscript', 'style', 'textarea', 'code'],\n",
              "              'displayAlign': 'center',\n",
              "            },\n",
              "            'HTML-CSS': {\n",
              "              'styles': {'.MathJax_Display': {'margin': 0}},\n",
              "              'linebreaks': {'automatic': true},\n",
              "              // Disable to prevent OTF font loading, which aren't part of our\n",
              "              // distribution.\n",
              "              'imageFont': null,\n",
              "            },\n",
              "            'messageStyle': 'none'\n",
              "          });\n",
              "          mathjax.Hub.Configured();\n",
              "        })();\n",
              "        </script>\n",
              "        "
            ],
            "text/plain": [
              "<IPython.core.display.HTML object>"
            ]
          },
          "metadata": {
            "tags": []
          }
        },
        {
          "output_type": "execute_result",
          "data": {
            "text/latex": "$$\\left[\\begin{matrix}5 & 4 & 2 & 1\\\\0 & 1 & -1 & -1\\\\-1 & -1 & 3 & 0\\\\1 & 1 & -1 & 2\\end{matrix}\\right]$$",
            "text/plain": [
              "⎡5   4   2   1 ⎤\n",
              "⎢              ⎥\n",
              "⎢0   1   -1  -1⎥\n",
              "⎢              ⎥\n",
              "⎢-1  -1  3   0 ⎥\n",
              "⎢              ⎥\n",
              "⎣1   1   -1  2 ⎦"
            ]
          },
          "metadata": {
            "tags": []
          },
          "execution_count": 53
        }
      ]
    },
    {
      "cell_type": "markdown",
      "metadata": {
        "id": "HJ7bvgZ3Q-Rl",
        "colab_type": "text"
      },
      "source": [
        "Matrix Exponential of a Jordan Block\n",
        "===\n",
        "\n",
        "The matrix exponential of a diagonal matrix is straightfoward to compute. However, with a Jordan block, the extra ones on the upper diagonal introduce new terms. Here is an example of what happens with a simple Jordan Block\n",
        "\n",
        "$$\n",
        "J = \\begin{pmatrix}\n",
        "-1 & 1 \\\\\n",
        " 0 & -1\n",
        "\\end{pmatrix}\n",
        "$$\n",
        "\n",
        "This matrix has a repeated eigenvalue (-1) and is not diagonalizable due to a one dimensional eigenspace.\n",
        "\n",
        "Using the definition of the matrix exponential, we compute:\n",
        "\n",
        "$$\n",
        "J^2 = \\begin{pmatrix}\n",
        "1 & -2 \\\\\n",
        " 0 & 1\n",
        "\\end{pmatrix}\n",
        "$$\n",
        "\n",
        "and\n",
        "\n",
        "$$\n",
        "J^2 = \\begin{pmatrix}\n",
        "-1 & 3 \\\\\n",
        " 0 & -1\n",
        "\\end{pmatrix} .\n",
        "$$\n",
        "\n",
        "You can see a pattern emerging. We have\n",
        "\n",
        "$$\n",
        "J^n = \\begin{pmatrix}\n",
        "(-1)^{n-1} & n(-1)^n \\\\\n",
        " 0 & (-1)^{n-1}\n",
        "\\end{pmatrix} .\n",
        "$$\n",
        "\n",
        "So the $1,1$ and $2,2$ entries of $e^{Jt}$ are \n",
        "\n",
        "$$\n",
        "1 + -t + \\frac{t^2}{2!} - \\frac{t^3}{3!} + \\frac{t^4}{4!} + ... = e^{-t}.\n",
        "$$\n",
        "\n",
        "And the $1,2$ entry is\n",
        "\n",
        "\\begin{align}\n",
        " & = 0 + t - 2\\frac{t^2}{2!} + 3\\frac{t^3}{3!} - 4\\frac{t^4}{4!} + ... \\\\ \n",
        " & = t \\left(\\ 1 - t + \\frac{t^2}{2!} - \\frac{t^3}{3!} + ... \\right) \\\\\n",
        " & = t e^{-t}.\n",
        "\\end{align}\n",
        "\n",
        "Thus,\n",
        "\n",
        "$$\n",
        "e^{Jt} = \\begin{pmatrix}\n",
        "e^{-t} & t e^{-t} \\\\\n",
        "0      & e^{-t}\n",
        "\\end{pmatrix} .\n",
        "$$"
      ]
    },
    {
      "cell_type": "markdown",
      "metadata": {
        "id": "-vslm2hOQ-Rl",
        "colab_type": "text"
      },
      "source": [
        "More generally, you can compute the matrix exponential larger Jordan blocks similarly to get"
      ]
    },
    {
      "cell_type": "code",
      "metadata": {
        "id": "ljf09lS4Q-Rm",
        "colab_type": "code",
        "colab": {
          "base_uri": "https://localhost:8080/",
          "height": 90
        },
        "outputId": "a21ce029-513f-4fee-d0c7-628fdfebecbe"
      },
      "source": [
        "var(\"a\")\n",
        "J = Matrix([\n",
        "    [a,1,0],\n",
        "    [0, a,1],\n",
        "    [0, 0 , a]\n",
        "])\n",
        "exp(J*t)"
      ],
      "execution_count": 54,
      "outputs": [
        {
          "output_type": "display_data",
          "data": {
            "text/html": [
              "\n",
              "        <script src=\"https://www.gstatic.com/external_hosted/mathjax/latest/MathJax.js?config=TeX-AMS_HTML-full,Safe&delayStartupUntil=configured\"></script>\n",
              "        <script>\n",
              "          (() => {\n",
              "            const mathjax = window.MathJax;\n",
              "            mathjax.Hub.Config({\n",
              "            'tex2jax': {\n",
              "              'inlineMath': [['$', '$'], ['\\(', '\\)']],\n",
              "              'displayMath': [['$$', '$$'], ['\\[', '\\]']],\n",
              "              'processEscapes': true,\n",
              "              'processEnvironments': true,\n",
              "              'skipTags': ['script', 'noscript', 'style', 'textarea', 'code'],\n",
              "              'displayAlign': 'center',\n",
              "            },\n",
              "            'HTML-CSS': {\n",
              "              'styles': {'.MathJax_Display': {'margin': 0}},\n",
              "              'linebreaks': {'automatic': true},\n",
              "              // Disable to prevent OTF font loading, which aren't part of our\n",
              "              // distribution.\n",
              "              'imageFont': null,\n",
              "            },\n",
              "            'messageStyle': 'none'\n",
              "          });\n",
              "          mathjax.Hub.Configured();\n",
              "        })();\n",
              "        </script>\n",
              "        "
            ],
            "text/plain": [
              "<IPython.core.display.HTML object>"
            ]
          },
          "metadata": {
            "tags": []
          }
        },
        {
          "output_type": "execute_result",
          "data": {
            "text/latex": "$$\\left[\\begin{matrix}e^{a t} & t e^{a t} & \\frac{t^{2}}{2} e^{a t}\\\\0 & e^{a t} & t e^{a t}\\\\0 & 0 & e^{a t}\\end{matrix}\\right]$$",
            "text/plain": [
              "⎡               2  a⋅t⎤\n",
              "⎢ a⋅t     a⋅t  t ⋅ℯ   ⎥\n",
              "⎢ℯ     t⋅ℯ     ───────⎥\n",
              "⎢                 2   ⎥\n",
              "⎢                     ⎥\n",
              "⎢        a⋅t      a⋅t ⎥\n",
              "⎢ 0     ℯ      t⋅ℯ    ⎥\n",
              "⎢                     ⎥\n",
              "⎢                a⋅t  ⎥\n",
              "⎣ 0      0      ℯ     ⎦"
            ]
          },
          "metadata": {
            "tags": []
          },
          "execution_count": 54
        }
      ]
    },
    {
      "cell_type": "code",
      "metadata": {
        "id": "qa8-SGwvQ-Rq",
        "colab_type": "code",
        "colab": {
          "base_uri": "https://localhost:8080/",
          "height": 121
        },
        "outputId": "75d2023d-0848-4ae2-ab10-099df44424c7"
      },
      "source": [
        "J = Matrix([\n",
        "    [a,1,0,0],\n",
        "    [0,a,1,0],\n",
        "    [0,0,a,1],\n",
        "    [0,0,0,a]\n",
        "])\n",
        "exp(J*t)"
      ],
      "execution_count": 55,
      "outputs": [
        {
          "output_type": "display_data",
          "data": {
            "text/html": [
              "\n",
              "        <script src=\"https://www.gstatic.com/external_hosted/mathjax/latest/MathJax.js?config=TeX-AMS_HTML-full,Safe&delayStartupUntil=configured\"></script>\n",
              "        <script>\n",
              "          (() => {\n",
              "            const mathjax = window.MathJax;\n",
              "            mathjax.Hub.Config({\n",
              "            'tex2jax': {\n",
              "              'inlineMath': [['$', '$'], ['\\(', '\\)']],\n",
              "              'displayMath': [['$$', '$$'], ['\\[', '\\]']],\n",
              "              'processEscapes': true,\n",
              "              'processEnvironments': true,\n",
              "              'skipTags': ['script', 'noscript', 'style', 'textarea', 'code'],\n",
              "              'displayAlign': 'center',\n",
              "            },\n",
              "            'HTML-CSS': {\n",
              "              'styles': {'.MathJax_Display': {'margin': 0}},\n",
              "              'linebreaks': {'automatic': true},\n",
              "              // Disable to prevent OTF font loading, which aren't part of our\n",
              "              // distribution.\n",
              "              'imageFont': null,\n",
              "            },\n",
              "            'messageStyle': 'none'\n",
              "          });\n",
              "          mathjax.Hub.Configured();\n",
              "        })();\n",
              "        </script>\n",
              "        "
            ],
            "text/plain": [
              "<IPython.core.display.HTML object>"
            ]
          },
          "metadata": {
            "tags": []
          }
        },
        {
          "output_type": "execute_result",
          "data": {
            "text/latex": "$$\\left[\\begin{matrix}e^{a t} & t e^{a t} & \\frac{t^{2}}{2} e^{a t} & \\frac{t^{3}}{6} e^{a t}\\\\0 & e^{a t} & t e^{a t} & \\frac{t^{2}}{2} e^{a t}\\\\0 & 0 & e^{a t} & t e^{a t}\\\\0 & 0 & 0 & e^{a t}\\end{matrix}\\right]$$",
            "text/plain": [
              "⎡               2  a⋅t   3  a⋅t⎤\n",
              "⎢ a⋅t     a⋅t  t ⋅ℯ     t ⋅ℯ   ⎥\n",
              "⎢ℯ     t⋅ℯ     ───────  ───────⎥\n",
              "⎢                 2        6   ⎥\n",
              "⎢                              ⎥\n",
              "⎢                        2  a⋅t⎥\n",
              "⎢        a⋅t      a⋅t   t ⋅ℯ   ⎥\n",
              "⎢ 0     ℯ      t⋅ℯ      ───────⎥\n",
              "⎢                          2   ⎥\n",
              "⎢                              ⎥\n",
              "⎢                a⋅t       a⋅t ⎥\n",
              "⎢ 0      0      ℯ       t⋅ℯ    ⎥\n",
              "⎢                              ⎥\n",
              "⎢                         a⋅t  ⎥\n",
              "⎣ 0      0        0      ℯ     ⎦"
            ]
          },
          "metadata": {
            "tags": []
          },
          "execution_count": 55
        }
      ]
    },
    {
      "cell_type": "markdown",
      "metadata": {
        "id": "IMeV8aZVQ-Rv",
        "colab_type": "text"
      },
      "source": [
        "And to compute the matrix exponential of an arbitrary matrix $A$, you just use the fact that there exist $P$ and $J$ in Jordan Form with $A = PJP^{-1}$. For example,"
      ]
    },
    {
      "cell_type": "code",
      "metadata": {
        "id": "tRQjJSv_Q-Rw",
        "colab_type": "code",
        "colab": {}
      },
      "source": [
        "A = Matrix([\n",
        "[ 5,  4,  2,  1],\n",
        "[ 0,  1, -1, -1],\n",
        "[-1, -1,  3,  0],\n",
        "[ 1,  1, -1,  2]])\n",
        "\n",
        "P,J = A.jordan_form()"
      ],
      "execution_count": 0,
      "outputs": []
    },
    {
      "cell_type": "code",
      "metadata": {
        "id": "15gG3EKNQ-Rz",
        "colab_type": "code",
        "colab": {
          "base_uri": "https://localhost:8080/",
          "height": 106
        },
        "outputId": "9d1adf14-e7e5-4d57-9b57-483c8daa3b9b"
      },
      "source": [
        "J"
      ],
      "execution_count": 57,
      "outputs": [
        {
          "output_type": "display_data",
          "data": {
            "text/html": [
              "\n",
              "        <script src=\"https://www.gstatic.com/external_hosted/mathjax/latest/MathJax.js?config=TeX-AMS_HTML-full,Safe&delayStartupUntil=configured\"></script>\n",
              "        <script>\n",
              "          (() => {\n",
              "            const mathjax = window.MathJax;\n",
              "            mathjax.Hub.Config({\n",
              "            'tex2jax': {\n",
              "              'inlineMath': [['$', '$'], ['\\(', '\\)']],\n",
              "              'displayMath': [['$$', '$$'], ['\\[', '\\]']],\n",
              "              'processEscapes': true,\n",
              "              'processEnvironments': true,\n",
              "              'skipTags': ['script', 'noscript', 'style', 'textarea', 'code'],\n",
              "              'displayAlign': 'center',\n",
              "            },\n",
              "            'HTML-CSS': {\n",
              "              'styles': {'.MathJax_Display': {'margin': 0}},\n",
              "              'linebreaks': {'automatic': true},\n",
              "              // Disable to prevent OTF font loading, which aren't part of our\n",
              "              // distribution.\n",
              "              'imageFont': null,\n",
              "            },\n",
              "            'messageStyle': 'none'\n",
              "          });\n",
              "          mathjax.Hub.Configured();\n",
              "        })();\n",
              "        </script>\n",
              "        "
            ],
            "text/plain": [
              "<IPython.core.display.HTML object>"
            ]
          },
          "metadata": {
            "tags": []
          }
        },
        {
          "output_type": "execute_result",
          "data": {
            "text/latex": "$$\\left[\\begin{matrix}1 & 0 & 0 & 0\\\\0 & 2 & 0 & 0\\\\0 & 0 & 4 & 1\\\\0 & 0 & 0 & 4\\end{matrix}\\right]$$",
            "text/plain": [
              "⎡1  0  0  0⎤\n",
              "⎢          ⎥\n",
              "⎢0  2  0  0⎥\n",
              "⎢          ⎥\n",
              "⎢0  0  4  1⎥\n",
              "⎢          ⎥\n",
              "⎣0  0  0  4⎦"
            ]
          },
          "metadata": {
            "tags": []
          },
          "execution_count": 57
        }
      ]
    },
    {
      "cell_type": "code",
      "metadata": {
        "id": "nYYYIf7YQ-R2",
        "colab_type": "code",
        "colab": {
          "base_uri": "https://localhost:8080/",
          "height": 108
        },
        "outputId": "48962fa4-c8de-4283-a942-65284106035f"
      },
      "source": [
        "exp(J*t)"
      ],
      "execution_count": 58,
      "outputs": [
        {
          "output_type": "display_data",
          "data": {
            "text/html": [
              "\n",
              "        <script src=\"https://www.gstatic.com/external_hosted/mathjax/latest/MathJax.js?config=TeX-AMS_HTML-full,Safe&delayStartupUntil=configured\"></script>\n",
              "        <script>\n",
              "          (() => {\n",
              "            const mathjax = window.MathJax;\n",
              "            mathjax.Hub.Config({\n",
              "            'tex2jax': {\n",
              "              'inlineMath': [['$', '$'], ['\\(', '\\)']],\n",
              "              'displayMath': [['$$', '$$'], ['\\[', '\\]']],\n",
              "              'processEscapes': true,\n",
              "              'processEnvironments': true,\n",
              "              'skipTags': ['script', 'noscript', 'style', 'textarea', 'code'],\n",
              "              'displayAlign': 'center',\n",
              "            },\n",
              "            'HTML-CSS': {\n",
              "              'styles': {'.MathJax_Display': {'margin': 0}},\n",
              "              'linebreaks': {'automatic': true},\n",
              "              // Disable to prevent OTF font loading, which aren't part of our\n",
              "              // distribution.\n",
              "              'imageFont': null,\n",
              "            },\n",
              "            'messageStyle': 'none'\n",
              "          });\n",
              "          mathjax.Hub.Configured();\n",
              "        })();\n",
              "        </script>\n",
              "        "
            ],
            "text/plain": [
              "<IPython.core.display.HTML object>"
            ]
          },
          "metadata": {
            "tags": []
          }
        },
        {
          "output_type": "execute_result",
          "data": {
            "text/latex": "$$\\left[\\begin{matrix}e^{t} & 0 & 0 & 0\\\\0 & e^{2 t} & 0 & 0\\\\0 & 0 & e^{4 t} & t e^{4 t}\\\\0 & 0 & 0 & e^{4 t}\\end{matrix}\\right]$$",
            "text/plain": [
              "⎡ t                    ⎤\n",
              "⎢ℯ    0     0      0   ⎥\n",
              "⎢                      ⎥\n",
              "⎢     2⋅t              ⎥\n",
              "⎢0   ℯ      0      0   ⎥\n",
              "⎢                      ⎥\n",
              "⎢           4⋅t     4⋅t⎥\n",
              "⎢0    0    ℯ     t⋅ℯ   ⎥\n",
              "⎢                      ⎥\n",
              "⎢                  4⋅t ⎥\n",
              "⎣0    0     0     ℯ    ⎦"
            ]
          },
          "metadata": {
            "tags": []
          },
          "execution_count": 58
        }
      ]
    },
    {
      "cell_type": "code",
      "metadata": {
        "id": "qi46WPPIQ-R7",
        "colab_type": "code",
        "colab": {
          "base_uri": "https://localhost:8080/",
          "height": 109
        },
        "outputId": "cefd0d15-a4cc-42d2-fe2d-74a4b6cc8729"
      },
      "source": [
        "P*exp(J*t)*P.inv()"
      ],
      "execution_count": 59,
      "outputs": [
        {
          "output_type": "display_data",
          "data": {
            "text/html": [
              "\n",
              "        <script src=\"https://www.gstatic.com/external_hosted/mathjax/latest/MathJax.js?config=TeX-AMS_HTML-full,Safe&delayStartupUntil=configured\"></script>\n",
              "        <script>\n",
              "          (() => {\n",
              "            const mathjax = window.MathJax;\n",
              "            mathjax.Hub.Config({\n",
              "            'tex2jax': {\n",
              "              'inlineMath': [['$', '$'], ['\\(', '\\)']],\n",
              "              'displayMath': [['$$', '$$'], ['\\[', '\\]']],\n",
              "              'processEscapes': true,\n",
              "              'processEnvironments': true,\n",
              "              'skipTags': ['script', 'noscript', 'style', 'textarea', 'code'],\n",
              "              'displayAlign': 'center',\n",
              "            },\n",
              "            'HTML-CSS': {\n",
              "              'styles': {'.MathJax_Display': {'margin': 0}},\n",
              "              'linebreaks': {'automatic': true},\n",
              "              // Disable to prevent OTF font loading, which aren't part of our\n",
              "              // distribution.\n",
              "              'imageFont': null,\n",
              "            },\n",
              "            'messageStyle': 'none'\n",
              "          });\n",
              "          mathjax.Hub.Configured();\n",
              "        })();\n",
              "        </script>\n",
              "        "
            ],
            "text/plain": [
              "<IPython.core.display.HTML object>"
            ]
          },
          "metadata": {
            "tags": []
          }
        },
        {
          "output_type": "execute_result",
          "data": {
            "text/latex": "$$\\left[\\begin{matrix}t e^{4 t} + e^{4 t} & t e^{4 t} + e^{4 t} - e^{t} & t e^{4 t} + e^{2 t} - e^{t} & e^{2 t} - e^{t}\\\\0 & e^{t} & - e^{2 t} + e^{t} & - e^{2 t} + e^{t}\\\\- t e^{4 t} & - t e^{4 t} & - t e^{4 t} + e^{4 t} & 0\\\\t e^{4 t} & t e^{4 t} & t e^{4 t} - e^{4 t} + e^{2 t} & e^{2 t}\\end{matrix}\\right]$$",
            "text/plain": [
              "⎡   4⋅t    4⋅t     4⋅t    4⋅t    t      4⋅t    2⋅t    t     2⋅t    t ⎤\n",
              "⎢t⋅ℯ    + ℯ     t⋅ℯ    + ℯ    - ℯ    t⋅ℯ    + ℯ    - ℯ     ℯ    - ℯ  ⎥\n",
              "⎢                                                                    ⎥\n",
              "⎢                        t                 2⋅t    t          2⋅t    t⎥\n",
              "⎢      0                ℯ               - ℯ    + ℯ        - ℯ    + ℯ ⎥\n",
              "⎢                                                                    ⎥\n",
              "⎢       4⋅t              4⋅t               4⋅t    4⋅t                ⎥\n",
              "⎢   -t⋅ℯ             -t⋅ℯ             - t⋅ℯ    + ℯ             0     ⎥\n",
              "⎢                                                                    ⎥\n",
              "⎢      4⋅t               4⋅t           4⋅t    4⋅t    2⋅t      2⋅t    ⎥\n",
              "⎣   t⋅ℯ               t⋅ℯ           t⋅ℯ    - ℯ    + ℯ        ℯ       ⎦"
            ]
          },
          "metadata": {
            "tags": []
          },
          "execution_count": 59
        }
      ]
    },
    {
      "cell_type": "code",
      "metadata": {
        "id": "xP02qk5WQ-SB",
        "colab_type": "code",
        "colab": {
          "base_uri": "https://localhost:8080/",
          "height": 109
        },
        "outputId": "7acc1506-4802-4047-b5b7-4fe57c05c341"
      },
      "source": [
        "exp(A*t)"
      ],
      "execution_count": 60,
      "outputs": [
        {
          "output_type": "display_data",
          "data": {
            "text/html": [
              "\n",
              "        <script src=\"https://www.gstatic.com/external_hosted/mathjax/latest/MathJax.js?config=TeX-AMS_HTML-full,Safe&delayStartupUntil=configured\"></script>\n",
              "        <script>\n",
              "          (() => {\n",
              "            const mathjax = window.MathJax;\n",
              "            mathjax.Hub.Config({\n",
              "            'tex2jax': {\n",
              "              'inlineMath': [['$', '$'], ['\\(', '\\)']],\n",
              "              'displayMath': [['$$', '$$'], ['\\[', '\\]']],\n",
              "              'processEscapes': true,\n",
              "              'processEnvironments': true,\n",
              "              'skipTags': ['script', 'noscript', 'style', 'textarea', 'code'],\n",
              "              'displayAlign': 'center',\n",
              "            },\n",
              "            'HTML-CSS': {\n",
              "              'styles': {'.MathJax_Display': {'margin': 0}},\n",
              "              'linebreaks': {'automatic': true},\n",
              "              // Disable to prevent OTF font loading, which aren't part of our\n",
              "              // distribution.\n",
              "              'imageFont': null,\n",
              "            },\n",
              "            'messageStyle': 'none'\n",
              "          });\n",
              "          mathjax.Hub.Configured();\n",
              "        })();\n",
              "        </script>\n",
              "        "
            ],
            "text/plain": [
              "<IPython.core.display.HTML object>"
            ]
          },
          "metadata": {
            "tags": []
          }
        },
        {
          "output_type": "execute_result",
          "data": {
            "text/latex": "$$\\left[\\begin{matrix}t e^{4 t} + e^{4 t} & t e^{4 t} + e^{4 t} - e^{t} & t e^{4 t} + e^{2 t} - e^{t} & e^{2 t} - e^{t}\\\\0 & e^{t} & - e^{2 t} + e^{t} & - e^{2 t} + e^{t}\\\\- t e^{4 t} & - t e^{4 t} & - t e^{4 t} + e^{4 t} & 0\\\\t e^{4 t} & t e^{4 t} & t e^{4 t} - e^{4 t} + e^{2 t} & e^{2 t}\\end{matrix}\\right]$$",
            "text/plain": [
              "⎡   4⋅t    4⋅t     4⋅t    4⋅t    t      4⋅t    2⋅t    t     2⋅t    t ⎤\n",
              "⎢t⋅ℯ    + ℯ     t⋅ℯ    + ℯ    - ℯ    t⋅ℯ    + ℯ    - ℯ     ℯ    - ℯ  ⎥\n",
              "⎢                                                                    ⎥\n",
              "⎢                        t                 2⋅t    t          2⋅t    t⎥\n",
              "⎢      0                ℯ               - ℯ    + ℯ        - ℯ    + ℯ ⎥\n",
              "⎢                                                                    ⎥\n",
              "⎢       4⋅t              4⋅t               4⋅t    4⋅t                ⎥\n",
              "⎢   -t⋅ℯ             -t⋅ℯ             - t⋅ℯ    + ℯ             0     ⎥\n",
              "⎢                                                                    ⎥\n",
              "⎢      4⋅t               4⋅t           4⋅t    4⋅t    2⋅t      2⋅t    ⎥\n",
              "⎣   t⋅ℯ               t⋅ℯ           t⋅ℯ    - ℯ    + ℯ        ℯ       ⎦"
            ]
          },
          "metadata": {
            "tags": []
          },
          "execution_count": 60
        }
      ]
    },
    {
      "cell_type": "markdown",
      "metadata": {
        "id": "GRnvxRl9Q-SF",
        "colab_type": "text"
      },
      "source": [
        "And the solution to the differential equation $\\dot x = Ax$ with initial condition $x(0)$ is"
      ]
    },
    {
      "cell_type": "code",
      "metadata": {
        "id": "vP-5r2DUQ-SG",
        "colab_type": "code",
        "colab": {
          "base_uri": "https://localhost:8080/",
          "height": 116
        },
        "outputId": "a9626b60-f864-4f04-8de6-69cadfaf583a"
      },
      "source": [
        "x01, x02, x03, x04 = var('x01 x02 x03 x04')\n",
        "x0 = Matrix([x01, x02, x03, x04])\n",
        "x = exp(A*t)*x0\n",
        "x.simplify()"
      ],
      "execution_count": 61,
      "outputs": [
        {
          "output_type": "display_data",
          "data": {
            "text/html": [
              "\n",
              "        <script src=\"https://www.gstatic.com/external_hosted/mathjax/latest/MathJax.js?config=TeX-AMS_HTML-full,Safe&delayStartupUntil=configured\"></script>\n",
              "        <script>\n",
              "          (() => {\n",
              "            const mathjax = window.MathJax;\n",
              "            mathjax.Hub.Config({\n",
              "            'tex2jax': {\n",
              "              'inlineMath': [['$', '$'], ['\\(', '\\)']],\n",
              "              'displayMath': [['$$', '$$'], ['\\[', '\\]']],\n",
              "              'processEscapes': true,\n",
              "              'processEnvironments': true,\n",
              "              'skipTags': ['script', 'noscript', 'style', 'textarea', 'code'],\n",
              "              'displayAlign': 'center',\n",
              "            },\n",
              "            'HTML-CSS': {\n",
              "              'styles': {'.MathJax_Display': {'margin': 0}},\n",
              "              'linebreaks': {'automatic': true},\n",
              "              // Disable to prevent OTF font loading, which aren't part of our\n",
              "              // distribution.\n",
              "              'imageFont': null,\n",
              "            },\n",
              "            'messageStyle': 'none'\n",
              "          });\n",
              "          mathjax.Hub.Configured();\n",
              "        })();\n",
              "        </script>\n",
              "        "
            ],
            "text/plain": [
              "<IPython.core.display.HTML object>"
            ]
          },
          "metadata": {
            "tags": []
          }
        },
        {
          "output_type": "execute_result",
          "data": {
            "text/latex": "$$\\left[\\begin{matrix}\\left(x_{01} \\left(t + 1\\right) e^{3 t} + x_{02} \\left(t e^{3 t} + e^{3 t} - 1\\right) + x_{03} \\left(t e^{3 t} + e^{t} - 1\\right) + x_{04} \\left(e^{t} - 1\\right)\\right) e^{t}\\\\\\left(x_{02} - x_{03} \\left(e^{t} - 1\\right) - x_{04} \\left(e^{t} - 1\\right)\\right) e^{t}\\\\\\left(- t x_{01} - t x_{02} - t x_{03} + x_{03}\\right) e^{4 t}\\\\\\left(t x_{01} e^{2 t} + t x_{02} e^{2 t} + x_{03} \\left(t e^{2 t} - e^{2 t} + 1\\right) + x_{04}\\right) e^{2 t}\\end{matrix}\\right]$$",
            "text/plain": [
              "⎡⎛             3⋅t       ⎛   3⋅t    3⋅t    ⎞       ⎛   3⋅t    t    ⎞       ⎛ t\n",
              "⎢⎝x₀₁⋅(t + 1)⋅ℯ    + x₀₂⋅⎝t⋅ℯ    + ℯ    - 1⎠ + x₀₃⋅⎝t⋅ℯ    + ℯ  - 1⎠ + x₀₄⋅⎝ℯ \n",
              "⎢                                                                             \n",
              "⎢                        ⎛          ⎛ t    ⎞       ⎛ t    ⎞⎞  t               \n",
              "⎢                        ⎝x₀₂ - x₀₃⋅⎝ℯ  - 1⎠ - x₀₄⋅⎝ℯ  - 1⎠⎠⋅ℯ                \n",
              "⎢                                                                             \n",
              "⎢                                                         4⋅t                 \n",
              "⎢                         (-t⋅x₀₁ - t⋅x₀₂ - t⋅x₀₃ + x₀₃)⋅ℯ                    \n",
              "⎢                                                                             \n",
              "⎢            ⎛       2⋅t          2⋅t       ⎛   2⋅t    2⋅t    ⎞      ⎞  2⋅t   \n",
              "⎣            ⎝t⋅x₀₁⋅ℯ    + t⋅x₀₂⋅ℯ    + x₀₃⋅⎝t⋅ℯ    - ℯ    + 1⎠ + x₀₄⎠⋅ℯ      \n",
              "\n",
              "    ⎞⎞  t⎤\n",
              " - 1⎠⎠⋅ℯ ⎥\n",
              "         ⎥\n",
              "         ⎥\n",
              "         ⎥\n",
              "         ⎥\n",
              "         ⎥\n",
              "         ⎥\n",
              "         ⎥\n",
              "         ⎥\n",
              "         ⎦"
            ]
          },
          "metadata": {
            "tags": []
          },
          "execution_count": 61
        }
      ]
    },
    {
      "cell_type": "code",
      "metadata": {
        "id": "AwXz4WjpQ-SK",
        "colab_type": "code",
        "colab": {
          "base_uri": "https://localhost:8080/",
          "height": 37
        },
        "outputId": "704ad603-5d58-490c-8aa0-eb2799347400"
      },
      "source": [
        "x = var(\"x\")\n",
        "x**2+2*x+1"
      ],
      "execution_count": 62,
      "outputs": [
        {
          "output_type": "display_data",
          "data": {
            "text/html": [
              "\n",
              "        <script src=\"https://www.gstatic.com/external_hosted/mathjax/latest/MathJax.js?config=TeX-AMS_HTML-full,Safe&delayStartupUntil=configured\"></script>\n",
              "        <script>\n",
              "          (() => {\n",
              "            const mathjax = window.MathJax;\n",
              "            mathjax.Hub.Config({\n",
              "            'tex2jax': {\n",
              "              'inlineMath': [['$', '$'], ['\\(', '\\)']],\n",
              "              'displayMath': [['$$', '$$'], ['\\[', '\\]']],\n",
              "              'processEscapes': true,\n",
              "              'processEnvironments': true,\n",
              "              'skipTags': ['script', 'noscript', 'style', 'textarea', 'code'],\n",
              "              'displayAlign': 'center',\n",
              "            },\n",
              "            'HTML-CSS': {\n",
              "              'styles': {'.MathJax_Display': {'margin': 0}},\n",
              "              'linebreaks': {'automatic': true},\n",
              "              // Disable to prevent OTF font loading, which aren't part of our\n",
              "              // distribution.\n",
              "              'imageFont': null,\n",
              "            },\n",
              "            'messageStyle': 'none'\n",
              "          });\n",
              "          mathjax.Hub.Configured();\n",
              "        })();\n",
              "        </script>\n",
              "        "
            ],
            "text/plain": [
              "<IPython.core.display.HTML object>"
            ]
          },
          "metadata": {
            "tags": []
          }
        },
        {
          "output_type": "execute_result",
          "data": {
            "text/latex": "$$x^{2} + 2 x + 1$$",
            "text/plain": [
              " 2          \n",
              "x  + 2⋅x + 1"
            ]
          },
          "metadata": {
            "tags": []
          },
          "execution_count": 62
        }
      ]
    },
    {
      "cell_type": "code",
      "metadata": {
        "id": "mzu98n3jQ-SM",
        "colab_type": "code",
        "colab": {}
      },
      "source": [
        ""
      ],
      "execution_count": 0,
      "outputs": []
    }
  ]
}