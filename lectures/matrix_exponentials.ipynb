{
 "cells": [
  {
   "cell_type": "markdown",
   "metadata": {},
   "source": [
    "ECE 447: Matrix Exponentials\n",
    "===\n",
    "In  which we solve linear ODEs once and for all.\n",
    "\n",
    "Prof. Eric Klavins\n",
    "\n",
    "&copy; 2019, University of Washington"
   ]
  },
  {
   "cell_type": "code",
   "execution_count": 1,
   "metadata": {},
   "outputs": [],
   "source": [
    "import numpy as np\n",
    "import scipy.integrate as spi\n",
    "import matplotlib.pyplot as plt\n",
    "from sympy import *\n",
    "init_printing(use_latex='mathjax')\n",
    "%matplotlib inline"
   ]
  },
  {
   "cell_type": "markdown",
   "metadata": {},
   "source": [
    "The General Solution to $\\dot x = Ax$\n",
    "===\n",
    "\n",
    "When $A \\in \\mathbb{R}^{n\\times n}$, then the we define $e^{At}$ by\n",
    "\n",
    "$$\n",
    "e^{At} \\triangleq I + At + \\frac{(At)^2}{2!} + \\frac{(At)^3}{3!} + \\dots\n",
    "$$\n",
    "\n",
    "It turns out that \n",
    "\n",
    "$$\n",
    "x(t) = e^{At}x(0)\n",
    "$$\n",
    "\n",
    "is the solution to $\\dot x = Ax$. This is because\n",
    "\n",
    "\\begin{align}\n",
    "\\frac{d}{dt}e^{At}x(0) & = \n",
    "\\frac{d}{dt}\\left(I + At + \\frac{(At)^2}{2!} + \\frac{(At)^3}{3!} + \\dots\\right)x(0) \\\\\n",
    " & = \\left(0 + A + A^2 t + \\frac{A^3t^2}{2!} + \\dots\\right)x(0) \\\\\n",
    " & = A \\left(I + A + + \\frac{(At)^2}{2!} + \\dots \\right)x(0) \\\\\n",
    " &= A e^{At} x(0) \\\\\n",
    " & = A x(t).\n",
    "\\end{align}\n",
    "\n",
    "We next explore what $e^{At}$ looks like for various types of matrices."
   ]
  },
  {
   "cell_type": "markdown",
   "metadata": {},
   "source": [
    "Diagonalizable Matrices\n",
    "===\n",
    "\n",
    "If $A$ is diagonalizable, then $A = P D P^{-1}$ for some $P$ and $D$. In this case,\n",
    "\n",
    "\\begin{align}\n",
    "e^{At} & = e^{PDP^{-1}t} \\\\\n",
    "       & = I + PDP^{-1}t + \\frac{(PDP^{-1}t)^2}{2!} + \\dots \\\\\n",
    "       & = I + PDP^{-1}t + \\frac{PDP^{-1}PDP^{-1}t^2}{2!} + \\dots \\\\\n",
    "       & = I + PDP^{-1}t + \\frac{PD^2P^{-1}t^2}{2!} + \\dots \\\\\n",
    "       & = P \\left(I + Dt + \\frac{D^2t^2}{2!} + \\dots \\right)P^{-1} \\\\\n",
    "       & = P e^{Dt} P^{-1}.\n",
    "\\end{align}\n",
    "\n",
    "Now, since $D$ is diagonal and of the form\n",
    "\n",
    "$$\n",
    "D = \\begin{pmatrix}\n",
    "\\lambda_1 & 0 \\\\\n",
    "0 & \\lambda_2\n",
    "\\end{pmatrix}\n",
    "$$\n",
    "\n",
    "it is clear that \n",
    "\n",
    "$$\n",
    "e^{Dt} = \\begin{pmatrix}\n",
    "e^{\\lambda_1t} & 0 \\\\\n",
    "0 & e^{\\lambda_2t}\n",
    "\\end{pmatrix} .\n",
    "$$\n",
    "\n",
    "Thus, figuring out $e^{At}$ is just matrix multiplication using $P e^{Dt} P^{-1}$.\n",
    "\n",
    "<span style=\"color: darkorange; border: 1pt solid darkorange; padding: 8px\">\n",
    "**NOTE**: In general, $e^{At}$ is **not** just the elementwise exponentials of the entries of $A$. \n",
    "</span>\n",
    "\n",
    "Example: Real Eigenvalues\n",
    "---"
   ]
  },
  {
   "cell_type": "code",
   "execution_count": 2,
   "metadata": {},
   "outputs": [
    {
     "name": "stdout",
     "output_type": "stream",
     "text": [
      "⎡-4  0 ⎤\n",
      "⎢      ⎥\n",
      "⎣0   -1⎦\n"
     ]
    },
    {
     "data": {
      "text/latex": [
       "$$\\left[\\begin{matrix}\\frac{1}{3} \\left(2 e^{3 t} + 1\\right) e^{- 4 t} & \\frac{1}{3} \\left(- 2 e^{3 t} + 2\\right) e^{- 4 t}\\\\\\frac{1}{3} \\left(- e^{3 t} + 1\\right) e^{- 4 t} & \\frac{1}{3} \\left(e^{3 t} + 2\\right) e^{- 4 t}\\end{matrix}\\right]$$"
      ],
      "text/plain": [
       "⎡⎛   3⋅t    ⎞  -4⋅t  ⎛     3⋅t    ⎞  -4⋅t⎤\n",
       "⎢⎝2⋅ℯ    + 1⎠⋅ℯ      ⎝- 2⋅ℯ    + 2⎠⋅ℯ    ⎥\n",
       "⎢──────────────────  ────────────────────⎥\n",
       "⎢        3                    3          ⎥\n",
       "⎢                                        ⎥\n",
       "⎢⎛   3⋅t    ⎞  -4⋅t    ⎛ 3⋅t    ⎞  -4⋅t  ⎥\n",
       "⎢⎝- ℯ    + 1⎠⋅ℯ        ⎝ℯ    + 2⎠⋅ℯ      ⎥\n",
       "⎢──────────────────    ────────────────  ⎥\n",
       "⎣        3                    3          ⎦"
      ]
     },
     "execution_count": 2,
     "metadata": {},
     "output_type": "execute_result"
    }
   ],
   "source": [
    "# Compute e^{At} using diagonalization method\n",
    "var(\"t\")\n",
    "A = Matrix([[-2,-2],[-1,-3]])\n",
    "P,D = A.diagonalize()\n",
    "pprint(D)\n",
    "eDt = Matrix([\n",
    "    [exp(D[0,0]*t), 0], \n",
    "    [0, exp(D[1,1]*t)]\n",
    "])\n",
    "eAt = P*eDt*P.inv()\n",
    "eAt.simplify()\n",
    "eAt"
   ]
  },
  {
   "cell_type": "code",
   "execution_count": 3,
   "metadata": {},
   "outputs": [
    {
     "data": {
      "text/latex": [
       "$$\\left[\\begin{matrix}\\frac{2}{3} e^{- t} + \\frac{1}{3} e^{- 4 t} & - \\frac{2}{3} e^{- t} + \\frac{2}{3} e^{- 4 t}\\\\- \\frac{e^{- t}}{3} + \\frac{1}{3} e^{- 4 t} & \\frac{e^{- t}}{3} + \\frac{2}{3} e^{- 4 t}\\end{matrix}\\right]$$"
      ],
      "text/plain": [
       "⎡   -t    -4⋅t       -t      -4⋅t⎤\n",
       "⎢2⋅ℯ     ℯ        2⋅ℯ     2⋅ℯ    ⎥\n",
       "⎢───── + ─────  - ───── + ───────⎥\n",
       "⎢  3       3        3        3   ⎥\n",
       "⎢                                ⎥\n",
       "⎢   -t    -4⋅t     -t      -4⋅t  ⎥\n",
       "⎢  ℯ     ℯ        ℯ     2⋅ℯ      ⎥\n",
       "⎢- ─── + ─────    ─── + ───────  ⎥\n",
       "⎣   3      3       3       3     ⎦"
      ]
     },
     "execution_count": 3,
     "metadata": {},
     "output_type": "execute_result"
    }
   ],
   "source": [
    "# Compute e^{At} using sympy's exp which, works on \n",
    "# matrices and probably does the same thing\n",
    "exp(A*t)"
   ]
  },
  {
   "cell_type": "code",
   "execution_count": 4,
   "metadata": {},
   "outputs": [
    {
     "data": {
      "text/latex": [
       "$$\\left[\\begin{matrix}2 e^{- t} - e^{- 4 t}\\\\- \\left(e^{3 t} + 1\\right) e^{- 4 t}\\end{matrix}\\right]$$"
      ],
      "text/plain": [
       "⎡     -t    -4⋅t  ⎤\n",
       "⎢  2⋅ℯ   - ℯ      ⎥\n",
       "⎢                 ⎥\n",
       "⎢ ⎛ 3⋅t    ⎞  -4⋅t⎥\n",
       "⎣-⎝ℯ    + 1⎠⋅ℯ    ⎦"
      ]
     },
     "execution_count": 4,
     "metadata": {},
     "output_type": "execute_result"
    }
   ],
   "source": [
    "# Find the solution to x' = Ax when x(0) = (1,-2)\n",
    "x = eAt*Matrix([1,-2])\n",
    "x.simplify()\n",
    "x"
   ]
  },
  {
   "cell_type": "code",
   "execution_count": 5,
   "metadata": {},
   "outputs": [
    {
     "data": {
      "image/png": "[encoded data removed]",
      "text/plain": [
       "<matplotlib.figure.Figure at 0x1175b64e0>"
      ]
     },
     "metadata": {},
     "output_type": "display_data"
    }
   ],
   "source": [
    "# Note, we are using sympy's plotting.plot method, and not numpy's method\n",
    "plotting.plot(x[0],x[1],(t,0,5));"
   ]
  },
  {
   "cell_type": "markdown",
   "metadata": {},
   "source": [
    "Sympy's symbols cannot be used with numpy.plt directly. First, you have to convert them into functions. To do this, you use `lambdify`. For example, to turn the expression $e^{-t}$ into a function that numpy can use, you do"
   ]
  },
  {
   "cell_type": "code",
   "execution_count": 6,
   "metadata": {
    "collapsed": true
   },
   "outputs": [],
   "source": [
    "f = lambdify(t,exp(-t), modules=['numpy'])"
   ]
  },
  {
   "cell_type": "markdown",
   "metadata": {},
   "source": [
    "You can now evaluate f for any t. For example:"
   ]
  },
  {
   "cell_type": "code",
   "execution_count": 7,
   "metadata": {},
   "outputs": [
    {
     "name": "stdout",
     "output_type": "stream",
     "text": [
      "1.0\n",
      "0.367879441171\n",
      "0.135335283237\n"
     ]
    }
   ],
   "source": [
    "print(f(0))\n",
    "print(f(1))\n",
    "print(f(2))"
   ]
  },
  {
   "cell_type": "markdown",
   "metadata": {},
   "source": [
    "So, to plot the above solution to $\\dot x = Ax$, we can do the following:"
   ]
  },
  {
   "cell_type": "code",
   "execution_count": 8,
   "metadata": {},
   "outputs": [
    {
     "data": {
      "image/png": "[encoded data removed]",
      "text/plain": [
       "<matplotlib.figure.Figure at 0x11a9d19e8>"
      ]
     },
     "metadata": {},
     "output_type": "display_data"
    }
   ],
   "source": [
    "# Using numpy. \n",
    "\n",
    "# First, turn xt into functions\n",
    "x = lambdify(t,x, modules=['numpy'])\n",
    "\n",
    "# then plot\n",
    "tvals = np.linspace(0,5,100)\n",
    "plt.plot(tvals,x(tvals)[0,0], label=\"$x_1(t)$\")\n",
    "plt.plot(tvals,x(tvals)[1,0], label=\"$x_2(t)$\")\n",
    "plt.xlabel(\"$t$\")\n",
    "plt.title(\"example linear system response\")\n",
    "plt.legend();"
   ]
  },
  {
   "cell_type": "markdown",
   "metadata": {},
   "source": [
    "Example: Imaginary Eigenvalues\n",
    "---\n",
    "As another example, consider a matrix with complex eigenvalues. This can be diagonalized, you just don't get a real matrix. "
   ]
  },
  {
   "cell_type": "code",
   "execution_count": 9,
   "metadata": {},
   "outputs": [
    {
     "data": {
      "text/latex": [
       "$$\\left[\\begin{matrix}-1 - i & 0\\\\0 & -1 + i\\end{matrix}\\right]$$"
      ],
      "text/plain": [
       "⎡-1 - ⅈ    0   ⎤\n",
       "⎢              ⎥\n",
       "⎣  0     -1 + ⅈ⎦"
      ]
     },
     "execution_count": 9,
     "metadata": {},
     "output_type": "execute_result"
    }
   ],
   "source": [
    "A = Matrix([[-1,1],[-1,-1]])\n",
    "P,D = A.diagonalize()\n",
    "D"
   ]
  },
  {
   "cell_type": "code",
   "execution_count": 10,
   "metadata": {},
   "outputs": [
    {
     "data": {
      "text/latex": [
       "$$\\left[\\begin{matrix}i & - i\\\\1 & 1\\end{matrix}\\right]$$"
      ],
      "text/plain": [
       "⎡ⅈ  -ⅈ⎤\n",
       "⎢     ⎥\n",
       "⎣1  1 ⎦"
      ]
     },
     "execution_count": 10,
     "metadata": {},
     "output_type": "execute_result"
    }
   ],
   "source": [
    "P"
   ]
  },
  {
   "cell_type": "code",
   "execution_count": 11,
   "metadata": {},
   "outputs": [
    {
     "data": {
      "text/latex": [
       "$$\\left[\\begin{matrix}\\frac{1}{2} e^{t \\left(-1 - i\\right)} + \\frac{1}{2} e^{t \\left(-1 + i\\right)} & \\frac{i}{2} e^{t \\left(-1 - i\\right)} - \\frac{i}{2} e^{t \\left(-1 + i\\right)}\\\\- \\frac{i}{2} e^{t \\left(-1 - i\\right)} + \\frac{i}{2} e^{t \\left(-1 + i\\right)} & \\frac{1}{2} e^{t \\left(-1 - i\\right)} + \\frac{1}{2} e^{t \\left(-1 + i\\right)}\\end{matrix}\\right]$$"
      ],
      "text/plain": [
       "⎡    t⋅(-1 - ⅈ)    t⋅(-1 + ⅈ)        t⋅(-1 - ⅈ)      t⋅(-1 + ⅈ)⎤\n",
       "⎢   ℯ             ℯ               ⅈ⋅ℯ             ⅈ⋅ℯ          ⎥\n",
       "⎢   ─────────── + ───────────     ───────────── - ─────────────⎥\n",
       "⎢        2             2                2               2      ⎥\n",
       "⎢                                                              ⎥\n",
       "⎢     t⋅(-1 - ⅈ)      t⋅(-1 + ⅈ)     t⋅(-1 - ⅈ)    t⋅(-1 + ⅈ)  ⎥\n",
       "⎢  ⅈ⋅ℯ             ⅈ⋅ℯ              ℯ             ℯ            ⎥\n",
       "⎢- ───────────── + ─────────────    ─────────── + ───────────  ⎥\n",
       "⎣        2               2               2             2       ⎦"
      ]
     },
     "execution_count": 11,
     "metadata": {},
     "output_type": "execute_result"
    }
   ],
   "source": [
    "eAt=P*exp(D*t)*P.inv()\n",
    "eAt"
   ]
  },
  {
   "cell_type": "code",
   "execution_count": 12,
   "metadata": {},
   "outputs": [
    {
     "data": {
      "text/latex": [
       "$$\\left[\\begin{matrix}e^{- t} \\cos{\\left (t \\right )} & e^{- t} \\sin{\\left (t \\right )}\\\\- e^{- t} \\sin{\\left (t \\right )} & e^{- t} \\cos{\\left (t \\right )}\\end{matrix}\\right]$$"
      ],
      "text/plain": [
       "⎡ -t           -t       ⎤\n",
       "⎢ℯ  ⋅cos(t)   ℯ  ⋅sin(t)⎥\n",
       "⎢                       ⎥\n",
       "⎢  -t          -t       ⎥\n",
       "⎣-ℯ  ⋅sin(t)  ℯ  ⋅cos(t)⎦"
      ]
     },
     "execution_count": 12,
     "metadata": {},
     "output_type": "execute_result"
    }
   ],
   "source": [
    "eAt = eAt.simplify() # Uses cos(t) = (e^{it} + e^{-it})/2\n",
    "eAt"
   ]
  },
  {
   "cell_type": "code",
   "execution_count": 13,
   "metadata": {},
   "outputs": [
    {
     "data": {
      "text/latex": [
       "$$\\left[\\begin{matrix}\\left(- 2 \\sin{\\left (t \\right )} + \\cos{\\left (t \\right )}\\right) e^{- t}\\\\- \\left(\\sin{\\left (t \\right )} + 2 \\cos{\\left (t \\right )}\\right) e^{- t}\\end{matrix}\\right]$$"
      ],
      "text/plain": [
       "⎡                      -t⎤\n",
       "⎢(-2⋅sin(t) + cos(t))⋅ℯ  ⎥\n",
       "⎢                        ⎥\n",
       "⎢                      -t⎥\n",
       "⎣-(sin(t) + 2⋅cos(t))⋅ℯ  ⎦"
      ]
     },
     "execution_count": 13,
     "metadata": {},
     "output_type": "execute_result"
    }
   ],
   "source": [
    "x = eAt*Matrix([1,-2])\n",
    "x.simplify()"
   ]
  },
  {
   "cell_type": "code",
   "execution_count": 14,
   "metadata": {},
   "outputs": [
    {
     "data": {
      "image/png": "[encoded data removed]",
      "text/plain": [
       "<matplotlib.figure.Figure at 0x11b9432e8>"
      ]
     },
     "metadata": {},
     "output_type": "display_data"
    }
   ],
   "source": [
    "plotting.plot(x[0],x[1],(t,0,5));"
   ]
  },
  {
   "cell_type": "code",
   "execution_count": null,
   "metadata": {
    "collapsed": true
   },
   "outputs": [],
   "source": []
  }
 ],
 "metadata": {
  "kernelspec": {
   "display_name": "Python 3",
   "language": "python",
   "name": "python3"
  },
  "language_info": {
   "codemirror_mode": {
    "name": "ipython",
    "version": 3
   },
   "file_extension": ".py",
   "mimetype": "text/x-python",
   "name": "python",
   "nbconvert_exporter": "python",
   "pygments_lexer": "ipython3",
   "version": "3.6.1"
  }
 },
 "nbformat": 4,
 "nbformat_minor": 2
}
