{
 "cells": [
  {
   "cell_type": "markdown",
   "metadata": {
    "heading_collapsed": true
   },
   "source": [
    "# ECE447 Control of a Gantry Crane\n",
    "\n",
    "Eric Klavins\n",
    "\n",
    "Copyright &copy; University of Washington, 2019"
   ]
  },
  {
   "cell_type": "markdown",
   "metadata": {
    "heading_collapsed": true
   },
   "source": [
    "# Code"
   ]
  },
  {
   "cell_type": "code",
   "execution_count": null,
   "metadata": {
    "collapsed": true,
    "hidden": true
   },
   "outputs": [],
   "source": [
    "import numpy as np\n",
    "import scipy.integrate as spi\n",
    "import matplotlib.pyplot as plt\n",
    "import matplotlib.patches as patches\n",
    "from sympy import *\n",
    "from matplotlib import animation\n",
    "from JSAnimation.IPython_display import display_animation\n",
    "from control import * \n",
    "\n",
    "%matplotlib inline\n",
    "\n",
    "# Comment out in Google colab \n",
    "init_printing(use_latex='mathjax')\n",
    "\n",
    "# Uncomment in below Google colab to render sympy equations nicely\n",
    "# def custom_latex_printer(exp,**options):\n",
    "#     from google.colab.output._publish import javascript\n",
    "#     url = \"https://cdnjs.cloudflare.com/ajax/libs/mathjax/2.7.3/latest.js?config=default\"\n",
    "#     javascript(url=url)\n",
    "#     return printing.latex(exp,**options)\n",
    "# init_printing(use_latex=\"mathjax\",latex_printer=custom_latex_printer)\n",
    "\n",
    "def chop(A, eps = 1e-10):\n",
    "\tB = np.copy(A)\n",
    "\tB[np.abs(A) < eps] = 0\n",
    "\treturn B"
   ]
  },
  {
   "cell_type": "markdown",
   "metadata": {
    "heading_collapsed": true
   },
   "source": [
    "# Equations of Motion"
   ]
  },
  {
   "cell_type": "markdown",
   "metadata": {
    "hidden": true
   },
   "source": [
    "Our goal in this section is to model a gantry crane.\n",
    "\n",
    "<img width=35% src=\"https://static.turbosquid.com/Preview/2015/05/30__03_50_17/Rubber_Tyred_Gantry_Cranes_00.jpgd524e095-1af7-4810-83ba-2b8fbcecc9f3Original.jpg\">\n",
    "\n",
    "A model of this system consists of a mass $m_1$ that can move horizontally, with a load $m_2$ attached via a stiff beam of length L swings like a pendulum.\n",
    "\n",
    "<img width=35% src=\"https://raw.githubusercontent.com/klavins/ECE447/master/images/gantry-crane.png\">\n",
    "\n",
    "To find the equations of motion of this system, we will use the Lagrangian method.\n",
    "\n",
    "**Kinetic Energy:** First we define the kinetic energy \n",
    "\n",
    "$$\n",
    "K = \\frac{1}{s}m_1 \\dot x^2  + \\frac{1}{s}m_2 \\left ( \\dot x_L^2 + \\dot y_L^2 \\right )\n",
    "$$\n",
    "\n",
    "where $x_L$ and $y_L$ are the position of the load, which are defined by\n",
    "\n",
    "$$\n",
    "x_L = x + L \\sin \\theta\n",
    "$$\n",
    "\n",
    "and\n",
    "\n",
    "$$\n",
    "y_L = -L\\cos\\theta)\n",
    "$$\n",
    "\n",
    "Thus, \n",
    "\n",
    "$$\n",
    "K = \\frac{1}{s}m_1 \\dot x^2  + \n",
    "    \\frac{1}{s}m_2 \\left ( \n",
    "        \\left ( \\frac{d}{dt} (x + L \\sin \\theta) \\right )^2 +\n",
    "        \\left ( \\frac{d}{dt} (L-L\\cos \\theta) \\right )^2 \\right )\n",
    "$$\n",
    "\n",
    "\n",
    "**Potential Energy:**: The potential energy of the system is given by\n",
    "\n",
    "$$\n",
    "U = mgy_L = mgL(1-\\cos\\theta).\n",
    "$$\n",
    "\n",
    "**The Lagrangian:** The Lagrangian is defined to be\n",
    "\n",
    "$$\n",
    "L = K-U\n",
    "$$\n",
    "\n",
    "and Lagrange's equations in this case are\n",
    "\n",
    "$$\n",
    "\\frac{d}{dt}\\frac{\\partial L}{\\partial \\dot x} - \\frac{\\partial L}{\\partial x} = \\mathrm{external\\;forces\\;on}\\;x\n",
    "$$\n",
    "\n",
    "and\n",
    "\n",
    "$$\n",
    "\\frac{d}{dt}\\frac{\\partial L}{\\partial \\dot \\theta} - \\frac{\\partial L}{\\partial \\theta} = \\mathrm{external\\;forces\\;on}\\;\\theta\n",
    "$$\n",
    "\n",
    "suppose that there is friction on the cart and pendulum, and that the control input is forces applied to the cart, we get\n",
    "\n",
    "$$\n",
    "\\frac{d}{dt}\\frac{\\partial L}{\\partial \\dot x} - \\frac{\\partial L}{\\partial x} = -k_1 \\dot x + u\n",
    "$$\n",
    "\n",
    "and\n",
    "\n",
    "$$\n",
    "\\frac{d}{dt}\\frac{\\partial L}{\\partial \\dot \\theta} - \\frac{\\partial L}{\\partial \\theta} = - k_2 \\dot \\theta\n",
    "$$\n",
    "\n",
    "Computing these equations is easier with some computer help."
   ]
  },
  {
   "cell_type": "code",
   "execution_count": null,
   "metadata": {
    "hidden": true
   },
   "outputs": [],
   "source": [
    "var(\"m g L x theta t m1 m2 k1 k2 u v omega q w uu\")\n",
    "\n",
    "xdot = diff(x(t),t)\n",
    "xddot = diff(xdot,t)\n",
    "xdddot = diff(xddot,t)\n",
    "\n",
    "thetadot = diff(theta(t),t)\n",
    "thetaddot = diff(thetadot,t)\n",
    "thetadddot = diff(thetaddot,t)\n",
    "\n",
    "U = m2*g*(L-L*cos(theta(t)))\n",
    "\n",
    "K = (1/2)*m1*diff(x(t),t)**2/2 +(1/2)*m2*(\n",
    "      diff(x(t)+L*sin(theta(t)),t)**2 +\n",
    "      diff((-L*cos(theta(t))),t)**2\n",
    "    )\n",
    "\n",
    "K = K.simplify()\n",
    "\n",
    "Lagrangian = K-U\n",
    "Lagrangian = Lagrangian.simplify()\n",
    "Lagrangian"
   ]
  },
  {
   "cell_type": "code",
   "execution_count": null,
   "metadata": {
    "hidden": true
   },
   "outputs": [],
   "source": [
    "# Apply Lagrange's equations, with external forces\n",
    "eq1 = diff(diff(Lagrangian,xdot),t)-diff(Lagrangian,x(t)) + k1*xdot - u\n",
    "eq2 = diff(diff(Lagrangian,thetadot),t)-diff(Lagrangian,theta(t)) + k2*thetadot\n",
    "eq1,eq2"
   ]
  },
  {
   "cell_type": "code",
   "execution_count": null,
   "metadata": {
    "hidden": true
   },
   "outputs": [],
   "source": [
    "# Now solve for x'' and theta''\n",
    "sol = solve([eq1,eq2],[xddot,thetaddot])\n",
    "sol"
   ]
  },
  {
   "cell_type": "code",
   "execution_count": null,
   "metadata": {
    "hidden": true
   },
   "outputs": [],
   "source": [
    "# Here, we replace the variables names, which are all functions of time, with just symbols\n",
    "# since subsequent calculations do not need the dependencies on time.\n",
    "# Note: order matters. Must do xdot before x, etc.\n",
    "sub = [            \n",
    "    (xdot,v),    \n",
    "    (x(t),x),\n",
    "    (thetadot,w),\n",
    "    (theta(t),q),\n",
    "]\n",
    "dv = sol[xddot].subs(sub)\n",
    "dw = sol[thetaddot].subs(sub)\n",
    "dv, dw"
   ]
  },
  {
   "cell_type": "markdown",
   "metadata": {
    "heading_collapsed": true
   },
   "source": [
    "# Simulation Viewers"
   ]
  },
  {
   "cell_type": "code",
   "execution_count": null,
   "metadata": {
    "collapsed": true,
    "hidden": true
   },
   "outputs": [],
   "source": [
    "def show_sim(tvals,X,title):\n",
    "    \n",
    "    fig,ax = plt.subplots(1,3,figsize=(15,5))\n",
    "\n",
    "    plots = ax[0].plot(tvals,X[:,0],tvals,X[:,1]);\n",
    "    ax[0].legend(plots, [\"$x$\", \"$v$\" ]);\n",
    "    ax[0].set_xlabel(\"$t$\")\n",
    "    ax[0].set_title(title + \"\\nPosition / Velocity\");\n",
    "\n",
    "    plots = ax[1].plot(tvals,X[:,2],tvals,X[:,3]);\n",
    "    ax[1].legend(plots, [\"$x$\", \"$v$\" ]);\n",
    "    ax[1].set_xlabel(\"$t$\")\n",
    "    ax[1].set_title(title + \"\\nAngle / Angular Velocity\");\n",
    "\n",
    "    ax[2].plot(tvals,X[:,0]+10*np.sin(X[:,2]));\n",
    "    ax[2].set_title(title + \"\\nLoad Position\")\n",
    "    ax[2].set_xlabel(\"$t$\")\n",
    "    ax[2].set_ylabel(\"$x(t)$\");\n",
    "    \n",
    "    return fig, ax\n",
    "\n",
    "def anim(X,title):\n",
    "    \n",
    "    # This function is only here so that all the variables below are local to it and\n",
    "    # we don't overwrite them as defined above.\n",
    "    \n",
    "    x = X[:,0][0]\n",
    "    q = X[:,2][0]\n",
    "    l = 10\n",
    "\n",
    "    xl = x+l*sin(q)\n",
    "    yl = -l*cos(q)\n",
    "\n",
    "    fig,ax = plt.subplots(1)\n",
    "\n",
    "    beam, = ax.plot([x,xl],[0,yl])\n",
    "    rail, = ax.plot([0,40],[0,0])\n",
    "    cart = patches.Rectangle((x-1,-1), 2,2)\n",
    "    load = patches.Circle((xl,yl), 1)\n",
    "\n",
    "    ax.add_patch(cart)\n",
    "    ax.add_patch(load)\n",
    "    ax.set_xlim(0,40)\n",
    "    ax.set_ylim(-15,5)\n",
    "    ax.set_aspect(1)\n",
    "    ax.set_title(title)\n",
    "\n",
    "    num_frames = len(X)\n",
    "\n",
    "    def animate(f):\n",
    "        x = X[:,0][f]\n",
    "        q = X[:,2][f] \n",
    "        xl = x+l*sin(q)\n",
    "        yl = -l*cos(q)\n",
    "        cart.set_xy((x-1,-1))\n",
    "        load.set_center((xl,yl))\n",
    "        beam.set_data([x,xl],[0,yl])\n",
    "        return [cart,load,beam]\n",
    "\n",
    "    anim = animation.FuncAnimation(fig, animate, frames=num_frames, interval=80)\n",
    "    return display_animation(anim, default_mode='loop')"
   ]
  },
  {
   "cell_type": "markdown",
   "metadata": {
    "heading_collapsed": true
   },
   "source": [
    "# Open Loop Simulation"
   ]
  },
  {
   "cell_type": "code",
   "execution_count": null,
   "metadata": {
    "hidden": true
   },
   "outputs": [],
   "source": [
    "params = [\n",
    "    (m1,1), (m2,0.1), (L,10), (k1,2), (k2,0.1), (g,9.81)\n",
    "]\n",
    "\n",
    "dynamics = lambdify([x,v,q,w,uu], [\n",
    "    v, \n",
    "    dv.subs(params).subs(u,uu),\n",
    "    w,\n",
    "    dw.subs(params).subs(u,uu)\n",
    "])\n",
    "\n",
    "output = lambdify([x,v,q,w], (x + 10*sin(q)).subs(params))\n",
    "\n",
    "def f_open_loop(X,t):\n",
    "    x,v,q,w = X\n",
    "    return dynamics(x,v,q,w,0)\n",
    "\n",
    "tvals = np.linspace(0,100,200)\n",
    "X = spi.odeint(f_open_loop,[15,5,0,0],tvals)\n",
    "\n",
    "show_sim(tvals, X, \"Open Loop Control\");"
   ]
  },
  {
   "cell_type": "code",
   "execution_count": null,
   "metadata": {
    "hidden": true
   },
   "outputs": [],
   "source": [
    "# Animation   \n",
    "anim(X, \"Open Loop Control\")"
   ]
  },
  {
   "cell_type": "markdown",
   "metadata": {
    "heading_collapsed": true
   },
   "source": [
    "# Linearization"
   ]
  },
  {
   "cell_type": "code",
   "execution_count": null,
   "metadata": {
    "hidden": true
   },
   "outputs": [],
   "source": [
    "# Linearize the system\n",
    "A = Matrix([\n",
    "    [0,1,0,0],\n",
    "    [diff(dv,x), diff(dv,v), diff(dv,q), diff(dv,w)],\n",
    "    [0,0,0,1],\n",
    "    [diff(dw,x), diff(dw,v), diff(dw,q), diff(dw,w)]\n",
    "]).subs([(x,0),(v,0),(q,0),(w,0)])\n",
    "B = Matrix([\n",
    "    [0],\n",
    "    [diff(dv,u)],\n",
    "    [0],\n",
    "    [diff(dw,u)]\n",
    "]).subs([(x,0),(v,0),(q,0),(w,0)])\n",
    "C = Matrix([[1,0,L,0]])\n",
    "print(\"Symbolic A, B and C\")\n",
    "A,B,C"
   ]
  },
  {
   "cell_type": "code",
   "execution_count": null,
   "metadata": {
    "hidden": true
   },
   "outputs": [],
   "source": [
    "AA = A.subs(params)\n",
    "BB = B.subs(params)\n",
    "CC = C.subs(params)\n",
    "print(\"Symbolic A, B and C with paramters substituted in\")\n",
    "AA,BB,CC"
   ]
  },
  {
   "cell_type": "code",
   "execution_count": null,
   "metadata": {
    "hidden": true
   },
   "outputs": [],
   "source": [
    "An = np.array(AA).astype(np.float64)\n",
    "Bn = np.array(BB).astype(np.float64)\n",
    "Cn = np.array(CC).astype(np.float64)\n",
    "print(\"Numeric A, B and C\")\n",
    "An,Bn,Cn"
   ]
  },
  {
   "cell_type": "code",
   "execution_count": null,
   "metadata": {
    "hidden": true
   },
   "outputs": [],
   "source": [
    "sys = ss(An, Bn, Cn, [[0]])\n",
    "Gtemp = tf(sys)\n",
    "Gtemp"
   ]
  },
  {
   "cell_type": "code",
   "execution_count": null,
   "metadata": {
    "hidden": true
   },
   "outputs": [],
   "source": [
    "# Redefine G to get rid of the almost zero coefficient which screws up later calculations\n",
    "G = tf(chop(Gtemp.num),chop(Gtemp.den))\n",
    "G"
   ]
  },
  {
   "cell_type": "markdown",
   "metadata": {
    "heading_collapsed": true
   },
   "source": [
    "# Root Locus More or Less Fails"
   ]
  },
  {
   "cell_type": "code",
   "execution_count": null,
   "metadata": {
    "hidden": true
   },
   "outputs": [],
   "source": [
    "var(\"s\")\n",
    "((s+2-I)*(s+2+I)*(s+10)).expand()"
   ]
  },
  {
   "cell_type": "code",
   "execution_count": null,
   "metadata": {
    "hidden": true
   },
   "outputs": [],
   "source": [
    "Gc = tf([1,1,1],[1])\n",
    "GcG = series(Gc,G)\n",
    "r,k = root_locus(GcG,xlim=(-5,5),ylim=(-4,4))"
   ]
  },
  {
   "cell_type": "markdown",
   "metadata": {
    "hidden": true
   },
   "source": [
    "Linear Simulation\n",
    "---"
   ]
  },
  {
   "cell_type": "code",
   "execution_count": null,
   "metadata": {
    "hidden": true
   },
   "outputs": [],
   "source": [
    "K = 0.1\n",
    "T = feedback(series(tf([K],[1]),GcG))\n",
    "poles = np.array2string(np.array([N(p,2) for p in pole(T)]))\n",
    "t,y=step_response(T,np.linspace(0,150,1000))\n",
    "plt.plot(t,y);\n",
    "plt.title(\"Step response of closed loop, linear model\\n\" + poles)\n",
    "plt.xlabel(\"$t$\")\n",
    "plt.xlabel(\"$y(t)$\")"
   ]
  },
  {
   "cell_type": "markdown",
   "metadata": {
    "hidden": true
   },
   "source": [
    "Simulation with nonlinear dynamics\n",
    "---"
   ]
  },
  {
   "cell_type": "code",
   "execution_count": null,
   "metadata": {
    "hidden": true
   },
   "outputs": [],
   "source": [
    "def f_closed_loop(X,t):\n",
    "    \n",
    "    x,v,q,w = X\n",
    "\n",
    "    y = output(x,v,q,w)\n",
    "    \n",
    "    # Control law goes here\n",
    "    K = 0.1\n",
    "    r = 30\n",
    "    e = r - y\n",
    "    u = K*e\n",
    "\n",
    "    return dynamics(x,v,q,w,u)\n",
    "\n",
    "tvals = np.linspace(0,100,200)\n",
    "X = spi.odeint(f_closed_loop,[15,0,0,0],tvals)\n",
    "\n",
    "show_sim(tvals, X, \"Closed Loop, Single Gain\");"
   ]
  },
  {
   "cell_type": "code",
   "execution_count": null,
   "metadata": {
    "hidden": true
   },
   "outputs": [],
   "source": [
    "anim(X, \"Closed Loop, Single Gain\")"
   ]
  },
  {
   "cell_type": "markdown",
   "metadata": {
    "heading_collapsed": true
   },
   "source": [
    "# Full State Feedback "
   ]
  },
  {
   "cell_type": "markdown",
   "metadata": {
    "hidden": true
   },
   "source": [
    "Conditioning the new input\n",
    "---\n",
    "\n",
    "To apply full state feedback to the model\n",
    "\n",
    "\\begin{align}\n",
    "\\dot\\x & = A \\x + B u \\\\\n",
    "y = C \\x\n",
    "\\end{align}\n",
    "\n",
    "using $u = -K \\x + r$ results in the closed loop model\n",
    "\n",
    "\\begin{align}\n",
    "\\dot\\x & = (A -BK) \\x + B r \\\\\n",
    "y = C \\x\n",
    "\\end{align}\n",
    "\n",
    "with $r$ as the new input. By setting the first equation to zero we can find the final value:\n",
    "\n",
    "\\begin{align}\n",
    "y^* & = - C(A-BK)^{-1}B r \\\\\n",
    "    & \\triangleq - \\kappa r\n",
    "\\end{align}\n",
    "\n",
    "If we would like $y^*$ to track the input, then we need to scale &mdash; or condition &mdash; $r$ by $- 1/\\kappa$. That is, we want \n",
    "\n",
    "$$\n",
    "r = - \\frac{1}{\\kappa} y^* .\n",
    "$$"
   ]
  },
  {
   "cell_type": "markdown",
   "metadata": {
    "hidden": true
   },
   "source": [
    "Gain Design\n",
    "---\n",
    "\n",
    "Choosing where the poles go depends on performance. A reasonable second order pair of poles plus two more negative poles should work."
   ]
  },
  {
   "cell_type": "code",
   "execution_count": null,
   "metadata": {
    "hidden": true
   },
   "outputs": [],
   "source": [
    "# Pole Placement\n",
    "K = place(An.tolist(),Bn.tolist(),[-1,-2,-3,-4])\n",
    "K"
   ]
  },
  {
   "cell_type": "code",
   "execution_count": null,
   "metadata": {
    "hidden": true
   },
   "outputs": [],
   "source": [
    "# Condition the input\n",
    "kappa = np.array(CC*(AA-BB*Matrix(K)).inv()*BB).astype(np.float64)[0,0]\n",
    "kappa"
   ]
  },
  {
   "cell_type": "code",
   "execution_count": null,
   "metadata": {
    "hidden": true
   },
   "outputs": [],
   "source": [
    "def goal(t):\n",
    "    return 30 if t < 50 else 15\n",
    "    \n",
    "def f_fsf(X,t):\n",
    "    \n",
    "    x,v,q,w = X\n",
    "    y = output(x,v,q,w)\n",
    "    \n",
    "    # Control Law\n",
    "    r = - (1/kappa) * goal(t)\n",
    "    u = - np.dot(K,X)[0] + r\n",
    "\n",
    "    return dynamics(x,v,q,w,u)\n",
    "\n",
    "tvals = np.linspace(0,100,200)\n",
    "X = spi.odeint(f_fsf,[15,0,0,0],tvals)\n",
    "\n",
    "show_sim(tvals, X, \"Full State Feedback\");"
   ]
  },
  {
   "cell_type": "code",
   "execution_count": null,
   "metadata": {
    "hidden": true
   },
   "outputs": [],
   "source": [
    "anim(X,\"Full State Feedback\")"
   ]
  },
  {
   "cell_type": "markdown",
   "metadata": {
    "collapsed": true,
    "heading_collapsed": true
   },
   "source": [
    "# Observer Design"
   ]
  },
  {
   "cell_type": "code",
   "execution_count": null,
   "metadata": {
    "hidden": true
   },
   "outputs": [],
   "source": [
    "Lobs = np.transpose(place(np.transpose(An),np.transpose(Cn),[-1+1j,-1-1j,-3,-4]))\n",
    "Lobs"
   ]
  },
  {
   "cell_type": "markdown",
   "metadata": {
    "hidden": true
   },
   "source": [
    "In the simulation below, we just use an arbitrary input $u = \\sin(\\omega t)$ to see if the estimated state can track the actual state."
   ]
  },
  {
   "cell_type": "code",
   "execution_count": null,
   "metadata": {
    "hidden": true
   },
   "outputs": [],
   "source": [
    "def f_observer(X,t):\n",
    "    \n",
    "    x,v,q,w = X[0:4]\n",
    "    y = output(x,v,q,w)\n",
    "    \n",
    "    xh,vh,qh,wh = X[4:8]\n",
    "    yh = output(xh,vh,qh,wh)\n",
    "    \n",
    "    u = 5 * np.sin(0.2*t)\n",
    "\n",
    "    dplant = dynamics(x,v,q,w,u)\n",
    "    dobs = np.matmul(An,[[xh],[vh],[qh],[wh]]) + Bn * u + Lobs * (y-yh)\n",
    "    \n",
    "    return np.append(dplant, dobs)\n",
    "\n",
    "tvals = np.linspace(0,100,200)\n",
    "X = spi.odeint(f_observer,[10,0,0,0,0,0,0,0],tvals)\n",
    "\n",
    "show_sim(tvals, X[:,0:4], \"State\");\n",
    "show_sim(tvals, X[:,4:8], \"Estimate\");\n",
    "show_sim(tvals, X[:,0:4] - X[:,4:8], \"Estimate Error\");"
   ]
  },
  {
   "cell_type": "code",
   "execution_count": null,
   "metadata": {
    "hidden": true
   },
   "outputs": [],
   "source": [
    "anim(X,\"Sine Wave Input\")"
   ]
  },
  {
   "cell_type": "markdown",
   "metadata": {
    "heading_collapsed": true
   },
   "source": [
    "# Full State Feedback with an Observer"
   ]
  },
  {
   "cell_type": "code",
   "execution_count": null,
   "metadata": {
    "collapsed": true,
    "hidden": true
   },
   "outputs": [],
   "source": [
    "# Place the poles\n",
    "K = place(An.tolist(),Bn.tolist(),[-0.35,-0.36,-3,-4])\n",
    "kappa = np.array(CC*(AA-BB*Matrix(K)).inv()*BB).astype(np.float64)[0,0]\n",
    "\n",
    "# Place the poles for the observer\n",
    "Lobs = np.transpose(place(np.transpose(An),np.transpose(Cn),[-2+0.01*1j,-2-0.01*1j,-10,-11]))"
   ]
  },
  {
   "cell_type": "code",
   "execution_count": null,
   "metadata": {
    "hidden": true
   },
   "outputs": [],
   "source": [
    "# Simulate\n",
    "\n",
    "def f_fsf_observer(X,t):\n",
    "    \n",
    "    x,v,q,w = X[0:4]\n",
    "    y = output(x,v,q,w)\n",
    "    \n",
    "    xh,vh,qh,wh = X[4:8]\n",
    "    yh = output(xh,vh,qh,wh)\n",
    "    \n",
    "    r = - (1/kappa) * goal(t) \n",
    "    u = - np.dot(K,[xh,vh,qh,wh])[0] + r\n",
    "    \n",
    "    dplant = dynamics(x,v,q,w,u)\n",
    "    dobs = np.matmul(An,[[xh],[vh],[qh],[wh]]) + Bn * u + Lobs * (y-yh)  \n",
    "    \n",
    "    return np.append(dplant, dobs)\n",
    "\n",
    "tvals = np.linspace(0,100,200)\n",
    "X = spi.odeint(f_fsf_observer,[15,0,0,0,15,0,0,0],tvals)\n",
    "\n",
    "show_sim(tvals, X[:,0:4], \"FSF + Observer, State and Output\");\n",
    "show_sim(tvals, X[:,4:8], \"FSF + Observer, Estimate\");\n",
    "show_sim(tvals, X[:,0:4] - X[:,4:8], \"FSF + Observer, Estimate Error\");"
   ]
  },
  {
   "cell_type": "code",
   "execution_count": null,
   "metadata": {
    "hidden": true
   },
   "outputs": [],
   "source": [
    "anim(X,\"FSF + Observer\")"
   ]
  },
  {
   "cell_type": "code",
   "execution_count": null,
   "metadata": {
    "collapsed": true,
    "hidden": true
   },
   "outputs": [],
   "source": []
  }
 ],
 "metadata": {
  "kernelspec": {
   "display_name": "Python 3",
   "language": "python",
   "name": "python3"
  },
  "language_info": {
   "codemirror_mode": {
    "name": "ipython",
    "version": 3
   },
   "file_extension": ".py",
   "mimetype": "text/x-python",
   "name": "python",
   "nbconvert_exporter": "python",
   "pygments_lexer": "ipython3",
   "version": "3.6.1"
  }
 },
 "nbformat": 4,
 "nbformat_minor": 2
}
