{
  "nbformat": 4,
  "nbformat_minor": 0,
  "metadata": {
    "colab": {
      "name": "HW_Sample",
      "provenance": [],
      "collapsed_sections": [],
      "authorship_tag": "ABX9TyO69o0HJKe8f4qEqSCDLu1Z",
      "include_colab_link": true
    },
    "kernelspec": {
      "name": "python3",
      "display_name": "Python 3"
    }
  },
  "cells": [
    {
      "cell_type": "markdown",
      "metadata": {
        "id": "view-in-github",
        "colab_type": "text"
      },
      "source": [
        "<a href=\"https://colab.research.google.com/github/christakahashi/ECE447/blob/master/lectures/HW_Sample.ipynb\" target=\"_parent\"><img src=\"https://colab.research.google.com/assets/colab-badge.svg\" alt=\"Open In Colab\"/></a>"
      ]
    },
    {
      "cell_type": "markdown",
      "metadata": {
        "id": "YHunXCV5BsQl",
        "colab_type": "text"
      },
      "source": [
        "# Homework sample\n",
        "A sample homework:\n",
        "\n",
        "**Your name here**\n",
        "\n",
        "**<span style=\"color: darkgreen\">Due (NEVER) (sample)</span>**\n",
        "\n",
        "**Instructions:** Make a copy of this notebook that you can edit and save. If you are using CoLab, that means clicking `File->Save` and then \"SAVE A COPY IN DRIVE\". Then, for each problem, insert your answers directly underneath the problem description as one or more `Code` or `Markdown` cells as appropriate. Every code cell should execute without errors. TAs and graders may not have resources to debug your code. When you are satisfied with your answers, save your notebook with with the title `ee447_hw1_yourlastname_yourfirstname.ipynb` and upload it to canvas. "
      ]
    },
    {
      "cell_type": "markdown",
      "metadata": {
        "id": "THrSgFkVCYCj",
        "colab_type": "text"
      },
      "source": [
        "## 1) Formatting Markdown Cells and Equations in Jupyter\n",
        "\n",
        "Copy the following into Markdown. \n",
        "\n",
        "A solution to $\\dot x(t) =ax(t)$ is $$x(t)=\\exp(at).$$\n",
        "\n",
        "----"
      ]
    },
    {
      "cell_type": "markdown",
      "metadata": {
        "id": "cY4alpV2GgRb",
        "colab_type": "text"
      },
      "source": [
        "## 2) Some simple python\n",
        "\n",
        "Write python code that computes (1+1)5.\n",
        "\n",
        "---- "
      ]
    }
  ]
}