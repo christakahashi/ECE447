{
 "cells": [
  {
   "cell_type": "markdown",
   "metadata": {},
   "source": [
    "EE447: Python Tools\n",
    "===\n",
    "Prof. Eric Klavins\n",
    "\n",
    "&copy; 2019, University of Washington\n",
    "\n",
    "Outline\n",
    "---\n",
    "* Jupyter Notebooks\n",
    "    * Google Colab\n",
    "    * Jupyter on your laptop\n",
    "    * Entering Text\n",
    "    * Equations\n",
    "    * Running Python Code\n",
    "* Lecture Notes\n",
    "    * Github\n",
    "    * Downloading notes\n",
    "    * Opening via Colab\n",
    "    * Saving a local copy on Google Drive\n",
    "* Preparing and Submitting Homework\n",
    "    * Saving to your homework to Google Drive\n",
    "    * Saving to a file\n",
    "    * Uploading to Canvas"
   ]
  },
  {
   "cell_type": "code",
   "execution_count": null,
   "metadata": {
    "collapsed": true
   },
   "outputs": [],
   "source": []
  }
 ],
 "metadata": {
  "kernelspec": {
   "display_name": "Python 3",
   "language": "python",
   "name": "python3"
  },
  "language_info": {
   "codemirror_mode": {
    "name": "ipython",
    "version": 3
   },
   "file_extension": ".py",
   "mimetype": "text/x-python",
   "name": "python",
   "nbconvert_exporter": "python",
   "pygments_lexer": "ipython3",
   "version": "3.6.1"
  }
 },
 "nbformat": 4,
 "nbformat_minor": 2
}
