{
 "cells": [
  {
   "cell_type": "markdown",
   "metadata": {},
   "source": [
    "EE447: Python Tools\n",
    "===\n",
    "Prof. Eric Klavins\n",
    "\n",
    "&copy; 2019, University of Washington"
   ]
  },
  {
   "cell_type": "markdown",
   "metadata": {
    "collapsed": true
   },
   "source": [
    "Jupyter Notebooks\n",
    "==="
   ]
  },
  {
   "cell_type": "markdown",
   "metadata": {},
   "source": [
    "[Google Colab](https://colab.research.google.com/)\n",
    "---\n",
    "\n",
    "An online Jupyter Notebook server you can use for this course, you just need a Google Account, which you have since your uw.edu account is managed by Google. \n",
    "- All of the links on Canvas will open Colab notebooks.\n",
    "- If you edit them, you can't save them, but you can **save a copy**.\n",
    "- Saving a copy will put the notebooks on your **Google Drive**. \n",
    "- You can also download them directly to your computer."
   ]
  },
  {
   "cell_type": "markdown",
   "metadata": {},
   "source": [
    "[Jupyter](https://jupyter.org/)\n",
    "---\n",
    "\n",
    "A set of software you can use to run Jupyter on your own computer. This may be more convenient for you, but also requires that you get Python and a number of libraries installed. It is up to you to see that this works.\n",
    "\n",
    "More resources on how to use Jupyter are here: https://jupyter.org/documentation"
   ]
  },
  {
   "cell_type": "markdown",
   "metadata": {},
   "source": [
    "Entering Rich Text\n",
    "---\n",
    "\n",
    "- Jupyter notebooks consist of \"cells\" that can be either `Code` or `Markdown`. You can choose which one by selecting the cell and using the menu at the top of the window. \n",
    "\n",
    "- A `Markdown` cell uses the [markdown language](https://github.com/adam-p/markdown-here/wiki/Markdown-Cheatsheet) which is very simple. See the link in the previous sentence for details.\n",
    "\n",
    "- Images can be included in Jupyter notebooks with Markdown as long as you have a URL for you image. \n",
    "    - You can make a diagram in [Google Drawing](https://docs.google.com/drawings)\n",
    "    - You can get a URL for it by clicking File > Publish to the web ...\n",
    "    - Then put your image into a Markdown cell with the syntax `![](https://url.of.your.image)`\n",
    "\n",
    "- Equations can be put in Markdown as well using [Latex](http://tug.ctan.org/info/undergradmath/undergradmath.pdf). Latex code is separated by dollar signs. For example, to write a differential equation you can, you can write \n",
    "\n",
    "    ```latex\n",
    "    $\\dot x = x^2 - 2x$\n",
    "    ```   \n",
    "    which will appear as\n",
    "    \n",
    "    &nbsp; &nbsp; &nbsp;  &nbsp; &nbsp; &nbsp; &nbsp; $\\dot x = x^2 - 2x$\n",
    "        \n",
    "    in the notebook."
   ]
  },
  {
   "cell_type": "markdown",
   "metadata": {},
   "source": [
    "Running Python Code\n",
    "---\n",
    "\n",
    "- To run Python code, just make a `Code` cell and enter in a valid Python expression. For example, the next cell containes the expression 1+1. To evaluate it, click the Run icon, or just press SHIFT-Enter.\n",
    "\n",
    "- You can reevaluate cells at any time. You can also delete their imput, or restart the whole notebook.\n",
    "\n",
    "- **Note:** The order in which expressions are evaluated is the order in which you evaluate the cells, which is not necessarily the order that they appear in the notebook.\n",
    "\n",
    "- **Note:** We will do an in-depth introduction to Python in the next lecture."
   ]
  },
  {
   "cell_type": "code",
   "execution_count": null,
   "metadata": {},
   "outputs": [],
   "source": [
    "1+1"
   ]
  },
  {
   "cell_type": "markdown",
   "metadata": {},
   "source": [
    "Plotting\n",
    "---\n",
    "We will make heavy use of the graphical features of Jupyter and Python. Just as an example, here is a cool plot you can make in Python of a neat dynamical system called the [Lorenz Attractor](https://en.wikipedia.org/wiki/Lorenz_system).\n",
    "\n",
    "**Note:** We will describe all of this syntax in later lectures. Don't worry about the details for now."
   ]
  },
  {
   "cell_type": "code",
   "execution_count": null,
   "metadata": {},
   "outputs": [],
   "source": [
    "import numpy as np                # Numerical algorithms and data structures library\n",
    "import scipy.integrate as spi     # Science tools, including ODE integrator\n",
    "import matplotlib.pyplot as plt   # Plotting library\n",
    "\n",
    "# Tell Jupyter to put images in the notebook\n",
    "%matplotlib inline                \n",
    "\n",
    "# Define a function f for use in a dynamical system x' = f(x)\n",
    "def lorenz(x,t):      \n",
    "  rho = 28.0;\n",
    "  sigma = 10.0;\n",
    "  beta = 8.0/3.0;\n",
    "  return [\n",
    "      sigma*(x[1]-x[0]),\n",
    "      x[0]*(rho-x[2])-x[1],\n",
    "      x[0]*x[1]-beta*x[2]\n",
    "  ]\n",
    "\n",
    "\n",
    "# Initial condition\n",
    "x0=[-6.27698658, -5.48099062, 25.55359834];\n",
    "\n",
    "# Set of values for time\n",
    "t = np.linspace(0., 30, 4000)\n",
    "\n",
    "# Integrate the equations over the time interval\n",
    "x = spi.odeint(lorenz,x0,t);\n",
    "\n",
    "# Plot the resulting trajectory\n",
    "fig, ax = plt.subplots(1, 1, figsize=(8,8))\n",
    "ax.plot(x[:,1],x[:,2],label=\"y(t) and z(t)\");\n",
    "ax.legend();"
   ]
  },
  {
   "cell_type": "markdown",
   "metadata": {},
   "source": [
    "Lecture Notes\n",
    "==="
   ]
  },
  {
   "cell_type": "markdown",
   "metadata": {},
   "source": [
    "- All lecture notes will be in Python notebooks and be linked to from [Canvas](https://canvas.uw.edu/courses/1313677).\n",
    "- The notes are stored in [Github](https://github.com/klavins/ECE447) along with other course materials. Github is a version control system used for software projects, books, courses, and other digitial documents that are designed iteratively.\n",
    "- You can click a link on Canvas, which will open the notebook in Colab. \n",
    "- You can download a copy of it from there.\n",
    "- You can also save a copy and edit it to your heart's content.\n",
    "- For fun, try to find the folder on your Google Drive where your notebooks are stored."
   ]
  },
  {
   "cell_type": "markdown",
   "metadata": {},
   "source": [
    "Homework Assignments\n",
    "---\n",
    "\n",
    "- All homework assignments are defined in Python notebooks on the [assignments page in Canvas](https://canvas.uw.edu/courses/1313677/assignments/4762562). \n",
    "- To do your homework, you should \n",
    "    - Open an assignment notebook\n",
    "    - Add the answers in with new cells for each answer right after the corresponding question\n",
    "    - Save a copy in your Google Drive\n",
    "    - Download a copy to your computer\n",
    "    - Upload a copy to Canvas when you turn in your homework\n",
    "- **Note**: Assignments are subject to change. The TA will attempt the homework and finalize it by the end of the day Tuesday, but you can of course start on it sooner than that."
   ]
  }
 ],
 "metadata": {
  "kernelspec": {
   "display_name": "Python 3",
   "language": "python",
   "name": "python3"
  },
  "language_info": {
   "codemirror_mode": {
    "name": "ipython",
    "version": 3
   },
   "file_extension": ".py",
   "mimetype": "text/x-python",
   "name": "python",
   "nbconvert_exporter": "python",
   "pygments_lexer": "ipython3",
   "version": "3.6.1"
  }
 },
 "nbformat": 4,
 "nbformat_minor": 2
}
