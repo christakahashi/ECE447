{
  "nbformat": 4,
  "nbformat_minor": 0,
  "metadata": {
    "colab": {
      "name": "Pole assignement in the S-domain",
      "provenance": [],
      "collapsed_sections": [],
      "authorship_tag": "ABX9TyPgH2Iy/1+IyQSVODD7rU7N",
      "include_colab_link": true
    },
    "kernelspec": {
      "name": "python3",
      "display_name": "Python 3"
    }
  },
  "cells": [
    {
      "cell_type": "markdown",
      "metadata": {
        "id": "view-in-github",
        "colab_type": "text"
      },
      "source": [
        "<a href=\"https://colab.research.google.com/github/christakahashi/ECE447/blob/master/lectures/Pole_assignement_in_the_S_domain.ipynb\" target=\"_parent\"><img src=\"https://colab.research.google.com/assets/colab-badge.svg\" alt=\"Open In Colab\"/></a>"
      ]
    },
    {
      "cell_type": "markdown",
      "metadata": {
        "id": "7nxS6AVQAa4q",
        "colab_type": "text"
      },
      "source": [
        "[link text](https://)EE447: Pole assignement in the S-domain\n",
        " \n",
        "Authored by Dr. Chris Takahashi© 2020, University of Washington"
      ]
    },
    {
      "cell_type": "code",
      "metadata": {
        "id": "gZRa_vrlAc78",
        "colab_type": "code",
        "outputId": "5fead041-c254-4f81-c788-1b94a669ba7d",
        "colab": {
          "base_uri": "https://localhost:8080/",
          "height": 204
        }
      },
      "source": [
        "!pip install control\n",
        "\n",
        "import numpy as np\n",
        "import scipy.integrate as spi\n",
        "import matplotlib.pyplot as plt\n",
        "import matplotlib.patches as patches\n",
        "from sympy import *\n",
        "from matplotlib import animation\n",
        "from control import *\n",
        "\n",
        "%matplotlib inline\n",
        "#comment out for light mode\n",
        "plt.style.use('dark_background')\n",
        "\n",
        "try: \n",
        "  import google.colab #test for colab\n",
        "  import IPython\n",
        "  def setup_typeset():\n",
        "    \"\"\"MathJax initialization for the current cell.\n",
        "    \n",
        "    This installs and configures MathJax for the current output.\n",
        "    \"\"\"\n",
        "    IPython.display.display(IPython.display.HTML('''\n",
        "        <script src=\"https://www.gstatic.com/external_hosted/mathjax/latest/MathJax.js?config=TeX-AMS_HTML-full,Safe&delayStartupUntil=configured\"></script>\n",
        "        <script>\n",
        "          (() => {\n",
        "            const mathjax = window.MathJax;\n",
        "            mathjax.Hub.Config({\n",
        "            'tex2jax': {\n",
        "              'inlineMath': [['$', '$'], ['\\\\(', '\\\\)']],\n",
        "              'displayMath': [['$$', '$$'], ['\\\\[', '\\\\]']],\n",
        "              'processEscapes': true,\n",
        "              'processEnvironments': true,\n",
        "              'skipTags': ['script', 'noscript', 'style', 'textarea', 'code'],\n",
        "              'displayAlign': 'center',\n",
        "            },\n",
        "            'HTML-CSS': {\n",
        "              'styles': {'.MathJax_Display': {'margin': 0}},\n",
        "              'linebreaks': {'automatic': true},\n",
        "              // Disable to prevent OTF font loading, which aren't part of our\n",
        "              // distribution.\n",
        "              'imageFont': null,\n",
        "            },\n",
        "            'messageStyle': 'none'\n",
        "          });\n",
        "          mathjax.Hub.Configured();\n",
        "        })();\n",
        "        </script>\n",
        "        '''))\n",
        "  def custom_latex_printer(exp,**options):\n",
        "      setup_typeset()\n",
        "      return printing.latex(exp,**options)\n",
        "  init_printing(use_latex=\"mathjax\",latex_printer=custom_latex_printer)\n",
        "except:\n",
        "  init_printing(use_latex='mathjax')"
      ],
      "execution_count": 2,
      "outputs": [
        {
          "output_type": "stream",
          "text": [
            "Requirement already satisfied: control in /usr/local/lib/python3.6/dist-packages (0.8.3)\n",
            "Requirement already satisfied: matplotlib in /usr/local/lib/python3.6/dist-packages (from control) (3.2.1)\n",
            "Requirement already satisfied: numpy in /usr/local/lib/python3.6/dist-packages (from control) (1.18.4)\n",
            "Requirement already satisfied: scipy in /usr/local/lib/python3.6/dist-packages (from control) (1.4.1)\n",
            "Requirement already satisfied: python-dateutil>=2.1 in /usr/local/lib/python3.6/dist-packages (from matplotlib->control) (2.8.1)\n",
            "Requirement already satisfied: cycler>=0.10 in /usr/local/lib/python3.6/dist-packages (from matplotlib->control) (0.10.0)\n",
            "Requirement already satisfied: pyparsing!=2.0.4,!=2.1.2,!=2.1.6,>=2.0.1 in /usr/local/lib/python3.6/dist-packages (from matplotlib->control) (2.4.7)\n",
            "Requirement already satisfied: kiwisolver>=1.0.1 in /usr/local/lib/python3.6/dist-packages (from matplotlib->control) (1.2.0)\n",
            "Requirement already satisfied: six>=1.5 in /usr/local/lib/python3.6/dist-packages (from python-dateutil>=2.1->matplotlib->control) (1.12.0)\n"
          ],
          "name": "stdout"
        }
      ]
    },
    {
      "cell_type": "markdown",
      "metadata": {
        "id": "6p8KYhsnBSlP",
        "colab_type": "text"
      },
      "source": [
        "Consider the standard feedback configuration\n",
        "![alt text](https://raw.githubusercontent.com/christakahashi/ECE447/master/images/standard_FB.png)\n",
        "\n",
        "with a strictly proper transfer function for the plant\n",
        "$$G_p(s)=\\frac{b_{n-1}s^{n-1}+b_{n-2}s^{n-2}+\\cdots+b_1s^1+b_0}{s^n+a_{n-1}s^{n-1}+a_{n-2}s^{n-2}+\\cdots+a_1s^1+a_0}$$ \n",
        "\n",
        " and a proper transferfunction for the controller\n",
        "$$\n",
        "G_c(s)=\\frac{d_rs^r + d_{r-1}s^{r-1}+d_{r-2}s^{r-2}+\\cdots+d_1s^1+d_0}{s^r+c_{r-1}s^{r-1}+c_{r-2}s^{r-2}+\\cdots+c_1s^1+c_0}\n",
        "$$\n",
        " with $r=n-1$.\n",
        "\n",
        "\n",
        "We can assign $n+r = 2n-1$ poles $\\left\\{ p^*_1,p^*_2,\\dots, p^*_{2n-1} \\right\\}$ to the closed loop system $T(s)$.  \n",
        "\n",
        "To see this consider $G_c(s)=N_c/D_c$ and $G_p(s)=N_p/D_p$ so,\n",
        "\n",
        "$$T(s)=\\frac{G_c(s)G_p(s)}{1+G_c(s)G_p(s)} = \\frac{N_p(s)N_c(s)}{N_p(s)N_c(s)+D_p(s)D_c(s)}$$\n",
        "\n",
        "so $T(s)$ has the characteristic polynomial $N_p(s)N_c(s)+D_p(s)D_c(s)$, which is an $2n-1$ degree and has can be set arbitrarilly by solving \n",
        "\n",
        "$$N_p(s)N_c(s)+D_p(s)D_c(s) = (s-p^*_1)(s-p^*_2)\\cdots(s-p^*_{2n-1})\n",
        "$$\n",
        "\n",
        " for $\\{d_r,d_{r-1},\\dots,d_0,c_{r-1},c_{r-2},\\dots,c_0\\}$.\n",
        "\n",
        "\n",
        "\n",
        "\n",
        "\n",
        "\n",
        "\n",
        "\n",
        "\n"
      ]
    },
    {
      "cell_type": "markdown",
      "metadata": {
        "id": "GHr0TkBbKxSe",
        "colab_type": "text"
      },
      "source": [
        "\n",
        "###Example\n",
        "Consider the plant\n",
        "$$G_p(s) = \\frac{s-1}{s(s-4)}$$\n",
        "and place poles at $-1,-2,-3$.  \n",
        "\n",
        "so $n=2$ and $r:=n-1=1$.\n",
        "\n",
        "$$G_c(s) = \\frac{d_1s+d_0}{s-c_0}$$\n",
        "\n",
        "$T(s)$ is:"
      ]
    },
    {
      "cell_type": "code",
      "metadata": {
        "id": "mCmcH3EELOk9",
        "colab_type": "code",
        "colab": {}
      },
      "source": [
        "var(\"s d0 d1 c0\")\n",
        "\n",
        "Gp = (s-1)/(s*(s-4))\n",
        "Gc = (d1*s+d0)/(s+c0)\n",
        "\n",
        "T =  (Gp*Gc/(1+Gp*Gc)).expand().simplify()\n",
        "T = collect(T,s)"
      ],
      "execution_count": 0,
      "outputs": []
    },
    {
      "cell_type": "markdown",
      "metadata": {
        "id": "VnIJF4EMNHuv",
        "colab_type": "text"
      },
      "source": [
        "with characteristic polynomial"
      ]
    },
    {
      "cell_type": "code",
      "metadata": {
        "id": "D-e0lteLNHcv",
        "colab_type": "code",
        "colab": {
          "base_uri": "https://localhost:8080/",
          "height": 38
        },
        "outputId": "a68a736e-a79b-417c-8090-472bbef7b4b2"
      },
      "source": [
        "n,d = fraction(T)\n",
        "d"
      ],
      "execution_count": 75,
      "outputs": [
        {
          "output_type": "display_data",
          "data": {
            "text/html": [
              "\n",
              "        <script src=\"https://www.gstatic.com/external_hosted/mathjax/latest/MathJax.js?config=TeX-AMS_HTML-full,Safe&delayStartupUntil=configured\"></script>\n",
              "        <script>\n",
              "          (() => {\n",
              "            const mathjax = window.MathJax;\n",
              "            mathjax.Hub.Config({\n",
              "            'tex2jax': {\n",
              "              'inlineMath': [['$', '$'], ['\\(', '\\)']],\n",
              "              'displayMath': [['$$', '$$'], ['\\[', '\\]']],\n",
              "              'processEscapes': true,\n",
              "              'processEnvironments': true,\n",
              "              'skipTags': ['script', 'noscript', 'style', 'textarea', 'code'],\n",
              "              'displayAlign': 'center',\n",
              "            },\n",
              "            'HTML-CSS': {\n",
              "              'styles': {'.MathJax_Display': {'margin': 0}},\n",
              "              'linebreaks': {'automatic': true},\n",
              "              // Disable to prevent OTF font loading, which aren't part of our\n",
              "              // distribution.\n",
              "              'imageFont': null,\n",
              "            },\n",
              "            'messageStyle': 'none'\n",
              "          });\n",
              "          mathjax.Hub.Configured();\n",
              "        })();\n",
              "        </script>\n",
              "        "
            ],
            "text/plain": [
              "<IPython.core.display.HTML object>"
            ]
          },
          "metadata": {
            "tags": []
          }
        },
        {
          "output_type": "execute_result",
          "data": {
            "text/latex": "$$- d_{0} + s^{3} + s^{2} \\left(c_{0} + d_{1} - 4\\right) + s \\left(- 4 c_{0} + d_{0} - d_{1}\\right)$$",
            "text/plain": [
              "       3    2                                    \n",
              "-d₀ + s  + s ⋅(c₀ + d₁ - 4) + s⋅(-4⋅c₀ + d₀ - d₁)"
            ]
          },
          "metadata": {
            "tags": []
          },
          "execution_count": 75
        }
      ]
    },
    {
      "cell_type": "code",
      "metadata": {
        "id": "4Ze3DlCsTOd2",
        "colab_type": "code",
        "colab": {
          "base_uri": "https://localhost:8080/",
          "height": 36
        },
        "outputId": "74156bc3-1921-4623-d2a7-3790eb921bc2"
      },
      "source": [
        "latex(((s+1)*(s+2)*(s+3)).expand())"
      ],
      "execution_count": 77,
      "outputs": [
        {
          "output_type": "execute_result",
          "data": {
            "text/plain": [
              "'s^{3} + 6 s^{2} + 11 s + 6'"
            ]
          },
          "metadata": {
            "tags": []
          },
          "execution_count": 77
        }
      ]
    },
    {
      "cell_type": "markdown",
      "metadata": {
        "id": "3Sku9S7rTN8v",
        "colab_type": "text"
      },
      "source": [
        "Solving\n",
        "\\begin{align}\n",
        "s^{3} + s^{2} \\left( c_{0} + d_{1} - 4\\right) + s \\left(-4 c_{0} + d_{0} - d_{1}\\right)- d_{0} &= (s+1)(s+2)(s+3) \\\\\n",
        "&= s^{3} + 6 s^{2} + 11 s + 6\n",
        "\\end{align}\n",
        "gives us"
      ]
    },
    {
      "cell_type": "code",
      "metadata": {
        "id": "KUQIxwwZUNHH",
        "colab_type": "code",
        "colab": {
          "base_uri": "https://localhost:8080/",
          "height": 36
        },
        "outputId": "b5b84a2f-9074-4293-a844-99d7f1610352"
      },
      "source": [
        "charpoly = (s+1)*(s+2)*(s+3)\n",
        "soln = solve(d-charpoly,[c0,d0,d1])\n",
        "soln"
      ],
      "execution_count": 78,
      "outputs": [
        {
          "output_type": "display_data",
          "data": {
            "text/html": [
              "\n",
              "        <script src=\"https://www.gstatic.com/external_hosted/mathjax/latest/MathJax.js?config=TeX-AMS_HTML-full,Safe&delayStartupUntil=configured\"></script>\n",
              "        <script>\n",
              "          (() => {\n",
              "            const mathjax = window.MathJax;\n",
              "            mathjax.Hub.Config({\n",
              "            'tex2jax': {\n",
              "              'inlineMath': [['$', '$'], ['\\(', '\\)']],\n",
              "              'displayMath': [['$$', '$$'], ['\\[', '\\]']],\n",
              "              'processEscapes': true,\n",
              "              'processEnvironments': true,\n",
              "              'skipTags': ['script', 'noscript', 'style', 'textarea', 'code'],\n",
              "              'displayAlign': 'center',\n",
              "            },\n",
              "            'HTML-CSS': {\n",
              "              'styles': {'.MathJax_Display': {'margin': 0}},\n",
              "              'linebreaks': {'automatic': true},\n",
              "              // Disable to prevent OTF font loading, which aren't part of our\n",
              "              // distribution.\n",
              "              'imageFont': null,\n",
              "            },\n",
              "            'messageStyle': 'none'\n",
              "          });\n",
              "          mathjax.Hub.Configured();\n",
              "        })();\n",
              "        </script>\n",
              "        "
            ],
            "text/plain": [
              "<IPython.core.display.HTML object>"
            ]
          },
          "metadata": {
            "tags": []
          }
        },
        {
          "output_type": "execute_result",
          "data": {
            "text/latex": "$$\\left \\{ c_{0} : -9, \\quad d_{0} : -6, \\quad d_{1} : 19\\right \\}$$",
            "text/plain": [
              "{c₀: -9, d₀: -6, d₁: 19}"
            ]
          },
          "metadata": {
            "tags": []
          },
          "execution_count": 78
        }
      ]
    },
    {
      "cell_type": "markdown",
      "metadata": {
        "id": "Mtv0fM-LUaed",
        "colab_type": "text"
      },
      "source": [
        "which gives us the controller:\n",
        "$$Gc(s) = \\frac{19 s - 6}{s - 9} $$"
      ]
    },
    {
      "cell_type": "code",
      "metadata": {
        "id": "KuFCnfuUUXMD",
        "colab_type": "code",
        "colab": {
          "base_uri": "https://localhost:8080/",
          "height": 54
        },
        "outputId": "011af896-a140-41bb-feaa-76c23afb23f1"
      },
      "source": [
        "Gc.subs(soln)"
      ],
      "execution_count": 79,
      "outputs": [
        {
          "output_type": "display_data",
          "data": {
            "text/html": [
              "\n",
              "        <script src=\"https://www.gstatic.com/external_hosted/mathjax/latest/MathJax.js?config=TeX-AMS_HTML-full,Safe&delayStartupUntil=configured\"></script>\n",
              "        <script>\n",
              "          (() => {\n",
              "            const mathjax = window.MathJax;\n",
              "            mathjax.Hub.Config({\n",
              "            'tex2jax': {\n",
              "              'inlineMath': [['$', '$'], ['\\(', '\\)']],\n",
              "              'displayMath': [['$$', '$$'], ['\\[', '\\]']],\n",
              "              'processEscapes': true,\n",
              "              'processEnvironments': true,\n",
              "              'skipTags': ['script', 'noscript', 'style', 'textarea', 'code'],\n",
              "              'displayAlign': 'center',\n",
              "            },\n",
              "            'HTML-CSS': {\n",
              "              'styles': {'.MathJax_Display': {'margin': 0}},\n",
              "              'linebreaks': {'automatic': true},\n",
              "              // Disable to prevent OTF font loading, which aren't part of our\n",
              "              // distribution.\n",
              "              'imageFont': null,\n",
              "            },\n",
              "            'messageStyle': 'none'\n",
              "          });\n",
              "          mathjax.Hub.Configured();\n",
              "        })();\n",
              "        </script>\n",
              "        "
            ],
            "text/plain": [
              "<IPython.core.display.HTML object>"
            ]
          },
          "metadata": {
            "tags": []
          }
        },
        {
          "output_type": "execute_result",
          "data": {
            "text/latex": "$$\\frac{19 s - 6}{s - 9}$$",
            "text/plain": [
              "19⋅s - 6\n",
              "────────\n",
              " s - 9  "
            ]
          },
          "metadata": {
            "tags": []
          },
          "execution_count": 79
        }
      ]
    },
    {
      "cell_type": "markdown",
      "metadata": {
        "id": "OvTa-Md4UydT",
        "colab_type": "text"
      },
      "source": [
        "Check solution:"
      ]
    },
    {
      "cell_type": "code",
      "metadata": {
        "id": "bAB7NG92VKmJ",
        "colab_type": "code",
        "colab": {
          "base_uri": "https://localhost:8080/",
          "height": 299
        },
        "outputId": "db818f77-5c3c-4bb8-d003-a259ca86886f"
      },
      "source": [
        "Gp = tf([1,-1],[1,-4,0])\n",
        "Gc = tf([19,-6],[1,-9])\n",
        "roots,K = root_locus(Gp*Gc,xlim=(-5,10));\n",
        "ind = np.where(K>0.9995)[0][0] \n",
        "K[ind]\n",
        "polesK1 = plt.plot(np.real(roots[ind]), np.imag(roots[ind]),'xr',label=\"K=1\")\n",
        "plt.legend( )"
      ],
      "execution_count": 109,
      "outputs": [
        {
          "output_type": "execute_result",
          "data": {
            "text/plain": [
              "<matplotlib.legend.Legend at 0x7f8e324380b8>"
            ]
          },
          "metadata": {
            "tags": []
          },
          "execution_count": 109
        },
        {
          "output_type": "display_data",
          "data": {
            "image/png": "[encoded data removed]",
            "text/plain": [
              "<Figure size 432x288 with 1 Axes>"
            ]
          },
          "metadata": {
            "tags": []
          }
        }
      ]
    },
    {
      "cell_type": "code",
      "metadata": {
        "id": "EjyoLStuX0gI",
        "colab_type": "code",
        "colab": {
          "base_uri": "https://localhost:8080/",
          "height": 34
        },
        "outputId": "609f811a-86eb-47a0-a387-db04c761cf66"
      },
      "source": [
        "\n"
      ],
      "execution_count": 101,
      "outputs": [
        {
          "output_type": "display_data",
          "data": {
            "text/html": [
              "\n",
              "        <script src=\"https://www.gstatic.com/external_hosted/mathjax/latest/MathJax.js?config=TeX-AMS_HTML-full,Safe&delayStartupUntil=configured\"></script>\n",
              "        <script>\n",
              "          (() => {\n",
              "            const mathjax = window.MathJax;\n",
              "            mathjax.Hub.Config({\n",
              "            'tex2jax': {\n",
              "              'inlineMath': [['$', '$'], ['\\(', '\\)']],\n",
              "              'displayMath': [['$$', '$$'], ['\\[', '\\]']],\n",
              "              'processEscapes': true,\n",
              "              'processEnvironments': true,\n",
              "              'skipTags': ['script', 'noscript', 'style', 'textarea', 'code'],\n",
              "              'displayAlign': 'center',\n",
              "            },\n",
              "            'HTML-CSS': {\n",
              "              'styles': {'.MathJax_Display': {'margin': 0}},\n",
              "              'linebreaks': {'automatic': true},\n",
              "              // Disable to prevent OTF font loading, which aren't part of our\n",
              "              // distribution.\n",
              "              'imageFont': null,\n",
              "            },\n",
              "            'messageStyle': 'none'\n",
              "          });\n",
              "          mathjax.Hub.Configured();\n",
              "        })();\n",
              "        </script>\n",
              "        "
            ],
            "text/plain": [
              "<IPython.core.display.HTML object>"
            ]
          },
          "metadata": {
            "tags": []
          }
        },
        {
          "output_type": "execute_result",
          "data": {
            "text/latex": "$$0.9997654262641237$$",
            "text/plain": [
              "0.9997654262641237"
            ]
          },
          "metadata": {
            "tags": []
          },
          "execution_count": 101
        }
      ]
    },
    {
      "cell_type": "code",
      "metadata": {
        "id": "Lm6e1vvBaU4E",
        "colab_type": "code",
        "colab": {
          "base_uri": "https://localhost:8080/",
          "height": 34
        },
        "outputId": "9e96068c-d394-4c0e-deab-a9a620e8c267"
      },
      "source": [
        ""
      ],
      "execution_count": 98,
      "outputs": [
        {
          "output_type": "display_data",
          "data": {
            "text/html": [
              "\n",
              "        <script src=\"https://www.gstatic.com/external_hosted/mathjax/latest/MathJax.js?config=TeX-AMS_HTML-full,Safe&delayStartupUntil=configured\"></script>\n",
              "        <script>\n",
              "          (() => {\n",
              "            const mathjax = window.MathJax;\n",
              "            mathjax.Hub.Config({\n",
              "            'tex2jax': {\n",
              "              'inlineMath': [['$', '$'], ['\\(', '\\)']],\n",
              "              'displayMath': [['$$', '$$'], ['\\[', '\\]']],\n",
              "              'processEscapes': true,\n",
              "              'processEnvironments': true,\n",
              "              'skipTags': ['script', 'noscript', 'style', 'textarea', 'code'],\n",
              "              'displayAlign': 'center',\n",
              "            },\n",
              "            'HTML-CSS': {\n",
              "              'styles': {'.MathJax_Display': {'margin': 0}},\n",
              "              'linebreaks': {'automatic': true},\n",
              "              // Disable to prevent OTF font loading, which aren't part of our\n",
              "              // distribution.\n",
              "              'imageFont': null,\n",
              "            },\n",
              "            'messageStyle': 'none'\n",
              "          });\n",
              "          mathjax.Hub.Configured();\n",
              "        })();\n",
              "        </script>\n",
              "        "
            ],
            "text/plain": [
              "<IPython.core.display.HTML object>"
            ]
          },
          "metadata": {
            "tags": []
          }
        },
        {
          "output_type": "execute_result",
          "data": {
            "text/latex": "$$0.9993233818905446$$",
            "text/plain": [
              "0.9993233818905446"
            ]
          },
          "metadata": {
            "tags": []
          },
          "execution_count": 98
        }
      ]
    },
    {
      "cell_type": "code",
      "metadata": {
        "id": "PURu8BnsaWCm",
        "colab_type": "code",
        "colab": {}
      },
      "source": [
        ""
      ],
      "execution_count": 0,
      "outputs": []
    }
  ]
}