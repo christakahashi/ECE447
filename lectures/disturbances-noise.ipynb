{
 "cells": [
  {
   "cell_type": "markdown",
   "metadata": {},
   "source": [
    "ECE 447: Disturbances and Noise\n",
    "===\n",
    "\n",
    "Prof. Eric Klavins\n",
    "\n",
    "&copy; 2019, University of Washington"
   ]
  },
  {
   "cell_type": "markdown",
   "metadata": {
    "heading_collapsed": true
   },
   "source": [
    "# Code"
   ]
  },
  {
   "cell_type": "code",
   "execution_count": 2,
   "metadata": {
    "collapsed": true,
    "hidden": true
   },
   "outputs": [],
   "source": [
    "import numpy as np\n",
    "import scipy.integrate as spi\n",
    "from scipy.optimize import leastsq\n",
    "import matplotlib.pyplot as plt\n",
    "from sympy import *\n",
    "\n",
    "%matplotlib inline\n",
    "\n",
    "# Comment out in Google colab \n",
    "init_printing(use_latex='mathjax')\n",
    "\n",
    "# Uncomment in below Google colab to render sympy equations nicely\n",
    "# def custom_latex_printer(exp,**options):\n",
    "#     from google.colab.output._publish import javascript\n",
    "#     url = \"https://cdnjs.cloudflare.com/ajax/libs/mathjax/2.7.3/latest.js?config=default\"\n",
    "#     javascript(url=url)\n",
    "#     return printing.latex(exp,**options)\n",
    "# init_printing(use_latex=\"mathjax\",latex_printer=custom_latex_printer)"
   ]
  },
  {
   "cell_type": "markdown",
   "metadata": {
    "heading_collapsed": true
   },
   "source": [
    "# Disturbances and Noise"
   ]
  },
  {
   "cell_type": "markdown",
   "metadata": {
    "hidden": true
   },
   "source": [
    "<img width=57.5% src=\"https://raw.githubusercontent.com/klavins/ECE447/master/images/blocks-with-dist-and-noise.png\">\n",
    "\n",
    "Disturbances are modeled as being added to the input of the system. Noise is modeled as being added to the output."
   ]
  },
  {
   "cell_type": "markdown",
   "metadata": {},
   "source": [
    "# Example Disturbance Analysis"
   ]
  },
  {
   "cell_type": "markdown",
   "metadata": {},
   "source": [
    "Suppose we have the following system modeling a rocket's velocity control:\n",
    "\n",
    "<img width=60% src=\"https://raw.githubusercontent.com/klavins/ECE447/master/images/rocket-disturb.png\">\n",
    "\n",
    "And we would like to know what happens if the rocket's efficiency drops by one unit after the rocket has arrived target output. In particular, we want to know\n",
    "\n",
    "- What is the effect on the steady state?\n",
    "- What is the transient effect of a sudden change in efficiency?\n",
    "\n",
    "Modeling the input $R(s)$ as a step input $1/s$, we can figure out the output $Y(s)$ in terms of $D(s)$. \n",
    "\n",
    "\\begin{align}\n",
    "Y(s) & = \\frac{1}{s}\\left(D(s) + \\left(K_p + \\frac{K_I}{s}\\right)E \\right) \\\\\n",
    "     & = \\frac{1}{s}\\left(D(s) + \\left(K_p + \\frac{K_I}{s}\\right)\\left(R(s)-Y(s)\\right) \\right) \\\\\n",
    "     & = \\frac{1}{s}\\left(D(s) + \\left(K_p + \\frac{K_I}{s}\\right)\\left(\\frac{1}{s}-Y(s)\\right) \\right)\n",
    "\\end{align}\n",
    "\n",
    "Solving for $Y(s)$ gives\n",
    "\n",
    "$$\n",
    "Y(s) = \\frac{s D(s) + K_p + K_I/s}{s^2 + K_ps + K_I}\n",
    "$$\n",
    "\n",
    "**Effect on Steady State:**\n",
    "\n",
    "Using the final value theorem:\n",
    "\n",
    "$$\n",
    "y(\\infty) = \\lim_{s \\rightarrow 0} sY(s) = \\frac{K_I}{K_I} = 1 .\n",
    "$$\n",
    "\n",
    "That's the magic of integral control!\n",
    "\n",
    "**Effect on the Transient:**\n",
    "\n",
    "To answer this question, we need to the solution in time. To obtain this, let's find the transfer function $Y(s)/R(s)$. We get:\n",
    "\n",
    "$$\n",
    "\\frac{Y(s)}{R(s)} = \\frac{K_ps+K_I}{s^2+K_ps+K_I}\n",
    "$$\n",
    "\n",
    "Using phase canonical form, we get \n",
    "\n",
    "$$\n",
    "\\dot \\x = \\begin{pmatrix}\n",
    "-K_p & K_I \\\\\n",
    "-1 & 0\n",
    "\\end{pmatrix} \\x + \\begin{pmatrix}\n",
    "0 \\\\\n",
    "1\n",
    "\\end{pmatrix} u\n",
    "$$\n",
    "\n",
    "$$\n",
    "y = ( 1 \\;\\; 0 ) \\; \\x\n",
    "$$\n",
    "\n",
    "To add the disturbance in, we add another input directly to x\n",
    "\n",
    "$$\n",
    "\\dot \\x = \\begin{pmatrix}\n",
    "-K_p & K_I \\\\\n",
    "-1 & 0\n",
    "\\end{pmatrix} \\x + \\begin{pmatrix}\n",
    "0 & 1 \\\\\n",
    "1 & 0\n",
    "\\end{pmatrix} \\begin{pmatrix}\n",
    "u \\\\\n",
    "d\n",
    "\\end{pmatrix}\n",
    "$$\n",
    "\n",
    "To design a controller for this, we need to choose the eigenvalues by tuning $K_p$ and $K_I$. "
   ]
  },
  {
   "cell_type": "code",
   "execution_count": 104,
   "metadata": {},
   "outputs": [
    {
     "data": {
      "text/latex": [
       "$$\\left \\{ - \\frac{Kp}{2} - \\frac{1}{2} \\sqrt{- 4 Ki + Kp^{2}} : 1, \\quad - \\frac{Kp}{2} + \\frac{1}{2} \\sqrt{- 4 Ki + Kp^{2}} : 1\\right \\}$$"
      ],
      "text/plain": [
       "⎧          _____________               _____________   ⎫\n",
       "⎪         ╱           2               ╱           2    ⎪\n",
       "⎨  Kp   ╲╱  -4⋅Ki + Kp         Kp   ╲╱  -4⋅Ki + Kp     ⎬\n",
       "⎪- ── - ────────────────: 1, - ── + ────────────────: 1⎪\n",
       "⎩  2           2               2           2           ⎭"
      ]
     },
     "execution_count": 104,
     "metadata": {},
     "output_type": "execute_result"
    }
   ],
   "source": [
    "var(\"s Ki Kp t tau\")\n",
    "A = Matrix([\n",
    "  [-Kp, Ki],\n",
    "  [-1,0],    \n",
    "])\n",
    "B = Matrix([\n",
    "    [0,1],\n",
    "    [1,0]])\n",
    "C = Matrix([[1,0]])\n",
    "\n",
    "A.eigenvals()"
   ]
  },
  {
   "cell_type": "code",
   "execution_count": 105,
   "metadata": {},
   "outputs": [
    {
     "name": "stderr",
     "output_type": "stream",
     "text": [
      "/anaconda/lib/python3.6/site-packages/numpy/core/numeric.py:538: ComplexWarning: Casting complex values to real discards the imaginary part\n",
      "  return array(a, dtype, copy=False, order=order)\n"
     ]
    },
    {
     "data": {
      "text/plain": [
       "<matplotlib.legend.Legend at 0x127c32160>"
      ]
     },
     "execution_count": 105,
     "metadata": {},
     "output_type": "execute_result"
    },
    {
     "data": {
      "image/png": "[encoded data removed]",
      "text/plain": [
       "<matplotlib.figure.Figure at 0x1273e8588>"
      ]
     },
     "metadata": {},
     "output_type": "display_data"
    }
   ],
   "source": [
    "u = 1\n",
    "d = 1\n",
    "input = Matrix([[u],[d]])\n",
    "x0 = Matrix([[1],[1]]) # Choose x so that system is at \n",
    "                       # steady state to start\n",
    " \n",
    "tvals = np.linspace(0,15,75)\n",
    "\n",
    "gains = [(Kp,1),(Ki,1)] \n",
    "A1 = A.subs(gains)\n",
    "y = C*(exp(A1*t)*x0 + integrate(exp(A1*(t-tau))*B*input,(tau,0,t)))\n",
    "f = lambdify(t,y[0],'numpy')\n",
    "plt.plot(tvals,f(tvals),label=\"Kp=1,Ki=1\")\n",
    "\n",
    "gains = [(Kp,3),(Ki,3)] \n",
    "A2 = A.subs(gains)\n",
    "y = C*(exp(A2*t)*x0 + integrate(exp(A2*(t-tau))*B*input,(tau,0,t)))\n",
    "f = lambdify(t,y[0],'numpy')\n",
    "plt.plot(tvals,f(tvals),label=\"Kp=2,Ki=1\")\n",
    "\n",
    "plt.xlabel(\"$t$\")\n",
    "plt.ylabel(\"$y(t)$\")\n",
    "plt.title(\"Distrurbance response from steady state\");\n",
    "plt.legend()"
   ]
  },
  {
   "cell_type": "markdown",
   "metadata": {},
   "source": [
    "To do a more thorough analysis, you would want to tune the gains so that the maximum diversion from steady state did not exceed a given constraint. You would find the points on the output where the derivative was zero, for example."
   ]
  },
  {
   "cell_type": "markdown",
   "metadata": {},
   "source": [
    "# Noise Example"
   ]
  },
  {
   "cell_type": "markdown",
   "metadata": {},
   "source": [
    "Now uppose we have the following system modeling the effect of noise on a rocket's velocity sensor:\n",
    "\n",
    "<img width=60% src=\"https://raw.githubusercontent.com/klavins/ECE447/master/images/rocket-disturb.png\">\n",
    "\n",
    "In this case we have, assuming a step input $R(s) = 1/s$\n",
    "\n",
    "\\begin{align}\n",
    "Y(s) & = \\frac{1}{s} \\left(K_p + \\frac{K_I}{s} \\right) E \\\\\n",
    "     & = \\frac{1}{s} \\left(K_p + \\frac{K_I}{s} \\right) \\left(\\frac{1}{s} - Y - N \\right) \\\\\n",
    "     & = \\frac{(K_p+\\frac{K_I}{s})(\\frac{1}{s} - N)}{s+K_p+\\frac{K_I}{s}}\n",
    "\\end{align}\n",
    "\n",
    "**Biased Sensor:**\n",
    "\n",
    "If we suppose that $N(s) = n/s$, we can use the final value theorem to find the final value of $y$:\n",
    "\n",
    "$$\n",
    "y(\\infty) = \\lim_{s \\rightarrow 0} \\frac{(K_p+\\frac{K_I}{s})(\\frac{1}{s} - \\frac{n}{s})}{s+K_p+\\frac{K_I}{s}} = 1-n\n",
    "$$\n",
    "\n",
    "That is, the magnitude of the effect is equal to the magnitude of the noise.\n",
    "\n",
    "**Sensor Blips:**\n",
    "\n",
    "If noise is just an impulse, so that $N(s) = n$. The, you can show that\n",
    "\n",
    "$$\n",
    "y(\\infty) = \\lim_{s \\rightarrow 0} \\frac{(K_p+\\frac{K_I}{s})(\\frac{1}{s} - n)}{s+K_p+\\frac{K_I}{s}} = 1\n",
    "$$\n",
    "\n",
    "which means that an impulse blip from the sensor is recovered from, most likely after a transient.\n",
    "\n",
    "To see the time response, we rewrite the system in state space:\n",
    "\n",
    "$$\n",
    "\\dot \\x = \\begin{pmatrix}\n",
    "-K_p & K_I \\\\\n",
    "-1 & 0\n",
    "\\end{pmatrix} \\x + \\begin{pmatrix}\n",
    "0 & 0 \\\\\n",
    "1 & 1\n",
    "\\end{pmatrix} \\begin{pmatrix}\n",
    "u \\\\\n",
    "n\n",
    "\\end{pmatrix}\n",
    "$$\n",
    "\n",
    "$$\n",
    "y = (1 \\;\\; 0) \\; \\x\n",
    "$$\n"
   ]
  },
  {
   "cell_type": "code",
   "execution_count": 106,
   "metadata": {},
   "outputs": [],
   "source": [
    "var(\"s Ki Kp t tau\")\n",
    "A = Matrix([\n",
    "  [-Kp, Ki],\n",
    "  [-1,0],    \n",
    "])\n",
    "B = Matrix([\n",
    "    [0,0],\n",
    "    [1,1]])\n",
    "C = Matrix([[1,0]])"
   ]
  },
  {
   "cell_type": "code",
   "execution_count": 107,
   "metadata": {},
   "outputs": [
    {
     "name": "stderr",
     "output_type": "stream",
     "text": [
      "/anaconda/lib/python3.6/site-packages/numpy/core/numeric.py:538: ComplexWarning: Casting complex values to real discards the imaginary part\n",
      "  return array(a, dtype, copy=False, order=order)\n"
     ]
    },
    {
     "data": {
      "image/png": "[encoded data removed]",
      "text/plain": [
       "<matplotlib.figure.Figure at 0x12705fbe0>"
      ]
     },
     "metadata": {},
     "output_type": "display_data"
    }
   ],
   "source": [
    "u = 1\n",
    "n = 0.1\n",
    "input = Matrix([[u],[n]])\n",
    "x0 = Matrix([[1],[1]]) # Choose x so that system is at \n",
    "                       # steady state to start\n",
    " \n",
    "tvals = np.linspace(0,15,75)\n",
    "\n",
    "gains = [(Kp,1),(Ki,1)] \n",
    "A1 = A.subs(gains)\n",
    "y = C*(exp(A1*t)*x0 + integrate(exp(A1*(t-tau))*B*input,(tau,0,t)))\n",
    "f = lambdify(t,y[0],'numpy')\n",
    "plt.plot(tvals,f(tvals),label=\"Kp=1,Ki=1\")\n",
    "\n",
    "gains = [(Kp,3),(Ki,3)] \n",
    "A2 = A.subs(gains)\n",
    "y = C*(exp(A2*t)*x0 + integrate(exp(A2*(t-tau))*B*input,(tau,0,t)))\n",
    "f = lambdify(t,y[0],'numpy')\n",
    "plt.plot(tvals,f(tvals),label=\"Kp=2,Ki=1\")\n",
    "\n",
    "plt.xlabel(\"$t$\")\n",
    "plt.ylabel(\"$y(t)$\")\n",
    "plt.title(\"Noise response from steady state\");"
   ]
  },
  {
   "cell_type": "code",
   "execution_count": null,
   "metadata": {
    "collapsed": true
   },
   "outputs": [],
   "source": [
    "u = 1\n",
    "n = 0.1*sin(t)\n",
    "input = Matrix([[u],[n]])\n",
    "\n",
    "gains = [(Kp,1),(Ki,1)] \n",
    "A1 = A.subs(gains)\n",
    "y = C*(exp(A1*t)*x0 + integrate(exp(A1*(t-tau))*B*input,(tau,0,t)))\n",
    "f = lambdify(t,y[0],'numpy')\n",
    "plt.plot(tvals,f(tvals),label=\"Kp=1,Ki=1\")"
   ]
  },
  {
   "cell_type": "markdown",
   "metadata": {},
   "source": [
    "# Summary"
   ]
  },
  {
   "cell_type": "markdown",
   "metadata": {},
   "source": [
    "- Noise and disturbances can be modeled as inputs to different parts of the system\n",
    "- Disturbances can usually be rejected by integral control\n",
    "- Noise is hard to deal with on sensors is hard to deal with"
   ]
  },
  {
   "cell_type": "code",
   "execution_count": null,
   "metadata": {
    "collapsed": true
   },
   "outputs": [],
   "source": []
  }
 ],
 "metadata": {
  "kernelspec": {
   "display_name": "Python 3",
   "language": "python",
   "name": "python3"
  },
  "language_info": {
   "codemirror_mode": {
    "name": "ipython",
    "version": 3
   },
   "file_extension": ".py",
   "mimetype": "text/x-python",
   "name": "python",
   "nbconvert_exporter": "python",
   "pygments_lexer": "ipython3",
   "version": "3.6.1"
  },
  "latex_envs": {
   "LaTeX_envs_menu_present": true,
   "autoclose": false,
   "autocomplete": true,
   "bibliofile": "biblio.bib",
   "cite_by": "apalike",
   "current_citInitial": 1,
   "eqLabelWithNumbers": true,
   "eqNumInitial": 1,
   "hotkeys": {
    "equation": "Ctrl-E",
    "itemize": "Ctrl-I"
   },
   "labels_anchors": false,
   "latex_user_defs": false,
   "report_style_numbering": false,
   "user_envs_cfg": false
  }
 },
 "nbformat": 4,
 "nbformat_minor": 2
}
