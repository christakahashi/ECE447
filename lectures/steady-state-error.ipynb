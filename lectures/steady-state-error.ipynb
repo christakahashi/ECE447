{
  "nbformat": 4,
  "nbformat_minor": 0,
  "metadata": {
    "kernelspec": {
      "display_name": "Python 3",
      "language": "python",
      "name": "python3"
    },
    "language_info": {
      "codemirror_mode": {
        "name": "ipython",
        "version": 3
      },
      "file_extension": ".py",
      "mimetype": "text/x-python",
      "name": "python",
      "nbconvert_exporter": "python",
      "pygments_lexer": "ipython3",
      "version": "3.6.1"
    },
    "latex_envs": {
      "LaTeX_envs_menu_present": true,
      "autoclose": false,
      "autocomplete": true,
      "bibliofile": "biblio.bib",
      "cite_by": "apalike",
      "current_citInitial": 1,
      "eqLabelWithNumbers": true,
      "eqNumInitial": 1,
      "hotkeys": {
        "equation": "Ctrl-E",
        "itemize": "Ctrl-I"
      },
      "labels_anchors": false,
      "latex_user_defs": false,
      "report_style_numbering": false,
      "user_envs_cfg": false
    },
    "colab": {
      "name": "steady-state-error.ipynb",
      "provenance": [],
      "include_colab_link": true
    }
  },
  "cells": [
    {
      "cell_type": "markdown",
      "metadata": {
        "id": "view-in-github",
        "colab_type": "text"
      },
      "source": [
        "<a href=\"https://colab.research.google.com/github/christakahashi/ECE447/blob/master/lectures/steady-state-error.ipynb\" target=\"_parent\"><img src=\"https://colab.research.google.com/assets/colab-badge.svg\" alt=\"Open In Colab\"/></a>"
      ]
    },
    {
      "cell_type": "markdown",
      "metadata": {
        "id": "JyUKpZQvVQLX",
        "colab_type": "text"
      },
      "source": [
        "ECE 447: Steady State Error\n",
        "===\n",
        "\n",
        "Updated by \n",
        " Dr. Chris Takahashi\n",
        "\n",
        "Authored by Prof. Eric Klavins &copy; 2019, University of Washington\n"
      ]
    },
    {
      "cell_type": "markdown",
      "metadata": {
        "heading_collapsed": true,
        "id": "6xGW0jSLVQLY",
        "colab_type": "text"
      },
      "source": [
        "# Code"
      ]
    },
    {
      "cell_type": "code",
      "metadata": {
        "hidden": true,
        "id": "80SjDz5qVQLb",
        "colab_type": "code",
        "colab": {}
      },
      "source": [
        "import numpy as np\n",
        "import scipy.integrate as spi\n",
        "from scipy.optimize import leastsq\n",
        "import matplotlib.pyplot as plt\n",
        "from sympy import *\n",
        "\n",
        "%matplotlib inline\n",
        "\n",
        "#comment out for light mode\n",
        "plt.style.use('dark_background')\n",
        "\n",
        "try: \n",
        "  import google.colab #test for colab\n",
        "  import IPython\n",
        "  def setup_typeset():\n",
        "    \"\"\"MathJax initialization for the current cell.\n",
        "    \n",
        "    This installs and configures MathJax for the current output.\n",
        "    \"\"\"\n",
        "    IPython.display.display(IPython.display.HTML('''\n",
        "        <script src=\"https://www.gstatic.com/external_hosted/mathjax/latest/MathJax.js?config=TeX-AMS_HTML-full,Safe&delayStartupUntil=configured\"></script>\n",
        "        <script>\n",
        "          (() => {\n",
        "            const mathjax = window.MathJax;\n",
        "            mathjax.Hub.Config({\n",
        "            'tex2jax': {\n",
        "              'inlineMath': [['$', '$'], ['\\\\(', '\\\\)']],\n",
        "              'displayMath': [['$$', '$$'], ['\\\\[', '\\\\]']],\n",
        "              'processEscapes': true,\n",
        "              'processEnvironments': true,\n",
        "              'skipTags': ['script', 'noscript', 'style', 'textarea', 'code'],\n",
        "              'displayAlign': 'center',\n",
        "            },\n",
        "            'HTML-CSS': {\n",
        "              'styles': {'.MathJax_Display': {'margin': 0}},\n",
        "              'linebreaks': {'automatic': true},\n",
        "              // Disable to prevent OTF font loading, which aren't part of our\n",
        "              // distribution.\n",
        "              'imageFont': null,\n",
        "            },\n",
        "            'messageStyle': 'none'\n",
        "          });\n",
        "          mathjax.Hub.Configured();\n",
        "        })();\n",
        "        </script>\n",
        "        '''))\n",
        "  def custom_latex_printer(exp,**options):\n",
        "      setup_typeset()\n",
        "      return printing.latex(exp,**options)\n",
        "  init_printing(use_latex=\"mathjax\",latex_printer=custom_latex_printer)\n",
        "except:\n",
        "  init_printing(use_latex='mathjax')"
      ],
      "execution_count": 0,
      "outputs": []
    },
    {
      "cell_type": "markdown",
      "metadata": {
        "id": "Tuv9m54sVQLm",
        "colab_type": "text"
      },
      "source": [
        "# Steady State Error"
      ]
    },
    {
      "cell_type": "markdown",
      "metadata": {
        "id": "_HrDjJlIVQLo",
        "colab_type": "text"
      },
      "source": [
        "The **steady state** error in a system is the difference between the input signal and the output signal after the system has come to equilibrium."
      ]
    },
    {
      "cell_type": "code",
      "metadata": {
        "id": "Is9hobYiVQLp",
        "colab_type": "code",
        "colab": {
          "base_uri": "https://localhost:8080/",
          "height": 280
        },
        "outputId": "422476b3-d764-47aa-a3b7-8f67dd3d6877"
      },
      "source": [
        "t = np.linspace(0,20,100)\n",
        "u = 1+0*t\n",
        "y = 0.925-np.exp(-0.5*t)*np.cos(t)\n",
        "e = u-y\n",
        "plt.plot(t,u,label=\"u(t)\");\n",
        "plt.plot(t,y,label=\"y(t)\");\n",
        "plt.plot(t,e,label=\"e(t)\")\n",
        "plt.xlabel(\"t\")\n",
        "plt.ylabel(\"u(t),y(t)\")\n",
        "plt.legend();"
      ],
      "execution_count": 25,
      "outputs": [
        {
          "output_type": "display_data",
          "data": {
            "image/png": "[encoded data removed]",
            "text/plain": [
              "<Figure size 432x288 with 1 Axes>"
            ]
          },
          "metadata": {
            "tags": []
          }
        }
      ]
    },
    {
      "cell_type": "markdown",
      "metadata": {
        "id": "2cbHAkLjVQLx",
        "colab_type": "text"
      },
      "source": [
        "In the frequency domain, the error is defined by \n",
        "\n",
        "$$\n",
        "E(s) = R(s) - Y(s)\n",
        "$$\n",
        "\n",
        "Using the final value theorem, we get the following expression for the steady state error\n",
        "\n",
        "$$\n",
        "e(\\infty) = \\lim_{s \\rightarrow 0} s(R(s)-Y(s))\n",
        "$$\n",
        "\n"
      ]
    },
    {
      "cell_type": "markdown",
      "metadata": {
        "id": "LaemGHF_VQLz",
        "colab_type": "text"
      },
      "source": [
        "Example: Open Loop\n",
        "---\n",
        "\n",
        "Consider the open loop system \n",
        "\n",
        "<img width=30.5% src=\"https://raw.githubusercontent.com/klavins/ECE447/master/images/sse-open-loop2.png\">\n",
        "\n",
        "with a step input $r(t) = 1$, $R(s) = 1/s$. Then the output is $\\frac{1}{s}G(s)$ and\n",
        "\n",
        "$$\n",
        "e(\\infty) = \\lim_{s \\rightarrow 0} s \\left(\\frac{1}{s}-\\frac{1}{s}G(s)\\right) = 1 - G(0)\n",
        "$$\n",
        "\n",
        "The quantity $G(0)$ is called the **DC Gain**. For example, if \n",
        "\n",
        "$$\n",
        "G(s) = \\frac{1}{s+a}\n",
        "$$\n",
        "\n",
        "then\n",
        "\n",
        "$$\n",
        "e(\\infty) = 1 - G(0) = 1-\\frac{1}{a}.\n",
        "$$\n"
      ]
    },
    {
      "cell_type": "markdown",
      "metadata": {
        "id": "t3F4DpwvVQL0",
        "colab_type": "text"
      },
      "source": [
        "Example: Closed Loop\n",
        "---\n",
        "\n",
        "Consider the closed loop system \n",
        "\n",
        "<img width=50.5% src=\"https://raw.githubusercontent.com/klavins/ECE447/master/images/sse-closed-loop.png\">\n",
        "\n",
        "with a step input $r(t) = 1$, $R(s) = 1/s$.\n",
        "\n",
        "In this case, \n",
        "\n",
        "$$\n",
        "Y(s) = R(s) \\frac{KG(s)}{1+KG(s)}\n",
        "$$\n",
        "\n",
        "and\n",
        "\n",
        "\\begin{align}\n",
        "E(s) & = R(s) - Y(s) \\\\\n",
        "     & = \\frac{1}{s} - \\frac{1}{s}\\frac{KG(s)}{1+KG(s)} \\\\\n",
        "     & = \\frac{1}{s} \\frac{1}{1+KG(s)}\n",
        "\\end{align}\n",
        "\n",
        "Using the final value theorem, we get \n",
        "\n",
        "$$\n",
        "e(\\infty) = \\lim_{s \\rightarrow 0} s E(s) = \\frac{1}{1+KG(0)}\n",
        "$$\n",
        "\n",
        "which can be made small by choose $K$ to be large.\n",
        "\n",
        "For example, if $G(s) = \\frac{1}{s+a}$ then \n",
        "\n",
        "$$\n",
        "e(\\infty) = \\frac{1}{1+\\frac{1}{a}K} = \\frac{a}{a+K}\n",
        "$$\n",
        "\n",
        "which goes to 0 as $K$ gets big."
      ]
    },
    {
      "cell_type": "markdown",
      "metadata": {
        "id": "NYYGSRQsVQL0",
        "colab_type": "text"
      },
      "source": [
        "Example: The Wonders of PI Control\n",
        "---\n",
        "\n",
        "Consider the PI control system \n",
        "\n",
        "<img width=60.5% src=\"https://raw.githubusercontent.com/klavins/ECE447/master/images/sse-pi.png\">\n",
        "\n",
        "with a step input $r(t) = 1$, $R(s) = 1/s$.\n",
        "\n",
        "In this case, the transfer function is\n",
        "\n",
        "\\begin{align}\n",
        "T(s) & = \\frac{\\left(K_p+\\frac{K_I}{s}\\right)G(s)}\n",
        "            {1+\\left(K_p+\\frac{K_I}{s}\\right)G(s)} \\\\\n",
        "     & = \\frac{(K_p s + K_I)G(s)}{s+(K_p s + K_I)G(s)}\n",
        "\\end{align}\n",
        "\n",
        "Then\n",
        "\n",
        "$$\n",
        "e(\\infty) = \\lim_{s \\rightarrow 0} s(\\frac{1}{s} - \\frac{1}{s}T(s))\n",
        "$$\n",
        "\n",
        "Substituting in $T(s)$ with the above and taking the limit we get\n",
        "\n",
        "$$\n",
        "\\lim_{s \\rightarrow 0}\\left(1 - T(s)\\right) = 1 - \\frac{K_IG(0)}{K_IG(0)} = 0.\n",
        "$$\n",
        "\n",
        "Cool!"
      ]
    },
    {
      "cell_type": "markdown",
      "metadata": {
        "heading_collapsed": true,
        "id": "Qy0BBc0UVQL2",
        "colab_type": "text"
      },
      "source": [
        "# Using Sympy to Examine Steady State Error"
      ]
    },
    {
      "cell_type": "code",
      "metadata": {
        "hidden": true,
        "id": "kCaVkA27VQL4",
        "colab_type": "code",
        "colab": {
          "base_uri": "https://localhost:8080/",
          "height": 108
        },
        "outputId": "5e2f154c-914a-4c18-b743-d67ec4b6374c"
      },
      "source": [
        "# Plot the response of all three systems to compare\n",
        "\n",
        "# First set up variables\n",
        "var(\"a K Kp Ki\", real=True)\n",
        "var(\"t\", real=True,positive=True)\n",
        "var(\"s\")\n",
        "\n",
        "# Next define G(s) amd R(s)\n",
        "G = 1/(s+a)\n",
        "R = 1/s\n",
        "\n",
        "# Open Loop\n",
        "Tol = G\n",
        "Yol = R*Tol\n",
        "\n",
        "# Closed Loop\n",
        "Tcl = K*G/(1+K*G)\n",
        "Ycl = R*Tcl\n",
        "\n",
        "# PI Control\n",
        "Gc = Kp + Ki/s\n",
        "Tpi = Gc*G / ( 1 + Gc * G)\n",
        "Ypi = R*Tpi\n",
        "\n",
        "# Show Transfer Functions\n",
        "Tol,Tcl,Tpi"
      ],
      "execution_count": 18,
      "outputs": [
        {
          "output_type": "display_data",
          "data": {
            "text/html": [
              "\n",
              "        <script src=\"https://www.gstatic.com/external_hosted/mathjax/latest/MathJax.js?config=TeX-AMS_HTML-full,Safe&delayStartupUntil=configured\"></script>\n",
              "        <script>\n",
              "          (() => {\n",
              "            const mathjax = window.MathJax;\n",
              "            mathjax.Hub.Config({\n",
              "            'tex2jax': {\n",
              "              'inlineMath': [['$', '$'], ['\\(', '\\)']],\n",
              "              'displayMath': [['$$', '$$'], ['\\[', '\\]']],\n",
              "              'processEscapes': true,\n",
              "              'processEnvironments': true,\n",
              "              'skipTags': ['script', 'noscript', 'style', 'textarea', 'code'],\n",
              "              'displayAlign': 'center',\n",
              "            },\n",
              "            'HTML-CSS': {\n",
              "              'styles': {'.MathJax_Display': {'margin': 0}},\n",
              "              'linebreaks': {'automatic': true},\n",
              "              // Disable to prevent OTF font loading, which aren't part of our\n",
              "              // distribution.\n",
              "              'imageFont': null,\n",
              "            },\n",
              "            'messageStyle': 'none'\n",
              "          });\n",
              "          mathjax.Hub.Configured();\n",
              "        })();\n",
              "        </script>\n",
              "        "
            ],
            "text/plain": [
              "<IPython.core.display.HTML object>"
            ]
          },
          "metadata": {
            "tags": []
          }
        },
        {
          "output_type": "execute_result",
          "data": {
            "text/latex": "$$\\left ( \\frac{1}{a + s}, \\quad \\frac{K}{\\left(a + s\\right) \\left(\\frac{K}{a + s} + 1\\right)}, \\quad \\frac{\\frac{Ki}{s} + Kp}{\\left(1 + \\frac{\\frac{Ki}{s} + Kp}{a + s}\\right) \\left(a + s\\right)}\\right )$$",
            "text/plain": [
              "⎛                                   Ki            ⎞\n",
              "⎜                                   ── + Kp       ⎟\n",
              "⎜  1             K                  s             ⎟\n",
              "⎜─────, ───────────────────, ─────────────────────⎟\n",
              "⎜a + s          ⎛  K      ⎞  ⎛    Ki     ⎞        ⎟\n",
              "⎜       (a + s)⋅⎜───── + 1⎟  ⎜    ── + Kp⎟        ⎟\n",
              "⎜               ⎝a + s    ⎠  ⎜    s      ⎟        ⎟\n",
              "⎜                            ⎜1 + ───────⎟⋅(a + s)⎟\n",
              "⎝                            ⎝     a + s ⎠        ⎠"
            ]
          },
          "metadata": {
            "tags": []
          },
          "execution_count": 18
        }
      ]
    },
    {
      "cell_type": "code",
      "metadata": {
        "hidden": true,
        "id": "z3KhSmz-VQL-",
        "colab_type": "code",
        "colab": {
          "base_uri": "https://localhost:8080/",
          "height": 59
        },
        "outputId": "45e0b812-02e7-4fc8-cca5-6039f94f2522"
      },
      "source": [
        "# Compute Steady State Errors\n",
        "\n",
        "limit(s*(R-Yol),s,0), limit(s*(R-Ycl),s,0), limit(s*(R-Ypi),s,0)"
      ],
      "execution_count": 19,
      "outputs": [
        {
          "output_type": "display_data",
          "data": {
            "text/html": [
              "\n",
              "        <script src=\"https://www.gstatic.com/external_hosted/mathjax/latest/MathJax.js?config=TeX-AMS_HTML-full,Safe&delayStartupUntil=configured\"></script>\n",
              "        <script>\n",
              "          (() => {\n",
              "            const mathjax = window.MathJax;\n",
              "            mathjax.Hub.Config({\n",
              "            'tex2jax': {\n",
              "              'inlineMath': [['$', '$'], ['\\(', '\\)']],\n",
              "              'displayMath': [['$$', '$$'], ['\\[', '\\]']],\n",
              "              'processEscapes': true,\n",
              "              'processEnvironments': true,\n",
              "              'skipTags': ['script', 'noscript', 'style', 'textarea', 'code'],\n",
              "              'displayAlign': 'center',\n",
              "            },\n",
              "            'HTML-CSS': {\n",
              "              'styles': {'.MathJax_Display': {'margin': 0}},\n",
              "              'linebreaks': {'automatic': true},\n",
              "              // Disable to prevent OTF font loading, which aren't part of our\n",
              "              // distribution.\n",
              "              'imageFont': null,\n",
              "            },\n",
              "            'messageStyle': 'none'\n",
              "          });\n",
              "          mathjax.Hub.Configured();\n",
              "        })();\n",
              "        </script>\n",
              "        "
            ],
            "text/plain": [
              "<IPython.core.display.HTML object>"
            ]
          },
          "metadata": {
            "tags": []
          }
        },
        {
          "output_type": "execute_result",
          "data": {
            "text/latex": "$$\\left ( \\frac{1}{a} \\left(a - 1\\right), \\quad \\frac{a}{K + a}, \\quad 0\\right )$$",
            "text/plain": [
              "⎛a - 1    a     ⎞\n",
              "⎜─────, ─────, 0⎟\n",
              "⎝  a    K + a   ⎠"
            ]
          },
          "metadata": {
            "tags": []
          },
          "execution_count": 19
        }
      ]
    },
    {
      "cell_type": "code",
      "metadata": {
        "hidden": true,
        "id": "A9HDev7vVQMG",
        "colab_type": "code",
        "colab": {
          "base_uri": "https://localhost:8080/",
          "height": 399
        },
        "outputId": "d1140066-2c9e-4331-9025-3cea58a3e77b"
      },
      "source": [
        "# Plot\n",
        "\n",
        "# Define parameters\n",
        "params = [(a,2), (K,4), (Kp,1), (Ki,4)]\n",
        "\n",
        "# Find solutions in time domain for each y\n",
        "yol = inverse_laplace_transform(Yol.subs(params), s, t)\n",
        "ycl = inverse_laplace_transform(Ycl.subs(params), s, t)\n",
        "ypi = inverse_laplace_transform(Ypi.subs(params), s, t)\n",
        "\n",
        "# Plot\n",
        "plots = plotting.plot(yol,ycl,ypi,(t,0,10), ylim=(0,1.2), show=false);\n",
        "plots[1].line_color = 'orange'\n",
        "plots[2].line_color = 'green'\n",
        "plots.show()"
      ],
      "execution_count": 20,
      "outputs": [
        {
          "output_type": "stream",
          "text": [
            "/usr/local/lib/python3.6/dist-packages/sympy/plotting/plot.py:890: MatplotlibDeprecationWarning: \n",
            "The set_smart_bounds function was deprecated in Matplotlib 3.2 and will be removed two minor releases later.\n",
            "  self.ax.spines['left'].set_smart_bounds(True)\n",
            "/usr/local/lib/python3.6/dist-packages/sympy/plotting/plot.py:891: MatplotlibDeprecationWarning: \n",
            "The set_smart_bounds function was deprecated in Matplotlib 3.2 and will be removed two minor releases later.\n",
            "  self.ax.spines['bottom'].set_smart_bounds(False)\n"
          ],
          "name": "stderr"
        },
        {
          "output_type": "display_data",
          "data": {
            "image/png": "[encoded data removed]",
            "text/plain": [
              "<Figure size 432x288 with 1 Axes>"
            ]
          },
          "metadata": {
            "tags": []
          }
        }
      ]
    },
    {
      "cell_type": "markdown",
      "metadata": {
        "heading_collapsed": true,
        "id": "gvQ7kzzVVQML",
        "colab_type": "text"
      },
      "source": [
        "# Steady State Error in State Space"
      ]
    },
    {
      "cell_type": "markdown",
      "metadata": {
        "hidden": true,
        "id": "cUq50WKVVQMN",
        "colab_type": "text"
      },
      "source": [
        "If we have\n",
        "\n",
        "\\begin{align}\n",
        "\\dot x & = A x + B u \\\\\n",
        "y & = C x\n",
        "\\end{align}\n",
        "\n",
        "then denoting by $x^*$ the steady state of the system, we get\n",
        "\n",
        "$$\n",
        "\\dot x = 0 = A x^* + B u\n",
        "$$\n",
        "\n",
        "so, assuming $A$ is invertible, we get\n",
        "\n",
        "$$\n",
        "x^* = - A^{-1}Bu\n",
        "$$\n",
        "\n",
        "Then\n",
        "\n",
        "\\begin{align}\n",
        "e(\\infty) & = u(\\infty) - y(\\infty) \\\\\n",
        "     & =  ( 1 + C A^{-1} B ) u(\\infty) \n",
        "\\end{align}"
      ]
    },
    {
      "cell_type": "markdown",
      "metadata": {
        "hidden": true,
        "id": "qhp1JIs6VQMO",
        "colab_type": "text"
      },
      "source": [
        "Example\n",
        "---\n",
        "\n",
        "Say that \n",
        "\n",
        "\\begin{align}\n",
        "\\dot x & = \\begin{pmatrix}\n",
        "0 & 1 \\\\\n",
        "-2-K & -3\n",
        "\\end{pmatrix} x + \\begin{pmatrix}\n",
        "0 \\\\\n",
        "1\n",
        "\\end{pmatrix} u \\\\\n",
        "y & = \\begin{pmatrix}\n",
        "K & 0\n",
        "\\end{pmatrix} x\n",
        "\\end{align}\n",
        "\n",
        "and suppose $u(t) = 1$.\n",
        "\n",
        "Then \n",
        "\n",
        "\\begin{align}\n",
        "e(\\infty) & = 1 + C A^{-1} B \\\\\n",
        "          & = 1 + \\begin{pmatrix}\n",
        "K & 0\n",
        "\\end{pmatrix} \\frac{1}{2+K} \\begin{pmatrix}\n",
        "-3 & -1 \\\\\n",
        "2+K & 0\n",
        "\\end{pmatrix} \\begin{pmatrix}\n",
        "0 \\\\\n",
        "1\n",
        "\\end{pmatrix} \\\\\n",
        "  & = \\frac{2}{2+K}\n",
        "\\end{align}\n"
      ]
    },
    {
      "cell_type": "code",
      "metadata": {
        "hidden": true,
        "id": "ky-cQJE6VQMP",
        "colab_type": "code",
        "colab": {
          "base_uri": "https://localhost:8080/",
          "height": 54
        },
        "outputId": "ac7f115e-40fa-42b3-f2b0-c823adfb2f56"
      },
      "source": [
        "# Using sympy we can do the same thing\n",
        "\n",
        "var(\"K t tau\")\n",
        "A = Matrix([\n",
        "    [0,1],\n",
        "    [-2-K,-3]\n",
        "])\n",
        "B = Matrix([[0],[1]])\n",
        "C = Matrix([[K,0]])\n",
        "\n",
        "ess = 1 + (C*A.inv()*B)[0]\n",
        "ess.cancel()"
      ],
      "execution_count": 21,
      "outputs": [
        {
          "output_type": "display_data",
          "data": {
            "text/html": [
              "\n",
              "        <script src=\"https://www.gstatic.com/external_hosted/mathjax/latest/MathJax.js?config=TeX-AMS_HTML-full,Safe&delayStartupUntil=configured\"></script>\n",
              "        <script>\n",
              "          (() => {\n",
              "            const mathjax = window.MathJax;\n",
              "            mathjax.Hub.Config({\n",
              "            'tex2jax': {\n",
              "              'inlineMath': [['$', '$'], ['\\(', '\\)']],\n",
              "              'displayMath': [['$$', '$$'], ['\\[', '\\]']],\n",
              "              'processEscapes': true,\n",
              "              'processEnvironments': true,\n",
              "              'skipTags': ['script', 'noscript', 'style', 'textarea', 'code'],\n",
              "              'displayAlign': 'center',\n",
              "            },\n",
              "            'HTML-CSS': {\n",
              "              'styles': {'.MathJax_Display': {'margin': 0}},\n",
              "              'linebreaks': {'automatic': true},\n",
              "              // Disable to prevent OTF font loading, which aren't part of our\n",
              "              // distribution.\n",
              "              'imageFont': null,\n",
              "            },\n",
              "            'messageStyle': 'none'\n",
              "          });\n",
              "          mathjax.Hub.Configured();\n",
              "        })();\n",
              "        </script>\n",
              "        "
            ],
            "text/plain": [
              "<IPython.core.display.HTML object>"
            ]
          },
          "metadata": {
            "tags": []
          }
        },
        {
          "output_type": "execute_result",
          "data": {
            "text/latex": "$$\\frac{2}{K + 2}$$",
            "text/plain": [
              "  2  \n",
              "─────\n",
              "K + 2"
            ]
          },
          "metadata": {
            "tags": []
          },
          "execution_count": 21
        }
      ]
    },
    {
      "cell_type": "code",
      "metadata": {
        "hidden": true,
        "id": "QfPfX3GuVQMT",
        "colab_type": "code",
        "colab": {
          "base_uri": "https://localhost:8080/",
          "height": 490
        },
        "outputId": "bff830b4-d816-4f91-c844-c332275b1178"
      },
      "source": [
        "# And we can plot the result as well\n",
        "\n",
        "# Make an initial condition\n",
        "x0 = Matrix([[0],[0]])\n",
        "\n",
        "# Compute the natural and forced responses\n",
        "nat = exp(A*t)*x0\n",
        "forced = integrate(exp(A*(t-tau))*B,(tau,0,t))\n",
        "\n",
        "# Get the output. Note, the nat and forced are 1x1 matrices, so we use [0,0] to get a scalar\n",
        "y = (C*(nat+forced))[0,0]\n",
        "\n",
        "# Plot some examples\n",
        "plots = plotting.plot(y.subs(K,1), y.subs(K,10), y.subs(K,100),(t,0,8),ylim=(0,1.7),show=false);\n",
        "plots[1].line_color = 'orange'\n",
        "plots[2].line_color = 'green'\n",
        "plots.show()\n",
        "\n",
        "# Print out the steady state errors for the above plotted gains\n",
        "N(ess.subs(K,1),3), N(ess.subs(K,10),3), N(ess.subs(K,100),3)"
      ],
      "execution_count": 22,
      "outputs": [
        {
          "output_type": "stream",
          "text": [
            "/usr/local/lib/python3.6/dist-packages/sympy/plotting/plot.py:890: MatplotlibDeprecationWarning: \n",
            "The set_smart_bounds function was deprecated in Matplotlib 3.2 and will be removed two minor releases later.\n",
            "  self.ax.spines['left'].set_smart_bounds(True)\n",
            "/usr/local/lib/python3.6/dist-packages/sympy/plotting/plot.py:891: MatplotlibDeprecationWarning: \n",
            "The set_smart_bounds function was deprecated in Matplotlib 3.2 and will be removed two minor releases later.\n",
            "  self.ax.spines['bottom'].set_smart_bounds(False)\n"
          ],
          "name": "stderr"
        },
        {
          "output_type": "display_data",
          "data": {
            "image/png": "[encoded data removed]",
            "text/plain": [
              "<Figure size 432x288 with 1 Axes>"
            ]
          },
          "metadata": {
            "tags": []
          }
        },
        {
          "output_type": "display_data",
          "data": {
            "text/html": [
              "\n",
              "        <script src=\"https://www.gstatic.com/external_hosted/mathjax/latest/MathJax.js?config=TeX-AMS_HTML-full,Safe&delayStartupUntil=configured\"></script>\n",
              "        <script>\n",
              "          (() => {\n",
              "            const mathjax = window.MathJax;\n",
              "            mathjax.Hub.Config({\n",
              "            'tex2jax': {\n",
              "              'inlineMath': [['$', '$'], ['\\(', '\\)']],\n",
              "              'displayMath': [['$$', '$$'], ['\\[', '\\]']],\n",
              "              'processEscapes': true,\n",
              "              'processEnvironments': true,\n",
              "              'skipTags': ['script', 'noscript', 'style', 'textarea', 'code'],\n",
              "              'displayAlign': 'center',\n",
              "            },\n",
              "            'HTML-CSS': {\n",
              "              'styles': {'.MathJax_Display': {'margin': 0}},\n",
              "              'linebreaks': {'automatic': true},\n",
              "              // Disable to prevent OTF font loading, which aren't part of our\n",
              "              // distribution.\n",
              "              'imageFont': null,\n",
              "            },\n",
              "            'messageStyle': 'none'\n",
              "          });\n",
              "          mathjax.Hub.Configured();\n",
              "        })();\n",
              "        </script>\n",
              "        "
            ],
            "text/plain": [
              "<IPython.core.display.HTML object>"
            ]
          },
          "metadata": {
            "tags": []
          }
        },
        {
          "output_type": "execute_result",
          "data": {
            "text/latex": "$$\\left ( 0.667, \\quad 0.167, \\quad 0.0196\\right )$$",
            "text/plain": [
              "(0.667, 0.167, 0.0196)"
            ]
          },
          "metadata": {
            "tags": []
          },
          "execution_count": 22
        }
      ]
    },
    {
      "cell_type": "code",
      "metadata": {
        "id": "JOvvdgH7Vfr8",
        "colab_type": "code",
        "colab": {}
      },
      "source": [
        ""
      ],
      "execution_count": 0,
      "outputs": []
    }
  ]
}