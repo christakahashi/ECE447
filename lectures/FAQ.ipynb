{
 "cells": [
  {
   "cell_type": "markdown",
   "metadata": {},
   "source": [
    "ECE 447: Frequently Asked Questions\n",
    "===\n",
    "\n",
    "Prof. Eric Klavins\n",
    "\n",
    "&copy; 2019, University of Washington"
   ]
  },
  {
   "cell_type": "code",
   "execution_count": 2,
   "metadata": {
    "collapsed": true
   },
   "outputs": [],
   "source": [
    "import numpy as np\n",
    "import scipy.integrate as spi\n",
    "import matplotlib.pyplot as plt\n",
    "from sympy import *\n",
    "\n",
    "%matplotlib inline\n",
    "\n",
    "# Comment out in Google colab \n",
    "init_printing(use_latex='mathjax')\n",
    "\n",
    "# Uncomment in below Google colab to render sympy equations nicely\n",
    "# def custom_latex_printer(exp,**options):\n",
    "#     from google.colab.output._publish import javascript\n",
    "#     url = \"https://cdnjs.cloudflare.com/ajax/libs/mathjax/2.7.3/latest.js?config=default\"\n",
    "#     javascript(url=url)\n",
    "#     return printing.latex(exp,**options)\n",
    "# init_printing(use_latex=\"mathjax\",latex_printer=custom_latex_printer)"
   ]
  },
  {
   "cell_type": "markdown",
   "metadata": {},
   "source": [
    "**Q:** How do you determine an eigenvector from Jordan form? \n",
    "\n",
    "**A**: The same way you do with any other matrix. The main issue is that non-trivial Jordan blocks form matrices will have repeated eigenvectors. For example,\n",
    "\n",
    "$$\n",
    "J_2(1) = \\begin{pmatrix}\n",
    "1 & 1 \\\\\n",
    "0 & 1\n",
    "\\end{pmatrix}\n",
    "$$\n",
    "\n",
    "has eigenvalues 1 and 1. The eigenvalue equation $A \\x = \\lambda \\x$ amounts to\n",
    "\n",
    "\\begin{align}\n",
    "x_1 + x_2 & = x_1 \\\\\n",
    "x_2 = x_2 \n",
    "\\end{align}\n",
    "\n",
    "That first equation basically says $x_2 = 0$. So you get eigenvectors that are any multiple of \n",
    "\n",
    "$$\n",
    "{\\bf v} = \\begin{pmatrix}\n",
    "1 \\\\\n",
    "0\n",
    "\\end{pmatrix}\n",
    "$$\n",
    "\n",
    "You can see this in Python too."
   ]
  },
  {
   "cell_type": "code",
   "execution_count": 8,
   "metadata": {},
   "outputs": [
    {
     "data": {
      "text/latex": [
       "$$\\left [ \\left ( 1, \\quad 2, \\quad \\left [ \\left[\\begin{matrix}1\\\\0\\end{matrix}\\right]\\right ]\\right )\\right ]$$"
      ],
      "text/plain": [
       "⎡⎛1, 2, ⎡⎡1⎤⎤⎞⎤\n",
       "⎢⎜      ⎢⎢ ⎥⎥⎟⎥\n",
       "⎣⎝      ⎣⎣0⎦⎦⎠⎦"
      ]
     },
     "execution_count": 8,
     "metadata": {},
     "output_type": "execute_result"
    }
   ],
   "source": [
    "# J has eigenvalue 1 with multiplity 2 and only one eigenvector.\n",
    "J = Matrix([[1,1],[0,1]])\n",
    "J.eigenvects()"
   ]
  },
  {
   "cell_type": "markdown",
   "metadata": {},
   "source": [
    "----\n",
    "\n",
    "**Q:** Why do we need Jordan form?\n",
    "\n",
    "**A:** Mainly just to compute the matrix exponential easily. If you recall, we showed that computing the matrix exponential of Jordan blocks was easy. Then, since any matrix $A$ can be written as $A = P J P^{-1}$ we can just compute $e_J$ to get $e^A = P e^J P^{-1}$."
   ]
  },
  {
   "cell_type": "markdown",
   "metadata": {},
   "source": [
    "----\n",
    "**Q:** Why do we need to compute the matrix exponential?\n",
    "\n",
    "**A:** Because if you have a matrix differential equation $\\dot \\x = A \\x$ with initial condition $\\x(0)$, then the solution to the equation is \n",
    "\n",
    "$$\n",
    "\\x(t) = e^{At} \\x(0)\n",
    "$$"
   ]
  },
  {
   "cell_type": "markdown",
   "metadata": {},
   "source": [
    "----\n",
    "**Q:** What is $y$?\n",
    "\n",
    "**A:** $y$ is usually the *output* of our system. In general, if we have\n",
    "    \n",
    "\\begin{align}\n",
    "\\dot \\x & = A \\x + B u \\\\\n",
    "y & = C \\x\n",
    "\\end{align}    \n",
    "\n",
    "then $\\x$ is the system's internal state, $u$ is the input we can apply to the system, and $y$ is the output we can see. The feedback control problem is to find $u$ as a function of $y$ so that the resulting system performs as desired."
   ]
  },
  {
   "cell_type": "markdown",
   "metadata": {},
   "source": [
    "----\n",
    "\n",
    "**Q:** For this system:\n",
    "\n",
    "$$\n",
    "\\begin{pmatrix}\n",
    "\\dot x_1 \\\\\n",
    "\\dot x_2\n",
    "\\end{pmatrix} = \n",
    "\\begin{pmatrix}\n",
    "x_2 \\\\\n",
    "a \\sin x_1 + b u \\cos x_1\n",
    "\\end{pmatrix} .\n",
    "$$\n",
    "\n",
    "$$\n",
    "y = x_1\n",
    "$$\n",
    "\n",
    "how do you find the equilibrium point with $u=0$? \n",
    "\n",
    "**A:** Find  \n",
    "\n",
    "$$\n",
    "\\begin{pmatrix}\n",
    "x_2 \\\\\n",
    "a \\sin x_1 \n",
    "\\end{pmatrix} = \\begin{pmatrix}\n",
    "0 \\\\\n",
    "0\n",
    "\\end{pmatrix}\n",
    "$$\n",
    "\n",
    "which is any multiple of $\\pi$ for $x_1$ and zero for $x_2$."
   ]
  },
  {
   "cell_type": "markdown",
   "metadata": {},
   "source": [
    "----\n",
    "\n",
    "**Q:** We are making linear controllers for nonlinear systems around equilibrium points. Those controllers won't work everywhere in state space. So what is the range around the desired input we want our feedback controlled systems to work for? \n",
    "\n",
    "**A:** As big a range as possible! In general, it is a very difficult mathematical problem to determine the domain in which a linear controller will work. However, in simulation, can can test systems to see how big the regions are. This is not something we will be able to cover in this class."
   ]
  },
  {
   "cell_type": "markdown",
   "metadata": {},
   "source": [
    "---- \n",
    "**Q:** What does it mean \"to condition $r$\"?\n",
    "\n",
    "**A:** When you wrap a feedback loop around a system to get a new system with input $r$, you might also like that the new system's steady state is equal to $r$ when $r$ is a constant. If that is not the case, we'll add a block to multiply r by some scalar. So we pick an $a$ so that the new input becomes $\\tilde{r} = a r$ and the system's steady state is then equal to $\\tilde{r}$.\n",
    "\n",
    "For example, in the `input_output` notebook we had a system with input $r$ that had steady state output $4Kr$. So we made a new system with input $\\tilde{r} = \\frac{r}{4K}$.  "
   ]
  },
  {
   "cell_type": "markdown",
   "metadata": {},
   "source": [
    "----\n",
    "**Q:** Where exactly do $A$, $B$, $C$, and $D$ come from and what do they mean?\n",
    "\n",
    "**A:** These matrices are used to describe the dynamics of a linear system with input and output. They come from modeling a physical system such as a mechanical, electrical, or biological device. Such modeling either results in a linear system, or results in a nonlinear system which we then linearize to get these matrices. Your text book has many examples. We also went through the example of the pendulum in the input_output.ipynb notebook."
   ]
  },
  {
   "cell_type": "markdown",
   "metadata": {},
   "source": [
    "----\n",
    "**Q:** What are the $A$, $B$, $C$, and $D$ matrices for the general nonlinear case? \n",
    "\n",
    "**A:** There are none. You only get such matrices for linear systems. For nonlinear systems you have to write $\\dot \\x = f(\\x,u)$ and $y = g(\\x,u)$."
   ]
  },
  {
   "cell_type": "markdown",
   "metadata": {},
   "source": [
    "----\n",
    "**Q:** What are your other favorite mathematical objects other than matrix exponentials?\n",
    "    \n",
    "**A:** Here's a few: Partially ordered sets. Turing machines. Simplicial complexes. Petri nets."
   ]
  },
  {
   "cell_type": "markdown",
   "metadata": {},
   "source": [
    "----\n",
    "**Q:** Can we assume that the *natural response* is what the system would do if we didn't touch it (i.e. set $u=0$).\n",
    "\n",
    "**A:** Yes."
   ]
  },
  {
   "cell_type": "markdown",
   "metadata": {
    "collapsed": true
   },
   "source": [
    "----\n",
    "**Q:** For the final value theorem, why can't there be more than one pole at zero?\n",
    "\n",
    "**A:**: The formula \n",
    "\n",
    "$$\n",
    "\\lim_{s \\rightarrow 0}s F(s)\n",
    "$$\n",
    "\n",
    "the $s$ can cancel out one pole at zero. If there are more, then the limit doesn't exist."
   ]
  },
  {
   "cell_type": "markdown",
   "metadata": {},
   "source": [
    "---\n",
    "**Q:** When combining systems, is it always easier to find a transfer function representation than a state space one?\n",
    "\n",
    "**A:** I personally find everything about state space easier. "
   ]
  },
  {
   "cell_type": "markdown",
   "metadata": {},
   "source": [
    "---\n",
    "**Q:** What is a limit cycle?\n",
    "\n",
    "**A:** It is a periodic solution to a differential equation that nearby solutions tend toward. An oscillator is an example of a system with a limit cycle."
   ]
  },
  {
   "cell_type": "markdown",
   "metadata": {},
   "source": [
    "---\n",
    "**Q:** Why is $s$ complex?\n",
    "\n",
    "**A:** So it can represent the frequency of a signal. Consider the term\n",
    "\n",
    "$$\n",
    "e^{st}\n",
    "$$\n",
    "\n",
    "in the Laplace transform. If we let $s = a + \\omega i$ then we get\n",
    "\n",
    "$$\n",
    "e^{at}e^{i\\omega t}\n",
    "$$\n",
    "\n",
    "using the relationship between exponentials and sin and cos, we get\n",
    "\n",
    "$$\n",
    "e^{at}(\\cos \\omega t + i \\sin \\omega t)\n",
    "$$"
   ]
  },
  {
   "cell_type": "code",
   "execution_count": 3,
   "metadata": {},
   "outputs": [
    {
     "data": {
      "image/png": "[encoded data removed]",
      "text/plain": [
       "<matplotlib.figure.Figure at 0x1115ac160>"
      ]
     },
     "metadata": {},
     "output_type": "display_data"
    }
   ],
   "source": [
    "var(\"t\")\n",
    "sig = exp(-t)*exp(I*5*t)\n",
    "real = lambdify(t,re(sig),'numpy')\n",
    "imag = lambdify(t,im(sig),'numpy')\n",
    "tvals = np.linspace(0,10,400)\n",
    "plt.plot(real(tvals),imag(tvals));\n",
    "plt.xlabel(\"Real Part\")\n",
    "plt.ylabel(\"Imaginary Part\");"
   ]
  },
  {
   "cell_type": "markdown",
   "metadata": {},
   "source": [
    "----\n",
    "**Q:** Why Laplace? Why does it help to have systems in frequency domain?\n",
    "    \n",
    "**A:** It does make the math easier, which was especially important about 60 years ago when it was all being developed without fancy computers. Many mathematical results about control systems were figured out back then that we still use. Most control engineering these days is probably done in the time domain though."
   ]
  },
  {
   "cell_type": "markdown",
   "metadata": {},
   "source": [
    "----\n",
    "**Q:** Does $u$ gain dimensions as we combine systems?\n",
    "    \n",
    "**A:** It can, but doesn't have to. However, $\\x$ will likley gain dimensions."
   ]
  },
  {
   "cell_type": "markdown",
   "metadata": {},
   "source": [
    "----\n",
    "**Q:** What is your favorite movie?\n",
    "\n",
    "**A:** Groundhog day."
   ]
  },
  {
   "cell_type": "markdown",
   "metadata": {},
   "source": [
    "---\n",
    "**Q:** What is your research about?\n",
    "\n",
    "**A:** We design, build, and test new genetic parts for living system. "
   ]
  },
  {
   "cell_type": "markdown",
   "metadata": {},
   "source": [
    "---\n",
    "**Q:** Is there a way to build systems out of eigenvalues?\n",
    "    \n",
    "**A:** Yes, its called physical variable form. \n"
   ]
  },
  {
   "cell_type": "markdown",
   "metadata": {},
   "source": [
    "---\n",
    "**Q:** What happened to $D$?\n",
    "\n",
    "**A:** $D$ would be non-zero if some multiple of the control input $u$ somehow ended up directly affecting the output. You might end up with something like $y = x + u$. That's kind of a bad design though, so we usually don't see $D \\neq 0$.\n",
    "\n",
    "Note that if you had a nonlinear system with $y=g(x,u)$ you could get a $D$ matrix from that if it happened that $$\\frac{\\partial g}{\\partial u}$$ was not zero even with $x$ and $u$ equal to zero."
   ]
  },
  {
   "cell_type": "markdown",
   "metadata": {},
   "source": [
    "---\n",
    "**Q:** Where does the $X(s)$ and $H(s)$ come from in the notes?\n",
    "\n",
    "**A:** When we are reasoning about transfer functions, we'll often introduce new variables to represent temporary quantities and internal signals. "
   ]
  },
  {
   "cell_type": "markdown",
   "metadata": {},
   "source": [
    "---\n",
    "**Q:** Can you give an example where $A$ is not invertible and show how different systems give different trajectories? \n",
    "\n",
    "**A:** Sure. The simplest one is one-dimensional:\n",
    "\n",
    "$$\n",
    "\\dot x = u \\\\\n",
    "y = x\n",
    "$$\n",
    "\n",
    "In this case, if $u=0$ then the system doesn't go anywhere, so whatever the initial condition is is also the final value."
   ]
  },
  {
   "cell_type": "markdown",
   "metadata": {
    "collapsed": true
   },
   "source": [
    "---\n",
    "**Q:** Where did \n",
    "\n",
    "$$\n",
    "T = \\frac{G}{1+GH}\n",
    "$$\n",
    "\n",
    "come from? \n",
    "\n",
    "**A:** This is the transfer function of a feedback system with $G$ on the forward path and $H$ on the reverse path. See \"Example: Feedback\" in the section on \"Block Diagrams in Frequency Domain\" in the [lecture on combinations of systems](https://colab.research.google.com/github/klavins/ECE447/blob/master/lectures/combinations.ipynb)."
   ]
  },
  {
   "cell_type": "markdown",
   "metadata": {},
   "source": [
    "---\n",
    "**Q:** Why does sensitivity range between -1 and 1?\n",
    "\n",
    "**A:** It doesn't, although many examples work out that way. Here's an example where you can any positive sensitivity you  want:"
   ]
  },
  {
   "cell_type": "code",
   "execution_count": 5,
   "metadata": {},
   "outputs": [
    {
     "data": {
      "text/latex": [
       "$$x$$"
      ],
      "text/plain": [
       "x"
      ]
     },
     "execution_count": 5,
     "metadata": {},
     "output_type": "execute_result"
    }
   ],
   "source": [
    "var(\"x\")\n",
    "y = exp(x)\n",
    "S = diff(y,x)*(x/y)\n",
    "S"
   ]
  },
  {
   "cell_type": "markdown",
   "metadata": {},
   "source": [
    "---\n",
    "**Q:** How does a controller get implemented? Can we use the block diagram, transfer function, or $A$, $B$, and $C$ matrices to build a controller?\n",
    "\n",
    "**A1:** Yes! A controller is a block in a block diagram. It has its own transfer function. This, you need to build a device that implements that transfer function and hook it up to the plant according to the wiring in the block diagram.\n",
    "\n",
    "Controllers are implemented in many different ways. For example, the steam engine movie I showed at the beginning of the course implemented a proportional controller with a flyball governor. Your nervous system implements control of your body using neural networks. The Internet implements traffic control using code written in C that measures packet losses and throttles the rate it sends packets. In electronics, you can implement any transfer function using op-amps, resistors, and capacitors (See Ch 2, Section 2.4).\n",
    "\n",
    "**A2:** We will do some work on discrete time systems that can be implemented on a microcontroller later in the course. Pseudocode looks like this:\n",
    "\n",
    "    init:\n",
    "        # initialize vector of internal states\n",
    "        z = 0 \n",
    "\n",
    "    loop:\n",
    "    \n",
    "        # Get sensor value\n",
    "        y = read_sensors()\n",
    "        \n",
    "        # Compute control. Note: A, B, and C here are\n",
    "        # the controller's A, B and C, not the plant's.\n",
    "        # Also, this is in discrete time (see chapter 13).\n",
    "        z = delta*(A*z + B*y)\n",
    "        u = C*z\n",
    "        write_effector(u)\n",
    "\n",
    "**A3:** You will learn how to do this with hardware in ECE 448 and ECE 449."
   ]
  },
  {
   "cell_type": "markdown",
   "metadata": {},
   "source": [
    "---\n",
    "**Q:** What is a deep neural network.\n",
    "        \n",
    "**A:** We'll hopefully get to this in class. For now, try out some example Python notebooks by scrolling to the bottom of [this page](https://colab.research.google.com/notebooks/welcome.ipynb)."
   ]
  },
  {
   "cell_type": "markdown",
   "metadata": {},
   "source": [
    "---\n",
    "**Q:** Where do we put the controller in a system? Is there only one?\n",
    "        \n",
    "**A:** Usually the controller takes $r-y$ as input and produces $u$, the input to the plant, as output. You can also have it take $y$ as in input, and then have $r - Gc y$ go to the plant. Several other options exist as well. You just want the whole block diagram to behave as desired. And no, there is not only one. For example, we did an inner-loop, outer-loop example that had two."
   ]
  },
  {
   "cell_type": "markdown",
   "metadata": {},
   "source": [
    "---\n",
    "**Q:** Are the zeros in a transfer function important to control system design?\n",
    "        \n",
    "**A:** Yes! While the poles (or eigenvalues) affect the stability and rate of exponential decay, the poles affect the shape of the system's response. For example, consider the system\n",
    "\n",
    "$$\n",
    "T(s) = \\frac{s+z}{s^2+2s+2}\n",
    "$$\n",
    "\n",
    "with a step input $R(s) = 1/s$. The plot below shows the affects of different values for z. "
   ]
  },
  {
   "cell_type": "code",
   "execution_count": 20,
   "metadata": {},
   "outputs": [
    {
     "data": {
      "image/png": "[encoded data removed]",
      "text/plain": [
       "<matplotlib.figure.Figure at 0x120cb4be0>"
      ]
     },
     "metadata": {},
     "output_type": "display_data"
    }
   ],
   "source": [
    "var(\"s\")\n",
    "var(\"z\", real=True)\n",
    "var(\"t\", real=True, positive=True)\n",
    "\n",
    "T = (s+z)/(s**2+2*s+2)\n",
    "R = 1/s\n",
    "Y = T*R\n",
    "\n",
    "y1 = inverse_laplace_transform(Y.subs(z,2),s,t)\n",
    "y2 = inverse_laplace_transform(Y.subs(z,3),s,t)\n",
    "y3 = inverse_laplace_transform(Y.subs(z,4),s,t)\n",
    "y1\n",
    "plots = plotting.plot(y1,y2,y3,(t,0,10))"
   ]
  },
  {
   "cell_type": "markdown",
   "metadata": {},
   "source": [
    "---\n",
    "**Q:** Is there a coordinate system in which the math is the simplest?\n",
    "\n",
    "**A:** Coordinate systems in which $A$ is diagonal or in Jordan form are probably the easiest to reason about because the eigenvalues are on the diagonal. That said, they usually don't give you much intuition about what the variables mean like physical variable form does."
   ]
  },
  {
   "cell_type": "markdown",
   "metadata": {},
   "source": [
    "---\n",
    "**Q:** How do we assign meaning to $x_1$, $x_2$, etc.\n",
    "\n",
    "**A:** It depends on the problem. For example, suppose you had a falling object with position $x_1$ and velocity $x_2$. Then you would have\n",
    "\n",
    "$$\n",
    "\\dot x_1 = x_2 \\\\\n",
    "\\dot x_2 = -mg \n",
    "$$\n",
    "\n",
    "So the meanings of the two variables are the position and velocity of the object.\n",
    "\n",
    "However, suppose we now change variables, defining\n",
    "\n",
    "$$\n",
    "z_1 = x_1 + x_2 \\\\\n",
    "z_2 = x_1 - x_2\n",
    "$$\n",
    "\n",
    "Then \n",
    "\n",
    "$$\n",
    "x_1 = \\frac{1}{2}(z_1 + z_2) \\\\\n",
    "x_2 = \\frac{1}{2}(z_1 - z_2)\n",
    "$$\n",
    "\n",
    "and \n",
    "\n",
    "$$\n",
    "\\dot z_1 = \\dot x_1 + \\dot x_2 \\\\\n",
    "\\dot z_2 = \\dot x_1 - \\dot x_2\n",
    "$$\n",
    "\n",
    "By substituting in the above we get\n",
    "\n",
    "$$\n",
    "\\dot z_1 = \\frac{1}{2}z_1 - \\frac{1}{2}z_2 + mg \\\\\n",
    "\\dot z_2 = \\frac{1}{2}z_1 - \\frac{1}{2}z_2 - mg \n",
    "$$\n",
    "\n",
    "The two sets of differential equations represent **the same system**.\n",
    "\n",
    "What are the meanings of $z_1$ and $z_2$? There isn't much else you can say than that $z_1$ is the sum of the position and velocity and $z_2$ is the difference. The units don't even make sense. \n",
    "\n",
    "In general, unless you use some kind of physical variable form, the best you can say is that the state variables are linear combination of the physical variables in the system."
   ]
  },
  {
   "cell_type": "markdown",
   "metadata": {},
   "source": [
    "**Q:** What's with these summation thingys?\n",
    "\n",
    "**A:** The inputs are whatever the signals are, and the output is the sum of the signals on the input wires times times the signs written on those wires. Here's a diagram:\n",
    "\n",
    "<img width=40% src=\"https://www.techtransfer.com/wp-content/uploads/image002.jpg\">"
   ]
  },
  {
   "cell_type": "markdown",
   "metadata": {},
   "source": [
    "---\n",
    "**Q:** What's special about negative feedback?\n",
    "\n",
    "**A:** Think about trying to control your speed while driving. If you are going to fast, you slow down. If you are going to slow, you speed up. That's negative feedback. In math, \n",
    "\n",
    "$$\n",
    "u = K ( \\mathrm{desired\\;speed} - \\mathrm{actual\\;speed} )\n",
    "$$\n",
    "\n",
    "You can see the speed being negated, amplified, and being sent back into the system.\n",
    "\n",
    "Positive feedback would be the opposite, and doesn't usually work. If you are going to fast, speed up? Going to slow, slow down? "
   ]
  },
  {
   "cell_type": "markdown",
   "metadata": {},
   "source": [
    "---\n",
    "**Q:** When we have more than just $x_1$ and $x_2$, what do the additional dimensions mean? Can we represent them graphically?\n",
    "\n",
    "**A:** More than two dimensions would mean more stuff is moving or changing in your system. Consider an airplane. It has an $x$, $y$, $z$ position, a roll, pitch, and a yaw, as well as velocities of these systems. Thus, an airplane is a 12 dimensional system. How can you visualize it? It can be difficult. Usually we plot two or three of the dimensions a t a time. Or plot summary information, like the total kinetic energy of the airplane, or the heading, etc."
   ]
  },
  {
   "cell_type": "markdown",
   "metadata": {},
   "source": [
    "---\n",
    "**Q:** Do all the different forms essentially serve the same purpose with just different methods to compute things and different readability? \n",
    "\n",
    "**A:** Yes!"
   ]
  },
  {
   "cell_type": "markdown",
   "metadata": {},
   "source": [
    "---\n",
    "**Q:** How do you create a block diagram from a state space representation?\n",
    "    \n",
    "**A:** First, put in an integrator block for each variable, showing the relationship between the $x_i$ and the $\\dot x_i$. Then hook up all the wires with gains on them according to the matrices. Best to do an example on the board. "
   ]
  },
  {
   "cell_type": "markdown",
   "metadata": {},
   "source": [
    "---\n",
    "**Q:** In block diagrams, how do you know when things are multiplied or added?\n",
    "\n",
    "**A:** In frequency domain, two blocks in series are multiplied. The only adding going on will be with the summation points, as described above."
   ]
  },
  {
   "cell_type": "markdown",
   "metadata": {},
   "source": [
    "---\n",
    "**Q:** How do I plot the response of a given transfer function? \n",
    "\n",
    "**A1:** Answers below"
   ]
  },
  {
   "cell_type": "code",
   "execution_count": 23,
   "metadata": {},
   "outputs": [
    {
     "data": {
      "image/png": "[encoded data removed]",
      "text/plain": [
       "<matplotlib.figure.Figure at 0x123675ba8>"
      ]
     },
     "metadata": {},
     "output_type": "display_data"
    },
    {
     "data": {
      "text/latex": [
       "$$\\frac{2 e^{t} + 2 \\sin{\\left (t \\right )} - 2 \\cos{\\left (t \\right )}}{\\left(-1 + i\\right)^{2} \\left(1 + i\\right)^{2} e^{t}}$$"
      ],
      "text/plain": [
       "⎛   t                      ⎞  -t\n",
       "⎝2⋅ℯ  + 2⋅sin(t) - 2⋅cos(t)⎠⋅ℯ  \n",
       "────────────────────────────────\n",
       "               2        2       \n",
       "       (-1 + ⅈ) ⋅(1 + ⅈ)        "
      ]
     },
     "execution_count": 23,
     "metadata": {},
     "output_type": "execute_result"
    }
   ],
   "source": [
    "# Method 1: Use the inverse Laplace transform and sympy's plotting function.\n",
    "\n",
    "var(\"s\")\n",
    "var(\"z\", real=True)\n",
    "var(\"t\", real=True, positive=True)\n",
    "\n",
    "T = (s+1)/(s**2+2*s+2)\n",
    "R = 1/s\n",
    "Y = T*R\n",
    "\n",
    "y = inverse_laplace_transform(Y.subs(z,2),s,t)\n",
    "plotting.plot(y,(t,0,10));\n",
    "y"
   ]
  },
  {
   "cell_type": "code",
   "execution_count": 54,
   "metadata": {},
   "outputs": [
    {
     "name": "stderr",
     "output_type": "stream",
     "text": [
      "/anaconda/lib/python3.6/site-packages/numpy/core/numeric.py:538: ComplexWarning: Casting complex values to real discards the imaginary part\n",
      "  return array(a, dtype, copy=False, order=order)\n"
     ]
    },
    {
     "data": {
      "image/png": "[encoded data removed]",
      "text/plain": [
       "<matplotlib.figure.Figure at 0x122ef6908>"
      ]
     },
     "metadata": {},
     "output_type": "display_data"
    }
   ],
   "source": [
    "# Method 2: Use the same function, but with numpy and matplotlib\n",
    "\n",
    "tvals = np.linspace(0,10,100);\n",
    "f = lambdify(t,y,'numpy');\n",
    "plt.plot(tvals,f(tvals));"
   ]
  },
  {
   "cell_type": "code",
   "execution_count": 55,
   "metadata": {},
   "outputs": [
    {
     "data": {
      "image/png": "[encoded data removed]",
      "text/plain": [
       "<matplotlib.figure.Figure at 0x1242afa20>"
      ]
     },
     "metadata": {},
     "output_type": "display_data"
    }
   ],
   "source": [
    "# Method 3: Convert to state space and then plot\n",
    "\n",
    "var(\"tau\")\n",
    "\n",
    "# Define matrices\n",
    "A = Matrix([\n",
    "    [0,1],\n",
    "    [-2,-2]\n",
    "]);\n",
    "B = Matrix([[0],[1]])\n",
    "C = Matrix([[1,1]])\n",
    "\n",
    "# Initial condition (assumed by inverse laplace)\n",
    "x0 = Matrix([[0],[0]])\n",
    "\n",
    "# Input\n",
    "u = 1\n",
    "\n",
    "# Output\n",
    "y = C*exp(A*t)*x0 + integrate(C*exp(A*(t-tau))*B*u,(tau,0,t))\n",
    "\n",
    "# Note, the above returns a 1x1 matrix, so we need to get the value out\n",
    "y = y[0,0]\n",
    "\n",
    "# Use sympy's plotter. You could also use matplotlib\n",
    "plotting.plot(y,(t,0,10));"
   ]
  },
  {
   "cell_type": "code",
   "execution_count": 94,
   "metadata": {},
   "outputs": [
    {
     "data": {
      "image/png": "[encoded data removed]",
      "text/plain": [
       "<matplotlib.figure.Figure at 0x123f8e3c8>"
      ]
     },
     "metadata": {},
     "output_type": "display_data"
    }
   ],
   "source": [
    "# Method 4: The above symbolic integrations can be very slow, especially with higher dimensional systems.\n",
    "# Instead you can numerically integrate them, which gives you a simulation.\n",
    "\n",
    "def f(x,t):\n",
    "    x = A*Matrix(x) + B\n",
    "    return np.array(x).astype(np.float64).flatten()\n",
    "\n",
    "t = np.linspace(0,10,100);\n",
    "x = spi.odeint(f,[0,0],t);\n",
    "y = C[0,0]*x[:,0] + C[0,1]*x[:,1]\n",
    "plt.plot(t,y);"
   ]
  },
  {
   "cell_type": "code",
   "execution_count": 95,
   "metadata": {},
   "outputs": [
    {
     "data": {
      "image/png": "[encoded data removed]",
      "text/plain": [
       "<matplotlib.figure.Figure at 0x1233d1c18>"
      ]
     },
     "metadata": {},
     "output_type": "display_data"
    }
   ],
   "source": [
    "# Method 5: You can use the control systems toolbox\n",
    "# To install this in colab, you will need to do\n",
    "#\n",
    "#    !pip install control\n",
    "#\n",
    "\n",
    "from control import *\n",
    "\n",
    "sys = tf([1,1],[1,2,2])\n",
    "t,y = step_response(sys)\n",
    "plt.plot(t,y);"
   ]
  }
 ],
 "metadata": {
  "author": "r",
  "kernelspec": {
   "display_name": "Python 3",
   "language": "python",
   "name": "python3"
  },
  "language_info": {
   "codemirror_mode": {
    "name": "ipython",
    "version": 3
   },
   "file_extension": ".py",
   "mimetype": "text/x-python",
   "name": "python",
   "nbconvert_exporter": "python",
   "pygments_lexer": "ipython3",
   "version": "3.6.1"
  },
  "latex_envs": {
   "LaTeX_envs_menu_present": true,
   "autoclose": false,
   "autocomplete": true,
   "bibliofile": "biblio.bib",
   "cite_by": "apalike",
   "current_citInitial": 1,
   "eqLabelWithNumbers": true,
   "eqNumInitial": 1,
   "hotkeys": {
    "equation": "Ctrl-E",
    "itemize": "Ctrl-I"
   },
   "labels_anchors": false,
   "latex_user_defs": false,
   "report_style_numbering": false,
   "user_envs_cfg": false
  }
 },
 "nbformat": 4,
 "nbformat_minor": 2
}
