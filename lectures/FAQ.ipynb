{
 "cells": [
  {
   "cell_type": "markdown",
   "metadata": {},
   "source": [
    "ECE 447: Frequently Asked Questions\n",
    "===\n",
    "\n",
    "Prof. Eric Klavins\n",
    "\n",
    "&copy; 2019, University of Washington"
   ]
  },
  {
   "cell_type": "code",
   "execution_count": 2,
   "metadata": {
    "collapsed": true
   },
   "outputs": [],
   "source": [
    "import numpy as np\n",
    "import scipy.integrate as spi\n",
    "import matplotlib.pyplot as plt\n",
    "from sympy import *\n",
    "\n",
    "%matplotlib inline\n",
    "\n",
    "# Comment out in Google colab \n",
    "init_printing(use_latex='mathjax')\n",
    "\n",
    "# Uncomment in below Google colab to render sympy equations nicely\n",
    "# def custom_latex_printer(exp,**options):\n",
    "#     from google.colab.output._publish import javascript\n",
    "#     url = \"https://cdnjs.cloudflare.com/ajax/libs/mathjax/2.7.3/latest.js?config=default\"\n",
    "#     javascript(url=url)\n",
    "#     return printing.latex(exp,**options)\n",
    "# init_printing(use_latex=\"mathjax\",latex_printer=custom_latex_printer)"
   ]
  },
  {
   "cell_type": "markdown",
   "metadata": {},
   "source": [
    "**Q:** How do you determine an eigenvector from Jordan form? \n",
    "\n",
    "**A**: The same way you do with any other matrix. The main issue is that non-trivial Jordan blocks form matrices will have repeated eigenvectors. For example,\n",
    "\n",
    "$$\n",
    "J_2(1) = \\begin{pmatrix}\n",
    "1 & 1 \\\\\n",
    "0 & 1\n",
    "\\end{pmatrix}\n",
    "$$\n",
    "\n",
    "has eigenvalues 1 and 1. The eigenvalue equation $A \\x = \\lambda \\x$ amounts to\n",
    "\n",
    "\\begin{align}\n",
    "x_1 + x_2 & = x_1 \\\\\n",
    "x_2 = x_2 \n",
    "\\end{align}\n",
    "\n",
    "That first equation basically says $x_2 = 0$. So you get eigenvectors that are any multiple of \n",
    "\n",
    "$$\n",
    "{\\bf v} = \\begin{pmatrix}\n",
    "1 \\\\\n",
    "0\n",
    "\\end{pmatrix}\n",
    "$$\n",
    "\n",
    "You can see this in Python too."
   ]
  },
  {
   "cell_type": "code",
   "execution_count": 8,
   "metadata": {},
   "outputs": [
    {
     "data": {
      "text/latex": [
       "$$\\left [ \\left ( 1, \\quad 2, \\quad \\left [ \\left[\\begin{matrix}1\\\\0\\end{matrix}\\right]\\right ]\\right )\\right ]$$"
      ],
      "text/plain": [
       "⎡⎛1, 2, ⎡⎡1⎤⎤⎞⎤\n",
       "⎢⎜      ⎢⎢ ⎥⎥⎟⎥\n",
       "⎣⎝      ⎣⎣0⎦⎦⎠⎦"
      ]
     },
     "execution_count": 8,
     "metadata": {},
     "output_type": "execute_result"
    }
   ],
   "source": [
    "# J has eigenvalue 1 with multiplity 2 and only one eigenvector.\n",
    "J = Matrix([[1,1],[0,1]])\n",
    "J.eigenvects()"
   ]
  },
  {
   "cell_type": "markdown",
   "metadata": {},
   "source": [
    "----\n",
    "\n",
    "**Q:** Why do we need Jordan form?\n",
    "\n",
    "**A:** Mainly just to compute the matrix exponential easily. If you recall, we showed that computing the matrix exponential of Jordan blocks was easy. Then, since any matrix $A$ can be written as $A = P J P^{-1}$ we can just compute $e_J$ to get $e^A = P e^J P^{-1}$."
   ]
  },
  {
   "cell_type": "markdown",
   "metadata": {},
   "source": [
    "----\n",
    "**Q:** Why do we need to compute the matrix exponential?\n",
    "\n",
    "**A:** Because if you have a matrix differential equation $\\dot \\x = A \\x$ with initial condition $\\x(0)$, then the solution to the equation is \n",
    "\n",
    "$$\n",
    "\\x(t) = e^{At} \\x(0)\n",
    "$$"
   ]
  },
  {
   "cell_type": "markdown",
   "metadata": {},
   "source": [
    "----\n",
    "**Q:** What is $y$?\n",
    "\n",
    "**A:** $y$ is usually the *output* of our system. In general, if we have\n",
    "    \n",
    "\\begin{align}\n",
    "\\dot \\x & = A \\x + B u \\\\\n",
    "y & = C \\x\n",
    "\\end{align}    \n",
    "\n",
    "then $\\x$ is the system's internal state, $u$ is the input we can apply to the system, and $y$ is the output we can see. The feedback control problem is to find $u$ as a function of $y$ so that the resulting system performs as desired."
   ]
  },
  {
   "cell_type": "markdown",
   "metadata": {},
   "source": [
    "----\n",
    "\n",
    "**Q:** For this system:\n",
    "\n",
    "$$\n",
    "\\begin{pmatrix}\n",
    "\\dot x_1 \\\\\n",
    "\\dot x_2\n",
    "\\end{pmatrix} = \n",
    "\\begin{pmatrix}\n",
    "x_2 \\\\\n",
    "a \\sin x_1 + b u \\cos x_1\n",
    "\\end{pmatrix} .\n",
    "$$\n",
    "\n",
    "$$\n",
    "y = x_1\n",
    "$$\n",
    "\n",
    "how do you find the equilibrium point with $u=0$? \n",
    "\n",
    "**A:** Find  \n",
    "\n",
    "$$\n",
    "\\begin{pmatrix}\n",
    "x_2 \\\\\n",
    "a \\sin x_1 \n",
    "\\end{pmatrix} = \\begin{pmatrix}\n",
    "0 \\\\\n",
    "0\n",
    "\\end{pmatrix}\n",
    "$$\n",
    "\n",
    "which is any multiple of $\\pi$ for $x_1$ and zero for $x_2$."
   ]
  },
  {
   "cell_type": "markdown",
   "metadata": {},
   "source": [
    "----\n",
    "\n",
    "**Q:** We are making linear controllers for nonlinear systems around equilibrium points. Those controllers won't work everywhere in state space. So what is the range around the desired input we want our feedback controlled systems to work for? \n",
    "\n",
    "**A:** As big a range as possible! In general, it is a very difficult mathematical problem to determine the domain in which a linear controller will work. However, in simulation, can can test systems to see how big the regions are. This is not something we will be able to cover in this class."
   ]
  },
  {
   "cell_type": "markdown",
   "metadata": {},
   "source": [
    "---- \n",
    "**Q:** What does it mean \"to condition $r$\"?\n",
    "\n",
    "**A:** When you wrap a feedback loop around a system to get a new system with input $r$, you might also like that the new system's steady state is equal to $r$ when $r$ is a constant. If that is not the case, we'll add a block to multiply r by some scalar. So we pick an $a$ so that the new input becomes $\\tilde{r} = a r$ and the system's steady state is then equal to $\\tilde{r}$.\n",
    "\n",
    "For example, in the `input_output` notebook we had a system with input $r$ that had steady state output $4Kr$. So we made a new system with input $\\tilde{r} = \\frac{r}{4K}$.  "
   ]
  },
  {
   "cell_type": "markdown",
   "metadata": {},
   "source": [
    "----\n",
    "**Q:** Where exactly do $A$, $B$, $C$, and $D$ come from and what do they mean?\n",
    "\n",
    "**A:** These matrices are used to describe the dynamics of a linear system with input and output. They come from modeling a physical system such as a mechanical, electrical, or biological device. Such modeling either results in a linear system, or results in a nonlinear system which we then linearize to get these matrices. Your text book has many examples. We also went through the example of the pendulum in the input_output.ipynb notebook."
   ]
  },
  {
   "cell_type": "markdown",
   "metadata": {},
   "source": [
    "----\n",
    "**Q:** What are the $A$, $B$, $C$, and $D$ matrices for the general nonlinear case? \n",
    "\n",
    "**A:** There are none. You only get such matrices for linear systems. For nonlinear systems you have to write $\\dot \\x = f(\\x,u)$ and $y = g(\\x,u)$."
   ]
  },
  {
   "cell_type": "markdown",
   "metadata": {},
   "source": [
    "----\n",
    "**Q:** What are your other favorite mathematical objects other than matrix exponentials?\n",
    "    \n",
    "**A:** Here's a few: Partially ordered sets. Turing machines. Simplicial complexes. Petri nets."
   ]
  },
  {
   "cell_type": "markdown",
   "metadata": {},
   "source": [
    "----\n",
    "**Q:** Can we assume that the *natural response* is what the system would do if we didn't touch it (i.e. set $u=0$).\n",
    "\n",
    "**A:** Yes."
   ]
  },
  {
   "cell_type": "markdown",
   "metadata": {
    "collapsed": true
   },
   "source": [
    "----\n",
    "**Q:** For the final value theorem, why can't there be more than one pole at zero?\n",
    "\n",
    "**A:**: The formula \n",
    "\n",
    "$$\n",
    "\\lim_{s \\rightarrow 0}s F(s)\n",
    "$$\n",
    "\n",
    "the $s$ can cancel out one pole at zero. If there are more, then the limit doesn't exist."
   ]
  },
  {
   "cell_type": "markdown",
   "metadata": {},
   "source": [
    "---\n",
    "**Q:** When combining systems, is it always easier to find a transfer function representation than a state space one?\n",
    "\n",
    "**A:** I personally find everything about state space easier. "
   ]
  },
  {
   "cell_type": "markdown",
   "metadata": {},
   "source": [
    "---\n",
    "**Q:** What is a limit cycle?\n",
    "\n",
    "**A:** It is a periodic solution to a differential equation that nearby solutions tend toward. An oscillator is an example of a system with a limit cycle."
   ]
  },
  {
   "cell_type": "markdown",
   "metadata": {},
   "source": [
    "---\n",
    "**Q:** Why is $s$ complex?\n",
    "\n",
    "**A:** So it can represent the frequency of a signal. Consider the term\n",
    "\n",
    "$$\n",
    "e^{st}\n",
    "$$\n",
    "\n",
    "in the Laplace transform. If we let $s = a + \\omega i$ then we get\n",
    "\n",
    "$$\n",
    "e^{at}e^{i\\omega t}\n",
    "$$\n",
    "\n",
    "using the relationship between exponentials and sin and cos, we get\n",
    "\n",
    "$$\n",
    "e^{at}(\\cos \\omega t + i \\sin \\omega t)\n",
    "$$"
   ]
  },
  {
   "cell_type": "code",
   "execution_count": 3,
   "metadata": {},
   "outputs": [
    {
     "data": {
      "image/png": "[encoded data removed]",
      "text/plain": [
       "<matplotlib.figure.Figure at 0x1115ac160>"
      ]
     },
     "metadata": {},
     "output_type": "display_data"
    }
   ],
   "source": [
    "var(\"t\")\n",
    "sig = exp(-t)*exp(I*5*t)\n",
    "real = lambdify(t,re(sig),'numpy')\n",
    "imag = lambdify(t,im(sig),'numpy')\n",
    "tvals = np.linspace(0,10,400)\n",
    "plt.plot(real(tvals),imag(tvals));\n",
    "plt.xlabel(\"Real Part\")\n",
    "plt.ylabel(\"Imaginary Part\");"
   ]
  },
  {
   "cell_type": "markdown",
   "metadata": {},
   "source": [
    "----\n",
    "**Q:** Why Laplace? Why does it help to have systems in frequency domain?\n",
    "    \n",
    "**A:** It does make the math easier, which was especially important about 60 years ago when it was all being developed without fancy computers. Many mathematical results about control systems were figured out back then that we still use. Most control engineering these days is probably done in the time domain though."
   ]
  },
  {
   "cell_type": "markdown",
   "metadata": {},
   "source": [
    "----\n",
    "**Q:** Does $u$ gain dimensions as we combine systems?\n",
    "    \n",
    "**A:** It can, but doesn't have to. However, $\\x$ will likley gain dimensions."
   ]
  },
  {
   "cell_type": "markdown",
   "metadata": {},
   "source": [
    "----\n",
    "**Q:** What is your favorite movie?\n",
    "\n",
    "**A:** Groundhog day."
   ]
  },
  {
   "cell_type": "markdown",
   "metadata": {},
   "source": [
    "---\n",
    "**Q:** What is your research about?\n",
    "\n",
    "**A:** We design, build, and test new genetic parts for living system. "
   ]
  },
  {
   "cell_type": "markdown",
   "metadata": {},
   "source": [
    "---\n",
    "**Q:** Is there a way to build systems out of eigenvalues?\n",
    "    \n",
    "**A:** Yes, its called physical variable form. \n"
   ]
  },
  {
   "cell_type": "markdown",
   "metadata": {},
   "source": [
    "---\n",
    "**Q:** What happened to $D$?\n",
    "\n",
    "**A:** $D$ would be non-zero if some multiple of the control input $u$ somehow ended up directly affecting the output. You might end up with something like $y = x + u$. That's kind of a bad design though, so we usually don't see $D \\neq 0$.\n",
    "\n",
    "Note that if you had a nonlinear system with $y=g(x,u)$ you could get a $D$ matrix from that if it happened that $$\\frac{\\partial g}{\\partial u}$$ was not zero even with $x$ and $u$ equal to zero."
   ]
  },
  {
   "cell_type": "markdown",
   "metadata": {},
   "source": [
    "---\n",
    "**Q:** Where does the $X(s)$ and $H(s)$ come from in the notes?\n",
    "\n",
    "**A:** When we are reasoning about transfer functions, we'll often introduce new variables to represent temporary quantities and internal signals. "
   ]
  },
  {
   "cell_type": "markdown",
   "metadata": {},
   "source": [
    "---\n",
    "**Q:** Can you give an example where $A$ is not invertible and show how different systems give different trajectories? \n",
    "\n",
    "**A:** Sure. The simplest one is one-dimensional:\n",
    "\n",
    "$$\n",
    "\\dot x = u \\\\\n",
    "y = x\n",
    "$$\n",
    "\n",
    "In this case, if $u=0$ then the system doesn't go anywhere, so whatever the initial condition is is also the final value."
   ]
  },
  {
   "cell_type": "code",
   "execution_count": null,
   "metadata": {
    "collapsed": true
   },
   "outputs": [],
   "source": []
  }
 ],
 "metadata": {
  "author": "r",
  "kernelspec": {
   "display_name": "Python 3",
   "language": "python",
   "name": "python3"
  },
  "language_info": {
   "codemirror_mode": {
    "name": "ipython",
    "version": 3
   },
   "file_extension": ".py",
   "mimetype": "text/x-python",
   "name": "python",
   "nbconvert_exporter": "python",
   "pygments_lexer": "ipython3",
   "version": "3.6.1"
  },
  "latex_envs": {
   "LaTeX_envs_menu_present": true,
   "autoclose": false,
   "autocomplete": true,
   "bibliofile": "biblio.bib",
   "cite_by": "apalike",
   "current_citInitial": 1,
   "eqLabelWithNumbers": true,
   "eqNumInitial": 1,
   "hotkeys": {
    "equation": "Ctrl-E",
    "itemize": "Ctrl-I"
   },
   "labels_anchors": false,
   "latex_user_defs": false,
   "report_style_numbering": false,
   "user_envs_cfg": false
  }
 },
 "nbformat": 4,
 "nbformat_minor": 2
}
