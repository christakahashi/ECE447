{
 "cells": [
  {
   "cell_type": "markdown",
   "metadata": {},
   "source": [
    "ECE 447: Simple Control of a Pendulum\n",
    "===\n",
    "\n",
        "Updated by \n",
        " Dr. Chris Takahashi\n",
        "\n",
        "Authored by Prof. Eric Klavins &copy; 2019, University of Washington\n"
   ]
  },
  {
   "cell_type": "code",
   "execution_count": 1,
   "metadata": {
    "collapsed": true
   },
   "outputs": [],
   "source": [
    "import numpy as np\n",
    "import scipy.integrate as spi\n",
    "import matplotlib.pyplot as plt\n",
    "from sympy import *\n",
    "\n",
    "%matplotlib inline\n",
    "\n",
    "# Comment out in Google colab \n",
    "init_printing(use_latex='mathjax')\n",
    "\n",
    "# Uncomment in below Google colab to render sympy equations nicely\n",
    "# def custom_latex_printer(exp,**options):\n",
    "#     from google.colab.output._publish import javascript\n",
    "#     url = \"https://cdnjs.cloudflare.com/ajax/libs/mathjax/2.7.3/latest.js?config=default\"\n",
    "#     javascript(url=url)\n",
    "#     return printing.latex(exp,**options)\n",
    "# init_printing(use_latex=\"mathjax\",latex_printer=custom_latex_printer)"
   ]
  },
  {
   "cell_type": "markdown",
   "metadata": {},
   "source": [
    "Recall the pendulum model\n",
    "\n",
    "$$\n",
    "\\dot{\\left (\n",
    "\\begin{array}{c} \n",
    "\\theta \\\\ \n",
    "\\omega\n",
    "\\end{array} \\right )} = \n",
    "\\left (\n",
    "\\begin{array}{c} \n",
    "\\omega \\\\ \n",
    "\\sin\\theta-\\omega + u\n",
    "\\end{array} \\right )\n",
    "$$\n",
    "\n",
    "where $u$ is the torque applied to the pendulum.\n",
    "Suppose the output is the position $\\theta$:\n",
    "\n",
    "$$\n",
    "y = \\theta\n",
    "$$\n",
    "\n",
    "We can linearize this system as follows:"
   ]
  },
  {
   "cell_type": "code",
   "execution_count": 2,
   "metadata": {},
   "outputs": [
    {
     "data": {
      "text/latex": [
       "$$\\left ( \\left[\\begin{matrix}0 & 1\\\\1 & -1\\end{matrix}\\right], \\quad \\left[\\begin{matrix}0\\\\1\\end{matrix}\\right], \\quad \\left[\\begin{matrix}1 & 0\\end{matrix}\\right], \\quad \\left[\\begin{matrix}0\\end{matrix}\\right]\\right )$$"
      ],
      "text/plain": [
       "⎛⎡0  1 ⎤, ⎡0⎤, [1  0], [0]⎞\n",
       "⎜⎢     ⎥  ⎢ ⎥             ⎟\n",
       "⎝⎣1  -1⎦  ⎣1⎦             ⎠"
      ]
     },
     "execution_count": 2,
     "metadata": {},
     "output_type": "execute_result"
    }
   ],
   "source": [
    "var(\"theta omega u y\")\n",
    "f = Matrix([omega, sin(theta) + - omega + u])\n",
    "g = Matrix([theta])\n",
    "pfpx = f.jacobian(Matrix([theta,omega]))\n",
    "pfpu = f.jacobian(Matrix([u]))\n",
    "pgpx = g.jacobian(Matrix([theta,omega]))\n",
    "pgpu = g.jacobian(Matrix([u]))\n",
    "A = pfpx.subs(theta,0).subs(omega,0).subs(u,0)\n",
    "B = pfpu.subs(theta,0).subs(omega,0).subs(u,0)\n",
    "C = pgpx.subs(theta,0).subs(omega,0).subs(u,0)\n",
    "D = pgpu.subs(theta,0).subs(omega,0).subs(u,0)\n",
    "A,B,C,D"
   ]
  },
  {
   "cell_type": "markdown",
   "metadata": {},
   "source": [
    "So our linear model is \n",
    "\n",
    "$$\n",
    "\\dot \\x = \\begin{pmatrix}\n",
    "0 & 1 \\\\\n",
    "1 & -1\n",
    "\\end{pmatrix} \\x + \\begin{pmatrix}\n",
    "0 \\\\\n",
    "1\n",
    "\\end{pmatrix} u\n",
    "$$\n",
    "\n",
    "$$\n",
    "y = ( 0 \\; 1 ) \\x\n",
    "$$\n",
    "\n",
    "A somewhat simple way to control the pendulum to track a *reference input* r is to just wqrap a feedback loop around the system with a gain $K$.\n",
    "\n",
    "<img src=\"https://raw.githubusercontent.com/klavins/ECE447/master/images/feedback-loop-pendulum.png\" width=70%>\n",
    "\n",
    "In this case, we get a new linear system with input $r$ and output $y$. Here, $K$ is a *tunable* design parameter.\n",
    "\n",
    "We can find the equations for the new system by noting that\n",
    "\n",
    "$$\n",
    "u = K(r-y)\n",
    "$$\n",
    "\n",
    "then\n",
    "\n",
    "\n",
    "\\begin{align}\n",
    "\\dot \\x & = A \\x + B K (r-y) \\\\\n",
    "        & = A \\x + B K r - B K C \\x \\\\\n",
    "        & = ( A - B K C ) \\x + B K r\n",
    "\\end{align}\n",
    "\n",
    "\n",
    "so our new system has\n",
    "\n",
    "$$\n",
    "\\dot \\x = \\tilde{A} \\x + \\tilde{B} r\n",
    "$$\n",
    "\n",
    "with \n",
    "\n",
    "$$\n",
    "\\tilde{A} = A - B K C \n",
    "$$\n",
    "\n",
    "and\n",
    "\n",
    "$$\n",
    "\\tilde{B} = B K\n",
    "$$\n",
    "\n",
    "Since we still have $y = \\theta$, we still have $y = C \\x$ as before.\n",
    "\n",
    "Using `sympy` we can compute these matrices:"
   ]
  },
  {
   "cell_type": "code",
   "execution_count": 3,
   "metadata": {},
   "outputs": [
    {
     "data": {
      "text/latex": [
       "$$\\left ( \\left[\\begin{matrix}0 & 1\\\\- K + 1 & -1\\end{matrix}\\right], \\quad \\left[\\begin{matrix}0\\\\K\\end{matrix}\\right]\\right )$$"
      ],
      "text/plain": [
       "⎛⎡  0     1 ⎤, ⎡0⎤⎞\n",
       "⎜⎢          ⎥  ⎢ ⎥⎟\n",
       "⎝⎣-K + 1  -1⎦  ⎣K⎦⎠"
      ]
     },
     "execution_count": 3,
     "metadata": {},
     "output_type": "execute_result"
    }
   ],
   "source": [
    "var(\"K\")\n",
    "Anew = A - K*B*C\n",
    "Bnew = K*B\n",
    "Anew,Bnew"
   ]
  },
  {
   "cell_type": "markdown",
   "metadata": {},
   "source": [
    "We can can find the eigenvalues of $\\tilde{A}$:"
   ]
  },
  {
   "cell_type": "code",
   "execution_count": 4,
   "metadata": {},
   "outputs": [
    {
     "data": {
      "text/latex": [
       "$$\\left ( - \\frac{1}{2} \\sqrt{- 4 K + 5} - \\frac{1}{2}, \\quad \\frac{1}{2} \\sqrt{- 4 K + 5} - \\frac{1}{2}\\right )$$"
      ],
      "text/plain": [
       "⎛    __________        __________    ⎞\n",
       "⎜  ╲╱ -4⋅K + 5    1  ╲╱ -4⋅K + 5    1⎟\n",
       "⎜- ──────────── - ─, ──────────── - ─⎟\n",
       "⎝       2         2       2         2⎠"
      ]
     },
     "execution_count": 4,
     "metadata": {},
     "output_type": "execute_result"
    }
   ],
   "source": [
    "lam1,lam2=Anew.eigenvals()\n",
    "lam1,lam2"
   ]
  },
  {
   "cell_type": "markdown",
   "metadata": {},
   "source": [
    "And plot them as a function of $K$:"
   ]
  },
  {
   "cell_type": "code",
   "execution_count": 5,
   "metadata": {},
   "outputs": [
    {
     "data": {
      "image/png": "[encoded data removed]",
      "text/plain": [
       "<matplotlib.figure.Figure at 0x107b74e80>"
      ]
     },
     "metadata": {},
     "output_type": "display_data"
    }
   ],
   "source": [
    "kvals = np.linspace(-1,2,101)\n",
    "f1=lambdify(K,re(lam1), modules=['numpy'])\n",
    "f2=lambdify(K,re(lam2), modules=['numpy'])\n",
    "plt.plot(kvals,f1(kvals), label=\"$\\mathrm{re}(\\lambda_1)$\")\n",
    "plt.plot(kvals,f2(kvals), label=\"$\\mathrm{re}(\\lambda_2)$\")\n",
    "plt.xlabel(\"$K$\")\n",
    "plt.ylabel(\"$re(\\lambda)$\")\n",
    "plt.title(\"Stability vs K\")\n",
    "plt.legend();"
   ]
  },
  {
   "cell_type": "code",
   "execution_count": 6,
   "metadata": {},
   "outputs": [
    {
     "data": {
      "text/latex": [
       "$$\\left ( -1, \\quad 0\\right )$$"
      ],
      "text/plain": [
       "(-1, 0)"
      ]
     },
     "execution_count": 6,
     "metadata": {},
     "output_type": "execute_result"
    }
   ],
   "source": [
    "lam1.subs(K,1),lam2.subs(K,1)"
   ]
  },
  {
   "cell_type": "code",
   "execution_count": 7,
   "metadata": {},
   "outputs": [
    {
     "data": {
      "text/latex": [
       "$$\\left ( -0.887298334620742, \\quad -0.112701665379258\\right )$$"
      ],
      "text/plain": [
       "(-0.887298334620742, -0.112701665379258)"
      ]
     },
     "execution_count": 7,
     "metadata": {},
     "output_type": "execute_result"
    }
   ],
   "source": [
    "lam1.subs(K,1.1),lam2.subs(K,1.1)"
   ]
  },
  {
   "cell_type": "code",
   "execution_count": 8,
   "metadata": {},
   "outputs": [
    {
     "data": {
      "text/latex": [
       "$$\\left ( - \\frac{1}{2}, \\quad - \\frac{1}{2}\\right )$$"
      ],
      "text/plain": [
       "(-1/2, -1/2)"
      ]
     },
     "execution_count": 8,
     "metadata": {},
     "output_type": "execute_result"
    }
   ],
   "source": [
    "lam1.subs(K,5/4),lam2.subs(K,5/4)"
   ]
  },
  {
   "cell_type": "code",
   "execution_count": 9,
   "metadata": {},
   "outputs": [
    {
     "data": {
      "text/latex": [
       "$$\\left ( - \\frac{1}{2} - \\frac{\\sqrt{3} i}{2}, \\quad - \\frac{1}{2} + \\frac{\\sqrt{3} i}{2}\\right )$$"
      ],
      "text/plain": [
       "⎛  1   √3⋅ⅈ    1   √3⋅ⅈ⎞\n",
       "⎜- ─ - ────, - ─ + ────⎟\n",
       "⎝  2    2      2    2  ⎠"
      ]
     },
     "execution_count": 9,
     "metadata": {},
     "output_type": "execute_result"
    }
   ],
   "source": [
    "lam1.subs(K,2),lam2.subs(K,2)"
   ]
  },
  {
   "cell_type": "code",
   "execution_count": 40,
   "metadata": {},
   "outputs": [
    {
     "data": {
      "text/latex": [
       "$$\\left[\\begin{matrix}0\\\\0\\end{matrix}\\right]$$"
      ],
      "text/plain": [
       "⎡0⎤\n",
       "⎢ ⎥\n",
       "⎣0⎦"
      ]
     },
     "execution_count": 40,
     "metadata": {},
     "output_type": "execute_result"
    }
   ],
   "source": [
    "var(\"t tau r k\")\n",
    "k = 5\n",
    "x0=Matrix([0,0])\n",
    "xnat = exp(Anew.subs(K,k)*t)*x0\n",
    "xnat"
   ]
  },
  {
   "cell_type": "code",
   "execution_count": 41,
   "metadata": {},
   "outputs": [
    {
     "data": {
      "text/latex": [
       "$$\\left[\\begin{matrix}20.0 r - \\left(10.0 r t + 20.0 r\\right) e^{- 0.5 t}\\end{matrix}\\right]$$"
      ],
      "text/plain": [
       "⎡                              -0.5⋅t⎤\n",
       "⎣20.0⋅r - (10.0⋅r⋅t + 20.0⋅r)⋅ℯ      ⎦"
      ]
     },
     "execution_count": 41,
     "metadata": {},
     "output_type": "execute_result"
    }
   ],
   "source": [
    "w = exp(Anew.subs(K,5/4)*(t-tau))*Bnew.subs(K,k)*r\n",
    "xforced = integrate(w,(tau,0,t))\n",
    "x = xnat + xforced\n",
    "y = C*x + D*r\n",
    "y"
   ]
  },
  {
   "cell_type": "code",
   "execution_count": 42,
   "metadata": {},
   "outputs": [
    {
     "data": {
      "image/png": "[encoded data removed]",
      "text/plain": [
       "<matplotlib.figure.Figure at 0x1155911d0>"
      ]
     },
     "metadata": {},
     "output_type": "display_data"
    }
   ],
   "source": [
    "tvals = np.linspace(0,20,100)\n",
    "f = lambdify(t,y[0].subs(r,1), modules=['numpy'])\n",
    "plt.figure()   \n",
    "plt.plot(tvals, f(tvals),label=\"$y(t)$\")\n",
    "plt.xlabel('$t$')\n",
    "plt.ylabel('angle in radians')\n",
    "plt.title(\"System response\")\n",
    "plt.legend();"
   ]
  },
  {
   "cell_type": "markdown",
   "metadata": {},
   "source": [
    "Note that an annoying thing that happens is that $r$ gets scaled by $B$, which has a $K$ in it. So typically one scales $r$ with to make it match the desired output size. Thus, we get something more like:"
   ]
  },
  {
   "cell_type": "code",
   "execution_count": 43,
   "metadata": {},
   "outputs": [
    {
     "data": {
      "text/latex": [
       "$$\\left ( 20.0 r, \\quad 0\\right )$$"
      ],
      "text/plain": [
       "(20.0⋅r, 0)"
      ]
     },
     "execution_count": 43,
     "metadata": {},
     "output_type": "execute_result"
    }
   ],
   "source": [
    "limit(xforced[0],t,oo),limit(xforced[1],t,oo)"
   ]
  },
  {
   "cell_type": "code",
   "execution_count": 45,
   "metadata": {},
   "outputs": [
    {
     "data": {
      "image/png": "[encoded data removed]",
      "text/plain": [
       "<matplotlib.figure.Figure at 0x11525e828>"
      ]
     },
     "metadata": {},
     "output_type": "display_data"
    }
   ],
   "source": [
    "tvals = np.linspace(0,20,100)\n",
    "f = lambdify(t,y[0].subs(r,1/(4*K)).subs(K,k), modules=['numpy'])\n",
    "plt.figure()   \n",
    "plt.plot(tvals, f(tvals),label=\"$y(t)$\")\n",
    "plt.xlabel('$t$')\n",
    "plt.ylabel('angle in radians')\n",
    "plt.title(\"System response\")\n",
    "plt.legend();"
   ]
  },
  {
   "cell_type": "code",
   "execution_count": null,
   "metadata": {
    "collapsed": true
   },
   "outputs": [],
   "source": []
  }
 ],
 "metadata": {
  "author": "A",
  "kernelspec": {
   "display_name": "Python 3",
   "language": "python",
   "name": "python3"
  },
  "language_info": {
   "codemirror_mode": {
    "name": "ipython",
    "version": 3
   },
   "file_extension": ".py",
   "mimetype": "text/x-python",
   "name": "python",
   "nbconvert_exporter": "python",
   "pygments_lexer": "ipython3",
   "version": "3.6.1"
  },
  "latex_envs": {
   "LaTeX_envs_menu_present": true,
   "autoclose": false,
   "autocomplete": true,
   "bibliofile": "biblio.bib",
   "cite_by": "apalike",
   "current_citInitial": 1,
   "eqLabelWithNumbers": true,
   "eqNumInitial": 1,
   "hotkeys": {
    "equation": "Ctrl-E",
    "itemize": "Ctrl-I"
   },
   "labels_anchors": false,
   "latex_user_defs": false,
   "report_style_numbering": false,
   "user_envs_cfg": false
  }
 },
 "nbformat": 4,
 "nbformat_minor": 2
}
