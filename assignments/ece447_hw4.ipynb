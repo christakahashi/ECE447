{
 "cells": [
  {
   "cell_type": "markdown",
   "metadata": {},
   "source": [
    "Homework 3 : YOUR NAME HERE\n",
    "===\n",
    "\n",
    "Phase Portraits, expoententials, and solutions\n",
    "\n",
    "**<span style=\"color: darkgreen\">Due Sunday April 28 at 11:59pm</span>**\n",
    "\n",
    "**Instructions:** Make a copy of this notebook that you can edit and save. If you are using CoLab, that means clicking File>Save and then \"SAVE A COPY IN DRIVE\". Then, for each problem, insert your answers directly underneath the problem description as one or more `Code` or `Markdown` cells as appropriate. Every code cell should execute without errors. TAs and graders may not have resources to debug your code. When you are satisfied with your answers upload your notebook to canvas. "
   ]
  },
  {
   "cell_type": "markdown",
   "metadata": {},
   "source": [
    "**Relevant Reading**\n",
    "\n",
    "- Most of the state space and transfer function relationships we have been talking about are in Nise chapters 3 and 4. Block diagrams are in chapter 5."
   ]
  },
  {
   "cell_type": "markdown",
   "metadata": {
    "collapsed": true
   },
   "source": [
    "1. Modeling\n",
    "---\n",
    "\n",
    "Do Nise Ch 2, Problem 62. "
   ]
  },
  {
   "cell_type": "markdown",
   "metadata": {},
   "source": [
    "2. Transfer Functions from State Space\n",
    "---\n",
    "\n",
    "Do Nise Ch 3, problems 14 and 15. Use Python and sympy instead of MATLAB."
   ]
  },
  {
   "cell_type": "markdown",
   "metadata": {},
   "source": [
    "3. Diabetes Example\n",
    "---\n",
    "\n",
    "Do Nise Ch 3, problem 24."
   ]
  },
  {
   "cell_type": "markdown",
   "metadata": {},
   "source": [
    "4. Endocrine system\n",
    "---\n",
    "\n",
    "Do Nise Ch 3, problem 25."
   ]
  },
  {
   "cell_type": "markdown",
   "metadata": {},
   "source": [
    "5. Representations\n",
    "---\n",
    "\n",
    "Do Nise Ch 3, problem 28. Use `sympy`."
   ]
  },
  {
   "cell_type": "markdown",
   "metadata": {},
   "source": [
    "6. Control of HIV/AIDS\n",
    "---\n",
    "\n",
    "Do Nise Ch 3, problem 31"
   ]
  },
  {
   "cell_type": "markdown",
   "metadata": {},
   "source": [
    "7. Final Value Theorem\n",
    "---\n",
    "\n",
    "Using the system defined in Nise Ch 4, problem 10, find the final value of the system given a step input. Calculate this two different ways: (a) By solving for the final value directly in state space. (b) By finding the system's transfer function and computing the final value using the frequency domain method. Ok to use `sympy`. Refer to the \"Transfer Functions\" Python notebook."
   ]
  },
  {
   "cell_type": "code",
   "execution_count": null,
   "metadata": {
    "collapsed": true
   },
   "outputs": [],
   "source": []
  }
 ],
 "metadata": {
  "kernelspec": {
   "display_name": "Python 3",
   "language": "python",
   "name": "python3"
  },
  "language_info": {
   "codemirror_mode": {
    "name": "ipython",
    "version": 3
   },
   "file_extension": ".py",
   "mimetype": "text/x-python",
   "name": "python",
   "nbconvert_exporter": "python",
   "pygments_lexer": "ipython3",
   "version": "3.6.1"
  },
  "latex_envs": {
   "LaTeX_envs_menu_present": true,
   "autoclose": false,
   "autocomplete": true,
   "bibliofile": "biblio.bib",
   "cite_by": "apalike",
   "current_citInitial": 1,
   "eqLabelWithNumbers": true,
   "eqNumInitial": 1,
   "hotkeys": {
    "equation": "Ctrl-E",
    "itemize": "Ctrl-I"
   },
   "labels_anchors": false,
   "latex_user_defs": false,
   "report_style_numbering": false,
   "user_envs_cfg": false
  }
 },
 "nbformat": 4,
 "nbformat_minor": 2
}
