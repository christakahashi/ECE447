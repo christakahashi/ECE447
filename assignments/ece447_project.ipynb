{
 "cells": [
  {
   "cell_type": "markdown",
   "metadata": {},
   "source": [
    "EE 447 Project : YOUR NAME HERE\n",
    "===\n",
    "\n",
    "Control of a predator-prey system\n",
    "\n",
    "**<span style=\"color: darkgreen\">Due Sunday May 26 at 11:59pm</span>**\n"
   ]
  },
  {
   "cell_type": "markdown",
   "metadata": {
    "collapsed": true
   },
   "source": [
    "Overview\n",
    "---\n",
    "\n",
    "For this project, you will design several control systems for a\n",
    "chemostat containing predator cells and prey cells. You will use root\n",
    "locus, full state feedback and LQR. To validate the approach, you will\n",
    "simulate the complete system with the nonlinear model of the\n",
    "chemostat. You will also determine how well your controller works in\n",
    "a discretized setting. Finally, you will assess the performance and\n",
    "robustness to disturbances and noise in your system.\n",
    "\n",
    "You should turn your project in as an executable Python notebook that runs\n",
    "in Google colab with the following formatting rules:\n",
    "\n",
    "1. Your notebook should have a title, your name, the name of the course, and the date prominently displayed at the top.\n",
    "1. Each below should be contained in a new section, with a large markdown heading of the form\n",
    "```\n",
    "# Task n: Title\n",
    "```\n",
    "followed by a short paragraph restating the goal of the task. \n",
    "1. Each task should include a *textual* description, including equations, of how you accomplished the task.\n",
    "1. All code blocks should be included detailed comments. Extraneous cells that you used\n",
    "for testing or side calculations should be deleted. "
   ]
  },
  {
   "cell_type": "markdown",
   "metadata": {},
   "source": [
    "# Model"
   ]
  }
 ],
 "metadata": {
  "kernelspec": {
   "display_name": "Python 3",
   "language": "python",
   "name": "python3"
  },
  "language_info": {
   "codemirror_mode": {
    "name": "ipython",
    "version": 3
   },
   "file_extension": ".py",
   "mimetype": "text/x-python",
   "name": "python",
   "nbconvert_exporter": "python",
   "pygments_lexer": "ipython3",
   "version": "3.6.1"
  },
  "latex_envs": {
   "LaTeX_envs_menu_present": true,
   "autoclose": false,
   "autocomplete": true,
   "bibliofile": "biblio.bib",
   "cite_by": "apalike",
   "current_citInitial": 1,
   "eqLabelWithNumbers": true,
   "eqNumInitial": 1,
   "hotkeys": {
    "equation": "Ctrl-E",
    "itemize": "Ctrl-I"
   },
   "labels_anchors": false,
   "latex_user_defs": false,
   "report_style_numbering": false,
   "user_envs_cfg": false
  }
 },
 "nbformat": 4,
 "nbformat_minor": 2
}
