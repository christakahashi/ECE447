{
 "cells": [
  {
   "cell_type": "markdown",
   "metadata": {},
   "source": [
    "EE 447 Project : YOUR NAME HERE\n",
    "===\n",
    "\n",
    "Control of a predator-prey system\n",
    "\n",
    "**<span style=\"color: darkgreen\">Due Friday June 14 at 11:59pm</span>**\n"
   ]
  },
  {
   "cell_type": "markdown",
   "metadata": {
    "collapsed": true
   },
   "source": [
    "# Overview\n",
    "\n",
    "For this project, you will design several control systems for a\n",
    "chemostat containing predator cells and prey cells. You will use root\n",
    "locus, full state feedback and LQR. To validate the approach, you will\n",
    "simulate the complete system with the nonlinear model of the\n",
    "chemostat. You will also determine how well your controller works in\n",
    "a discretized setting. Finally, you will assess the performance and\n",
    "robustness to disturbances and noise in your system.\n",
    "\n",
    "You should turn your project in as an executable Python notebook that runs\n",
    "in Google colab with the following formatting rules:\n",
    "\n",
    "1. Your notebook should have a title, your name, the name of the course, and the date prominently displayed at the top.\n",
    "1. Each below should be contained in a new section, with a large markdown heading of the form\n",
    "```\n",
    "# Task n: Title\n",
    "```\n",
    "followed by a short paragraph restating the goal of the task. \n",
    "1. Each task should include a *textual* description, including equations, of how you accomplished the task.\n",
    "1. All code blocks should be included detailed comments. Extraneous cells that you used\n",
    "for testing or side calculations should be deleted. \n",
    "1. Use figures where"
   ]
  },
  {
   "cell_type": "markdown",
   "metadata": {},
   "source": [
    "# The System\n",
    "\n",
    "For this project you will control a system consisting of a chemostat\n",
    "of well-mixed nutrients and two types of microscopic organisms: algae\n",
    "and rotifers (Fig.  \\ref{fig:chemostat}).  The\n",
    "concentration of nutrients in the system as a function of time is\n",
    "$n(t)$ micromoles per microliter. The concentrations of algae and\n",
    "rotifers in the system are $a(t)$ and $b(t)$ cells per microliter\n",
    "respectively. The control input is the rate $u(t)$ at which nutrients\n",
    "are added to the system. The output $y(t)$ of the system is the\n",
    "concentration $b(t)$ of predator cells in the system. The rotifers\n",
    "have been genetically engineered to express a protein called green\n",
    "fluorescent protein (GFP) (usually found in jellyfish), which\n",
    "can be measured continuously with a spectrofluorimeter.\n",
    "\n",
    "<img width=35% src=\"https://raw.githubusercontent.com/klavins/ECE447/master/images/chemostat.png\">\n",
    "\n",
    "A model of the dynamics of this system is as follows. Nutrients are\n",
    "added to the system at a rate $u$ and are digested by algae at a rate\n",
    "proportional to the concentration of nutrients times the concentration\n",
    "of algae. Symbolically,\n",
    "\n",
    "$$\n",
    "\\dot n = u - k_1 n a, \n",
    "$$\n",
    "\n",
    "where $k_1 > 0$ is the rate of digestion. Algae reproduce at a rate\n",
    "proportional to the rate of nutrient digestion. However, the algae are\n",
    "eaten by rotifers at rate proportional to the product of their\n",
    "concentrations. Also, the algae die at a certain rate as well. In\n",
    "symbols,\n",
    "\n",
    "$$\n",
    "\\dot a = k_1 \\alpha n a - k_2 a b - k_3 a,\n",
    "$$\n",
    "\n",
    "where $\\alpha > 0$, $k_2 > 0$ and $k_3 > 0$. Finally, the rotifers\n",
    "reproduce at a rate proportional to the rate ate which they eat algae,\n",
    "and they die because their genetic alterations make the nutrient\n",
    "poisonous to them.\n",
    "\n",
    "$$\n",
    "\\dot b = k_2 \\beta a b - k_4 n b.\n",
    "$$\n",
    "\n",
    "Finally, as was described above, the output is\n",
    "\n",
    "$$\n",
    "y = b.\n",
    "$$\n",
    "\n",
    "Suppose the parameters have been measured and found to be\n",
    "approximately\n",
    "\n",
    "\\begin{eqnarray*}\n",
    "k_1 & = & 0.5 \\\\\n",
    "k_2 & = & 0.7 \\\\\n",
    "k_3 & = & 0.5 \\\\\n",
    "k_4 & = & 0.9 \\\\\n",
    "\\alpha & = & 1.1 \\\\\n",
    "\\beta & = & 2.0 .\n",
    "\\end{eqnarray*}\n",
    "\n",
    "Note: all rates are measured in reactions per hour. "
   ]
  },
  {
   "cell_type": "markdown",
   "metadata": {},
   "source": [
    "# Task 1: Simulation\n",
    "\n",
    "Simulate this system assuming a constant rate $u = 1$ at\n",
    "which nutrients are added to the system. Plot $n$, $a$ and $b$ as a\n",
    "function of time and discuss the behavior."
   ]
  },
  {
   "cell_type": "markdown",
   "metadata": {},
   "source": [
    "# Task 2: Performance Specification\n",
    "\n",
    "It turns out that the algae will evolve to defend themselves against\n",
    "the rotifers when the rotifer population is high. Thus, the goal is to stabilize the concentration of rotifers at 1.0 cells per microliter to prevent the rapid evolution\n",
    "of the algae. The rate at which the algae evolve is on the order of 5\n",
    "hours. Thus, the rotifer population should be stabilized within that\n",
    "time with the minimum overshoot possible.\n",
    "\n",
    "Translate the above paragraph into a mathematical\n",
    "specification. You may need to revise this specification based on\n",
    "future tasks. So assume that it is malleable.\n"
   ]
  },
  {
   "cell_type": "markdown",
   "metadata": {},
   "source": [
    "# Task 3: Linearization\n",
    "\n",
    "To control this system using the methods in this course, you need to\n",
    "obtain a linear model around the desired equilibrium point.\n",
    "\n",
    "Determine what $n$, $a$ and $u$ are required to keep\n",
    "$b=b^*=1$. Call these values $n^*$, $a^*$ and $u^*$. Define error\n",
    "coordinates ${\\bf x}_e = {\\bf x} - {\\bf x}^*$. Linearize the model of the\n",
    "system around this point to obtain a model of the form\n",
    "\n",
    "\\begin{eqnarray*}\n",
    "\\dot {\\bf x}_e & = & A {\\bf x}_e + B u_e \\\\\n",
    "y_e & = & C {\\bf x}_e\n",
    "\\end{eqnarray*}\n",
    "\n",
    "where $y_e$ is the difference between the desired concentration of\n",
    "rotifer and the measured concentration. Determine the poles of the\n",
    "system and discuss its natural (uncontrolled) behavior. Finally,\n",
    "obtain a transfer function of the system. "
   ]
  },
  {
   "cell_type": "markdown",
   "metadata": {},
   "source": [
    "# Task 4: Root Locus Design\n",
    "\n",
    "a) Plot the root locus of the system. Design a compensator\n",
    "using root locus methods that achieves your performance\n",
    "specification. Plot the root locus of the controlled system as\n",
    "well. \n",
    "\n",
    "b) Plot the impulse response of the system using the\n",
    "linear model *and* the nonlinear model. Discuss the differences between the two responses."
   ]
  },
  {
   "cell_type": "markdown",
   "metadata": {},
   "source": [
    "# Task 5:  Disturbances and Noise\n",
    "\n",
    "a) Occasionally, the nutrient mix may be contaminated,\n",
    "resulting in its being less effective. Determine a model of this kind of disturbance, and\n",
    "discuss its effect on the controlled system.\n",
    "\n",
    "b) The spectrofluorimeter shines a light on the mixture and measures the\n",
    "resulting fluorescence at a different wavelength. Unfortunately, this\n",
    "bleaches the GFP in the system, so that the resulting output may not\n",
    "be $y=a$, but $y=\\gamma a$ where $0 < \\gamma < 1$. Discuss the sensitivity of the controlled system to $\\gamma$."
   ]
  },
  {
   "cell_type": "markdown",
   "metadata": {},
   "source": [
    "# Task 6: Full State Feedback\n",
    "\n",
    "Determine whether the system is controllable. If it is,\n",
    "design a full state feedback controller to obtain the desired\n",
    "performance. Plot the impulse response of the controlled system\n",
    "with the linear model and the nonlinear model."
   ]
  },
  {
   "cell_type": "markdown",
   "metadata": {},
   "source": [
    "# Task 7: Observer Design\n",
    "\n",
    "a) Unfortunately, it is not easy to measure the population of algae or\n",
    "the concentration of nutrients. Determine whether the system is observable. If it is,\n",
    "design an observer for the system. Explain your choice of observer gains.\n",
    "\n",
    "b) Build a simulation of the system using your full state\n",
    "controller and the observer. Plot the impulse response using the\n",
    "linear and the nonlinear model. Assume that the concentration of\n",
    "nutrients is initially $n(0)=0$. Plot the estimates of the other\n",
    "states as well."
   ]
  },
  {
   "cell_type": "markdown",
   "metadata": {},
   "source": [
    "# Task 8: Discretization\n",
    "\n",
    "Derive a discrete model of one of your controlled systems (either the root locus version, the full state feedback version, or the full state feedback with observer version).  Plot the magnitude of the eigenvalues of the closed loop system versus the sampling period. Determine maximum sampling period you can use with your controller that keeps the system stable."
   ]
  },
  {
   "cell_type": "markdown",
   "metadata": {},
   "source": [
    "# Task 9: Realism\n",
    "\n",
    "(Stretch Goal)\n",
    "\n",
    "The model we propose above is only an approximation. One way to\n",
    "explore how well your controller will work when applied to the actual\n",
    "system is to increase the realism in the model. There are three\n",
    "important differences between the model and reality. (1) The\n",
    "parameters $k_1$ -- $k_4$, $\\alpha$ and $\\beta$ may be off by as much\n",
    "as 10\\%. (2) There is a significant delay of as much as 10 minutes in\n",
    "the observation. That is, $y(t) = b(t - \\tau)$ where $\\tau > 0$ is the\n",
    "delay time. (3) Nutrients cannot be added at negative rates or at high\n",
    "rates. It turns out that $0.0 \\leq u \\leq 4.0$.\n",
    "\n",
    "Build a new model to include these\n",
    "modeling discrepancies. Simulate the resulting system response to an\n",
    "impulse using whichever controller works the best. Do not assume the\n",
    "full state is available."
   ]
  },
  {
   "cell_type": "code",
   "execution_count": null,
   "metadata": {
    "collapsed": true
   },
   "outputs": [],
   "source": []
  }
 ],
 "metadata": {
  "kernelspec": {
   "display_name": "Python 3",
   "language": "python",
   "name": "python3"
  },
  "language_info": {
   "codemirror_mode": {
    "name": "ipython",
    "version": 3
   },
   "file_extension": ".py",
   "mimetype": "text/x-python",
   "name": "python",
   "nbconvert_exporter": "python",
   "pygments_lexer": "ipython3",
   "version": "3.6.1"
  },
  "latex_envs": {
   "LaTeX_envs_menu_present": true,
   "autoclose": false,
   "autocomplete": true,
   "bibliofile": "biblio.bib",
   "cite_by": "apalike",
   "current_citInitial": 1,
   "eqLabelWithNumbers": true,
   "eqNumInitial": 1,
   "hotkeys": {
    "equation": "Ctrl-E",
    "itemize": "Ctrl-I"
   },
   "labels_anchors": false,
   "latex_user_defs": false,
   "report_style_numbering": false,
   "user_envs_cfg": false
  }
 },
 "nbformat": 4,
 "nbformat_minor": 2
}
