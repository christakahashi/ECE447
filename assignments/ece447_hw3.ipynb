{
 "cells": [
  {
   "cell_type": "markdown",
   "metadata": {},
   "source": [
    "Homework 3 : YOUR NAME HERE\n",
    "===\n",
    "\n",
    "Phase Portraits, expoententials, and solutions\n",
    "\n",
    "**<span style=\"color: darkgreen\">Due Sunday April 21 at 11:59pm</span>**\n",
    "\n",
    "**Instructions:** Make a copy of this notebook that you can edit and save. If you are using CoLab, that means clicking File>Save and then \"SAVE A COPY IN DRIVE\". Then, for each problem, insert your answers directly underneath the problem description as one or more `Code` or `Markdown` cells as appropriate. Every code cell should execute without errors. TAs and graders may not have resources to debug your code. When you are satisfied with your answers upload your notebook to canvas. "
   ]
  },
  {
   "cell_type": "markdown",
   "metadata": {},
   "source": [
    "**Relevant Reading**\n",
    "\n",
    "- Nise Chapters 3 and 4. Note, we haven't covered everything yet in these chapters yet, but we will and it would be good for you to read them."
   ]
  },
  {
   "cell_type": "markdown",
   "metadata": {},
   "source": [
    "1. Phase Portraits and Linearization\n",
    "---\n",
    "\n",
    "For each of the\n",
    "following systems, (i) find the equilibria, (ii) linearize the system\n",
    "around each equilibrium and find the eigenvalues and eigenvectors, (iii)\n",
    "state whether the system is stable at each equilibrium, (iv) draw a phase\n",
    "portrait by first drawing the phase portrait near the equilibria and\n",
    "then interpolating. Compare your drawing to a phase portrait of the entire system generated with Python.\n",
    "\n",
    "$$\n",
    "\\mathrm{a)} \\;\\; \n",
    "\\begin{pmatrix}\n",
    "\\dot x_1 \\\\\n",
    "\\dot x_2\n",
    "\\end{pmatrix} = \n",
    "\\begin{pmatrix}\n",
    "x_2^2 \\\\\n",
    "x_1^2\n",
    "\\end{pmatrix}\n",
    "$$\n",
    "\n",
    "$$\n",
    "\\mathrm{c)} \\;\\; \n",
    "\\begin{pmatrix}\n",
    "\\dot x_1 \\\\\n",
    "\\dot x_2\n",
    "\\end{pmatrix} = \n",
    "\\begin{pmatrix}\n",
    "x_1^2 + x_2^2 \\\\\n",
    "x_2\n",
    "\\end{pmatrix}\n",
    "$$\n",
    "\n",
    "$$\n",
    "\\mathrm{c)} \\;\\; \n",
    "\\begin{pmatrix}\n",
    "\\dot x_1 \\\\\n",
    "\\dot x_2\n",
    "\\end{pmatrix} = \n",
    "\\begin{pmatrix}\n",
    "\\sin x_2 \\\\\n",
    "\\cos x_1\n",
    "\\end{pmatrix}\n",
    "$$"
   ]
  },
  {
   "cell_type": "markdown",
   "metadata": {},
   "source": [
    "2. Nonlinear Systems\n",
    "---\n",
    "\n",
    "a) find a single nonlinear systems that has exactly four distinct equilibria, each of which has a different eigenvalue structure (i.e. a different type in the taxonomy). \n",
    "\n",
    "b) Find a nonlinear system that has the following phase portrait. Hint: Try polar coordinates. Plot the phase portait in Python.\n",
    "\n",
    "<img src=\"https://raw.githubusercontent.com/klavins/ECE447/master/images/limit-cycle.png\" width=30%>"
   ]
  },
  {
   "cell_type": "markdown",
   "metadata": {},
   "source": [
    "Jordan Form\n",
    "---\n",
    "\n",
    "Use `sympy` to find the Jordan form for each matrix below. Describe what the Jordan blocks are in each case. Show that in each case $A = PJP^{-1}$ and that $e^{At} = Pe^{Jt}P^{-1}$. \n",
    "\n",
    "$$\n",
    "A = \\begin{pmatrix}\n",
    "1 & -3 & 3 & 0 \\\\\n",
    "-2 & 1 & 2 & 0 \\\\\n",
    "-2 & -3 & 6 & 0 \\\\\n",
    "-1 & -1 & 1 & 2\n",
    "\\end{pmatrix}\n",
    "$$\n",
    "\n",
    "$$\n",
    "A = \\begin{pmatrix}\n",
    "0 & 0 & 0 & 1 \\\\\n",
    "-2 & 2 & 0 & 1 \\\\\n",
    "-2 & -1 & 3 & 1 \\\\\n",
    "-1 & 0 & 0 & 2\n",
    "\\end{pmatrix}\n",
    "$$\n",
    "\n",
    "$$\n",
    "A = \\begin{pmatrix}\n",
    "0 & -3 & 1 & 1 \\\\\n",
    "1 & -3 & 0 & 1 \\\\\n",
    "1 & -2 & -1 & 1 \\\\\n",
    "2 & -1 & -2 & 0\n",
    "\\end{pmatrix}\n",
    "$$"
   ]
  },
  {
   "cell_type": "markdown",
   "metadata": {},
   "source": [
    "4. Matrix Exponential Properties\n",
    "---\n",
    "\n",
    "a) Show that if $A$ and $B$ are matrices, then $e^{A+B} = e^Ae^B$. Use the definition of the matrix exponential as a series.\n",
    "\n",
    "b) Recall that for matrices $A$ and $B$ that it is not necessarily the case that $AB = BA$ (i.e. that $A$ and $B$ commute). Show that \n",
    "- (i) If $AB=BA$ then $e^Ae^B = e^Be^A$ using the definition of the matrix exponential as a series.\n",
    "- (ii) find an example of where $A$ and $B$ do not commute and show that $e^Ae^B \\neq e^Be^A$."
   ]
  },
  {
   "cell_type": "markdown",
   "metadata": {},
   "source": [
    "5. Tuning Eigenvalues\n",
    "---\n",
    "\n",
    "Consider the matrix\n",
    "\n",
    "$$\n",
    "A = \\begin{pmatrix}\n",
    "  k & -k \\\\\n",
    "  1 & k+1 \\\\\n",
    "\\end{pmatrix}\n",
    "$$\n",
    "\n",
    "and the system $\\dot x = A x$. Plot the real part of the eigenvalues of $A$ as a function of $k$, for $k$ ranging from -2 to 2. For what values of $k$ is the system stable? Plot example phase portraits for $A$ when $k$ is in the stable range showing the range of behaviors you can get from tuning $k$. \n",
    "\n",
    "Hint: Do this in `sympy`. Use `lambdify` to convert the eigenvalue real parts to functions so you can plot them. "
   ]
  },
  {
   "cell_type": "code",
   "execution_count": null,
   "metadata": {
    "collapsed": true
   },
   "outputs": [],
   "source": []
  }
 ],
 "metadata": {
  "kernelspec": {
   "display_name": "Python 3",
   "language": "python",
   "name": "python3"
  },
  "language_info": {
   "codemirror_mode": {
    "name": "ipython",
    "version": 3
   },
   "file_extension": ".py",
   "mimetype": "text/x-python",
   "name": "python",
   "nbconvert_exporter": "python",
   "pygments_lexer": "ipython3",
   "version": "3.6.1"
  }
 },
 "nbformat": 4,
 "nbformat_minor": 2
}
