{
 "cells": [
  {
   "cell_type": "markdown",
   "metadata": {},
   "source": [
    "Homework 8 : YOUR NAME HERE\n",
    "===\n",
    "\n",
    "Root Locus \n",
    "\n",
    "**<span style=\"color: darkgreen\">Due Sunday May 19 at 11:59pm</span>**\n",
    "\n",
    "**Instructions:** Make a copy of this notebook that you can edit and save. If you are using CoLab, that means clicking File>Save and then \"SAVE A COPY IN DRIVE\". Then, for each problem, insert your answers directly underneath the problem description as one or more `Code` or `Markdown` cells as appropriate. Every code cell should execute without errors. TAs and graders may not have resources to debug your code. When you are satisfied with your answers upload your notebook to canvas. "
   ]
  },
  {
   "cell_type": "markdown",
   "metadata": {
    "collapsed": true
   },
   "source": [
    "# 1. Full State Feedback\n",
    "\n",
    "For each of the following\n",
    "systems, (a) transform the system into state space and (b) design a\n",
    "full state feedback controller to place the system poles at $(-1 \\pm\n",
    "j)$, (c) find the closed loop transfer function of the system and (d)\n",
    "find the steady state error.\n",
    "\n",
    "- a) $\\frac{\\displaystyle s+1}{\\displaystyle s^2+5s+1}$\n",
    "- b) $\\frac{\\displaystyle s+2}{\\displaystyle  s^2+s}$\n"
   ]
  },
  {
   "cell_type": "markdown",
   "metadata": {},
   "source": [
    "# 2. Controllability and Observability\n",
    "\n",
    "Consider the following state space system.\n",
    "\n",
    "\\begin{align}\n",
    "\\dot x & = \\begin{pmatrix}\n",
    "0 & -1 \\\\\n",
    "-1 & 1\n",
    "\\end{pmatrix} x + \\begin{pmatrix}\n",
    "0 \\\\\n",
    "a\n",
    "\\end{pmatrix} u \\\\\n",
    "y & = \\begin{pmatrix}\n",
    "b+1 & b\n",
    "\\end{pmatrix} x\n",
    "\\end{align}\n",
    "\n",
    "- a) For what values of $a$ and $b$ is the system controllable?\n",
    "- b) For what values of $a$ and $b$ is the system observable?"
   ]
  },
  {
   "cell_type": "markdown",
   "metadata": {},
   "source": [
    "# Full State Feedback Design\n",
    "\n",
    "Consider the plant\n",
    "%\n",
    "$$\n",
    "G(s) = \\frac{s+1}{(s+2)(s+8)(s+10)}\n",
    "$$\n",
    "\n",
    "Suppose that the $G(s)$ above is the *model* of a system and that the actual system is\n",
    "\n",
    "$$\n",
    "\\widetilde G(s) = \\frac{s+.11}{(s+3.1)(s+7.5)(s+12)}.\n",
    "$$\n",
    "\n",
    "This problem will explore whether a controller and observer work, even though\n",
    "the model used to design them is somewhat off. The steps below\n",
    "outline approximately what to do, but you can go about this however\n",
    "you want to.\n",
    "\n",
    "\n",
    "- a) Find a convenient state space representation of model $G(s)$.\n",
    "- b) Using `place` design an observer for the system using your state space representation.\n",
    "- c) In Simulink, implement $\\widetilde G(s)$ with a transfer function block.\n",
    "- d) In Simulink, implement the observer with a state space block\n",
    "  that outputs $\\hat {\\bf x}$. Set the initial state of the block to\n",
    "  be something other than $0$. Note that you will have to mux $u$ and\n",
    "  $y$ into a vector valued wire to send into the observer. Use a step\n",
    "  input for $u$ and send $y$ from $G(s)$ to a scope block. Also, send\n",
    "  $\\hat {\\bf x}$ through a gain block that implements $C$ and send the\n",
    "  output of that to the same scope block. Make a plot showing $\\hat y$ and $y$. \n",
    "- e) In MATLAB, design a full state feedback controller for the\n",
    "  system that uses an integrator. Put the poles at $-1 \\pm j$, $-5$ and $-10$. \n",
    "- f) Copy your Simulink model from above into a new model (so you\n",
    "  don't loose your solution to parts (c) and (d)) and alter it by\n",
    "  adding a gain block for $K$, a $\\frac{1}{s}$ block for the\n",
    "  integrator, a step input for $r$ and the appropriate wires. Wire up\n",
    "  a scope block to show $y$ and $\\hat y$ and plot them.\n",
    "\n",
    "If you are clever, you can send the values of $y$ and $\\hat y$ to the\n",
    "MATLAB environment and plot them using the more flexible plot command. "
   ]
  },
  {
   "cell_type": "code",
   "execution_count": null,
   "metadata": {
    "collapsed": true
   },
   "outputs": [],
   "source": []
  }
 ],
 "metadata": {
  "kernelspec": {
   "display_name": "Python 3",
   "language": "python",
   "name": "python3"
  },
  "language_info": {
   "codemirror_mode": {
    "name": "ipython",
    "version": 3
   },
   "file_extension": ".py",
   "mimetype": "text/x-python",
   "name": "python",
   "nbconvert_exporter": "python",
   "pygments_lexer": "ipython3",
   "version": "3.6.1"
  },
  "latex_envs": {
   "LaTeX_envs_menu_present": true,
   "autoclose": false,
   "autocomplete": true,
   "bibliofile": "biblio.bib",
   "cite_by": "apalike",
   "current_citInitial": 1,
   "eqLabelWithNumbers": true,
   "eqNumInitial": 1,
   "hotkeys": {
    "equation": "Ctrl-E",
    "itemize": "Ctrl-I"
   },
   "labels_anchors": false,
   "latex_user_defs": false,
   "report_style_numbering": false,
   "user_envs_cfg": false
  }
 },
 "nbformat": 4,
 "nbformat_minor": 2
}
