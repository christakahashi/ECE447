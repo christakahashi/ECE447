{
 "cells": [
  {
   "cell_type": "markdown",
   "metadata": {},
   "source": [
    "Homework 8 : YOUR NAME HERE\n",
    "===\n",
    "\n",
    "Root Locus \n",
    "\n",
    "**<span style=\"color: darkgreen\">Due Sunday May 26 at 11:59pm</span>**\n"
   ]
  },
  {
   "cell_type": "markdown",
   "metadata": {
    "collapsed": true
   },
   "source": [
    "# 1. Full State Feedback\n",
    "\n",
    "For each of the following systems:\n",
    "\n",
    "- a) transform the system into state space using whatever form you like\n",
    "- b) design a full state feedback controller to place the system poles at $-1 \\pm\n",
    "j$\n",
    "- c) find the closed loop transfer function of the system\n",
    "- d) find the steady state error.\n",
    "\n",
    "System one: $\\frac{\\displaystyle s+1}{\\displaystyle s^2+5s+1}$\n",
    "\n",
    "System two: $\\frac{\\displaystyle s+2}{\\displaystyle  s^2+s}$\n"
   ]
  },
  {
   "cell_type": "markdown",
   "metadata": {},
   "source": [
    "# 2. Integrator\n",
    "\n",
    "System one above has a steady state error. Define a control system with full state feedback and an integrator that puts the closed loop poles at -5 and $-1 \\pm j$. Simulate the system response to a step input."
   ]
  },
  {
   "cell_type": "markdown",
   "metadata": {},
   "source": [
    "# 3. Controllability and Observability\n",
    "\n",
    "Consider the following state space system.\n",
    "\n",
    "\\begin{align}\n",
    "\\dot x & = \\begin{pmatrix}\n",
    "0 & -1 \\\\\n",
    "-1 & 1\n",
    "\\end{pmatrix} x + \\begin{pmatrix}\n",
    "0 \\\\\n",
    "a\n",
    "\\end{pmatrix} u \\\\\n",
    "y & = \\begin{pmatrix}\n",
    "b+1 & b\n",
    "\\end{pmatrix} x\n",
    "\\end{align}\n",
    "\n",
    "- a) For what values of $a$ and $b$ is the system controllable?\n",
    "- b) For what values of $a$ and $b$ is the system observable?\n",
    "\n",
    "Determine the above by using the controllability and observability matrices."
   ]
  },
  {
   "cell_type": "markdown",
   "metadata": {},
   "source": [
    "# 4. Full State Feedback and Observer Design\n",
    "\n",
    "Consider the plant\n",
    "\n",
    "$$\n",
    "G(s) = \\frac{s+1}{(s+a)(s+8)(s+10)}\n",
    "$$\n",
    "\n",
    "where $a = 1$. \n",
    "\n",
    "- a) Find a convenient state space representation of model $G(s)$.\n",
    "- b) Using `place` design a controller for the system that puts the poles at $-1$ and $-2 \\pm -2j$.\n",
    "- c) Using `place` design an observer with poles at -10, -11 and -12. \n",
    "- d) Simulate the closed loop system with the observer and the controller with a step input. Make sure to start the observer and plant with different states. Plot the states with the state estimates overlaid. \n",
    "- e) Find a state space representation of the closed loop system and show that its $A$ matrix has the six poles you placed."
   ]
  },
  {
   "cell_type": "code",
   "execution_count": null,
   "metadata": {
    "collapsed": true
   },
   "outputs": [],
   "source": []
  }
 ],
 "metadata": {
  "kernelspec": {
   "display_name": "Python 3",
   "language": "python",
   "name": "python3"
  },
  "language_info": {
   "codemirror_mode": {
    "name": "ipython",
    "version": 3
   },
   "file_extension": ".py",
   "mimetype": "text/x-python",
   "name": "python",
   "nbconvert_exporter": "python",
   "pygments_lexer": "ipython3",
   "version": "3.6.1"
  },
  "latex_envs": {
   "LaTeX_envs_menu_present": true,
   "autoclose": false,
   "autocomplete": true,
   "bibliofile": "biblio.bib",
   "cite_by": "apalike",
   "current_citInitial": 1,
   "eqLabelWithNumbers": true,
   "eqNumInitial": 1,
   "hotkeys": {
    "equation": "Ctrl-E",
    "itemize": "Ctrl-I"
   },
   "labels_anchors": false,
   "latex_user_defs": false,
   "report_style_numbering": false,
   "user_envs_cfg": false
  }
 },
 "nbformat": 4,
 "nbformat_minor": 2
}
