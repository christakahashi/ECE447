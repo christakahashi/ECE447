{
 "cells": [
  {
   "cell_type": "markdown",
   "metadata": {},
   "source": [
    "## Homework 2 : YOUR NAME HERE\n",
    "===\n",
    "\n",
    "Python and Cruise Control\n",
    "\n",
    "**<span style=\"color: darkgreen\">Due Sunday April 14 at 11:59pm</span>**\n",
    "\n",
    "**Instructions:** Make a copy of this notebook that you can edit and save. If you are using CoLab, that means clicking File>Save and then \"SAVE A COPY IN DRIVE\". Then, for each problem, insert your answers directly underneath the problem description as one or more `Code` or `Markdown` cells as appropriate. Every code cell should execute without errors. TAs and graders may not have resources to debug your code. When you are satisfied with your answers upload your notebook to canvas. "
   ]
  },
  {
   "cell_type": "markdown",
   "metadata": {},
   "source": [
    "**Relevant Reading**\n",
    "\n",
    "- Python Introduction [here](https://www.w3schools.com/python/python_intro.asp). Make a link to this page to use as a reference.\n",
    "- ECE447 Lecture on Cruise Control (April 8)"
   ]
  },
  {
   "cell_type": "markdown",
   "metadata": {},
   "source": [
    "1) Basic Python\n",
    "---\n",
    "\n",
    "**a)** Write a function called `approx_derivative` that approximates the derivative of a function. Its definition should look like:\n",
    "```python\n",
    "def approx_derivative(f,a,h):\n",
    "    # Your code here\n",
    "```\n",
    "Use the [definition of the derivative](https://en.wikipedia.org/wiki/Derivative) (see the section titled \"Rigorous definition\") at $a$ as the slope of $f(a)$ near $a$, except without the limit. Show the results of testing your function to compute approximations of the derivative of `np.sin` at `a=0` with `h = 1, 0.1, 0.01, 0.001`. The approximations should get closer and closer to 1. "
   ]
  },
  {
   "cell_type": "markdown",
   "metadata": {},
   "source": [
    "**b)** Write a function called `approx_integral` that approximates the integral of a function. Its definition should look like:\n",
    "```python\n",
    "def approx_integral(f,x1,x2,delta):\n",
    "    # Your code here\n",
    "```\n",
    "and should use the approximation to the definite integral as a sum of the areas of rectangles with base ranging from `x` to `x+delta` and height `f(x)` as x goes from `x1` to `x2` in steps of size `delta`. Show the results of testing your function to compute approximations of the integral of `np.sin` from `0` to $\\pi$ with `delta = 1, 0.1, 0.01, 0.001`. The approximations should get closer and closer to 2. "
   ]
  },
  {
   "cell_type": "markdown",
   "metadata": {},
   "source": [
    "2) Plotting\n",
    "---\n",
    "\n",
    "**a)** Make a 2x2 grid plot of the following functions:\n",
    "\n",
    "- $y = -t$ \n",
    "- $y = 1 - e^{-t}$ \n",
    "- $y = 1 - t e^{-t}$ \n",
    "- $y = 1 - e^{-t} \\sin(5t)$ \n",
    "\n",
    "Let $t$ range from $0$ to $10$. Label each x axis by $t$ and y axis with $y$. "
   ]
  },
  {
   "cell_type": "markdown",
   "metadata": {},
   "source": [
    "**b)** Make a *single* plot of the functions\n",
    "\n",
    "> $y = 1 - e^{-\\omega t} \\sin(\\omega t)$ \n",
    "\n",
    "as $\\omega$ goes from $0$ to $1$ (inclusive) in steps of $0.25$. Put all five curves on top of each other. Label your axes and make a legend with curves labeled by, for example, $\\omega$ = 0.25, etc."
   ]
  },
  {
   "cell_type": "markdown",
   "metadata": {
    "collapsed": true
   },
   "source": [
    "3) Sensitivity \n",
    "---\n",
    "\n",
    "Consder the cruise control model below, which is similar to the one in lecture, except that we have renamed the parameters and kept $m$ in the equations explicitly:\n",
    "\n",
    "> $\\dot v = \\frac{1}{m} u - \\frac{k_f}{m} v$\n",
    "\n",
    "**a)** Find an open loop control law (a constant) for $u$ that makes the steady state velocity $v_{ss}$ equal to a desired velocity $v_{des}$. \n",
    "\n",
    "**b)** Recall that $m$ is an estimate. Find $v_{ss}$ in terms of $m_{est}$ and $m_{actual}$ and explain what happens to $v_{ss}$ upon a 10% change in $m$. Plot $v_{ss}$ as a function of $m_{actual}$ as $m_{actual}$ goes from\n",
    "\n",
    "> $0.9 m_{est}$ \n",
    "\n",
    "to \n",
    "\n",
    "> $1.1 m_{est}$.\n",
    "\n",
    "Assume $m_{est} = 1000$ kg and $k_f = 50$. *Label and title your plot!*.\n",
    "\n",
    "**c)** Find a proportional controller for $u$ that makes the steady state velocity $v_{ss}$ equal to a desired velocity $v_{des}$.\n",
    "\n",
    "**d)** Find the steady state velocity $v_{ss}$ in terms of $m_{est}$, $m_{actual}$, and $K_P$. Explain what happens to $v_{ss}$ when $K_P$ increases and what happens as it goes to infinity."
   ]
  },
  {
   "cell_type": "code",
   "execution_count": null,
   "metadata": {
    "collapsed": true
   },
   "outputs": [],
   "source": []
  }
 ],
 "metadata": {
  "kernelspec": {
   "display_name": "Python 3",
   "language": "python",
   "name": "python3"
  },
  "language_info": {
   "codemirror_mode": {
    "name": "ipython",
    "version": 3
   },
   "file_extension": ".py",
   "mimetype": "text/x-python",
   "name": "python",
   "nbconvert_exporter": "python",
   "pygments_lexer": "ipython3",
   "version": "3.6.1"
  }
 },
 "nbformat": 4,
 "nbformat_minor": 2
}
