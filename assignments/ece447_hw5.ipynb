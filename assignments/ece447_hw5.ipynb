{
 "cells": [
  {
   "cell_type": "markdown",
   "metadata": {},
   "source": [
    "Homework 5 : YOUR NAME HERE\n",
    "===\n",
    "\n",
    "Phase Portraits, expoententials, and solutions\n",
    "\n",
    "**<span style=\"color: darkgreen\">Due Sunday May 5 at 11:59pm</span>**\n",
    "\n",
    "**Instructions:** Make a copy of this notebook that you can edit and save. If you are using CoLab, that means clicking File>Save and then \"SAVE A COPY IN DRIVE\". Then, for each problem, insert your answers directly underneath the problem description as one or more `Code` or `Markdown` cells as appropriate. Every code cell should execute without errors. TAs and graders may not have resources to debug your code. When you are satisfied with your answers upload your notebook to canvas. "
   ]
  },
  {
   "cell_type": "markdown",
   "metadata": {},
   "source": [
    "**Relevant Reading**\n",
    "\n",
    "- Read Chapters 5 and 7.\n",
    "- Converting a transfer function into state space is covered in Section 5.7. The book uses what are called Signal Flow Graphs\", which I am avoiding. But you might find the book's discussion of these (which starts in Chapter 5) interesting.\n",
    "- Sensitivity is covered in Section 7.7.\n",
    "- The use of the final value theorem to analyze disturbances is covered in Section 7.5."
   ]
  },
  {
   "cell_type": "markdown",
   "metadata": {},
   "source": [
    "All of the problems this week have to do with the following system\n",
    "\n",
    "\\begin{align}\n",
    "\\dot x_1 & = x_2(x_1+a) \\\\\n",
    "\\dot x_2 & = u + \\sin x_1 - a x_2 \\\\\n",
    "y & = x_1\n",
    "\\end{align}\n",
    "\n",
    "where $a \\approx 2$."
   ]
  },
  {
   "cell_type": "markdown",
   "metadata": {
    "collapsed": true
   },
   "source": [
    "1. Linearization\n",
    "---\n",
    "\n",
    "Find a linear state space model of the system assuming ${\\bf x} = 0$\n",
    "and $u=0$. Is the system stable when $u=0$? Find the transfer function\n",
    "corresponding to the state space model. Call this $G(s)$. This is the\n",
    "plant for this homework."
   ]
  },
  {
   "cell_type": "markdown",
   "metadata": {},
   "source": [
    "2. Interconnections\n",
    "---\n",
    "\n",
    "Consider a controller of the form $G_c = K_p + K_D s$ (this is called\n",
    "*proportional-derivative* or PD control). Assume the following interconnection:\n",
    "\n",
    "<img width=55% src=\"https://raw.githubusercontent.com/klavins/ECE447/master/images/hw5-fig.png\">\n",
    "\n",
    "Find the closed-loop transfer function $T(s) = Y(s)/R(s)$ (assuming\n",
    "$D(s) = 0$ and $N(s) = 0$). Also find a state space model ($A$, $B$\n",
    "and $C$ matrices) for the closed-loop system."
   ]
  },
  {
   "cell_type": "markdown",
   "metadata": {},
   "source": [
    "3. Steady State Error\n",
    "---\n",
    "\n",
    "In terms of $K_p$ and $K_d$, find the steady state error of the\n",
    "closed-loop system $T(s)$ when $R(s)$ is \n",
    "\n",
    "- (a) a unit impulse and \n",
    "- (b) a unit step input.\n",
    "\n",
    "How should the gains $K_p$ and $K_d$ be chosen to\n",
    "ensure that both of these errors are minimized?"
   ]
  },
  {
   "cell_type": "markdown",
   "metadata": {},
   "source": [
    "4. Choosing Gains\n",
    "---\n",
    "\n",
    "Assuming the nominal value for $a$, find a relationship between $K_p$\n",
    "and $K_d$ that ensures that the poles of $T(s)$ are both negative and\n",
    "equal. Assuming $K_p = 5$, what value of $K_d$ makes both poles equal?"
   ]
  },
  {
   "cell_type": "markdown",
   "metadata": {},
   "source": [
    "5. Sensitivity\n",
    "---\n",
    "\n",
    "Find the sensitivities $S^G_a$. Plot the magnitudes of these\n",
    "sensitivities for $s=j \\omega$ as a function of $\\omega$. For what\n",
    "values of $\\omega$ is the sensitivities less than $0.5$? Repeat the\n",
    "question for $S^T_a$ using the values for $K_p$ and $K_d$ you found in\n",
    "problem (4). How does changing the gains affect the sensitivity?"
   ]
  },
  {
   "cell_type": "markdown",
   "metadata": {},
   "source": [
    "6. Disturbances and Noise\n",
    "---\n",
    "\n",
    "Let $R(s)=0$, $N(s)=0$ and $D(s) = d/s$ is a step disturbance of\n",
    "magnitude $d$. What is the effect of $d$ on the steady state error? Do\n",
    "the same thing assuming $R(s)=0$, $N(s)=n/s$ and $D(s)=0$."
   ]
  },
  {
   "cell_type": "markdown",
   "metadata": {},
   "source": [
    "7. Simulation\n",
    "---\n",
    "\n",
    "Generate the following plots of the closed\n",
    "loop system using the the gains found in problem (4) and assuming a\n",
    "unit step input. \n",
    "- (a) The response when $N(s) = D(s) = 0$ and $a=2$. \n",
    "- (b) The response when $N(s)=1/s$, $D(s)=0$ and $a=2$.\n",
    "- (c) The response when $N(s)=0$, $D(s)=0.1/s$ and $a=2$.\n",
    "- (d) The response when $N(s) = D(s) = 0$ and $a$ is 50\\% greater\n",
    "than their nominal values.\n",
    "\n",
    "Do the simulations agree with your analysis in the previous problems?\n",
    "What do the simulations tell you that you analysis does not?"
   ]
  }
 ],
 "metadata": {
  "kernelspec": {
   "display_name": "Python 3",
   "language": "python",
   "name": "python3"
  },
  "language_info": {
   "codemirror_mode": {
    "name": "ipython",
    "version": 3
   },
   "file_extension": ".py",
   "mimetype": "text/x-python",
   "name": "python",
   "nbconvert_exporter": "python",
   "pygments_lexer": "ipython3",
   "version": "3.6.1"
  },
  "latex_envs": {
   "LaTeX_envs_menu_present": true,
   "autoclose": false,
   "autocomplete": true,
   "bibliofile": "biblio.bib",
   "cite_by": "apalike",
   "current_citInitial": 1,
   "eqLabelWithNumbers": true,
   "eqNumInitial": 1,
   "hotkeys": {
    "equation": "Ctrl-E",
    "itemize": "Ctrl-I"
   },
   "labels_anchors": false,
   "latex_user_defs": false,
   "report_style_numbering": false,
   "user_envs_cfg": false
  }
 },
 "nbformat": 4,
 "nbformat_minor": 2
}
