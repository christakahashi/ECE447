{
 "cells": [
  {
   "cell_type": "markdown",
   "metadata": {},
   "source": [
    "Homework 5 : YOUR NAME HERE\n",
    "===\n",
    "\n",
    "Phase Portraits, expoententials, and solutions\n",
    "\n",
    "**<span style=\"color: darkgreen\">Due Sunday April 28 at 11:59pm</span>**\n",
    "\n",
    "**Instructions:** Make a copy of this notebook that you can edit and save. If you are using CoLab, that means clicking File>Save and then \"SAVE A COPY IN DRIVE\". Then, for each problem, insert your answers directly underneath the problem description as one or more `Code` or `Markdown` cells as appropriate. Every code cell should execute without errors. TAs and graders may not have resources to debug your code. When you are satisfied with your answers upload your notebook to canvas. "
   ]
  },
  {
   "cell_type": "markdown",
   "metadata": {},
   "source": [
    "**Relevant Reading**\n",
    "\n",
    "- Read Chapters 5 and 7.\n",
    "- Converting a transfer function into state space is covered in Section 5.7. The book uses what are called Signal Flow Graphs\", which I am avoiding. But you might find the book's discussion of these (which starts in Chapter 5) interesting.\n",
    "- Sensitivity is covered in Section 7.7.\n",
    "- The use of the final value theorem to analyze disturbances is covered in Section 7.5."
   ]
  },
  {
   "cell_type": "markdown",
   "metadata": {},
   "source": [
    "All of the problems this week have to do with the following system\n",
    "\n",
    "\\begin{align}\n",
    "\\dot x_1 & = x_2(x_1+a) \\\\\n",
    "\\dot x_2 & = u + \\sin x_1 - a x_2 \\\\\n",
    "y & = x_1\n",
    "\\end{align}\n",
    "\n",
    "where $a \\approx 2$."
   ]
  },
  {
   "cell_type": "markdown",
   "metadata": {
    "collapsed": true
   },
   "source": [
    "1. Linearization\n",
    "---\n",
    "\n",
    "Find a linear state space model of the system assuming ${\\bf x} = 0$\n",
    "and $u=0$. Is the system stable when $u=0$? Find the transfer function\n",
    "corresponding to the state space model. Call this $G(s)$. This is the\n",
    "plant for this homework."
   ]
  },
  {
   "cell_type": "markdown",
   "metadata": {},
   "source": [
    "2. Interconnections\n",
    "---\n",
    "\n",
    "Consider a controller of the form $G_c = K_p + K_D s$ (this is called\n",
    "*proportional-derivative* or PD control). Assume the following interconnection:\n",
    "\n"
   ]
  },
  {
   "cell_type": "markdown",
   "metadata": {},
   "source": [
    "3. Submarine Example\n",
    "---\n",
    "\n",
    "Do Nise Ch 3, problem 24.\n",
    "\n",
    "(Note: In the sixth edition, this problem is a Diabetes model. You can do that instead if you have that edition and already got started on this)."
   ]
  },
  {
   "cell_type": "markdown",
   "metadata": {},
   "source": [
    "4. Endocrine system\n",
    "---\n",
    "\n",
    "Do Nise Ch 3, problem 25."
   ]
  },
  {
   "cell_type": "markdown",
   "metadata": {},
   "source": [
    "5. Representations\n",
    "---\n",
    "\n",
    "Do Nise Ch 3, problem 28. Use `sympy`."
   ]
  },
  {
   "cell_type": "markdown",
   "metadata": {},
   "source": [
    "6. Control of HIV/AIDS\n",
    "---\n",
    "\n",
    "Do Nise Ch 3, problem 31"
   ]
  },
  {
   "cell_type": "markdown",
   "metadata": {},
   "source": [
    "7. Final Value Theorem\n",
    "---\n",
    "\n",
    "Using the system defined in Nise Ch 4, problem 10, find the final value of the system given a step input. Calculate this two different ways: (a) By solving for the final value directly in state space. (b) By finding the system's transfer function and computing the final value using the frequency domain method. Ok to use `sympy`. Refer to the \"Transfer Functions\" Python notebook."
   ]
  },
  {
   "cell_type": "code",
   "execution_count": null,
   "metadata": {
    "collapsed": true
   },
   "outputs": [],
   "source": []
  }
 ],
 "metadata": {
  "kernelspec": {
   "display_name": "Python 3",
   "language": "python",
   "name": "python3"
  },
  "language_info": {
   "codemirror_mode": {
    "name": "ipython",
    "version": 3
   },
   "file_extension": ".py",
   "mimetype": "text/x-python",
   "name": "python",
   "nbconvert_exporter": "python",
   "pygments_lexer": "ipython3",
   "version": "3.6.1"
  },
  "latex_envs": {
   "LaTeX_envs_menu_present": true,
   "autoclose": false,
   "autocomplete": true,
   "bibliofile": "biblio.bib",
   "cite_by": "apalike",
   "current_citInitial": 1,
   "eqLabelWithNumbers": true,
   "eqNumInitial": 1,
   "hotkeys": {
    "equation": "Ctrl-E",
    "itemize": "Ctrl-I"
   },
   "labels_anchors": false,
   "latex_user_defs": false,
   "report_style_numbering": false,
   "user_envs_cfg": false
  }
 },
 "nbformat": 4,
 "nbformat_minor": 2
}
