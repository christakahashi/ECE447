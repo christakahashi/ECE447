{
 "cells": [
  {
   "cell_type": "markdown",
   "metadata": {},
   "source": [
    "Homework 6 : YOUR NAME HERE\n",
    "===\n",
    "\n",
    "Steady State Error oand Performance\n",
    "\n",
    "**<span style=\"color: darkgreen\">Due Sunday May 5 at 11:59pm</span>**\n",
    "\n",
    "**Instructions:** Make a copy of this notebook that you can edit and save. If you are using CoLab, that means clicking File>Save and then \"SAVE A COPY IN DRIVE\". Then, for each problem, insert your answers directly underneath the problem description as one or more `Code` or `Markdown` cells as appropriate. Every code cell should execute without errors. TAs and graders may not have resources to debug your code. When you are satisfied with your answers upload your notebook to canvas. "
   ]
  },
  {
   "cell_type": "markdown",
   "metadata": {},
   "source": [
    "**Relevant Reading**\n",
    "\n",
    "Read up on steady state error and performance in Nise for more background."
   ]
  },
  {
   "cell_type": "markdown",
   "metadata": {
    "collapsed": true
   },
   "source": [
    "# 1. Performance with a zero\n",
    "\n",
    "Show that any transfer function $G(s)$ with two complex poles ard one zero can be written in the form\n",
    "\n",
    "$$\n",
    "s T(s) + a T(s)\n",
    "$$\n",
    "\n",
    "where $T(s)$ is the archetypal 2nd order system discussed in the notes on Second Order systems.\n",
    "\n",
    "a) Using the time response of $T(s)$ and its derivative, write down\n",
    "  the time response of $G(s)$.\n",
    "\n",
    "b) Determine a state space representation of $G(s)$ using the same\n",
    "  $A$ matrix we used in Lecture 9a.  Show that the two representations\n",
    "  are equivalent (note: this subproblem is just a curiosity and does\n",
    "  not help with the next two parts).\n",
    "\n",
    "c) Find expressions for the peak time and percent overshoot for\n",
    "  $G(s)$ given a step input.  Compare these to the peak time and\n",
    "  percent overshoot for $T(s)$.\n",
    "\n",
    "d) Plot the step response of the transfer function\n",
    "$$\n",
    "\\frac{s+2}{s^2+s+1}\n",
    "$$\n",
    "and plot the response of $T(s)$ on the same axis and point out the\n",
    "differences predicted by your analysis.\n"
   ]
  },
  {
   "cell_type": "markdown",
   "metadata": {},
   "source": [
    "# 2. Controller Design\n",
    "\n",
    "Consider the transfer function \n",
    "\n",
    "$$\n",
    "G(s) = \\frac{10}{s+1}.\n",
    "$$\n",
    "\n",
    "Find a negative feedback controller with at least two tunable gains\n",
    "that (1) results in zero steady state error (and show why it works);\n",
    "(2) Gives a settling time of 4 seconds; (3) has 10% overshoot. Use\n",
    "the standard 2nd order approximation. Plot the step response of the\n",
    "system and compare the standard approximation with the plot."
   ]
  },
  {
   "cell_type": "markdown",
   "metadata": {},
   "source": [
    "# 3. Sensitivity Revisited\n",
    "\n",
    "Determine a formula for the\n",
    "sensitivity of the percent overshoot of the controlled system to each\n",
    "of the gains in your controller for problem (2). To which gain is the\n",
    "system more sensitive? Repeat for the sensitivity of the settling\n",
    "time. Plot these sensitivities as surfaces (i.e. plot\n",
    "the sensitivity as a function of your two gains)."
   ]
  },
  {
   "cell_type": "code",
   "execution_count": null,
   "metadata": {
    "collapsed": true
   },
   "outputs": [],
   "source": []
  }
 ],
 "metadata": {
  "kernelspec": {
   "display_name": "Python 3",
   "language": "python",
   "name": "python3"
  },
  "language_info": {
   "codemirror_mode": {
    "name": "ipython",
    "version": 3
   },
   "file_extension": ".py",
   "mimetype": "text/x-python",
   "name": "python",
   "nbconvert_exporter": "python",
   "pygments_lexer": "ipython3",
   "version": "3.6.1"
  },
  "latex_envs": {
   "LaTeX_envs_menu_present": true,
   "autoclose": false,
   "autocomplete": true,
   "bibliofile": "biblio.bib",
   "cite_by": "apalike",
   "current_citInitial": 1,
   "eqLabelWithNumbers": true,
   "eqNumInitial": 1,
   "hotkeys": {
    "equation": "Ctrl-E",
    "itemize": "Ctrl-I"
   },
   "labels_anchors": false,
   "latex_user_defs": false,
   "report_style_numbering": false,
   "user_envs_cfg": false
  }
 },
 "nbformat": 4,
 "nbformat_minor": 2
}
