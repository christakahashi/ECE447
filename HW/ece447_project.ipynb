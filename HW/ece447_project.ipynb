{
  "nbformat": 4,
  "nbformat_minor": 0,
  "metadata": {
    "kernelspec": {
      "display_name": "Python 3",
      "language": "python",
      "name": "python3"
    },
    "language_info": {
      "codemirror_mode": {
        "name": "ipython",
        "version": 3
      },
      "file_extension": ".py",
      "mimetype": "text/x-python",
      "name": "python",
      "nbconvert_exporter": "python",
      "pygments_lexer": "ipython3",
      "version": "3.6.1"
    },
    "latex_envs": {
      "LaTeX_envs_menu_present": true,
      "autoclose": false,
      "autocomplete": true,
      "bibliofile": "biblio.bib",
      "cite_by": "apalike",
      "current_citInitial": 1,
      "eqLabelWithNumbers": true,
      "eqNumInitial": 1,
      "hotkeys": {
        "equation": "Ctrl-E",
        "itemize": "Ctrl-I"
      },
      "labels_anchors": false,
      "latex_user_defs": false,
      "report_style_numbering": false,
      "user_envs_cfg": false
    },
    "colab": {
      "name": "ece447_project.ipynb",
      "provenance": [],
      "collapsed_sections": [],
      "include_colab_link": true
    }
  },
  "cells": [
    {
      "cell_type": "markdown",
      "metadata": {
        "id": "view-in-github",
        "colab_type": "text"
      },
      "source": [
        "<a href=\"https://colab.research.google.com/github/christakahashi/ECE447/blob/master/HW/ece447_project.ipynb\" target=\"_parent\"><img src=\"https://colab.research.google.com/assets/colab-badge.svg\" alt=\"Open In Colab\"/></a>"
      ]
    },
    {
      "cell_type": "markdown",
      "metadata": {
        "id": "2Y8GAy5gCKYt",
        "colab_type": "text"
      },
      "source": [
        "# EE 447 Project   \n",
        "Spring 2020 (rev 1.0)\n",
        "\n",
        "\n",
        " **Due June xx at 11:59pm**\n"
      ]
    },
    {
      "cell_type": "markdown",
      "metadata": {
        "collapsed": true,
        "id": "4LmiK0XKCKYu",
        "colab_type": "text"
      },
      "source": [
        "# Overview\n",
        "\n",
        "For this project, you will design several control systems for an electric self-ballancing scooter. You will use root\n",
        "locus, full state feedback. To validate the approach, you will\n",
        "simulate the complete system with the nonlinear model. You will also determine how well your controller works in\n",
        "a discretized setting. Finally, you will assess the performance and\n",
        "robustness to disturbances and noise in your system.\n",
        "\n",
        "You should turn your project in as an executable Python notebook that runs\n",
        "in Google colab and a PDF similar with the following formatting rules:\n",
        "\n",
        "1. Your notebook should have a title, your name, the name of the course, and the date prominently displayed at the top.\n",
        "1. Each below should be contained in a new section, with a large markdown heading of the form\n",
        "```\n",
        "# Task n: Title\n",
        "```\n",
        "followed by a short paragraph restating the goal of the task. \n",
        "1. Each task should include a *textual* description, including equations, of how you accomplished the task.  Please write in proper English will full sentences and paragraphs.  The standard here is higher than the homework and should **not** be in a question/answer format.\n",
        "1. All code blocks should be included detailed comments. Extraneous cells that you used\n",
        "for testing or side calculations should be deleted. \n",
        "1. Use figures wherever you can. You must\n",
        "    - Label your axes.\n",
        "    - Title your plots.\n",
        "    - Label individual curves with legends when there are more than one curve per plot.\n",
        "    - Overlay plots to make comparisons where applicable.\n",
        "    - Use subplots to arrange related plots into a grid.\n",
        "    - Adjust axes limits where appropriate to show the correct detail.\n",
        "1. Over all your submission should read like a report with embedded code and a bit more structure as defined above.  The key thing to strive for is clarity!  And always explain what and why even if the task doesn't explicitly ask for it. \n",
        "\n",
        "## Grading\n",
        "\n",
        "The project will be graded as a whole.  However, it will be split into two assignments.  The first assignment will be part A and will be due first.  The second assignment will be part A+B and will be due during finals week.  \n",
        "\n",
        "The quality of A should be that of a final product and basic revisions will not be looked at when A+B is turned in.  The only exception is for major mistakes, which you will have to make obvious at first glance.  If there is enough time to complete the grading, fixes for major mistakes will be considered and applied to the final grading of the project.  Simply put, try and get part A right the first time as there is no guarantee revisions can be considered.  \n",
        "\n",
        "The project will be graded as a whole but part A will be worth roughly XXX points.  That is, if you turned in a perfect part A and no part B you could expect XXX points.  \n",
        "\n",
        "## optional components:\n",
        "\n",
        "Optional portions of the project are worth additional points at the instruction team's discretion.  \n"
      ]
    },
    {
      "cell_type": "markdown",
      "metadata": {
        "id": "uyGE-x8xCKYx",
        "colab_type": "text"
      },
      "source": [
        "# The System\n",
        "\n",
        "Suppose you're building a self-balancing  scooter.  A model for such a scooter is defined by the following equations:\n",
        "\n",
        "\\begin{align}\n",
        "(M+m)\\ddot p - m\\ell\\cos(\\theta)\\ddot\\theta +c\\dot p+m\\ell\\dot\\theta^2\\sin(\\theta)&=\\tau R \\\\\n",
        "-m\\ell \\cos(\\theta)\\ddot p + (J+m\\ell^2)\\ddot\\theta+\\gamma\\dot\\theta-mg\\ell\\sin(\\theta)&= 0\n",
        "\\end{align}\n",
        "Where $p$ is the position of the scooter; $\\theta$ is the angle of the rider (with upright being $\\theta=0$);$M$ is the mass of the scooter; $m$ , $J$ , and $\\ell$ the rider's mass, moment-of-inertia, and leg length (~half of rider height); $c$ and $\\gamma$ are coefficients of friction, $R$ is the radius of the wheels, and $g$ is the acceleration due to gravity. \n",
        "\n",
        "The scooter has the following parameters:\n",
        "\n",
        "|variable|value|\n",
        "|:------:|-----|\n",
        "|$M$ | 40 kg   |\n",
        "|$R$ | 0.25 m  |\n",
        "|$g$ | 9.81 m/s$^2$ |\n",
        "|$c$ | 0.7 |\n",
        "|$\\gamma$ | 0.2 | \n",
        "\n",
        "The following are the average rider's (a child) parameters:\n",
        "\n",
        "|variable|value|\n",
        "|:------:|-----|\n",
        "|$m$   | 30 kg |\n",
        "|$\\ell$ | 0.75 m |\n",
        "|$J$ | $\\ell^2m$|\n",
        "\n",
        "\n",
        "The scooter has the following features:\n",
        "\n",
        "- It is controlled by a lever control that reports the desired velocity in m/s\n",
        "- It is fitted with a speedometer that reports in m/s\n",
        "- An off-the-shelf motor controller that controls the motor torque ($\\tau$) in newton meters."
      ]
    },
    {
      "cell_type": "markdown",
      "metadata": {
        "id": "lvBrLeUm-lbm",
        "colab_type": "text"
      },
      "source": [
        "# PART A"
      ]
    },
    {
      "cell_type": "markdown",
      "metadata": {
        "id": "1fkFQ0YOzJkj",
        "colab_type": "text"
      },
      "source": [
        "##Task 1: Description \n",
        "\n",
        "Describe the system.  Explain what the inputs and outputs and states are and include an illustration showing the states:\n",
        "\\begin{align}\n",
        "x_1 &= \\dot p\\\\\n",
        "x_2 &= \\theta\\\\\n",
        "x_3 &= \\dot \\theta.\n",
        "\\end{align}\n",
        "Also include a block diagram of the system.\n"
      ]
    },
    {
      "cell_type": "markdown",
      "metadata": {
        "id": "LVzi3sIPCKY1",
        "colab_type": "text"
      },
      "source": [
        "## Task 2: Performance Specification\n",
        "\n",
        "People in vehicles generally do not like excessive acceleration (or [jerk](https://en.wikipedia.org/wiki/Jerk), but we'll ignore jerk for this project).  Suppose the maximum comfortable acceleration  is 2 m/s$^2$ and the maximum designed speed is 10 m/s.  People also do not like their velocity to oscillate.\n",
        "\n",
        "Translate the above into a performance specification.  Include at least a specification for rise time of the output $y$ and a specification for overshoot.  \n"
      ]
    },
    {
      "cell_type": "markdown",
      "metadata": {
        "id": "Tiat1ejDCKY2",
        "colab_type": "text"
      },
      "source": [
        "## Task 3: Linearization & Analysis\n",
        "\n",
        "To control this system using the methods in this course, you need to\n",
        "obtain a linear model around the desired equilibrium point.\n",
        "\n",
        "Begin by rewriting the model as a first order ODE in the from\n",
        "$$\\begin{pmatrix}\n",
        "\\dot x_1 \\\\\n",
        "\\dot x_2 \\\\\n",
        "\\dot x_3\n",
        "\\end{pmatrix} = \\begin{pmatrix}\n",
        "f_1(x_1,x_2,x_3,\\tau) \\\\\n",
        "f_2(x_1,x_2,x_3,\\tau) \\\\\n",
        "f_3(x_1,x_2,x_3,\\tau)\n",
        "\\end{pmatrix}\n",
        "$$\n",
        "\n",
        "\n",
        "Pick an equilbrium point $(x_1^*,x_2^*,x_3^*,\\tau^*)$ and justify your choice of equilibrium based on the physical system's use. \n",
        "Linearize the model of your system around this point to obtain a model of the form\n",
        "\n",
        "\\begin{eqnarray*}\n",
        "\\dot { x}  & = & A { x}  + B u \\\\\n",
        "y  & = & C { x} \n",
        "\\end{eqnarray*}\n",
        "\n",
        "Determine the poles of the\n",
        "system and discuss its natural (uncontrolled) behavior. Finally,\n",
        "obtain a transfer function of the system. \n",
        "\n",
        "Note: If performing the linearization without the aid of computer algebra you may assume the rider is close to upright at all times (which is quite reasonable) and replace the sin and cos with it's [small angle approximation](https://en.wikipedia.org/wiki/Small-angle_approximation).  This effectively  does part of the linearization beforehand and does not change the result but will make manual computation easier. "
      ]
    },
    {
      "cell_type": "markdown",
      "metadata": {
        "id": "yYgKnRT8H1Of",
        "colab_type": "text"
      },
      "source": [
        "# Part B"
      ]
    },
    {
      "cell_type": "markdown",
      "metadata": {
        "id": "gI21CO7FCKY3",
        "colab_type": "text"
      },
      "source": [
        "## Task 4: Root Locus Design\n",
        "\n",
        "a) Plot the root locus of the system. Design a compensator\n",
        "using root locus methods that achieves your performance\n",
        "specification. Plot the root locus of the controlled system as\n",
        "well.\n",
        "\n",
        "b) What is the gain margin?  That is, for you given controller $KG_c(s)$ what is the approximate maximum (or supremum) value that $\\tilde K>1$ can take and keep $$T(s) = \\frac{\\tilde K KG_cG}{1+\\tilde K KG_cG}$$\n",
        "stable.  Put yet another way, by what factor can you increase the gain on your controller and maintain stability. \n",
        "\n",
        "c) Plot the impulse response of the system using the\n",
        "linear model *and* the nonlinear model. Discuss the differences between the two responses."
      ]
    },
    {
      "cell_type": "markdown",
      "metadata": {
        "id": "T0nedlWuCKY8",
        "colab_type": "text"
      },
      "source": [
        "## Task 5:  Disturbances and Noise\n",
        "\n",
        "a) Occasionally, the scooter may encounter a hill, wind or other exogenous force. Determine a model of this kind of disturbance, and\n",
        "discuss its effect on the root locus controlled system.\n",
        "\n",
        "b) Over time the scooter's tires may wear or go flat.  Discuss the sensitivity of the system to changes in the tire's radius $R$ for your Root locus designed system.  Note that for some analysis sensitivity $S^f_R$ for some $f$ may be informative (such as in the sensitivity notes) and sometimes just examining how other metrics change with $R$ is informative (such as in the mag lev example).  Pick what you feel is justified.\n",
        "\n",
        "optional: repeat the above after designing the fullstate feedback + observer controller (after task 7).  Label this Task 7.5."
      ]
    },
    {
      "cell_type": "markdown",
      "metadata": {
        "id": "v-0JqQ7NCKY9",
        "colab_type": "text"
      },
      "source": [
        "## Task 6: Full State Feedback\n",
        "\n",
        "Determine whether the system is controllable. If it is, design a full state feedback controller to obtain the desired performance. Plot the impulse response of the controlled system\n",
        "with the linear model and the nonlinear model.  You may scale the impulse imput up or down if you feel it doesn't give a good characterization. \n",
        "\n",
        "You may use either pole placement or LQR (if we end up covering it in time).  If you pick pole placement make sure to explain your choice of poles.  If you pick LQR explain your method for picking weights even if it's just guess-and-check, where did you start and how did you adjust them to get what you wanted.  \n",
        "\n"
      ]
    },
    {
      "cell_type": "markdown",
      "metadata": {
        "id": "BoT80qsiCKY-",
        "colab_type": "text"
      },
      "source": [
        "## Task 7: Observer Design\n",
        "\n",
        "a) While angle and angular velocity sensors exist, they do cost money.  Rather than paying for additional sensors, determine whether the system is observable (it is). If it is,\n",
        "design an observer for the system. Explain your choice of observer gains.\n",
        "\n",
        "b) Using your full state controller and the observer, plot the impulse response using the\n",
        "linear and the nonlinear model.  "
      ]
    },
    {
      "cell_type": "markdown",
      "metadata": {
        "id": "r4b7OLMyCKY_",
        "colab_type": "text"
      },
      "source": [
        "## Task 8: Discretization\n",
        "\n",
        "Derive a discrete model of one of your controlled systems (either the root locus version, the full state feedback version, or the full state feedback with observer version).  Plot the magnitude of the eigenvalues of the closed loop system versus the sampling period. Determine maximum sampling period you can use with your controller that keeps the system stable."
      ]
    },
    {
      "cell_type": "markdown",
      "metadata": {
        "id": "ymnEtiluCKZB",
        "colab_type": "text"
      },
      "source": [
        "## Task 9: Realism (optional)\n",
        "\n",
        "Our model is not perfect.  For one thing we're using an average child rider for parameters in our model.  How do any or all of your systems perform with larger or smaller riders?\n",
        "\n",
        "What other things are unrealistic or uncertain?  How does this effect the system?  What if there's a delay in your speed measurement?\n",
        "\n",
        "Answer as much of the above as you wish and include any other analysis you think is pertenant."
      ]
    },
    {
      "cell_type": "markdown",
      "metadata": {
        "id": "XkqSC9GoI_gw",
        "colab_type": "text"
      },
      "source": [
        "#DOCUMENT CHANGE LOG:\n",
        "\n",
        "Incase any errors are caught and corrected this section will contain the change log\n",
        "\n",
        "5/20 2am: version - \"draft\": Released draft assignment.  \n",
        "5/20 8pm: 1.0 - fixed into.  Clarified sensitivity task."
      ]
    }
  ]
}