{
  "nbformat": 4,
  "nbformat_minor": 0,
  "metadata": {
    "kernelspec": {
      "display_name": "Python 3",
      "language": "python",
      "name": "python3"
    },
    "language_info": {
      "codemirror_mode": {
        "name": "ipython",
        "version": 3
      },
      "file_extension": ".py",
      "mimetype": "text/x-python",
      "name": "python",
      "nbconvert_exporter": "python",
      "pygments_lexer": "ipython3",
      "version": "3.6.1"
    },
    "colab": {
      "name": "ece447_hw1.ipynb",
      "provenance": []
    }
  },
  "cells": [
    {
      "cell_type": "markdown",
      "metadata": {
        "id": "PtSz2SR8x3ZT",
        "colab_type": "text"
      },
      "source": [
        "Homework 2 \n",
        "===\n",
        "Jupyter notebooks; Control System Definitions.\n",
        "\n",
        "**Due Sunday April 10 at 11:59pm**\n",
        "\n",
        "**Instructions:** Make a copy of this notebook that you can edit and save. If you are using CoLab, that means clicking File>Save and then \"SAVE A COPY IN DRIVE\". Then, for each problem, insert your answers directly underneath the problem description as one or more `Code` or `Markdown` cells as appropriate. Every code cell should execute without errors. TAs and graders may not have resources to debug your code. When you are satisfied with your answers, save your notebook with with the title `ee447_hw1_yourlastname_yourfirstname.ipynb` and upload it to canvas. "
      ]
    },
    {
      "cell_type": "markdown",
      "metadata": {
        "id": "DGakabg7x3ZW",
        "colab_type": "text"
      },
      "source": [
        "**Relevant Reading and tools**\n",
        "\n",
        "- Nise, Chapter 1. You can skim the section on MATLAB since we are using Python.\n",
        "- You can find the first edition of Nise here: https://archive.org/details/controlsystemsen0000nise  It may not match the organization of the 7th edition but problems taken from nise will be referenced for the first and 7th edition.\n",
        "- Note that these problems require you to draw a diagram. One option for drawing is [Google Drawing](https://docs.google.com/drawings/). Once you make your diagram, save it to your Google drive and then choose \"File > Publish to the web...\". This will give you a link that you can use with the `![](url)` Markdown notation to embed the image in your Jupyter notebook."
      ]
    },
    {
      "cell_type": "markdown",
      "metadata": {
        "collapsed": true,
        "id": "3e92zqR7x3Zb",
        "colab_type": "text"
      },
      "source": [
        "## 1) Motorcycle automatic volume control (10pt)\n",
        "\n",
        "Do problem 4 Nise 7e Chapter 1 (aka problem 7 nise 1e)\n",
        "\n",
        "------\n",
        "\n"
      ]
    },
    {
      "cell_type": "markdown",
      "metadata": {
        "id": "wOjABgMf9DrM",
        "colab_type": "text"
      },
      "source": [
        "## 2) Controlling an Electronic Discharge Machine (EDM) (10pt)\n",
        "An EDM uses an electrical discharge(8) between an electrode (9) and the work piece(2) to cut metal.  The gap must be precisely controlled.  If the gap is too large no current will not flow.  If the gap is too short the electrode and work pice will short circuit.  \n",
        "\n",
        "Make the simplifying assumption that the electrode current is proportional to the gap size.  Draw a closed-loop black diagram for the EDM process, showing the input, output and electrode position.\n",
        "\n",
        "<img src=https://upload.wikimedia.org/wikipedia/commons/c/c9/EDM_scheme.png width=65% />\n",
        "\n",
        "edm figure taken from wikipedia.  Original work by frank50 s\n",
        "\n",
        "---"
      ]
    },
    {
      "cell_type": "markdown",
      "metadata": {
        "id": "_6UV77pJCcPG",
        "colab_type": "text"
      },
      "source": [
        "3) Basic Python (20pt)\n",
        "---\n",
        "\n",
        "**a)** Write a function called `approx_derivative` that approximates the derivative of a function. Its definition should look like:\n",
        "```python\n",
        "def approx_derivative(f,a,h):\n",
        "    # Your code here\n",
        "```\n",
        "Use the [definition of the derivative](https://en.wikipedia.org/wiki/Derivative) (see the section titled \"[Rigorous definition](https://en.wikipedia.org/wiki/Derivative#Rigorous_definition)\") at $a$ as the slope of $f(a)$ near $a$, except without the limit. Show the results of testing your function to compute approximations of the derivative of `np.sin` at `a=0` with `h = 1, 0.1, 0.01, 0.001`. The approximations should get closer and closer to 1. \n",
        "\n",
        "-----"
      ]
    },
    {
      "cell_type": "markdown",
      "metadata": {
        "id": "E1RGUUEZCcPK",
        "colab_type": "text"
      },
      "source": [
        "**b)** Write a function called `approx_integral` that approximates the integral of a function. Its definition should look like:\n",
        "```python\n",
        "def approx_integral(f,x1,x2,delta):\n",
        "    # Your code here\n",
        "```\n",
        "and should use the approximation to the definite integral as a sum of the areas of rectangles with base ranging from `x` to `x+delta` and height `f(x)` as x goes from `x1` to `x2` in steps of size `delta`. Show the results of testing your function to compute approximations of the integral of `np.sin` from `0` to $\\pi$ with `delta = 1, 0.1, 0.01, 0.001`. The approximations should get closer and closer to 2. \n",
        "\n",
        "----"
      ]
    },
    {
      "cell_type": "markdown",
      "metadata": {
        "id": "RKeSRQ6yCcPO",
        "colab_type": "text"
      },
      "source": [
        "4) Plotting (20pt)\n",
        "---\n",
        "\n",
        "**a)** Make a 2x2 grid plot (see `subplot` from `matplotlib.pyplot`) of the following functions:\n",
        "\n",
        "- $y = -t$ \n",
        "- $y = 1 - e^{-t}$ \n",
        "- $y = 1 - t e^{-t}$ \n",
        "- $y = 1 - e^{-t} \\sin(5t)$ \n",
        "\n",
        "Let $t$ range from $0$ to $10$. Label each x axis by $t$ and y axis with $y$. \n",
        "\n",
        "----"
      ]
    },
    {
      "cell_type": "markdown",
      "metadata": {
        "id": "KWhLfzrtCcPQ",
        "colab_type": "text"
      },
      "source": [
        "**b)** Make a *single* plot of the functions\n",
        "\n",
        "> $y = 1 - e^{-\\omega t} \\sin(\\omega t)$ \n",
        "\n",
        "as $\\omega$ goes from $0$ to $1$ (inclusive) in steps of $0.25$. Put all five curves on top of each other. Label your axes and make a legend with curves labeled by, for example, $\\omega$ = 0.25, etc.\n",
        "\n",
        "---"
      ]
    },
    {
      "cell_type": "markdown",
      "metadata": {
        "collapsed": true,
        "id": "9mkYM02wCcPR",
        "colab_type": "text"
      },
      "source": [
        "5) Sensitivity (30pt)\n",
        "---\n",
        "\n",
        "Consder the system \n",
        "\n",
        "> $\\dot x = -x+ku$\n",
        "\n",
        "where $k$ is an unknown parameter with estimate $\\hat k$ and actual value $k$. \n",
        "\n",
        "**a)** Find an open loop control law (a constant) for $u$ that makes the steady state  $x_{ss}$ equal to a desired state $r$.\n",
        "\n",
        "**b)** Find $x_{ss}$ in terms of $\\hat k$ and $k$ and explain what happens to $x_{ss}$ upon a 10% change in $k$. Plot $x_{ss}$ as a function of $k$ as $\\hat k$ goes from\n",
        "\n",
        "> $0.9 \\hat k$ \n",
        "\n",
        "to \n",
        "\n",
        "> $1.1 \\hat k$.\n",
        "\n",
        "Assume $\\hat k = 10$. *Label and title your plot!*.\n",
        "\n",
        "**c)** Find a proportional controller for $u$ that makes the steady state $x_{ss}$ equal to a desired state $x_{des}$.\n",
        "\n",
        "**d)** Find the steady state velocity $x_{ss}$ in terms of $\\hat k$, $k$, and $K_P$. Explain what happens to $x_{ss}$ when $K_P$ increases and what happens as it goes to infinity. \n",
        "\n",
        "**e)** Suppose $r = 1$ and $\\hat k = 10$ and $k = 9$. Find a value for $K_P$, call it $K_P^*$, that makes $|x_{ss} - x_{des}| < 0.01$. Make a plot of $x_{ss}$ as $K_P$ varies from $0$ to $K_P^*$.  "
      ]
    },
    {
      "cell_type": "markdown",
      "metadata": {
        "id": "diA2h1nvh99z",
        "colab_type": "text"
      },
      "source": [
        "## 6) eigenvalues/vectors (10pts)\n",
        "\n",
        "Compute the correspoinding eigenvalues and vectors for the following $A$ matrix.  Do not use computational tools.  Show enough work to prove you know how to do it by hand.  Answers may be left in terms of whole numbers and square roots.\n",
        "\n",
        "$$ A = \\left(\n",
        "\\begin{array}{cc}\n",
        " 1 & -1 \\\\\n",
        " -2 & 1 \\\\\n",
        "\\end{array}\n",
        "\\right) $$"
      ]
    }
  ]
}