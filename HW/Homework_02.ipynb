{
  "nbformat": 4,
  "nbformat_minor": 0,
  "metadata": {
    "kernelspec": {
      "display_name": "Python 3",
      "language": "python",
      "name": "python3"
    },
    "language_info": {
      "codemirror_mode": {
        "name": "ipython",
        "version": 3
      },
      "file_extension": ".py",
      "mimetype": "text/x-python",
      "name": "python",
      "nbconvert_exporter": "python",
      "pygments_lexer": "ipython3",
      "version": "3.6.1"
    },
    "colab": {
      "name": "ece447_hw1.ipynb",
      "provenance": []
    }
  },
  "cells": [
    {
      "cell_type": "markdown",
      "metadata": {
        "id": "PtSz2SR8x3ZT",
        "colab_type": "text"
      },
      "source": [
        "Homework 1\n",
        "===\n",
        "Jupyter notebooks; Control System Definitions.\n",
        "\n",
        "**<span style=\"color: darkgreen\">Due Sunday April 7 at 11:59pm</span>**\n",
        "\n",
        "**Instructions:** Make a copy of this notebook that you can edit and save. If you are using CoLab, that means clicking File>Save and then \"SAVE A COPY IN DRIVE\". Then, for each problem, insert your answers directly underneath the problem description as one or more `Code` or `Markdown` cells as appropriate. Every code cell should execute without errors. TAs and graders may not have resources to debug your code. When you are satisfied with your answers, save your notebook with with the title `ee447_hw1_yourlastname_yourfirstname.ipynb` and upload it to canvas. "
      ]
    },
    {
      "cell_type": "markdown",
      "metadata": {
        "id": "DGakabg7x3ZW",
        "colab_type": "text"
      },
      "source": [
        "**Relevant Reading**\n",
        "\n",
        "- Nise, Chapter 1. You can skim the section on MATLAB since we are using Python.\n",
        "- The [Markdown Cheatsheet](https://github.com/adam-p/markdown-here/wiki/Markdown-Cheatsheet)\n",
        "- The [Latex Equation Cheetsheet](http://tug.ctan.org/info/undergradmath/undergradmath.pdf)"
      ]
    },
    {
      "cell_type": "markdown",
      "metadata": {
        "id": "BmilurfEx3ZY",
        "colab_type": "text"
      },
      "source": [
        "1) Formatting Markdown Cells and Equations in Jupyter\n",
        "---\n",
        "\n",
        "Your solutions to problems in this course will often require you to enter in equations and formatted text. To begin to learn to do this, translate the paragraph starting \"Kirchhoff's and ...\" on page 16 of **Nise** into a Markdown cell using Latex Equations to represent the equation. Note the paragraph goes through the word \"subject\". Do not worry about the blue box or the equation number (1.2)."
      ]
    },
    {
      "cell_type": "markdown",
      "metadata": {
        "id": "mFNf-Pyxx3ZZ",
        "colab_type": "text"
      },
      "source": [
        "2) Identifying Feedback Control Systems\n",
        "---\n",
        "\n",
        "Describe two different feedback control systems in your everyday life. Refer to figure 1.5 in Nise. Format your answer nicely in Markdown so that we can easily grade it.\n",
        "- Describe the process or plant. What are its inputs and what are its outputs?\n",
        "- What is the goal of the feedback system?\n",
        "- How is the controller implemented (electronically, with a microcontroller, etc)?\n",
        "- What are potential disturbances to the plant that the controller must account for?\n",
        "- What are potential sources of noise in the sensor? \n",
        "- What is the reference input, if any, supplied by the user?\n",
        "- What do you suppose are the most important performance requirements for the system (speed, robustness, disturbance rejection, cost)?"
      ]
    },
    {
      "cell_type": "markdown",
      "metadata": {
        "collapsed": true,
        "id": "3e92zqR7x3Zb",
        "colab_type": "text"
      },
      "source": [
        "3) Do problem 4, 5, 6, 7, or 8 in Nise chapter 1. \n",
        "---\n",
        "\n",
        "Note that these problems require you to draw a diagram. One option for drawing is [Google Drawing](https://docs.google.com/drawings/). Once you make your diagram, save it to your Google drive and then choose \"File > Publish to the web...\". This will give you a link that you can use with the `![](url)` Markdown notation to embed the image in your Jupyter notebook."
      ]
    }
  ]
}