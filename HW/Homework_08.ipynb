{
  "nbformat": 4,
  "nbformat_minor": 0,
  "metadata": {
    "kernelspec": {
      "display_name": "Python 3",
      "language": "python",
      "name": "python3"
    },
    "language_info": {
      "codemirror_mode": {
        "name": "ipython",
        "version": 3
      },
      "file_extension": ".py",
      "mimetype": "text/x-python",
      "name": "python",
      "nbconvert_exporter": "python",
      "pygments_lexer": "ipython3",
      "version": "3.6.1"
    },
    "latex_envs": {
      "LaTeX_envs_menu_present": true,
      "autoclose": false,
      "autocomplete": true,
      "bibliofile": "biblio.bib",
      "cite_by": "apalike",
      "current_citInitial": 1,
      "eqLabelWithNumbers": true,
      "eqNumInitial": 1,
      "hotkeys": {
        "equation": "Ctrl-E",
        "itemize": "Ctrl-I"
      },
      "labels_anchors": false,
      "latex_user_defs": false,
      "report_style_numbering": false,
      "user_envs_cfg": false
    },
    "colab": {
      "name": "ece447_hw8.ipynb",
      "provenance": [],
      "collapsed_sections": [],
      "include_colab_link": true
    }
  },
  "cells": [
    {
      "cell_type": "markdown",
      "metadata": {
        "id": "view-in-github",
        "colab_type": "text"
      },
      "source": [
        "<a href=\"https://colab.research.google.com/github/christakahashi/ECE447/blob/master/HW/Homework_08.ipynb\" target=\"_parent\"><img src=\"https://colab.research.google.com/assets/colab-badge.svg\" alt=\"Open In Colab\"/></a>"
      ]
    },
    {
      "cell_type": "markdown",
      "metadata": {
        "id": "4FBDg3RldbAV",
        "colab_type": "text"
      },
      "source": [
        "Homework 8 : YOUR NAME HERE\n",
        "===\n",
        "\n",
        "**<span style=\"color: darkgreen\">Due Friday May 29 at 11:59pm</span>**\n",
        "\n",
        "Relevant reading: Nise Ch12.1 12.2 12.3 12.5 12.6 12.8\n"
      ]
    },
    {
      "cell_type": "markdown",
      "metadata": {
        "id": "2kbwuMZXiyuR",
        "colab_type": "text"
      },
      "source": [
        "# 0. Dominant Poles (12pts)\n",
        "For system\n",
        "$$\n",
        "G(s)=2a\\frac{s+1}{(s+a)(s^2+2s+2)},\n",
        "$$\n",
        "- a) What are the poles? (2pts)\n",
        "- b) What is the steady state output response to a unit step? (2pts)\n",
        "- c) Co-plot (i.e. all 4 plots on the same axes) the step response of the above system for $a=\\{\\frac{1}{2},2,10\\}$ as well as the step response of \n",
        "$$ G_2(s) = \\frac{2}{s^2+2s+2}$$\n",
        "(8pts)\n",
        "\n",
        "Tip: Some lines may completely overlap so you may want to make one of them dashed.  You can do so in matplot lib as follows:\n",
        "\n",
        "```Python\n",
        "plt.plot(x,y,'--',legend=\"a dashed line\")\n",
        "plt.plot(x,y,':',legend=\"a doted line\")\n",
        "```\n",
        "\n",
        "Tip: you may find the [control package's](https://python-control.readthedocs.io/en/0.8.3/generated/control.step_response.html) `step_response` function useful."
      ]
    },
    {
      "cell_type": "markdown",
      "metadata": {
        "collapsed": true,
        "id": "4GL3ZB0odbAY",
        "colab_type": "text"
      },
      "source": [
        "# 1. Full State Feedback\n",
        "\n",
        "For each of the following systems:  (You may use symbolic algebra tools but you may not use the control tool box functions like 'place'.)\n",
        "\n",
        "- a) transform the system into state space using whatever form you like\n",
        "- b) design a full state feedback controller to place the system poles at $-1 \\pm\n",
        "j$\n",
        "- c) find the closed loop transfer function of the system\n",
        "- d) find the steady state error from a unit step input.\n",
        "\n",
        "System one: $\\frac{\\displaystyle s+1}{\\displaystyle s^2+5s+1}$\n",
        "\n",
        "System two: $\\frac{\\displaystyle s+2}{\\displaystyle  s^2+s}$\n"
      ]
    },
    {
      "cell_type": "markdown",
      "metadata": {
        "id": "O_fZvzqtdbAa",
        "colab_type": "text"
      },
      "source": [
        "# 2. Integrator\n",
        "\n",
        "System one above has a steady state error. Define a control system with full state feedback and an integrator that puts the closed loop poles at -10 and $-1 \\pm j$. Simulate the system response to a step input."
      ]
    },
    {
      "cell_type": "markdown",
      "metadata": {
        "id": "Vieo8OqudbAb",
        "colab_type": "text"
      },
      "source": [
        "# 3. Controllability and Observability\n",
        "\n",
        "Consider the following state space system.\n",
        "\n",
        "\\begin{align}\n",
        "\\dot x & = \\begin{pmatrix}\n",
        "0 & -1 \\\\\n",
        "-1 & 1\n",
        "\\end{pmatrix} x + \\begin{pmatrix}\n",
        "0 \\\\\n",
        "a\n",
        "\\end{pmatrix} u \\\\\n",
        "y & = \\begin{pmatrix}\n",
        "b+1 & b\n",
        "\\end{pmatrix} x\n",
        "\\end{align}\n",
        "\n",
        "- a) For what values of $a$ and $b$ is the system controllable?\n",
        "- b) For what values of $a$ and $b$ is the system observable?\n",
        "\n",
        "Determine the above by using the controllability and observability matrices."
      ]
    },
    {
      "cell_type": "markdown",
      "metadata": {
        "id": "s3KZWr_6dbAd",
        "colab_type": "text"
      },
      "source": [
        "# 4. Full State Feedback and Observer Design\n",
        "\n",
        "Consider the plant\n",
        "\n",
        "$$\n",
        "G(s) = \\frac{s+1}{(s+a)(s+8)(s+10)}\n",
        "$$\n",
        "\n",
        "where $a = 1$. \n",
        "\n",
        "- a) Find a convenient state space representation of model $G(s)$.\n",
        "- b) Using `place` design a controller for the system that puts the poles at $-1$ and $-2 \\pm -2j$.\n",
        "- c) Using `place` design an observer with poles at -10, -11 and -12. \n",
        "- d) Simulate the closed loop system with the observer and the controller with a step input. Make sure to start the observer and plant with different states. Plot the states with the state estimates overlaid. \n",
        "- e) Find a state space representation of the closed loop system and show that its $A$ matrix has the six poles you placed."
      ]
    }
  ]
}