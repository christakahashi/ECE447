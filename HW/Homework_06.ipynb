{
  "nbformat": 4,
  "nbformat_minor": 0,
  "metadata": {
    "kernelspec": {
      "display_name": "Python 3",
      "language": "python",
      "name": "python3"
    },
    "language_info": {
      "codemirror_mode": {
        "name": "ipython",
        "version": 3
      },
      "file_extension": ".py",
      "mimetype": "text/x-python",
      "name": "python",
      "nbconvert_exporter": "python",
      "pygments_lexer": "ipython3",
      "version": "3.6.1"
    },
    "latex_envs": {
      "LaTeX_envs_menu_present": true,
      "autoclose": false,
      "autocomplete": true,
      "bibliofile": "biblio.bib",
      "cite_by": "apalike",
      "current_citInitial": 1,
      "eqLabelWithNumbers": true,
      "eqNumInitial": 1,
      "hotkeys": {
        "equation": "Ctrl-E",
        "itemize": "Ctrl-I"
      },
      "labels_anchors": false,
      "latex_user_defs": false,
      "report_style_numbering": false,
      "user_envs_cfg": false
    },
    "colab": {
      "name": "ece447_hw6.ipynb",
      "provenance": [],
      "include_colab_link": true
    }
  },
  "cells": [
    {
      "cell_type": "markdown",
      "metadata": {
        "id": "view-in-github",
        "colab_type": "text"
      },
      "source": [
        "<a href=\"https://colab.research.google.com/github/christakahashi/ECE447/blob/master/HW/Homework_06.ipynb\" target=\"_parent\"><img src=\"https://colab.research.google.com/assets/colab-badge.svg\" alt=\"Open In Colab\"/></a>"
      ]
    },
    {
      "cell_type": "markdown",
      "metadata": {
        "id": "mrUM7zy8NMIi",
        "colab_type": "text"
      },
      "source": [
        "## Homework 6 : YOUR NAME HERE\n",
        "===\n",
        "\n",
        "**<span style=\"color: darkgreen\">Due Sunday May 8 at 11:59pm</span>**\n",
        "\n",
        "**Instructions:** Make a copy of this notebook that you can edit and save. If you are using CoLab, that means clicking File>Save and then \"SAVE A COPY IN DRIVE\". Then, for each problem, insert your answers directly underneath the problem description as one or more `Code` or `Markdown` cells as appropriate. Every code cell should execute without errors. TAs and graders may not have resources to debug your code. When you are satisfied with your answers upload your notebook to canvas. "
      ]
    },
    {
      "cell_type": "markdown",
      "metadata": {
        "id": "HQ5LpwIENMIl",
        "colab_type": "text"
      },
      "source": [
        "**Relevant Reading**\n",
        "\n",
        "Read up on steady state error and performance in Nise for more background."
      ]
    },
    {
      "cell_type": "markdown",
      "metadata": {
        "id": "WKna1S9PPNTY",
        "colab_type": "text"
      },
      "source": [
        "## 1. Linearity of systems with multiple inputs\n",
        "In the last assignment we took for granted that we could analyze the systems response from $R$ to $Y$, $N$ to $Y$ and $D$ to $Y$ separately.\n",
        "\n",
        "For the standard system show in the disturbance/noise notes (reproduced below), Show that the systems output due to $R$ $N$, and $D$ together is equal to the sum of the three input/output transfer functions multiplied by their respective their inputs.  i.e. show that $Y$ in terms of $R$, $N$, and $D$ is equal to $\\frac{Y}{R}R+\\frac{Y}{D}D+\\frac{Y}{N}N$.\n",
        "\n",
        "<img width=57.5% src=\"https://github.com/christakahashi/ECE447/blob/master/images/blocks-with-dist-and-noise.png?raw=1\">\n"
      ]
    },
    {
      "cell_type": "markdown",
      "metadata": {
        "collapsed": true,
        "id": "NS0FMV6WNMIm",
        "colab_type": "text"
      },
      "source": [
        "# 1. Performance with a zero\n",
        "\n",
        "Show that any transfer function $G(s)$ with two complex poles ard one zero can be written in the form\n",
        "\n",
        "$$\n",
        "s T(s) + a T(s)\n",
        "$$\n",
        "\n",
        "where $T(s)$ is the archetypal 2nd order system discussed in the notes on Second Order systems.\n",
        "\n",
        "a) Using the step response of $T(s)$ and its derivative, write down\n",
        "  the step response of $G(s)$.\n",
        "\n",
        "b) Determine a state space representation of $G(s)$ using the same\n",
        "  $A$ matrix we used in the notebook second order systems (May 6) -- see the definition of Tcheck\n",
        "  in the Step Response section.\n",
        "  Show that your state representation\n",
        "  gives you the right transfer function (note: this subproblem is just a curiosity and does\n",
        "  not help with the next two parts).\n",
        "\n",
        "c) Find expressions for the peak time and percent overshoot for\n",
        "  $G(s)$ given a step input.  Compare these to the peak time and\n",
        "  percent overshoot for $T(s)$.\n",
        "\n",
        "d) Plot the step response of the transfer function\n",
        "$$\n",
        "\\frac{s+2}{s^2+s+1}\n",
        "$$\n",
        "and plot the response of $T(s)$ on the same axis and point out the\n",
        "differences predicted by your analysis.\n"
      ]
    },
    {
      "cell_type": "markdown",
      "metadata": {
        "id": "uLGOJkukNMIo",
        "colab_type": "text"
      },
      "source": [
        "# 2. Controller Design\n",
        "\n",
        "Consider the transfer function \n",
        "\n",
        "$$\n",
        "G(s) = \\frac{10}{s+1}.\n",
        "$$\n",
        "\n",
        "Find a negative feedback controller with at least two tunable gains\n",
        "that (1) results in zero steady state error when the input is a unit step (1/s). (and show why it works);\n",
        "(2) Gives a settling time of 4 seconds; (3) has 10% overshoot. Use\n",
        "the standard 2nd order approximation. Plot the step response of the\n",
        "system and compare the standard approximation with the plot."
      ]
    },
    {
      "cell_type": "markdown",
      "metadata": {
        "id": "y5xhfxxHNMIr",
        "colab_type": "text"
      },
      "source": [
        "# 3. Sensitivity Revisited\n",
        "\n",
        "In many systems overshoot can cause critical failure.  For example temperature overshoot may cause a component to fail, position overshoot may cause objects to collide, etc. \n",
        "\n",
        "\n",
        "Determine a formula for the\n",
        "sensitivity of the percent overshoot of the controlled system to each\n",
        "of the gains in your controller for problem (2). To which gain is the\n",
        "system more sensitive? Repeat for the sensitivity of the settling\n",
        "time. Plot these sensitivities in two plots. First, plot the sensitivity of P.O. to \n",
        "gain one. Overlay several plots of that sensitivity, each one for a different value of gain two. \n",
        "Second, make a similar plot of the sensitivity of P.O. to gain two."
      ]
    },
    {
      "cell_type": "code",
      "metadata": {
        "id": "V_jFhVytNMIt",
        "colab_type": "code",
        "colab": {}
      },
      "source": [
        ""
      ],
      "execution_count": 0,
      "outputs": []
    }
  ]
}