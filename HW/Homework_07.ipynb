{
  "nbformat": 4,
  "nbformat_minor": 0,
  "metadata": {
    "kernelspec": {
      "display_name": "Python 3",
      "language": "python",
      "name": "python3"
    },
    "language_info": {
      "codemirror_mode": {
        "name": "ipython",
        "version": 3
      },
      "file_extension": ".py",
      "mimetype": "text/x-python",
      "name": "python",
      "nbconvert_exporter": "python",
      "pygments_lexer": "ipython3",
      "version": "3.6.1"
    },
    "latex_envs": {
      "LaTeX_envs_menu_present": true,
      "autoclose": false,
      "autocomplete": true,
      "bibliofile": "biblio.bib",
      "cite_by": "apalike",
      "current_citInitial": 1,
      "eqLabelWithNumbers": true,
      "eqNumInitial": 1,
      "hotkeys": {
        "equation": "Ctrl-E",
        "itemize": "Ctrl-I"
      },
      "labels_anchors": false,
      "latex_user_defs": false,
      "report_style_numbering": false,
      "user_envs_cfg": false
    },
    "colab": {
      "name": "ece447_hw7.ipynb",
      "provenance": [],
      "include_colab_link": true
    }
  },
  "cells": [
    {
      "cell_type": "markdown",
      "metadata": {
        "id": "view-in-github",
        "colab_type": "text"
      },
      "source": [
        "<a href=\"https://colab.research.google.com/github/christakahashi/ECE447/blob/master/HW/Homework_07.ipynb\" target=\"_parent\"><img src=\"https://colab.research.google.com/assets/colab-badge.svg\" alt=\"Open In Colab\"/></a>"
      ]
    },
    {
      "cell_type": "markdown",
      "metadata": {
        "id": "l2wLIQK0dqvJ",
        "colab_type": "text"
      },
      "source": [
        "Homework 7 : YOUR NAME HERE\n",
        "===\n",
        "\n",
        "Root Locus \n",
        "\n",
        "**<span style=\"color: darkgreen\">Due Sunday May 19 at 11:59pm</span>**\n",
        "\n",
        "**Instructions:** Make a copy of this notebook that you can edit and save. If you are using CoLab, that means clicking File>Save and then \"SAVE A COPY IN DRIVE\". Then, for each problem, insert your answers directly underneath the problem description as one or more `Code` or `Markdown` cells as appropriate. Every code cell should execute without errors. TAs and graders may not have resources to debug your code. When you are satisfied with your answers upload your notebook to canvas. "
      ]
    },
    {
      "cell_type": "markdown",
      "metadata": {
        "id": "ekhHMOKHdqvM",
        "colab_type": "text"
      },
      "source": [
        "**Relevant Reading**\n",
        "\n",
        "Read up on steady state error and performance in Nise for more background."
      ]
    },
    {
      "cell_type": "markdown",
      "metadata": {
        "collapsed": true,
        "id": "QgV_ZF1mdqvO",
        "colab_type": "text"
      },
      "source": [
        "# 1. Root Locus\n",
        "\n",
        "For each of the following plants, plot the root locus of the system\n",
        "obtained using no compensator. Determine the values of: imaginary axis\n",
        "crossings, points at which complex-conjugate pairs join on the real\n",
        "axis, and asymptotes (intercept and angle) for zeros and infinity.\n",
        "\n",
        "- $K G(s) = \\frac{K(s+1)}{(s+2)(s+3)}$\n",
        "- $K G(s) = \\frac{K(s^2+1)}{(s+3)(s^2+s+1)}$\n",
        "- $K G(s) = \\frac{K}{(s+1)(s+2)(s^2+1)}$\n"
      ]
    },
    {
      "cell_type": "markdown",
      "metadata": {
        "id": "xDkhMz2tdqvP",
        "colab_type": "text"
      },
      "source": [
        "# 2. Controller Design\n",
        "\n",
        "For each of the following plants $G$, design a compensator $G_c$ so that the closed\n",
        "loop system $K G_c G / ( 1 + K G_c G)$ has two dominant poles near $-2 \\pm i$.\n",
        "Plot a root locus plot for the system before adding the compensator and another plot for after.\n",
        "Use the simplest $G_c$ that you can find.\n",
        "Determine the gain $K$ that will achieve the desired poles.\n",
        "\n",
        "- $G = \\frac{s+1}{s+2}$\n",
        "- $G = \\frac{2}{( s^2+1 ) (s+2) }$\n",
        "- $G = \\frac{s+1}{( s-1 ) ( s+2 )}$\n"
      ]
    },
    {
      "cell_type": "markdown",
      "metadata": {
        "id": "dhthBtxvdqvS",
        "colab_type": "text"
      },
      "source": [
        "# 3. Control of a Ducted Fan Wing\n",
        "\n",
        "Check out [this video](https://www.youtube.com/watch?v=ZFb5kFpgCm4) of a ducted fan. \n",
        "\n",
        "The transfer function for the pitch subsystem is\n",
        "\n",
        "$$\n",
        "G(s) = \\frac{\\theta(s)}{\\tau(s)} = \\frac{r}{J s^2 + bs + mgl}\n",
        "$$\n",
        "\n",
        "where $\\theta(s)$ is the pitch and $\\tau(s)$ is the input torque. The\n",
        "values of the constants were measured and found to be $g = 9.81\n",
        "\\;m/s^2$, $m=1.5 \\; kg$, $b = 0.05 kg/s$, $l = 0.05 m$, $J = 0.0475 kg\n",
        "m^2$ and $r = 0.25 m$.\n",
        "\n",
        "Recall that a PID controller has the form\n",
        "\n",
        "$$\n",
        "G_C(s) = \\frac{K(s-z_1)(s-z_2)}{s}\n",
        "$$\n",
        "\n",
        "Find positions for the zeros and a value for $K$ so that the step response has a settling time of $0.1$ seconds and an overshoot of 10%. Plot the root locus for your system and show indicate where value of $K$ you used is.\n",
        "\n",
        "Find the sensitivity of the percent overshoot in the closed loop system to changes in $b$. Make a plot of percent overshoot vs $b$ where $b$ goes from 50% of the value given above to 150% of the value given above.\n",
        "\n"
      ]
    },
    {
      "cell_type": "code",
      "metadata": {
        "id": "pTy35q-kdqvT",
        "colab_type": "code",
        "colab": {}
      },
      "source": [
        ""
      ],
      "execution_count": 0,
      "outputs": []
    }
  ]
}